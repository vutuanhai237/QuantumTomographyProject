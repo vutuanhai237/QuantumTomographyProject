{
 "cells": [
  {
   "cell_type": "code",
   "execution_count": 4,
   "metadata": {},
   "outputs": [],
   "source": [
    "import qiskit\n",
    "import numpy as np\n",
    "import matplotlib.pyplot as plt\n",
    "import qtm.base_qtm, qtm.constant, qtm.qtm_nqubit, qtm.qtm_1qubit"
   ]
  },
  {
   "cell_type": "code",
   "execution_count": 5,
   "metadata": {},
   "outputs": [],
   "source": [
    "num_qubits = 3\n",
    "thetas = np.random.uniform(low = 0, high = 2*np.pi, size = 2**(num_qubits + 1) - 2)\n",
    "theta = np.pi*3/4"
   ]
  },
  {
   "cell_type": "code",
   "execution_count": 6,
   "metadata": {},
   "outputs": [
    {
     "name": "stderr",
     "output_type": "stream",
     "text": [
      "Step: 100%|██████████| 200/200 [03:26<00:00,  1.03s/it]\n"
     ]
    }
   ],
   "source": [
    "def u_arbitrary_nqubit(qc, thetas):\n",
    "    qc.rx(thetas[0], 0)\n",
    "    qc.ry(thetas[1], 0)\n",
    "    qc.rx(thetas[2], 1)\n",
    "    qc.ry(thetas[3], 1)\n",
    "    qc.rx(thetas[4], 2)\n",
    "    qc.ry(thetas[5], 2)\n",
    "    qc.rxx(thetas[6], 1, 2)\n",
    "    qc.rzx(thetas[7], 1, 2)\n",
    "    qc.rxx(thetas[8], 0, 1)\n",
    "    qc.rzx(thetas[9], 0, 1)\n",
    "    qc.rxx(thetas[10], 1, 2)\n",
    "    qc.rzx(thetas[11], 1, 2)\n",
    "    qc.rxx(thetas[12], 0, 1)\n",
    "    qc.rzx(thetas[13], 0, 1)\n",
    "    return qc\n",
    "qc = qiskit.QuantumCircuit(n_qubits, n_qubits)\n",
    "qc = qtm.qtm_nqubit.create_ghz_state(qc, theta)\n",
    "# Reduce loss value in 100 steps\n",
    "thetas, loss_values = qtm.base_qtm.fit(\n",
    "    qc, num_steps = 200, thetas = thetas, \n",
    "    create_circuit_func = u_arbitrary_nqubit, \n",
    "    grad_func = qtm.base_qtm.grad_l,\n",
    "    loss_func = qtm.base_qtm.loss_basis,\n",
    "    verbose = 1\n",
    ")"
   ]
  },
  {
   "cell_type": "code",
   "execution_count": 7,
   "metadata": {},
   "outputs": [
    {
     "data": {
      "image/png": "[encoded data removed]",
      "text/plain": [
       "<Figure size 432x288 with 1 Axes>"
      ]
     },
     "metadata": {
      "needs_background": "light"
     },
     "output_type": "display_data"
    }
   ],
   "source": [
    "plt.show()\n",
    "plt.plot(loss_values)\n",
    "plt.xlabel(\"Step\")\n",
    "plt.ylabel(\"Loss value\")\n",
    "plt.show()"
   ]
  },
  {
   "cell_type": "code",
   "execution_count": 17,
   "metadata": {},
   "outputs": [],
   "source": [
    "def get_u_arbitrary_nqubit_hat(thetas, num_qubits: int = 1):\n",
    "    \"\"\"Get psi_hat of u_nlayer_nqubit\n",
    "\n",
    "    Args:\n",
    "        - thetas (Numpy array): Parameters\n",
    "        - num_qubits (int, optional): Number of qubits. Defaults to 1.\n",
    "\n",
    "    Returns:\n",
    "        - Statevector: State vectpr of u_nqubit_dagger\n",
    "    \"\"\"\n",
    "    qc = qiskit.QuantumCircuit(num_qubits, num_qubits)\n",
    "    qc = u_arbitrary_nqubit(qc, thetas).inverse()\n",
    "    return qiskit.quantum_info.Statevector.from_instruction(qc)\n",
    "# Get statevector from circuit\n",
    "psi = qiskit.quantum_info.Statevector.from_instruction(qc)\n",
    "rho_psi = qiskit.quantum_info.DensityMatrix(psi)\n",
    "# psi_hat = qiskit.quantum_info.Statevector()\n",
    "# rho_psi_hat = qiskit.quantum_info.DensityMatrix(psi_hat)\n",
    "# Calculate the metrics\n",
    "# print(get_u_arbitrary_nqubit_hat(thetas, 3))\n",
    "\n",
    "# trace, fidelity = qtm.base_qtm.get_metrics(psi, psi_hat)\n",
    "# print(\"Trace: \", trace)\n",
    "# print(\"Fidelity: \", fidelity)"
   ]
  }
 ],
 "metadata": {
  "interpreter": {
   "hash": "b0bb45761e06d42ef60a7e329026c016a53b18e4ad51e16529481946724f1b50"
  },
  "kernelspec": {
   "display_name": "Python 3.7.6 64-bit",
   "name": "python3"
  },
  "language_info": {
   "codemirror_mode": {
    "name": "ipython",
    "version": 3
   },
   "file_extension": ".py",
   "mimetype": "text/x-python",
   "name": "python",
   "nbconvert_exporter": "python",
   "pygments_lexer": "ipython3",
   "version": "3.7.6"
  },
  "orig_nbformat": 4
 },
 "nbformat": 4,
 "nbformat_minor": 2
}
