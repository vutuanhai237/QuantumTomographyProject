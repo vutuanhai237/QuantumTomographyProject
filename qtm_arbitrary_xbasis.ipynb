{
 "cells": [
  {
   "cell_type": "code",
   "execution_count": 1,
   "metadata": {},
   "outputs": [],
   "source": [
    "import qiskit\n",
    "import numpy as np\n",
    "import matplotlib.pyplot as plt\n",
    "import qtm.base_qtm, qtm.constant, qtm.qtm_nqubit, qtm.qtm_1qubit"
   ]
  },
  {
   "cell_type": "code",
   "execution_count": 2,
   "metadata": {},
   "outputs": [],
   "source": [
    "num_qubits = 3\n",
    "phis = np.random.uniform(low = 0, high = 2*np.pi, size = num_qubits*10)\n",
    "thetas = np.random.uniform(low = 0, high = 2*np.pi, size = 2**(num_qubits + 1) - 2)"
   ]
  },
  {
   "cell_type": "code",
   "execution_count": 3,
   "metadata": {},
   "outputs": [],
   "source": [
    "def create_rx_nqubit(qc: qiskit.QuantumCircuit, thetas):\n",
    "    for i in range(0, qc.num_qubits):\n",
    "        qc.rx(thetas[i], i)\n",
    "    return qc\n",
    "def create_rz_nqubit(qc: qiskit.QuantumCircuit, thetas):\n",
    "    for i in range(0, qc.num_qubits):\n",
    "        qc.rz(thetas[i], i)\n",
    "    return qc\n",
    "def create_cry_nqubit(qc: qiskit.QuantumCircuit, thetas):\n",
    "    \"\"\"Create control R_Y state\n",
    "\n",
    "    Args:\n",
    "        - qc (QuantumCircuit): Init circuit\n",
    "    \n",
    "    Returns:\n",
    "        - QuantumCircuit: the added circuit\n",
    "    \"\"\"\n",
    "    for i in range(0, qc.num_qubits - 1, 2): \n",
    "        qc.cx(i, i + 1)\n",
    "    for i in range(1, qc.num_qubits - 1, 2): \n",
    "        qc.cx(i, i + 1)\n",
    "    qc.cx(qc.num_qubits - 1, 0)        \n",
    "    return qc\n",
    "def create_cry_nqubit_inverse(qc: qiskit.QuantumCircuit, thetas):\n",
    "    \"\"\"Create control R_Y state\n",
    "\n",
    "    Args:\n",
    "        - qc (QuantumCircuit): Init circuit\n",
    "    \n",
    "    Returns:\n",
    "        - QuantumCircuit: the added circuit\n",
    "    \"\"\"\n",
    "    for i in range(0, qc.num_qubits - 1, 2): \n",
    "        qc.cx(i + 1, i)\n",
    "    for i in range(1, qc.num_qubits - 1, 2): \n",
    "        qc.cx(i + 1, i)\n",
    "    qc.cx(0, qc.num_qubits - 1)        \n",
    "    return qc\n",
    "def create_arbitrary_nqubit(qc: qiskit.QuantumCircuit, thetas, n_layers):\n",
    "    n = qc.num_qubits\n",
    "    for i in range(0, n_layers):\n",
    "        phis = thetas[i:(i + 1)*n*5]\n",
    "        qc = create_rx_nqubit(qc, phis[:n])\n",
    "        qc = create_cry_nqubit_inverse(qc, phis[n:n*2])\n",
    "        qc = create_rz_nqubit(qc, phis[n*2:n*3])\n",
    "        qc = create_cry_nqubit(qc, phis[n*3:n*4])\n",
    "        qc = create_rz_nqubit(qc, phis[n*4:n*5])\n",
    "    return qc\n",
    "def u_arbitrary_nqubit(qc, thetas):\n",
    "    qc.rx(thetas[0], 0)\n",
    "    qc.ry(thetas[1], 0)\n",
    "    qc.rx(thetas[2], 1)\n",
    "    qc.ry(thetas[3], 1)\n",
    "    qc.rx(thetas[4], 2)\n",
    "    qc.ry(thetas[5], 2)\n",
    "    qc.rxx(thetas[6], 1, 2)\n",
    "    qc.rzx(thetas[7], 1, 2)\n",
    "    qc.rxx(thetas[8], 0, 1)\n",
    "    qc.rzx(thetas[9], 0, 1)\n",
    "    qc.rxx(thetas[10], 1, 2)\n",
    "    qc.rzx(thetas[11], 1, 2)\n",
    "    qc.rxx(thetas[12], 0, 1)\n",
    "    qc.rzx(thetas[13], 0, 1)\n",
    "    return qc\n"
   ]
  },
  {
   "cell_type": "code",
   "execution_count": 4,
   "metadata": {},
   "outputs": [
    {
     "name": "stderr",
     "output_type": "stream",
     "text": [
      "Step: 100%|██████████| 200/200 [05:00<00:00,  1.50s/it]\n"
     ]
    }
   ],
   "source": [
    "qc = qiskit.QuantumCircuit(num_qubits, num_qubits)\n",
    "qc = create_arbitrary_nqubit(qc, phis, n_layers = 2)\n",
    "\n",
    "\n",
    "# qc = u_arbitrary_nqubit(qc, thetas)\n",
    "# for i in range(0, num_qubits):\n",
    "#     qc.measure(i, i)\n",
    "# qobj = qiskit.assemble(qc, shots = qtm.constant.shots)  \n",
    "# counts = (qiskit.Aer.get_backend('qasm_simulator')).run(qobj).result().get_counts()\n",
    "# print(counts.get(\"0\" * qc.num_qubits, 0) / qtm.constant.shots)\n",
    "\n",
    "# Reduce loss value in 100 steps\n",
    "thetas, loss_values = qtm.base_qtm.fit(\n",
    "    qc, num_steps = 200, thetas = thetas, \n",
    "    create_circuit_func = u_arbitrary_nqubit, \n",
    "    grad_func = qtm.base_qtm.grad_l,\n",
    "    loss_func = qtm.base_qtm.loss_basis,\n",
    "    verbose = 1\n",
    ")"
   ]
  },
  {
   "cell_type": "code",
   "execution_count": 5,
   "metadata": {},
   "outputs": [
    {
     "data": {
      "image/png": "[encoded data removed]",
      "text/plain": [
       "<Figure size 432x288 with 1 Axes>"
      ]
     },
     "metadata": {
      "needs_background": "light"
     },
     "output_type": "display_data"
    }
   ],
   "source": [
    "plt.show()\n",
    "plt.plot(loss_values)\n",
    "plt.xlabel(\"Step\")\n",
    "plt.ylabel(\"Loss value\")\n",
    "plt.show()"
   ]
  },
  {
   "cell_type": "code",
   "execution_count": 17,
   "metadata": {},
   "outputs": [],
   "source": [
    "def get_u_arbitrary_nqubit_hat(thetas, num_qubits: int = 1):\n",
    "    \"\"\"Get psi_hat of u_nlayer_nqubit\n",
    "\n",
    "    Args:\n",
    "        - thetas (Numpy array): Parameters\n",
    "        - num_qubits (int, optional): Number of qubits. Defaults to 1.\n",
    "\n",
    "    Returns:\n",
    "        - Statevector: State vectpr of u_nqubit_dagger\n",
    "    \"\"\"\n",
    "    qc = qiskit.QuantumCircuit(num_qubits, num_qubits)\n",
    "    qc = u_arbitrary_nqubit(qc, thetas).inverse()\n",
    "    return qiskit.quantum_info.Statevector.from_instruction(qc)\n",
    "# Get statevector from circuit\n",
    "psi = qiskit.quantum_info.Statevector.from_instruction(qc)\n",
    "rho_psi = qiskit.quantum_info.DensityMatrix(psi)\n",
    "# psi_hat = qiskit.quantum_info.Statevector()\n",
    "# rho_psi_hat = qiskit.quantum_info.DensityMatrix(psi_hat)\n",
    "# Calculate the metrics\n",
    "# print(get_u_arbitrary_nqubit_hat(thetas, 3))\n",
    "\n",
    "# trace, fidelity = qtm.base_qtm.get_metrics(psi, psi_hat)\n",
    "# print(\"Trace: \", trace)\n",
    "# print(\"Fidelity: \", fidelity)"
   ]
  }
 ],
 "metadata": {
  "interpreter": {
   "hash": "b0bb45761e06d42ef60a7e329026c016a53b18e4ad51e16529481946724f1b50"
  },
  "kernelspec": {
   "display_name": "Python 3.7.6 64-bit",
   "name": "python3"
  },
  "language_info": {
   "codemirror_mode": {
    "name": "ipython",
    "version": 3
   },
   "file_extension": ".py",
   "mimetype": "text/x-python",
   "name": "python",
   "nbconvert_exporter": "python",
   "pygments_lexer": "ipython3",
   "version": "3.7.6"
  },
  "orig_nbformat": 4
 },
 "nbformat": 4,
 "nbformat_minor": 2
}
