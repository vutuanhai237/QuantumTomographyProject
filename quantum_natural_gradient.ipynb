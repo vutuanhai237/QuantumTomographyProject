{
 "cells": [
  {
   "cell_type": "markdown",
   "metadata": {},
   "source": [
    "### Quantum Fisher Information matrix\n",
    "\n",
    "<img src=\"others\\qfim.png\">\n",
    "\n",
    "I have coded QFIM function and test it on 1qubit case"
   ]
  },
  {
   "cell_type": "markdown",
   "metadata": {},
   "source": [
    "$\\partial_\\theta|\\psi\\rangle$ can be calculated by on the below equation (from Le Bin Ho):\n",
    "\n",
    "<img src=\"others/grad_psi.png\"/>"
   ]
  },
  {
   "cell_type": "code",
   "execution_count": 1,
   "metadata": {},
   "outputs": [],
   "source": [
    "import qiskit\n",
    "import numpy as np\n",
    "import qtm.base_qtm, qtm.constant, qtm.qtm_1qubit\n",
    "import matplotlib.pyplot as plt\n",
    "from types import FunctionType"
   ]
  },
  {
   "cell_type": "code",
   "execution_count": 2,
   "metadata": {},
   "outputs": [],
   "source": [
    "def create_QFIM(psi: np.ndarray, grad_psi: np.ndarray):\n",
    "    num_params = grad_psi.shape[0]\n",
    "    F_elements = np.zeros(num_params, dtype = np.complex128)\n",
    "    for i in range(num_params):\n",
    "        print(F_elements[i])\n",
    "        F_elements[i] = np.transpose(np.conjugate(psi)).dot(grad_psi[i])\n",
    "    F = np.zeros([num_params, num_params])\n",
    "    for i in range(0, num_params):\n",
    "        for j in range(0, num_params):\n",
    "            F[i, j] = 4*np.real(\n",
    "                np.transpose(np.conjugate(grad_psi[i])).dot(grad_psi[j]) - \n",
    "                np.transpose(np.conjugate(F_elements[i]))*(F_elements[j]))\n",
    "    return F\n",
    "\n",
    "def grad_psi(\n",
    "    qc: qiskit.QuantumCircuit, \n",
    "    create_circuit_func: FunctionType, \n",
    "    thetas: np.ndarray, r: float, s: float, **kwargs):\n",
    "    gradient_psi = np.zeros([len(thetas), 2**qc.num_qubits], dtype = np.complex128)\n",
    "    for i in range(0, len(thetas)):\n",
    "        thetas_copy = thetas.copy()\n",
    "        thetas_copy[i] += s\n",
    "        qc1 = create_circuit_func(qc.copy(), thetas_copy, **kwargs)\n",
    "        psi_qc = qiskit.quantum_info.Statevector.from_instruction(qc1).data\n",
    "        gradient_psi[i] = r*(psi_qc)\n",
    "    return gradient_psi\n",
    "\n",
    "def qng(thetas: np.ndarray, psi: np.ndarray, grad_psi: np.ndarray, grad_loss: np.ndarray):\n",
    "    F = create_QFIM(psi, grad_psi)\n",
    "    inverse_F = np.linalg.pinv(F)\n",
    "    thetas -= qtm.constant.learning_rate*np.dot(inverse_F, grad_loss)\n",
    "    return thetas\n",
    "\n",
    "def qng_adam(thetas: np.ndarray, \n",
    "    m: np.ndarray, v: np.ndarray, i: int, \n",
    "    psi: np.ndarray, grad_psi: np.ndarray, grad_loss: np.ndarray):\n",
    "    F = create_QFIM(psi, grad_psi)\n",
    "    inverse_F = np.linalg.pinv(F)\n",
    "    grad = np.dot(inverse_F, grad_loss)\n",
    "    thetas = qtm.base_qtm.adam(thetas, m, v, i, grad)\n",
    "    return thetas"
   ]
  },
  {
   "cell_type": "code",
   "execution_count": 3,
   "metadata": {},
   "outputs": [
    {
     "name": "stdout",
     "output_type": "stream",
     "text": [
      "[[2.16489014e-17-0.35355339j 2.16489014e-17+0.35355339j]]\n",
      "0j\n",
      "[[1.]]\n"
     ]
    }
   ],
   "source": [
    "# Init quantum tomography 1 qubit\n",
    "def a(qc, thetas):\n",
    "    qc.h(0)\n",
    "    qc.rz(thetas[0], 0)\n",
    "    return qc\n",
    "thetas = np.zeros((1,))\n",
    "qc = qiskit.QuantumCircuit(1, 1)\n",
    "\n",
    "\n",
    "grad_psi1 = grad_psi(qc.copy(), a, thetas, r = 1/2, s = np.pi)\n",
    "print(grad_psi1)\n",
    "\n",
    "qc_copy = a(qc.copy(), thetas)\n",
    "psi = qiskit.quantum_info.Statevector.from_instruction(qc_copy).data\n",
    "# Create gradient of loss function\n",
    "# Quantum natural gradient\n",
    "F = create_QFIM(psi, grad_psi1)\n",
    "print(F)\n",
    "    "
   ]
  }
 ],
 "metadata": {
  "interpreter": {
   "hash": "b0bb45761e06d42ef60a7e329026c016a53b18e4ad51e16529481946724f1b50"
  },
  "kernelspec": {
   "display_name": "Python 3.7.6 64-bit",
   "language": "python",
   "name": "python3"
  },
  "language_info": {
   "codemirror_mode": {
    "name": "ipython",
    "version": 3
   },
   "file_extension": ".py",
   "mimetype": "text/x-python",
   "name": "python",
   "nbconvert_exporter": "python",
   "pygments_lexer": "ipython3",
   "version": "3.8.0"
  },
  "orig_nbformat": 4
 },
 "nbformat": 4,
 "nbformat_minor": 2
}
