{
 "cells": [
  {
   "cell_type": "markdown",
   "metadata": {},
   "source": [
    "### Quantum Fisher Information matrix\n",
    "\n",
    "<img src=\"others\\qfim.png\">\n",
    "\n",
    "I have coded QFIM function and test it on 1qubit case"
   ]
  },
  {
   "cell_type": "markdown",
   "metadata": {},
   "source": [
    "$\\partial_\\theta|\\psi\\rangle$ can be calculated by on the below equation (from Le Bin Ho):\n",
    "\n",
    "<img src=\"others/grad_psi.png\"/>"
   ]
  },
  {
   "cell_type": "code",
   "execution_count": 8,
   "metadata": {},
   "outputs": [],
   "source": [
    "import qiskit\n",
    "import numpy as np\n",
    "import qtm.base_qtm, qtm.constant, qtm.qtm_1qubit, qtm.qtm_nqubit\n",
    "import matplotlib.pyplot as plt\n",
    "from types import FunctionType"
   ]
  },
  {
   "cell_type": "code",
   "execution_count": 10,
   "metadata": {},
   "outputs": [
    {
     "name": "stdout",
     "output_type": "stream",
     "text": [
      "[[2.16489014e-17-0.35355339j 2.16489014e-17+0.35355339j]]\n",
      "[[1.]]\n"
     ]
    }
   ],
   "source": [
    "# Init quantum tomography 1 qubit\n",
    "def a(qc, thetas):\n",
    "    qc.h(0)\n",
    "    qc.rz(thetas[0], 0)\n",
    "    return qc\n",
    "thetas = np.zeros((1,))\n",
    "qc = qiskit.QuantumCircuit(1, 1)\n",
    "\n",
    "\n",
    "grad_psi1 = qtm.base_qtm.grad_psi(qc.copy(), a, thetas, r = 1/2, s = np.pi)\n",
    "print(grad_psi1)\n",
    "\n",
    "qc_copy = a(qc.copy(), thetas)\n",
    "psi = qiskit.quantum_info.Statevector.from_instruction(qc_copy).data\n",
    "# Create gradient of loss function\n",
    "# Quantum natural gradient\n",
    "F = qtm.quantum_fisher.create_QFIM(psi, grad_psi1)\n",
    "print(F)\n",
    "    "
   ]
  },
  {
   "cell_type": "code",
   "execution_count": 10,
   "metadata": {},
   "outputs": [],
   "source": [
    "num_qubits = 3\n",
    "theta = np.random.uniform(0, 2*np.pi)\n",
    "thetas = np.ones((2*num_qubits*3))\n",
    "# Init quantum tomography n qubit\n",
    "qc = qiskit.QuantumCircuit(num_qubits, num_qubits)\n",
    "qc = qtm.qtm_nqubit.create_ghz_state(qc, theta)\n",
    "loss_values_qng = []\n",
    "for i in range(0, 100):\n",
    "    grad_psi1 = (grad_psi(qc, qtm.qtm_nqubit.u_cluster_nqubit, thetas, r = 1/2, s = np.pi/2))\n",
    "    grad_loss = qtm.base_qtm.grad_loss(qc, qtm.qtm_nqubit.u_cluster_nqubit, thetas, r = 1/2, s = np.pi)\n",
    "    qc_copy = qtm.qtm_nqubit.u_cluster_nqubit(qc.copy(), thetas)\n",
    "    psi = qiskit.quantum_info.Statevector.from_instruction(qc_copy).data\n",
    "    # Create gradient of loss function\n",
    "    # Quantum natural gradient\n",
    "    thetas = qng(thetas, psi, grad_psi1, grad_loss)\n",
    "    qc_copy2 = qtm.qtm_nqubit.u_cluster_nqubit(qc.copy(), thetas)\n",
    "    loss = qtm.base_qtm.loss_basis(qtm.base_qtm.measure(qc_copy2, range(qc_copy2.num_qubits)))\n",
    "    loss_values_qng.append(loss)"
   ]
  },
  {
   "cell_type": "code",
   "execution_count": 11,
   "metadata": {},
   "outputs": [
    {
     "data": {
      "image/png": "[encoded data removed]",
      "text/plain": [
       "<Figure size 432x288 with 1 Axes>"
      ]
     },
     "metadata": {
      "needs_background": "light"
     },
     "output_type": "display_data"
    }
   ],
   "source": [
    "# Plot loss value in 100 steps\n",
    "\n",
    "plt.plot(loss_values_qng, label='QNG-Adam', linestyle = ':')\n",
    "plt.title('GHZinitstate_3qubit')\n",
    "plt.legend()\n",
    "plt.xlabel(\"Iteration\")\n",
    "plt.ylabel(\"Loss value\")\n",
    "plt.show() "
   ]
  }
 ],
 "metadata": {
  "interpreter": {
   "hash": "b0bb45761e06d42ef60a7e329026c016a53b18e4ad51e16529481946724f1b50"
  },
  "kernelspec": {
   "display_name": "Python 3.7.6 64-bit",
   "language": "python",
   "name": "python3"
  },
  "language_info": {
   "codemirror_mode": {
    "name": "ipython",
    "version": 3
   },
   "file_extension": ".py",
   "mimetype": "text/x-python",
   "name": "python",
   "nbconvert_exporter": "python",
   "pygments_lexer": "ipython3",
   "version": "3.8.0"
  },
  "orig_nbformat": 4
 },
 "nbformat": 4,
 "nbformat_minor": 2
}
