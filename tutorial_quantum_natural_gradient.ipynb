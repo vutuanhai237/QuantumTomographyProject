{
  "cells": [
    {
      "cell_type": "code",
      "execution_count": 1,
      "metadata": {
        "collapsed": false
      },
      "outputs": [],
      "source": [
        "# This cell is added by sphinx-gallery\n",
        "# It can be customized to whatever you like\n",
        "%matplotlib inline"
      ]
    },
    {
      "cell_type": "code",
      "execution_count": 3,
      "metadata": {
        "collapsed": false
      },
      "outputs": [],
      "source": [
        "import pennylane as qml\n",
        "from pennylane import numpy as np\n",
        "\n",
        "dev = qml.device(\"default.qubit\", wires=3)\n",
        "\n",
        "\n",
        "@qml.qnode(dev)\n",
        "def circuit(params):\n",
        "    # |psi_0>: state preparation\n",
        "    qml.RY(np.pi / 4, wires=0)\n",
        "    qml.RY(np.pi / 3, wires=1)\n",
        "    qml.RY(np.pi / 7, wires=2)\n",
        "\n",
        "    # V0(theta0, theta1): Parametrized layer 0\n",
        "    qml.RZ(params[0], wires=0)\n",
        "    qml.RZ(params[1], wires=1)\n",
        "\n",
        "    # W1: non-parametrized gates\n",
        "    qml.CNOT(wires=[0, 1])\n",
        "    qml.CNOT(wires=[1, 2])\n",
        "\n",
        "    # V_1(theta2, theta3): Parametrized layer 1\n",
        "    qml.RY(params[2], wires=1)\n",
        "    qml.RX(params[3], wires=2)\n",
        "\n",
        "    # W2: non-parametrized gates\n",
        "    qml.CNOT(wires=[0, 1])\n",
        "    qml.CNOT(wires=[1, 2])\n",
        "\n",
        "    return qml.expval(qml.PauliZ(0))\n",
        "\n",
        "\n",
        "params = np.array([0.432, -0.123, 0.543, 0.233])"
      ]
    },
    {
      "cell_type": "code",
      "execution_count": 25,
      "metadata": {},
      "outputs": [
        {
          "ename": "ValueError",
          "evalue": "Converter does not exist. Make sure the required plugin is installed and supports conversion.",
          "output_type": "error",
          "traceback": [
            "\u001b[1;31m---------------------------------------------------------------------------\u001b[0m",
            "\u001b[1;31mValueError\u001b[0m                                Traceback (most recent call last)",
            "\u001b[1;32m~\\AppData\\Local\\Temp/ipykernel_3868/3116734162.py\u001b[0m in \u001b[0;36m<module>\u001b[1;34m\u001b[0m\n\u001b[0;32m      3\u001b[0m \u001b[0mqc\u001b[0m\u001b[1;33m.\u001b[0m\u001b[0mrz\u001b[0m\u001b[1;33m(\u001b[0m\u001b[1;36m0.543\u001b[0m\u001b[1;33m,\u001b[0m \u001b[1;33m[\u001b[0m\u001b[1;36m0\u001b[0m\u001b[1;33m]\u001b[0m\u001b[1;33m)\u001b[0m\u001b[1;33m\u001b[0m\u001b[1;33m\u001b[0m\u001b[0m\n\u001b[0;32m      4\u001b[0m \u001b[0mqc\u001b[0m\u001b[1;33m.\u001b[0m\u001b[0mcx\u001b[0m\u001b[1;33m(\u001b[0m\u001b[1;36m0\u001b[0m\u001b[1;33m,\u001b[0m \u001b[1;36m1\u001b[0m\u001b[1;33m)\u001b[0m\u001b[1;33m\u001b[0m\u001b[1;33m\u001b[0m\u001b[0m\n\u001b[1;32m----> 5\u001b[1;33m \u001b[0mmy_circuit\u001b[0m \u001b[1;33m=\u001b[0m \u001b[0mqml\u001b[0m\u001b[1;33m.\u001b[0m\u001b[0mfrom_qiskit\u001b[0m\u001b[1;33m(\u001b[0m\u001b[0mqc\u001b[0m\u001b[1;33m)\u001b[0m\u001b[1;33m\u001b[0m\u001b[1;33m\u001b[0m\u001b[0m\n\u001b[0m",
            "\u001b[1;32m~\\AppData\\Local\\Programs\\Python\\Python38\\lib\\site-packages\\pennylane\\io.py\u001b[0m in \u001b[0;36mfrom_qiskit\u001b[1;34m(quantum_circuit)\u001b[0m\n\u001b[0;32m     99\u001b[0m         \u001b[0mobject\u001b[0m\u001b[1;33m\u001b[0m\u001b[1;33m\u001b[0m\u001b[0m\n\u001b[0;32m    100\u001b[0m     \"\"\"\n\u001b[1;32m--> 101\u001b[1;33m     \u001b[1;32mreturn\u001b[0m \u001b[0mload\u001b[0m\u001b[1;33m(\u001b[0m\u001b[0mquantum_circuit\u001b[0m\u001b[1;33m,\u001b[0m \u001b[0mformat\u001b[0m\u001b[1;33m=\u001b[0m\u001b[1;34m\"qiskit\"\u001b[0m\u001b[1;33m)\u001b[0m\u001b[1;33m\u001b[0m\u001b[1;33m\u001b[0m\u001b[0m\n\u001b[0m\u001b[0;32m    102\u001b[0m \u001b[1;33m\u001b[0m\u001b[0m\n\u001b[0;32m    103\u001b[0m \u001b[1;33m\u001b[0m\u001b[0m\n",
            "\u001b[1;32m~\\AppData\\Local\\Programs\\Python\\Python38\\lib\\site-packages\\pennylane\\io.py\u001b[0m in \u001b[0;36mload\u001b[1;34m(quantum_circuit_object, format)\u001b[0m\n\u001b[0;32m     66\u001b[0m         \u001b[1;32mreturn\u001b[0m \u001b[0mplugin_converter\u001b[0m\u001b[1;33m(\u001b[0m\u001b[0mquantum_circuit_object\u001b[0m\u001b[1;33m)\u001b[0m\u001b[1;33m\u001b[0m\u001b[1;33m\u001b[0m\u001b[0m\n\u001b[0;32m     67\u001b[0m \u001b[1;33m\u001b[0m\u001b[0m\n\u001b[1;32m---> 68\u001b[1;33m     raise ValueError(\n\u001b[0m\u001b[0;32m     69\u001b[0m         \u001b[1;34m\"Converter does not exist. Make sure the required plugin is installed \"\u001b[0m\u001b[1;33m\u001b[0m\u001b[1;33m\u001b[0m\u001b[0m\n\u001b[0;32m     70\u001b[0m         \u001b[1;34m\"and supports conversion.\"\u001b[0m\u001b[1;33m\u001b[0m\u001b[1;33m\u001b[0m\u001b[0m\n",
            "\u001b[1;31mValueError\u001b[0m: Converter does not exist. Make sure the required plugin is installed and supports conversion."
          ]
        }
      ],
      "source": [
        "import qiskit\n",
        "qc = qiskit.QuantumCircuit(2)\n",
        "qc.rz(0.543, [0])\n",
        "qc.cx(0, 1)\n",
        "my_circuit = qml.from_qiskit(qc)"
      ]
    },
    {
      "cell_type": "code",
      "execution_count": 14,
      "metadata": {
        "collapsed": false
      },
      "outputs": [],
      "source": [
        "steps = 200\n",
        "init_params = np.array([0.432, -0.123, 0.543, 0.233], requires_grad=True)"
      ]
    },
    {
      "cell_type": "code",
      "execution_count": 15,
      "metadata": {
        "collapsed": false
      },
      "outputs": [],
      "source": [
        "gd_cost = []\n",
        "opt = qml.GradientDescentOptimizer(0.01)\n",
        "\n",
        "theta = init_params\n",
        "for _ in range(steps):\n",
        "    theta = opt.step(circuit, theta)\n",
        "    gd_cost.append(circuit(theta))\n",
        "\n"
      ]
    },
    {
      "cell_type": "code",
      "execution_count": 24,
      "metadata": {},
      "outputs": [
        {
          "name": "stdout",
          "output_type": "stream",
          "text": [
            " 0: ──RY(0.785)──RZ(-0.0215)──╭C─────────────────╭C──────┤ ⟨Y⟩ \n",
            " 1: ──RY(1.05)───RZ(-1.57)────╰X──╭C──RY(1.55)───╰X──╭C──┤     \n",
            " 2: ──RY(0.449)───────────────────╰X──RX(0.705)──────╰X──┤     \n",
            "\n",
            "[-0.02154685 -1.56562442  1.54674389  0.70526456]\n"
          ]
        },
        {
          "name": "stderr",
          "output_type": "stream",
          "text": [
            "C:\\Users\\haime\\AppData\\Local\\Programs\\Python\\Python38\\lib\\site-packages\\pennylane\\qnode.py:838: UserWarning: The QNode.draw method has been deprecated. Please use the qml.draw(qnode)(*args) function instead.\n",
            "  warnings.warn(\n"
          ]
        }
      ],
      "source": [
        "print(circuit.draw())\n",
        "print(theta)"
      ]
    },
    {
      "cell_type": "code",
      "execution_count": 16,
      "metadata": {
        "collapsed": false
      },
      "outputs": [],
      "source": [
        "qng_cost = []\n",
        "opt = qml.QNGOptimizer(0.01)\n",
        "\n",
        "theta = init_params\n",
        "for _ in range(steps):\n",
        "    theta = opt.step(circuit, theta)\n",
        "    qng_cost.append(circuit(theta))"
      ]
    },
    {
      "cell_type": "markdown",
      "metadata": {},
      "source": [
        "Plotting the cost vs optimization step for both optimization strategies:\n"
      ]
    },
    {
      "cell_type": "code",
      "execution_count": 17,
      "metadata": {
        "collapsed": false
      },
      "outputs": [
        {
          "data": {
            "image/png": "[encoded data removed]",
            "text/plain": [
              "<Figure size 576x396 with 1 Axes>"
            ]
          },
          "metadata": {},
          "output_type": "display_data"
        }
      ],
      "source": [
        "from matplotlib import pyplot as plt\n",
        "\n",
        "plt.style.use(\"seaborn\")\n",
        "plt.plot(gd_cost, \"b\", label=\"Vanilla gradient descent\")\n",
        "plt.plot(qng_cost, \"g\", label=\"Quantum natural gradient descent\")\n",
        "\n",
        "plt.ylabel(\"Cost function value\")\n",
        "plt.xlabel(\"Optimization steps\")\n",
        "plt.legend()\n",
        "plt.show()"
      ]
    },
    {
      "cell_type": "markdown",
      "metadata": {},
      "source": [
        "References\n",
        "==========\n",
        "\n",
        "1.  Shun-Ichi Amari. \"Natural gradient works efficiently in learning.\"\n",
        "    [Neural computation 10.2,\n",
        "    251-276](https://www.mitpressjournals.org/doi/abs/10.1162/089976698300017746), 1998.\n",
        "2.  James Stokes, Josh Izaac, Nathan Killoran, Giuseppe Carleo. \"Quantum\n",
        "    Natural Gradient.\"\n",
        "    [arXiv:1909.02108](https://arxiv.org/abs/1909.02108), 2019.\n",
        "3.  Aram Harrow and John Napp. \"Low-depth gradient measurements can\n",
        "    improve convergence in variational hybrid quantum-classical\n",
        "    algorithms.\"\n",
        "    [arXiv:1901.05374](https://arxiv.org/abs/1901.05374), 2019.\n",
        "4.  Naoki Yamamoto. \"On the natural gradient for variational quantum\n",
        "    eigensolver.\"\n",
        "    [arXiv:1909.05074](https://arxiv.org/abs/1909.05074), 2019.\n",
        "\n"
      ]
    }
  ],
  "metadata": {
    "kernelspec": {
      "display_name": "Python 3",
      "language": "python",
      "name": "python3"
    },
    "language_info": {
      "codemirror_mode": {
        "name": "ipython",
        "version": 3
      },
      "file_extension": ".py",
      "mimetype": "text/x-python",
      "name": "python",
      "nbconvert_exporter": "python",
      "pygments_lexer": "ipython3",
      "version": "3.8.0"
    }
  },
  "nbformat": 4,
  "nbformat_minor": 0
}
