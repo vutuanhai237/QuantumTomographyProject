{
 "cells": [
  {
   "cell_type": "code",
   "execution_count": 12,
   "metadata": {},
   "outputs": [
    {
     "data": {
      "text/plain": [
       "<module 'qtm.quantum_fisher' from 'c:\\\\Users\\\\haime\\\\OneDrive\\\\Máy tính\\\\QuantumTomographyProject\\\\qtm\\\\quantum_fisher.py'>"
      ]
     },
     "execution_count": 12,
     "metadata": {},
     "output_type": "execute_result"
    }
   ],
   "source": [
    "import qiskit\n",
    "import numpy as np\n",
    "import matplotlib.pyplot as plt\n",
    "import qtm.base_qtm, qtm.constant, qtm.qtm_nqubit, qtm.qtm_1qubit\n",
    "import importlib\n",
    "importlib.reload(qtm.base_qtm)\n",
    "importlib.reload(qtm.constant)\n",
    "importlib.reload(qtm.qtm_nqubit)\n",
    "importlib.reload(qtm.qtm_1qubit)\n",
    "importlib.reload(qtm.quantum_fisher)\n"
   ]
  },
  {
   "cell_type": "code",
   "execution_count": 13,
   "metadata": {},
   "outputs": [
    {
     "name": "stderr",
     "output_type": "stream",
     "text": [
      "Step: 100%|██████████| 1/1 [00:02<00:00,  2.36s/it]"
     ]
    },
    {
     "name": "stdout",
     "output_type": "stream",
     "text": [
      "[[ 0.16530207+0.16626169j]\n",
      " [ 0.02727678+0.22459083j]\n",
      " [ 0.02727678+0.22459083j]\n",
      " [ 0.00327174+0.04464834j]\n",
      " [-0.2544273 +0.01974571j]\n",
      " [ 0.09356723-0.00468031j]\n",
      " [ 0.09356723-0.00468031j]\n",
      " [ 0.06719822+0.05887074j]]\n",
      "[[ 0.16530207-0.16626169j  0.02727678-0.22459083j  0.02727678-0.22459083j\n",
      "   0.00327174-0.04464834j -0.2544273 -0.01974571j  0.09356723+0.00468031j\n",
      "   0.09356723+0.00468031j  0.06719822-0.05887074j]]\n",
      "[[ 0.0599012 +0.1167195j ]\n",
      " [-0.13201038+0.03871622j]\n",
      " [ 0.12353133-0.12536522j]\n",
      " [ 0.02895469-0.17377608j]\n",
      " [-0.02010297-0.11517942j]\n",
      " [-0.21499044-0.22310473j]\n",
      " [ 0.11925018-0.0084913j ]\n",
      " [ 0.13362332-0.1001741j ]]\n",
      "[[ 0.0599012 -0.1167195j  -0.13201038-0.03871622j  0.12353133+0.12536522j\n",
      "   0.02895469+0.17377608j -0.02010297+0.11517942j -0.21499044+0.22310473j\n",
      "   0.11925018+0.0084913j   0.13362332+0.1001741j ]]\n",
      "[[-0.06270664+0.21681166j]\n",
      " [ 0.16767511+0.25474j   ]\n",
      " [ 0.02960534+0.03970907j]\n",
      " [-0.03769146+0.05659431j]\n",
      " [-0.11402896+0.04989487j]\n",
      " [ 0.05260403-0.17533082j]\n",
      " [-0.12798695+0.10592296j]\n",
      " [ 0.06272531+0.13579891j]]\n",
      "[[-0.06270664-0.21681166j  0.16767511-0.25474j     0.02960534-0.03970907j\n",
      "  -0.03769146-0.05659431j -0.11402896-0.04989487j  0.05260403+0.17533082j\n",
      "  -0.12798695-0.10592296j  0.06272531-0.13579891j]]\n",
      "[[ 0.16530207+0.16626169j]\n",
      " [ 0.02727678+0.22459083j]\n",
      " [ 0.02727678+0.22459083j]\n",
      " [ 0.00327174+0.04464834j]\n",
      " [-0.2544273 +0.01974571j]\n",
      " [ 0.09356723-0.00468031j]\n",
      " [ 0.09356723-0.00468031j]\n",
      " [ 0.06719822+0.05887074j]]\n",
      "[[ 0.16530207-0.16626169j  0.02727678-0.22459083j  0.02727678-0.22459083j\n",
      "   0.00327174-0.04464834j -0.2544273 -0.01974571j  0.09356723+0.00468031j\n",
      "   0.09356723+0.00468031j  0.06719822-0.05887074j]]\n",
      "[[ 0.12893609+0.15443343j]\n",
      " [-0.02010297-0.11517942j]\n",
      " [-0.02010297-0.11517942j]\n",
      " [ 0.00878882+0.17394802j]\n",
      " [-0.02738121-0.012546j  ]\n",
      " [ 0.02895469-0.17377608j]\n",
      " [ 0.02895469-0.17377608j]\n",
      " [-0.29091279+0.06511069j]]\n",
      "[[ 0.12893609-0.15443343j -0.02010297+0.11517942j -0.02010297+0.11517942j\n",
      "   0.00878882-0.17394802j -0.02738121+0.012546j    0.02895469+0.17377608j\n",
      "   0.02895469+0.17377608j -0.29091279-0.06511069j]]\n",
      "[[-0.03097147+0.1587208j ]\n",
      " [ 0.0381764 +0.16057317j]\n",
      " [ 0.0381764 +0.16057317j]\n",
      " [ 0.25490828+0.07356331j]\n",
      " [-0.200392  +0.04377045j]\n",
      " [ 0.0110954 +0.02994193j]\n",
      " [ 0.0110954 +0.02994193j]\n",
      " [-0.07635704-0.22143591j]]\n",
      "[[-0.03097147-0.1587208j   0.0381764 -0.16057317j  0.0381764 -0.16057317j\n",
      "   0.25490828-0.07356331j -0.200392  -0.04377045j  0.0110954 -0.02994193j\n",
      "   0.0110954 -0.02994193j -0.07635704+0.22143591j]]\n",
      "[[ 0.16530207+0.16626169j]\n",
      " [ 0.02727678+0.22459083j]\n",
      " [ 0.02727678+0.22459083j]\n",
      " [ 0.00327174+0.04464834j]\n",
      " [-0.2544273 +0.01974571j]\n",
      " [ 0.09356723-0.00468031j]\n",
      " [ 0.09356723-0.00468031j]\n",
      " [ 0.06719822+0.05887074j]]\n",
      "[[ 0.16530207-0.16626169j  0.02727678-0.22459083j  0.02727678-0.22459083j\n",
      "   0.00327174-0.04464834j -0.2544273 -0.01974571j  0.09356723+0.00468031j\n",
      "   0.09356723+0.00468031j  0.06719822-0.05887074j]]\n",
      "[[ 0.0599012 +0.1167195j ]\n",
      " [ 0.12353133-0.12536522j]\n",
      " [-0.13201038+0.03871622j]\n",
      " [ 0.02895469-0.17377608j]\n",
      " [-0.02010297-0.11517942j]\n",
      " [ 0.11925018-0.0084913j ]\n",
      " [-0.21499044-0.22310473j]\n",
      " [ 0.13362332-0.1001741j ]]\n",
      "[[ 0.0599012 -0.1167195j   0.12353133+0.12536522j -0.13201038-0.03871622j\n",
      "   0.02895469+0.17377608j -0.02010297+0.11517942j  0.11925018+0.0084913j\n",
      "  -0.21499044+0.22310473j  0.13362332+0.1001741j ]]\n",
      "[[-0.06270664+0.21681166j]\n",
      " [ 0.02960534+0.03970907j]\n",
      " [ 0.16767511+0.25474j   ]\n",
      " [-0.03769146+0.05659431j]\n",
      " [-0.11402896+0.04989487j]\n",
      " [-0.12798695+0.10592296j]\n",
      " [ 0.05260403-0.17533082j]\n",
      " [ 0.06272531+0.13579891j]]\n",
      "[[-0.06270664-0.21681166j  0.02960534-0.03970907j  0.16767511-0.25474j\n",
      "  -0.03769146-0.05659431j -0.11402896-0.04989487j -0.12798695-0.10592296j\n",
      "   0.05260403+0.17533082j  0.06272531-0.13579891j]]\n",
      "[[-0.13730606+0.10062995j]\n",
      " [ 0.2075567 +0.03740587j]\n",
      " [-0.12278606+0.03826704j]\n",
      " [-0.03769146+0.15525162j]\n",
      " [ 0.11578234+0.15506975j]\n",
      " [ 0.20612142+0.19887299j]\n",
      " [ 0.10816807-0.04257352j]\n",
      " [-0.03484841-0.01616316j]]\n",
      "[[-0.13730606-0.10062995j  0.2075567 -0.03740587j -0.12278606-0.03826704j\n",
      "  -0.03769146-0.15525162j  0.11578234-0.15506975j  0.20612142-0.19887299j\n",
      "   0.10816807+0.04257352j -0.03484841+0.01616316j]]\n",
      "[[ 0.00707933+0.19898468j]\n",
      " [-0.11731052+0.14160347j]\n",
      " [-0.02738121+0.04086246j]\n",
      " [-0.1838823 -0.07636963j]\n",
      " [-0.02010297-0.06177096j]\n",
      " [-0.20404817+0.27135447j]\n",
      " [-0.01830264-0.10214563j]\n",
      " [ 0.06453396+0.0074262j ]]\n",
      "[[ 0.00707933-0.19898468j -0.11731052-0.14160347j -0.02738121-0.04086246j\n",
      "  -0.1838823 +0.07636963j -0.02010297+0.06177096j -0.20404817-0.27135447j\n",
      "  -0.01830264+0.10214563j  0.06453396-0.0074262j ]]\n",
      "[[ 0.05577207+0.17522208j]\n",
      " [ 0.16361486-0.11346894j]\n",
      " [-0.16361486+0.11346894j]\n",
      " [ 0.0491787 +0.00096241j]\n",
      " [ 0.11808922+0.31831406j]\n",
      " [-0.04111678+0.05029106j]\n",
      " [ 0.04111678-0.05029106j]\n",
      " [-0.07606362+0.07059066j]]\n",
      "[[ 0.05577207-0.17522208j  0.16361486+0.11346894j -0.16361486-0.11346894j\n",
      "   0.0491787 -0.00096241j  0.11808922-0.31831406j -0.04111678-0.05029106j\n",
      "   0.04111678+0.05029106j -0.07606362-0.07059066j]]\n",
      "[[-0.13730606+0.10062995j]\n",
      " [-0.12278606+0.03826704j]\n",
      " [ 0.2075567 +0.03740587j]\n",
      " [-0.03769146+0.15525162j]\n",
      " [ 0.11578234+0.15506975j]\n",
      " [ 0.10816807-0.04257352j]\n",
      " [ 0.20612142+0.19887299j]\n",
      " [-0.03484841-0.01616316j]]\n",
      "[[-0.13730606-0.10062995j -0.12278606-0.03826704j  0.2075567 -0.03740587j\n",
      "  -0.03769146-0.15525162j  0.11578234-0.15506975j  0.10816807+0.04257352j\n",
      "   0.20612142-0.19887299j -0.03484841+0.01616316j]]\n",
      "[[ 0.00707933+0.19898468j]\n",
      " [-0.02738121+0.04086246j]\n",
      " [-0.11731052+0.14160347j]\n",
      " [-0.1838823 -0.07636963j]\n",
      " [-0.02010297-0.06177096j]\n",
      " [-0.01830264-0.10214563j]\n",
      " [-0.20404817+0.27135447j]\n",
      " [ 0.06453396+0.0074262j ]]\n",
      "[[ 0.00707933-0.19898468j -0.02738121-0.04086246j -0.11731052-0.14160347j\n",
      "  -0.1838823 +0.07636963j -0.02010297+0.06177096j -0.01830264+0.10214563j\n",
      "  -0.20404817-0.27135447j  0.06453396-0.0074262j ]]\n",
      "[[ 0.05577207+0.17522208j]\n",
      " [-0.16361486+0.11346894j]\n",
      " [ 0.16361486-0.11346894j]\n",
      " [ 0.0491787 +0.00096241j]\n",
      " [ 0.11808922+0.31831406j]\n",
      " [ 0.04111678-0.05029106j]\n",
      " [-0.04111678+0.05029106j]\n",
      " [-0.07606362+0.07059066j]]\n",
      "[[ 0.05577207-0.17522208j -0.16361486-0.11346894j  0.16361486+0.11346894j\n",
      "   0.0491787 -0.00096241j  0.11808922-0.31831406j  0.04111678+0.05029106j\n",
      "  -0.04111678-0.05029106j -0.07606362-0.07059066j]]\n",
      "[[-0.03097147+0.37375174j]\n",
      " [-0.03642302+0.04439146j]\n",
      " [-0.03642302+0.04439146j]\n",
      " [ 0.05938121-0.01592113j]\n",
      " [ 0.05535134-0.07327242j]\n",
      " [-0.08647832+0.181904j  ]\n",
      " [-0.08647832+0.181904j  ]\n",
      " [-0.07635704+0.05981787j]]\n",
      "[[-0.03097147-0.37375174j -0.03642302-0.04439146j -0.03642302-0.04439146j\n",
      "   0.05938121+0.01592113j  0.05535134+0.07327242j -0.08647832-0.181904j\n",
      "  -0.08647832-0.181904j   -0.07635704-0.05981787j]]\n",
      "[[ 0.33165593+0.07261717j]\n",
      " [-0.02010297-0.06177096j]\n",
      " [-0.02010297-0.06177096j]\n",
      " [-0.01830264-0.10214563j]\n",
      " [-0.11731052+0.14160347j]\n",
      " [-0.1838823 -0.07636963j]\n",
      " [-0.1838823 -0.07636963j]\n",
      " [-0.02576153-0.04190245j]]\n",
      "[[ 0.33165593-0.07261717j -0.02010297+0.06177096j -0.02010297+0.06177096j\n",
      "  -0.01830264+0.10214563j -0.11731052-0.14160347j -0.1838823 +0.07636963j\n",
      "  -0.1838823 +0.07636963j -0.02576153+0.04190245j]]\n",
      "[[ 0.05577207+0.17522208j]\n",
      " [-0.16361486+0.11346894j]\n",
      " [-0.16361486+0.11346894j]\n",
      " [-0.0491787 -0.00096241j]\n",
      " [-0.11808922-0.31831406j]\n",
      " [-0.04111678+0.05029106j]\n",
      " [-0.04111678+0.05029106j]\n",
      " [-0.07606362+0.07059066j]]\n",
      "[[ 0.05577207-0.17522208j -0.16361486-0.11346894j -0.16361486-0.11346894j\n",
      "  -0.0491787 +0.00096241j -0.11808922+0.31831406j -0.04111678-0.05029106j\n",
      "  -0.04111678-0.05029106j -0.07606362-0.07059066j]]\n"
     ]
    },
    {
     "name": "stderr",
     "output_type": "stream",
     "text": [
      "\n"
     ]
    }
   ],
   "source": [
    "\n",
    "# Init parameters\n",
    "num_qubits = 3\n",
    "theta = np.random.uniform(0, 2*np.pi)\n",
    "thetas = np.ones((2*num_qubits*3))\n",
    "# Init quantum tomography n qubit\n",
    "qc = qiskit.QuantumCircuit(num_qubits, num_qubits)\n",
    "qc = qtm.qtm_nqubit.create_ghz_state(qc, theta)\n",
    "# Reduce loss value in 100 steps\n",
    "thetas, loss_values_qng = qtm.base_qtm.fit(\n",
    "    qc, num_steps = 1, thetas = thetas, \n",
    "    create_circuit_func = qtm.qtm_nqubit.u_cluster_nqubit, \n",
    "    grad_func = qtm.base_qtm.grad_loss,\n",
    "    loss_func = qtm.base_qtm.loss_basis,\n",
    "    optimizer = qtm.base_qtm.qng,\n",
    "    verbose = 1\n",
    ")\n",
    "\n"
   ]
  },
  {
   "cell_type": "code",
   "execution_count": 51,
   "metadata": {},
   "outputs": [
    {
     "name": "stdout",
     "output_type": "stream",
     "text": [
      "(2, 3)\n"
     ]
    }
   ],
   "source": [
    "a = [\n",
    "    [1,2,3],\n",
    "    [4,5,6]\n",
    "]\n",
    "gradpsi = np.array(a)\n",
    "\n",
    "print(gradpsi.shape)\n",
    "# gradpsi = np.transpose(gradpsi)\n",
    "\n",
    "# print(gradpsi)\n",
    "# psi = np.array([1, 1 + 1j, 1], dtype=np.complex128)\n",
    "# psi = np.expand_dims(psi , 1)\n",
    "\n",
    "# F_elements = np.zeros(2, dtype = np.complex128)\n",
    "# for i in range(2):\n",
    "\n",
    "#     F_elements[i] = np.transpose(np.conjugate(psi)).dot(gradpsi[i])\n",
    "#     print(F_elements[i])\n"
   ]
  },
  {
   "cell_type": "code",
   "execution_count": 4,
   "metadata": {},
   "outputs": [
    {
     "data": {
      "text/plain": [
       "0.0047607421875"
      ]
     },
     "execution_count": 4,
     "metadata": {},
     "output_type": "execute_result"
    }
   ],
   "source": [
    "np.min(loss_values_qng)"
   ]
  },
  {
   "cell_type": "code",
   "execution_count": 3,
   "metadata": {},
   "outputs": [
    {
     "data": {
      "image/png": "[encoded data removed]",
      "text/plain": [
       "<Figure size 432x288 with 1 Axes>"
      ]
     },
     "metadata": {
      "needs_background": "light"
     },
     "output_type": "display_data"
    }
   ],
   "source": [
    "# Plot loss value in 100 steps\n",
    "\n",
    "plt.plot(loss_values_qng, label='QNG-Adam', linestyle = ':')\n",
    "plt.title('GHZinitstate_3qubit')\n",
    "plt.legend()\n",
    "plt.xlabel(\"Iteration\")\n",
    "plt.ylabel(\"Loss value\")\n",
    "plt.show() "
   ]
  }
 ],
 "metadata": {
  "interpreter": {
   "hash": "770b641b4564229c593d803dcff32fdd6beb94e7a78ba8806c95b100ce213599"
  },
  "kernelspec": {
   "display_name": "Python 3.8.0 64-bit",
   "language": "python",
   "name": "python3"
  },
  "language_info": {
   "codemirror_mode": {
    "name": "ipython",
    "version": 3
   },
   "file_extension": ".py",
   "mimetype": "text/x-python",
   "name": "python",
   "nbconvert_exporter": "python",
   "pygments_lexer": "ipython3",
   "version": "3.8.0"
  },
  "orig_nbformat": 4
 },
 "nbformat": 4,
 "nbformat_minor": 2
}
