{
 "cells": [
  {
   "cell_type": "markdown",
   "metadata": {},
   "source": [
    "### Quantum Fisher Information matrix\n",
    "\n",
    "<img src=\"../images/qfim.png\">\n",
    "\n",
    "I have coded QFIM function and test it on 1qubit case"
   ]
  },
  {
   "cell_type": "markdown",
   "metadata": {},
   "source": [
    "$\\partial_\\theta|\\psi\\rangle$ can be calculated by on the below equation (from Le Bin Ho):\n",
    "\n",
    "<img src=\"../images/grad_psi.png\" width=500px/>"
   ]
  },
  {
   "cell_type": "markdown",
   "metadata": {},
   "source": [
    "The QNG are not simple as our imagin, the det of QFIM is 0 at almost step, so when using Moore-Penrose pseudo inverse the results're not good. The new solution is based on [this paper](https://arxiv.org/pdf/1909.02108.pdf). It seems to more complex, there are many that need to code:\n",
    "\n",
    "- Create function that return the generator for every circuit\n",
    "\n",
    "- Calculating the Fubini-Study tensor\n",
    "\n",
    "- Divide circuit into some layer, and use recursion on it.\n",
    "\n",
    "$R_X(\\theta)=e^{i\\frac{\\theta}{2}X}$"
   ]
  },
  {
   "cell_type": "code",
   "execution_count": 1,
   "metadata": {},
   "outputs": [],
   "source": [
    "import qiskit\n",
    "import numpy as np\n",
    "import qtm.base_qtm, qtm.constant, qtm.qtm_1qubit, qtm.qtm_nqubit\n",
    "import matplotlib.pyplot as plt\n",
    "from types import FunctionType"
   ]
  },
  {
   "cell_type": "code",
   "execution_count": 26,
   "metadata": {},
   "outputs": [],
   "source": [
    "def create_circuit(qc, thetas):\n",
    "    # |psi_0>: state preparation\n",
    "    qc.ry(np.pi / 4, 0)\n",
    "    qc.ry(np.pi / 4, 1)\n",
    "    qc.ry(np.pi / 6, 2)\n",
    "    # V0(theta0, theta1): Parametrized layer 0\n",
    "    qc.rz(thetas[0], 0)\n",
    "    qc.rz(thetas[1], 1)\n",
    "    # W1: non-parametrized gates\n",
    "    qc.cnot(0, 1)\n",
    "    qc.cnot(1, 2)\n",
    "    # V_1(theta2, theta3): Parametrized layer 1\n",
    "    qc.ry(thetas[2], 1)\n",
    "    qc.rx(thetas[3], 2)\n",
    "    # W2: non-parametrized gates\n",
    "    qc.cnot(0, 1)\n",
    "    qc.cnot(1, 2)\n",
    "    return qc\n",
    "\n",
    "def create_psi():\n",
    "    qc = qiskit.QuantumCircuit(3, 3)\n",
    "    qc.ry(np.pi / 4, 0)\n",
    "    qc.ry(np.pi / 3, 1)\n",
    "    qc.ry(np.pi / 7, 2)\n",
    "    return qc\n",
    "\n",
    "generator_ry = np.array([\n",
    "    [0, -1j],\n",
    "    [1j, 0]\n",
    "], dtype=np.complex128)\n"
   ]
  },
  {
   "cell_type": "code",
   "execution_count": 27,
   "metadata": {},
   "outputs": [
    {
     "name": "stdout",
     "output_type": "stream",
     "text": [
      "{'000': 0.6404, '010': 0.211, '001': 0.1108, '011': 0.0378}\n",
      "[[0.12651804 0.00082832]\n",
      " [0.00082832 0.18689856]]\n"
     ]
    }
   ],
   "source": [
    "\n",
    "# calculate g_ij\n",
    "qc = create_psi()\n",
    "# psi_qc = qiskit.quantum_info.Statevector.from_instruction(qc).data\n",
    "qc.measure(0, 0)\n",
    "qc.measure(1, 1)\n",
    "counts = qiskit.execute(qc, backend = qtm.constant.backend, shots = qtm.constant.num_shots).result().get_counts()\n",
    "\n",
    "for i in counts:\n",
    "    counts[i] /= qtm.constant.num_shots\n",
    "\n",
    "print(counts)\n",
    "p_q0_0 = sum([v for k, v in counts.items() if k[-1] == '0'])\n",
    "p_q0_1 = sum([v for k, v in counts.items() if k[-1] == '1'])\n",
    "p_q1_0 = sum([v for k, v in counts.items() if k[-2] == '0'])\n",
    "p_q1_1 = sum([v for k, v in counts.items() if k[-2] == '1'])\n",
    "p_q0q1_00 = sum([v for k, v in counts.items() if k[-2:] == '00'])\n",
    "p_q0q1_01 = sum([v for k, v in counts.items() if k[-2:] == '10'])\n",
    "p_q0q1_10 = sum([v for k, v in counts.items() if k[-2:] == '01'])\n",
    "p_q0q1_11 = sum([v for k, v in counts.items() if k[-2:] == '11'])\n",
    "\n",
    "\n",
    "z0 = p_q0_0 - p_q0_1\n",
    "z0_2 = 1\n",
    "z1 = p_q1_0 - p_q1_1\n",
    "z1_2 = 1\n",
    "\n",
    "z0_z1 = (p_q0_0 - p_q0_1)*(p_q1_0 - p_q1_1)\n",
    "z0z1 = p_q0q1_00 - p_q0q1_01 - p_q0q1_10 + p_q0q1_11\n",
    "\n",
    "g0 = np.zeros([2, 2])\n",
    "g0[0, 0] = z0_2 - z0**2\n",
    "g0[0, 1] = z0z1 - z0_z1\n",
    "g0[1, 0] = z0z1 - z0_z1\n",
    "g0[1, 1] = z1_2 - z1**2\n",
    "\n",
    "qc.draw('mpl')\n",
    "\n",
    "print(g0 / 4)\n"
   ]
  },
  {
   "cell_type": "markdown",
   "metadata": {},
   "source": [
    "$|\\psi_0\\rangle=R_Y(\\pi/4)\\otimes R_Y(\\pi/3)\\otimes R_Y(\\pi/7)$\n",
    "\n",
    "So $|\\psi\\rangle$ in $p(ij)$ formula means $R_Y(\\pi/4)\\otimes R_Y(\\pi/3)$?"
   ]
  },
  {
   "cell_type": "code",
   "execution_count": 24,
   "metadata": {},
   "outputs": [
    {
     "name": "stdout",
     "output_type": "stream",
     "text": [
      "p_q0_0 0.8497\n",
      "p_q0_1 0.1503\n",
      "[[0.12770991 0.00466765]\n",
      " [0.00466765 0.02389975]]\n"
     ]
    }
   ],
   "source": [
    "\n",
    "# calculate g_ij\n",
    "qc = create_psi()\n",
    "# psi_qc = qiskit.quantum_info.Statevector.from_instruction(qc).data\n",
    "qc.measure(0, 0)\n",
    "counts = qiskit.execute(qc, backend = qtm.constant.backend, shots = qtm.constant.num_shots).result().get_counts()\n",
    "\n",
    "for i in counts:\n",
    "    counts[i] /= qtm.constant.num_shots\n",
    "\n",
    "p_q0_0 = sum([v for k, v in counts.items() if k[-1] == '0'])\n",
    "p_q0_1 = sum([v for k, v in counts.items() if k[-1] == '1'])\n",
    "\n",
    "print('p_q0_0', p_q0_0)\n",
    "print('p_q0_1', p_q0_1)\n",
    "\n",
    "qc = create_psi()\n",
    "qc.measure(1, 1)\n",
    "counts = qiskit.execute(qc, backend = qtm.constant.backend, shots = qtm.constant.num_shots).result().get_counts()\n",
    "for i in counts:\n",
    "    counts[i] /= qtm.constant.num_shots\n",
    "\n",
    "p_q1_0 = sum([v for k, v in counts.items() if k[-2] == '0'])\n",
    "p_q1_1 = sum([v for k, v in counts.items() if k[-2] == '1'])\n",
    "\n",
    "qc = create_psi()\n",
    "qc.measure(0, 0)\n",
    "qc.measure(1, 1)\n",
    "counts = qiskit.execute(qc, backend = qtm.constant.backend, shots = qtm.constant.num_shots).result().get_counts()\n",
    "for i in counts:\n",
    "    counts[i] /= qtm.constant.num_shots\n",
    "\n",
    "p_q0q1_00 = sum([v for k, v in counts.items() if k[-2:] == '00'])\n",
    "p_q0q1_01 = sum([v for k, v in counts.items() if k[-2:] == '10'])\n",
    "p_q0q1_10 = sum([v for k, v in counts.items() if k[-2:] == '01'])\n",
    "p_q0q1_11 = sum([v for k, v in counts.items() if k[-2:] == '11'])\n",
    "\n",
    "\n",
    "z0 = p_q0_0 - p_q0_1\n",
    "z0_2 = 1\n",
    "z1 = p_q1_0 - p_q1_1\n",
    "z1_2 = 1\n",
    "\n",
    "z0_z1 = (p_q0_0 - p_q0_1)*(p_q1_0 - p_q1_1)\n",
    "z0z1 = p_q0q1_00 - p_q0q1_01 - p_q0q1_10 + p_q0q1_11\n",
    "\n",
    "g0 = np.zeros([2, 2])\n",
    "g0[0, 0] = z0_2 - z0**2\n",
    "g0[0, 1] = z0z1 - z0_z1\n",
    "g0[1, 0] = z0z1 - z0_z1\n",
    "g0[1, 1] = z1_2 - z1**2\n",
    "\n",
    "qc.draw('mpl')\n",
    "\n",
    "print(g0 / 4)\n"
   ]
  },
  {
   "cell_type": "code",
   "execution_count": 20,
   "metadata": {},
   "outputs": [
    {
     "name": "stdout",
     "output_type": "stream",
     "text": [
      "[[0.125      0.        ]\n",
      " [0.         0.02387288]]\n"
     ]
    }
   ],
   "source": [
    "import pennylane as qml\n",
    "from pennylane import numpy as np\n",
    "\n",
    "dev = qml.device(\"default.qubit\", wires=3)\n",
    "g0 = np.zeros([2, 2])\n",
    "params = np.array([0.432, -0.123, 0.543, 0.233])\n",
    "\n",
    "def layer0_subcircuit(params):\n",
    "    \"\"\"This function contains all gates that\n",
    "    precede parametrized layer 0\"\"\"\n",
    "    qml.RY(np.pi / 4, wires=0)\n",
    "    qml.RY(np.pi / 10, wires=1)\n",
    "    qml.RY(np.pi / 6, wires=2)\n",
    "@qml.qnode(dev)\n",
    "def layer0_diag(params):\n",
    "    layer0_subcircuit(params)\n",
    "    return qml.var(qml.PauliZ(0)), qml.var(qml.PauliZ(1))\n",
    "\n",
    "\n",
    "# calculate the diagonal terms\n",
    "varK0, varK1 = layer0_diag(params)\n",
    "g0[0, 0] = varK0 / 4\n",
    "g0[1, 1] = varK1 / 4\n",
    "\n",
    "print(g0)"
   ]
  }
 ],
 "metadata": {
  "interpreter": {
   "hash": "b0bb45761e06d42ef60a7e329026c016a53b18e4ad51e16529481946724f1b50"
  },
  "kernelspec": {
   "display_name": "Python 3.7.6 64-bit",
   "language": "python",
   "name": "python3"
  },
  "language_info": {
   "codemirror_mode": {
    "name": "ipython",
    "version": 3
   },
   "file_extension": ".py",
   "mimetype": "text/x-python",
   "name": "python",
   "nbconvert_exporter": "python",
   "pygments_lexer": "ipython3",
   "version": "3.8.0"
  },
  "orig_nbformat": 4
 },
 "nbformat": 4,
 "nbformat_minor": 2
}
