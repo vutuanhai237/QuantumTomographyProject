{
 "cells": [
  {
   "cell_type": "code",
   "execution_count": 13,
   "source": [
    "# Needed for functions\r\n",
    "import numpy as np\r\n",
    "import time\r\n",
    "from copy import deepcopy\r\n",
    "\r\n",
    "# Import Qiskit classes\r\n",
    "import qiskit\r\n",
    "import qiskit.quantum_info as qi\r\n",
    "from qiskit import QuantumRegister, QuantumCircuit, ClassicalRegister, Aer\r\n",
    "from qiskit.providers.aer import noise\r\n",
    "from qiskit.compiler import assemble\r\n",
    "\r\n",
    "# Tomography functions\r\n",
    "from qiskit.ignis.verification.tomography import state_tomography_circuits, StateTomographyFitter\r\n",
    "from qiskit.ignis.verification.tomography import process_tomography_circuits, ProcessTomographyFitter\r\n",
    "from qiskit.ignis.verification.tomography import gateset_tomography_circuits, GatesetTomographyFitter\r\n",
    "import qiskit.ignis.mitigation.measurement as mc\r\n",
    "\r\n",
    "# Auxiliary methods\r\n",
    "from qiskit.quantum_info import Choi, Kraus\r\n",
    "from qiskit.extensions import HGate, XGate"
   ],
   "outputs": [],
   "metadata": {}
  },
  {
   "cell_type": "code",
   "execution_count": 37,
   "source": [
    "def rand_angles():\r\n",
    "    return tuple(2 * np.pi * np.random.random(3) - np.pi)\r\n",
    "\r\n",
    "nq = 1\r\n",
    "shots = 1000\r\n",
    "\r\n",
    "q = QuantumRegister(nq)\r\n",
    "circ = QuantumCircuit(q)\r\n",
    "for j in range(nq):\r\n",
    "    circ.u(*rand_angles(), q[j])\r\n",
    "\r\n",
    "\r\n",
    "target_state = qi.Statevector.from_instruction(circ)\r\n",
    "\r\n",
    "qst_circs = state_tomography_circuits(circ, q)\r\n",
    "print(qst_circs[2].draw())\r\n",
    "print(circ.draw())\r\n",
    "job = qiskit.execute(qst_circs, Aer.get_backend('qasm_simulator'),\r\n",
    "                        shots=shots)\r\n",
    "tomo_data = StateTomographyFitter(job.result(), qst_circs)\r\n",
    "rho_fit = tomo_data.fit(method='lstsq')\r\n",
    "\r\n",
    "print('F = {:.5f}'.format(qi.state_fidelity(rho_fit, target_state)))"
   ],
   "outputs": [
    {
     "output_type": "stream",
     "name": "stdout",
     "text": [
      "        ┌──────────────────────────┐ ░ ┌─┐\n",
      "q924_0: ┤ U(0.59859,1.9439,1.3072) ├─░─┤M├\n",
      "        └──────────────────────────┘ ░ └╥┘\n",
      "  c9: 1/════════════════════════════════╩═\n",
      "                                        0 \n",
      "        ┌──────────────────────────┐\n",
      "q924_0: ┤ U(0.59859,1.9439,1.3072) ├\n",
      "        └──────────────────────────┘\n",
      "F = 0.99946\n"
     ]
    }
   ],
   "metadata": {}
  }
 ],
 "metadata": {
  "orig_nbformat": 4,
  "language_info": {
   "name": "python",
   "version": "3.7.6",
   "mimetype": "text/x-python",
   "codemirror_mode": {
    "name": "ipython",
    "version": 3
   },
   "pygments_lexer": "ipython3",
   "nbconvert_exporter": "python",
   "file_extension": ".py"
  },
  "kernelspec": {
   "name": "python3",
   "display_name": "Python 3.7.6 64-bit"
  },
  "interpreter": {
   "hash": "b0bb45761e06d42ef60a7e329026c016a53b18e4ad51e16529481946724f1b50"
  }
 },
 "nbformat": 4,
 "nbformat_minor": 2
}