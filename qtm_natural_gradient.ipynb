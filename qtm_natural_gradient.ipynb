{
 "cells": [
  {
   "cell_type": "code",
   "execution_count": 5,
   "metadata": {},
   "outputs": [
    {
     "name": "stdout",
     "output_type": "stream",
     "text": [
      "[ 0.01144524 -0.02751952]\n"
     ]
    },
    {
     "name": "stderr",
     "output_type": "stream",
     "text": [
      "C:\\Users\\haime\\AppData\\Roaming\\Python\\Python37\\site-packages\\pennylane\\_grad.py:204: UserWarning: Starting with PennyLane v0.20.0, when using Autograd, inputs have to explicitly specify requires_grad=True (or the argnum argument must be passed) in order for trainable parameters to be identified.\n",
      "  UserWarning,\n",
      "C:\\Users\\haime\\AppData\\Roaming\\Python\\Python37\\site-packages\\pennylane\\_grad.py:100: UserWarning: Starting with PennyLane v0.20.0, when using Autograd, inputs have to explicitly specify requires_grad=True (or the argnum argument must be passed) in order for trainable parameters to be identified.\n",
      "  UserWarning,\n"
     ]
    }
   ],
   "source": [
    "import pennylane as qml\n",
    "from qiskit import QuantumCircuit\n",
    "from qiskit.circuit import Parameter\n",
    "import numpy as np\n",
    "\n",
    "dev = qml.device(\"default.qubit\", wires=1)\n",
    "def circuit(params, wires=0):\n",
    "    qml.RX(params[0], wires=wires)\n",
    "    qml.RY(params[1], wires=wires)\n",
    "coeffs = [1, 1]\n",
    "obs = [qml.PauliX(0), qml.PauliZ(0)]\n",
    "H = qml.Hamiltonian(coeffs, obs)\n",
    "cost_fn = qml.ExpvalCost(circuit, H, dev)\n",
    "\n",
    "eta = 0.01\n",
    "init_params = np.array([0.011, 0.012])\n",
    "opt = qml.QNGOptimizer(eta)\n",
    "theta_new = opt.step(cost_fn, init_params)\n",
    "print(theta_new)"
   ]
  },
  {
   "cell_type": "code",
   "execution_count": 8,
   "metadata": {},
   "outputs": [
    {
     "name": "stdout",
     "output_type": "stream",
     "text": [
      "6.410757253368615\n",
      "1.4319750469207175\n",
      "-3.5680249530792825\n",
      "-6.5680249530792825\n",
      "-7.5680249530792825\n",
      "-7.5680249530792825\n",
      "-7.5680249530792825\n",
      "-7.5680249530792825\n",
      "-7.5680249530792825\n",
      "-7.5680249530792825\n",
      "-7.5680249530792825\n",
      "-7.5680249530792825\n",
      "-7.5680249530792825\n",
      "-7.5680249530792825\n",
      "-7.5680249530792825\n",
      "-7.5680249530792825\n",
      "-7.5680249530792825\n",
      "-7.5680249530792825\n",
      "-7.5680249530792825\n",
      "-7.5680249530792825\n"
     ]
    },
    {
     "data": {
      "image/png": "[encoded data removed]",
      "text/plain": [
       "<Figure size 432x288 with 1 Axes>"
      ]
     },
     "metadata": {
      "needs_background": "light"
     },
     "output_type": "display_data"
    }
   ],
   "source": [
    "import numpy as np\n",
    "import qtm.base_qtm\n",
    "import matplotlib.pyplot as plt\n",
    "\n",
    "\n",
    "def f(thetas):\n",
    "    return thetas[0] ** 2 + 10*np.sin(thetas[1] - 4)\n",
    "\n",
    "\n",
    "# derivative of objective function\n",
    "def df(thetas):\n",
    "    return np.asarray([2*thetas[0], 10*np.cos(thetas[1] - 4)])\n",
    "\n",
    "\n",
    "thetas = np.array([5, 10])\n",
    "loss = []\n",
    "for k in range(0, 10):\n",
    "    for i in range(0, thetas.shape[0]):\n",
    "        if i == 0:\n",
    "            m = list(np.zeros(thetas.shape[0]))\n",
    "            v = list(np.zeros(thetas.shape[0]))\n",
    "        thetas = qtm.base_qtm.adam(thetas, m, v, k, df(thetas))\n",
    "        \n",
    "        loss.append(f(thetas))\n",
    "        print(f(thetas))\n",
    "\n",
    "plt.plot(loss)\n",
    "plt.xlabel(\"Step\")\n",
    "plt.ylabel(\"Loss value\")\n",
    "plt.show()\n"
   ]
  }
 ],
 "metadata": {
  "interpreter": {
   "hash": "b0bb45761e06d42ef60a7e329026c016a53b18e4ad51e16529481946724f1b50"
  },
  "kernelspec": {
   "display_name": "Python 3.7.6 64-bit",
   "language": "python",
   "name": "python3"
  },
  "language_info": {
   "codemirror_mode": {
    "name": "ipython",
    "version": 3
   },
   "file_extension": ".py",
   "mimetype": "text/x-python",
   "name": "python",
   "nbconvert_exporter": "python",
   "pygments_lexer": "ipython3",
   "version": "3.7.6"
  },
  "orig_nbformat": 4
 },
 "nbformat": 4,
 "nbformat_minor": 2
}
