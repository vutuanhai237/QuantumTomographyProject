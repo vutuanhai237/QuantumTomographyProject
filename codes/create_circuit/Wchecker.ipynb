{
 "cells": [
  {
   "cell_type": "markdown",
   "metadata": {},
   "source": [
    "# Quantum tomography W-checker"
   ]
  },
  {
   "cell_type": "markdown",
   "metadata": {},
   "source": [
    "\n",
    "Check for the hidden state is W state or not?\n",
    "\n",
    "<img src='../../images/binho_checkstate.png' width = 500px/>\n",
    "\n",
    "The $U_{gen}$ is generated from n-layers circuit:\n",
    "\n",
    "<img src='../../images/complex_n_layer.png' width = 500px/>\n",
    "\n",
    "the $U_{target}$ is constructing W circuit inverse:\n",
    "\n",
    "<img src='../../images/check_w_state.png'/>"
   ]
  },
  {
   "cell_type": "code",
   "execution_count": 1,
   "metadata": {},
   "outputs": [],
   "source": [
    "import qiskit, sys\n",
    "import numpy as np, matplotlib.pyplot as plt\n",
    "sys.path.insert(1, '../')\n",
    "import qtm.base, qtm.constant, qtm.nqubit, qtm.onequbit, qtm.custom_gate"
   ]
  },
  {
   "cell_type": "code",
   "execution_count": 66,
   "metadata": {},
   "outputs": [
    {
     "name": "stderr",
     "output_type": "stream",
     "text": [
      "Step: 100%|██████████| 100/100 [28:26<00:00, 17.07s/it]\n"
     ]
    }
   ],
   "source": [
    "# Init parameters\n",
    "num_qubits = 9\n",
    "# For arbitrary initial state\n",
    "num_layers = 2\n",
    "thetas = np.ones(num_qubits*num_layers*5)\n",
    "# For determine W state\n",
    "\n",
    "qc = qiskit.QuantumCircuit(num_qubits, num_qubits)\n",
    "thetass, loss_values = qtm.base.fit(\n",
    "    qc, num_steps = 100, thetas = thetas, \n",
    "    create_circuit_func = qtm.nqubit.create_Wchecker_koczor, \n",
    "    grad_func = qtm.base.grad_loss,\n",
    "    loss_func = qtm.base.loss_fubini_study,\n",
    "    optimizer = qtm.base.adam,\n",
    "    verbose = 1,\n",
    "    num_layers = num_layers,\n",
    "    is_return_all_thetas = True\n",
    ")"
   ]
  },
  {
   "cell_type": "code",
   "execution_count": 67,
   "metadata": {},
   "outputs": [],
   "source": [
    "np.savetxt(\"../../experiments/linear_ansatz_w/\" + str(num_qubits) + \"/loss_values_adam.csv\", loss_values, delimiter=\",\")\n",
    "np.savetxt(\"../../experiments/linear_ansatz_w/\" + str(num_qubits) + \"/thetass_adam.csv\", thetass, delimiter=\",\")"
   ]
  },
  {
   "cell_type": "code",
   "execution_count": 68,
   "metadata": {},
   "outputs": [
    {
     "data": {
      "text/plain": [
       "[<matplotlib.lines.Line2D at 0x2090ac65640>]"
      ]
     },
     "execution_count": 68,
     "metadata": {},
     "output_type": "execute_result"
    },
    {
     "data": {
      "image/png": "[encoded data removed]",
      "text/plain": [
       "<Figure size 432x288 with 1 Axes>"
      ]
     },
     "metadata": {
      "needs_background": "light"
     },
     "output_type": "display_data"
    }
   ],
   "source": [
    "plt.plot(loss_values)"
   ]
  },
  {
   "cell_type": "code",
   "execution_count": 69,
   "metadata": {},
   "outputs": [],
   "source": [
    "traces, fidelities = [], []\n",
    "for thetas in thetass:\n",
    "    # Get |psi> = U_gen|000...>\n",
    "    qc = qiskit.QuantumCircuit(num_qubits, num_qubits)\n",
    "    qc = qtm.nqubit.create_koczor_state(qc, thetas, num_layers = num_layers)\n",
    "    psi = qiskit.quantum_info.Statevector.from_instruction(qc)\n",
    "    rho_psi = qiskit.quantum_info.DensityMatrix(psi)\n",
    "    # Get |psi~> = U_target|000...>\n",
    "    qc1 = qiskit.QuantumCircuit(num_qubits, num_qubits)\n",
    "    qc1 = qtm.nqubit.create_w_state(qc1)\n",
    "    psi_hat = qiskit.quantum_info.Statevector.from_instruction(qc1)\n",
    "    rho_psi_hat = qiskit.quantum_info.DensityMatrix(psi_hat)\n",
    "    # Calculate the metrics\n",
    "    trace, fidelity = qtm.base.get_metrics(psi, psi_hat)\n",
    "    traces.append(trace)\n",
    "    fidelities.append(fidelity)\n",
    "np.savetxt(\"../../experiments/linear_ansatz_w/\" + str(num_qubits) + \"/traces_adam.csv\", traces, delimiter=\",\")\n",
    "np.savetxt(\"../../experiments/linear_ansatz_w/\" + str(num_qubits) + \"/fidelities_adam.csv\", fidelities, delimiter=\",\")"
   ]
  }
 ],
 "metadata": {
  "interpreter": {
   "hash": "b0bb45761e06d42ef60a7e329026c016a53b18e4ad51e16529481946724f1b50"
  },
  "kernelspec": {
   "display_name": "Python 3.7.6 64-bit",
   "name": "python3"
  },
  "language_info": {
   "codemirror_mode": {
    "name": "ipython",
    "version": 3
   },
   "file_extension": ".py",
   "mimetype": "text/x-python",
   "name": "python",
   "nbconvert_exporter": "python",
   "pygments_lexer": "ipython3",
   "version": "3.9.10"
  },
  "orig_nbformat": 4
 },
 "nbformat": 4,
 "nbformat_minor": 2
}
