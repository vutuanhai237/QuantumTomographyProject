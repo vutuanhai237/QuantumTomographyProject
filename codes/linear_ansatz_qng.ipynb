{
 "cells": [
  {
   "cell_type": "code",
   "execution_count": 14,
   "metadata": {},
   "outputs": [
    {
     "data": {
      "text/plain": [
       "<module 'qtm.fubini_study' from 'c:\\\\Users\\\\haime\\\\OneDrive\\\\Máy tính\\\\QuantumTomography\\\\codes\\\\qtm\\\\fubini_study.py'>"
      ]
     },
     "execution_count": 14,
     "metadata": {},
     "output_type": "execute_result"
    }
   ],
   "source": [
    "import qiskit\n",
    "import numpy as np\n",
    "import matplotlib.pyplot as plt\n",
    "import importlib\n",
    "import qtm.base, qtm.constant, qtm.nqubit, qtm.fubini_study, qtm.progress_bar\n",
    "importlib.reload(qtm.fubini_study)"
   ]
  },
  {
   "cell_type": "markdown",
   "metadata": {},
   "source": [
    "### GHZ"
   ]
  },
  {
   "cell_type": "code",
   "execution_count": 10,
   "metadata": {},
   "outputs": [
    {
     "data": {
      "image/png": "[encoded data removed]",
      "text/plain": [
       "<Figure size 808.997x264.88 with 1 Axes>"
      ]
     },
     "execution_count": 10,
     "metadata": {},
     "output_type": "execute_result"
    }
   ],
   "source": [
    "num_qubits = 3\n",
    "num_layers = 1\n",
    "thetas = np.ones(num_qubits*num_layers*5)\n",
    "theta = np.pi / 2\n",
    "qc = qiskit.QuantumCircuit(num_qubits, num_qubits)\n",
    "qc = qtm.nqubit.create_GHZchecker_linear(qc, thetas, num_layers, theta)\n",
    "qc.draw('mpl')"
   ]
  },
  {
   "cell_type": "code",
   "execution_count": 11,
   "metadata": {},
   "outputs": [
    {
     "name": "stdout",
     "output_type": "stream",
     "text": [
      "[['rx', 2], ['rx', 1], ['rx', 0]]\n",
      "[['cry', 2]]\n",
      "[['cry', 1]]\n",
      "[['cry', 0]]\n",
      "[['rz', 2], ['rz', 1], ['rz', 0]]\n",
      "[['cry', 1]]\n",
      "[['cry', 0]]\n",
      "[['cry', 2]]\n",
      "[['rz', 2], ['rz', 1], ['rz', 0]]\n",
      "     ┌───────┐┌───────┐                  ┌───────┐                  ┌───────┐»\n",
      "q_0: ┤ Rx(1) ├┤ Ry(1) ├─────────────■────┤ Rz(1) ├────■─────────────┤ Ry(1) ├»\n",
      "     ├───────┤└───┬───┘┌───────┐    │    ├───────┤┌───┴───┐         └───┬───┘»\n",
      "q_1: ┤ Rx(1) ├────■────┤ Ry(1) ├────┼────┤ Rz(1) ├┤ Ry(1) ├────■────────┼────»\n",
      "     ├───────┤         └───┬───┘┌───┴───┐├───────┤└───────┘┌───┴───┐    │    »\n",
      "q_2: ┤ Rx(1) ├─────────────■────┤ Ry(1) ├┤ Rz(1) ├─────────┤ Ry(1) ├────■────»\n",
      "     └───────┘                  └───────┘└───────┘         └───────┘         »\n",
      "c: 3/════════════════════════════════════════════════════════════════════════»\n",
      "                                                                             »\n",
      "«     ┌───────┐\n",
      "«q_0: ┤ Rz(1) ├\n",
      "«     ├───────┤\n",
      "«q_1: ┤ Rz(1) ├\n",
      "«     ├───────┤\n",
      "«q_2: ┤ Rz(1) ├\n",
      "«     └───────┘\n",
      "«c: 3/═════════\n",
      "«              \n",
      "[[0.25      +0.j 0.        +0.j 0.        +0.j 0.        +0.j\n",
      "  0.        +0.j 0.        +0.j 0.        +0.j 0.        +0.j\n",
      "  0.        +0.j 0.        +0.j 0.        +0.j 0.        +0.j\n",
      "  0.        +0.j 0.        +0.j 0.        +0.j]\n",
      " [0.        +0.j 0.25      +0.j 0.        +0.j 0.        +0.j\n",
      "  0.        +0.j 0.        +0.j 0.        +0.j 0.        +0.j\n",
      "  0.        +0.j 0.        +0.j 0.        +0.j 0.        +0.j\n",
      "  0.        +0.j 0.        +0.j 0.        +0.j]\n",
      " [0.        +0.j 0.        +0.j 0.25      +0.j 0.        +0.j\n",
      "  0.        +0.j 0.        +0.j 0.        +0.j 0.        +0.j\n",
      "  0.        +0.j 0.        +0.j 0.        +0.j 0.        +0.j\n",
      "  0.        +0.j 0.        +0.j 0.        +0.j]\n",
      " [0.        +0.j 0.        +0.j 0.        +0.j 0.01271355+0.j\n",
      "  0.        +0.j 0.        +0.j 0.        +0.j 0.        +0.j\n",
      "  0.        +0.j 0.        +0.j 0.        +0.j 0.        +0.j\n",
      "  0.        +0.j 0.        +0.j 0.        +0.j]\n",
      " [0.        +0.j 0.        +0.j 0.        +0.j 0.        +0.j\n",
      "  0.01446734+0.j 0.        +0.j 0.        +0.j 0.        +0.j\n",
      "  0.        +0.j 0.        +0.j 0.        +0.j 0.        +0.j\n",
      "  0.        +0.j 0.        +0.j 0.        +0.j]\n",
      " [0.        +0.j 0.        +0.j 0.        +0.j 0.        +0.j\n",
      "  0.        +0.j 0.023486  +0.j 0.        +0.j 0.        +0.j\n",
      "  0.        +0.j 0.        +0.j 0.        +0.j 0.        +0.j\n",
      "  0.        +0.j 0.        +0.j 0.        +0.j]\n",
      " [0.        +0.j 0.        +0.j 0.        +0.j 0.        +0.j\n",
      "  0.        +0.j 0.        +0.j 0.19162619+0.j 0.02759231+0.j\n",
      "  0.04516312+0.j 0.        +0.j 0.        +0.j 0.        +0.j\n",
      "  0.        +0.j 0.        +0.j 0.        +0.j]\n",
      " [0.        +0.j 0.        +0.j 0.        +0.j 0.        +0.j\n",
      "  0.        +0.j 0.        +0.j 0.02759231+0.j 0.20641165+0.j\n",
      "  0.04910775+0.j 0.        +0.j 0.        +0.j 0.        +0.j\n",
      "  0.        +0.j 0.        +0.j 0.        +0.j]\n",
      " [0.        +0.j 0.        +0.j 0.        +0.j 0.        +0.j\n",
      "  0.        +0.j 0.        +0.j 0.04516312+0.j 0.04910775+0.j\n",
      "  0.20621355+0.j 0.        +0.j 0.        +0.j 0.        +0.j\n",
      "  0.        +0.j 0.        +0.j 0.        +0.j]\n",
      " [0.        +0.j 0.        +0.j 0.        +0.j 0.        +0.j\n",
      "  0.        +0.j 0.        +0.j 0.        +0.j 0.        +0.j\n",
      "  0.        +0.j 0.03006576+0.j 0.        +0.j 0.        +0.j\n",
      "  0.        +0.j 0.        +0.j 0.        +0.j]\n",
      " [0.        +0.j 0.        +0.j 0.        +0.j 0.        +0.j\n",
      "  0.        +0.j 0.        +0.j 0.        +0.j 0.        +0.j\n",
      "  0.        +0.j 0.        +0.j 0.05343161+0.j 0.        +0.j\n",
      "  0.        +0.j 0.        +0.j 0.        +0.j]\n",
      " [0.        +0.j 0.        +0.j 0.        +0.j 0.        +0.j\n",
      "  0.        +0.j 0.        +0.j 0.        +0.j 0.        +0.j\n",
      "  0.        +0.j 0.        +0.j 0.        +0.j 0.08924266+0.j\n",
      "  0.        +0.j 0.        +0.j 0.        +0.j]\n",
      " [0.        +0.j 0.        +0.j 0.        +0.j 0.        +0.j\n",
      "  0.        +0.j 0.        +0.j 0.        +0.j 0.        +0.j\n",
      "  0.        +0.j 0.        +0.j 0.        +0.j 0.        +0.j\n",
      "  0.24677941+0.j 0.17567277+0.j 0.18712829+0.j]\n",
      " [0.        +0.j 0.        +0.j 0.        +0.j 0.        +0.j\n",
      "  0.        +0.j 0.        +0.j 0.        +0.j 0.        +0.j\n",
      "  0.        +0.j 0.        +0.j 0.        +0.j 0.        +0.j\n",
      "  0.17567277+0.j 0.24042382+0.j 0.17191296+0.j]\n",
      " [0.        +0.j 0.        +0.j 0.        +0.j 0.        +0.j\n",
      "  0.        +0.j 0.        +0.j 0.        +0.j 0.        +0.j\n",
      "  0.        +0.j 0.        +0.j 0.        +0.j 0.        +0.j\n",
      "  0.18712829+0.j 0.17191296+0.j 0.2487905 +0.j]]\n"
     ]
    }
   ],
   "source": [
    "num_qubits = 3\n",
    "num_layers = 1\n",
    "thetas = np.ones(num_qubits*num_layers*5)\n",
    "theta = np.pi / 2\n",
    "qc = qiskit.QuantumCircuit(num_qubits, num_qubits)\n",
    "loss_values = []\n",
    "thetass = []\n",
    "G = qtm.fubini_study.qng(qc.copy(), thetas, qtm.nqubit.create_linear_state, num_layers)\n",
    "print(G)"
   ]
  },
  {
   "cell_type": "code",
   "execution_count": 15,
   "metadata": {},
   "outputs": [
    {
     "name": "stderr",
     "output_type": "stream",
     "text": [
      "Step:   1%|          | 1/100 [00:36<59:36, 36.13s/it]\n"
     ]
    },
    {
     "ename": "KeyboardInterrupt",
     "evalue": "",
     "output_type": "error",
     "traceback": [
      "\u001b[1;31m---------------------------------------------------------------------------\u001b[0m",
      "\u001b[1;31mKeyboardInterrupt\u001b[0m                         Traceback (most recent call last)",
      "\u001b[1;32mc:\\Users\\haime\\OneDrive\\Máy tính\\QuantumTomography\\codes\\linear_ansatz_qng.ipynb Cell 5'\u001b[0m in \u001b[0;36m<module>\u001b[1;34m\u001b[0m\n\u001b[0;32m     <a href='vscode-notebook-cell:/c%3A/Users/haime/OneDrive/M%C3%A1y%20t%C3%ADnh/QuantumTomography/codes/linear_ansatz_qng.ipynb#ch0000018?line=9'>10</a>\u001b[0m bar\u001b[39m.\u001b[39mupdate(\u001b[39m1\u001b[39m)\n\u001b[0;32m     <a href='vscode-notebook-cell:/c%3A/Users/haime/OneDrive/M%C3%A1y%20t%C3%ADnh/QuantumTomography/codes/linear_ansatz_qng.ipynb#ch0000018?line=10'>11</a>\u001b[0m G \u001b[39m=\u001b[39m qtm\u001b[39m.\u001b[39mfubini_study\u001b[39m.\u001b[39mqng(qc\u001b[39m.\u001b[39mcopy(), thetas, qtm\u001b[39m.\u001b[39mnqubit\u001b[39m.\u001b[39mcreate_linear_state, num_layers)\n\u001b[1;32m---> <a href='vscode-notebook-cell:/c%3A/Users/haime/OneDrive/M%C3%A1y%20t%C3%ADnh/QuantumTomography/codes/linear_ansatz_qng.ipynb#ch0000018?line=11'>12</a>\u001b[0m grad_loss \u001b[39m=\u001b[39m qtm\u001b[39m.\u001b[39;49mbase\u001b[39m.\u001b[39;49mgrad_loss(\n\u001b[0;32m     <a href='vscode-notebook-cell:/c%3A/Users/haime/OneDrive/M%C3%A1y%20t%C3%ADnh/QuantumTomography/codes/linear_ansatz_qng.ipynb#ch0000018?line=12'>13</a>\u001b[0m     qc, \n\u001b[0;32m     <a href='vscode-notebook-cell:/c%3A/Users/haime/OneDrive/M%C3%A1y%20t%C3%ADnh/QuantumTomography/codes/linear_ansatz_qng.ipynb#ch0000018?line=13'>14</a>\u001b[0m     qtm\u001b[39m.\u001b[39;49mnqubit\u001b[39m.\u001b[39;49mcreate_GHZchecker_linear, \n\u001b[0;32m     <a href='vscode-notebook-cell:/c%3A/Users/haime/OneDrive/M%C3%A1y%20t%C3%ADnh/QuantumTomography/codes/linear_ansatz_qng.ipynb#ch0000018?line=14'>15</a>\u001b[0m     thetas, r \u001b[39m=\u001b[39;49m \u001b[39m1\u001b[39;49m\u001b[39m/\u001b[39;49m\u001b[39m2\u001b[39;49m, s \u001b[39m=\u001b[39;49m np\u001b[39m.\u001b[39;49mpi\u001b[39m/\u001b[39;49m\u001b[39m2\u001b[39;49m, num_layers \u001b[39m=\u001b[39;49m num_layers, theta \u001b[39m=\u001b[39;49m theta)\n\u001b[0;32m     <a href='vscode-notebook-cell:/c%3A/Users/haime/OneDrive/M%C3%A1y%20t%C3%ADnh/QuantumTomography/codes/linear_ansatz_qng.ipynb#ch0000018?line=15'>16</a>\u001b[0m thetas \u001b[39m=\u001b[39m np\u001b[39m.\u001b[39mreal(thetas \u001b[39m-\u001b[39m qtm\u001b[39m.\u001b[39mconstant\u001b[39m.\u001b[39mlearning_rate\u001b[39m*\u001b[39m(np\u001b[39m.\u001b[39mlinalg\u001b[39m.\u001b[39mpinv(G) \u001b[39m@\u001b[39m grad_loss))   \n\u001b[0;32m     <a href='vscode-notebook-cell:/c%3A/Users/haime/OneDrive/M%C3%A1y%20t%C3%ADnh/QuantumTomography/codes/linear_ansatz_qng.ipynb#ch0000018?line=16'>17</a>\u001b[0m qc_copy \u001b[39m=\u001b[39m qtm\u001b[39m.\u001b[39mnqubit\u001b[39m.\u001b[39mcreate_GHZchecker_linear(qc\u001b[39m.\u001b[39mcopy(), thetas, num_layers, theta)\n",
      "File \u001b[1;32mc:\\Users\\haime\\OneDrive\\Máy tính\\QuantumTomography\\codes\\qtm\\base.py:224\u001b[0m, in \u001b[0;36mgrad_loss\u001b[1;34m(qc, create_circuit_func, thetas, r, s, **kwargs)\u001b[0m\n\u001b[0;32m    <a href='file:///c%3A/Users/haime/OneDrive/M%C3%A1y%20t%C3%ADnh/QuantumTomography/codes/qtm/base.py?line=218'>219</a>\u001b[0m     qc1 \u001b[39m=\u001b[39m create_circuit_func(qc\u001b[39m.\u001b[39mcopy(), thetas1, \u001b[39m*\u001b[39m\u001b[39m*\u001b[39mkwargs)\n\u001b[0;32m    <a href='file:///c%3A/Users/haime/OneDrive/M%C3%A1y%20t%C3%ADnh/QuantumTomography/codes/qtm/base.py?line=219'>220</a>\u001b[0m     qc2 \u001b[39m=\u001b[39m create_circuit_func(qc\u001b[39m.\u001b[39mcopy(), thetas2, \u001b[39m*\u001b[39m\u001b[39m*\u001b[39mkwargs)\n\u001b[0;32m    <a href='file:///c%3A/Users/haime/OneDrive/M%C3%A1y%20t%C3%ADnh/QuantumTomography/codes/qtm/base.py?line=221'>222</a>\u001b[0m     grad_loss[i] \u001b[39m=\u001b[39m \u001b[39m-\u001b[39mr \u001b[39m*\u001b[39m (\n\u001b[0;32m    <a href='file:///c%3A/Users/haime/OneDrive/M%C3%A1y%20t%C3%ADnh/QuantumTomography/codes/qtm/base.py?line=222'>223</a>\u001b[0m         qtm\u001b[39m.\u001b[39mbase\u001b[39m.\u001b[39mmeasure(qc1, \u001b[39mlist\u001b[39m(\u001b[39mrange\u001b[39m(qc1\u001b[39m.\u001b[39mnum_qubits))) \u001b[39m-\u001b[39m\n\u001b[1;32m--> <a href='file:///c%3A/Users/haime/OneDrive/M%C3%A1y%20t%C3%ADnh/QuantumTomography/codes/qtm/base.py?line=223'>224</a>\u001b[0m         qtm\u001b[39m.\u001b[39;49mbase\u001b[39m.\u001b[39;49mmeasure(qc2, \u001b[39mlist\u001b[39;49m(\u001b[39mrange\u001b[39;49m(qc2\u001b[39m.\u001b[39;49mnum_qubits))))\n\u001b[0;32m    <a href='file:///c%3A/Users/haime/OneDrive/M%C3%A1y%20t%C3%ADnh/QuantumTomography/codes/qtm/base.py?line=224'>225</a>\u001b[0m \u001b[39mreturn\u001b[39;00m grad_loss\n",
      "File \u001b[1;32mc:\\Users\\haime\\OneDrive\\Máy tính\\QuantumTomography\\codes\\qtm\\base.py:93\u001b[0m, in \u001b[0;36mmeasure\u001b[1;34m(qc, qubits, cbits)\u001b[0m\n\u001b[0;32m     <a href='file:///c%3A/Users/haime/OneDrive/M%C3%A1y%20t%C3%ADnh/QuantumTomography/codes/qtm/base.py?line=90'>91</a>\u001b[0m     counts \u001b[39m=\u001b[39m meas_filter\u001b[39m.\u001b[39mapply(counts\u001b[39m.\u001b[39mcopy())\n\u001b[0;32m     <a href='file:///c%3A/Users/haime/OneDrive/M%C3%A1y%20t%C3%ADnh/QuantumTomography/codes/qtm/base.py?line=91'>92</a>\u001b[0m \u001b[39melse\u001b[39;00m:\n\u001b[1;32m---> <a href='file:///c%3A/Users/haime/OneDrive/M%C3%A1y%20t%C3%ADnh/QuantumTomography/codes/qtm/base.py?line=92'>93</a>\u001b[0m     counts \u001b[39m=\u001b[39m qiskit\u001b[39m.\u001b[39;49mexecute(\n\u001b[0;32m     <a href='file:///c%3A/Users/haime/OneDrive/M%C3%A1y%20t%C3%ADnh/QuantumTomography/codes/qtm/base.py?line=93'>94</a>\u001b[0m         qc, backend\u001b[39m=\u001b[39;49mqtm\u001b[39m.\u001b[39;49mconstant\u001b[39m.\u001b[39;49mbackend,\n\u001b[0;32m     <a href='file:///c%3A/Users/haime/OneDrive/M%C3%A1y%20t%C3%ADnh/QuantumTomography/codes/qtm/base.py?line=94'>95</a>\u001b[0m         shots\u001b[39m=\u001b[39;49mqtm\u001b[39m.\u001b[39;49mconstant\u001b[39m.\u001b[39;49mnum_shots)\u001b[39m.\u001b[39mresult()\u001b[39m.\u001b[39mget_counts()\n\u001b[0;32m     <a href='file:///c%3A/Users/haime/OneDrive/M%C3%A1y%20t%C3%ADnh/QuantumTomography/codes/qtm/base.py?line=96'>97</a>\u001b[0m \u001b[39mreturn\u001b[39;00m counts\u001b[39m.\u001b[39mget(\u001b[39m\"\u001b[39m\u001b[39m0\u001b[39m\u001b[39m\"\u001b[39m \u001b[39m*\u001b[39m \u001b[39mlen\u001b[39m(qubits), \u001b[39m0\u001b[39m) \u001b[39m/\u001b[39m qtm\u001b[39m.\u001b[39mconstant\u001b[39m.\u001b[39mnum_shots\n",
      "File \u001b[1;32m~\\AppData\\Local\\Programs\\Python\\Python38\\lib\\site-packages\\qiskit\\execute_function.py:294\u001b[0m, in \u001b[0;36mexecute\u001b[1;34m(experiments, backend, basis_gates, coupling_map, backend_properties, initial_layout, seed_transpiler, optimization_level, pass_manager, qobj_id, qobj_header, shots, memory, max_credits, seed_simulator, default_qubit_los, default_meas_los, qubit_lo_range, meas_lo_range, schedule_los, meas_level, meas_return, memory_slots, memory_slot_size, rep_time, rep_delay, parameter_binds, schedule_circuit, inst_map, meas_map, scheduling_method, init_qubits, **run_config)\u001b[0m\n\u001b[0;32m    <a href='file:///c%3A/Users/haime/AppData/Local/Programs/Python/Python38/lib/site-packages/qiskit/execute_function.py?line=290'>291</a>\u001b[0m     experiments \u001b[39m=\u001b[39m pass_manager\u001b[39m.\u001b[39mrun(experiments)\n\u001b[0;32m    <a href='file:///c%3A/Users/haime/AppData/Local/Programs/Python/Python38/lib/site-packages/qiskit/execute_function.py?line=291'>292</a>\u001b[0m \u001b[39melse\u001b[39;00m:\n\u001b[0;32m    <a href='file:///c%3A/Users/haime/AppData/Local/Programs/Python/Python38/lib/site-packages/qiskit/execute_function.py?line=292'>293</a>\u001b[0m     \u001b[39m# transpiling the circuits using given transpile options\u001b[39;00m\n\u001b[1;32m--> <a href='file:///c%3A/Users/haime/AppData/Local/Programs/Python/Python38/lib/site-packages/qiskit/execute_function.py?line=293'>294</a>\u001b[0m     experiments \u001b[39m=\u001b[39m transpile(\n\u001b[0;32m    <a href='file:///c%3A/Users/haime/AppData/Local/Programs/Python/Python38/lib/site-packages/qiskit/execute_function.py?line=294'>295</a>\u001b[0m         experiments,\n\u001b[0;32m    <a href='file:///c%3A/Users/haime/AppData/Local/Programs/Python/Python38/lib/site-packages/qiskit/execute_function.py?line=295'>296</a>\u001b[0m         basis_gates\u001b[39m=\u001b[39;49mbasis_gates,\n\u001b[0;32m    <a href='file:///c%3A/Users/haime/AppData/Local/Programs/Python/Python38/lib/site-packages/qiskit/execute_function.py?line=296'>297</a>\u001b[0m         coupling_map\u001b[39m=\u001b[39;49mcoupling_map,\n\u001b[0;32m    <a href='file:///c%3A/Users/haime/AppData/Local/Programs/Python/Python38/lib/site-packages/qiskit/execute_function.py?line=297'>298</a>\u001b[0m         backend_properties\u001b[39m=\u001b[39;49mbackend_properties,\n\u001b[0;32m    <a href='file:///c%3A/Users/haime/AppData/Local/Programs/Python/Python38/lib/site-packages/qiskit/execute_function.py?line=298'>299</a>\u001b[0m         initial_layout\u001b[39m=\u001b[39;49minitial_layout,\n\u001b[0;32m    <a href='file:///c%3A/Users/haime/AppData/Local/Programs/Python/Python38/lib/site-packages/qiskit/execute_function.py?line=299'>300</a>\u001b[0m         seed_transpiler\u001b[39m=\u001b[39;49mseed_transpiler,\n\u001b[0;32m    <a href='file:///c%3A/Users/haime/AppData/Local/Programs/Python/Python38/lib/site-packages/qiskit/execute_function.py?line=300'>301</a>\u001b[0m         optimization_level\u001b[39m=\u001b[39;49moptimization_level,\n\u001b[0;32m    <a href='file:///c%3A/Users/haime/AppData/Local/Programs/Python/Python38/lib/site-packages/qiskit/execute_function.py?line=301'>302</a>\u001b[0m         backend\u001b[39m=\u001b[39;49mbackend,\n\u001b[0;32m    <a href='file:///c%3A/Users/haime/AppData/Local/Programs/Python/Python38/lib/site-packages/qiskit/execute_function.py?line=302'>303</a>\u001b[0m     )\n\u001b[0;32m    <a href='file:///c%3A/Users/haime/AppData/Local/Programs/Python/Python38/lib/site-packages/qiskit/execute_function.py?line=304'>305</a>\u001b[0m \u001b[39mif\u001b[39;00m schedule_circuit:\n\u001b[0;32m    <a href='file:///c%3A/Users/haime/AppData/Local/Programs/Python/Python38/lib/site-packages/qiskit/execute_function.py?line=305'>306</a>\u001b[0m     experiments \u001b[39m=\u001b[39m schedule(\n\u001b[0;32m    <a href='file:///c%3A/Users/haime/AppData/Local/Programs/Python/Python38/lib/site-packages/qiskit/execute_function.py?line=306'>307</a>\u001b[0m         circuits\u001b[39m=\u001b[39mexperiments,\n\u001b[0;32m    <a href='file:///c%3A/Users/haime/AppData/Local/Programs/Python/Python38/lib/site-packages/qiskit/execute_function.py?line=307'>308</a>\u001b[0m         backend\u001b[39m=\u001b[39mbackend,\n\u001b[1;32m   (...)\u001b[0m\n\u001b[0;32m    <a href='file:///c%3A/Users/haime/AppData/Local/Programs/Python/Python38/lib/site-packages/qiskit/execute_function.py?line=310'>311</a>\u001b[0m         method\u001b[39m=\u001b[39mscheduling_method,\n\u001b[0;32m    <a href='file:///c%3A/Users/haime/AppData/Local/Programs/Python/Python38/lib/site-packages/qiskit/execute_function.py?line=311'>312</a>\u001b[0m     )\n",
      "File \u001b[1;32m~\\AppData\\Local\\Programs\\Python\\Python38\\lib\\site-packages\\qiskit\\compiler\\transpiler.py:335\u001b[0m, in \u001b[0;36mtranspile\u001b[1;34m(circuits, backend, basis_gates, inst_map, coupling_map, backend_properties, initial_layout, layout_method, routing_method, translation_method, scheduling_method, instruction_durations, dt, approximation_degree, timing_constraints, seed_transpiler, optimization_level, pass_manager, callback, output_name, unitary_synthesis_method, unitary_synthesis_plugin_config, target)\u001b[0m\n\u001b[0;32m    <a href='file:///c%3A/Users/haime/AppData/Local/Programs/Python/Python38/lib/site-packages/qiskit/compiler/transpiler.py?line=331'>332</a>\u001b[0m _check_circuits_coupling_map(circuits, transpile_args, backend)\n\u001b[0;32m    <a href='file:///c%3A/Users/haime/AppData/Local/Programs/Python/Python38/lib/site-packages/qiskit/compiler/transpiler.py?line=333'>334</a>\u001b[0m \u001b[39m# Transpile circuits in parallel\u001b[39;00m\n\u001b[1;32m--> <a href='file:///c%3A/Users/haime/AppData/Local/Programs/Python/Python38/lib/site-packages/qiskit/compiler/transpiler.py?line=334'>335</a>\u001b[0m circuits \u001b[39m=\u001b[39m parallel_map(_transpile_circuit, \u001b[39mlist\u001b[39;49m(\u001b[39mzip\u001b[39;49m(circuits, transpile_args)))\n\u001b[0;32m    <a href='file:///c%3A/Users/haime/AppData/Local/Programs/Python/Python38/lib/site-packages/qiskit/compiler/transpiler.py?line=336'>337</a>\u001b[0m end_time \u001b[39m=\u001b[39m time()\n\u001b[0;32m    <a href='file:///c%3A/Users/haime/AppData/Local/Programs/Python/Python38/lib/site-packages/qiskit/compiler/transpiler.py?line=337'>338</a>\u001b[0m _log_transpile_time(start_time, end_time)\n",
      "File \u001b[1;32m~\\AppData\\Local\\Programs\\Python\\Python38\\lib\\site-packages\\qiskit\\tools\\parallel.py:132\u001b[0m, in \u001b[0;36mparallel_map\u001b[1;34m(task, values, task_args, task_kwargs, num_processes)\u001b[0m\n\u001b[0;32m    <a href='file:///c%3A/Users/haime/AppData/Local/Programs/Python/Python38/lib/site-packages/qiskit/tools/parallel.py?line=129'>130</a>\u001b[0m     \u001b[39mreturn\u001b[39;00m []\n\u001b[0;32m    <a href='file:///c%3A/Users/haime/AppData/Local/Programs/Python/Python38/lib/site-packages/qiskit/tools/parallel.py?line=130'>131</a>\u001b[0m \u001b[39mif\u001b[39;00m \u001b[39mlen\u001b[39m(values) \u001b[39m==\u001b[39m \u001b[39m1\u001b[39m:\n\u001b[1;32m--> <a href='file:///c%3A/Users/haime/AppData/Local/Programs/Python/Python38/lib/site-packages/qiskit/tools/parallel.py?line=131'>132</a>\u001b[0m     \u001b[39mreturn\u001b[39;00m [task(values[\u001b[39m0\u001b[39;49m], \u001b[39m*\u001b[39;49mtask_args, \u001b[39m*\u001b[39;49m\u001b[39m*\u001b[39;49mtask_kwargs)]\n\u001b[0;32m    <a href='file:///c%3A/Users/haime/AppData/Local/Programs/Python/Python38/lib/site-packages/qiskit/tools/parallel.py?line=133'>134</a>\u001b[0m Publisher()\u001b[39m.\u001b[39mpublish(\u001b[39m\"\u001b[39m\u001b[39mterra.parallel.start\u001b[39m\u001b[39m\"\u001b[39m, \u001b[39mlen\u001b[39m(values))\n\u001b[0;32m    <a href='file:///c%3A/Users/haime/AppData/Local/Programs/Python/Python38/lib/site-packages/qiskit/tools/parallel.py?line=134'>135</a>\u001b[0m nfinished \u001b[39m=\u001b[39m [\u001b[39m0\u001b[39m]\n",
      "File \u001b[1;32m~\\AppData\\Local\\Programs\\Python\\Python38\\lib\\site-packages\\qiskit\\compiler\\transpiler.py:429\u001b[0m, in \u001b[0;36m_transpile_circuit\u001b[1;34m(circuit_config_tuple)\u001b[0m\n\u001b[0;32m    <a href='file:///c%3A/Users/haime/AppData/Local/Programs/Python/Python38/lib/site-packages/qiskit/compiler/transpiler.py?line=425'>426</a>\u001b[0m \u001b[39melse\u001b[39;00m:\n\u001b[0;32m    <a href='file:///c%3A/Users/haime/AppData/Local/Programs/Python/Python38/lib/site-packages/qiskit/compiler/transpiler.py?line=426'>427</a>\u001b[0m     \u001b[39mraise\u001b[39;00m TranspilerError(\u001b[39m\"\u001b[39m\u001b[39moptimization_level can range from 0 to 3.\u001b[39m\u001b[39m\"\u001b[39m)\n\u001b[1;32m--> <a href='file:///c%3A/Users/haime/AppData/Local/Programs/Python/Python38/lib/site-packages/qiskit/compiler/transpiler.py?line=428'>429</a>\u001b[0m result \u001b[39m=\u001b[39m pass_manager\u001b[39m.\u001b[39;49mrun(\n\u001b[0;32m    <a href='file:///c%3A/Users/haime/AppData/Local/Programs/Python/Python38/lib/site-packages/qiskit/compiler/transpiler.py?line=429'>430</a>\u001b[0m     circuit, callback\u001b[39m=\u001b[39;49mtranspile_config[\u001b[39m\"\u001b[39;49m\u001b[39mcallback\u001b[39;49m\u001b[39m\"\u001b[39;49m], output_name\u001b[39m=\u001b[39;49mtranspile_config[\u001b[39m\"\u001b[39;49m\u001b[39moutput_name\u001b[39;49m\u001b[39m\"\u001b[39;49m]\n\u001b[0;32m    <a href='file:///c%3A/Users/haime/AppData/Local/Programs/Python/Python38/lib/site-packages/qiskit/compiler/transpiler.py?line=430'>431</a>\u001b[0m )\n\u001b[0;32m    <a href='file:///c%3A/Users/haime/AppData/Local/Programs/Python/Python38/lib/site-packages/qiskit/compiler/transpiler.py?line=432'>433</a>\u001b[0m \u001b[39mif\u001b[39;00m transpile_config[\u001b[39m\"\u001b[39m\u001b[39mfaulty_qubits_map\u001b[39m\u001b[39m\"\u001b[39m]:\n\u001b[0;32m    <a href='file:///c%3A/Users/haime/AppData/Local/Programs/Python/Python38/lib/site-packages/qiskit/compiler/transpiler.py?line=433'>434</a>\u001b[0m     \u001b[39mreturn\u001b[39;00m _remap_circuit_faulty_backend(\n\u001b[0;32m    <a href='file:///c%3A/Users/haime/AppData/Local/Programs/Python/Python38/lib/site-packages/qiskit/compiler/transpiler.py?line=434'>435</a>\u001b[0m         result,\n\u001b[0;32m    <a href='file:///c%3A/Users/haime/AppData/Local/Programs/Python/Python38/lib/site-packages/qiskit/compiler/transpiler.py?line=435'>436</a>\u001b[0m         transpile_config[\u001b[39m\"\u001b[39m\u001b[39mbackend_num_qubits\u001b[39m\u001b[39m\"\u001b[39m],\n\u001b[0;32m    <a href='file:///c%3A/Users/haime/AppData/Local/Programs/Python/Python38/lib/site-packages/qiskit/compiler/transpiler.py?line=436'>437</a>\u001b[0m         pass_manager_config\u001b[39m.\u001b[39mbackend_properties,\n\u001b[0;32m    <a href='file:///c%3A/Users/haime/AppData/Local/Programs/Python/Python38/lib/site-packages/qiskit/compiler/transpiler.py?line=437'>438</a>\u001b[0m         transpile_config[\u001b[39m\"\u001b[39m\u001b[39mfaulty_qubits_map\u001b[39m\u001b[39m\"\u001b[39m],\n\u001b[0;32m    <a href='file:///c%3A/Users/haime/AppData/Local/Programs/Python/Python38/lib/site-packages/qiskit/compiler/transpiler.py?line=438'>439</a>\u001b[0m     )\n",
      "File \u001b[1;32m~\\AppData\\Local\\Programs\\Python\\Python38\\lib\\site-packages\\qiskit\\transpiler\\passmanager.py:218\u001b[0m, in \u001b[0;36mPassManager.run\u001b[1;34m(self, circuits, output_name, callback)\u001b[0m\n\u001b[0;32m    <a href='file:///c%3A/Users/haime/AppData/Local/Programs/Python/Python38/lib/site-packages/qiskit/transpiler/passmanager.py?line=215'>216</a>\u001b[0m     \u001b[39mreturn\u001b[39;00m circuits\n\u001b[0;32m    <a href='file:///c%3A/Users/haime/AppData/Local/Programs/Python/Python38/lib/site-packages/qiskit/transpiler/passmanager.py?line=216'>217</a>\u001b[0m \u001b[39mif\u001b[39;00m \u001b[39misinstance\u001b[39m(circuits, QuantumCircuit):\n\u001b[1;32m--> <a href='file:///c%3A/Users/haime/AppData/Local/Programs/Python/Python38/lib/site-packages/qiskit/transpiler/passmanager.py?line=217'>218</a>\u001b[0m     \u001b[39mreturn\u001b[39;00m \u001b[39mself\u001b[39;49m\u001b[39m.\u001b[39;49m_run_single_circuit(circuits, output_name, callback)\n\u001b[0;32m    <a href='file:///c%3A/Users/haime/AppData/Local/Programs/Python/Python38/lib/site-packages/qiskit/transpiler/passmanager.py?line=218'>219</a>\u001b[0m \u001b[39mif\u001b[39;00m \u001b[39mlen\u001b[39m(circuits) \u001b[39m==\u001b[39m \u001b[39m1\u001b[39m:\n\u001b[0;32m    <a href='file:///c%3A/Users/haime/AppData/Local/Programs/Python/Python38/lib/site-packages/qiskit/transpiler/passmanager.py?line=219'>220</a>\u001b[0m     \u001b[39mreturn\u001b[39;00m \u001b[39mself\u001b[39m\u001b[39m.\u001b[39m_run_single_circuit(circuits[\u001b[39m0\u001b[39m], output_name, callback)\n",
      "File \u001b[1;32m~\\AppData\\Local\\Programs\\Python\\Python38\\lib\\site-packages\\qiskit\\transpiler\\passmanager.py:273\u001b[0m, in \u001b[0;36mPassManager._run_single_circuit\u001b[1;34m(self, circuit, output_name, callback)\u001b[0m\n\u001b[0;32m    <a href='file:///c%3A/Users/haime/AppData/Local/Programs/Python/Python38/lib/site-packages/qiskit/transpiler/passmanager.py?line=260'>261</a>\u001b[0m \u001b[39m\"\"\"Run all the passes on a ``circuit``.\u001b[39;00m\n\u001b[0;32m    <a href='file:///c%3A/Users/haime/AppData/Local/Programs/Python/Python38/lib/site-packages/qiskit/transpiler/passmanager.py?line=261'>262</a>\u001b[0m \n\u001b[0;32m    <a href='file:///c%3A/Users/haime/AppData/Local/Programs/Python/Python38/lib/site-packages/qiskit/transpiler/passmanager.py?line=262'>263</a>\u001b[0m \u001b[39mArgs:\u001b[39;00m\n\u001b[1;32m   (...)\u001b[0m\n\u001b[0;32m    <a href='file:///c%3A/Users/haime/AppData/Local/Programs/Python/Python38/lib/site-packages/qiskit/transpiler/passmanager.py?line=269'>270</a>\u001b[0m \u001b[39m    The transformed circuit.\u001b[39;00m\n\u001b[0;32m    <a href='file:///c%3A/Users/haime/AppData/Local/Programs/Python/Python38/lib/site-packages/qiskit/transpiler/passmanager.py?line=270'>271</a>\u001b[0m \u001b[39m\"\"\"\u001b[39;00m\n\u001b[0;32m    <a href='file:///c%3A/Users/haime/AppData/Local/Programs/Python/Python38/lib/site-packages/qiskit/transpiler/passmanager.py?line=271'>272</a>\u001b[0m running_passmanager \u001b[39m=\u001b[39m \u001b[39mself\u001b[39m\u001b[39m.\u001b[39m_create_running_passmanager()\n\u001b[1;32m--> <a href='file:///c%3A/Users/haime/AppData/Local/Programs/Python/Python38/lib/site-packages/qiskit/transpiler/passmanager.py?line=272'>273</a>\u001b[0m result \u001b[39m=\u001b[39m running_passmanager\u001b[39m.\u001b[39;49mrun(circuit, output_name\u001b[39m=\u001b[39;49moutput_name, callback\u001b[39m=\u001b[39;49mcallback)\n\u001b[0;32m    <a href='file:///c%3A/Users/haime/AppData/Local/Programs/Python/Python38/lib/site-packages/qiskit/transpiler/passmanager.py?line=273'>274</a>\u001b[0m \u001b[39mself\u001b[39m\u001b[39m.\u001b[39mproperty_set \u001b[39m=\u001b[39m running_passmanager\u001b[39m.\u001b[39mproperty_set\n\u001b[0;32m    <a href='file:///c%3A/Users/haime/AppData/Local/Programs/Python/Python38/lib/site-packages/qiskit/transpiler/passmanager.py?line=274'>275</a>\u001b[0m \u001b[39mreturn\u001b[39;00m result\n",
      "File \u001b[1;32m~\\AppData\\Local\\Programs\\Python\\Python38\\lib\\site-packages\\qiskit\\transpiler\\runningpassmanager.py:123\u001b[0m, in \u001b[0;36mRunningPassManager.run\u001b[1;34m(***failed resolving arguments***)\u001b[0m\n\u001b[0;32m    <a href='file:///c%3A/Users/haime/AppData/Local/Programs/Python/Python38/lib/site-packages/qiskit/transpiler/runningpassmanager.py?line=120'>121</a>\u001b[0m \u001b[39mfor\u001b[39;00m passset \u001b[39min\u001b[39;00m \u001b[39mself\u001b[39m\u001b[39m.\u001b[39mworking_list:\n\u001b[0;32m    <a href='file:///c%3A/Users/haime/AppData/Local/Programs/Python/Python38/lib/site-packages/qiskit/transpiler/runningpassmanager.py?line=121'>122</a>\u001b[0m     \u001b[39mfor\u001b[39;00m pass_ \u001b[39min\u001b[39;00m passset:\n\u001b[1;32m--> <a href='file:///c%3A/Users/haime/AppData/Local/Programs/Python/Python38/lib/site-packages/qiskit/transpiler/runningpassmanager.py?line=122'>123</a>\u001b[0m         dag \u001b[39m=\u001b[39m \u001b[39mself\u001b[39;49m\u001b[39m.\u001b[39;49m_do_pass(pass_, dag, passset\u001b[39m.\u001b[39;49moptions)\n\u001b[0;32m    <a href='file:///c%3A/Users/haime/AppData/Local/Programs/Python/Python38/lib/site-packages/qiskit/transpiler/runningpassmanager.py?line=124'>125</a>\u001b[0m circuit \u001b[39m=\u001b[39m dag_to_circuit(dag)\n\u001b[0;32m    <a href='file:///c%3A/Users/haime/AppData/Local/Programs/Python/Python38/lib/site-packages/qiskit/transpiler/runningpassmanager.py?line=125'>126</a>\u001b[0m \u001b[39mif\u001b[39;00m output_name:\n",
      "File \u001b[1;32m~\\AppData\\Local\\Programs\\Python\\Python38\\lib\\site-packages\\qiskit\\transpiler\\runningpassmanager.py:154\u001b[0m, in \u001b[0;36mRunningPassManager._do_pass\u001b[1;34m(self, pass_, dag, options)\u001b[0m\n\u001b[0;32m    <a href='file:///c%3A/Users/haime/AppData/Local/Programs/Python/Python38/lib/site-packages/qiskit/transpiler/runningpassmanager.py?line=151'>152</a>\u001b[0m \u001b[39m# Run the pass itself, if not already run\u001b[39;00m\n\u001b[0;32m    <a href='file:///c%3A/Users/haime/AppData/Local/Programs/Python/Python38/lib/site-packages/qiskit/transpiler/runningpassmanager.py?line=152'>153</a>\u001b[0m \u001b[39mif\u001b[39;00m pass_ \u001b[39mnot\u001b[39;00m \u001b[39min\u001b[39;00m \u001b[39mself\u001b[39m\u001b[39m.\u001b[39mvalid_passes:\n\u001b[1;32m--> <a href='file:///c%3A/Users/haime/AppData/Local/Programs/Python/Python38/lib/site-packages/qiskit/transpiler/runningpassmanager.py?line=153'>154</a>\u001b[0m     dag \u001b[39m=\u001b[39m \u001b[39mself\u001b[39;49m\u001b[39m.\u001b[39;49m_run_this_pass(pass_, dag)\n\u001b[0;32m    <a href='file:///c%3A/Users/haime/AppData/Local/Programs/Python/Python38/lib/site-packages/qiskit/transpiler/runningpassmanager.py?line=155'>156</a>\u001b[0m     \u001b[39m# update the valid_passes property\u001b[39;00m\n\u001b[0;32m    <a href='file:///c%3A/Users/haime/AppData/Local/Programs/Python/Python38/lib/site-packages/qiskit/transpiler/runningpassmanager.py?line=156'>157</a>\u001b[0m     \u001b[39mself\u001b[39m\u001b[39m.\u001b[39m_update_valid_passes(pass_)\n",
      "File \u001b[1;32m~\\AppData\\Local\\Programs\\Python\\Python38\\lib\\site-packages\\qiskit\\transpiler\\runningpassmanager.py:166\u001b[0m, in \u001b[0;36mRunningPassManager._run_this_pass\u001b[1;34m(self, pass_, dag)\u001b[0m\n\u001b[0;32m    <a href='file:///c%3A/Users/haime/AppData/Local/Programs/Python/Python38/lib/site-packages/qiskit/transpiler/runningpassmanager.py?line=162'>163</a>\u001b[0m \u001b[39mif\u001b[39;00m pass_\u001b[39m.\u001b[39mis_transformation_pass:\n\u001b[0;32m    <a href='file:///c%3A/Users/haime/AppData/Local/Programs/Python/Python38/lib/site-packages/qiskit/transpiler/runningpassmanager.py?line=163'>164</a>\u001b[0m     \u001b[39m# Measure time if we have a callback or logging set\u001b[39;00m\n\u001b[0;32m    <a href='file:///c%3A/Users/haime/AppData/Local/Programs/Python/Python38/lib/site-packages/qiskit/transpiler/runningpassmanager.py?line=164'>165</a>\u001b[0m     start_time \u001b[39m=\u001b[39m time()\n\u001b[1;32m--> <a href='file:///c%3A/Users/haime/AppData/Local/Programs/Python/Python38/lib/site-packages/qiskit/transpiler/runningpassmanager.py?line=165'>166</a>\u001b[0m     new_dag \u001b[39m=\u001b[39m pass_\u001b[39m.\u001b[39;49mrun(dag)\n\u001b[0;32m    <a href='file:///c%3A/Users/haime/AppData/Local/Programs/Python/Python38/lib/site-packages/qiskit/transpiler/runningpassmanager.py?line=166'>167</a>\u001b[0m     end_time \u001b[39m=\u001b[39m time()\n\u001b[0;32m    <a href='file:///c%3A/Users/haime/AppData/Local/Programs/Python/Python38/lib/site-packages/qiskit/transpiler/runningpassmanager.py?line=167'>168</a>\u001b[0m     run_time \u001b[39m=\u001b[39m end_time \u001b[39m-\u001b[39m start_time\n",
      "File \u001b[1;32m~\\AppData\\Local\\Programs\\Python\\Python38\\lib\\site-packages\\qiskit\\transpiler\\passes\\basis\\basis_translator.py:278\u001b[0m, in \u001b[0;36mBasisTranslator.run\u001b[1;34m(self, dag)\u001b[0m\n\u001b[0;32m    <a href='file:///c%3A/Users/haime/AppData/Local/Programs/Python/Python38/lib/site-packages/qiskit/transpiler/passes/basis/basis_translator.py?line=275'>276</a>\u001b[0m     replace_node(node, extra_instr_map[qubit_set])\n\u001b[0;32m    <a href='file:///c%3A/Users/haime/AppData/Local/Programs/Python/Python38/lib/site-packages/qiskit/transpiler/passes/basis/basis_translator.py?line=276'>277</a>\u001b[0m \u001b[39melif\u001b[39;00m (node\u001b[39m.\u001b[39mop\u001b[39m.\u001b[39mname, node\u001b[39m.\u001b[39mop\u001b[39m.\u001b[39mnum_qubits) \u001b[39min\u001b[39;00m instr_map:\n\u001b[1;32m--> <a href='file:///c%3A/Users/haime/AppData/Local/Programs/Python/Python38/lib/site-packages/qiskit/transpiler/passes/basis/basis_translator.py?line=277'>278</a>\u001b[0m     replace_node(node, instr_map)\n\u001b[0;32m    <a href='file:///c%3A/Users/haime/AppData/Local/Programs/Python/Python38/lib/site-packages/qiskit/transpiler/passes/basis/basis_translator.py?line=278'>279</a>\u001b[0m \u001b[39melse\u001b[39;00m:\n\u001b[0;32m    <a href='file:///c%3A/Users/haime/AppData/Local/Programs/Python/Python38/lib/site-packages/qiskit/transpiler/passes/basis/basis_translator.py?line=279'>280</a>\u001b[0m     \u001b[39mraise\u001b[39;00m TranspilerError(\u001b[39mf\u001b[39m\u001b[39m\"\u001b[39m\u001b[39mBasisTranslator did not map \u001b[39m\u001b[39m{\u001b[39;00mnode\u001b[39m.\u001b[39mname\u001b[39m}\u001b[39;00m\u001b[39m.\u001b[39m\u001b[39m\"\u001b[39m)\n",
      "File \u001b[1;32m~\\AppData\\Local\\Programs\\Python\\Python38\\lib\\site-packages\\qiskit\\transpiler\\passes\\basis\\basis_translator.py:252\u001b[0m, in \u001b[0;36mBasisTranslator.run.<locals>.replace_node\u001b[1;34m(node, instr_map)\u001b[0m\n\u001b[0;32m    <a href='file:///c%3A/Users/haime/AppData/Local/Programs/Python/Python38/lib/site-packages/qiskit/transpiler/passes/basis/basis_translator.py?line=247'>248</a>\u001b[0m     \u001b[39mfrom\u001b[39;00m \u001b[39mqiskit\u001b[39;00m\u001b[39m.\u001b[39;00m\u001b[39mconverters\u001b[39;00m \u001b[39mimport\u001b[39;00m dag_to_circuit, circuit_to_dag\n\u001b[0;32m    <a href='file:///c%3A/Users/haime/AppData/Local/Programs/Python/Python38/lib/site-packages/qiskit/transpiler/passes/basis/basis_translator.py?line=249'>250</a>\u001b[0m     target_circuit \u001b[39m=\u001b[39m dag_to_circuit(target_dag)\n\u001b[1;32m--> <a href='file:///c%3A/Users/haime/AppData/Local/Programs/Python/Python38/lib/site-packages/qiskit/transpiler/passes/basis/basis_translator.py?line=251'>252</a>\u001b[0m     target_circuit\u001b[39m.\u001b[39;49massign_parameters(\n\u001b[0;32m    <a href='file:///c%3A/Users/haime/AppData/Local/Programs/Python/Python38/lib/site-packages/qiskit/transpiler/passes/basis/basis_translator.py?line=252'>253</a>\u001b[0m         \u001b[39mdict\u001b[39;49m(zip_longest(target_params, node\u001b[39m.\u001b[39;49mop\u001b[39m.\u001b[39;49mparams)), inplace\u001b[39m=\u001b[39;49m\u001b[39mTrue\u001b[39;49;00m\n\u001b[0;32m    <a href='file:///c%3A/Users/haime/AppData/Local/Programs/Python/Python38/lib/site-packages/qiskit/transpiler/passes/basis/basis_translator.py?line=253'>254</a>\u001b[0m     )\n\u001b[0;32m    <a href='file:///c%3A/Users/haime/AppData/Local/Programs/Python/Python38/lib/site-packages/qiskit/transpiler/passes/basis/basis_translator.py?line=255'>256</a>\u001b[0m     bound_target_dag \u001b[39m=\u001b[39m circuit_to_dag(target_circuit)\n\u001b[0;32m    <a href='file:///c%3A/Users/haime/AppData/Local/Programs/Python/Python38/lib/site-packages/qiskit/transpiler/passes/basis/basis_translator.py?line=256'>257</a>\u001b[0m \u001b[39melse\u001b[39;00m:\n",
      "File \u001b[1;32m~\\AppData\\Local\\Programs\\Python\\Python38\\lib\\site-packages\\qiskit\\circuit\\quantumcircuit.py:2512\u001b[0m, in \u001b[0;36mQuantumCircuit.assign_parameters\u001b[1;34m(self, parameters, inplace)\u001b[0m\n\u001b[0;32m   <a href='file:///c%3A/Users/haime/AppData/Local/Programs/Python/Python38/lib/site-packages/qiskit/circuit/quantumcircuit.py?line=2509'>2510</a>\u001b[0m     \u001b[39m# replace the parameters with a new Parameter (\"substitute\") or numeric value (\"bind\")\u001b[39;00m\n\u001b[0;32m   <a href='file:///c%3A/Users/haime/AppData/Local/Programs/Python/Python38/lib/site-packages/qiskit/circuit/quantumcircuit.py?line=2510'>2511</a>\u001b[0m     \u001b[39mfor\u001b[39;00m parameter, value \u001b[39min\u001b[39;00m unrolled_param_dict\u001b[39m.\u001b[39mitems():\n\u001b[1;32m-> <a href='file:///c%3A/Users/haime/AppData/Local/Programs/Python/Python38/lib/site-packages/qiskit/circuit/quantumcircuit.py?line=2511'>2512</a>\u001b[0m         bound_circuit\u001b[39m.\u001b[39;49m_assign_parameter(parameter, value)\n\u001b[0;32m   <a href='file:///c%3A/Users/haime/AppData/Local/Programs/Python/Python38/lib/site-packages/qiskit/circuit/quantumcircuit.py?line=2512'>2513</a>\u001b[0m \u001b[39melse\u001b[39;00m:\n\u001b[0;32m   <a href='file:///c%3A/Users/haime/AppData/Local/Programs/Python/Python38/lib/site-packages/qiskit/circuit/quantumcircuit.py?line=2513'>2514</a>\u001b[0m     \u001b[39mif\u001b[39;00m \u001b[39mlen\u001b[39m(parameters) \u001b[39m!=\u001b[39m \u001b[39mself\u001b[39m\u001b[39m.\u001b[39mnum_parameters:\n",
      "File \u001b[1;32m~\\AppData\\Local\\Programs\\Python\\Python38\\lib\\site-packages\\qiskit\\circuit\\quantumcircuit.py:2595\u001b[0m, in \u001b[0;36mQuantumCircuit._assign_parameter\u001b[1;34m(self, parameter, value)\u001b[0m\n\u001b[0;32m   <a href='file:///c%3A/Users/haime/AppData/Local/Programs/Python/Python38/lib/site-packages/qiskit/circuit/quantumcircuit.py?line=2592'>2593</a>\u001b[0m \u001b[39m# Normal ParameterExpression.\u001b[39;00m\n\u001b[0;32m   <a href='file:///c%3A/Users/haime/AppData/Local/Programs/Python/Python38/lib/site-packages/qiskit/circuit/quantumcircuit.py?line=2593'>2594</a>\u001b[0m \u001b[39mif\u001b[39;00m \u001b[39misinstance\u001b[39m(assignee, ParameterExpression):\n\u001b[1;32m-> <a href='file:///c%3A/Users/haime/AppData/Local/Programs/Python/Python38/lib/site-packages/qiskit/circuit/quantumcircuit.py?line=2594'>2595</a>\u001b[0m     new_param \u001b[39m=\u001b[39m assignee\u001b[39m.\u001b[39;49massign(parameter, value)\n\u001b[0;32m   <a href='file:///c%3A/Users/haime/AppData/Local/Programs/Python/Python38/lib/site-packages/qiskit/circuit/quantumcircuit.py?line=2595'>2596</a>\u001b[0m     \u001b[39m# if fully bound, validate\u001b[39;00m\n\u001b[0;32m   <a href='file:///c%3A/Users/haime/AppData/Local/Programs/Python/Python38/lib/site-packages/qiskit/circuit/quantumcircuit.py?line=2596'>2597</a>\u001b[0m     \u001b[39mif\u001b[39;00m \u001b[39mlen\u001b[39m(new_param\u001b[39m.\u001b[39mparameters) \u001b[39m==\u001b[39m \u001b[39m0\u001b[39m:\n",
      "File \u001b[1;32m~\\AppData\\Local\\Programs\\Python\\Python38\\lib\\site-packages\\qiskit\\circuit\\parameterexpression.py:96\u001b[0m, in \u001b[0;36mParameterExpression.assign\u001b[1;34m(self, parameter, value)\u001b[0m\n\u001b[0;32m     <a href='file:///c%3A/Users/haime/AppData/Local/Programs/Python/Python38/lib/site-packages/qiskit/circuit/parameterexpression.py?line=93'>94</a>\u001b[0m \u001b[39mif\u001b[39;00m \u001b[39misinstance\u001b[39m(value, ParameterExpression):\n\u001b[0;32m     <a href='file:///c%3A/Users/haime/AppData/Local/Programs/Python/Python38/lib/site-packages/qiskit/circuit/parameterexpression.py?line=94'>95</a>\u001b[0m     \u001b[39mreturn\u001b[39;00m \u001b[39mself\u001b[39m\u001b[39m.\u001b[39msubs({parameter: value})\n\u001b[1;32m---> <a href='file:///c%3A/Users/haime/AppData/Local/Programs/Python/Python38/lib/site-packages/qiskit/circuit/parameterexpression.py?line=95'>96</a>\u001b[0m \u001b[39mreturn\u001b[39;00m \u001b[39mself\u001b[39;49m\u001b[39m.\u001b[39;49mbind({parameter: value})\n",
      "File \u001b[1;32m~\\AppData\\Local\\Programs\\Python\\Python38\\lib\\site-packages\\qiskit\\circuit\\parameterexpression.py:125\u001b[0m, in \u001b[0;36mParameterExpression.bind\u001b[1;34m(self, parameter_values)\u001b[0m\n\u001b[0;32m    <a href='file:///c%3A/Users/haime/AppData/Local/Programs/Python/Python38/lib/site-packages/qiskit/circuit/parameterexpression.py?line=121'>122</a>\u001b[0m     param_expr \u001b[39m=\u001b[39m \u001b[39mself\u001b[39m\u001b[39m.\u001b[39m_parameter_symbols[parameter]\n\u001b[0;32m    <a href='file:///c%3A/Users/haime/AppData/Local/Programs/Python/Python38/lib/site-packages/qiskit/circuit/parameterexpression.py?line=122'>123</a>\u001b[0m     symbol_values[param_expr] \u001b[39m=\u001b[39m value\n\u001b[1;32m--> <a href='file:///c%3A/Users/haime/AppData/Local/Programs/Python/Python38/lib/site-packages/qiskit/circuit/parameterexpression.py?line=124'>125</a>\u001b[0m bound_symbol_expr \u001b[39m=\u001b[39m \u001b[39mself\u001b[39;49m\u001b[39m.\u001b[39;49m_symbol_expr\u001b[39m.\u001b[39;49msubs(symbol_values)\n\u001b[0;32m    <a href='file:///c%3A/Users/haime/AppData/Local/Programs/Python/Python38/lib/site-packages/qiskit/circuit/parameterexpression.py?line=126'>127</a>\u001b[0m \u001b[39m# Don't use sympy.free_symbols to count remaining parameters here.\u001b[39;00m\n\u001b[0;32m    <a href='file:///c%3A/Users/haime/AppData/Local/Programs/Python/Python38/lib/site-packages/qiskit/circuit/parameterexpression.py?line=127'>128</a>\u001b[0m \u001b[39m# sympy will in some cases reduce the expression and remove even\u001b[39;00m\n\u001b[0;32m    <a href='file:///c%3A/Users/haime/AppData/Local/Programs/Python/Python38/lib/site-packages/qiskit/circuit/parameterexpression.py?line=128'>129</a>\u001b[0m \u001b[39m# unbound symbols.\u001b[39;00m\n\u001b[0;32m    <a href='file:///c%3A/Users/haime/AppData/Local/Programs/Python/Python38/lib/site-packages/qiskit/circuit/parameterexpression.py?line=129'>130</a>\u001b[0m \u001b[39m# e.g. (sympy.Symbol('s') * 0).free_symbols == set()\u001b[39;00m\n\u001b[0;32m    <a href='file:///c%3A/Users/haime/AppData/Local/Programs/Python/Python38/lib/site-packages/qiskit/circuit/parameterexpression.py?line=131'>132</a>\u001b[0m free_parameters \u001b[39m=\u001b[39m \u001b[39mself\u001b[39m\u001b[39m.\u001b[39mparameters \u001b[39m-\u001b[39m parameter_values\u001b[39m.\u001b[39mkeys()\n",
      "File \u001b[1;32m~\\AppData\\Local\\Programs\\Python\\Python38\\lib\\site-packages\\sympy\\core\\basic.py:914\u001b[0m, in \u001b[0;36mBasic.subs\u001b[1;34m(self, *args, **kwargs)\u001b[0m\n\u001b[0;32m    <a href='file:///c%3A/Users/haime/AppData/Local/Programs/Python/Python38/lib/site-packages/sympy/core/basic.py?line=911'>912</a>\u001b[0m         \u001b[39mcontinue\u001b[39;00m\n\u001b[0;32m    <a href='file:///c%3A/Users/haime/AppData/Local/Programs/Python/Python38/lib/site-packages/sympy/core/basic.py?line=912'>913</a>\u001b[0m     \u001b[39m# skip if there is no change\u001b[39;00m\n\u001b[1;32m--> <a href='file:///c%3A/Users/haime/AppData/Local/Programs/Python/Python38/lib/site-packages/sympy/core/basic.py?line=913'>914</a>\u001b[0m     sequence[i] \u001b[39m=\u001b[39m \u001b[39mNone\u001b[39;00m \u001b[39mif\u001b[39;00m _aresame(\u001b[39m*\u001b[39;49ms) \u001b[39melse\u001b[39;00m \u001b[39mtuple\u001b[39m(s)\n\u001b[0;32m    <a href='file:///c%3A/Users/haime/AppData/Local/Programs/Python/Python38/lib/site-packages/sympy/core/basic.py?line=914'>915</a>\u001b[0m sequence \u001b[39m=\u001b[39m \u001b[39mlist\u001b[39m(\u001b[39mfilter\u001b[39m(\u001b[39mNone\u001b[39;00m, sequence))\n\u001b[0;32m    <a href='file:///c%3A/Users/haime/AppData/Local/Programs/Python/Python38/lib/site-packages/sympy/core/basic.py?line=916'>917</a>\u001b[0m \u001b[39mif\u001b[39;00m unordered:\n",
      "File \u001b[1;32m~\\AppData\\Local\\Programs\\Python\\Python38\\lib\\site-packages\\sympy\\core\\basic.py:1944\u001b[0m, in \u001b[0;36m_aresame\u001b[1;34m(a, b)\u001b[0m\n\u001b[0;32m   <a href='file:///c%3A/Users/haime/AppData/Local/Programs/Python/Python38/lib/site-packages/sympy/core/basic.py?line=1919'>1920</a>\u001b[0m \u001b[39mdef\u001b[39;00m \u001b[39m_aresame\u001b[39m(a, b):\n\u001b[0;32m   <a href='file:///c%3A/Users/haime/AppData/Local/Programs/Python/Python38/lib/site-packages/sympy/core/basic.py?line=1920'>1921</a>\u001b[0m     \u001b[39m\"\"\"Return True if a and b are structurally the same, else False.\u001b[39;00m\n\u001b[0;32m   <a href='file:///c%3A/Users/haime/AppData/Local/Programs/Python/Python38/lib/site-packages/sympy/core/basic.py?line=1921'>1922</a>\u001b[0m \n\u001b[0;32m   <a href='file:///c%3A/Users/haime/AppData/Local/Programs/Python/Python38/lib/site-packages/sympy/core/basic.py?line=1922'>1923</a>\u001b[0m \u001b[39m    Examples\u001b[39;00m\n\u001b[1;32m   (...)\u001b[0m\n\u001b[0;32m   <a href='file:///c%3A/Users/haime/AppData/Local/Programs/Python/Python38/lib/site-packages/sympy/core/basic.py?line=1941'>1942</a>\u001b[0m \n\u001b[0;32m   <a href='file:///c%3A/Users/haime/AppData/Local/Programs/Python/Python38/lib/site-packages/sympy/core/basic.py?line=1942'>1943</a>\u001b[0m \u001b[39m    \"\"\"\u001b[39;00m\n\u001b[1;32m-> <a href='file:///c%3A/Users/haime/AppData/Local/Programs/Python/Python38/lib/site-packages/sympy/core/basic.py?line=1943'>1944</a>\u001b[0m     \u001b[39mfrom\u001b[39;00m \u001b[39m.\u001b[39;00m\u001b[39mnumbers\u001b[39;00m \u001b[39mimport\u001b[39;00m Number\n\u001b[0;32m   <a href='file:///c%3A/Users/haime/AppData/Local/Programs/Python/Python38/lib/site-packages/sympy/core/basic.py?line=1944'>1945</a>\u001b[0m     \u001b[39mfrom\u001b[39;00m \u001b[39m.\u001b[39;00m\u001b[39mfunction\u001b[39;00m \u001b[39mimport\u001b[39;00m AppliedUndef, UndefinedFunction \u001b[39mas\u001b[39;00m UndefFunc\n\u001b[0;32m   <a href='file:///c%3A/Users/haime/AppData/Local/Programs/Python/Python38/lib/site-packages/sympy/core/basic.py?line=1945'>1946</a>\u001b[0m     \u001b[39mif\u001b[39;00m \u001b[39misinstance\u001b[39m(a, Number) \u001b[39mand\u001b[39;00m \u001b[39misinstance\u001b[39m(b, Number):\n",
      "\u001b[1;31mKeyboardInterrupt\u001b[0m: "
     ]
    }
   ],
   "source": [
    "num_qubits = 3\n",
    "num_layers = 2\n",
    "thetas = np.ones(num_qubits*num_layers*5)\n",
    "theta = np.pi / 2\n",
    "qc = qiskit.QuantumCircuit(num_qubits, num_qubits)\n",
    "loss_values = []\n",
    "thetass = []\n",
    "bar = qtm.progress_bar.ProgressBar(max_value=100, disable=False)\n",
    "for i in range(0, 100):\n",
    "    bar.update(1)\n",
    "    G = qtm.fubini_study.qng(qc.copy(), thetas, qtm.nqubit.create_linear_state, num_layers)\n",
    "    grad_loss = qtm.base.grad_loss(\n",
    "        qc, \n",
    "        qtm.nqubit.create_GHZchecker_linear, \n",
    "        thetas, r = 1/2, s = np.pi/2, num_layers = num_layers, theta = theta)\n",
    "    thetas = np.real(thetas - qtm.constant.learning_rate*(np.linalg.pinv(G) @ grad_loss))   \n",
    "    qc_copy = qtm.nqubit.create_GHZchecker_linear(qc.copy(), thetas, num_layers, theta)\n",
    "    loss = qtm.base.loss_fubini_study(qtm.base.measure(qc_copy, list(range(qc_copy.num_qubits))))\n",
    "    loss_values.append(loss)\n",
    "    thetass.append(thetas)\n",
    "bar.close()\n",
    "np.savetxt(\"../experiments/linear_ansatz_ghz/\" + str(num_qubits) + \"/loss_values_qng.csv\", loss_values, delimiter=\",\")\n",
    "np.savetxt(\"../experiments/linear_ansatz_ghz/\" + str(num_qubits) + \"/thetass_qng.csv\", thetass, delimiter=\",\")\n"
   ]
  },
  {
   "cell_type": "code",
   "execution_count": 8,
   "metadata": {},
   "outputs": [
    {
     "data": {
      "text/plain": [
       "[<matplotlib.lines.Line2D at 0x20c7e2e8190>]"
      ]
     },
     "execution_count": 8,
     "metadata": {},
     "output_type": "execute_result"
    },
    {
     "data": {
      "image/png": "[encoded data removed]",
      "text/plain": [
       "<Figure size 432x288 with 1 Axes>"
      ]
     },
     "metadata": {
      "needs_background": "light"
     },
     "output_type": "display_data"
    }
   ],
   "source": [
    "plt.plot(loss_values)"
   ]
  },
  {
   "cell_type": "code",
   "execution_count": 9,
   "metadata": {},
   "outputs": [],
   "source": [
    "traces = []\n",
    "fidelities = []\n",
    "i = 0\n",
    "for thetas in thetass:\n",
    "    # Get |psi> = U_gen|000...>\n",
    "    qc = qiskit.QuantumCircuit(num_qubits, num_qubits)\n",
    "    qc = qtm.nqubit.create_linear_state(qc, thetas, num_layers)\n",
    "    psi = qiskit.quantum_info.Statevector.from_instruction(qc)\n",
    "    rho_psi = qiskit.quantum_info.DensityMatrix(psi)\n",
    "    # Get |psi~> = U_target|000...>\n",
    "    qc1 = qiskit.QuantumCircuit(num_qubits, num_qubits)\n",
    "    qc1 = qtm.nqubit.create_ghz_state(qc1, theta)\n",
    "    psi_hat = qiskit.quantum_info.Statevector.from_instruction(qc1)\n",
    "    rho_psi_hat = qiskit.quantum_info.DensityMatrix(psi_hat)\n",
    "    # Calculate the metrics\n",
    "    trace, fidelity = qtm.base.get_metrics(psi, psi_hat)\n",
    "    traces.append(trace)\n",
    "    fidelities.append(fidelity)\n",
    "np.savetxt(\"../experiments/linear_ansatz_ghz/\" + str(num_qubits) + \"/traces_qng.csv\", traces, delimiter=\",\")\n",
    "np.savetxt(\"../experiments/linear_ansatz_ghz/\" + str(num_qubits) + \"/fidelities_qng.csv\", fidelities, delimiter=\",\")"
   ]
  },
  {
   "cell_type": "markdown",
   "metadata": {},
   "source": [
    "# W"
   ]
  },
  {
   "cell_type": "code",
   "execution_count": 10,
   "metadata": {},
   "outputs": [
    {
     "name": "stderr",
     "output_type": "stream",
     "text": [
      "Step: 100%|██████████| 100/100 [24:07<00:00, 14.47s/it]\n"
     ]
    }
   ],
   "source": [
    "num_qubits = 3\n",
    "num_layers = 2\n",
    "thetas = np.ones(num_qubits*num_layers*5)\n",
    "theta = np.pi / 2\n",
    "qc = qiskit.QuantumCircuit(num_qubits, num_qubits)\n",
    "loss_values = []\n",
    "thetass = []\n",
    "bar = qtm.progress_bar.ProgressBar(max_value=100, disable=False)\n",
    "for i in range(0, 100):\n",
    "    bar.update(1)\n",
    "    G = qtm.fubini_study.calculate_linear_state(qc.copy(), thetas, num_layers)\n",
    "    grad_loss = qtm.base.grad_loss(\n",
    "        qc, \n",
    "        qtm.nqubit.create_Wchecker_linear, \n",
    "        thetas, r = 1/2, s = np.pi/2, num_layers = num_layers)\n",
    "    thetas = np.real(thetas - qtm.constant.learning_rate*(np.linalg.pinv(G) @ grad_loss))   \n",
    "    qc_copy = qtm.nqubit.create_Wchecker_linear(qc.copy(), thetas, num_layers)\n",
    "    loss = qtm.base.loss_fubini_study(qtm.base.measure(qc_copy, list(range(qc_copy.num_qubits))))\n",
    "    loss_values.append(loss)\n",
    "    thetass.append(thetas)\n",
    "bar.close()\n",
    "np.savetxt(\"../experiments/linear_ansatz_w/\" + str(num_qubits) + \"/loss_values_qng.csv\", loss_values, delimiter=\",\")\n",
    "np.savetxt(\"../experiments/linear_ansatz_w/\" + str(num_qubits) + \"/thetass_qng.csv\", thetass, delimiter=\",\")\n"
   ]
  },
  {
   "cell_type": "code",
   "execution_count": 11,
   "metadata": {},
   "outputs": [],
   "source": [
    "traces = []\n",
    "fidelities = []\n",
    "i = 0\n",
    "for thetas in thetass:\n",
    "    # Get |psi> = U_gen|000...>\n",
    "    qc = qiskit.QuantumCircuit(num_qubits, num_qubits)\n",
    "    qc = qtm.nqubit.create_linear_state(qc, thetas, num_layers)\n",
    "    psi = qiskit.quantum_info.Statevector.from_instruction(qc)\n",
    "    rho_psi = qiskit.quantum_info.DensityMatrix(psi)\n",
    "    # Get |psi~> = U_target|000...>\n",
    "    qc1 = qiskit.QuantumCircuit(num_qubits, num_qubits)\n",
    "    qc1 = qtm.nqubit.create_w_state(qc1)\n",
    "    psi_hat = qiskit.quantum_info.Statevector.from_instruction(qc1)\n",
    "    rho_psi_hat = qiskit.quantum_info.DensityMatrix(psi_hat)\n",
    "    # Calculate the metrics\n",
    "    trace, fidelity = qtm.base.get_metrics(psi, psi_hat)\n",
    "    traces.append(trace)\n",
    "    fidelities.append(fidelity)\n",
    "np.savetxt(\"../experiments/linear_ansatz_w/\" + str(num_qubits) + \"/traces_qng.csv\", traces, delimiter=\",\")\n",
    "np.savetxt(\"../experiments/linear_ansatz_w/\" + str(num_qubits) + \"/fidelities_qng.csv\", fidelities, delimiter=\",\")"
   ]
  },
  {
   "cell_type": "markdown",
   "metadata": {},
   "source": [
    "### Others"
   ]
  },
  {
   "cell_type": "code",
   "execution_count": 2,
   "metadata": {},
   "outputs": [
    {
     "name": "stdout",
     "output_type": "stream",
     "text": [
      "2\n",
      "3\n",
      "4\n",
      "5\n",
      "6\n",
      "7\n",
      "8\n",
      "9\n",
      "10\n"
     ]
    }
   ],
   "source": [
    "import os, qiskit, qtm.constant, qtm.nqubit, pandas as pd, numpy as np\n",
    "path = \"../experiments/linear_ansatz_w/\"\n",
    "dirs = os.listdir(path)\n",
    "dirs = list(map(int, dirs))\n",
    "dirs.sort()\n",
    "num_layers = 2\n",
    "for dir in dirs:\n",
    "    dir = str(dir)\n",
    "    num_qubits = int(dir)\n",
    "    print(num_qubits)\n",
    "    thetass = pd.read_csv(path + dir + \"/thetass_qng.csv\", sep=\",\", header=None).to_numpy()\n",
    "    traces = []\n",
    "    fidelities = []\n",
    "    i = 0\n",
    "    for thetas in thetass:\n",
    "        # Get |psi> = U_gen|000...>\n",
    "        qc = qiskit.QuantumCircuit(num_qubits, num_qubits)\n",
    "        qc = qtm.nqubit.create_linear_state(qc, thetas, num_layers)\n",
    "        psi, rho_psi = qtm.base.extract_state(qc)\n",
    "        # Get |psi~> = U_target|000...>\n",
    "        qc1 = qiskit.QuantumCircuit(num_qubits, num_qubits)\n",
    "        qc1 = qtm.nqubit.create_w_state(qc1)\n",
    "        psi_hat, rho_psi_hat = qtm.base.extract_state(qc1)\n",
    "        # Calculate the metrics\n",
    "        trace, fidelity = qtm.base.get_metrics(psi, psi_hat)\n",
    "        traces.append(trace)\n",
    "        fidelities.append(fidelity)\n",
    "    np.savetxt(\"../experiments/linear_ansatz_w/\" + str(num_qubits) + \"/traces_qng.csv\", traces, delimiter=\",\")\n",
    "    np.savetxt(\"../experiments/linear_ansatz_w/\" + str(num_qubits) + \"/fidelities_qng.csv\", fidelities, delimiter=\",\")"
   ]
  },
  {
   "cell_type": "markdown",
   "metadata": {},
   "source": [
    "### Compare number of layers"
   ]
  },
  {
   "cell_type": "code",
   "execution_count": 2,
   "metadata": {},
   "outputs": [
    {
     "name": "stderr",
     "output_type": "stream",
     "text": [
      "Step: 100%|██████████| 200/200 [1:48:39<00:00, 32.60s/it]\n"
     ]
    }
   ],
   "source": [
    "num_qubits = 7\n",
    "num_layers = 4\n",
    "thetas = np.ones((num_qubits*num_layers*5))\n",
    "theta = np.pi / 2\n",
    "qc = qiskit.QuantumCircuit(num_qubits, num_qubits)\n",
    "loss_values = []\n",
    "thetass = []\n",
    "bar = qtm.progress_bar.ProgressBar(max_value=200, disable=False)\n",
    "for i in range(0, 200):\n",
    "    bar.update(1)\n",
    "    G = qtm.fubini_study.qng(qc.copy(), thetas, qtm.nqubit.create_linear_state, num_layers)\n",
    "    grad_loss = qtm.base.grad_loss(\n",
    "        qc, \n",
    "        qtm.nqubit.create_GHZchecker_linear, \n",
    "        thetas, r = 1/2, s = np.pi/2, num_layers = num_layers, theta = theta)\n",
    "    thetas = np.real(thetas - qtm.constant.learning_rate*(np.linalg.inv(G) @ grad_loss))   \n",
    "    qc_copy = qtm.nqubit.create_GHZchecker_linear(qc.copy(), thetas, num_layers, theta)\n",
    "    loss = qtm.base.loss_fubini_study(qtm.base.measure(qc_copy, list(range(qc_copy.num_qubits))))\n",
    "    loss_values.append(loss)\n",
    "    thetass.append(thetas)\n",
    "bar.close()\n",
    "np.savetxt(\"../experiments/linear_ansatz_ghz/\" + str(num_qubits) + \"/loss_values_qng\" + str(num_layers) + \".csv\", loss_values, delimiter=\",\")\n",
    "np.savetxt(\"../experiments/linear_ansatz_ghz/\" + str(num_qubits) + \"/thetass_qng\" + str(num_layers) + \".csv\", thetass, delimiter=\",\")\n"
   ]
  },
  {
   "cell_type": "code",
   "execution_count": 18,
   "metadata": {},
   "outputs": [
    {
     "name": "stderr",
     "output_type": "stream",
     "text": [
      "Step:   0%|          | 1/200 [07:18<24:14:48, 438.64s/it]\n"
     ]
    },
    {
     "ename": "TypeError",
     "evalue": "object of type 'numpy.float64' has no len()",
     "output_type": "error",
     "traceback": [
      "\u001b[1;31m---------------------------------------------------------------------------\u001b[0m",
      "\u001b[1;31mTypeError\u001b[0m                                 Traceback (most recent call last)",
      "\u001b[1;32m~\\AppData\\Local\\Temp/ipykernel_4132/3792017682.py\u001b[0m in \u001b[0;36m<module>\u001b[1;34m\u001b[0m\n\u001b[0;32m     16\u001b[0m \u001b[1;32mfor\u001b[0m \u001b[0mi\u001b[0m \u001b[1;32min\u001b[0m \u001b[0mrange\u001b[0m\u001b[1;33m(\u001b[0m\u001b[1;36m0\u001b[0m\u001b[1;33m,\u001b[0m \u001b[1;36m200\u001b[0m\u001b[1;33m)\u001b[0m\u001b[1;33m:\u001b[0m\u001b[1;33m\u001b[0m\u001b[1;33m\u001b[0m\u001b[0m\n\u001b[0;32m     17\u001b[0m     \u001b[0mbar\u001b[0m\u001b[1;33m.\u001b[0m\u001b[0mupdate\u001b[0m\u001b[1;33m(\u001b[0m\u001b[1;36m1\u001b[0m\u001b[1;33m)\u001b[0m\u001b[1;33m\u001b[0m\u001b[1;33m\u001b[0m\u001b[0m\n\u001b[1;32m---> 18\u001b[1;33m     \u001b[0mG\u001b[0m \u001b[1;33m=\u001b[0m \u001b[0mqtm\u001b[0m\u001b[1;33m.\u001b[0m\u001b[0mfubini_study\u001b[0m\u001b[1;33m.\u001b[0m\u001b[0mqng\u001b[0m\u001b[1;33m(\u001b[0m\u001b[0mqc\u001b[0m\u001b[1;33m.\u001b[0m\u001b[0mcopy\u001b[0m\u001b[1;33m(\u001b[0m\u001b[1;33m)\u001b[0m\u001b[1;33m,\u001b[0m \u001b[0mthetas\u001b[0m\u001b[1;33m,\u001b[0m \u001b[0mqtm\u001b[0m\u001b[1;33m.\u001b[0m\u001b[0mnqubit\u001b[0m\u001b[1;33m.\u001b[0m\u001b[0mcreate_linear_state\u001b[0m\u001b[1;33m,\u001b[0m \u001b[0mnum_layers\u001b[0m\u001b[1;33m)\u001b[0m\u001b[1;33m\u001b[0m\u001b[1;33m\u001b[0m\u001b[0m\n\u001b[0m\u001b[0;32m     19\u001b[0m     grad_loss = qtm.base.grad_loss(\n\u001b[0;32m     20\u001b[0m         \u001b[0mqc\u001b[0m\u001b[1;33m,\u001b[0m\u001b[1;33m\u001b[0m\u001b[1;33m\u001b[0m\u001b[0m\n",
      "\u001b[1;32mc:\\Users\\HAI\\Desktop\\vutuanhai\\QuantumTomography\\codes\\qtm\\fubini_study.py\u001b[0m in \u001b[0;36mqng\u001b[1;34m(qc, thetas, create_circuit_func, num_layers)\u001b[0m\n\u001b[0;32m    744\u001b[0m     \u001b[1;31m# Temporary circuit\u001b[0m\u001b[1;33m\u001b[0m\u001b[1;33m\u001b[0m\u001b[0m\n\u001b[0;32m    745\u001b[0m     \u001b[0mqc_new\u001b[0m \u001b[1;33m=\u001b[0m \u001b[0mqiskit\u001b[0m\u001b[1;33m.\u001b[0m\u001b[0mQuantumCircuit\u001b[0m\u001b[1;33m(\u001b[0m\u001b[0mn\u001b[0m\u001b[1;33m,\u001b[0m \u001b[0mn\u001b[0m\u001b[1;33m)\u001b[0m\u001b[1;33m\u001b[0m\u001b[1;33m\u001b[0m\u001b[0m\n\u001b[1;32m--> 746\u001b[1;33m     \u001b[0mqc_new\u001b[0m \u001b[1;33m=\u001b[0m \u001b[0mcreate_circuit_func\u001b[0m\u001b[1;33m(\u001b[0m\u001b[0mqc_new\u001b[0m\u001b[1;33m,\u001b[0m \u001b[0mthetas\u001b[0m\u001b[1;33m,\u001b[0m \u001b[0mnum_layers\u001b[0m\u001b[1;33m)\u001b[0m\u001b[1;33m\u001b[0m\u001b[1;33m\u001b[0m\u001b[0m\n\u001b[0m\u001b[0;32m    747\u001b[0m     \u001b[1;31m# Splitting circuit into list of V and W sub-layer (non-parameter and parameter)\u001b[0m\u001b[1;33m\u001b[0m\u001b[1;33m\u001b[0m\u001b[0m\n\u001b[0;32m    748\u001b[0m     \u001b[0mlayers\u001b[0m \u001b[1;33m=\u001b[0m \u001b[0msplit_into_layers\u001b[0m\u001b[1;33m(\u001b[0m\u001b[0mqc_new\u001b[0m\u001b[1;33m)\u001b[0m\u001b[1;33m\u001b[0m\u001b[1;33m\u001b[0m\u001b[0m\n",
      "\u001b[1;32mc:\\Users\\HAI\\Desktop\\vutuanhai\\QuantumTomography\\codes\\qtm\\nqubit.py\u001b[0m in \u001b[0;36mcreate_linear_state\u001b[1;34m(qc, thetas, num_layers)\u001b[0m\n\u001b[0;32m    668\u001b[0m     \u001b[1;32mif\u001b[0m \u001b[0misinstance\u001b[0m\u001b[1;33m(\u001b[0m\u001b[0mnum_layers\u001b[0m\u001b[1;33m,\u001b[0m \u001b[0mint\u001b[0m\u001b[1;33m)\u001b[0m \u001b[1;33m!=\u001b[0m \u001b[1;32mTrue\u001b[0m\u001b[1;33m:\u001b[0m\u001b[1;33m\u001b[0m\u001b[1;33m\u001b[0m\u001b[0m\n\u001b[0;32m    669\u001b[0m         \u001b[0mnum_layers\u001b[0m \u001b[1;33m=\u001b[0m \u001b[1;33m(\u001b[0m\u001b[0mnum_layers\u001b[0m\u001b[1;33m[\u001b[0m\u001b[1;34m'num_layers'\u001b[0m\u001b[1;33m]\u001b[0m\u001b[1;33m)\u001b[0m\u001b[1;33m\u001b[0m\u001b[1;33m\u001b[0m\u001b[0m\n\u001b[1;32m--> 670\u001b[1;33m     \u001b[1;32mif\u001b[0m \u001b[0mlen\u001b[0m\u001b[1;33m(\u001b[0m\u001b[0mthetas\u001b[0m\u001b[1;33m)\u001b[0m \u001b[1;33m!=\u001b[0m \u001b[0mnum_layers\u001b[0m \u001b[1;33m*\u001b[0m \u001b[0mn\u001b[0m \u001b[1;33m*\u001b[0m \u001b[1;36m5\u001b[0m\u001b[1;33m:\u001b[0m\u001b[1;33m\u001b[0m\u001b[1;33m\u001b[0m\u001b[0m\n\u001b[0m\u001b[0;32m    671\u001b[0m         raise Exception(\n\u001b[0;32m    672\u001b[0m             'Number of parameters must be equal n_layers * num_qubits * 5')\n",
      "\u001b[1;31mTypeError\u001b[0m: object of type 'numpy.float64' has no len()"
     ]
    }
   ],
   "source": [
    "thetass_tmp = pd.read_csv(\"../experiments/linear_ansatz_ghz/\" + str(num_qubits) + \"/thetass_qng\" + str(num_layers) + \".csv\", sep=\",\", header=None).to_numpy()\n",
    "loss_values_tmp = pd.read_csv(\"../experiments/linear_ansatz_ghz/\" + str(num_qubits) + \"/loss_values_qng\" + str(num_layers) + \".csv\", sep=\",\", header=None).to_numpy()\n",
    "loss_values = []\n",
    "for loss in loss_values_tmp:\n",
    "    loss_values.append(loss[0])\n",
    "num_qubits = 7\n",
    "num_layers = 4\n",
    "thetass = []\n",
    "for thetas in thetass_tmp:\n",
    "    thetass.append(thetas[0])\n",
    "\n",
    "thetas = thetass[-1]\n",
    "theta = np.pi / 2\n",
    "qc = qiskit.QuantumCircuit(num_qubits, num_qubits)\n",
    "bar = qtm.progress_bar.ProgressBar(max_value=200, disable=False)\n",
    "for i in range(0, 200):\n",
    "    bar.update(1)\n",
    "    G = qtm.fubini_study.qng(qc.copy(), thetas, qtm.nqubit.create_linear_state, num_layers)\n",
    "    grad_loss = qtm.base.grad_loss(\n",
    "        qc, \n",
    "        qtm.nqubit.create_GHZchecker_linear, \n",
    "        thetas, r = 1/2, s = np.pi/2, num_layers = num_layers, theta = theta)\n",
    "    thetas = np.real(thetas - qtm.constant.learning_rate*(np.linalg.inv(G) @ grad_loss))   \n",
    "    qc_copy = qtm.nqubit.create_GHZchecker_linear(qc.copy(), thetas, num_layers, theta)\n",
    "    loss = qtm.base.loss_fubini_study(qtm.base.measure(qc_copy, list(range(qc_copy.num_qubits))))\n",
    "    loss_values.append(loss)\n",
    "    thetass.append(thetas)"
   ]
  },
  {
   "cell_type": "code",
   "execution_count": 3,
   "metadata": {},
   "outputs": [
    {
     "data": {
      "text/plain": [
       "[<matplotlib.lines.Line2D at 0x21ce444b5e0>]"
      ]
     },
     "execution_count": 3,
     "metadata": {},
     "output_type": "execute_result"
    },
    {
     "data": {
      "image/png": "[encoded data removed]",
      "text/plain": [
       "<Figure size 432x288 with 1 Axes>"
      ]
     },
     "metadata": {
      "needs_background": "light"
     },
     "output_type": "display_data"
    }
   ],
   "source": [
    "plt.plot(loss_values)"
   ]
  },
  {
   "cell_type": "code",
   "execution_count": 4,
   "metadata": {},
   "outputs": [],
   "source": [
    "traces = []\n",
    "fidelities = []\n",
    "i = 0\n",
    "for thetas in thetass:\n",
    "    # Get |psi> = U_gen|000...>\n",
    "    qc = qiskit.QuantumCircuit(num_qubits, num_qubits)\n",
    "    qc = qtm.nqubit.create_linear_state(qc, thetas, num_layers)\n",
    "    psi = qiskit.quantum_info.Statevector.from_instruction(qc)\n",
    "    rho_psi = qiskit.quantum_info.DensityMatrix(psi)\n",
    "    # Get |psi~> = U_target|000...>\n",
    "    qc1 = qiskit.QuantumCircuit(num_qubits, num_qubits)\n",
    "    qc1 = qtm.nqubit.create_ghz_state(qc1, theta)\n",
    "    psi_hat = qiskit.quantum_info.Statevector.from_instruction(qc1)\n",
    "    rho_psi_hat = qiskit.quantum_info.DensityMatrix(psi_hat)\n",
    "    # Calculate the metrics\n",
    "    trace, fidelity = qtm.base.get_metrics(psi, psi_hat)\n",
    "    traces.append(trace)\n",
    "    fidelities.append(fidelity)\n",
    "np.savetxt(\"../experiments/linear_ansatz_ghz/\" + str(num_qubits) + \"/traces_qng\" + str(num_layers) + \".csv\", traces, delimiter=\",\")\n",
    "np.savetxt(\"../experiments/linear_ansatz_ghz/\" + str(num_qubits) + \"/fidelities_qng\" + str(num_layers) + \".csv\", fidelities, delimiter=\",\")"
   ]
  },
  {
   "cell_type": "code",
   "execution_count": 5,
   "metadata": {},
   "outputs": [
    {
     "name": "stderr",
     "output_type": "stream",
     "text": [
      "Step: 100%|██████████| 200/200 [2:30:44<00:00, 45.22s/it]  \n"
     ]
    }
   ],
   "source": [
    "num_qubits = 7\n",
    "num_layers = 5\n",
    "thetas = np.ones((num_qubits*num_layers*5))\n",
    "qc = qiskit.QuantumCircuit(num_qubits, num_qubits)\n",
    "loss_values = []\n",
    "thetass = []\n",
    "bar = qtm.progress_bar.ProgressBar(max_value=200, disable=False)\n",
    "for i in range(0, 200):\n",
    "    bar.update(1)\n",
    "    G = qtm.fubini_study.qng(qc.copy(), thetas, qtm.nqubit.create_linear_state, num_layers)\n",
    "    grad_loss = qtm.base.grad_loss(\n",
    "        qc, \n",
    "        qtm.nqubit.create_Wchecker_linear, \n",
    "        thetas, r = 1/2, s = np.pi/2, num_layers = num_layers)\n",
    "    thetas = np.real(thetas - qtm.constant.learning_rate*(np.linalg.inv(G) @ grad_loss))   \n",
    "    qc_copy = qtm.nqubit.create_Wchecker_linear(qc.copy(), thetas, num_layers)\n",
    "    loss = qtm.base.loss_fubini_study(qtm.base.measure(qc_copy, list(range(qc_copy.num_qubits))))\n",
    "    loss_values.append(loss)\n",
    "    thetass.append(thetas)\n",
    "bar.close()\n",
    "np.savetxt(\"../experiments/linear_ansatz_w/\" + str(num_qubits) + \"/loss_values_qng\" + str(num_layers) + \".csv\", loss_values, delimiter=\",\")\n",
    "np.savetxt(\"../experiments/linear_ansatz_w/\" + str(num_qubits) + \"/thetass_qng\" + str(num_layers) + \".csv\", thetass, delimiter=\",\")\n"
   ]
  },
  {
   "cell_type": "code",
   "execution_count": 6,
   "metadata": {},
   "outputs": [],
   "source": [
    "traces = []\n",
    "fidelities = []\n",
    "i = 0\n",
    "for thetas in thetass:\n",
    "    # Get |psi> = U_gen|000...>\n",
    "    qc = qiskit.QuantumCircuit(num_qubits, num_qubits)\n",
    "    qc = qtm.nqubit.create_linear_state(qc, thetas, num_layers)\n",
    "    psi = qiskit.quantum_info.Statevector.from_instruction(qc)\n",
    "    rho_psi = qiskit.quantum_info.DensityMatrix(psi)\n",
    "    # Get |psi~> = U_target|000...>\n",
    "    qc1 = qiskit.QuantumCircuit(num_qubits, num_qubits)\n",
    "    qc1 = qtm.nqubit.create_w_state(qc1)\n",
    "    psi_hat = qiskit.quantum_info.Statevector.from_instruction(qc1)\n",
    "    rho_psi_hat = qiskit.quantum_info.DensityMatrix(psi_hat)\n",
    "    # Calculate the metrics\n",
    "    trace, fidelity = qtm.base.get_metrics(psi, psi_hat)\n",
    "    traces.append(trace)\n",
    "    fidelities.append(fidelity)\n",
    "np.savetxt(\"../experiments/linear_ansatz_w/\" + str(num_qubits) + \"/traces_qng\" + str(num_layers) + \".csv\", traces, delimiter=\",\")\n",
    "np.savetxt(\"../experiments/linear_ansatz_w/\" + str(num_qubits) + \"/fidelities_qng\" + str(num_layers) + \".csv\", fidelities, delimiter=\",\")"
   ]
  }
 ],
 "metadata": {
  "interpreter": {
   "hash": "2c0cfa78ce93e4c23ba662bc61df11df26c1556d6a912f316b5ff6e5d6d165c5"
  },
  "kernelspec": {
   "display_name": "Python 3.9.10 64-bit (windows store)",
   "language": "python",
   "name": "python3"
  },
  "language_info": {
   "codemirror_mode": {
    "name": "ipython",
    "version": 3
   },
   "file_extension": ".py",
   "mimetype": "text/x-python",
   "name": "python",
   "nbconvert_exporter": "python",
   "pygments_lexer": "ipython3",
   "version": "3.8.0"
  },
  "orig_nbformat": 4
 },
 "nbformat": 4,
 "nbformat_minor": 2
}
