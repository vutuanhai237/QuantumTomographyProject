{
 "cells": [
  {
   "cell_type": "code",
   "execution_count": 4,
   "metadata": {},
   "outputs": [],
   "source": [
    "import qiskit\n",
    "import numpy as np\n",
    "import matplotlib.pyplot as plt\n",
    "import qtm.base, qtm.constant, qtm.nqubit, qtm.fubini_study, qtm.progress_bar"
   ]
  },
  {
   "cell_type": "markdown",
   "metadata": {},
   "source": [
    "### GHZ"
   ]
  },
  {
   "cell_type": "code",
   "execution_count": null,
   "metadata": {},
   "outputs": [],
   "source": [
    "num_qubits = 3\n",
    "num_layers = 2\n",
    "thetas = np.ones(num_qubits*num_layers*5)\n",
    "theta = np.pi / 2\n",
    "qc = qiskit.QuantumCircuit(num_qubits, num_qubits)\n",
    "loss_values = []\n",
    "thetass = []\n",
    "bar = qtm.progress_bar.ProgressBar(max_value=100, disable=False)\n",
    "for i in range(0, 100):\n",
    "    bar.update(1)\n",
    "    G = qtm.fubini_study.calculate_linear_state(qc.copy(), thetas, num_layers)\n",
    "    grad_loss = qtm.base.grad_loss(\n",
    "        qc, \n",
    "        qtm.nqubit.create_GHZchecker_linear, \n",
    "        thetas, r = 1/2, s = np.pi/2, num_layers = num_layers, theta = theta)\n",
    "    thetas = np.real(thetas - qtm.constant.learning_rate*(np.linalg.pinv(G) @ grad_loss))   \n",
    "    qc_copy = qtm.nqubit.create_GHZchecker_linear(qc.copy(), thetas, num_layers, theta)\n",
    "    loss = qtm.base.loss_fubini_study(qtm.base.measure(qc_copy, list(range(qc_copy.num_qubits))))\n",
    "    loss_values.append(loss)\n",
    "    thetass.append(thetas)\n",
    "bar.close()\n",
    "np.savetxt(\"../experiments/linear_ansatz_ghz/\" + str(num_qubits) + \"/loss_values_qng.csv\", loss_values, delimiter=\",\")\n",
    "np.savetxt(\"../experiments/linear_ansatz_ghz/\" + str(num_qubits) + \"/thetass_qng.csv\", thetass, delimiter=\",\")\n"
   ]
  },
  {
   "cell_type": "code",
   "execution_count": 5,
   "metadata": {},
   "outputs": [
    {
     "data": {
      "text/plain": [
       "[<matplotlib.lines.Line2D at 0x224fb6ad730>]"
      ]
     },
     "execution_count": 5,
     "metadata": {},
     "output_type": "execute_result"
    },
    {
     "data": {
      "image/png": "[encoded data removed]",
      "text/plain": [
       "<Figure size 432x288 with 1 Axes>"
      ]
     },
     "metadata": {
      "needs_background": "light"
     },
     "output_type": "display_data"
    }
   ],
   "source": [
    "plt.plot(loss_values)"
   ]
  },
  {
   "cell_type": "code",
   "execution_count": 6,
   "metadata": {},
   "outputs": [],
   "source": [
    "traces = []\n",
    "fidelities = []\n",
    "i = 0\n",
    "for thetas in thetass:\n",
    "    # Get |psi> = U_gen|000...>\n",
    "    qc = qiskit.QuantumCircuit(num_qubits, num_qubits)\n",
    "    qc = qtm.nqubit.create_linear_state(qc, thetas, num_layers)\n",
    "    psi = qiskit.quantum_info.Statevector.from_instruction(qc)\n",
    "    rho_psi = qiskit.quantum_info.DensityMatrix(psi)\n",
    "    # Get |psi~> = U_target|000...>\n",
    "    qc1 = qiskit.QuantumCircuit(num_qubits, num_qubits)\n",
    "    qc1 = qtm.nqubit.create_ghz_state(qc1, theta)\n",
    "    psi_hat = qiskit.quantum_info.Statevector.from_instruction(qc1)\n",
    "    rho_psi_hat = qiskit.quantum_info.DensityMatrix(psi_hat)\n",
    "    # Calculate the metrics\n",
    "    trace, fidelity = qtm.base.get_metrics(psi, psi_hat)\n",
    "    traces.append(trace)\n",
    "    fidelities.append(fidelity)\n",
    "np.savetxt(\"../experiments/linear_ansatz_ghz/\" + str(num_qubits) + \"/traces_qng.csv\", traces, delimiter=\",\")\n",
    "np.savetxt(\"../experiments/linear_ansatz_ghz/\" + str(num_qubits) + \"/fidelities_qng.csv\", fidelities, delimiter=\",\")"
   ]
  },
  {
   "cell_type": "markdown",
   "metadata": {},
   "source": [
    "# W"
   ]
  },
  {
   "cell_type": "code",
   "execution_count": 7,
   "metadata": {},
   "outputs": [
    {
     "name": "stderr",
     "output_type": "stream",
     "text": [
      "Step: 100%|██████████| 100/100 [22:36<00:00, 13.57s/it]\n"
     ]
    }
   ],
   "source": [
    "num_qubits = 3\n",
    "num_layers = 2\n",
    "thetas = np.zeros(num_qubits*num_layers*5)\n",
    "theta = np.pi / 2\n",
    "qc = qiskit.QuantumCircuit(num_qubits, num_qubits)\n",
    "loss_values = []\n",
    "thetass = []\n",
    "bar = qtm.progress_bar.ProgressBar(max_value=100, disable=False)\n",
    "for i in range(0, 100):\n",
    "    bar.update(1)\n",
    "    G = qtm.fubini_study.calculate_linear_state(qc.copy(), thetas, num_layers)\n",
    "    grad_loss = qtm.base.grad_loss(\n",
    "        qc, \n",
    "        qtm.nqubit.create_Wchecker_linear, \n",
    "        thetas, r = 1/2, s = np.pi/2, num_layers = num_layers)\n",
    "    thetas = np.real(thetas - qtm.constant.learning_rate*(np.linalg.pinv(G) @ grad_loss))   \n",
    "    qc_copy = qtm.nqubit.create_Wchecker_linear(qc.copy(), thetas, num_layers)\n",
    "    loss = qtm.base.loss_fubini_study(qtm.base.measure(qc_copy, list(range(qc_copy.num_qubits))))\n",
    "    loss_values.append(loss)\n",
    "    thetass.append(thetas)\n",
    "bar.close()\n",
    "np.savetxt(\"../experiments/linear_ansatz_w/\" + str(num_qubits) + \"/loss_values_qng.csv\", loss_values, delimiter=\",\")\n",
    "np.savetxt(\"../experiments/linear_ansatz_w/\" + str(num_qubits) + \"/thetass_qng.csv\", thetass, delimiter=\",\")\n"
   ]
  },
  {
   "cell_type": "code",
   "execution_count": 8,
   "metadata": {},
   "outputs": [],
   "source": [
    "traces = []\n",
    "fidelities = []\n",
    "i = 0\n",
    "for thetas in thetass:\n",
    "    # Get |psi> = U_gen|000...>\n",
    "    qc = qiskit.QuantumCircuit(num_qubits, num_qubits)\n",
    "    qc = qtm.nqubit.create_linear_state(qc, thetas, num_layers)\n",
    "    psi = qiskit.quantum_info.Statevector.from_instruction(qc)\n",
    "    rho_psi = qiskit.quantum_info.DensityMatrix(psi)\n",
    "    # Get |psi~> = U_target|000...>\n",
    "    qc1 = qiskit.QuantumCircuit(num_qubits, num_qubits)\n",
    "    qc1 = qtm.nqubit.create_w_state(qc1)\n",
    "    psi_hat = qiskit.quantum_info.Statevector.from_instruction(qc1)\n",
    "    rho_psi_hat = qiskit.quantum_info.DensityMatrix(psi_hat)\n",
    "    # Calculate the metrics\n",
    "    trace, fidelity = qtm.base.get_metrics(psi, psi_hat)\n",
    "    traces.append(trace)\n",
    "    fidelities.append(fidelity)\n",
    "np.savetxt(\"../experiments/linear_ansatz_w/\" + str(num_qubits) + \"/traces_qng.csv\", traces, delimiter=\",\")\n",
    "np.savetxt(\"../experiments/linear_ansatz_w/\" + str(num_qubits) + \"/fidelities_qng.csv\", fidelities, delimiter=\",\")"
   ]
  },
  {
   "cell_type": "markdown",
   "metadata": {},
   "source": [
    "### Others"
   ]
  },
  {
   "cell_type": "code",
   "execution_count": 2,
   "metadata": {},
   "outputs": [
    {
     "name": "stdout",
     "output_type": "stream",
     "text": [
      "2\n",
      "3\n",
      "4\n",
      "5\n",
      "6\n",
      "7\n",
      "8\n",
      "9\n",
      "10\n"
     ]
    }
   ],
   "source": [
    "import os, qiskit, qtm.constant, qtm.nqubit, pandas as pd, numpy as np\n",
    "path = \"../experiments/linear_ansatz_w/\"\n",
    "dirs = os.listdir(path)\n",
    "dirs = list(map(int, dirs))\n",
    "dirs.sort()\n",
    "num_layers = 2\n",
    "for dir in dirs:\n",
    "    dir = str(dir)\n",
    "    num_qubits = int(dir)\n",
    "    print(num_qubits)\n",
    "    thetass = pd.read_csv(path + dir + \"/thetass_qng.csv\", sep=\",\", header=None).to_numpy()\n",
    "    traces = []\n",
    "    fidelities = []\n",
    "    i = 0\n",
    "    for thetas in thetass:\n",
    "        # Get |psi> = U_gen|000...>\n",
    "        qc = qiskit.QuantumCircuit(num_qubits, num_qubits)\n",
    "        qc = qtm.nqubit.create_linear_state(qc, thetas, num_layers)\n",
    "        psi, rho_psi = qtm.base.extract_state(qc)\n",
    "        # Get |psi~> = U_target|000...>\n",
    "        qc1 = qiskit.QuantumCircuit(num_qubits, num_qubits)\n",
    "        qc1 = qtm.nqubit.create_w_state(qc1)\n",
    "        psi_hat, rho_psi_hat = qtm.base.extract_state(qc1)\n",
    "        # Calculate the metrics\n",
    "        trace, fidelity = qtm.base.get_metrics(psi, psi_hat)\n",
    "        traces.append(trace)\n",
    "        fidelities.append(fidelity)\n",
    "    np.savetxt(\"../experiments/linear_ansatz_w/\" + str(num_qubits) + \"/traces_qng.csv\", traces, delimiter=\",\")\n",
    "    np.savetxt(\"../experiments/linear_ansatz_w/\" + str(num_qubits) + \"/fidelities_qng.csv\", fidelities, delimiter=\",\")"
   ]
  },
  {
   "cell_type": "markdown",
   "metadata": {},
   "source": [
    "### Compare number of layers"
   ]
  },
  {
   "cell_type": "code",
   "execution_count": 2,
   "metadata": {},
   "outputs": [
    {
     "name": "stderr",
     "output_type": "stream",
     "text": [
      "Step: 100%|██████████| 200/200 [1:48:39<00:00, 32.60s/it]\n"
     ]
    }
   ],
   "source": [
    "num_qubits = 7\n",
    "num_layers = 4\n",
    "thetas = np.ones((num_qubits*num_layers*5))\n",
    "theta = np.pi / 2\n",
    "qc = qiskit.QuantumCircuit(num_qubits, num_qubits)\n",
    "loss_values = []\n",
    "thetass = []\n",
    "bar = qtm.progress_bar.ProgressBar(max_value=200, disable=False)\n",
    "for i in range(0, 200):\n",
    "    bar.update(1)\n",
    "    G = qtm.fubini_study.qng(qc.copy(), thetas, qtm.nqubit.create_linear_state, num_layers)\n",
    "    grad_loss = qtm.base.grad_loss(\n",
    "        qc, \n",
    "        qtm.nqubit.create_GHZchecker_linear, \n",
    "        thetas, r = 1/2, s = np.pi/2, num_layers = num_layers, theta = theta)\n",
    "    thetas = np.real(thetas - qtm.constant.learning_rate*(np.linalg.inv(G) @ grad_loss))   \n",
    "    qc_copy = qtm.nqubit.create_GHZchecker_linear(qc.copy(), thetas, num_layers, theta)\n",
    "    loss = qtm.base.loss_fubini_study(qtm.base.measure(qc_copy, list(range(qc_copy.num_qubits))))\n",
    "    loss_values.append(loss)\n",
    "    thetass.append(thetas)\n",
    "bar.close()\n",
    "np.savetxt(\"../experiments/linear_ansatz_ghz/\" + str(num_qubits) + \"/loss_values_qng\" + str(num_layers) + \".csv\", loss_values, delimiter=\",\")\n",
    "np.savetxt(\"../experiments/linear_ansatz_ghz/\" + str(num_qubits) + \"/thetass_qng\" + str(num_layers) + \".csv\", thetass, delimiter=\",\")\n"
   ]
  },
  {
   "cell_type": "code",
   "execution_count": 18,
   "metadata": {},
   "outputs": [
    {
     "name": "stderr",
     "output_type": "stream",
     "text": [
      "Step:   0%|          | 1/200 [07:18<24:14:48, 438.64s/it]\n"
     ]
    },
    {
     "ename": "TypeError",
     "evalue": "object of type 'numpy.float64' has no len()",
     "output_type": "error",
     "traceback": [
      "\u001b[1;31m---------------------------------------------------------------------------\u001b[0m",
      "\u001b[1;31mTypeError\u001b[0m                                 Traceback (most recent call last)",
      "\u001b[1;32m~\\AppData\\Local\\Temp/ipykernel_4132/3792017682.py\u001b[0m in \u001b[0;36m<module>\u001b[1;34m\u001b[0m\n\u001b[0;32m     16\u001b[0m \u001b[1;32mfor\u001b[0m \u001b[0mi\u001b[0m \u001b[1;32min\u001b[0m \u001b[0mrange\u001b[0m\u001b[1;33m(\u001b[0m\u001b[1;36m0\u001b[0m\u001b[1;33m,\u001b[0m \u001b[1;36m200\u001b[0m\u001b[1;33m)\u001b[0m\u001b[1;33m:\u001b[0m\u001b[1;33m\u001b[0m\u001b[1;33m\u001b[0m\u001b[0m\n\u001b[0;32m     17\u001b[0m     \u001b[0mbar\u001b[0m\u001b[1;33m.\u001b[0m\u001b[0mupdate\u001b[0m\u001b[1;33m(\u001b[0m\u001b[1;36m1\u001b[0m\u001b[1;33m)\u001b[0m\u001b[1;33m\u001b[0m\u001b[1;33m\u001b[0m\u001b[0m\n\u001b[1;32m---> 18\u001b[1;33m     \u001b[0mG\u001b[0m \u001b[1;33m=\u001b[0m \u001b[0mqtm\u001b[0m\u001b[1;33m.\u001b[0m\u001b[0mfubini_study\u001b[0m\u001b[1;33m.\u001b[0m\u001b[0mqng\u001b[0m\u001b[1;33m(\u001b[0m\u001b[0mqc\u001b[0m\u001b[1;33m.\u001b[0m\u001b[0mcopy\u001b[0m\u001b[1;33m(\u001b[0m\u001b[1;33m)\u001b[0m\u001b[1;33m,\u001b[0m \u001b[0mthetas\u001b[0m\u001b[1;33m,\u001b[0m \u001b[0mqtm\u001b[0m\u001b[1;33m.\u001b[0m\u001b[0mnqubit\u001b[0m\u001b[1;33m.\u001b[0m\u001b[0mcreate_linear_state\u001b[0m\u001b[1;33m,\u001b[0m \u001b[0mnum_layers\u001b[0m\u001b[1;33m)\u001b[0m\u001b[1;33m\u001b[0m\u001b[1;33m\u001b[0m\u001b[0m\n\u001b[0m\u001b[0;32m     19\u001b[0m     grad_loss = qtm.base.grad_loss(\n\u001b[0;32m     20\u001b[0m         \u001b[0mqc\u001b[0m\u001b[1;33m,\u001b[0m\u001b[1;33m\u001b[0m\u001b[1;33m\u001b[0m\u001b[0m\n",
      "\u001b[1;32mc:\\Users\\HAI\\Desktop\\vutuanhai\\QuantumTomography\\codes\\qtm\\fubini_study.py\u001b[0m in \u001b[0;36mqng\u001b[1;34m(qc, thetas, create_circuit_func, num_layers)\u001b[0m\n\u001b[0;32m    744\u001b[0m     \u001b[1;31m# Temporary circuit\u001b[0m\u001b[1;33m\u001b[0m\u001b[1;33m\u001b[0m\u001b[0m\n\u001b[0;32m    745\u001b[0m     \u001b[0mqc_new\u001b[0m \u001b[1;33m=\u001b[0m \u001b[0mqiskit\u001b[0m\u001b[1;33m.\u001b[0m\u001b[0mQuantumCircuit\u001b[0m\u001b[1;33m(\u001b[0m\u001b[0mn\u001b[0m\u001b[1;33m,\u001b[0m \u001b[0mn\u001b[0m\u001b[1;33m)\u001b[0m\u001b[1;33m\u001b[0m\u001b[1;33m\u001b[0m\u001b[0m\n\u001b[1;32m--> 746\u001b[1;33m     \u001b[0mqc_new\u001b[0m \u001b[1;33m=\u001b[0m \u001b[0mcreate_circuit_func\u001b[0m\u001b[1;33m(\u001b[0m\u001b[0mqc_new\u001b[0m\u001b[1;33m,\u001b[0m \u001b[0mthetas\u001b[0m\u001b[1;33m,\u001b[0m \u001b[0mnum_layers\u001b[0m\u001b[1;33m)\u001b[0m\u001b[1;33m\u001b[0m\u001b[1;33m\u001b[0m\u001b[0m\n\u001b[0m\u001b[0;32m    747\u001b[0m     \u001b[1;31m# Splitting circuit into list of V and W sub-layer (non-parameter and parameter)\u001b[0m\u001b[1;33m\u001b[0m\u001b[1;33m\u001b[0m\u001b[0m\n\u001b[0;32m    748\u001b[0m     \u001b[0mlayers\u001b[0m \u001b[1;33m=\u001b[0m \u001b[0msplit_into_layers\u001b[0m\u001b[1;33m(\u001b[0m\u001b[0mqc_new\u001b[0m\u001b[1;33m)\u001b[0m\u001b[1;33m\u001b[0m\u001b[1;33m\u001b[0m\u001b[0m\n",
      "\u001b[1;32mc:\\Users\\HAI\\Desktop\\vutuanhai\\QuantumTomography\\codes\\qtm\\nqubit.py\u001b[0m in \u001b[0;36mcreate_linear_state\u001b[1;34m(qc, thetas, num_layers)\u001b[0m\n\u001b[0;32m    668\u001b[0m     \u001b[1;32mif\u001b[0m \u001b[0misinstance\u001b[0m\u001b[1;33m(\u001b[0m\u001b[0mnum_layers\u001b[0m\u001b[1;33m,\u001b[0m \u001b[0mint\u001b[0m\u001b[1;33m)\u001b[0m \u001b[1;33m!=\u001b[0m \u001b[1;32mTrue\u001b[0m\u001b[1;33m:\u001b[0m\u001b[1;33m\u001b[0m\u001b[1;33m\u001b[0m\u001b[0m\n\u001b[0;32m    669\u001b[0m         \u001b[0mnum_layers\u001b[0m \u001b[1;33m=\u001b[0m \u001b[1;33m(\u001b[0m\u001b[0mnum_layers\u001b[0m\u001b[1;33m[\u001b[0m\u001b[1;34m'num_layers'\u001b[0m\u001b[1;33m]\u001b[0m\u001b[1;33m)\u001b[0m\u001b[1;33m\u001b[0m\u001b[1;33m\u001b[0m\u001b[0m\n\u001b[1;32m--> 670\u001b[1;33m     \u001b[1;32mif\u001b[0m \u001b[0mlen\u001b[0m\u001b[1;33m(\u001b[0m\u001b[0mthetas\u001b[0m\u001b[1;33m)\u001b[0m \u001b[1;33m!=\u001b[0m \u001b[0mnum_layers\u001b[0m \u001b[1;33m*\u001b[0m \u001b[0mn\u001b[0m \u001b[1;33m*\u001b[0m \u001b[1;36m5\u001b[0m\u001b[1;33m:\u001b[0m\u001b[1;33m\u001b[0m\u001b[1;33m\u001b[0m\u001b[0m\n\u001b[0m\u001b[0;32m    671\u001b[0m         raise Exception(\n\u001b[0;32m    672\u001b[0m             'Number of parameters must be equal n_layers * num_qubits * 5')\n",
      "\u001b[1;31mTypeError\u001b[0m: object of type 'numpy.float64' has no len()"
     ]
    }
   ],
   "source": [
    "thetass_tmp = pd.read_csv(\"../experiments/linear_ansatz_ghz/\" + str(num_qubits) + \"/thetass_qng\" + str(num_layers) + \".csv\", sep=\",\", header=None).to_numpy()\n",
    "loss_values_tmp = pd.read_csv(\"../experiments/linear_ansatz_ghz/\" + str(num_qubits) + \"/loss_values_qng\" + str(num_layers) + \".csv\", sep=\",\", header=None).to_numpy()\n",
    "loss_values = []\n",
    "for loss in loss_values_tmp:\n",
    "    loss_values.append(loss[0])\n",
    "num_qubits = 7\n",
    "num_layers = 4\n",
    "thetass = []\n",
    "for thetas in thetass_tmp:\n",
    "    thetass.append(thetas[0])\n",
    "\n",
    "thetas = thetass[-1]\n",
    "theta = np.pi / 2\n",
    "qc = qiskit.QuantumCircuit(num_qubits, num_qubits)\n",
    "bar = qtm.progress_bar.ProgressBar(max_value=200, disable=False)\n",
    "for i in range(0, 200):\n",
    "    bar.update(1)\n",
    "    G = qtm.fubini_study.qng(qc.copy(), thetas, qtm.nqubit.create_linear_state, num_layers)\n",
    "    grad_loss = qtm.base.grad_loss(\n",
    "        qc, \n",
    "        qtm.nqubit.create_GHZchecker_linear, \n",
    "        thetas, r = 1/2, s = np.pi/2, num_layers = num_layers, theta = theta)\n",
    "    thetas = np.real(thetas - qtm.constant.learning_rate*(np.linalg.inv(G) @ grad_loss))   \n",
    "    qc_copy = qtm.nqubit.create_GHZchecker_linear(qc.copy(), thetas, num_layers, theta)\n",
    "    loss = qtm.base.loss_fubini_study(qtm.base.measure(qc_copy, list(range(qc_copy.num_qubits))))\n",
    "    loss_values.append(loss)\n",
    "    thetass.append(thetas)"
   ]
  },
  {
   "cell_type": "code",
   "execution_count": 3,
   "metadata": {},
   "outputs": [
    {
     "data": {
      "text/plain": [
       "[<matplotlib.lines.Line2D at 0x21ce444b5e0>]"
      ]
     },
     "execution_count": 3,
     "metadata": {},
     "output_type": "execute_result"
    },
    {
     "data": {
      "image/png": "[encoded data removed]",
      "text/plain": [
       "<Figure size 432x288 with 1 Axes>"
      ]
     },
     "metadata": {
      "needs_background": "light"
     },
     "output_type": "display_data"
    }
   ],
   "source": [
    "plt.plot(loss_values)"
   ]
  },
  {
   "cell_type": "code",
   "execution_count": 4,
   "metadata": {},
   "outputs": [],
   "source": [
    "traces = []\n",
    "fidelities = []\n",
    "i = 0\n",
    "for thetas in thetass:\n",
    "    # Get |psi> = U_gen|000...>\n",
    "    qc = qiskit.QuantumCircuit(num_qubits, num_qubits)\n",
    "    qc = qtm.nqubit.create_linear_state(qc, thetas, num_layers)\n",
    "    psi = qiskit.quantum_info.Statevector.from_instruction(qc)\n",
    "    rho_psi = qiskit.quantum_info.DensityMatrix(psi)\n",
    "    # Get |psi~> = U_target|000...>\n",
    "    qc1 = qiskit.QuantumCircuit(num_qubits, num_qubits)\n",
    "    qc1 = qtm.nqubit.create_ghz_state(qc1, theta)\n",
    "    psi_hat = qiskit.quantum_info.Statevector.from_instruction(qc1)\n",
    "    rho_psi_hat = qiskit.quantum_info.DensityMatrix(psi_hat)\n",
    "    # Calculate the metrics\n",
    "    trace, fidelity = qtm.base.get_metrics(psi, psi_hat)\n",
    "    traces.append(trace)\n",
    "    fidelities.append(fidelity)\n",
    "np.savetxt(\"../experiments/linear_ansatz_ghz/\" + str(num_qubits) + \"/traces_qng\" + str(num_layers) + \".csv\", traces, delimiter=\",\")\n",
    "np.savetxt(\"../experiments/linear_ansatz_ghz/\" + str(num_qubits) + \"/fidelities_qng\" + str(num_layers) + \".csv\", fidelities, delimiter=\",\")"
   ]
  },
  {
   "cell_type": "code",
   "execution_count": 5,
   "metadata": {},
   "outputs": [
    {
     "name": "stderr",
     "output_type": "stream",
     "text": [
      "Step: 100%|██████████| 200/200 [2:30:44<00:00, 45.22s/it]  \n"
     ]
    }
   ],
   "source": [
    "num_qubits = 7\n",
    "num_layers = 5\n",
    "thetas = np.ones((num_qubits*num_layers*5))\n",
    "qc = qiskit.QuantumCircuit(num_qubits, num_qubits)\n",
    "loss_values = []\n",
    "thetass = []\n",
    "bar = qtm.progress_bar.ProgressBar(max_value=200, disable=False)\n",
    "for i in range(0, 200):\n",
    "    bar.update(1)\n",
    "    G = qtm.fubini_study.qng(qc.copy(), thetas, qtm.nqubit.create_linear_state, num_layers)\n",
    "    grad_loss = qtm.base.grad_loss(\n",
    "        qc, \n",
    "        qtm.nqubit.create_Wchecker_linear, \n",
    "        thetas, r = 1/2, s = np.pi/2, num_layers = num_layers)\n",
    "    thetas = np.real(thetas - qtm.constant.learning_rate*(np.linalg.inv(G) @ grad_loss))   \n",
    "    qc_copy = qtm.nqubit.create_Wchecker_linear(qc.copy(), thetas, num_layers)\n",
    "    loss = qtm.base.loss_fubini_study(qtm.base.measure(qc_copy, list(range(qc_copy.num_qubits))))\n",
    "    loss_values.append(loss)\n",
    "    thetass.append(thetas)\n",
    "bar.close()\n",
    "np.savetxt(\"../experiments/linear_ansatz_w/\" + str(num_qubits) + \"/loss_values_qng\" + str(num_layers) + \".csv\", loss_values, delimiter=\",\")\n",
    "np.savetxt(\"../experiments/linear_ansatz_w/\" + str(num_qubits) + \"/thetass_qng\" + str(num_layers) + \".csv\", thetass, delimiter=\",\")\n"
   ]
  },
  {
   "cell_type": "code",
   "execution_count": 6,
   "metadata": {},
   "outputs": [],
   "source": [
    "traces = []\n",
    "fidelities = []\n",
    "i = 0\n",
    "for thetas in thetass:\n",
    "    # Get |psi> = U_gen|000...>\n",
    "    qc = qiskit.QuantumCircuit(num_qubits, num_qubits)\n",
    "    qc = qtm.nqubit.create_linear_state(qc, thetas, num_layers)\n",
    "    psi = qiskit.quantum_info.Statevector.from_instruction(qc)\n",
    "    rho_psi = qiskit.quantum_info.DensityMatrix(psi)\n",
    "    # Get |psi~> = U_target|000...>\n",
    "    qc1 = qiskit.QuantumCircuit(num_qubits, num_qubits)\n",
    "    qc1 = qtm.nqubit.create_w_state(qc1)\n",
    "    psi_hat = qiskit.quantum_info.Statevector.from_instruction(qc1)\n",
    "    rho_psi_hat = qiskit.quantum_info.DensityMatrix(psi_hat)\n",
    "    # Calculate the metrics\n",
    "    trace, fidelity = qtm.base.get_metrics(psi, psi_hat)\n",
    "    traces.append(trace)\n",
    "    fidelities.append(fidelity)\n",
    "np.savetxt(\"../experiments/linear_ansatz_w/\" + str(num_qubits) + \"/traces_qng\" + str(num_layers) + \".csv\", traces, delimiter=\",\")\n",
    "np.savetxt(\"../experiments/linear_ansatz_w/\" + str(num_qubits) + \"/fidelities_qng\" + str(num_layers) + \".csv\", fidelities, delimiter=\",\")"
   ]
  }
 ],
 "metadata": {
  "interpreter": {
   "hash": "2c0cfa78ce93e4c23ba662bc61df11df26c1556d6a912f316b5ff6e5d6d165c5"
  },
  "kernelspec": {
   "display_name": "Python 3.9.10 64-bit (windows store)",
   "language": "python",
   "name": "python3"
  },
  "language_info": {
   "codemirror_mode": {
    "name": "ipython",
    "version": 3
   },
   "file_extension": ".py",
   "mimetype": "text/x-python",
   "name": "python",
   "nbconvert_exporter": "python",
   "pygments_lexer": "ipython3",
   "version": "3.8.0"
  },
  "orig_nbformat": 4
 },
 "nbformat": 4,
 "nbformat_minor": 2
}
