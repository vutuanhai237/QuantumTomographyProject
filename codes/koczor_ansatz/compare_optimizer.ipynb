{
 "cells": [
  {
   "cell_type": "code",
   "execution_count": 37,
   "metadata": {},
   "outputs": [],
   "source": [
    "import qiskit\n",
    "import numpy as np\n",
    "import matplotlib.pyplot as plt\n",
    "import sys\n",
    "sys.path.insert(1, '../')\n",
    "import qtm.base, qtm.constant, qtm.nqubit, qtm.fubini_study\n",
    "from scipy.linalg import block_diag"
   ]
  },
  {
   "cell_type": "code",
   "execution_count": 2,
   "metadata": {},
   "outputs": [],
   "source": [
    "# Init parameters\n",
    "num_qubits = 3\n",
    "# For arbitrary initial state\n",
    "num_layers = 1\n",
    "thetas_origin = np.random.uniform(low = 0, high = 2*np.pi, size = num_qubits*num_layers*5)\n",
    "# For determine GHZ state\n",
    "theta = np.random.uniform(0, 2*np.pi)"
   ]
  },
  {
   "cell_type": "code",
   "execution_count": 33,
   "metadata": {},
   "outputs": [],
   "source": [
    "def calculate_fubini_study_linear_state(qc: qiskit.QuantumCircuit, thetas, num_layers: int = 1):\n",
    "    \"\"\"Create linear ansatz and compuate g each sub-layer\n",
    "\n",
    "    Args:\n",
    "        qc (qiskit.QuantumCircuit): Init circuit (blank)\n",
    "        thetas (Numpy array): Parameters\n",
    "        n_layers (Int): numpy of layers\n",
    "\n",
    "    Returns:\n",
    "        qiskit.QuantumCircuit\n",
    "    \"\"\"\n",
    "    n = qc.num_qubits\n",
    "    if isinstance(num_layers, int) != True:\n",
    "        num_layers = (num_layers['num_layers'])\n",
    "    if len(thetas) != num_layers * n * 5:\n",
    "        raise Exception('Number of parameters must be equal n_layers * num_qubits * 5')\n",
    "    for i in range(0, num_layers):\n",
    "        phis = thetas[i:(i + 1)*n*5]\n",
    "        index_layer = 0\n",
    "        gs = []\n",
    "\n",
    "        qc_copy = qtm.nqubit.create_rx_nqubit(qc.copy(), phis[:n])\n",
    "        observers = (qtm.base.create_observers(qc_copy))[index_layer]\n",
    "        gs.append(qtm.fubini_study.calculate_g(qc, observers))\n",
    "        qc = qtm.nqubit.create_rx_nqubit(qc, phis[:n])\n",
    "        index_layer += 1\n",
    "\n",
    "        qc_copy = qtm.nqubit.create_cry_nqubit_inverse(qc.copy(), phis[n:n*2])\n",
    "        observers = (qtm.base.create_observers(qc_copy))[index_layer]\n",
    "        gs.append(qtm.fubini_study.calculate_g(qc, observers))\n",
    "        qc = qtm.nqubit.create_cry_nqubit_inverse(qc, phis[n:n*2])\n",
    "        index_layer += 1\n",
    "\n",
    "\n",
    "        qc_copy = qtm.nqubit.create_rz_nqubit(qc.copy(), phis[n*2:n*3])\n",
    "        observers = (qtm.base.create_observers(qc_copy))[index_layer]\n",
    "        gs.append(qtm.fubini_study.calculate_g(qc, observers))\n",
    "        qc = qtm.nqubit.create_rz_nqubit(qc, phis[n*2:n*3])\n",
    "        index_layer += 1\n",
    "\n",
    "\n",
    "        qc_copy = qtm.nqubit.create_cry_nqubit(qc.copy(), phis[n*3:n*4])\n",
    "        observers = (qtm.base.create_observers(qc_copy))[index_layer]\n",
    "        gs.append(qtm.fubini_study.calculate_g(qc, observers))\n",
    "        qc = qtm.nqubit.create_cry_nqubit(qc, phis[n*3:n*4])\n",
    "        index_layer += 1\n",
    "\n",
    "\n",
    "        qc_copy = qtm.nqubit.create_rz_nqubit(qc.copy(), phis[n*4:n*5])\n",
    "        observers = (qtm.base.create_observers(qc_copy))[index_layer]\n",
    "        gs.append(qtm.fubini_study.calculate_g(qc, observers))\n",
    "        qc = qtm.nqubit.create_rz_nqubit(qc, phis[n*4:n*5])\n",
    "        index_layer += 1\n",
    "    G = gs[0]\n",
    "    for i in range(1, len(gs)):\n",
    "        G = block_diag(G, gs[i])\n",
    "\n",
    "    return G"
   ]
  },
  {
   "cell_type": "code",
   "execution_count": 34,
   "metadata": {},
   "outputs": [
    {
     "name": "stdout",
     "output_type": "stream",
     "text": [
      "Before adding noise:  (165.08929640072927+0j)\n",
      "After adding noise:  (165.08929607321127+0j)\n"
     ]
    }
   ],
   "source": [
    "thetas = thetas_origin.copy()\n",
    "qc = qiskit.QuantumCircuit(num_qubits, num_qubits)\n",
    "G = calculate_fubini_study_linear_state(qc, thetas, num_layers)\n",
    "\n",
    "x = np.eye(15)\n",
    "print(\"Before adding noise: \", np.trace(x + np.linalg.inv(G)))\n",
    "\n",
    "G = G + 10**(-10)*np.identity(G.shape[0])\n",
    "print(\"After adding noise: \", np.trace(x + np.linalg.inv(G)))\n",
    "\n",
    "# If G and (G + noise) return the same results, that means G is OK!"
   ]
  },
  {
   "cell_type": "code",
   "execution_count": 46,
   "metadata": {},
   "outputs": [],
   "source": [
    "thetas = thetas_origin.copy()\n",
    "qc = qiskit.QuantumCircuit(num_qubits, num_qubits)\n",
    "\n",
    "loss_values = []\n",
    "for i in range(0, 100):\n",
    "    G = calculate_fubini_study_linear_state(qc.copy(), thetas, num_layers)\n",
    "    grad_loss = qtm.base.grad_loss(\n",
    "        qc, \n",
    "        qtm.nqubit.create_GHZchecker_linear, \n",
    "        thetas, r = 1/2, s = np.pi/2, num_layers = num_layers, theta = theta)\n",
    "    thetas = np.real(thetas - qtm.constant.learning_rate*(np.linalg.inv(G) @ grad_loss))\n",
    "\n",
    "    qc_copy = qtm.nqubit.create_GHZchecker_linear(qc.copy(), thetas, num_layers, theta)\n",
    "    loss = qtm.base.loss_basis(qtm.base.measure(qc_copy, list(range(qc_copy.num_qubits))))\n",
    "    loss_values.append(loss)\n",
    "\n"
   ]
  },
  {
   "cell_type": "code",
   "execution_count": 47,
   "metadata": {},
   "outputs": [
    {
     "data": {
      "image/png": "[encoded data removed]",
      "text/plain": [
       "<Figure size 432x288 with 1 Axes>"
      ]
     },
     "metadata": {
      "needs_background": "light"
     },
     "output_type": "display_data"
    }
   ],
   "source": [
    "# Plot loss value in 100 steps\n",
    "plt.plot(loss_values)\n",
    "plt.xlabel(\"Step\")\n",
    "plt.ylabel(\"Loss value\")\n",
    "plt.show()"
   ]
  },
  {
   "cell_type": "code",
   "execution_count": 48,
   "metadata": {},
   "outputs": [
    {
     "name": "stderr",
     "output_type": "stream",
     "text": [
      "Step: 100%|██████████| 100/100 [08:52<00:00,  5.33s/it]\n"
     ]
    }
   ],
   "source": [
    "thetas = thetas_origin.copy()\n",
    "qc = qiskit.QuantumCircuit(num_qubits, num_qubits)\n",
    "\n",
    "thetass, loss_values_sgd = qtm.base.fit(\n",
    "    qc, num_steps = 100, thetas = thetas, \n",
    "    create_circuit_func = qtm.nqubit.create_GHZchecker_linear, \n",
    "    grad_func = qtm.base.grad_loss,\n",
    "    loss_func = qtm.base.loss_basis,\n",
    "    optimizer = qtm.base.sgd,\n",
    "    verbose = 1,\n",
    "    is_return_all_thetas = True,\n",
    "    num_layers = num_layers,\n",
    "    theta = theta\n",
    ")\n"
   ]
  },
  {
   "cell_type": "code",
   "execution_count": 50,
   "metadata": {},
   "outputs": [
    {
     "name": "stderr",
     "output_type": "stream",
     "text": [
      "Step: 100%|██████████| 100/100 [09:08<00:00,  5.49s/it]\n"
     ]
    }
   ],
   "source": [
    "thetas = thetas_origin.copy()\n",
    "qc = qiskit.QuantumCircuit(num_qubits, num_qubits)\n",
    "\n",
    "thetass, loss_values_adam = qtm.base.fit(\n",
    "    qc, num_steps = 100, thetas = thetas, \n",
    "    create_circuit_func = qtm.nqubit.create_GHZchecker_linear, \n",
    "    grad_func = qtm.base.grad_loss,\n",
    "    loss_func = qtm.base.loss_basis,\n",
    "    optimizer = qtm.base.adam,\n",
    "    verbose = 1,\n",
    "    is_return_all_thetas = True,\n",
    "    num_layers = num_layers,\n",
    "    theta = theta\n",
    ")\n"
   ]
  },
  {
   "cell_type": "code",
   "execution_count": 54,
   "metadata": {},
   "outputs": [
    {
     "data": {
      "image/png": "[encoded data removed]",
      "text/plain": [
       "<Figure size 432x288 with 1 Axes>"
      ]
     },
     "metadata": {
      "needs_background": "light"
     },
     "output_type": "display_data"
    }
   ],
   "source": [
    "\n",
    "# Plot loss value in 100 steps\n",
    "plt.plot(loss_values_sgd, label='SGD', linestyle = '-')\n",
    "plt.plot(loss_values_adam, label='Adam', linestyle = '-.')\n",
    "plt.plot(loss_values, label='QNG', linestyle = '--')\n",
    "plt.title('GHZchecker_linear')\n",
    "plt.legend()\n",
    "plt.xlabel(\"Iteration\")\n",
    "plt.ylabel(\"Loss value\")\n",
    "plt.savefig('GHZchecker_linear.png', format='png', dpi=600)\n",
    "plt.show() \n",
    "\n",
    "np.savetxt(\"./loss_values_sgd.csv\", loss_values_sgd, delimiter=\",\")\n",
    "np.savetxt(\"./loss_values_adam.csv\", loss_values_adam, delimiter=\",\")\n",
    "np.savetxt(\"./loss_values_qng.csv\", loss_values, delimiter=\",\")\n"
   ]
  }
 ],
 "metadata": {
  "interpreter": {
   "hash": "770b641b4564229c593d803dcff32fdd6beb94e7a78ba8806c95b100ce213599"
  },
  "kernelspec": {
   "display_name": "Python 3.8.0 64-bit",
   "language": "python",
   "name": "python3"
  },
  "language_info": {
   "codemirror_mode": {
    "name": "ipython",
    "version": 3
   },
   "file_extension": ".py",
   "mimetype": "text/x-python",
   "name": "python",
   "nbconvert_exporter": "python",
   "pygments_lexer": "ipython3",
   "version": "3.8.0"
  },
  "orig_nbformat": 4
 },
 "nbformat": 4,
 "nbformat_minor": 2
}
