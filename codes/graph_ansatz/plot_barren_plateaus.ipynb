{
 "cells": [
  {
   "cell_type": "code",
   "execution_count": 1,
   "metadata": {},
   "outputs": [
    {
     "data": {
      "text/plain": [
       "<module 'qtm.constant' from 'c:\\\\Users\\\\HAI\\\\Desktop\\\\vutuanhai\\\\QuantumTomography\\\\codes\\\\qtm\\\\constant.py'>"
      ]
     },
     "execution_count": 1,
     "metadata": {},
     "output_type": "execute_result"
    }
   ],
   "source": [
    "import qiskit\n",
    "import numpy as np\n",
    "import qtm.base, qtm.constant, qtm.ansatz, qtm.fubini_study\n",
    "import importlib\n",
    "importlib.reload(qtm.fubini_study)\n",
    "importlib.reload(qtm.ansatz)\n",
    "importlib.reload(qtm.base)\n",
    "importlib.reload(qtm.constant)"
   ]
  },
  {
   "cell_type": "markdown",
   "metadata": {},
   "source": [
    "### GHZ"
   ]
  },
  {
   "cell_type": "code",
   "execution_count": null,
   "metadata": {},
   "outputs": [],
   "source": [
    "qubits = range(2, 11)\n",
    "variances = []\n",
    "for num_qubits in qubits:\n",
    "    print(num_qubits)\n",
    "    # Init parameters\n",
    "    num_layers = 2\n",
    "    # thetas = np.random.uniform(low = 0, high = 1, size = num_layers*(2*num_qubits - 2)) \n",
    "    theta = np.pi / 2\n",
    "    qc = qiskit.QuantumCircuit(num_qubits, num_qubits)\n",
    "    grads = []\n",
    "    for i in range(0, 200):\n",
    "        # if i % 10 == 0:\n",
    "        #     print(i)\n",
    "        thetas = np.random.uniform(low= 0, high= 2 * np.pi, size=num_layers*(2*num_qubits - 2))\n",
    "        G = qtm.fubini_study.qng(qc.copy(), thetas, qtm.ansatz.create_star2graph_state, num_layers)\n",
    "        grad_loss = qtm.base.grad_loss(\n",
    "            qc, \n",
    "            qtm.ansatz.create_GHZchecker_star2graph,\n",
    "            thetas, num_layers = num_layers, theta = theta)\n",
    "        grad = np.linalg.inv(G) @ grad_loss\n",
    "        grads.append(grad[-1])\n",
    "    print(np.var(grads))\n",
    "    variances.append(np.var(grads))"
   ]
  },
  {
   "cell_type": "code",
   "execution_count": 3,
   "metadata": {},
   "outputs": [
    {
     "name": "stdout",
     "output_type": "stream",
     "text": [
      "2\n",
      "0.27009161176780305\n",
      "3\n",
      "0.14091101455900001\n",
      "4\n",
      "0.05235849729421147\n",
      "5\n",
      "0.008420462231000002\n",
      "6\n",
      "0.0033541284715159626\n",
      "7\n",
      "0.000956392624\n",
      "8\n",
      "0.000138990377838935\n",
      "9\n",
      "0.00012255380400000006\n",
      "10\n",
      "3.4565545365572165e-05\n"
     ]
    }
   ],
   "source": [
    "qubits = range(2, 11)\n",
    "variances = []\n",
    "for num_qubits in qubits:\n",
    "    print(num_qubits)\n",
    "    # Init parameters\n",
    "    num_layers = 2\n",
    "    # thetas = np.random.uniform(low = 0, high = 1, size = num_layers*(2*num_qubits - 2)) \n",
    "    theta = np.pi / 2\n",
    "    qc = qiskit.QuantumCircuit(num_qubits, num_qubits)\n",
    "    grads = []\n",
    "    for i in range(0, 200):\n",
    "        # if i % 10 == 0:\n",
    "        #     print(i)\n",
    "        thetas = np.random.uniform(low= 0, high= 2 * np.pi, size=num_layers*(2*num_qubits))\n",
    "        G = qtm.fubini_study.qng(qc.copy(), thetas, qtm.ansatz.create_polygongraph_state, num_layers)\n",
    "        grad_loss = qtm.base.grad_loss(\n",
    "            qc, \n",
    "            qtm.ansatz.create_GHZchecker_polygongraph,\n",
    "            thetas, num_layers = num_layers, theta = theta)\n",
    "        grad = np.linalg.inv(G) @ grad_loss\n",
    "        grads.append(grad[-1])\n",
    "    print(np.var(grads))\n",
    "    variances.append(np.var(grads))"
   ]
  },
  {
   "cell_type": "code",
   "execution_count": 12,
   "metadata": {},
   "outputs": [
    {
     "name": "stdout",
     "output_type": "stream",
     "text": [
      "-1.2257922776814651\n",
      "-1.1839136440657767\n",
      "-1.5158704081380296\n"
     ]
    },
    {
     "name": "stderr",
     "output_type": "stream",
     "text": [
      "The PostScript backend does not support transparency; partially transparent artists will be rendered opaque.\n"
     ]
    },
    {
     "data": {
      "image/png": "[encoded data removed]",
      "text/plain": [
       "<Figure size 432x288 with 1 Axes>"
      ]
     },
     "metadata": {
      "needs_background": "light"
     },
     "output_type": "display_data"
    }
   ],
   "source": [
    "from matplotlib import pyplot as plt\n",
    "num_qubits = range(2, 11)\n",
    "\n",
    "# graph-star ansatz\n",
    "star_variances = [\n",
    "    0.27085798507381925, \n",
    "    0.1271022219,\n",
    "    0.03649865937499999,\n",
    "    0.012815382519000001,\n",
    "    0.003652557391000001,\n",
    "    0.0014441323840000003,\n",
    "    0.0005664390710000003,\n",
    "    6.0335879000000016e-05,\n",
    "    1.2069670999999998e-05\n",
    "]\n",
    "\n",
    "polygon_variances = [\n",
    "    0.27009161176780305,\n",
    "    0.14091101455900001,\n",
    "    0.05235849729421147,\n",
    "    0.008420462231000002,\n",
    "    0.0033541284715159626,\n",
    "    0.000956392624,\n",
    "    0.000138990377838935,\n",
    "    0.00012255380400000006,\n",
    "    3.4565545365572165e-05\n",
    "]\n",
    "\n",
    "linear_variances = [\n",
    "    0.4914614136501438,\n",
    "    0.06244020738719319,\n",
    "    0.011758961072633937,\n",
    "    0.0029605306725032947,\n",
    "    0.0006606912633990858,\n",
    "    7.501980000636176e-05,\n",
    "    2.5908318086157836e-05,\n",
    "    1.2642166764496657e-05,\n",
    "    2.061685995309763e-06\n",
    "]\n",
    "\n",
    "\n",
    "star_variances = np.array(star_variances)\n",
    "polygon_variances = np.array(polygon_variances)\n",
    "linear_variances = np.array(linear_variances)\n",
    "num_qubits = np.array(num_qubits)\n",
    "p_star = np.polyfit(num_qubits, np.log(star_variances), 1)\n",
    "p_polygon = np.polyfit(num_qubits, np.log(polygon_variances), 1)\n",
    "p_linear = np.polyfit(num_qubits, np.log(linear_variances), 1)\n",
    "print(p_star[0])\n",
    "print(p_polygon[0])\n",
    "print(p_linear[0])\n",
    "plt.plot(num_qubits, star_variances, marker = 'o', linestyle = 'dotted', color = 'red')\n",
    "plt.plot(num_qubits, polygon_variances, marker = 'o', linestyle = 'dotted', color = 'green')\n",
    "plt.plot(num_qubits, linear_variances, marker = 'o', linestyle = 'dotted', color = 'blue')\n",
    "plt.semilogy(num_qubits, np.exp(p_star[0] * num_qubits + p_star[1]), linestyle='dashed', color = 'red', label=\"Graph-star ansatz. Slope {:3.2f}\".format(p_star[0]))\n",
    "plt.semilogy(num_qubits, np.exp(p_polygon[0] * num_qubits + p_polygon[1]), linestyle='dashed', color = 'green', label=\"Graph-polygon ansatz. Slope {:3.2f}\".format(p_polygon[0]))\n",
    "plt.semilogy(num_qubits, np.exp(p_linear[0] * num_qubits + p_linear[1]), linestyle='dashed', color = 'blue', label=\"Linear ansatz. Slope {:3.2f}\".format(p_linear[0]))\n",
    "plt.xticks(num_qubits)\n",
    "plt.legend()\n",
    "plt.savefig('bp.eps', format = 'eps', dpi = 1000)"
   ]
  }
 ],
 "metadata": {
  "interpreter": {
   "hash": "770b641b4564229c593d803dcff32fdd6beb94e7a78ba8806c95b100ce213599"
  },
  "kernelspec": {
   "display_name": "Python 3.8.0 64-bit",
   "language": "python",
   "name": "python3"
  },
  "language_info": {
   "codemirror_mode": {
    "name": "ipython",
    "version": 3
   },
   "file_extension": ".py",
   "mimetype": "text/x-python",
   "name": "python",
   "nbconvert_exporter": "python",
   "pygments_lexer": "ipython3",
   "version": "3.9.10"
  },
  "orig_nbformat": 4
 },
 "nbformat": 4,
 "nbformat_minor": 2
}
