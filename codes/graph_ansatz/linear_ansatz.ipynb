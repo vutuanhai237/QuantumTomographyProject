{
 "cells": [
  {
   "cell_type": "code",
   "execution_count": 5,
   "metadata": {},
   "outputs": [
    {
     "data": {
      "text/plain": [
       "<module 'qtm.fubini_study' from '..\\\\qtm\\\\fubini_study.py'>"
      ]
     },
     "execution_count": 5,
     "metadata": {},
     "output_type": "execute_result"
    }
   ],
   "source": [
    "import sys\n",
    "sys.path.insert(1, '../')\n",
    "import qtm.nqubit\n",
    "import qtm.base\n",
    "import qtm.loss\n",
    "import qtm.optimizer\n",
    "import importlib\n",
    "import qiskit\n",
    "import numpy as np\n",
    "import matplotlib.pyplot as plt\n",
    "importlib.reload(qtm.base)\n",
    "importlib.reload(qtm.constant)\n",
    "importlib.reload(qtm.fubini_study)\n"
   ]
  },
  {
   "cell_type": "markdown",
   "metadata": {},
   "source": [
    "### GHZ\n"
   ]
  },
  {
   "cell_type": "code",
   "execution_count": 6,
   "metadata": {},
   "outputs": [
    {
     "name": "stderr",
     "output_type": "stream",
     "text": [
      "Step:   0%|          | 0/10 [00:00<?, ?it/s]"
     ]
    }
   ],
   "source": [
    "num_qubits = 3\n",
    "num_layers = 2\n",
    "thetas = np.ones(num_qubits*num_layers*5)\n",
    "v = qtm.nqubit.create_ghz_state(num_qubits)\n",
    "thetass, loss_values = qtm.base.fit_state_preparation(\n",
    "    create_u_func=qtm.nqubit.create_linear_state,\n",
    "    v = v, thetas=thetas, num_steps=10, \n",
    "    grad_func=qtm.base.grad_loss,\n",
    "    loss_func=qtm.loss.loss_fubini_study,\n",
    "    optimizer=qtm.optimizer.qng_fubini_study,\n",
    "    verbose=1,\n",
    "    num_layers=num_layers,\n",
    "    is_return_all_thetas=True\n",
    ")\n",
    "\n",
    "traces, fidelities = qtm.base.calculate_state_preparation_metrics(\n",
    "   qtm.nqubit.create_linear_state, v,  thetass, num_layers=num_layers)\n"
   ]
  },
  {
   "cell_type": "markdown",
   "metadata": {},
   "source": [
    "### W\n"
   ]
  },
  {
   "cell_type": "code",
   "execution_count": null,
   "metadata": {},
   "outputs": [
    {
     "name": "stderr",
     "output_type": "stream",
     "text": [
      "Step: 100%|██████████| 100/100 [27:45<00:00, 16.66s/it]\n"
     ]
    }
   ],
   "source": [
    "num_qubits = 3\n",
    "num_layers = 2\n",
    "thetas = np.ones(num_qubits*num_layers*5)\n",
    "theta = np.pi / 2\n",
    "qc = qiskit.QuantumCircuit(num_qubits, num_qubits)\n",
    "loss_values = []\n",
    "thetass = []\n",
    "thetass, loss_values = qtm.base.fit(\n",
    "    qc, num_steps=100, thetas=thetas,\n",
    "    create_circuit_func=qtm.nqubit.create_Wchecker_linear,\n",
    "    grad_func=qtm.base.grad_loss,\n",
    "    loss_func=qtm.loss.loss_fubini_study,\n",
    "    optimizer=qtm.optimizer.sgd,\n",
    "    verbose=1,\n",
    "    num_layers=num_layers,\n",
    "    is_return_all_thetas=True\n",
    ")\n",
    "\n",
    "np.savetxt(\"../../experiments/linear_ansatz_w/\" + str(num_qubits) +\n",
    "           \"/loss_values_sgd.csv\", loss_values, delimiter=\",\")\n",
    "np.savetxt(\"../../experiments/linear_ansatz_w/\" + str(num_qubits) +\n",
    "           \"/thetass_sgd.csv\", thetass, delimiter=\",\")\n"
   ]
  },
  {
   "cell_type": "code",
   "execution_count": null,
   "metadata": {},
   "outputs": [],
   "source": [
    "traces = []\n",
    "fidelities = []\n",
    "i = 0\n",
    "for thetas in thetass:\n",
    "    # Get |psi> = U_gen|000...>\n",
    "    qc = qiskit.QuantumCircuit(num_qubits, num_qubits)\n",
    "    qc = qtm.nqubit.create_linear_state(qc, thetas, num_layers)\n",
    "    psi = qiskit.quantum_info.Statevector.from_instruction(qc)\n",
    "    rho_psi = qiskit.quantum_info.DensityMatrix(psi)\n",
    "    # Get |psi~> = U_target|000...>\n",
    "    qc1 = qiskit.QuantumCircuit(num_qubits, num_qubits)\n",
    "    qc1 = qtm.nqubit.create_w_state(num_qubits)\n",
    "    psi_hat = qiskit.quantum_info.Statevector.from_instruction(qc1)\n",
    "    rho_psi_hat = qiskit.quantum_info.DensityMatrix(psi_hat)\n",
    "    # Calculate the metrics\n",
    "    trace, fidelity = qtm.base.get_metrics(psi, psi_hat)\n",
    "    traces.append(trace)\n",
    "    fidelities.append(fidelity)\n",
    "np.savetxt(\"../../experiments/linear_ansatz_w/\" +\n",
    "           str(num_qubits) + \"/traces_sgd.csv\", traces, delimiter=\",\")\n",
    "np.savetxt(\"../../experiments/linear_ansatz_w/\" + str(num_qubits) +\n",
    "           \"/fidelities_sgd.csv\", fidelities, delimiter=\",\")\n"
   ]
  }
 ],
 "metadata": {
  "interpreter": {
   "hash": "b6314cf850edbae231b80224200c9e1580e03453e86236ed42ea1b49b1f8d2e3"
  },
  "kernelspec": {
   "display_name": "Python 3.8.0 64-bit",
   "language": "python",
   "name": "python3"
  },
  "language_info": {
   "codemirror_mode": {
    "name": "ipython",
    "version": 3
   },
   "file_extension": ".py",
   "mimetype": "text/x-python",
   "name": "python",
   "nbconvert_exporter": "python",
   "pygments_lexer": "ipython3",
   "version": "3.8.0"
  },
  "orig_nbformat": 4
 },
 "nbformat": 4,
 "nbformat_minor": 2
}
