{
 "cells": [
  {
   "cell_type": "code",
   "execution_count": 1,
   "metadata": {},
   "outputs": [
    {
     "data": {
      "text/plain": [
       "<module 'qtm.base' from '..\\\\qtm\\\\base.py'>"
      ]
     },
     "execution_count": 1,
     "metadata": {},
     "output_type": "execute_result"
    }
   ],
   "source": [
    "import qiskit\n",
    "import numpy as np\n",
    "import matplotlib.pyplot as plt\n",
    "import sys\n",
    "sys.path.insert(1, '../')\n",
    "import qtm.base, qtm.constant, qtm.nqubit, qtm.fubini_study, qtm.progress_bar\n",
    "import importlib\n",
    "importlib.reload(qtm.base)"
   ]
  },
  {
   "cell_type": "markdown",
   "metadata": {},
   "source": [
    "### GHZ"
   ]
  },
  {
   "cell_type": "code",
   "execution_count": 15,
   "metadata": {},
   "outputs": [
    {
     "name": "stderr",
     "output_type": "stream",
     "text": [
      "Step:  62%|██████▏   | 62/100 [22:36<15:27, 24.42s/it]"
     ]
    }
   ],
   "source": [
    "num_qubits = 3\n",
    "num_layers = 2\n",
    "thetas = np.ones(num_qubits*num_layers*5)\n",
    "theta = np.pi / 2\n",
    "qc = qiskit.QuantumCircuit(num_qubits, num_qubits)\n",
    "loss_values = []\n",
    "thetass = []\n",
    "thetass, loss_values = qtm.base.fit(\n",
    "    qc, num_steps = 100, thetas = thetas, \n",
    "    create_circuit_func = qtm.nqubit.create_GHZchecker_linear, \n",
    "    grad_func = qtm.base.grad_loss,\n",
    "    loss_func = qtm.base.loss_fubini_study,\n",
    "    optimizer = qtm.base.sgd,\n",
    "    verbose = 1,\n",
    "    theta = theta,\n",
    "    num_layers = num_layers,\n",
    "    is_return_all_thetas = True\n",
    ")\n",
    "\n",
    "np.savetxt(\"../../experiments/linear_ansatz_ghz/\" + str(num_qubits) + \"/loss_values_sgd.csv\", loss_values, delimiter=\",\")\n",
    "np.savetxt(\"../../experiments/linear_ansatz_ghz/\" + str(num_qubits) + \"/thetass_sgd.csv\", thetass, delimiter=\",\")\n"
   ]
  },
  {
   "cell_type": "code",
   "execution_count": null,
   "metadata": {},
   "outputs": [
    {
     "data": {
      "text/plain": [
       "[<matplotlib.lines.Line2D at 0x1637cab8400>]"
      ]
     },
     "execution_count": 10,
     "metadata": {},
     "output_type": "execute_result"
    },
    {
     "data": {
      "image/png": "[encoded data removed]",
      "text/plain": [
       "<Figure size 432x288 with 1 Axes>"
      ]
     },
     "metadata": {
      "needs_background": "light"
     },
     "output_type": "display_data"
    }
   ],
   "source": [
    "plt.plot(loss_values)"
   ]
  },
  {
   "cell_type": "code",
   "execution_count": null,
   "metadata": {},
   "outputs": [],
   "source": [
    "traces = []\n",
    "fidelities = []\n",
    "i = 0\n",
    "for thetas in thetass:\n",
    "    # Get |psi> = U_gen|000...>\n",
    "    qc = qiskit.QuantumCircuit(num_qubits, num_qubits)\n",
    "    qc = qtm.nqubit.create_linear_state(qc, thetas, num_layers)\n",
    "    psi = qiskit.quantum_info.Statevector.from_instruction(qc)\n",
    "    rho_psi = qiskit.quantum_info.DensityMatrix(psi)\n",
    "    # Get |psi~> = U_target|000...>\n",
    "    qc1 = qiskit.QuantumCircuit(num_qubits, num_qubits)\n",
    "    qc1 = qtm.nqubit.create_ghz_state(qc1, theta)\n",
    "    psi_hat = qiskit.quantum_info.Statevector.from_instruction(qc1)\n",
    "    rho_psi_hat = qiskit.quantum_info.DensityMatrix(psi_hat)\n",
    "    # Calculate the metrics\n",
    "    trace, fidelity = qtm.base.get_metrics(psi, psi_hat)\n",
    "    traces.append(trace)\n",
    "    fidelities.append(fidelity)\n",
    "np.savetxt(\"../../experiments/linear_ansatz_ghz/\" + str(num_qubits) + \"/traces_sgd.csv\", traces, delimiter=\",\")\n",
    "np.savetxt(\"../../experiments/linear_ansatz_ghz/\" + str(num_qubits) + \"/fidelities_sgd.csv\", fidelities, delimiter=\",\")"
   ]
  },
  {
   "cell_type": "markdown",
   "metadata": {},
   "source": [
    "### W"
   ]
  },
  {
   "cell_type": "code",
   "execution_count": null,
   "metadata": {},
   "outputs": [
    {
     "name": "stderr",
     "output_type": "stream",
     "text": [
      "Step: 100%|██████████| 100/100 [27:45<00:00, 16.66s/it]\n"
     ]
    }
   ],
   "source": [
    "num_qubits = 3\n",
    "num_layers = 2\n",
    "thetas = np.ones(num_qubits*num_layers*5)\n",
    "theta = np.pi / 2\n",
    "qc = qiskit.QuantumCircuit(num_qubits, num_qubits)\n",
    "loss_values = []\n",
    "thetass = []\n",
    "thetass, loss_values = qtm.base.fit(\n",
    "    qc, num_steps = 100, thetas = thetas, \n",
    "    create_circuit_func = qtm.nqubit.create_Wchecker_linear, \n",
    "    grad_func = qtm.base.grad_loss,\n",
    "    loss_func = qtm.base.loss_fubini_study,\n",
    "    optimizer = qtm.base.sgd,\n",
    "    verbose = 1,\n",
    "    num_layers = num_layers,\n",
    "    is_return_all_thetas = True\n",
    ")\n",
    "\n",
    "np.savetxt(\"../../experiments/linear_ansatz_w/\" + str(num_qubits) + \"/loss_values_sgd.csv\", loss_values, delimiter=\",\")\n",
    "np.savetxt(\"../../experiments/linear_ansatz_w/\" + str(num_qubits) + \"/thetass_sgd.csv\", thetass, delimiter=\",\")\n"
   ]
  },
  {
   "cell_type": "code",
   "execution_count": null,
   "metadata": {},
   "outputs": [],
   "source": [
    "traces = []\n",
    "fidelities = []\n",
    "i = 0\n",
    "for thetas in thetass:\n",
    "    # Get |psi> = U_gen|000...>\n",
    "    qc = qiskit.QuantumCircuit(num_qubits, num_qubits)\n",
    "    qc = qtm.nqubit.create_linear_state(qc, thetas, num_layers)\n",
    "    psi = qiskit.quantum_info.Statevector.from_instruction(qc)\n",
    "    rho_psi = qiskit.quantum_info.DensityMatrix(psi)\n",
    "    # Get |psi~> = U_target|000...>\n",
    "    qc1 = qiskit.QuantumCircuit(num_qubits, num_qubits)\n",
    "    qc1 = qtm.nqubit.create_w_state(qc1)\n",
    "    psi_hat = qiskit.quantum_info.Statevector.from_instruction(qc1)\n",
    "    rho_psi_hat = qiskit.quantum_info.DensityMatrix(psi_hat)\n",
    "    # Calculate the metrics\n",
    "    trace, fidelity = qtm.base.get_metrics(psi, psi_hat)\n",
    "    traces.append(trace)\n",
    "    fidelities.append(fidelity)\n",
    "np.savetxt(\"../../experiments/linear_ansatz_w/\" + str(num_qubits) + \"/traces_sgd.csv\", traces, delimiter=\",\")\n",
    "np.savetxt(\"../../experiments/linear_ansatz_w/\" + str(num_qubits) + \"/fidelities_sgd.csv\", fidelities, delimiter=\",\")"
   ]
  }
 ],
 "metadata": {
  "interpreter": {
   "hash": "2c0cfa78ce93e4c23ba662bc61df11df26c1556d6a912f316b5ff6e5d6d165c5"
  },
  "kernelspec": {
   "display_name": "Python 3.9.10 64-bit (windows store)",
   "language": "python",
   "name": "python3"
  },
  "language_info": {
   "codemirror_mode": {
    "name": "ipython",
    "version": 3
   },
   "file_extension": ".py",
   "mimetype": "text/x-python",
   "name": "python",
   "nbconvert_exporter": "python",
   "pygments_lexer": "ipython3",
   "version": "3.8.0"
  },
  "orig_nbformat": 4
 },
 "nbformat": 4,
 "nbformat_minor": 2
}
