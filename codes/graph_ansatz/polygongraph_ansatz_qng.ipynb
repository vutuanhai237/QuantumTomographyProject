{
 "cells": [
  {
   "cell_type": "code",
   "execution_count": 2,
   "metadata": {},
   "outputs": [
    {
     "data": {
      "text/plain": [
       "<module 'qtm.base' from 'c:\\\\Users\\\\HAI\\\\Desktop\\\\vutuanhai\\\\QuantumTomography\\\\codes\\\\qtm\\\\base.py'>"
      ]
     },
     "execution_count": 2,
     "metadata": {},
     "output_type": "execute_result"
    }
   ],
   "source": [
    "import qiskit\n",
    "import numpy as np\n",
    "import qtm.constant, qtm.nqubit, qtm.fubini_study\n",
    "import importlib\n",
    "importlib.reload(qtm.fubini_study)\n",
    "importlib.reload(qtm.nqubit)\n",
    "importlib.reload(qtm.base)"
   ]
  },
  {
   "cell_type": "markdown",
   "metadata": {},
   "source": [
    "### GHZ"
   ]
  },
  {
   "cell_type": "code",
   "execution_count": 36,
   "metadata": {},
   "outputs": [
    {
     "name": "stdout",
     "output_type": "stream",
     "text": [
      "0\n",
      "20\n",
      "40\n",
      "60\n",
      "80\n"
     ]
    }
   ],
   "source": [
    "# Init parameters\n",
    "num_qubits = 4\n",
    "num_layers = 2\n",
    "thetas = np.ones(num_layers*(2*num_qubits))\n",
    "theta = np.pi / 2\n",
    "qc = qiskit.QuantumCircuit(num_qubits, num_qubits)\n",
    "\n",
    "loss_values = []\n",
    "thetass = []\n",
    "for i in range(0, 100):\n",
    "    if i % 20 == 0:\n",
    "        print(i)\n",
    "    G = qtm.fubini_study.qng(qc.copy(), thetas, qtm.nqubit.create_polygongraph_state, num_layers)\n",
    "    grad_loss = qtm.base.grad_loss(\n",
    "        qc, \n",
    "        qtm.nqubit.create_GHZchecker_polygongraph,\n",
    "        thetas, num_layers = num_layers, theta = theta)\n",
    "    thetas = np.real(thetas - qtm.constant.learning_rate*(np.linalg.inv(G) @ grad_loss)) \n",
    "    qc_copy = qtm.nqubit.create_GHZchecker_polygongraph(qc.copy(), thetas, num_layers, theta)  \n",
    "    loss = qtm.base.loss_fubini_study(qtm.base.measure(qc_copy, list(range(qc_copy.num_qubits))))\n",
    "    loss_values.append(loss)\n",
    "    thetass.append(thetas)"
   ]
  },
  {
   "cell_type": "code",
   "execution_count": 37,
   "metadata": {},
   "outputs": [],
   "source": [
    "np.savetxt(\"../experiments/polygon_ansatz_ghz/\" + str(num_qubits) + \"/loss_values_qng.csv\", loss_values, delimiter=\",\")\n",
    "np.savetxt(\"../experiments/polygon_ansatz_ghz/\" + str(num_qubits) + \"/thetass_qng.csv\", thetass, delimiter=\",\")"
   ]
  },
  {
   "cell_type": "code",
   "execution_count": 38,
   "metadata": {},
   "outputs": [
    {
     "data": {
      "text/plain": [
       "[<matplotlib.lines.Line2D at 0x20d9b9c89a0>]"
      ]
     },
     "execution_count": 38,
     "metadata": {},
     "output_type": "execute_result"
    },
    {
     "data": {
      "image/png": "[encoded data removed]",
      "text/plain": [
       "<Figure size 432x288 with 1 Axes>"
      ]
     },
     "metadata": {
      "needs_background": "light"
     },
     "output_type": "display_data"
    }
   ],
   "source": [
    "from matplotlib import pyplot as plt\n",
    "plt.plot(loss_values)"
   ]
  },
  {
   "cell_type": "code",
   "execution_count": 39,
   "metadata": {},
   "outputs": [],
   "source": [
    "traces = []\n",
    "fidelities = []\n",
    "i = 0\n",
    "for thetas in thetass:\n",
    "\n",
    "    # Get |psi> = U_gen|000...>\n",
    "    qc = qiskit.QuantumCircuit(num_qubits, num_qubits)\n",
    "    qc = qtm.nqubit.create_polygongraph_state(qc, thetas, num_layers)\n",
    "    psi = qiskit.quantum_info.Statevector.from_instruction(qc)\n",
    "    rho_psi = qiskit.quantum_info.DensityMatrix(psi)\n",
    "    # Get |psi~> = U_target|000...>\n",
    "    qc1 = qiskit.QuantumCircuit(num_qubits, num_qubits)\n",
    "    qc1 = qtm.nqubit.create_ghz_state(qc1, theta = theta)\n",
    "    psi_hat = qiskit.quantum_info.Statevector.from_instruction(qc1)\n",
    "    rho_psi_hat = qiskit.quantum_info.DensityMatrix(psi_hat)\n",
    "    # Calculate the metrics\n",
    "    trace, fidelity = qtm.base.get_metrics(psi, psi_hat)\n",
    "    traces.append(trace)\n",
    "    fidelities.append(fidelity)\n",
    "np.savetxt(\"../experiments/polygon_ansatz_ghz/\" + str(num_qubits) + \"/traces_qng.csv\", traces, delimiter=\",\")\n",
    "np.savetxt(\"../experiments/polygon_ansatz_ghz/\" + str(num_qubits) + \"/fidelities_qng.csv\", fidelities, delimiter=\",\")"
   ]
  },
  {
   "cell_type": "markdown",
   "metadata": {},
   "source": [
    "### W preparation"
   ]
  },
  {
   "cell_type": "code",
   "execution_count": 2,
   "metadata": {},
   "outputs": [
    {
     "name": "stdout",
     "output_type": "stream",
     "text": [
      "0\n",
      "20\n",
      "40\n",
      "60\n",
      "80\n"
     ]
    }
   ],
   "source": [
    "# Init parameters\n",
    "num_qubits = 4\n",
    "num_layers = 2\n",
    "thetas = np.zeros(num_layers*(2*num_qubits))\n",
    "theta = np.pi / 2\n",
    "qc = qiskit.QuantumCircuit(num_qubits, num_qubits)\n",
    "\n",
    "loss_values = []\n",
    "thetass = []\n",
    "for i in range(0, 100):\n",
    "    if i % 20 == 0:\n",
    "        print(i)\n",
    "    G = qtm.fubini_study.qng(qc.copy(), thetas, qtm.nqubit.create_polygongraph_state, num_layers)\n",
    "    grad_loss = qtm.base.grad_loss(\n",
    "        qc, \n",
    "        qtm.nqubit.create_Wchecker_polygongraph,\n",
    "        thetas, num_layers = num_layers)\n",
    "    thetas = np.real(thetas - qtm.constant.learning_rate*(np.linalg.inv(G) @ grad_loss)) \n",
    "    qc_copy = qtm.nqubit.create_Wchecker_polygongraph(qc.copy(), thetas, num_layers)  \n",
    "    loss = qtm.base.loss_fubini_study(qtm.base.measure(qc_copy, list(range(qc_copy.num_qubits))))\n",
    "    loss_values.append(loss)\n",
    "    thetass.append(thetas)"
   ]
  },
  {
   "cell_type": "code",
   "execution_count": 11,
   "metadata": {},
   "outputs": [],
   "source": [
    "np.savetxt(\"../experiments/polygon_ansatz_w/\" + str(num_qubits) + \"/loss_values_qng.csv\", loss_values, delimiter=\",\")\n",
    "np.savetxt(\"../experiments/polygon_ansatz_w/\" + str(num_qubits) + \"/thetass_qng.csv\", thetass, delimiter=\",\")"
   ]
  },
  {
   "cell_type": "code",
   "execution_count": 10,
   "metadata": {},
   "outputs": [
    {
     "data": {
      "text/plain": [
       "[<matplotlib.lines.Line2D at 0x1cc5bd333a0>]"
      ]
     },
     "execution_count": 10,
     "metadata": {},
     "output_type": "execute_result"
    },
    {
     "data": {
      "image/png": "[encoded data removed]",
      "text/plain": [
       "<Figure size 432x288 with 1 Axes>"
      ]
     },
     "metadata": {
      "needs_background": "light"
     },
     "output_type": "display_data"
    }
   ],
   "source": [
    "from matplotlib import pyplot as plt\n",
    "plt.plot(loss_values)"
   ]
  },
  {
   "cell_type": "code",
   "execution_count": 12,
   "metadata": {},
   "outputs": [],
   "source": [
    "traces = []\n",
    "fidelities = []\n",
    "i = 0\n",
    "for thetas in thetass:\n",
    "    # Get |psi> = U_gen|000...>\n",
    "    qc = qiskit.QuantumCircuit(num_qubits, num_qubits)\n",
    "    qc = qtm.nqubit.create_polygongraph_state(qc, thetas, num_layers)\n",
    "    psi = qiskit.quantum_info.Statevector.from_instruction(qc)\n",
    "    rho_psi = qiskit.quantum_info.DensityMatrix(psi)\n",
    "    # Get |psi~> = U_target|000...>\n",
    "    qc1 = qiskit.QuantumCircuit(num_qubits, num_qubits)\n",
    "    qc1 = qtm.nqubit.create_w_state(qc1)\n",
    "    psi_hat = qiskit.quantum_info.Statevector.from_instruction(qc1)\n",
    "    rho_psi_hat = qiskit.quantum_info.DensityMatrix(psi_hat)\n",
    "    # Calculate the metrics\n",
    "    trace, fidelity = qtm.base.get_metrics(psi, psi_hat)\n",
    "    traces.append(trace)\n",
    "    fidelities.append(fidelity)\n",
    "np.savetxt(\"../experiments/polygon_ansatz_w/\" + str(num_qubits) + \"/traces_qng.csv\", traces, delimiter=\",\")\n",
    "np.savetxt(\"../experiments/polygon_ansatz_w/\" + str(num_qubits) + \"/fidelities_qng.csv\", fidelities, delimiter=\",\")"
   ]
  },
  {
   "cell_type": "markdown",
   "metadata": {},
   "source": [
    "### Compare number of layers"
   ]
  },
  {
   "cell_type": "code",
   "execution_count": 13,
   "metadata": {},
   "outputs": [
    {
     "name": "stdout",
     "output_type": "stream",
     "text": [
      "0\n",
      "20\n",
      "40\n",
      "60\n",
      "80\n",
      "100\n",
      "120\n",
      "140\n",
      "160\n",
      "180\n",
      "200\n",
      "220\n",
      "240\n",
      "260\n",
      "280\n"
     ]
    }
   ],
   "source": [
    "# Init parameters\n",
    "num_qubits = 7\n",
    "num_layers = 4\n",
    "thetas = np.ones(num_layers*(2*num_qubits))\n",
    "theta = np.pi / 2\n",
    "qc = qiskit.QuantumCircuit(num_qubits, num_qubits)\n",
    "\n",
    "loss_values = []\n",
    "thetass = []\n",
    "for i in range(0, 300):\n",
    "    if i % 20 == 0:\n",
    "        print(i)\n",
    "    G = qtm.fubini_study.qng(qc.copy(), thetas, qtm.nqubit.create_polygongraph_state, num_layers)\n",
    "    grad_loss = qtm.base.grad_loss(\n",
    "        qc, \n",
    "        qtm.nqubit.create_Wchecker_polygongraph,\n",
    "        thetas, num_layers = num_layers)\n",
    "    thetas = np.real(thetas - qtm.constant.learning_rate*(np.linalg.inv(G) @ grad_loss)) \n",
    "    qc_copy = qtm.nqubit.create_Wchecker_polygongraph(qc.copy(), thetas, num_layers)  \n",
    "    loss = qtm.base.loss_fubini_study(qtm.base.measure(qc_copy, list(range(qc_copy.num_qubits))))\n",
    "    loss_values.append(loss)\n",
    "    thetass.append(thetas)\n",
    "np.savetxt(\"../experiments/polygon_ansatz_w/\" + str(num_qubits) + \"/loss_values_qng\" + str(num_layers) + \".csv\", loss_values, delimiter=\",\")\n",
    "np.savetxt(\"../experiments/polygon_ansatz_w/\" + str(num_qubits) + \"/thetass_qng\" + str(num_layers) + \".csv\", thetass, delimiter=\",\")\n",
    "traces = []\n",
    "fidelities = []\n",
    "i = 0\n",
    "for thetas in thetass:\n",
    "    # Get |psi> = U_gen|000...>\n",
    "    qc = qiskit.QuantumCircuit(num_qubits, num_qubits)\n",
    "    qc = qtm.nqubit.create_polygongraph_state(qc, thetas, num_layers)\n",
    "    psi = qiskit.quantum_info.Statevector.from_instruction(qc)\n",
    "    rho_psi = qiskit.quantum_info.DensityMatrix(psi)\n",
    "    # Get |psi~> = U_target|000...>\n",
    "    qc1 = qiskit.QuantumCircuit(num_qubits, num_qubits)\n",
    "    qc1 = qtm.nqubit.create_w_state(qc1)\n",
    "    psi_hat = qiskit.quantum_info.Statevector.from_instruction(qc1)\n",
    "    rho_psi_hat = qiskit.quantum_info.DensityMatrix(psi_hat)\n",
    "    # Calculate the metrics\n",
    "    trace, fidelity = qtm.base.get_metrics(psi, psi_hat)\n",
    "    traces.append(trace)\n",
    "    fidelities.append(fidelity)\n",
    "np.savetxt(\"../experiments/polygon_ansatz_w/\" + str(num_qubits) + \"/traces_qng\" + str(num_layers) + \".csv\", traces, delimiter=\",\")\n",
    "np.savetxt(\"../experiments/polygon_ansatz_w/\" + str(num_qubits) + \"/fidelities_qng\" + str(num_layers) + \".csv\", fidelities, delimiter=\",\")"
   ]
  },
  {
   "cell_type": "code",
   "execution_count": 15,
   "metadata": {},
   "outputs": [
    {
     "data": {
      "text/plain": [
       "[<matplotlib.lines.Line2D at 0x1e80a1db5b0>]"
      ]
     },
     "execution_count": 15,
     "metadata": {},
     "output_type": "execute_result"
    },
    {
     "data": {
      "image/png": "[encoded data removed]",
      "text/plain": [
       "<Figure size 432x288 with 1 Axes>"
      ]
     },
     "metadata": {
      "needs_background": "light"
     },
     "output_type": "display_data"
    }
   ],
   "source": [
    "from matplotlib import pyplot as plt\n",
    "plt.plot(loss_values)"
   ]
  },
  {
   "cell_type": "code",
   "execution_count": 3,
   "metadata": {},
   "outputs": [
    {
     "name": "stdout",
     "output_type": "stream",
     "text": [
      "0\n",
      "20\n",
      "40\n",
      "60\n",
      "80\n",
      "100\n",
      "120\n",
      "140\n",
      "160\n",
      "180\n",
      "200\n",
      "220\n",
      "240\n",
      "260\n",
      "280\n"
     ]
    }
   ],
   "source": [
    "# Init parameters\n",
    "num_qubits = 7\n",
    "num_layers = 5\n",
    "thetas = np.ones(num_layers*(2*num_qubits))\n",
    "theta = np.pi / 2\n",
    "qc = qiskit.QuantumCircuit(num_qubits, num_qubits)\n",
    "\n",
    "loss_values = []\n",
    "thetass = []\n",
    "for i in range(0, 300):\n",
    "    if i % 20 == 0:\n",
    "        print(i)\n",
    "    G = qtm.fubini_study.qng(qc.copy(), thetas, qtm.nqubit.create_polygongraph_state, num_layers)\n",
    "    grad_loss = qtm.base.grad_loss(\n",
    "        qc, \n",
    "        qtm.nqubit.create_GHZchecker_polygongraph,\n",
    "        thetas, num_layers = num_layers, theta = theta)\n",
    "    thetas = np.real(thetas - qtm.constant.learning_rate*(np.linalg.inv(G) @ grad_loss)) \n",
    "    qc_copy = qtm.nqubit.create_GHZchecker_polygongraph(qc.copy(), thetas, num_layers, theta)  \n",
    "    loss = qtm.base.loss_fubini_study(qtm.base.measure(qc_copy, list(range(qc_copy.num_qubits))))\n",
    "    loss_values.append(loss)\n",
    "    thetass.append(thetas)\n",
    "np.savetxt(\"../experiments/polygon_ansatz_ghz/\" + str(num_qubits) + \"/loss_values_qng\" + str(num_layers) + \".csv\", loss_values, delimiter=\",\")\n",
    "np.savetxt(\"../experiments/polygon_ansatz_ghz/\" + str(num_qubits) + \"/thetass_qng\" + str(num_layers) + \".csv\", thetass, delimiter=\",\")\n",
    "traces = []\n",
    "fidelities = []\n",
    "i = 0\n",
    "for thetas in thetass:\n",
    "\n",
    "    # Get |psi> = U_gen|000...>\n",
    "    qc = qiskit.QuantumCircuit(num_qubits, num_qubits)\n",
    "    qc = qtm.nqubit.create_polygongraph_state(qc, thetas, num_layers)\n",
    "    psi = qiskit.quantum_info.Statevector.from_instruction(qc)\n",
    "    rho_psi = qiskit.quantum_info.DensityMatrix(psi)\n",
    "    # Get |psi~> = U_target|000...>\n",
    "    qc1 = qiskit.QuantumCircuit(num_qubits, num_qubits)\n",
    "    qc1 = qtm.nqubit.create_ghz_state(qc1, theta = theta)\n",
    "    psi_hat = qiskit.quantum_info.Statevector.from_instruction(qc1)\n",
    "    rho_psi_hat = qiskit.quantum_info.DensityMatrix(psi_hat)\n",
    "    # Calculate the metrics\n",
    "    trace, fidelity = qtm.base.get_metrics(psi, psi_hat)\n",
    "    traces.append(trace)\n",
    "    fidelities.append(fidelity)\n",
    "np.savetxt(\"../experiments/polygon_ansatz_ghz/\" + str(num_qubits) + \"/traces_qng\" + str(num_layers) + \".csv\", traces, delimiter=\",\")\n",
    "np.savetxt(\"../experiments/polygon_ansatz_ghz/\" + str(num_qubits) + \"/fidelities_qng\" + str(num_layers) + \".csv\", fidelities, delimiter=\",\")"
   ]
  },
  {
   "cell_type": "code",
   "execution_count": 4,
   "metadata": {},
   "outputs": [
    {
     "ename": "NameError",
     "evalue": "name 'plt' is not defined",
     "output_type": "error",
     "traceback": [
      "\u001b[1;31m---------------------------------------------------------------------------\u001b[0m",
      "\u001b[1;31mNameError\u001b[0m                                 Traceback (most recent call last)",
      "\u001b[1;32m~\\AppData\\Local\\Temp/ipykernel_8676/2879638204.py\u001b[0m in \u001b[0;36m<module>\u001b[1;34m\u001b[0m\n\u001b[1;32m----> 1\u001b[1;33m \u001b[0mplt\u001b[0m\u001b[1;33m.\u001b[0m\u001b[0mplot\u001b[0m\u001b[1;33m(\u001b[0m\u001b[0mloss_values\u001b[0m\u001b[1;33m)\u001b[0m\u001b[1;33m\u001b[0m\u001b[1;33m\u001b[0m\u001b[0m\n\u001b[0m",
      "\u001b[1;31mNameError\u001b[0m: name 'plt' is not defined"
     ]
    }
   ],
   "source": [
    "plt.plot(loss_values)"
   ]
  }
 ],
 "metadata": {
  "interpreter": {
   "hash": "770b641b4564229c593d803dcff32fdd6beb94e7a78ba8806c95b100ce213599"
  },
  "kernelspec": {
   "display_name": "Python 3.8.0 64-bit",
   "language": "python",
   "name": "python3"
  },
  "language_info": {
   "codemirror_mode": {
    "name": "ipython",
    "version": 3
   },
   "file_extension": ".py",
   "mimetype": "text/x-python",
   "name": "python",
   "nbconvert_exporter": "python",
   "pygments_lexer": "ipython3",
   "version": "3.8.0"
  },
  "orig_nbformat": 4
 },
 "nbformat": 4,
 "nbformat_minor": 2
}
