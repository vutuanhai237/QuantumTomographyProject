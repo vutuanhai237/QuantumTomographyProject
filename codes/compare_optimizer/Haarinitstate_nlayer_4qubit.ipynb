{
 "cells": [
  {
   "cell_type": "code",
   "execution_count": 5,
   "metadata": {},
   "outputs": [],
   "source": [
    "import qiskit\n",
    "import numpy as np, matplotlib.pyplot as plt\n",
    "import sys\n",
    "sys.path.insert(1, '../')\n",
    "import qtm.base, qtm.constant, qtm.nqubit, qtm.onequbit, qtm.fubini_study"
   ]
  },
  {
   "cell_type": "code",
   "execution_count": 37,
   "metadata": {},
   "outputs": [],
   "source": [
    "num_qubits = 3\n",
    "num_layers = 3\n",
    "psi = 2*np.random.rand(2**num_qubits)-1\n",
    "psi = psi / np.linalg.norm(psi)\n",
    "qc_origin = qiskit.QuantumCircuit(num_qubits, num_qubits)\n",
    "qc_origin.initialize(psi, range(0, num_qubits))\n",
    "thetas_origin = np.ones((num_layers*num_qubits*3))"
   ]
  },
  {
   "cell_type": "code",
   "execution_count": 38,
   "metadata": {},
   "outputs": [
    {
     "name": "stderr",
     "output_type": "stream",
     "text": [
      "Step: 100%|██████████| 100/100 [13:06<00:00,  7.86s/it]\n"
     ]
    }
   ],
   "source": [
    "qc = qc_origin.copy()\n",
    "thetas = thetas_origin.copy()\n",
    "thetas, loss_values_sgd = qtm.base.fit(\n",
    "    qc, num_steps = 100, thetas = thetas, \n",
    "    create_circuit_func = qtm.nqubit.u_cluster_nlayer_nqubit, \n",
    "    grad_func = qtm.base.grad_loss,\n",
    "    loss_func = qtm.base.loss_basis,\n",
    "    optimizer = qtm.base.sgd,\n",
    "    verbose = 1,\n",
    "    num_layers = num_layers\n",
    ")"
   ]
  },
  {
   "cell_type": "code",
   "execution_count": 39,
   "metadata": {},
   "outputs": [
    {
     "name": "stderr",
     "output_type": "stream",
     "text": [
      "Step: 100%|██████████| 100/100 [13:23<00:00,  8.04s/it]\n"
     ]
    }
   ],
   "source": [
    "qc = qc_origin.copy()\n",
    "thetas = thetas_origin.copy()\n",
    "thetas, loss_values_adam = qtm.base.fit(\n",
    "    qc, num_steps = 100, thetas = thetas, \n",
    "    create_circuit_func = qtm.nqubit.u_cluster_nlayer_nqubit, \n",
    "    grad_func = qtm.base.grad_loss,\n",
    "    loss_func = qtm.base.loss_basis,\n",
    "    optimizer = qtm.base.adam,\n",
    "    verbose = 1,\n",
    "    num_layers = num_layers\n",
    ")"
   ]
  },
  {
   "cell_type": "code",
   "execution_count": 40,
   "metadata": {},
   "outputs": [
    {
     "name": "stderr",
     "output_type": "stream",
     "text": [
      "Step: 100%|██████████| 100/100 [16:17<00:00,  9.78s/it]\n"
     ]
    }
   ],
   "source": [
    "qc = qc_origin.copy()\n",
    "thetas = thetas_origin.copy()\n",
    "thetas, loss_values_qfsm = qtm.base.fit(\n",
    "    qc, num_steps = 100, thetas = thetas, \n",
    "    create_circuit_func = qtm.nqubit.u_cluster_nlayer_nqubit, \n",
    "    grad_func = qtm.base.grad_loss,\n",
    "    loss_func = qtm.base.loss_basis,\n",
    "    optimizer = qtm.base.qng_fubini_study,\n",
    "    verbose = 1,\n",
    "    num_layers = num_layers\n",
    ")"
   ]
  },
  {
   "cell_type": "code",
   "execution_count": 41,
   "metadata": {},
   "outputs": [
    {
     "name": "stderr",
     "output_type": "stream",
     "text": [
      "Step: 100%|██████████| 100/100 [19:53<00:00, 11.94s/it]\n"
     ]
    }
   ],
   "source": [
    "qc = qc_origin.copy()\n",
    "thetas = thetas_origin.copy()\n",
    "thetas, loss_values_qfim = qtm.base.fit(\n",
    "    qc, num_steps = 100, thetas = thetas, \n",
    "    create_circuit_func = qtm.nqubit.u_cluster_nlayer_nqubit, \n",
    "    grad_func = qtm.base.grad_loss,\n",
    "    loss_func = qtm.base.loss_basis,\n",
    "    optimizer = qtm.base.qng_qfim,\n",
    "    verbose = 1,\n",
    "    num_layers = num_layers\n",
    ")"
   ]
  },
  {
   "cell_type": "code",
   "execution_count": 42,
   "metadata": {},
   "outputs": [
    {
     "name": "stderr",
     "output_type": "stream",
     "text": [
      "Step: 100%|██████████| 100/100 [14:51<00:00,  8.91s/it]\n"
     ]
    }
   ],
   "source": [
    "qc = qc_origin.copy()\n",
    "thetas = thetas_origin.copy()\n",
    "thetas, loss_values_adam_qfim = qtm.base.fit(\n",
    "    qc, num_steps = 100, thetas = thetas, \n",
    "    create_circuit_func = qtm.nqubit.u_cluster_nlayer_nqubit, \n",
    "    grad_func = qtm.base.grad_loss,\n",
    "    loss_func = qtm.base.loss_basis,\n",
    "    optimizer = qtm.base.qng_adam,\n",
    "    verbose = 1,\n",
    "    num_layers = num_layers\n",
    ")"
   ]
  },
  {
   "cell_type": "code",
   "execution_count": 48,
   "metadata": {},
   "outputs": [
    {
     "data": {
      "image/png": "[encoded data removed]",
      "text/plain": [
       "<Figure size 432x288 with 1 Axes>"
      ]
     },
     "metadata": {
      "needs_background": "light"
     },
     "output_type": "display_data"
    }
   ],
   "source": [
    "plt.plot(loss_values_sgd, label=\"SGD\")\n",
    "plt.plot(loss_values_adam, label=\"Adam\")\n",
    "plt.plot(loss_values_qfsm, label=\"QNG-QFSM\")\n",
    "plt.plot(loss_values_qfim, label=\"QNG-QFIM\")\n",
    "plt.plot(loss_values_adam_qfim, label=\"Adam QNG-QFIM\")\n",
    "plt.xlabel(\"Step\")\n",
    "plt.ylabel(\"Cost value\")\n",
    "plt.ylim(-0.05, 1.05)\n",
    "plt.legend(prop={'size': 8}, loc=1)\n",
    "plt.savefig(str(num_qubits) + '.svg', format='svg')\n",
    "plt.show()"
   ]
  }
 ],
 "metadata": {
  "interpreter": {
   "hash": "b0bb45761e06d42ef60a7e329026c016a53b18e4ad51e16529481946724f1b50"
  },
  "kernelspec": {
   "display_name": "Python 3.7.6 64-bit",
   "name": "python3"
  },
  "language_info": {
   "codemirror_mode": {
    "name": "ipython",
    "version": 3
   },
   "file_extension": ".py",
   "mimetype": "text/x-python",
   "name": "python",
   "nbconvert_exporter": "python",
   "pygments_lexer": "ipython3",
   "version": "3.8.0"
  },
  "orig_nbformat": 4
 },
 "nbformat": 4,
 "nbformat_minor": 2
}
