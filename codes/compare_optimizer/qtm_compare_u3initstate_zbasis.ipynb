{
 "cells": [
  {
   "cell_type": "markdown",
   "metadata": {},
   "source": [
    "# Compare optimizer"
   ]
  },
  {
   "cell_type": "code",
   "execution_count": 13,
   "metadata": {},
   "outputs": [
    {
     "data": {
      "text/plain": [
       "<module 'qtm.onequbit' from '..\\\\qtm\\\\onequbit.py'>"
      ]
     },
     "execution_count": 13,
     "metadata": {},
     "output_type": "execute_result"
    }
   ],
   "source": [
    "import qiskit\n",
    "import numpy as np\n",
    "import matplotlib.pyplot as plt\n",
    "import sys\n",
    "sys.path.insert(1, '../')\n",
    "import qtm.base, qtm.constant, qtm.onequbit, qtm.fubini_study\n",
    "import importlib\n",
    "importlib.reload(qtm.base)\n",
    "importlib.reload(qtm.constant)\n",
    "importlib.reload(qtm.onequbit)"
   ]
  },
  {
   "cell_type": "code",
   "execution_count": 3,
   "metadata": {},
   "outputs": [],
   "source": [
    "# Theta, phi, lambdaz is the params of u3 gate\n",
    "theta = np.random.uniform(0, np.pi)\n",
    "phi = np.random.uniform(0, 2*np.pi)\n",
    "lambdaz = 0"
   ]
  },
  {
   "cell_type": "code",
   "execution_count": 6,
   "metadata": {},
   "outputs": [
    {
     "name": "stderr",
     "output_type": "stream",
     "text": [
      "Step: 100%|██████████| 100/100 [00:28<00:00,  3.57it/s]\n"
     ]
    }
   ],
   "source": [
    "# Init quantum tomography 1 qubit\n",
    "thetas = np.zeros((3,))\n",
    "loss_values = []\n",
    "qc = qiskit.QuantumCircuit(1, 1)\n",
    "qc.u3(theta, phi, lambdaz, 0)\n",
    "# Reduce loss value in 100 steps\n",
    "thetas_sgd, loss_values_sgd = qtm.base.fit(\n",
    "    qc, num_steps = 100, thetas = thetas, \n",
    "    create_circuit_func = qtm.onequbit.u_onequbit, \n",
    "    grad_func = qtm.base.grad_loss,\n",
    "    loss_func = qtm.base.loss_basis,\n",
    "    optimizer = qtm.base.sgd,\n",
    "    verbose = 1,\n",
    "    wire = 0\n",
    ")\n"
   ]
  },
  {
   "cell_type": "code",
   "execution_count": 7,
   "metadata": {},
   "outputs": [
    {
     "name": "stderr",
     "output_type": "stream",
     "text": [
      "Step: 100%|██████████| 100/100 [00:27<00:00,  3.62it/s]"
     ]
    },
    {
     "name": "stdout",
     "output_type": "stream",
     "text": [
      "[0.60657567 1.23417524 0.23370523]\n"
     ]
    },
    {
     "name": "stderr",
     "output_type": "stream",
     "text": [
      "\n"
     ]
    }
   ],
   "source": [
    "# Init quantum tomography 1 qubit\n",
    "thetas = np.zeros((3,))\n",
    "loss_values = []\n",
    "qc = qiskit.QuantumCircuit(1, 1)\n",
    "qc.u3(theta, phi, lambdaz, 0)\n",
    "# Reduce loss value in 100 steps\n",
    "thetas_adam, loss_values_adam = qtm.base.fit(\n",
    "    qc, num_steps = 100, thetas = thetas, \n",
    "    create_circuit_func = qtm.onequbit.u_onequbit, \n",
    "    grad_func = qtm.base.grad_loss,\n",
    "    loss_func = qtm.base.loss_basis,\n",
    "    optimizer = qtm.base.adam,\n",
    "    verbose = 1,\n",
    "    wire = 0\n",
    ")\n",
    "\n",
    "print(thetas)\n"
   ]
  },
  {
   "cell_type": "code",
   "execution_count": 14,
   "metadata": {},
   "outputs": [],
   "source": [
    "# Init quantum tomography 1 qubit\n",
    "thetas = np.zeros((3,))\n",
    "loss_values_qng = []\n",
    "qc = qiskit.QuantumCircuit(1, 1)\n",
    "qc.u3(theta, phi, lambdaz, 0)\n",
    "# Reduce loss value in 100 steps\n",
    "\n",
    "for i in range(0, 100):\n",
    "    G = qtm.fubini_study.calculate_u3z_state(qc.copy(), thetas)\n",
    "        \n",
    "    grad_loss = qtm.base.grad_loss(\n",
    "        qc, \n",
    "        qtm.onequbit.u_onequbit,\n",
    "        thetas, r = 1/2, s = np.pi/2, wire = 0)\n",
    "    thetas = np.real(thetas - qtm.constant.learning_rate *\n",
    "                        (np.linalg.pinv(G) @ grad_loss)) \n",
    "    qc_copy = qtm.onequbit.u_onequbit(qc.copy(), thetas, wire = 0)  \n",
    "    loss = qtm.base.loss_basis(qtm.base.measure(qc_copy, list(range(qc_copy.num_qubits))))\n",
    "    loss_values_qng.append(loss)\n",
    "\n"
   ]
  },
  {
   "cell_type": "code",
   "execution_count": 16,
   "metadata": {},
   "outputs": [],
   "source": [
    "# Init quantum tomography 1 qubit\n",
    "thetas = np.zeros((3,))\n",
    "loss_values_qng_adam = []\n",
    "qc = qiskit.QuantumCircuit(1, 1)\n",
    "qc.u3(theta, phi, lambdaz, 0)\n",
    "# Reduce loss value in 100 steps\n",
    "\n",
    "for i in range(0, 100):\n",
    "    G = qtm.fubini_study.calculate_u3z_state(qc.copy(), thetas)\n",
    "        \n",
    "    grad_loss = qtm.base.grad_loss(\n",
    "        qc, \n",
    "        qtm.onequbit.u_onequbit,\n",
    "        thetas, r = 1/2, s = np.pi/2, wire = 0)\n",
    "    grad1 = np.real(np.linalg.inv(G) @ grad_loss)\n",
    "    if i == 0:\n",
    "        m, v = list(np.zeros(thetas.shape[0])), list(np.zeros(thetas.shape[0]))\n",
    "    thetas = qtm.base.adam(thetas, m, v, i, grad1)  \n",
    "    qc_copy = qtm.onequbit.u_onequbit(qc.copy(), thetas, wire = 0)  \n",
    "    loss = qtm.base.loss_basis(qtm.base.measure(qc_copy, list(range(qc_copy.num_qubits))))\n",
    "    loss_values_qng_adam.append(loss)"
   ]
  },
  {
   "cell_type": "code",
   "execution_count": 20,
   "metadata": {},
   "outputs": [
    {
     "data": {
      "image/png": "[encoded data removed]",
      "text/plain": [
       "<Figure size 432x288 with 1 Axes>"
      ]
     },
     "metadata": {
      "needs_background": "light"
     },
     "output_type": "display_data"
    }
   ],
   "source": [
    "# Plot loss value in 100 steps\n",
    "plt.plot(loss_values_sgd, label='SGD', linestyle = '-')\n",
    "plt.plot(loss_values_adam, label='Adam', linestyle = '-.')\n",
    "plt.plot(loss_values_qng, label='QNG', linestyle = '--')\n",
    "plt.plot(loss_values_qng_adam, label='Adam QNG', linestyle = ':')\n",
    "# plt.title('u3initstate_zbasis_onequbit')\n",
    "plt.legend()\n",
    "plt.xlabel(\"Iteration\")\n",
    "plt.ylabel(\"Loss value\")\n",
    "plt.savefig('u3initstate_zbasis_onequbit1.png', format='png', dpi=600)\n",
    "plt.show() "
   ]
  },
  {
   "cell_type": "code",
   "execution_count": 8,
   "metadata": {},
   "outputs": [],
   "source": [
    "np.savetxt(\"./compare/u3initstate_zbasis_onequbit/loss_values_sgd.csv\", loss_values_sgd, delimiter=\",\")\n",
    "np.savetxt(\"./compare/u3initstate_zbasis_onequbit/loss_values_adam.csv\", loss_values_adam, delimiter=\",\")\n",
    "np.savetxt(\"./compare/u3initstate_zbasis_onequbit/loss_values_qng.csv\", loss_values_qng, delimiter=\",\")\n",
    "np.savetxt(\"./compare/u3initstate_zbasis_onequbit/loss_values_qng_adam.csv\", loss_values_qng_adam, delimiter=\",\")"
   ]
  }
 ],
 "metadata": {
  "interpreter": {
   "hash": "b0bb45761e06d42ef60a7e329026c016a53b18e4ad51e16529481946724f1b50"
  },
  "kernelspec": {
   "display_name": "Python 3.7.6 64-bit",
   "name": "python3"
  },
  "language_info": {
   "codemirror_mode": {
    "name": "ipython",
    "version": 3
   },
   "file_extension": ".py",
   "mimetype": "text/x-python",
   "name": "python",
   "nbconvert_exporter": "python",
   "pygments_lexer": "ipython3",
   "version": "3.8.0"
  },
  "orig_nbformat": 4
 },
 "nbformat": 4,
 "nbformat_minor": 2
}
