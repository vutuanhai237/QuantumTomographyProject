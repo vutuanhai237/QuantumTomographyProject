{
 "cells": [
  {
   "cell_type": "code",
   "execution_count": 1,
   "metadata": {},
   "outputs": [],
   "source": [
    "import qiskit\n",
    "import numpy as np\n",
    "import matplotlib.pyplot as plt\n",
    "import sys\n",
    "sys.path.insert(1, '../')\n",
    "import qtm.base_qtm, qtm.constant, qtm.qtm_nqubit, qtm.fubini_study"
   ]
  },
  {
   "cell_type": "code",
   "execution_count": 2,
   "metadata": {},
   "outputs": [],
   "source": [
    "# Init parameters\n",
    "num_qubits = 3\n",
    "# For arbitrary initial state\n",
    "num_layers = 1\n",
    "thetas_origin = np.random.uniform(low = 0, high = 2*np.pi, size = num_qubits*num_layers*5)\n",
    "# For determine GHZ state\n",
    "theta = np.random.uniform(0, 2*np.pi)"
   ]
  },
  {
   "cell_type": "code",
   "execution_count": 3,
   "metadata": {},
   "outputs": [],
   "source": [
    "# GHZ\n",
    "thetas = thetas_origin.copy()\n",
    "qc = qiskit.QuantumCircuit(num_qubits, num_qubits)\n",
    "\n",
    "loss_values_ghz = []\n",
    "thetass_ghz = []\n",
    "for i in range(0, 100):\n",
    "    G = qtm.fubini_study.calculate_koczor_state(qc.copy(), thetas, num_layers)\n",
    "    grad_loss = qtm.base_qtm.grad_loss(\n",
    "        qc, \n",
    "        qtm.qtm_nqubit.create_GHZchecker_koczor, \n",
    "        thetas, r = 1/2, s = np.pi/2, num_layers = num_layers, theta = theta)\n",
    "    thetas = np.real(thetas - qtm.constant.learning_rate*(np.linalg.inv(G) @ grad_loss))   \n",
    "    qc_copy = qtm.qtm_nqubit.create_GHZchecker_koczor(qc.copy(), thetas, num_layers, theta)\n",
    "    loss = qtm.base_qtm.loss_basis(qtm.base_qtm.measure(qc_copy, list(range(qc_copy.num_qubits))))\n",
    "    loss_values_ghz.append(loss)\n",
    "    thetass_ghz.append(thetas)\n",
    "\n"
   ]
  },
  {
   "cell_type": "code",
   "execution_count": 7,
   "metadata": {},
   "outputs": [
    {
     "data": {
      "image/png": "[encoded data removed]",
      "text/plain": [
       "<Figure size 432x288 with 1 Axes>"
      ]
     },
     "metadata": {
      "needs_background": "light"
     },
     "output_type": "display_data"
    }
   ],
   "source": [
    "\n",
    "# Plot loss value in 100 steps\n",
    "plt.plot(loss_values_ghz[0:20], label='GHZ', linestyle = '-')\n",
    "plt.title('GHZchecker_koczor')\n",
    "plt.legend()\n",
    "plt.xlabel(\"Iteration\")\n",
    "plt.ylabel(\"Loss value\")\n",
    "plt.savefig('GHZchecker_koczor.png', format='png', dpi=600)\n",
    "plt.show()"
   ]
  },
  {
   "cell_type": "code",
   "execution_count": 8,
   "metadata": {},
   "outputs": [],
   "source": [
    "traces_ghz, fidelities_ghz = [], []\n",
    "for thetas in thetass_ghz:\n",
    "    # Get |psi> = U_gen|000...>\n",
    "    qc = qiskit.QuantumCircuit(num_qubits, num_qubits)\n",
    "    qc = qtm.qtm_nqubit.create_koczor_state(qc, thetas, num_layers = num_layers)\n",
    "    psi = qiskit.quantum_info.Statevector.from_instruction(qc)\n",
    "    rho_psi = qiskit.quantum_info.DensityMatrix(psi)\n",
    "    # Get |psi~> = U_target|000...>\n",
    "    qc1 = qiskit.QuantumCircuit(num_qubits, num_qubits)\n",
    "    qc1 = qtm.qtm_nqubit.create_ghz_state(qc1, theta = theta)\n",
    "    psi_hat = qiskit.quantum_info.Statevector.from_instruction(qc1)\n",
    "    rho_psi_hat = qiskit.quantum_info.DensityMatrix(psi_hat)\n",
    "    # Calculate the metrics\n",
    "    trace, fidelity = qtm.base_qtm.get_metrics(psi, psi_hat)\n",
    "    traces_ghz.append(trace)\n",
    "    fidelities_ghz.append(fidelity)"
   ]
  },
  {
   "cell_type": "code",
   "execution_count": 11,
   "metadata": {},
   "outputs": [],
   "source": [
    "# Plot loss value in 100 steps\n",
    "np.savetxt(\"./loss_values_ghz.csv\", loss_values_ghz, delimiter=\",\")\n",
    "np.savetxt(\"./thetass_ghz.csv\", thetass_ghz, delimiter=\",\")\n",
    "np.savetxt(\"./traces_ghz.csv\", traces_ghz, delimiter=\",\")\n",
    "np.savetxt(\"./fidelities_ghz.csv\", fidelities_ghz, delimiter=\",\")\n"
   ]
  },
  {
   "cell_type": "code",
   "execution_count": 23,
   "metadata": {},
   "outputs": [],
   "source": [
    "# W\n",
    "\n",
    "thetas = thetas_origin.copy()\n",
    "qc = qiskit.QuantumCircuit(num_qubits, num_qubits)\n",
    "\n",
    "loss_values_w = []\n",
    "thetass_w = []\n",
    "for i in range(0, 100):\n",
    "    G = qtm.fubini_study.calculate_koczor_state(qc.copy(), thetas, num_layers)\n",
    "    grad_loss = qtm.base_qtm.grad_loss(\n",
    "        qc, \n",
    "        qtm.qtm_nqubit.create_Wchecker_koczor, \n",
    "        thetas, r = 1/2, s = np.pi/2, num_layers = num_layers, theta = theta)\n",
    "    thetas = np.real(thetas - qtm.constant.learning_rate*(np.linalg.inv(G) @ grad_loss))   \n",
    "    qc_copy = qtm.qtm_nqubit.create_Wchecker_koczor(qc.copy(), thetas, num_layers, theta)\n",
    "    loss = qtm.base_qtm.loss_basis(qtm.base_qtm.measure(qc_copy, list(range(qc_copy.num_qubits))))\n",
    "    loss_values_w.append(loss)\n",
    "    thetass_w.append(thetas)\n",
    "\n"
   ]
  },
  {
   "cell_type": "code",
   "execution_count": 31,
   "metadata": {},
   "outputs": [],
   "source": [
    "import qtm.custom_gate\n",
    "traces_w, fidelities_w = [], []\n",
    "for thetas in thetass_w:\n",
    "    # Get |psi> = U_gen|000...>\n",
    "    qc = qiskit.QuantumCircuit(num_qubits, num_qubits)\n",
    "    qc = qtm.qtm_nqubit.create_koczor_state(qc, thetas, num_layers = num_layers)\n",
    "    psi = qiskit.quantum_info.Statevector.from_instruction(qc)\n",
    "    rho_psi = qiskit.quantum_info.DensityMatrix(psi)\n",
    "    # Get |psi~> = U_target|000...>\n",
    "    qc1 = qiskit.QuantumCircuit(num_qubits, num_qubits)\n",
    "    qc1 = qtm.qtm_nqubit.create_w_state_3qubit_inverse(qc1, theta).inverse()\n",
    "    psi_hat = qiskit.quantum_info.Statevector.from_instruction(qc1)\n",
    "    rho_psi_hat = qiskit.quantum_info.DensityMatrix(psi_hat)\n",
    "    # Calculate the metrics\n",
    "    trace, fidelity = qtm.base_qtm.get_metrics(psi, psi_hat)\n",
    "    traces_w.append(trace)\n",
    "    fidelities_w.append(fidelity)"
   ]
  },
  {
   "cell_type": "code",
   "execution_count": 34,
   "metadata": {},
   "outputs": [],
   "source": [
    "np.savetxt(\"./loss_values_w.csv\", loss_values_w, delimiter=\",\")\n",
    "np.savetxt(\"./thetass_w.csv\", thetass_w, delimiter=\",\")\n",
    "np.savetxt(\"./traces_w.csv\", traces_w, delimiter=\",\")\n",
    "np.savetxt(\"./fidelities_w.csv\", fidelities_w, delimiter=\",\")"
   ]
  },
  {
   "cell_type": "code",
   "execution_count": 53,
   "metadata": {},
   "outputs": [
    {
     "data": {
      "text/plain": [
       "<module 'qtm.qtm_nqubit' from '..\\\\qtm\\\\qtm_nqubit.py'>"
      ]
     },
     "execution_count": 53,
     "metadata": {},
     "output_type": "execute_result"
    }
   ],
   "source": [
    "import importlib\n",
    "importlib.reload(qtm.base_qtm)\n",
    "importlib.reload(qtm.constant)\n",
    "importlib.reload(qtm.qtm_1qubit)\n",
    "importlib.reload(qtm.qtm_nqubit)"
   ]
  },
  {
   "cell_type": "code",
   "execution_count": 74,
   "metadata": {},
   "outputs": [
    {
     "name": "stdout",
     "output_type": "stream",
     "text": [
      "[ 0.0876   0.10205 -0.02935 -0.0135  -0.11365 -0.02125  0.0257   0.0384\n",
      "  0.15995  0.0128   0.0114   0.0696   0.1726   0.0585   0.17325]\n",
      "[ 0.07725  0.12175 -0.0896  -0.02095 -0.088   -0.0177   0.03395  0.0209\n",
      "  0.17315  0.00435  0.01335  0.09285  0.1897   0.04275  0.1898 ]\n",
      "[ 0.0673   0.10295 -0.1714  -0.02395 -0.0328  -0.0011   0.0327   0.0031\n",
      "  0.16605 -0.0005   0.0285   0.1177   0.1757   0.02595  0.1767 ]\n",
      "[ 0.0852   0.02555 -0.21515 -0.02115  0.033    0.0113   0.03515  0.00385\n",
      "  0.12165 -0.00715  0.0428   0.13395  0.1142   0.0265   0.12985]\n",
      "[ 0.164   -0.06825 -0.19455 -0.0137   0.0576   0.00685  0.01825 -0.0063\n",
      "  0.0792  -0.00495  0.0646   0.11825  0.032    0.0144   0.0828 ]\n",
      "[ 0.16415  0.0505  -0.1385  -0.0168   0.0354   0.0716   0.0984  -0.0533\n",
      "  0.0123  -0.0239   0.0203   0.05545  0.0133   0.04905  0.00315]\n",
      "[-0.04235 -0.0216  -0.0894  -0.01515  0.0465  -0.12655 -0.15135  0.05465\n",
      "  0.0354   0.0092   0.1551   0.02655  0.04165 -0.0794   0.04385]\n",
      "[ 0.2126  -0.0561  -0.07285 -0.0152   0.02765  0.0242   0.045   -0.0314\n",
      " -0.02275 -0.0093   0.0159   0.06795 -0.0129   0.0219  -0.0187 ]\n",
      "[ 0.14955 -0.043   -0.0537  -0.0183   0.02175 -0.0184  -0.01325 -0.02115\n",
      "  0.0161   0.0032   0.0326   0.06175  0.00305 -0.0106   0.01255]\n",
      "[ 1.024e-01 -1.500e-02 -2.225e-02 -1.640e-02  2.200e-03 -1.000e-04\n",
      "  6.050e-03 -3.005e-02 -8.200e-03  2.550e-03  1.945e-02  5.375e-02\n",
      "  3.950e-03 -6.600e-03 -1.165e-02]\n",
      "[ 0.06735 -0.01435 -0.0241  -0.017    0.0083  -0.00715  0.006   -0.0266\n",
      " -0.00775  0.0017   0.0109   0.04585 -0.00295  0.0082  -0.00455]\n",
      "[ 0.0494   0.0074  -0.0068  -0.0146  -0.00505 -0.00745  0.00125 -0.02505\n",
      " -0.0118   0.00605  0.01705  0.0421   0.0036   0.0017  -0.00605]\n",
      "[ 0.03215 -0.00015 -0.006   -0.0137  -0.0037   0.001   -0.002   -0.0237\n",
      " -0.00705  0.012    0.01085  0.0375   0.00235 -0.00055 -0.00075]\n",
      "[ 0.0322   0.00575  0.0047  -0.00775 -0.0092  -0.00375 -0.0051  -0.01375\n",
      " -0.0018   0.0166   0.00775  0.0289   0.00675  0.005   -0.00015]\n",
      "[ 2.605e-02  9.000e-04 -7.500e-04 -1.040e-02 -1.125e-02  3.400e-03\n",
      " -8.100e-03 -1.630e-02 -6.050e-03  1.580e-02  1.110e-02  2.385e-02\n",
      " -4.950e-03  3.300e-03  1.000e-04]\n",
      "[ 0.01775  0.0063   0.00655 -0.01075 -0.0135  -0.00365 -0.0128  -0.0047\n",
      " -0.0015   0.01635  0.00585  0.019    0.00505 -0.003   -0.006  ]\n",
      "[ 0.0169  -0.0004  -0.0014  -0.00555 -0.00705  0.0045  -0.00155 -0.011\n",
      " -0.0021   0.01865  0.0066   0.0166   0.006   -0.00645  0.0029 ]\n",
      "[ 0.0112   0.01155 -0.00105 -0.0079  -0.0102  -0.0019  -0.0097  -0.00495\n",
      "  0.0002   0.0169   0.0011   0.01405  0.00715 -0.0063  -0.00385]\n",
      "[ 0.0094  -0.00275  0.00165 -0.0043  -0.00705 -0.00065 -0.00185 -0.00505\n",
      " -0.0038   0.0205   0.0051   0.0107   0.0099  -0.00265  0.004  ]\n",
      "[-0.00165  0.0014   0.00265 -0.00405 -0.00315  0.0032  -0.0074   0.0003\n",
      "  0.0017   0.0169   0.00885  0.0101  -0.00045  0.00295 -0.0039 ]\n",
      "[-4.500e-04  4.100e-03  4.000e-03 -5.250e-03 -7.700e-03  3.500e-04\n",
      " -4.950e-03  3.500e-04 -8.400e-03  1.815e-02  1.265e-02  8.600e-03\n",
      " -5.900e-03 -5.000e-05 -2.450e-03]\n",
      "[ 0.00145  0.0044   0.0007  -0.00535 -0.0039   0.00255 -0.00155  0.0013\n",
      " -0.00185  0.01355  0.01085  0.008    0.00085  0.0002   0.00115]\n",
      "[ 0.01295  0.00435 -0.00395 -0.00385 -0.00815  0.0032  -0.00565  0.0034\n",
      " -0.00475  0.0105   0.00405 -0.00025  0.01055 -0.01025  0.00845]\n",
      "[ 0.0085  -0.0008  -0.00215 -0.0032  -0.00775  0.0033   0.0035   0.003\n",
      " -0.0007   0.0123   0.00035  0.0097   0.0002  -0.00415  0.0017 ]\n",
      "[ 1.045e-02  7.350e-03  2.850e-03 -2.900e-03  4.000e-04 -3.600e-03\n",
      " -5.200e-03  1.000e-04 -1.250e-03  1.935e-02  3.300e-03  1.380e-02\n",
      " -2.200e-03 -1.400e-03  2.550e-03]\n",
      "[ 0.0012   0.0148   0.0007  -0.0046  -0.0109  -0.00015  0.00235  0.0061\n",
      " -0.008    0.0117   0.00175  0.00155 -0.00285 -0.01165 -0.0067 ]\n",
      "[ 0.00705  0.0013   0.00185 -0.00215 -0.00305  0.0073  -0.003    0.0013\n",
      "  0.00345  0.0155   0.0029   0.00375  0.0061  -0.0036   0.0014 ]\n",
      "[ 3.800e-03  3.050e-03  2.450e-03 -3.150e-03 -1.650e-03  4.800e-03\n",
      " -6.650e-03  5.700e-03 -1.500e-03  1.185e-02  3.950e-03 -5.000e-05\n",
      "  3.700e-03  1.600e-03  2.000e-04]\n",
      "[-5.00e-05  7.60e-03 -4.50e-04 -2.30e-03 -6.20e-03 -1.90e-03 -4.90e-03\n",
      "  5.00e-03  3.70e-03  1.10e-02  3.65e-03  9.90e-03 -6.00e-04 -1.01e-02\n",
      " -5.35e-03]\n",
      "[ 0.00035 -0.00485 -0.0009  -0.0039  -0.0061   0.00615 -0.0125   0.00215\n",
      " -0.0015   0.01365 -0.0017   0.00845  0.0011  -0.00465 -0.00055]\n",
      "[ 0.0011   0.00225 -0.00135 -0.00235 -0.0069   0.0025   0.0024   0.00555\n",
      "  0.00145  0.0056   0.00405  0.003    0.00525  0.00165  0.0002 ]\n",
      "[ 0.0017   0.00555  0.0055  -0.0033  -0.0035  -0.0026  -0.01085 -0.0053\n",
      " -0.0012   0.0131   0.00385  0.00225 -0.00155 -0.0082   0.0056 ]\n",
      "[ 0.01045  0.00315  0.00705 -0.00265  0.00055  0.0007   0.0102   0.00605\n",
      " -0.0057   0.00915  0.0015   0.00815  0.00125 -0.0073  -0.0041 ]\n",
      "[ 0.0033   0.0082  -0.00145 -0.00175 -0.00105  0.00335 -0.0062  -0.00225\n",
      "  0.003    0.01335  0.0035   0.00195  0.0022  -0.00205  0.0026 ]\n",
      "[ 0.00855  0.0035  -0.003   -0.0018  -0.00015 -0.0016   0.00015  0.00615\n",
      " -0.00965  0.0104  -0.0019   0.0069  -0.0036  -0.00225 -0.00125]\n",
      "[ 0.003    0.0126  -0.00115 -0.00205 -0.0004   0.00365 -0.00495  0.00525\n",
      "  0.0007   0.0077  -0.0031  -0.       0.00035 -0.00045  0.0035 ]\n",
      "[ 0.00445 -0.00095  0.0033  -0.0026   0.0029  -0.00105 -0.0101   0.0094\n",
      "  0.0011   0.0093   0.00745  0.011    0.003   -0.00985  0.00065]\n",
      "[ 0.0056   0.00585  0.0031  -0.0029   0.0007   0.00305 -0.0014  -0.0014\n",
      " -0.0064   0.0095  -0.0023   0.00455  0.0042  -0.00565  0.00275]\n",
      "[-0.00355  0.00635  0.003   -0.0034  -0.00235  0.0063  -0.00215  0.00535\n",
      " -0.00325  0.01005  0.0041   0.00375  0.00405 -0.0034  -0.0085 ]\n",
      "[ 0.00535  0.00795 -0.00095 -0.00205 -0.00695  0.0033  -0.00135  0.0068\n",
      "  0.00285  0.0134  -0.00265  0.00595  0.0019  -0.0022   0.0058 ]\n",
      "[ 0.00275  0.01035  0.00055 -0.00255 -0.00315 -0.00465 -0.0132   0.00575\n",
      "  0.00475  0.00815  0.0066   0.0031   0.0019  -0.00535 -0.00115]\n",
      "[ 0.00175 -0.0008  -0.00125 -0.00145 -0.00495  0.00555 -0.      -0.00625\n",
      "  0.0031   0.0149   0.00125  0.0041  -0.00035 -0.00165 -0.00185]\n",
      "[ 0.00725  0.0014   0.0041  -0.00165  0.00065  0.00445 -0.0077   0.0075\n",
      " -0.0095   0.0129   0.00465  0.0016   0.0003  -0.0063  -0.00345]\n",
      "[-0.00055  0.00125  0.00545 -0.00125 -0.00155 -0.0023  -0.       0.00615\n",
      " -0.0011   0.0074   0.0045   0.00505 -0.0004  -0.0075  -0.00145]\n",
      "[ 0.00175  0.0054  -0.00355 -0.0023  -0.0017   0.00185 -0.0021   0.0046\n",
      " -0.006    0.0079  -0.00035  0.0103   0.0068  -0.01035  0.0038 ]\n",
      "[-0.0011  -0.00285 -0.00105 -0.0035  -0.00185  0.002   -0.00595  0.00305\n",
      " -0.0024   0.0065  -0.00215  0.00265 -0.0024  -0.00285  0.00505]\n",
      "[ 0.00725  0.0112   0.00065 -0.0024  -0.0034   0.0046  -0.00115  0.00765\n",
      " -0.0049   0.00695 -0.       0.0013  -0.00135 -0.00565 -0.0022 ]\n",
      "[ 0.00485  0.0069   0.0058  -0.0016   0.0025   0.00195  0.0028   0.00025\n",
      " -0.00085  0.00555  0.00175  0.00205  0.00735 -0.01065  0.0098 ]\n",
      "[-0.00015  0.0025   0.0012  -0.0011  -0.009    0.0032  -0.00355  0.0077\n",
      "  0.00375  0.0088   0.002    0.0059   0.00535  0.0018   0.00035]\n",
      "[-0.00015  0.00985  0.0017  -0.00355 -0.00365 -0.0021  -0.0135  -0.0012\n",
      " -0.003    0.008    0.0006   0.0049  -0.0083  -0.00515  0.0002 ]\n",
      "[ 0.0054   0.0051   0.0021  -0.002   -0.0043   0.0029  -0.00235 -0.00025\n",
      " -0.00725  0.0104   0.0032  -0.0002  -0.0012  -0.00405 -0.0093 ]\n",
      "[ 0.00525  0.00735 -0.00655 -0.00135  0.00165  0.00055 -0.00655  0.0032\n",
      "  0.0032   0.00825  0.0038   0.00235  0.00855 -0.01255  0.0066 ]\n",
      "[ 0.0014   0.00115 -0.0038  -0.00175  0.0029   0.01015 -0.0009   0.0053\n",
      "  0.00075  0.00925  0.00015  0.00945  0.0062  -0.00265 -0.00305]\n",
      "[ 0.0064   0.0022   0.00285 -0.0011  -0.      -0.00595 -0.0049   0.00725\n",
      " -0.0015   0.00705  0.00255  0.00055  0.00175 -0.00585  0.00115]\n",
      "[-0.0002   0.00335 -0.00075 -0.00135 -0.00015  0.00375 -0.00765  0.00435\n",
      " -0.00595  0.0031  -0.00025  0.0084  -0.0035  -0.0058  -0.0071 ]\n",
      "[ 0.00335  0.00015  0.0008  -0.0018   0.00935 -0.0026  -0.00305  0.00035\n",
      "  0.0054   0.00675  0.0009   0.0026  -0.0084  -0.0101   0.00285]\n",
      "[ 3.85e-03  5.55e-03  6.70e-03 -1.50e-03 -6.15e-03  2.40e-03  1.85e-03\n",
      "  1.24e-02 -5.10e-03  6.75e-03 -3.60e-03  8.55e-03  1.00e-04  9.20e-03\n",
      " -1.90e-03]\n",
      "[ 0.01255  0.00715  0.00815 -0.0025  -0.00415  0.0028  -0.00305 -0.00445\n",
      "  0.0021   0.00225  0.0047  -0.00195 -0.00275 -0.0095   0.0008 ]\n",
      "[-0.00765  0.00735  0.001   -0.00185 -0.00115  0.00365 -0.002    0.0077\n",
      "  0.0021   0.00625 -0.00145  0.0052   0.0032   0.00225 -0.00155]\n",
      "[ 0.0026   0.00115  0.0027  -0.0013   0.00765  0.0041  -0.00785  0.00535\n",
      " -0.0008   0.0063   0.0056   0.0009   0.0006  -0.0048   0.00095]\n",
      "[ 0.00325  0.0055   0.00225 -0.00225  0.00295 -0.00335  0.00525 -0.00035\n",
      " -0.00475  0.006   -0.00045  0.0061   0.0037  -0.01295  0.0055 ]\n",
      "[-0.00255  0.0029  -0.00055 -0.00175 -0.0076  -0.0012  -0.00205  0.00425\n",
      " -0.00345  0.0049  -0.0012   0.01115 -0.00365 -0.00425  0.0025 ]\n",
      "[ 4.00e-04  8.00e-03  5.00e-05 -1.50e-03 -5.20e-03  6.50e-04 -1.50e-03\n",
      "  4.25e-03 -3.50e-04  2.35e-03  4.80e-03 -3.60e-03 -1.40e-03 -6.50e-04\n",
      "  3.35e-03]\n",
      "[ 0.0064   0.0043  -0.00165 -0.00245  0.00575  0.0051   0.00115 -0.00455\n",
      " -0.0055   0.00705 -0.0026   0.0037   0.0038  -0.0035   0.00595]\n",
      "[ 0.00875  0.00525  0.00345 -0.00085  0.0008   0.0043  -0.0069   0.01225\n",
      " -0.0071  -0.00305  0.00525  0.00915  0.00465 -0.0062   0.00015]\n",
      "[ 0.00195  0.0056  -0.00385 -0.00165 -0.0009  -0.00395 -0.00735  0.001\n",
      "  0.0032   0.0068   0.00955  0.0005   0.0017  -0.0064   0.0041 ]\n",
      "[ 0.00725  0.002    0.00545 -0.0009  -0.0011   0.0031   0.001    0.00065\n",
      " -0.0026   0.0003   0.00125  0.00795  0.0057  -0.0046  -0.00305]\n",
      "[-0.00715  0.01085 -0.0001  -0.0007  -0.0068   0.00895 -0.0017   0.0042\n",
      "  0.00295  0.007    0.0027   0.00085 -0.00085 -0.00055  0.0021 ]\n",
      "[-0.00045  0.0019   0.0036  -0.0013   0.0034  -0.0016   0.0002   0.0032\n",
      " -0.006    0.0041   0.004    0.0069  -0.00555 -0.00395  0.0007 ]\n",
      "[ 0.0073  -0.0011   0.0038  -0.00165  0.00315  0.00075 -0.0075   0.00455\n",
      "  0.00545  0.00305 -0.0004   0.0016   0.00165 -0.00575  0.0022 ]\n",
      "[-0.00245  0.00565  0.0062  -0.00205 -0.00185  0.0038   0.00275 -0.00365\n",
      " -0.0011   0.00475  0.00275 -0.00065 -0.0006  -0.00235 -0.00685]\n",
      "[ 0.00315 -0.0018  -0.00545 -0.00155  0.00045 -0.0028  -0.0076   0.00235\n",
      "  0.0013   0.0095   0.0044   0.0036  -0.00375 -0.006    0.00855]\n",
      "[ 0.00055  0.0027   0.00015 -0.00135 -0.00725  0.00265 -0.00275  0.00535\n",
      " -0.0125   0.00365 -0.00465  0.0018  -0.0004  -0.0035  -0.00865]\n",
      "[ 0.00635 -0.0018   0.004   -0.001    0.00055  0.00205  0.00075 -0.00225\n",
      "  0.0012   0.0074   0.00055  0.0103   0.009   -0.0046   0.00415]\n",
      "[-0.00135  0.00675 -0.0016  -0.0009  -0.01135 -0.0059  -0.006    0.00235\n",
      "  0.0037   0.00335  0.0065   0.0051   0.0022  -0.00595 -0.0019 ]\n",
      "[ 0.0019   0.0001  -0.0028  -0.00095  0.0018   0.00665 -0.0002  -0.00105\n",
      "  0.0042   0.0072   0.00295  0.00805  0.0055  -0.0029   0.0074 ]\n",
      "[ 0.0111   0.00365 -0.00255 -0.00095  0.0023  -0.00415 -0.00615  0.00255\n",
      "  0.0018  -0.00145  0.0012  -0.0024  -0.0053  -0.007   -0.0002 ]\n",
      "[-0.0012   0.0037   0.00715 -0.0005   0.00015  0.0075   0.00405  0.00535\n",
      " -0.00115 -0.0013  -0.00325 -0.0012  -0.00235  0.00355 -0.00505]\n",
      "[-0.00235  0.00295  0.00315 -0.00115 -0.0055  -0.0023  -0.00535  0.006\n",
      " -0.00145  0.002    0.00225  0.00895  0.0052  -0.00965 -0.00295]\n",
      "[ 0.0088  -0.00465  0.00435 -0.001   -0.0017   0.00095 -0.00275  0.00015\n",
      "  0.0052   0.0012  -0.00525  0.003   -0.00535 -0.00315 -0.00145]\n",
      "[-4.00e-03  9.50e-04 -2.95e-03 -1.20e-03 -3.70e-03 -2.15e-03 -1.00e-04\n",
      "  4.85e-03  1.85e-03  2.75e-03  3.80e-03 -1.35e-03 -1.20e-03 -1.12e-02\n",
      " -4.85e-03]\n",
      "[ 0.0049   0.00285  0.00435 -0.00125  0.00485  0.0072   0.0022   0.002\n",
      " -0.00305  0.0045   0.0019   0.0029   0.00445  0.00045 -0.0046 ]\n",
      "[-0.00035 -0.0019  -0.0004  -0.00105 -0.00225 -0.0014  -0.00465  0.01235\n",
      "  0.00045  0.0006   0.00105  0.00425 -0.0043  -0.0063  -0.0047 ]\n",
      "[-0.0025   0.0005  -0.0025  -0.0008   0.00265 -0.0055  -0.00205  0.0012\n",
      "  0.00335  0.0007  -0.0016   0.00325 -0.00135 -0.00385  0.00515]\n",
      "[ 0.00375  0.0054   0.00655 -0.0012  -0.0029   0.00125  0.00325 -0.0006\n",
      "  0.0033   0.0052   0.0042  -0.00455 -0.0012  -0.00375 -0.00075]\n",
      "[-0.00415 -0.00095 -0.0029  -0.0004  -0.00525  0.00195  0.0026   0.006\n",
      " -0.0011  -0.0014  -0.00125  0.00865  0.0028   0.0045  -0.0052 ]\n",
      "[ 0.001   -0.0061  -0.0029  -0.00155 -0.00065  0.00155 -0.00355 -0.00685\n",
      "  0.0009   0.00545 -0.00035  0.0016  -0.00065 -0.0095   0.0022 ]\n",
      "[ 0.0027   0.0066  -0.0017  -0.0015  -0.0031   0.00125  0.0056  -0.00445\n",
      " -0.0041  -0.00085  0.00375 -0.0012  -0.002    0.0022   0.0016 ]\n",
      "[ 0.00425 -0.00835 -0.00335 -0.0013  -0.00285  0.00085 -0.0038   0.00255\n",
      " -0.00445 -0.0004   0.00325 -0.001    0.0049   0.0028   0.0017 ]\n",
      "[ 0.006   -0.0018  -0.00365 -0.00125  0.0021   0.00015 -0.00145  0.00165\n",
      "  0.00215 -0.00385 -0.0027  -0.00025 -0.002   -0.0076   0.0049 ]\n",
      "[ 2.750e-03  1.600e-03  4.100e-03 -1.300e-03  5.000e-05  5.000e-04\n",
      " -2.000e-03  1.000e-04 -1.165e-02  1.450e-03 -1.850e-03  8.000e-04\n",
      " -1.100e-03 -1.500e-03 -1.000e-04]\n",
      "[-0.00665  0.0025   0.00335 -0.0014  -0.0063  -0.0004   0.0018  -0.0044\n",
      "  0.00305  0.00575  0.00125  0.00515 -0.       0.00115  0.0011 ]\n",
      "[-1.600e-03  1.000e-04  8.000e-04 -9.000e-04 -1.250e-03 -3.100e-03\n",
      " -1.055e-02  4.750e-03  3.000e-03 -5.550e-03 -4.450e-03 -1.000e-04\n",
      "  4.300e-03  2.100e-03  4.500e-04]\n",
      "[ 0.00265  0.0056  -0.0023  -0.00015  0.00165  0.00535  0.009   -0.004\n",
      "  0.00595  0.00425  0.00115  0.0044   0.00595  0.00405 -0.00565]\n",
      "[-0.00085  0.00205  0.0072  -0.00065 -0.0051  -0.002   -0.0051   0.0057\n",
      "  0.00305  0.00245  0.00415 -0.0016  -0.00435 -0.00545  0.00015]\n",
      "[ 0.00665 -0.0015   0.003   -0.0008  -0.00015  0.0033  -0.0006   0.0019\n",
      "  0.001    0.00395 -0.0041  -0.00205  0.0045  -0.0032   0.00445]\n",
      "[-2.00e-04  2.25e-03 -2.00e-04 -5.00e-04 -4.50e-03 -2.85e-03 -1.14e-02\n",
      "  6.00e-04 -1.90e-03  1.00e-04 -5.50e-04  1.65e-03 -4.35e-03 -5.60e-03\n",
      " -6.15e-03]\n",
      "[-0.0033   0.00095  0.00365 -0.0013   0.00025  0.0031   0.0004   0.002\n",
      " -0.00515 -0.00125 -0.0011   0.00365  0.0044  -0.0051   0.0008 ]\n",
      "[-1.60e-03 -4.05e-03 -3.20e-03 -1.00e-04  7.25e-03  1.70e-03  9.00e-04\n",
      "  9.50e-03  3.80e-03  6.00e-04  3.85e-03 -1.80e-03  1.35e-03  9.00e-04\n",
      "  5.60e-03]\n",
      "[ 2.00e-04 -5.05e-03  2.90e-03 -6.50e-04 -1.65e-03 -1.85e-03 -2.55e-03\n",
      " -7.00e-04 -3.25e-03 -1.00e-04  5.85e-03 -1.75e-03  8.00e-04  2.50e-04\n",
      " -3.20e-03]\n"
     ]
    }
   ],
   "source": [
    "# Haar\n",
    "import qtm.encoding\n",
    "thetas = thetas_origin.copy()\n",
    "psi = 2*np.random.rand(2**num_qubits)-1\n",
    "psi = psi / np.linalg.norm(psi)\n",
    "encoder = qtm.encoding.Encoding(psi, 'amplitude_encoding')\n",
    "\n",
    "loss_values_haar = []\n",
    "thetass_haar = []\n",
    "for i in range(0, 100):\n",
    "    qc = qiskit.QuantumCircuit(num_qubits, num_qubits)\n",
    "    G = qtm.fubini_study.calculate_koczor_state(qc.copy(), thetas, num_layers)\n",
    "    qc = encoder.qcircuit\n",
    "    grad_loss = qtm.base_qtm.grad_loss(\n",
    "        qc, \n",
    "        qtm.qtm_nqubit.create_arbitrarychecker_koczor, \n",
    "        thetas, r = 1/2, s = np.pi/2, num_layers = num_layers, encoder = encoder)\n",
    "    \n",
    "    print(grad_loss)\n",
    "    thetas = np.real(thetas - qtm.constant.learning_rate*(np.linalg.inv(G) @ grad_loss))   \n",
    "    qc_copy = qtm.qtm_nqubit.create_arbitrarychecker_koczor(qc.copy(), thetas, num_layers, encoder)\n",
    "    loss = qtm.base_qtm.loss_basis(qtm.base_qtm.measure(qc_copy, list(range(qc_copy.num_qubits))))\n",
    "    loss_values_haar.append(loss)\n",
    "    thetass_haar.append(thetas)\n"
   ]
  },
  {
   "cell_type": "code",
   "execution_count": 78,
   "metadata": {},
   "outputs": [
    {
     "data": {
      "image/png": "[encoded data removed]",
      "text/plain": [
       "<Figure size 432x288 with 1 Axes>"
      ]
     },
     "metadata": {
      "needs_background": "light"
     },
     "output_type": "display_data"
    }
   ],
   "source": [
    "\n",
    "# Plot loss value in 100 steps\n",
    "plt.plot(loss_values_ghz, label='GHZ', linestyle = '--')\n",
    "plt.plot(loss_values_w, label='W', linestyle = '-')\n",
    "plt.plot(loss_values_haar, label='Haar', linestyle = '-.')\n",
    "plt.title('Compare init state')\n",
    "plt.legend()\n",
    "plt.xlabel(\"Iteration\")\n",
    "plt.ylabel(\"Loss value\")\n",
    "plt.savefig('Compare_init_state.png', format='png', dpi=600)\n",
    "plt.show()"
   ]
  },
  {
   "cell_type": "code",
   "execution_count": 79,
   "metadata": {},
   "outputs": [],
   "source": [
    "traces_haar, fidelities_haar = [], []\n",
    "for thetas in thetass_haar:\n",
    "    # Get |psi> = U_gen|000...>\n",
    "    qc = qiskit.QuantumCircuit(num_qubits, num_qubits)\n",
    "    qc = qtm.qtm_nqubit.create_koczor_state(qc, thetas, num_layers = num_layers)\n",
    "    psi = qiskit.quantum_info.Statevector.from_instruction(qc)\n",
    "    rho_psi = qiskit.quantum_info.DensityMatrix(psi)\n",
    "    # Get |psi~> = U_target|000...>\n",
    "    qc1 = encoder.qcircuit\n",
    "    psi_hat = qiskit.quantum_info.Statevector.from_instruction(qc1)\n",
    "    rho_psi_hat = qiskit.quantum_info.DensityMatrix(psi_hat)\n",
    "    # Calculate the metrics\n",
    "    trace, fidelity = qtm.base_qtm.get_metrics(psi, psi_hat)\n",
    "    traces_haar.append(trace)\n",
    "    fidelities_haar.append(fidelity)"
   ]
  },
  {
   "cell_type": "code",
   "execution_count": 82,
   "metadata": {},
   "outputs": [],
   "source": [
    "np.savetxt(\"./loss_values_haar.csv\", loss_values_haar, delimiter=\",\")\n",
    "np.savetxt(\"./thetass_haar.csv\", thetass_haar, delimiter=\",\")\n",
    "np.savetxt(\"./traces_haar.csv\", traces_haar, delimiter=\",\")\n",
    "np.savetxt(\"./fidelities_haar.csv\", fidelities_haar, delimiter=\",\")"
   ]
  },
  {
   "cell_type": "code",
   "execution_count": 89,
   "metadata": {},
   "outputs": [
    {
     "data": {
      "image/png": "[encoded data removed]",
      "text/plain": [
       "<Figure size 432x288 with 1 Axes>"
      ]
     },
     "metadata": {
      "needs_background": "light"
     },
     "output_type": "display_data"
    }
   ],
   "source": [
    "plt.plot(traces_ghz, label = 'trace_ghz', color = 'blue')\n",
    "plt.plot(fidelities_ghz, label = 'fidelity_ghz', linestyle = '-.', color = 'blue')\n",
    "plt.plot(traces_w, label = 'trace_w', color = 'orange')\n",
    "plt.plot(fidelities_w, label = 'fidelity_w', linestyle = '-.', color = 'orange')\n",
    "plt.plot(traces_haar, label = 'trace_haar', color = 'g')\n",
    "plt.plot(fidelities_haar, label = 'fidelity_haar', linestyle = '-.', color = 'g')\n",
    "plt.xlabel(\"Iteration\")\n",
    "plt.ylabel(\"Value\")\n",
    "plt.legend()\n",
    "plt.savefig('Compare_init_state_trace_fidelity.png', format='png', dpi=600)\n",
    "plt.show()\n"
   ]
  }
 ],
 "metadata": {
  "interpreter": {
   "hash": "770b641b4564229c593d803dcff32fdd6beb94e7a78ba8806c95b100ce213599"
  },
  "kernelspec": {
   "display_name": "Python 3.8.0 64-bit",
   "language": "python",
   "name": "python3"
  },
  "language_info": {
   "codemirror_mode": {
    "name": "ipython",
    "version": 3
   },
   "file_extension": ".py",
   "mimetype": "text/x-python",
   "name": "python",
   "nbconvert_exporter": "python",
   "pygments_lexer": "ipython3",
   "version": "3.8.0"
  },
  "orig_nbformat": 4
 },
 "nbformat": 4,
 "nbformat_minor": 2
}
