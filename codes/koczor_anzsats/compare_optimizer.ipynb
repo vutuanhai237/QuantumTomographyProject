{
 "cells": [
  {
   "cell_type": "code",
   "execution_count": null,
   "metadata": {},
   "outputs": [],
   "source": [
    "import qiskit\n",
    "import numpy as np\n",
    "import matplotlib.pyplot as plt\n",
    "import qtm.base_qtm, qtm.constant, qtm.qtm_nqubit, qtm.qtm_1qubit, qtm.encoding"
   ]
  },
  {
   "cell_type": "code",
   "execution_count": null,
   "metadata": {},
   "outputs": [],
   "source": [
    "# Init parameters\n",
    "num_qubits = 3\n",
    "# For arbitrary initial state\n",
    "num_layers = 3\n",
    "thetas_origin = np.random.uniform(low = 0, high = 2*np.pi, size = num_qubits*15)\n",
    "# For determine GHZ state\n",
    "theta = np.random.uniform(0, 2*np.pi)"
   ]
  },
  {
   "cell_type": "code",
   "execution_count": null,
   "metadata": {},
   "outputs": [],
   "source": [
    "thetas = thetas_origin.copy()\n",
    "qc = qiskit.QuantumCircuit(num_qubits, num_qubits)\n",
    "thetass, loss_values = qtm.base_qtm.fit(\n",
    "    qc, num_steps = 150, thetas = thetas, \n",
    "    create_circuit_func = qtm.qtm_nqubit.create_GHZchecker_arbitrary, \n",
    "    grad_func = qtm.base_qtm.grad_loss,\n",
    "    loss_func = qtm.base_qtm.loss_basis,\n",
    "    optimizer = qtm.base_qtm.sgd,\n",
    "    verbose = 1,\n",
    "    is_return_all_thetas = True,\n",
    "    num_layers = num_layers,\n",
    "    theta = theta\n",
    ")\n"
   ]
  }
 ],
 "metadata": {
  "language_info": {
   "name": "python"
  },
  "orig_nbformat": 4
 },
 "nbformat": 4,
 "nbformat_minor": 2
}
