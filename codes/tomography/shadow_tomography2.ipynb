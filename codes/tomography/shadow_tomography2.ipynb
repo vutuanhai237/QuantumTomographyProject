{
 "cells": [
  {
   "cell_type": "code",
   "execution_count": 38,
   "metadata": {},
   "outputs": [],
   "source": [
    "from itertools import combinations\n",
    "import qiskit\n",
    "import numpy as np\n",
    "import tqix\n",
    "import sys\n",
    "\n",
    "\n",
    "def generate_u_pauli(num_qubits):\n",
    "    lis = [0, 1, 2]\n",
    "    coms = []\n",
    "    if num_qubits == 2:\n",
    "        for i in lis:\n",
    "            for j in lis:\n",
    "                coms.append([i, j])\n",
    "    if num_qubits == 3:\n",
    "        for i in lis:\n",
    "            for j in lis:\n",
    "                for k in lis:\n",
    "                    coms.append([i, j, k])\n",
    "    sigma = [tqix.sigmax(), tqix.sigmay(), tqix.sigmaz()]\n",
    "    Us = []\n",
    "    for com in coms:\n",
    "        U = sigma[com[0]]\n",
    "        for i in range(1, num_qubits):\n",
    "            U = np.kron(U, sigma[com[i]])\n",
    "        Us.append(U)\n",
    "    \n",
    "    return Us[: 3**num_qubits]\n",
    "\n",
    "\n",
    "def create_basic_vector(num_qubits: int):\n",
    "    \"\"\"Generate list of basic vectors\n",
    "\n",
    "    Args:\n",
    "        num_qubits (int): number of qubits\n",
    "\n",
    "    Returns:\n",
    "        np.ndarray: |00...0>, |00...1>, ..., |11...1>\n",
    "    \"\"\"\n",
    "    bs = []\n",
    "    for i in range(0, 2**num_qubits):\n",
    "        b = np.zeros((2**num_qubits, 1))\n",
    "        b[i] = 1\n",
    "        bs.append(b)\n",
    "    return bs\n",
    "\n",
    "\n",
    "def calculate_sigma(U: np.ndarray, b: np.ndarray):\n",
    "    \"\"\"Calculate measurement values\n",
    "\n",
    "    Args:\n",
    "        U (np.ndarray): operator\n",
    "        b (np.ndarray): basic vector\n",
    "\n",
    "    Returns:\n",
    "        np.ndarray: sigma operator\n",
    "    \"\"\"\n",
    "    return (np.conjugate(np.transpose(U)) @ b @ np.conjugate(np.transpose(b)) @ U)\n",
    "\n",
    "# def calculate_mu(density_matrix):\n",
    "#     M = np.zeros((2**num_qubits, 2**num_qubits), dtype=np.complex128)\n",
    "#     for i in range(0, num_observers):\n",
    "#         for j in range(0, 2**num_qubits):\n",
    "#             k = sigmass[i][j]\n",
    "#             M += np.trace(k @ density_matrix) * k\n",
    "#     M /= num_observers\n",
    "#     return M\n",
    "\n",
    "\n",
    "def calculate_mu_inverse(density_matrix, num_qubits):\n",
    "    k = 3*density_matrix - \\\n",
    "        np.trace(density_matrix) * np.identity(2 **\n",
    "                                               num_qubits, dtype=np.complex128)\n",
    "    # M = k.copy()\n",
    "    # for i in range(1, num_qubits):\n",
    "    #     M = np.kron(M, k)\n",
    "    return k\n",
    "def self_tensor(matrix, n):\n",
    "    product = matrix\n",
    "    for i in range(1, n):\n",
    "        product = np.kron(product, matrix)\n",
    "    return product\n"
   ]
  },
  {
   "cell_type": "code",
   "execution_count": 45,
   "metadata": {},
   "outputs": [],
   "source": [
    "num_qubits = 2\n",
    "psi = 2*np.random.rand(2**num_qubits)\n",
    "psi = psi / np.linalg.norm(psi)\n",
    "rho = qiskit.quantum_info.DensityMatrix(psi).data\n",
    "\n",
    "def shadow(num_experiments):\n",
    "\n",
    "    num_observers = 3**num_qubits\n",
    "    Us, bs = [], []\n",
    "    bs = create_basic_vector(num_qubits)\n",
    "    Us = generate_u_pauli(num_qubits)\n",
    "    count_i = [0] * (num_observers)\n",
    "    sum_b_s = [np.zeros((2**num_qubits, 2**num_qubits),\n",
    "                        dtype=np.complex128)] * (num_observers)\n",
    "    for i in range(0, num_experiments):\n",
    "        r = np.random.randint(0, num_observers)\n",
    "        count_i[r] += 1\n",
    "        U = Us[r]\n",
    "        sum_b = np.zeros((2**num_qubits, 2**num_qubits), dtype=np.complex128)\n",
    "        for j in range(0, 2**num_qubits):\n",
    "            k = calculate_sigma(U, bs[j])\n",
    "            sum_b_s[r] += np.trace(k @ rho)*calculate_mu_inverse(k, num_qubits)\n",
    "            temp = sum_b_s[r].copy()\n",
    "            sum_b_s[r] = (np.conjugate(np.transpose(\n",
    "                temp)) @ temp) / (np.trace(np.conjugate(np.transpose(temp)) @ temp))\n",
    "\n",
    "    ps = np.zeros(num_observers)\n",
    "    rho_hat = np.zeros((2**num_qubits, 2**num_qubits), dtype=np.complex128)\n",
    "    rho_hat_variant = 0\n",
    "    for i in range(0, num_observers):\n",
    "        ps[i] = count_i[i] / num_experiments\n",
    "        traceA = np.trace(self_tensor(tqix.sigmaz(), num_qubits) @ sum_b_s[i])\n",
    "        traceB = np.trace(self_tensor(tqix.sigmaz(), num_qubits) @ rho)\n",
    "        rho_hat_variant += ps[i] * (traceA - traceB)**2\n",
    "        rho_hat += ps[i] * sum_b_s[i]\n",
    "        return rho_hat_variant, rho_hat\n",
    "# new_rho_hat = (np.conjugate(np.transpose(\n",
    "#     rho_hat)) @ rho_hat) / (np.trace(np.conjugate(np.transpose(rho_hat)) @ rho_hat))\n",
    "# fidelity = qtm.base.trace_fidelity(rho, new_rho_hat)\n",
    "# trace = qtm.base.trace_distance(rho, new_rho_hat)\n",
    "#     return trace, fidelity, rho, new_rho_hat\n",
    "\n",
    "# traces = []\n",
    "# fidelities = []\n",
    "# rho_hats = []\n",
    "# for i in range(0, 1):\n",
    "#     trace, fidelity, rho, new_rho_hat = shadow_tomo()\n",
    "#     traces.append(trace)\n",
    "#     fidelities.append(fidelity)\n",
    "#     rho_hats.append(new_rho_hat.copy())\n",
    "\n",
    "# print(np.mean(traces))\n",
    "# print(np.mean(fidelities))\n",
    "# print(np.std(traces))\n",
    "# print(np.std(fidelities))\n",
    "# min_rho_hat = (rho_hats[np.argmin(traces)])\n"
   ]
  },
  {
   "cell_type": "code",
   "execution_count": 46,
   "metadata": {},
   "outputs": [],
   "source": [
    "rho_hat_variantss = []\n",
    "noe_large = [10**2, 10**3, 10**4, 10**5]\n",
    "for noe in noe_large:\n",
    "    rho_hat_variants = []\n",
    "    for i in range(0, 10):\n",
    "        rho_hat_variant, rho_hat = shadow(noe)\n",
    "        rho_hat_variants.append(rho_hat_variant)\n",
    "    rho_hat_variantss.append(rho_hat_variants)\n"
   ]
  },
  {
   "cell_type": "code",
   "execution_count": 47,
   "metadata": {},
   "outputs": [
    {
     "name": "stdout",
     "output_type": "stream",
     "text": [
      "[(0.011695091215691721+0j), (0.01069955865766177+0j), (0.010719855923408012+0j), (0.01073551381412654+0j)]\n",
      "[0.0023852114717500977, 0.0006294371609045586, 0.0003655872270893461, 0.00010627752975859266]\n"
     ]
    }
   ],
   "source": [
    "np.savetxt(\"./rho_hat_variantss\" + str(num_qubits) + \".csv\",\n",
    "           rho_hat_variantss,\n",
    "           delimiter=\",\")\n",
    "\n",
    "averages_var = [0]*4\n",
    "averages_std = [0]*4\n",
    "for i in range(len(noe_large)):\n",
    "    averages_var[i] = np.mean(rho_hat_variantss[i])\n",
    "    averages_std[i] = np.std(rho_hat_variantss[i])\n",
    "print(averages_var)\n",
    "print(averages_std)\n"
   ]
  },
  {
   "cell_type": "code",
   "execution_count": 48,
   "metadata": {},
   "outputs": [
    {
     "data": {
      "image/png": "[encoded data removed]",
      "text/plain": [
       "<Figure size 432x288 with 1 Axes>"
      ]
     },
     "metadata": {
      "needs_background": "light"
     },
     "output_type": "display_data"
    }
   ],
   "source": [
    "import matplotlib.pyplot as plt\n",
    "\n",
    "plt.plot(noe_large, averages_var)\n",
    "plt.subplot(2, 1, 1)\n",
    "plt.plot(noe_large, averages_var)\n",
    "plt.xscale('log')\n",
    "plt.yscale('log')\n",
    "plt.xlabel('NoE')\n",
    "plt.ylabel('Var')\n",
    "plt.show()\n"
   ]
  },
  {
   "cell_type": "markdown",
   "metadata": {},
   "source": [
    "N = 2, L = 2, W_chain, Adam\n",
    "\n",
    "Calculate $var(Z\\otimes Z) = (\\langle\\tilde{\\psi}|ZZ|\\tilde{\\psi}\\rangle^2 - \\langle\\psi|ZZ|\\psi\\rangle^2)$\n"
   ]
  },
  {
   "cell_type": "code",
   "execution_count": 49,
   "metadata": {},
   "outputs": [
    {
     "name": "stdout",
     "output_type": "stream",
     "text": [
      "W_chain: (2,2): 0\n",
      "W_chain: (2,2): 20\n",
      "W_chain: (2,2): 40\n",
      "W_chain: (2,2): 60\n",
      "W_chain: (2,2): 80\n",
      "W_chain: (2,2): 100\n",
      "W_chain: (2,2): 120\n",
      "W_chain: (2,2): 140\n",
      "W_chain: (2,2): 160\n",
      "W_chain: (2,2): 180\n",
      "W_chain: (2,2): 200\n",
      "W_chain: (2,2): 220\n",
      "W_chain: (2,2): 240\n",
      "W_chain: (2,2): 260\n",
      "W_chain: (2,2): 280\n",
      "W_chain: (2,2): 300\n",
      "W_chain: (2,2): 320\n",
      "W_chain: (2,2): 340\n",
      "W_chain: (2,2): 360\n",
      "W_chain: (2,2): 380\n"
     ]
    }
   ],
   "source": [
    "\n",
    "import sys\n",
    "sys.path.insert(1, '../')\n",
    "import qtm.fubini_study\n",
    "import qtm.nqubit\n",
    "import qtm.base\n",
    "num_layers = 2\n",
    "thetas = np.ones(num_layers*num_qubits*4)\n",
    "\n",
    "qc = qiskit.QuantumCircuit(num_qubits, num_qubits)\n",
    "qc.initialize(psi, range(0, num_qubits))\n",
    "\n",
    "loss_values = []\n",
    "thetass = []\n",
    "\n",
    "for i in range(0, 400):\n",
    "    if i % 20 == 0:\n",
    "        print('W_chain: (' + str(num_layers) +\n",
    "              ',' + str(num_qubits) + '): ' + str(i))\n",
    "\n",
    "    grad_loss = qtm.base.grad_loss(\n",
    "        qc,\n",
    "        qtm.nqubit.create_Wchain_layerd_state,\n",
    "        thetas, r=1/2, s=np.pi/2, num_layers=num_layers)\n",
    "    if i == 0:\n",
    "        m, v = list(np.zeros(thetas.shape[0])), list(\n",
    "            np.zeros(thetas.shape[0]))\n",
    "    thetas = qtm.base.adam(thetas, m, v, i, grad_loss)\n",
    "    thetass.append(thetas.copy())\n",
    "    qc_copy = qtm.nqubit.create_Wchain_layerd_state(\n",
    "        qc.copy(), thetas, num_layers)\n",
    "    loss = qtm.base.loss_basis(qtm.base.measure(\n",
    "        qc_copy, list(range(qc_copy.num_qubits))))\n",
    "    loss_values.append(loss)\n"
   ]
  },
  {
   "cell_type": "code",
   "execution_count": 53,
   "metadata": {},
   "outputs": [
    {
     "data": {
      "image/png": "[encoded data removed]",
      "text/plain": [
       "<Figure size 432x288 with 1 Axes>"
      ]
     },
     "metadata": {
      "needs_background": "light"
     },
     "output_type": "display_data"
    }
   ],
   "source": [
    "variances = []\n",
    "for thetas in thetass:\n",
    "    qc = qiskit.QuantumCircuit(num_qubits, num_qubits)\n",
    "    qc = qtm.nqubit.create_Wchain_layerd_state(\n",
    "        qc, thetas, num_layers=num_layers).inverse()\n",
    "    psi_hat = qiskit.quantum_info.Statevector.from_instruction(qc).data\n",
    "    variances.append((np.conjugate(np.transpose(psi_hat)) @ self_tensor(tqix.sigmaz(), 2) @ psi_hat)\n",
    "                     ** 2 - (np.conjugate(np.transpose(psi)) @ self_tensor(tqix.sigmaz(), 2) @ psi)**2)\n",
    "plt.plot(variances)\n",
    "\n",
    "np.savetxt(\"./thetass\"+ str(num_qubits) + \".csv\",\n",
    "           thetass,\n",
    "           delimiter=\",\")\n",
    "np.savetxt(\"./variances\" + str(num_qubits) + \".csv\",\n",
    "           variances,\n",
    "           delimiter=\",\")"
   ]
  },
  {
   "cell_type": "code",
   "execution_count": 54,
   "metadata": {},
   "outputs": [
    {
     "data": {
      "text/plain": [
       "(0.00012523163889843758+0j)"
      ]
     },
     "execution_count": 54,
     "metadata": {},
     "output_type": "execute_result"
    }
   ],
   "source": [
    "min((abs(x), x) for x in variances)[1]\n"
   ]
  },
  {
   "cell_type": "code",
   "execution_count": 55,
   "metadata": {},
   "outputs": [
    {
     "data": {
      "text/plain": [
       "(0.04301764694678889+0j)"
      ]
     },
     "execution_count": 55,
     "metadata": {},
     "output_type": "execute_result"
    }
   ],
   "source": [
    "variances[-1]\n"
   ]
  }
 ],
 "metadata": {
  "interpreter": {
   "hash": "770b641b4564229c593d803dcff32fdd6beb94e7a78ba8806c95b100ce213599"
  },
  "kernelspec": {
   "display_name": "Python 3.8.0 64-bit",
   "language": "python",
   "name": "python3"
  },
  "language_info": {
   "codemirror_mode": {
    "name": "ipython",
    "version": 3
   },
   "file_extension": ".py",
   "mimetype": "text/x-python",
   "name": "python",
   "nbconvert_exporter": "python",
   "pygments_lexer": "ipython3",
   "version": "3.8.0"
  },
  "orig_nbformat": 4
 },
 "nbformat": 4,
 "nbformat_minor": 2
}
