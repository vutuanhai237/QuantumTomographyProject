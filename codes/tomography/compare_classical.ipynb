{
 "cells": [
  {
   "cell_type": "code",
   "execution_count": 3,
   "metadata": {},
   "outputs": [],
   "source": [
    "import numpy as np\n",
    "import qiskit\n",
    "import tqix\n",
    "import sys\n",
    "sys.path.insert(1, '../')\n",
    "import qtm.constant"
   ]
  },
  {
   "cell_type": "code",
   "execution_count": 26,
   "metadata": {},
   "outputs": [
    {
     "name": "stdout",
     "output_type": "stream",
     "text": [
      "Warnings: obasis(d,e) is an old version, please use bx(d,e) instead.\n",
      "Warnings: obasis(d,e) is an old version, please use bx(d,e) instead.\n",
      "6\n",
      "Warnings: obasis(d,e) is an old version, please use bx(d,e) instead.\n",
      "Warnings: obasis(d,e) is an old version, please use bx(d,e) instead.\n",
      "[[1.]\n",
      " [0.]]\n"
     ]
    }
   ],
   "source": [
    "num_qubits = 1\n",
    "psi = 2*np.random.rand(2**num_qubits)-1\n",
    "psi = psi / np.linalg.norm(psi)\n",
    "qc = qiskit.QuantumCircuit(num_qubits, num_qubits)\n",
    "qc.initialize(psi, range(0, num_qubits))\n",
    "state = qiskit.quantum_info.Statevector(qc).data\n",
    "state = state.reshape((2**num_qubits, 1))\n",
    "model = tqix.qmeas(state, 'MUB')\n",
    "cdf_model = tqix.qsim(model, niter = qtm.constant.num_shots, backend='cdf')\n",
    "fr = cdf_model.probability()\n",
    "print(len(fr))\n",
    "# Create trial state\n",
    "trial_state = np.zeros((2**num_qubits, 1))\n",
    "trial_state[0] = 1\n",
    "mbu = model.probability()\n"
   ]
  },
  {
   "cell_type": "markdown",
   "metadata": {},
   "source": [
    "first, we change ghz(1) by Haar random called from Qiskit. let fix N = 2.\n",
    "then we calculate the cdf_model probabilites so, now we have f_r.\n",
    "\n",
    "len(f_r) = (2^n + 1)*2^n\n",
    "f_r(1) = (2^1 + 1)*2\n",
    "Next, we calculate the trial probabilities, to calculate the trial probabilities, you can call the probability from model (not cdf_model)"
   ]
  },
  {
   "cell_type": "markdown",
   "metadata": {},
   "source": [
    "<img width = 500px src = '../../images/classical_tomography.jpg'/>"
   ]
  }
 ],
 "metadata": {
  "interpreter": {
   "hash": "770b641b4564229c593d803dcff32fdd6beb94e7a78ba8806c95b100ce213599"
  },
  "kernelspec": {
   "display_name": "Python 3.8.0 64-bit",
   "language": "python",
   "name": "python3"
  },
  "language_info": {
   "codemirror_mode": {
    "name": "ipython",
    "version": 3
   },
   "file_extension": ".py",
   "mimetype": "text/x-python",
   "name": "python",
   "nbconvert_exporter": "python",
   "pygments_lexer": "ipython3",
   "version": "3.8.0"
  },
  "orig_nbformat": 4
 },
 "nbformat": 4,
 "nbformat_minor": 2
}
