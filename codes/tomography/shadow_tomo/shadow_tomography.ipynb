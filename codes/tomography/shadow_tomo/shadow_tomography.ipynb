{
 "cells": [
  {
   "cell_type": "code",
   "execution_count": 2,
   "metadata": {},
   "outputs": [],
   "source": [
    "import qiskit\n",
    "import numpy as np\n",
    "import tqix\n",
    "import sys\n",
    "sys.path.insert(1, '../')\n",
    "import qtm.base\n",
    "import qtm.encoding\n",
    "\n",
    "def create_basic_vector(num_qubits: int):\n",
    "    \"\"\"Generate list of basic vectors\n",
    "\n",
    "    Args:\n",
    "        num_qubits (int): number of qubits\n",
    "\n",
    "    Returns:\n",
    "        np.ndarray: |00...0>, |00...1>, ..., |11...1>\n",
    "    \"\"\"\n",
    "    bs = []\n",
    "    for i in range(0, 2**num_qubits):\n",
    "        b = np.zeros((2**num_qubits, 1))\n",
    "        b[i] = 1\n",
    "        bs.append(b)\n",
    "    return bs\n",
    "\n",
    "\n",
    "def calculate_sigma(U: np.ndarray, b: np.ndarray):\n",
    "    \"\"\"Calculate measurement values\n",
    "\n",
    "    Args:\n",
    "        U (np.ndarray): operator\n",
    "        b (np.ndarray): basic vector\n",
    "\n",
    "    Returns:\n",
    "        np.ndarray: sigma operator\n",
    "    \"\"\"\n",
    "    return (np.conjugate(np.transpose(U)) @ b @ np.conjugate(np.transpose(b)) @ U)\n"
   ]
  },
  {
   "cell_type": "markdown",
   "metadata": {},
   "source": [
    "Step 1. Create $\\rho_{unk}$. It's psi\n"
   ]
  },
  {
   "cell_type": "code",
   "execution_count": 3,
   "metadata": {},
   "outputs": [
    {
     "data": {
      "text/plain": [
       "<qiskit.circuit.instructionset.InstructionSet at 0x1b60c460ac0>"
      ]
     },
     "execution_count": 3,
     "metadata": {},
     "output_type": "execute_result"
    }
   ],
   "source": [
    "num_qubits = 2\n",
    "num_observers = 10\n",
    "psi = 2*np.random.rand(2**num_qubits)-1\n",
    "psi = psi / np.linalg.norm(psi)\n",
    "rho = qiskit.quantum_info.DensityMatrix(psi).data\n",
    "qc = qiskit.QuantumCircuit(num_qubits, num_qubits)\n",
    "qc.initialize(psi)\n"
   ]
  },
  {
   "cell_type": "markdown",
   "metadata": {},
   "source": [
    "Step 2. Create Us = $U_1, U_2, ..., U_{num\\_observer}$ and bs = $|0\\rangle, |1\\rangle, ..., |2^n-1\\rangle$.\n",
    "\n",
    "bs[0] = [1, 0, ... 0], bs[$2^n-1$] = [0, 0, ..., 1]\n"
   ]
  },
  {
   "cell_type": "code",
   "execution_count": 3,
   "metadata": {},
   "outputs": [],
   "source": [
    "Us, bs = [], []\n",
    "for i in range(0, num_observers):\n",
    "    random_psi = 2*np.random.rand(2**num_qubits)-1\n",
    "    random_psi = random_psi / np.linalg.norm(random_psi)\n",
    "    encoder = qtm.encoding.Encoding(random_psi, 'amplitude_encoding')\n",
    "    qcs = (qc.copy()).compose(encoder.qcircuit)\n",
    "    U = (qiskit.quantum_info.Operator(encoder.qcircuit).data)\n",
    "    Us.append(U)\n",
    "    bs = create_basic_vector(num_qubits)\n"
   ]
  },
  {
   "cell_type": "code",
   "execution_count": 10,
   "metadata": {},
   "outputs": [
    {
     "data": {
      "image/png": "[encoded data removed]",
      "text/plain": [
       "<Figure size 748.652x204.68 with 1 Axes>"
      ]
     },
     "execution_count": 10,
     "metadata": {},
     "output_type": "execute_result"
    }
   ],
   "source": [
    "qcs.draw('mpl')"
   ]
  },
  {
   "cell_type": "markdown",
   "metadata": {},
   "source": [
    "Step 3. Calculate $\\sigma_i=\\sigma_i^{(0)}, \\sigma_i^{(1)}, ..., \\sigma_i^{(2^n-1)}$\n",
    "with $\\sigma_i^{(j)}=U_i^{\\dagger}|j\\rangle\\langle j|U_i$\n"
   ]
  },
  {
   "cell_type": "code",
   "execution_count": 4,
   "metadata": {},
   "outputs": [],
   "source": [
    "sigmass = []\n",
    "for i in range(0, num_observers):\n",
    "    sigmas = []\n",
    "    for b in bs:\n",
    "        sigma = calculate_sigma(Us[i], b)\n",
    "        sigmas.append(sigma)\n",
    "    sigmass.append(sigmas)"
   ]
  },
  {
   "cell_type": "markdown",
   "metadata": {},
   "source": [
    "Step 4: Calculate $\\mu(\\rho_{unk})=\\frac{1}{num\\_ observer}\\sum_{i=1}^{num\\_observer}\\sum_{b=0}^{2^n-1} \\text{Tr}(\\sigma_i^{(b)}\\rho_{unk})\\sigma_i^{(b)}$\n"
   ]
  },
  {
   "cell_type": "code",
   "execution_count": 5,
   "metadata": {},
   "outputs": [],
   "source": [
    "def calculate_mu(density_matrix):\n",
    "    M = np.zeros((2**num_qubits, 2**num_qubits), dtype=np.complex128)\n",
    "    for i in range(0, num_observers):\n",
    "        for j in range(0, 2**num_qubits):\n",
    "            k = sigmass[i][j]\n",
    "            M += np.trace(k @ density_matrix) * k\n",
    "    M /= num_observers\n",
    "    return M\n",
    "    \n",
    "# M = calculate_mu(rho)"
   ]
  },
  {
   "cell_type": "markdown",
   "metadata": {},
   "source": [
    "Step 5. 1: Calculate $\\tilde{\\rho}=\\frac{1}{num\\_ observer}\\sum_{i=1}^{num\\_observer}(\\sum_{b=0}^{2^n-1} (\\text{Tr}(\\sigma_i^{(b)}\\rho_{unk}).\\mu^{-1}(\\sigma_i^{(b)})))$\n"
   ]
  },
  {
   "cell_type": "code",
   "execution_count": 6,
   "metadata": {},
   "outputs": [
    {
     "name": "stdout",
     "output_type": "stream",
     "text": [
      "0\n"
     ]
    }
   ],
   "source": [
    "rho_hat = np.zeros((2**num_qubits, 2**num_qubits), dtype=np.complex128)\n",
    "for i in range(0, num_observers):\n",
    "    if i % 10 == 0:\n",
    "        print(i)\n",
    "    for j in range(0, 2**num_qubits):\n",
    "        k = sigmass[i][j]\n",
    "        rho_hat += np.trace(k @ rho)*np.linalg.inv(calculate_mu(k))\n",
    "rho_hat /= num_observers\n",
    "new_rho_hat = (np.conjugate(np.transpose(\n",
    "    rho_hat)) @ rho_hat) / (np.trace(np.conjugate(np.transpose(rho_hat)) @ rho_hat))\n"
   ]
  },
  {
   "cell_type": "markdown",
   "metadata": {},
   "source": [
    "Step 5.2: Calculate $\\tilde{\\rho}=\\sum_{i=1}^{num\\_observer}p_i(\\sum_{b=0}^{2^n-1} (\\text{Tr}(\\sigma_i^{(b)}\\rho_{unk}).\\mu^{-1}(\\sigma_i^{(b)})))$"
   ]
  },
  {
   "cell_type": "markdown",
   "metadata": {},
   "source": [
    "<img width = '600px' src = '../../images/shadow_tomography3.jpg'>"
   ]
  },
  {
   "cell_type": "code",
   "execution_count": 9,
   "metadata": {},
   "outputs": [
    {
     "name": "stdout",
     "output_type": "stream",
     "text": [
      "[[ 1.00000000e+00+0.j  2.27026913e-17+0.j  3.71983215e-17+0.j\n",
      "  -2.80383594e-17+0.j]\n",
      " [ 1.55427331e-17+0.j  1.00000000e+00+0.j  4.87301994e-17+0.j\n",
      "  -1.00326852e-17+0.j]\n",
      " [ 1.42397741e-16+0.j  8.35938394e-17+0.j  1.00000000e+00+0.j\n",
      "   1.59333294e-17+0.j]\n",
      " [-8.66794254e-17+0.j  1.11973080e-16+0.j  4.71160770e-17+0.j\n",
      "   1.00000000e+00+0.j]]\n"
     ]
    }
   ],
   "source": [
    "from scipy.stats import truncnorm\n",
    "\n",
    "def get_truncated_normal(mean=0, sd=1, low=0, upp=10):\n",
    "    return truncnorm(\n",
    "        (low - mean) / sd, (upp - mean) / sd, loc=mean, scale=sd)\n",
    "X = get_truncated_normal(mean= num_observers/2, sd=2, low=0, upp = num_observers).rvs(10000)\n",
    "\n",
    "# Calculate p_i\n",
    "probs = np.zeros(num_observers)\n",
    "for i in range(0, 10000):\n",
    "    probs[int(X[i])] += 1\n",
    "probs /= np.sum(probs)\n",
    "\n",
    "\n",
    "rho_hat = np.zeros((2**num_qubits, 2**num_qubits), dtype=np.complex128)\n",
    "for i in range(0, num_observers):\n",
    "    matrix_tmp = np.zeros((2**num_qubits, 2**num_qubits), dtype=np.complex128)\n",
    "    for j in range(0, 2**num_qubits):\n",
    "        k = sigmass[i][j]\n",
    "        if i == 1 and j == 1:\n",
    "            print(calculate_mu(k) @ np.linalg.inv(calculate_mu(k)))\n",
    "        matrix_tmp += np.trace(k @ rho)*np.linalg.inv(calculate_mu(k))\n",
    "    rho_hat += probs[i]*matrix_tmp\n",
    "\n",
    "\n",
    "new_rho_hat = (np.conjugate(np.transpose(\n",
    "    rho_hat)) @ rho_hat) / (np.trace(np.conjugate(np.transpose(rho_hat)) @ rho_hat))\n"
   ]
  },
  {
   "cell_type": "code",
   "execution_count": 64,
   "metadata": {},
   "outputs": [
    {
     "name": "stdout",
     "output_type": "stream",
     "text": [
      "p [[ 4.15657903e-01+0.j  3.72333733e-01+0.j -6.24958312e-03-0.j\n",
      "   3.22823396e-01+0.j]\n",
      " [ 3.72333733e-01+0.j  3.33525256e-01+0.j -5.59818687e-03-0.j\n",
      "   2.89175399e-01+0.j]\n",
      " [-6.24958312e-03+0.j -5.59818687e-03+0.j  9.39649864e-05+0.j\n",
      "  -4.85377910e-03+0.j]\n",
      " [ 3.22823396e-01+0.j  2.89175399e-01+0.j -4.85377910e-03-0.j\n",
      "   2.50722876e-01+0.j]]\n",
      "p~ [[ 0.20131844+0.j -0.14512324+0.j -0.16471181+0.j  0.13737572+0.j]\n",
      " [-0.14512324+0.j  0.25186812+0.j  0.13635171+0.j -0.20541471+0.j]\n",
      " [-0.16471181+0.j  0.13635171+0.j  0.24156913+0.j -0.17630767+0.j]\n",
      " [ 0.13737572+0.j -0.20541471+0.j -0.17630767+0.j  0.30524431+0.j]]\n",
      "Fidelity:  (0.2775446309809241-1.7208144809154814e-18j)\n",
      "Trace:  0.9133243744447737\n"
     ]
    }
   ],
   "source": [
    "print(\"p\", rho)\n",
    "print(\"p~\", new_rho_hat)\n",
    "fidelity = qtm.base.trace_fidelity(rho, new_rho_hat)\n",
    "trace = qtm.base.trace_distance(rho, new_rho_hat)\n",
    "print(\"Fidelity: \", fidelity)\n",
    "print(\"Trace: \", trace)\n"
   ]
  },
  {
   "cell_type": "markdown",
   "metadata": {},
   "source": [
    "## Materials"
   ]
  },
  {
   "cell_type": "markdown",
   "metadata": {},
   "source": [
    "<img width = '600px' src = '../../images/shadow_tomography1.jpg'>\n",
    "<img width = '600px' src = '../../images/shadow_tomography2.jpg'>\n"
   ]
  }
 ],
 "metadata": {
  "kernelspec": {
   "display_name": "Python 3.8.0 64-bit",
   "language": "python",
   "name": "python3"
  },
  "language_info": {
   "codemirror_mode": {
    "name": "ipython",
    "version": 3
   },
   "file_extension": ".py",
   "mimetype": "text/x-python",
   "name": "python",
   "nbconvert_exporter": "python",
   "pygments_lexer": "ipython3",
   "version": "3.8.0"
  },
  "orig_nbformat": 4,
  "vscode": {
   "interpreter": {
    "hash": "b6314cf850edbae231b80224200c9e1580e03453e86236ed42ea1b49b1f8d2e3"
   }
  }
 },
 "nbformat": 4,
 "nbformat_minor": 2
}
