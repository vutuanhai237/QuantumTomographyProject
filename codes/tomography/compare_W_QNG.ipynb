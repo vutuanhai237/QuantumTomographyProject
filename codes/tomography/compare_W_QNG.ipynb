{
 "cells": [
  {
   "cell_type": "code",
   "execution_count": 17,
   "metadata": {},
   "outputs": [
    {
     "data": {
      "text/plain": [
       "<module 'qtm.fubini_study' from '..\\\\qtm\\\\fubini_study.py'>"
      ]
     },
     "execution_count": 17,
     "metadata": {},
     "output_type": "execute_result"
    }
   ],
   "source": [
    "import qiskit\n",
    "import numpy as np\n",
    "import sys\n",
    "sys.path.insert(1, '../')\n",
    "import qtm.base, qtm.constant, qtm.nqubit, qtm.fubini_study, qtm.encoding\n",
    "import importlib\n",
    "importlib.reload(qtm.base)\n",
    "importlib.reload(qtm.constant)\n",
    "importlib.reload(qtm.onequbit)\n",
    "importlib.reload(qtm.nqubit)\n",
    "importlib.reload(qtm.fubini_study)"
   ]
  },
  {
   "cell_type": "markdown",
   "metadata": {},
   "source": [
    "20/12/2021\n",
    "\n",
    "In this notebook I will conduct the experiments about tomography.\n",
    "\n",
    "With $U_{gen} = $ Haar random\n",
    "\n",
    "And $U_{target} = W + ZXZ, W = W_{chain}, W_{all to all}, W_{alternating}$"
   ]
  },
  {
   "cell_type": "markdown",
   "metadata": {},
   "source": [
    "### 1. W_{chain}"
   ]
  },
  {
   "cell_type": "code",
   "execution_count": 107,
   "metadata": {},
   "outputs": [
    {
     "data": {
      "image/png": "[encoded data removed]",
      "text/plain": [
       "<Figure size 507.997x204.68 with 1 Axes>"
      ]
     },
     "execution_count": 107,
     "metadata": {},
     "output_type": "execute_result"
    }
   ],
   "source": [
    "num_qubits = 3\n",
    "num_layers = 1\n",
    "thetas = np.ones(num_layers*num_qubits*4)\n",
    "psi = 2*np.random.rand(2**num_qubits)-1\n",
    "psi = psi / np.linalg.norm(psi)\n",
    "encoder = qtm.encoding.Encoding(psi, 'amplitude_encoding')\n",
    "\n",
    "qc = qiskit.QuantumCircuit(num_qubits)\n",
    "qc = qtm.nqubit.create_Wchain_layerd_state(qc, thetas, num_layers=num_layers)\n",
    "qc.draw('mpl')"
   ]
  },
  {
   "cell_type": "code",
   "execution_count": 100,
   "metadata": {},
   "outputs": [
    {
     "name": "stdout",
     "output_type": "stream",
     "text": [
      "Statevector([1.+0.j, 0.+0.j, 0.+0.j, 0.+0.j, 0.+0.j, 0.+0.j, 0.+0.j,\n",
      "             0.+0.j, 0.+0.j, 0.+0.j, 0.+0.j, 0.+0.j, 0.+0.j, 0.+0.j,\n",
      "             0.+0.j, 0.+0.j],\n",
      "            dims=(2, 2, 2, 2))\n"
     ]
    }
   ],
   "source": [
    "num_qubits = 4\n",
    "thetas = np.random.random(4)\n",
    "qc = qiskit.QuantumCircuit(num_qubits, num_qubits)\n",
    "qc = qtm.nqubit.create_Wchain(qc, thetas)\n",
    "print(qiskit.quantum_info.Statevector.from_instruction(qc))"
   ]
  },
  {
   "cell_type": "code",
   "execution_count": 106,
   "metadata": {},
   "outputs": [
    {
     "name": "stdout",
     "output_type": "stream",
     "text": [
      "W_chain:  0\n",
      "[[0.25+0.j 0.  +0.j 0.  +0.j]\n",
      " [0.  +0.j 0.25+0.j 0.  +0.j]\n",
      " [0.  +0.j 0.  +0.j 0.25+0.j]]\n",
      "[[0.+0.j 0.+0.j 0.+0.j]\n",
      " [0.+0.j 0.+0.j 0.+0.j]\n",
      " [0.+0.j 0.+0.j 0.+0.j]]\n",
      "[[0.25+0.j 0.  +0.j 0.  +0.j]\n",
      " [0.  +0.j 0.25+0.j 0.  +0.j]\n",
      " [0.  +0.j 0.  +0.j 0.25+0.j]]\n",
      "[[ 1.77018355e-01+0.j -2.77555756e-17+0.j -5.55111512e-17+0.j]\n",
      " [-2.77555756e-17+0.j  1.77018355e-01+0.j -5.55111512e-17+0.j]\n",
      " [-5.55111512e-17+0.j -5.55111512e-17+0.j  1.77018355e-01+0.j]]\n",
      "0j\n"
     ]
    }
   ],
   "source": [
    "num_qubits = 3\n",
    "num_layers = 1\n",
    "thetas = np.ones(num_layers*num_qubits*4)\n",
    "psi = 2*np.random.rand(2**num_qubits)-1\n",
    "psi = psi / np.linalg.norm(psi)\n",
    "encoder = qtm.encoding.Encoding(psi, 'amplitude_encoding')\n",
    "\n",
    "\n",
    "loss_values = []\n",
    "thetass = []\n",
    "\n",
    "# qc = encoder.qcircuit\n",
    "# qc = qtm.nqubit.create_Wchainchecker_haar(qc, thetas, num_layers)\n",
    "\n",
    "for i in range(0, 1):\n",
    "    if i % 20 == 0:\n",
    "        print('W_chain: ', i)\n",
    "    qc = qiskit.QuantumCircuit(num_qubits, num_qubits)\n",
    "    G = qtm.fubini_study.calculate_Wchain_state(qc, thetas, num_layers)\n",
    "    print(np.linalg.det(G))\n",
    "    qc = encoder.qcircuit\n",
    "    grad_loss = qtm.base.grad_loss(\n",
    "        qc, \n",
    "        qtm.nqubit.create_Wchainchecker_haar,\n",
    "        thetas, r = 1/2, s = np.pi/2, num_layers = num_layers)\n",
    "    \n",
    "    thetas = np.real(thetas - qtm.constant.learning_rate*(np.linalg.pinv(G) @ grad_loss))\n",
    "    thetass.append(thetas.copy())\n",
    "    qc_copy = qtm.nqubit.create_Wchainchecker_haar(qc.copy(), thetas, num_layers)  \n",
    "    loss = qtm.base.loss_basis(qtm.base.measure(qc_copy, list(range(qc_copy.num_qubits))))\n",
    "    loss_values.append(loss)\n"
   ]
  },
  {
   "cell_type": "code",
   "execution_count": 87,
   "metadata": {},
   "outputs": [
    {
     "name": "stdout",
     "output_type": "stream",
     "text": [
      "Writting ... 3\n"
     ]
    }
   ],
   "source": [
    "traces = []\n",
    "fidelities = []\n",
    "\n",
    "for thetas in thetass:\n",
    "    # Get |psi> = U_gen|000...>\n",
    "    qc1 = encoder.qcircuit\n",
    "    psi = qiskit.quantum_info.Statevector.from_instruction(qc1)\n",
    "    # Get |psi~> = U_target|000...>\n",
    "    qc = qiskit.QuantumCircuit(num_qubits, num_qubits)\n",
    "    qc = qtm.nqubit.create_Wchain_layerd_state(qc, thetas, num_layers = num_layers).inverse()\n",
    "    psi_hat = qiskit.quantum_info.Statevector.from_instruction(qc)\n",
    "    # Calculate the metrics\n",
    "    trace, fidelity = qtm.base.get_metrics(psi, psi_hat)\n",
    "    traces.append(trace)\n",
    "    fidelities.append(fidelity)\n",
    "print('Writting ... ' + str(num_qubits))\n",
    "\n",
    "np.savetxt(\"../../experiments/tomography_wchain_\" + str(num_layers) + '/' + str(num_qubits) + \"/loss_values_qng.csv\", loss_values, delimiter=\",\")\n",
    "np.savetxt(\"../../experiments/tomography_wchain_\" + str(num_layers) + '/' + str(num_qubits) + \"/thetass_qng.csv\", thetass, delimiter=\",\")\n",
    "np.savetxt(\"../../experiments/tomography_wchain_\" + str(num_layers) + '/' + str(num_qubits) + \"/traces_qng.csv\", traces, delimiter=\",\")\n",
    "np.savetxt(\"../../experiments/tomography_wchain_\" + str(num_layers) + '/' + str(num_qubits) + \"/fidelities_qng.csv\", fidelities, delimiter=\",\")"
   ]
  },
  {
   "cell_type": "code",
   "execution_count": 88,
   "metadata": {},
   "outputs": [
    {
     "data": {
      "image/png": "[encoded data removed]",
      "text/plain": [
       "<Figure size 432x288 with 1 Axes>"
      ]
     },
     "metadata": {
      "needs_background": "light"
     },
     "output_type": "display_data"
    }
   ],
   "source": [
    "from matplotlib import pyplot as plt\n",
    "# plt.plot(fidelities, label='Fidelity', linestyle = '-')\n",
    "# plt.plot(traces, label='Trace', linestyle = '-.')\n",
    "plt.plot(loss_values, label='Loss', linestyle = '--')\n",
    "plt.title('W chain')\n",
    "plt.legend()\n",
    "plt.xlabel(\"Iteration\")\n",
    "plt.ylabel(\"Loss value\")\n",
    "plt.show() "
   ]
  },
  {
   "cell_type": "markdown",
   "metadata": {},
   "source": [
    "### 2. W alternating"
   ]
  },
  {
   "cell_type": "code",
   "execution_count": 113,
   "metadata": {},
   "outputs": [
    {
     "name": "stdout",
     "output_type": "stream",
     "text": [
      "1\n",
      "3\n"
     ]
    },
    {
     "data": {
      "image/png": "[encoded data removed]",
      "text/plain": [
       "<Figure size 748.797x204.68 with 1 Axes>"
      ]
     },
     "execution_count": 113,
     "metadata": {},
     "output_type": "execute_result"
    }
   ],
   "source": [
    "num_qubits = 3\n",
    "num_layers = 2\n",
    "n_alternating = 0\n",
    "for i in range(0, num_layers):\n",
    "    n_alternating += qtm.nqubit.calculate_n_walternating(i, num_qubits)\n",
    "    print(n_alternating)\n",
    "thetas = np.ones(n_alternating + 3 * num_layers * num_qubits)\n",
    "\n",
    "for i in range(0, len(thetas)):\n",
    "    thetas[i] += i\n",
    "\n",
    "psi = 2 * np.random.rand(2**num_qubits) - 1\n",
    "psi = psi / np.linalg.norm(psi)\n",
    "encoder = qtm.encoding.Encoding(psi, 'amplitude_encoding')\n",
    "qc = qiskit.QuantumCircuit(num_qubits)\n",
    "qc = qtm.nqubit.create_Walternating_layerd_state(qc,\n",
    "                                                 thetas,\n",
    "                                                 num_layers=num_layers)\n",
    "qc.draw('mpl')\n"
   ]
  },
  {
   "cell_type": "code",
   "execution_count": 26,
   "metadata": {},
   "outputs": [
    {
     "name": "stdout",
     "output_type": "stream",
     "text": [
      "W_alternating:  0\n",
      "[ 1.  2.  3.  4.  5.  6.  7.  8.  9. 10.]\n",
      "[ 0.98412     2.          3.          4.          4.92508     5.99312\n",
      "  7.00456     7.99756723  9.00222291 10.00097829]\n",
      "[ 0.96052     2.          3.          4.          4.83664     5.98896\n",
      "  7.01124     8.0029696   8.99929397 10.00223885]\n",
      "[ 0.9306      2.          3.          4.          4.73004     5.985\n",
      "  7.02332     7.98776111  8.99812554 10.00183354]\n",
      "[0.89048    2.         3.         4.         4.60068    5.98372\n",
      " 7.03784    7.63455069 8.99533582 9.99941376]\n",
      "[0.83704    2.         3.         4.         4.44768    5.988\n",
      " 7.06092    7.60032823 8.99445483 9.99716527]\n",
      "[0.77192    2.         3.         4.         4.2668     5.9976\n",
      " 7.08908    7.59468242 8.99574565 9.99332437]\n",
      "[0.69356    2.         3.         4.         4.05616    6.01196\n",
      " 7.12952    7.59369068 8.98862887 9.99176175]\n",
      "[0.60228    2.         3.         4.         3.82008    6.03588\n",
      " 7.18144    7.589283   8.99148065 9.98705214]\n",
      "[0.50744    2.         3.         4.         3.57076    6.07056\n",
      " 7.25008    7.5889898  8.9989364  9.98726269]\n",
      "[0.40856    2.         3.         4.         3.32644    6.1124\n",
      " 7.32704    7.58759285 8.9989364  9.98657613]\n",
      "[0.31748    2.         3.         4.         3.0948     6.1546\n",
      " 7.40668    7.56737225 9.03280354 9.98948707]\n",
      "[0.2438     2.         3.         4.         2.90152    6.19364\n",
      " 7.47256    7.53988925 9.11071177 9.98251727]\n",
      "[0.18712    2.         3.         4.         2.74964    6.23364\n",
      " 7.53628    7.54645096 9.13970457 9.98151194]\n",
      "[0.14304    2.         3.         4.         2.63144    6.25892\n",
      " 7.58308    7.53481622 9.15196592 9.99400325]\n",
      "[0.10924    2.         3.         4.         2.54468    6.2828\n",
      " 7.61096    7.53140194 8.20014023 9.989942  ]\n",
      "[ 9.06400000e-02  2.00000000e+00  3.00000000e+00  4.00000000e+00\n",
      "  2.48840000e+00  6.29200000e+00  7.63648000e+00  7.53191090e+00\n",
      " -8.68091583e+03  9.98315959e+00]\n",
      "[ 7.57600000e-02  2.00000000e+00  3.00000000e+00  4.00000000e+00\n",
      "  2.44824000e+00  6.30416000e+00  7.65284000e+00  7.53045121e+00\n",
      " -8.67705436e+03  9.98045672e+00]\n",
      "[ 5.76800000e-02  2.00000000e+00  3.00000000e+00  4.00000000e+00\n",
      "  2.41656000e+00  6.30712000e+00  7.66868000e+00  7.52817493e+00\n",
      " -8.67705436e+03  9.96975792e+00]\n",
      "[ 5.08400000e-02  2.00000000e+00  3.00000000e+00  4.00000000e+00\n",
      "  2.39020000e+00  6.31600000e+00  7.68168000e+00  7.53377618e+00\n",
      " -8.67712424e+03  1.00020817e+01]\n",
      "W_alternating:  20\n",
      "[ 3.80000000e-02  2.00000000e+00  3.00000000e+00  4.00000000e+00\n",
      "  2.36948000e+00  6.31920000e+00  7.68832000e+00  7.53028004e+00\n",
      " -8.67806355e+03  1.00164520e+01]\n",
      "[ 3.62800000e-02  2.00000000e+00  3.00000000e+00  4.00000000e+00\n",
      "  2.36060000e+00  6.31936000e+00  7.69428000e+00  7.53060026e+00\n",
      " -8.67688192e+03  1.00379987e+01]\n",
      "[ 2.85200000e-02  2.00000000e+00  3.00000000e+00  4.00000000e+00\n",
      "  2.35472000e+00  6.31992000e+00  7.69788000e+00  7.53308045e+00\n",
      " -8.67682068e+03  1.00578778e+01]\n",
      "[ 2.48800000e-02  2.00000000e+00  3.00000000e+00  4.00000000e+00\n",
      "  2.35736000e+00  6.32120000e+00  7.69852000e+00  7.53408046e+00\n",
      " -8.67656084e+03  1.00133603e+01]\n",
      "[ 2.75600000e-02  2.00000000e+00  3.00000000e+00  4.00000000e+00\n",
      "  2.35044000e+00  6.32168000e+00  7.69960000e+00  7.53208045e+00\n",
      " -8.67682430e+03  1.00334462e+01]\n",
      "[ 2.52400000e-02  2.00000000e+00  3.00000000e+00  4.00000000e+00\n",
      "  2.34692000e+00  6.32592000e+00  7.70148000e+00  7.53364066e+00\n",
      " -8.67737200e+03  9.97193666e+00]\n",
      "[ 3.07600000e-02  2.00000000e+00  3.00000000e+00  4.00000000e+00\n",
      "  2.34296000e+00  6.32204000e+00  7.70336000e+00  7.53312048e+00\n",
      " -8.67710853e+03  9.98080802e+00]\n",
      "[ 3.36800000e-02  2.00000000e+00  3.00000000e+00  4.00000000e+00\n",
      "  2.34464000e+00  6.32308000e+00  7.70096000e+00  7.53344070e+00\n",
      " -8.67696251e+03  9.94627648e+00]\n",
      "[ 2.92800000e-02  2.00000000e+00  3.00000000e+00  4.00000000e+00\n",
      "  2.34400000e+00  6.32472000e+00  7.69968000e+00  7.53284038e+00\n",
      " -8.67737807e+03  9.96698714e+00]\n",
      "[ 2.95600000e-02  2.00000000e+00  3.00000000e+00  4.00000000e+00\n",
      "  2.34260000e+00  6.32380000e+00  7.70228000e+00  7.52571615e+00\n",
      " -8.67714567e+03  9.98823356e+00]\n",
      "[ 2.94400000e-02  2.00000000e+00  3.00000000e+00  4.00000000e+00\n",
      "  2.33932000e+00  6.32400000e+00  7.70148000e+00  7.52771763e+00\n",
      " -8.67694517e+03  9.98061565e+00]\n",
      "[ 2.94000000e-02  2.00000000e+00  3.00000000e+00  4.00000000e+00\n",
      "  2.33792000e+00  6.32740000e+00  7.70264000e+00  7.52787781e+00\n",
      " -8.67651802e+03  1.00422716e+01]\n",
      "[ 3.01200000e-02  2.00000000e+00  3.00000000e+00  4.00000000e+00\n",
      "  2.33764000e+00  6.32456000e+00  7.70208000e+00  7.52811813e+00\n",
      " -8.67674880e+03  1.00116593e+01]\n",
      "[ 2.94000000e-02  2.00000000e+00  3.00000000e+00  4.00000000e+00\n",
      "  2.33972000e+00  6.32272000e+00  7.70000000e+00  7.52539438e+00\n",
      " -8.67630383e+03  9.99601537e+00]\n",
      "[ 2.81600000e-02  2.00000000e+00  3.00000000e+00  4.00000000e+00\n",
      "  2.33768000e+00  6.32464000e+00  7.70420000e+00  7.52575477e+00\n",
      " -8.67668210e+03  9.99775676e+00]\n",
      "[ 2.93600000e-02  2.00000000e+00  3.00000000e+00  4.00000000e+00\n",
      "  2.33968000e+00  6.32268000e+00  7.70340000e+00  7.52447302e+00\n",
      " -8.67657128e+03  1.00124549e+01]\n",
      "[ 2.84000000e-02  2.00000000e+00  3.00000000e+00  4.00000000e+00\n",
      "  2.33668000e+00  6.32092000e+00  7.69928000e+00  7.52447302e+00\n",
      " -8.67623722e+03  1.00051814e+01]\n",
      "[ 2.53200000e-02  2.00000000e+00  3.00000000e+00  4.00000000e+00\n",
      "  2.33800000e+00  6.32464000e+00  7.69612000e+00  7.52259015e+00\n",
      " -8.67676494e+03  1.00094957e+01]\n",
      "[ 2.65200000e-02  2.00000000e+00  3.00000000e+00  4.00000000e+00\n",
      "  2.33976000e+00  6.32388000e+00  7.69912000e+00  7.52319094e+00\n",
      " -8.67639750e+03  1.00489096e+01]\n",
      "[ 2.50000000e-02  2.00000000e+00  3.00000000e+00  4.00000000e+00\n",
      "  2.34540000e+00  6.32620000e+00  7.70184000e+00  7.52279051e+00\n",
      " -8.67619174e+03  1.00278116e+01]\n",
      "W_alternating:  40\n",
      "[ 2.81200000e-02  2.00000000e+00  3.00000000e+00  4.00000000e+00\n",
      "  2.34088000e+00  6.32696000e+00  7.69768000e+00  7.51982913e+00\n",
      " -8.67628926e+03  1.00313764e+01]\n",
      "[ 2.74800000e-02  2.00000000e+00  3.00000000e+00  4.00000000e+00\n",
      "  2.34080000e+00  6.32744000e+00  7.70028000e+00  7.52167086e+00\n",
      " -8.67632588e+03  1.00263013e+01]\n",
      "[ 3.00800000e-02  2.00000000e+00  3.00000000e+00  4.00000000e+00\n",
      "  2.34572000e+00  6.32788000e+00  7.69984000e+00  7.52147067e+00\n",
      " -8.67622350e+03  1.00289226e+01]\n",
      "[ 2.69200000e-02  2.00000000e+00  3.00000000e+00  4.00000000e+00\n",
      "  2.34332000e+00  6.32608000e+00  7.70116000e+00  7.52587260e+00\n",
      " -8.67586210e+03  1.00323984e+01]\n",
      "[ 2.68400000e-02  2.00000000e+00  3.00000000e+00  4.00000000e+00\n",
      "  2.34388000e+00  6.32352000e+00  7.70488000e+00  7.53171647e+00\n",
      " -8.67569321e+03  1.00063340e+01]\n",
      "[ 2.53600000e-02  2.00000000e+00  3.00000000e+00  4.00000000e+00\n",
      "  2.34472000e+00  6.32208000e+00  7.70476000e+00  7.53351757e+00\n",
      " -8.67571785e+03  1.00188455e+01]\n",
      "[ 1.96400000e-02  2.00000000e+00  3.00000000e+00  4.00000000e+00\n",
      "  2.34424000e+00  6.32460000e+00  7.70568000e+00  7.53283721e+00\n",
      " -8.67506873e+03  9.99941347e+00]\n",
      "[ 1.94000000e-02  2.00000000e+00  3.00000000e+00  4.00000000e+00\n",
      "  2.34240000e+00  6.32248000e+00  7.70016000e+00  7.53395785e+00\n",
      " -8.67479408e+03  9.97974682e+00]\n",
      "[ 1.99600000e-02  2.00000000e+00  3.00000000e+00  4.00000000e+00\n",
      "  2.33644000e+00  6.32096000e+00  7.70492000e+00  7.53563913e+00\n",
      " -8.67459939e+03  1.00019943e+01]\n",
      "[ 2.02400000e-02  2.00000000e+00  3.00000000e+00  4.00000000e+00\n",
      "  2.33616000e+00  6.32032000e+00  7.71232000e+00  7.54369169e+00\n",
      " -8.67429045e+03  1.00339848e+01]\n",
      "[ 1.68800000e-02  2.00000000e+00  3.00000000e+00  4.00000000e+00\n",
      "  2.34384000e+00  6.32320000e+00  7.70980000e+00  7.54481349e+00\n",
      " -8.67428318e+03  1.00334730e+01]\n",
      "[ 1.49600000e-02  2.00000000e+00  3.00000000e+00  4.00000000e+00\n",
      "  2.34480000e+00  6.32148000e+00  7.70524000e+00  7.54765523e+00\n",
      " -8.67473381e+03  1.00354514e+01]\n",
      "[ 1.86800000e-02  2.00000000e+00  3.00000000e+00  4.00000000e+00\n",
      "  2.34524000e+00  6.32020000e+00  7.70804000e+00  7.54765523e+00\n",
      " -8.67490462e+03  1.00536086e+01]\n",
      "[ 2.08800000e-02  2.00000000e+00  3.00000000e+00  4.00000000e+00\n",
      "  2.34552000e+00  6.32164000e+00  7.71008000e+00  7.54941607e+00\n",
      " -8.67464870e+03  1.00342857e+01]\n",
      "[ 2.2640000e-02  2.0000000e+00  3.0000000e+00  4.0000000e+00\n",
      "  2.3448800e+00  6.3219600e+00  7.7098000e+00  7.5450941e+00\n",
      " -8.6742286e+03  1.0030314e+01]\n",
      "[ 3.05600000e-02  2.00000000e+00  3.00000000e+00  4.00000000e+00\n",
      "  2.34456000e+00  6.32664000e+00  7.70476000e+00  7.54225265e+00\n",
      " -8.67392869e+03  1.00515817e+01]\n",
      "[ 2.88400000e-02  2.00000000e+00  3.00000000e+00  4.00000000e+00\n",
      "  2.34348000e+00  6.32452000e+00  7.70524000e+00  7.54225265e+00\n",
      " -8.67367917e+03  1.00400150e+01]\n",
      "[ 2.89600000e-02  2.00000000e+00  3.00000000e+00  4.00000000e+00\n",
      "  2.34060000e+00  6.32060000e+00  7.70380000e+00  7.54485433e+00\n",
      " -8.67350318e+03  1.00190644e+01]\n",
      "[ 3.24400000e-02  2.00000000e+00  3.00000000e+00  4.00000000e+00\n",
      "  2.33628000e+00  6.32212000e+00  7.69912000e+00  7.54229184e+00\n",
      " -8.67371073e+03  9.99895868e+00]\n",
      "[ 3.30400000e-02  2.00000000e+00  3.00000000e+00  4.00000000e+00\n",
      "  2.33532000e+00  6.33188000e+00  7.70280000e+00  7.54661870e+00\n",
      " -8.67445766e+03  1.00385711e+01]\n",
      "W_alternating:  60\n",
      "[ 2.97200000e-02  2.00000000e+00  3.00000000e+00  4.00000000e+00\n",
      "  2.33596000e+00  6.33172000e+00  7.70552000e+00  7.54405423e+00\n",
      " -8.67445766e+03  1.00223314e+01]\n",
      "[ 2.47200000e-02  2.00000000e+00  3.00000000e+00  4.00000000e+00\n",
      "  2.33868000e+00  6.32704000e+00  7.70824000e+00  7.54377377e+00\n",
      " -8.67400626e+03  1.00162568e+01]\n",
      "[ 2.95600000e-02  2.00000000e+00  3.00000000e+00  4.00000000e+00\n",
      "  2.34576000e+00  6.32716000e+00  7.70852000e+00  7.54465485e+00\n",
      " -8.67430340e+03  1.00395060e+01]\n",
      "[ 3.25200000e-02  2.00000000e+00  3.00000000e+00  4.00000000e+00\n",
      "  2.34752000e+00  6.31896000e+00  7.70564000e+00  7.54161353e+00\n",
      " -8.67435006e+03  1.00322134e+01]\n",
      "[ 3.58000000e-02  2.00000000e+00  3.00000000e+00  4.00000000e+00\n",
      "  2.34276000e+00  6.32308000e+00  7.70476000e+00  7.54417430e+00\n",
      " -8.67376304e+03  9.99804882e+00]\n",
      "[ 3.13600000e-02  2.00000000e+00  3.00000000e+00  4.00000000e+00\n",
      "  2.34004000e+00  6.32576000e+00  7.70700000e+00  7.54233297e+00\n",
      " -8.67419749e+03  1.00457036e+01]\n",
      "[ 2.99200000e-02  2.00000000e+00  3.00000000e+00  4.00000000e+00\n",
      "  2.34372000e+00  6.32472000e+00  7.70276000e+00  7.54153213e+00\n",
      " -8.67387674e+03  1.00395097e+01]\n",
      "[ 3.46800000e-02  2.00000000e+00  3.00000000e+00  4.00000000e+00\n",
      "  2.34064000e+00  6.32364000e+00  7.69912000e+00  7.54569472e+00\n",
      " -8.67381283e+03  1.00426658e+01]\n",
      "[ 3.41600000e-02  2.00000000e+00  3.00000000e+00  4.00000000e+00\n",
      "  2.33696000e+00  6.32092000e+00  7.70160000e+00  7.54745643e+00\n",
      " -8.67413738e+03  1.00224290e+01]\n",
      "[ 3.24800000e-02  2.00000000e+00  3.00000000e+00  4.00000000e+00\n",
      "  2.33648000e+00  6.32240000e+00  7.70104000e+00  7.54373092e+00\n",
      " -8.67437661e+03  9.99088760e+00]\n",
      "[ 3.34800000e-02  2.00000000e+00  3.00000000e+00  4.00000000e+00\n",
      "  2.34004000e+00  6.31892000e+00  7.69952000e+00  7.54389117e+00\n",
      " -8.67459165e+03  1.00513181e+01]\n",
      "[ 3.27600000e-02  2.00000000e+00  3.00000000e+00  4.00000000e+00\n",
      "  2.33928000e+00  6.32108000e+00  7.70540000e+00  7.53700398e+00\n",
      " -8.67429356e+03  1.00487217e+01]\n",
      "[ 3.32000000e-02  2.00000000e+00  3.00000000e+00  4.00000000e+00\n",
      "  2.34168000e+00  6.32228000e+00  7.70436000e+00  7.53772480e+00\n",
      " -8.67448194e+03  1.00099987e+01]\n",
      "[ 3.11200000e-02  2.00000000e+00  3.00000000e+00  4.00000000e+00\n",
      "  2.34664000e+00  6.32092000e+00  7.70104000e+00  7.53424187e+00\n",
      " -8.67450817e+03  9.99158790e+00]\n",
      "[ 3.12800000e-02  2.00000000e+00  3.00000000e+00  4.00000000e+00\n",
      "  2.34100000e+00  6.31980000e+00  7.70096000e+00  7.53556235e+00\n",
      " -8.67485998e+03  9.98056043e+00]\n",
      "[ 3.49600000e-02  2.00000000e+00  3.00000000e+00  4.00000000e+00\n",
      "  2.33924000e+00  6.32464000e+00  7.69588000e+00  7.53263965e+00\n",
      " -8.67431449e+03  9.98144173e+00]\n",
      "[ 3.38000000e-02  2.00000000e+00  3.00000000e+00  4.00000000e+00\n",
      "  2.34088000e+00  6.31684000e+00  7.69600000e+00  7.52979639e+00\n",
      " -8.67464694e+03  9.99922938e+00]\n",
      "[ 3.39600000e-02  2.00000000e+00  3.00000000e+00  4.00000000e+00\n",
      "  2.34432000e+00  6.31352000e+00  7.69704000e+00  7.53331969e+00\n",
      " -8.67469115e+03  9.99301527e+00]\n",
      "[ 2.92800000e-02  2.00000000e+00  3.00000000e+00  4.00000000e+00\n",
      "  2.34288000e+00  6.31324000e+00  7.69596000e+00  7.53748204e+00\n",
      " -8.67474555e+03  1.00047640e+01]\n",
      "[ 3.26800000e-02  2.00000000e+00  3.00000000e+00  4.00000000e+00\n",
      "  2.34400000e+00  6.32280000e+00  7.69912000e+00  7.53872292e+00\n",
      " -8.67615322e+03  9.98613081e+00]\n",
      "W_alternating:  80\n",
      "[ 2.76400000e-02  2.00000000e+00  3.00000000e+00  4.00000000e+00\n",
      "  2.34276000e+00  6.32464000e+00  7.70188000e+00  7.54168468e+00\n",
      " -8.67538058e+03  1.00205764e+01]\n",
      "[ 2.89200000e-02  2.00000000e+00  3.00000000e+00  4.00000000e+00\n",
      "  2.34228000e+00  6.32800000e+00  7.70068000e+00  7.54460679e+00\n",
      " -8.67531059e+03  9.99293492e+00]\n",
      "[ 2.83600000e-02  2.00000000e+00  3.00000000e+00  4.00000000e+00\n",
      "  2.34640000e+00  6.32748000e+00  7.70096000e+00  7.54680849e+00\n",
      " -8.67521074e+03  9.96966290e+00]\n",
      "[ 2.88800000e-02  2.00000000e+00  3.00000000e+00  4.00000000e+00\n",
      "  2.34352000e+00  6.32596000e+00  7.70632000e+00  7.54844912e+00\n",
      " -8.67490413e+03  9.95820595e+00]\n",
      "[ 3.12800000e-02  2.00000000e+00  3.00000000e+00  4.00000000e+00\n",
      "  2.34412000e+00  6.32616000e+00  7.70772000e+00  7.54628773e+00\n",
      " -8.67499727e+03  9.95206733e+00]\n",
      "[ 3.24800000e-02  2.00000000e+00  3.00000000e+00  4.00000000e+00\n",
      "  2.34156000e+00  6.32732000e+00  7.70704000e+00  7.54056440e+00\n",
      " -8.67538266e+03  9.97034605e+00]\n",
      "[ 3.09600000e-02  2.00000000e+00  3.00000000e+00  4.00000000e+00\n",
      "  2.34020000e+00  6.32252000e+00  7.70216000e+00  7.53928330e+00\n",
      " -8.67533633e+03  9.94889434e+00]\n",
      "[ 3.30800000e-02  2.00000000e+00  3.00000000e+00  4.00000000e+00\n",
      "  2.33592000e+00  6.32344000e+00  7.70252000e+00  7.53892293e+00\n",
      " -8.67461744e+03  9.95918513e+00]\n",
      "[ 3.38800000e-02  2.00000000e+00  3.00000000e+00  4.00000000e+00\n",
      "  2.33580000e+00  6.32604000e+00  7.70184000e+00  7.54044543e+00\n",
      " -8.67489574e+03  1.00153713e+01]\n",
      "[ 3.30400000e-02  2.00000000e+00  3.00000000e+00  4.00000000e+00\n",
      "  2.33652000e+00  6.32508000e+00  7.70256000e+00  7.53896297e+00\n",
      " -8.67510316e+03  1.00799839e+01]\n",
      "[ 3.32800000e-02  2.00000000e+00  3.00000000e+00  4.00000000e+00\n",
      "  2.33944000e+00  6.32172000e+00  7.70780000e+00  7.53611857e+00\n",
      " -8.67511458e+03  1.00579476e+01]\n",
      "[ 3.10800000e-02  2.00000000e+00  3.00000000e+00  4.00000000e+00\n",
      "  2.33588000e+00  6.31904000e+00  7.70520000e+00  7.53659910e+00\n",
      " -8.67554643e+03  1.00391679e+01]\n",
      "[ 3.24400000e-02  2.00000000e+00  3.00000000e+00  4.00000000e+00\n",
      "  2.34076000e+00  6.31884000e+00  7.69788000e+00  7.53559745e+00\n",
      " -8.67581916e+03  1.00796513e+01]\n",
      "[ 3.14800000e-02  2.00000000e+00  3.00000000e+00  4.00000000e+00\n",
      "  2.33836000e+00  6.32208000e+00  7.69848000e+00  7.53383577e+00\n",
      " -8.67481845e+03  1.00571806e+01]\n",
      "[ 3.33600000e-02  2.00000000e+00  3.00000000e+00  4.00000000e+00\n",
      "  2.33440000e+00  6.32180000e+00  7.69496000e+00  7.53451664e+00\n",
      " -8.67432168e+03  9.97687688e+00]\n",
      "[ 3.18800000e-02  2.00000000e+00  3.00000000e+00  4.00000000e+00\n",
      "  2.33280000e+00  6.31852000e+00  7.69620000e+00  7.53792311e+00\n",
      " -8.67424776e+03  1.00010111e+01]\n",
      "[ 3.43200000e-02  2.00000000e+00  3.00000000e+00  4.00000000e+00\n",
      "  2.33640000e+00  6.31680000e+00  7.69820000e+00  7.53680065e+00\n",
      " -8.67398301e+03  1.00109780e+01]\n",
      "[ 3.43600000e-02  2.00000000e+00  3.00000000e+00  4.00000000e+00\n",
      "  2.33364000e+00  6.31736000e+00  7.69624000e+00  7.53820285e+00\n",
      " -8.67385893e+03  1.00131063e+01]\n",
      "[ 3.70800000e-02  2.00000000e+00  3.00000000e+00  4.00000000e+00\n",
      "  2.33668000e+00  6.31760000e+00  7.69532000e+00  7.53984619e+00\n",
      " -8.67376459e+03  1.00218317e+01]\n",
      "[ 3.67200000e-02  2.00000000e+00  3.00000000e+00  4.00000000e+00\n",
      "  2.33928000e+00  6.31992000e+00  7.69720000e+00  7.53844406e+00\n",
      " -8.67365466e+03  1.00333355e+01]\n"
     ]
    }
   ],
   "source": [
    "num_qubits = 3\n",
    "num_layers = 1\n",
    "n_alternating = 0\n",
    "for i in range(0, num_layers):\n",
    "    n_alternating += qtm.nqubit.calculate_n_walternating(i, num_qubits)\n",
    "thetas = np.ones(n_alternating + 3 * num_layers * num_qubits)\n",
    "\n",
    "for i in range(0, len(thetas)):\n",
    "    thetas[i] += i\n",
    "\n",
    "psi = 2 * np.random.rand(2**num_qubits) - 1\n",
    "psi = psi / np.linalg.norm(psi)\n",
    "encoder = qtm.encoding.Encoding(psi, 'amplitude_encoding')\n",
    "\n",
    "\n",
    "loss_values = []\n",
    "thetass = []\n",
    "for i in range(0, 100):\n",
    "    if i % 20 == 0:\n",
    "        print('W_alternating: ', i)\n",
    "    qc = qiskit.QuantumCircuit(num_qubits, num_qubits)\n",
    "    G = qtm.fubini_study.calculate_Walternating_state(qc, thetas, num_layers)\n",
    "    qc = encoder.qcircuit\n",
    "    grad_loss = qtm.base.grad_loss(\n",
    "        qc, \n",
    "        qtm.nqubit.create_Walternatingchecker_haar,\n",
    "        thetas, r = 1/2, s = np.pi/2, num_layers = num_layers)\n",
    "    thetas = np.real(thetas - qtm.constant.learning_rate*(np.linalg.pinv(G) @ grad_loss)) \n",
    "    thetass.append(thetas.copy())\n",
    "    qc_copy = qtm.nqubit.create_Walternatingchecker_haar(qc.copy(), thetas, num_layers)  \n",
    "    loss = qtm.base.loss_basis(qtm.base.measure(qc_copy, list(range(qc_copy.num_qubits))))\n",
    "    loss_values.append(loss)\n"
   ]
  },
  {
   "cell_type": "code",
   "execution_count": 27,
   "metadata": {},
   "outputs": [
    {
     "name": "stdout",
     "output_type": "stream",
     "text": [
      "Writting ... 3\n"
     ]
    }
   ],
   "source": [
    "traces = []\n",
    "fidelities = []\n",
    "\n",
    "for thetas in thetass:\n",
    "    # Get |psi> = U_gen|000...>\n",
    "    qc1 = encoder.qcircuit\n",
    "    psi = qiskit.quantum_info.Statevector.from_instruction(qc1)\n",
    "    # Get |psi~> = U_target|000...>\n",
    "    qc = qiskit.QuantumCircuit(num_qubits, num_qubits)\n",
    "    qc = qtm.nqubit.create_Walternating_layerd_state(qc, thetas, num_layers = num_layers).inverse()\n",
    "    psi_hat = qiskit.quantum_info.Statevector.from_instruction(qc)\n",
    "    # Calculate the metrics\n",
    "    trace, fidelity = qtm.base.get_metrics(psi, psi_hat)\n",
    "    traces.append(trace)\n",
    "    fidelities.append(fidelity)\n",
    "print('Writting ... ' + str(num_qubits))\n",
    "\n",
    "np.savetxt(\"../../experiments/tomography_walternating_\" + str(num_layers) + '/' + str(num_qubits) + \"/loss_values_qng.csv\", loss_values, delimiter=\",\")\n",
    "np.savetxt(\"../../experiments/tomography_walternating_\" + str(num_layers) + '/' + str(num_qubits) + \"/thetass_qng.csv\", thetass, delimiter=\",\")\n",
    "np.savetxt(\"../../experiments/tomography_walternating_\" + str(num_layers) + '/' + str(num_qubits) + \"/traces_qng.csv\", traces, delimiter=\",\")\n",
    "np.savetxt(\"../../experiments/tomography_walternating_\" + str(num_layers) + '/' + str(num_qubits) + \"/fidelities_qng.csv\", fidelities, delimiter=\",\")"
   ]
  },
  {
   "cell_type": "code",
   "execution_count": 28,
   "metadata": {},
   "outputs": [
    {
     "data": {
      "image/png": "[encoded data removed]",
      "text/plain": [
       "<Figure size 432x288 with 1 Axes>"
      ]
     },
     "metadata": {
      "needs_background": "light"
     },
     "output_type": "display_data"
    }
   ],
   "source": [
    "from matplotlib import pyplot as plt\n",
    "# plt.plot(fidelities, label='Fidelity', linestyle = '-')\n",
    "# plt.plot(traces, label='Trace', linestyle = '-.')\n",
    "plt.plot(loss_values, label='Loss', linestyle = '--')\n",
    "plt.title('W alternating')\n",
    "plt.legend()\n",
    "plt.xlabel(\"Iteration\")\n",
    "plt.ylabel(\"Loss value\")\n",
    "plt.show() \n"
   ]
  },
  {
   "cell_type": "markdown",
   "metadata": {},
   "source": [
    "### 3. W all to all"
   ]
  },
  {
   "cell_type": "code",
   "execution_count": 25,
   "metadata": {},
   "outputs": [
    {
     "name": "stdout",
     "output_type": "stream",
     "text": [
      "6\n",
      "[ 1.  2.  3.  4.  5.  6.  7.  8.  9. 10. 11. 12. 13. 14. 15. 16. 17. 18.]\n",
      "[19. 20. 21. 22. 23. 24. 25. 26. 27. 28. 29. 30. 31. 32. 33. 34. 35. 36.]\n"
     ]
    },
    {
     "data": {
      "image/png": "[encoded data removed]",
      "text/plain": [
       "<Figure size 1591.6x565.88 with 1 Axes>"
      ]
     },
     "execution_count": 25,
     "metadata": {},
     "output_type": "execute_result"
    }
   ],
   "source": [
    "num_qubits = 4\n",
    "num_layers = 2\n",
    "n_walltoall = qtm.nqubit.calculate_n_walltoall(num_qubits)\n",
    "print(n_walltoall)\n",
    "thetas = np.ones(num_layers * 3 * num_qubits + num_layers * n_walltoall)\n",
    "for i in range(0, len(thetas)):\n",
    "    thetas[i] += i\n",
    "psi = 2 * np.random.rand(2**num_qubits) - 1\n",
    "psi = psi / np.linalg.norm(psi)\n",
    "encoder = qtm.encoding.Encoding(psi, 'amplitude_encoding')\n",
    "qc = qiskit.QuantumCircuit(num_qubits)\n",
    "qc = qtm.nqubit.create_Walltoall_layerd_state(qc,\n",
    "                                              thetas,\n",
    "                                              num_layers=num_layers)\n",
    "qc.draw('mpl')"
   ]
  },
  {
   "cell_type": "code",
   "execution_count": null,
   "metadata": {},
   "outputs": [],
   "source": [
    "num_qubits = 3\n",
    "num_layers = 1\n",
    "n_walltoall = qtm.nqubit.calculate_n_walltoall(num_qubits)\n",
    "thetas = np.ones(num_layers* 3 * num_qubits + num_layers*n_walltoall)\n",
    "for i in range(0, len(thetas)):\n",
    "    thetas[i] += i\n",
    "psi = 2*np.random.rand(2**num_qubits)-1\n",
    "psi = psi / np.linalg.norm(psi)\n",
    "encoder = qtm.encoding.Encoding(psi, 'amplitude_encoding')\n",
    "\n",
    "\n",
    "loss_values = []\n",
    "thetass = []\n",
    "for i in range(0, 200):\n",
    "    if i % 20 == 0:\n",
    "        print('W_chain: ', i)\n",
    "    qc = encoder.qcircuit\n",
    "    grad_loss = qtm.base.grad_loss(\n",
    "        qc, \n",
    "        qtm.nqubit.create_Walltoallchecker_haar,\n",
    "        thetas, r = 1/2, s = np.pi/2, num_layers = num_layers)\n",
    "    thetas -= qtm.constant.learning_rate*(grad_loss) \n",
    "    thetass.append(thetas.copy())\n",
    "    qc_copy = qtm.nqubit.create_Walltoallchecker_haar(qc.copy(), thetas, num_layers)  \n",
    "    loss = qtm.base.loss_basis(qtm.base.measure(qc_copy, list(range(qc_copy.num_qubits))))\n",
    "    loss_values.append(loss)\n"
   ]
  },
  {
   "cell_type": "code",
   "execution_count": 53,
   "metadata": {},
   "outputs": [
    {
     "name": "stdout",
     "output_type": "stream",
     "text": [
      "Writting ... 3\n"
     ]
    }
   ],
   "source": [
    "traces = []\n",
    "fidelities = []\n",
    "\n",
    "for thetas in thetass:\n",
    "    # Get |psi> = U_gen|000...>\n",
    "    qc1 = encoder.qcircuit\n",
    "    psi = qiskit.quantum_info.Statevector.from_instruction(qc1)\n",
    "    # Get |psi~> = U_target|000...>\n",
    "    qc = qiskit.QuantumCircuit(num_qubits, num_qubits)\n",
    "    qc = qtm.nqubit.create_Walltoall_layerd_state(qc, thetas, num_layers = num_layers).inverse()\n",
    "    psi_hat = qiskit.quantum_info.Statevector.from_instruction(qc)\n",
    "    # Calculate the metrics\n",
    "    trace, fidelity = qtm.base.get_metrics(psi, psi_hat)\n",
    "    traces.append(trace)\n",
    "    fidelities.append(fidelity)\n",
    "print('Writting ... ' + str(num_qubits))\n",
    "\n",
    "\n",
    "np.savetxt(\"../../experiments/tomography_walltoall_/\" + str(num_layers) + '/' + str(num_qubits) + \"/loss_values.csv\", loss_values, delimiter=\",\")\n",
    "np.savetxt(\"../../experiments/tomography_walltoall_/\" + str(num_layers) + '/' + str(num_qubits) + \"/thetass.csv\", thetass, delimiter=\",\")\n",
    "np.savetxt(\"../../experiments/tomography_walltoall_/\" + str(num_layers) + '/' + str(num_qubits) + \"/traces.csv\", traces, delimiter=\",\")\n",
    "np.savetxt(\"../../experiments/tomography_walltoall_/\" + str(num_layers) + '/' + str(num_qubits) + \"/fidelities.csv\", fidelities, delimiter=\",\")"
   ]
  },
  {
   "cell_type": "code",
   "execution_count": 56,
   "metadata": {},
   "outputs": [
    {
     "name": "stderr",
     "output_type": "stream",
     "text": [
      "C:\\Users\\haime\\AppData\\Local\\Programs\\Python\\Python38\\lib\\site-packages\\numpy\\core\\_asarray.py:102: ComplexWarning: Casting complex values to real discards the imaginary part\n",
      "  return array(a, dtype, copy=False, order=order)\n"
     ]
    },
    {
     "data": {
      "image/png": "[encoded data removed]",
      "text/plain": [
       "<Figure size 432x288 with 1 Axes>"
      ]
     },
     "metadata": {
      "needs_background": "light"
     },
     "output_type": "display_data"
    },
    {
     "name": "stdout",
     "output_type": "stream",
     "text": [
      "0.09060000000000001\n"
     ]
    }
   ],
   "source": [
    "from matplotlib import pyplot as plt\n",
    "plt.plot(fidelities, label='Fidelity', linestyle = '-')\n",
    "plt.plot(traces, label='Trace', linestyle = '-.')\n",
    "plt.plot(loss_values, label='Loss', linestyle = '--')\n",
    "plt.title('W chain')\n",
    "plt.legend()\n",
    "plt.xlabel(\"Iteration\")\n",
    "plt.ylabel(\"Loss value\")\n",
    "plt.show() \n"
   ]
  },
  {
   "cell_type": "code",
   "execution_count": 178,
   "metadata": {},
   "outputs": [
    {
     "name": "stdout",
     "output_type": "stream",
     "text": [
      "6\n",
      "[ 1.  2.  3.  4.  5.  6.  7.  8.  9. 10. 11. 12. 13. 14. 15. 16. 17. 18.]\n"
     ]
    },
    {
     "data": {
      "image/png": "[encoded data removed]",
      "text/plain": [
       "<Figure size 989.597x264.88 with 1 Axes>"
      ]
     },
     "execution_count": 178,
     "metadata": {},
     "output_type": "execute_result"
    }
   ],
   "source": [
    "num_qubits = 4\n",
    "num_layers = 1\n",
    "n_walltoall = qtm.nqubit.calculate_n_walltoall(num_qubits)\n",
    "print(n_walltoall)\n",
    "thetas = np.ones(num_layers* 3 * num_qubits + num_layers*n_walltoall)\n",
    "for i in range(0, len(thetas)):\n",
    "    thetas[i] += i\n",
    "psi = 2*np.random.rand(2**num_qubits)-1\n",
    "psi = psi / np.linalg.norm(psi)\n",
    "encoder = qtm.encoding.Encoding(psi, 'amplitude_encoding')\n",
    "qc = qiskit.QuantumCircuit(num_qubits)\n",
    "qc = qtm.nqubit.create_Walltoall_layerd_state(qc, thetas, num_layers=num_layers)\n",
    "qc.draw('mpl')\n",
    "\n"
   ]
  },
  {
   "cell_type": "code",
   "execution_count": 182,
   "metadata": {},
   "outputs": [
    {
     "name": "stdout",
     "output_type": "stream",
     "text": [
      "2\n",
      "1\n",
      "0\n",
      "1\n",
      "....\n",
      "0\n",
      "0\n",
      "....\n",
      "3\n",
      "2\n",
      "1\n",
      "0\n",
      "....\n",
      "3\n",
      "2\n",
      "1\n",
      "0\n",
      "....\n",
      "3\n",
      "2\n",
      "1\n",
      "0\n",
      "....\n",
      "[['cry', 1.0, 2], ['cry', 1.0, 1], ['cry', 1.0, 0]]\n",
      "[['cry', 1.0, 1], ['cry', 1.0, 0]]\n",
      "[['cry', 1.0, 0], ['rz', 1.0, 3], ['rz', 1.0, 2], ['rz', 1.0, 1]]\n",
      "[['rz', 1.0, 0], ['rx', 1.0, 3], ['rx', 1.0, 2], ['rx', 1.0, 1]]\n",
      "[['rx', 1.0, 0], ['rz', 1.0, 3], ['rz', 1.0, 2], ['rz', 1.0, 1]]\n"
     ]
    },
    {
     "name": "stderr",
     "output_type": "stream",
     "text": [
      "C:\\Users\\haime\\AppData\\Local\\Temp/ipykernel_1132/3581330458.py:21: DeprecationWarning: Back-references to from Bit instances to their containing Registers have been deprecated. Instead, inspect Registers to find their contained Bits.\n",
      "  wire = qc.num_qubits - 1 - gate[1][1].index\n",
      "C:\\Users\\haime\\AppData\\Local\\Temp/ipykernel_1132/3581330458.py:24: DeprecationWarning: Back-references to from Bit instances to their containing Registers have been deprecated. Instead, inspect Registers to find their contained Bits.\n",
      "  wire = qc.num_qubits - 1 - gate[1][0].index\n"
     ]
    }
   ],
   "source": [
    "def is_duplicate_wire(v, gate_wire):\n",
    "    for gate_name, gate_param[0], wire in v:\n",
    "        if gate_wire == wire:\n",
    "            return True\n",
    "    return False\n",
    "\n",
    "vs = []\n",
    "v = []\n",
    "ws = []\n",
    "w = []\n",
    "i = 0\n",
    "for gate in qc.data:\n",
    "    \n",
    "    gate_name = gate[0].name\n",
    "    gate_param = gate[0].params\n",
    "    # Non-param gates\n",
    "    if gate_name == 'barrier':\n",
    "        continue\n",
    "    # 2-qubit param gates\n",
    "    if gate[0].name in ['crx', 'cry', 'crz', 'cx']:\n",
    "        wire = qc.num_qubits - 1 - gate[1][1].index\n",
    "    # Single qubit param gates\n",
    "    else:\n",
    "        wire = qc.num_qubits - 1 - gate[1][0].index\n",
    "    print(wire)\n",
    "    if is_duplicate_wire(v, wire):\n",
    "        print('....')\n",
    "        vs.append(v)\n",
    "        v = []\n",
    "    v.append([gate_name, gate_param[0], wire])\n",
    "\n",
    "print(vs[0])\n",
    "print(vs[1])\n",
    "print(vs[2])\n",
    "print(vs[3])\n",
    "print(vs[4])\n"
   ]
  }
 ],
 "metadata": {
  "interpreter": {
   "hash": "770b641b4564229c593d803dcff32fdd6beb94e7a78ba8806c95b100ce213599"
  },
  "kernelspec": {
   "display_name": "Python 3.8.0 64-bit",
   "language": "python",
   "name": "python3"
  },
  "language_info": {
   "codemirror_mode": {
    "name": "ipython",
    "version": 3
   },
   "file_extension": ".py",
   "mimetype": "text/x-python",
   "name": "python",
   "nbconvert_exporter": "python",
   "pygments_lexer": "ipython3",
   "version": "3.8.0"
  },
  "orig_nbformat": 4
 },
 "nbformat": 4,
 "nbformat_minor": 2
}
