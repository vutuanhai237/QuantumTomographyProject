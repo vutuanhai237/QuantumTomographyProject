{
 "cells": [
  {
   "cell_type": "code",
   "execution_count": 81,
   "metadata": {},
   "outputs": [],
   "source": [
    "import numpy as np\n",
    "import tqix\n",
    "import sys\n",
    "sys.path.insert(1, '../')\n",
    "import qiskit, qtm.encoding, qtm.base\n",
    "\n",
    "\n",
    "def create_basic_vector(num_qubits: int):\n",
    "    \"\"\"Generate list of basic vectors\n",
    "\n",
    "    Args:\n",
    "        num_qubits (int): number of qubits\n",
    "\n",
    "    Returns:\n",
    "        np.ndarray: |00...0>, |00...1>, ..., |11...1>\n",
    "    \"\"\"\n",
    "    bs = []\n",
    "    for i in range(0, 2**num_qubits):\n",
    "        b = np.zeros((2**num_qubits, 1))\n",
    "        b[i] = 1\n",
    "        bs.append(b)\n",
    "    return bs\n",
    "\n",
    "def calculate_sigma(U: np.ndarray, b: np.ndarray):\n",
    "    \"\"\"Calculate measurement values\n",
    "\n",
    "    Args:\n",
    "        U (np.ndarray): operator\n",
    "        b (np.ndarray): basic vector\n",
    "\n",
    "    Returns:\n",
    "        np.ndarray: sigma operator\n",
    "    \"\"\"\n",
    "    return (np.conjugate(np.transpose(U)) @ b @ np.conjugate(np.transpose(b)) @ U)\n"
   ]
  },
  {
   "cell_type": "markdown",
   "metadata": {},
   "source": [
    "Step 1. Create $\\rho_{unk}$. It's psi"
   ]
  },
  {
   "cell_type": "code",
   "execution_count": 82,
   "metadata": {},
   "outputs": [
    {
     "data": {
      "text/plain": [
       "<qiskit.circuit.instructionset.InstructionSet at 0x287418efd40>"
      ]
     },
     "execution_count": 82,
     "metadata": {},
     "output_type": "execute_result"
    }
   ],
   "source": [
    "num_qubits = 2\n",
    "num_observers = 10\n",
    "psi = 2*np.random.rand(2**num_qubits)-1\n",
    "psi = psi / np.linalg.norm(psi)\n",
    "rho = qiskit.quantum_info.DensityMatrix(psi).data\n",
    "qc = qiskit.QuantumCircuit(num_qubits, num_qubits)\n",
    "qc.initialize(psi)"
   ]
  },
  {
   "cell_type": "markdown",
   "metadata": {},
   "source": [
    "Step 2. Create Us = $U_1, U_2, ..., U_{num\\_observer}$ and bs = $|0\\rangle, |1\\rangle, ..., |2^n-1\\rangle$.\n",
    "\n",
    "bs[0] = [1, 0, ... 0], bs[$2^n-1$] = [0, 0, ..., 1]"
   ]
  },
  {
   "cell_type": "code",
   "execution_count": 83,
   "metadata": {},
   "outputs": [],
   "source": [
    "Us, bs = [], []\n",
    "for i in range(0, num_observers):\n",
    "    random_psi = 2*np.random.rand(2**num_qubits)-1\n",
    "    random_psi = random_psi / np.linalg.norm(random_psi)\n",
    "    encoder = qtm.encoding.Encoding(random_psi, 'amplitude_encoding')\n",
    "    qcs = (qc.copy()).compose(encoder.qcircuit)\n",
    "    U = (qiskit.quantum_info.Operator(encoder.qcircuit).data)\n",
    "    Us.append(U)\n",
    "    bs = create_basic_vector(num_qubits)\n"
   ]
  },
  {
   "cell_type": "markdown",
   "metadata": {},
   "source": [
    "Step 3. Calculate $\\sigma_i=\\sigma_i^{(0)}, \\sigma_i^{(1)}, ..., \\sigma_i^{(2^n-1)}$\n",
    "with $\\sigma_i^{(j)}=U_i^{\\dagger}|j\\rangle\\langle j|U_i$"
   ]
  },
  {
   "cell_type": "code",
   "execution_count": 84,
   "metadata": {},
   "outputs": [],
   "source": [
    "sigmass = []\n",
    "for i in range(0, num_observers):\n",
    "    sigmas = []\n",
    "    for b in bs:\n",
    "        sigma = calculate_sigma(Us[i], b)\n",
    "        sigmas.append(sigma)\n",
    "    sigmass.append(sigmas)"
   ]
  },
  {
   "cell_type": "markdown",
   "metadata": {},
   "source": [
    "Step 4: Calculate $\\mu(\\rho_{unk})=\\frac{1}{num\\_ observer}\\sum_{i=1}^{num\\_observer}\\sum_{b=0}^{2^n-1} \\text{Tr}(\\sigma_i^{(b)}\\rho_{unk})\\sigma_i^{(b)}$"
   ]
  },
  {
   "cell_type": "code",
   "execution_count": 85,
   "metadata": {},
   "outputs": [],
   "source": [
    "M = np.zeros((2**num_qubits, 2**num_qubits), dtype=np.complex128)\n",
    "for i in range(0, num_observers):\n",
    "    for j in range(0, 2**num_qubits):\n",
    "        k = sigmass[i][j]\n",
    "        M += np.trace(k @ rho)*k\n",
    "M /= num_observers\n"
   ]
  },
  {
   "cell_type": "markdown",
   "metadata": {},
   "source": [
    "Step 5: Calculate $\\tilde{\\rho}=\\frac{1}{num\\_ observer}\\sum_{i=1}^{num\\_observer}(\\sum_{b=0}^{2^n-1} (\\text{Tr}(\\sigma_i^{(b)}).\\mu^{-1}(\\rho_{unk}).\\sigma_i^{(b)}))$"
   ]
  },
  {
   "cell_type": "code",
   "execution_count": 86,
   "metadata": {},
   "outputs": [],
   "source": [
    "rho_hat = np.zeros((2**num_qubits, 2**num_qubits), dtype=np.complex128)\n",
    "for i in range(0, num_observers):\n",
    "    for j in range(0, 2**num_qubits):\n",
    "        k = sigmass[i][j]\n",
    "        rho_hat += np.trace(k)*np.linalg.inv(M) * k\n",
    "rho_hat /= num_observers\n"
   ]
  },
  {
   "cell_type": "code",
   "execution_count": 89,
   "metadata": {},
   "outputs": [
    {
     "name": "stdout",
     "output_type": "stream",
     "text": [
      "p [[ 3.58356322e-01+0.j -2.78685361e-01-0.j  1.12114364e-02+0.j\n",
      "   3.90058767e-01+0.j]\n",
      " [-2.78685361e-01+0.j  2.16727112e-01+0.j -8.71887288e-03+0.j\n",
      "  -3.03339614e-01+0.j]\n",
      " [ 1.12114364e-02+0.j -8.71887288e-03-0.j  3.50757890e-04+0.j\n",
      "   1.22032703e-02+0.j]\n",
      " [ 3.90058767e-01+0.j -3.03339614e-01-0.j  1.22032703e-02+0.j\n",
      "   4.24565809e-01+0.j]]\n",
      "p~ [[ 4.98855101e+00+0.j  0.00000000e+00+0.j -6.93889390e-19+0.j\n",
      "  -6.93889390e-19+0.j]\n",
      " [ 0.00000000e+00+0.j  6.20841056e+00+0.j  0.00000000e+00+0.j\n",
      "   9.99200722e-17+0.j]\n",
      " [ 4.16333634e-18+0.j  0.00000000e+00+0.j  6.55014286e+00+0.j\n",
      "   0.00000000e+00+0.j]\n",
      " [-1.38777878e-18+0.j  9.99200722e-17+0.j  0.00000000e+00+0.j\n",
      "   4.67586275e+00+0.j]]\n",
      "Fidelity:  (2.2593711320496475+8.724866197282509e-09j)\n",
      "Trace:  10.711483596627007\n"
     ]
    }
   ],
   "source": [
    "print(\"p\", rho)\n",
    "print(\"p~\", rho_hat)\n",
    "fidelity = qtm.base.trace_fidelity(rho, rho_hat)\n",
    "trace = qtm.base.trace_distance(rho, rho_hat)\n",
    "print(\"Fidelity: \", fidelity)\n",
    "print(\"Trace: \", trace)"
   ]
  },
  {
   "cell_type": "markdown",
   "metadata": {},
   "source": [
    "<img width = '600px' src = '../../images/shadow_tomography1.jpg'>\n",
    "<img width = '600px' src = '../../images/shadow_tomography2.jpg'>"
   ]
  }
 ],
 "metadata": {
  "interpreter": {
   "hash": "770b641b4564229c593d803dcff32fdd6beb94e7a78ba8806c95b100ce213599"
  },
  "kernelspec": {
   "display_name": "Python 3.8.0 64-bit",
   "language": "python",
   "name": "python3"
  },
  "language_info": {
   "codemirror_mode": {
    "name": "ipython",
    "version": 3
   },
   "file_extension": ".py",
   "mimetype": "text/x-python",
   "name": "python",
   "nbconvert_exporter": "python",
   "pygments_lexer": "ipython3",
   "version": "3.8.0"
  },
  "orig_nbformat": 4
 },
 "nbformat": 4,
 "nbformat_minor": 2
}
