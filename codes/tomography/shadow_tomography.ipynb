{
 "cells": [
  {
   "cell_type": "code",
   "execution_count": null,
   "metadata": {},
   "outputs": [],
   "source": [
    "import numpy as np\n",
    "\n",
    "def create_vector(i):\n",
    "    return i\n",
    "def calculate_quantum_channel(p_unk, Us, num_qubits):\n",
    "    M = 0\n",
    "    for i in range(0, 10):\n",
    "        for b in range(0, 2**num_qubits):\n",
    "            m = np.conjugate(Us[i]) @ create_vector(b) @ np.conjugate(np.transpose(create_vector(b))) @ Us[i]\n",
    "            M += np.trace(m @ p_unk) * m\n",
    "    return 1/10 * M\n",
    "def calculate_reconstructed_state(M, Us, num_qubits):\n",
    "    p = 0\n",
    "    for i in range(0, 10):\n",
    "        for b in range(0, 2**num_qubits):\n",
    "            m = np.conjugate(Us[i]) @ create_vector(b) @ np.conjugate(np.transpose(create_vector(b))) @ Us[i]\n",
    "            p += np.trace(m) * (np.inverse(M) @ m)\n",
    "\n",
    "    return 1/10 * p"
   ]
  },
  {
   "cell_type": "markdown",
   "metadata": {},
   "source": [
    "<img width = '600px' src = '../../images/shadow_tomography1.jpg'>\n",
    "<img width = '600px' src = '../../images/shadow_tomography2.jpg'>"
   ]
  }
 ],
 "metadata": {
  "language_info": {
   "name": "python"
  },
  "orig_nbformat": 4
 },
 "nbformat": 4,
 "nbformat_minor": 2
}
