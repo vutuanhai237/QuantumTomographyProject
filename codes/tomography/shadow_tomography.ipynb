{
 "cells": [
  {
   "cell_type": "code",
   "execution_count": 2,
   "metadata": {},
   "outputs": [],
   "source": [
    "\n",
    "import qiskit\n",
    "import numpy as np\n",
    "import tqix\n",
    "import sys\n",
    "sys.path.insert(1, '../')\n",
    "import qtm.base\n",
    "import qtm.encoding\n",
    "\n",
    "def create_basic_vector(num_qubits: int):\n",
    "    \"\"\"Generate list of basic vectors\n",
    "\n",
    "    Args:\n",
    "        num_qubits (int): number of qubits\n",
    "\n",
    "    Returns:\n",
    "        np.ndarray: |00...0>, |00...1>, ..., |11...1>\n",
    "    \"\"\"\n",
    "    bs = []\n",
    "    for i in range(0, 2**num_qubits):\n",
    "        b = np.zeros((2**num_qubits, 1))\n",
    "        b[i] = 1\n",
    "        bs.append(b)\n",
    "    return bs\n",
    "\n",
    "\n",
    "def calculate_sigma(U: np.ndarray, b: np.ndarray):\n",
    "    \"\"\"Calculate measurement values\n",
    "\n",
    "    Args:\n",
    "        U (np.ndarray): operator\n",
    "        b (np.ndarray): basic vector\n",
    "\n",
    "    Returns:\n",
    "        np.ndarray: sigma operator\n",
    "    \"\"\"\n",
    "    return (np.conjugate(np.transpose(U)) @ b @ np.conjugate(np.transpose(b)) @ U)\n"
   ]
  },
  {
   "cell_type": "markdown",
   "metadata": {},
   "source": [
    "Step 1. Create $\\rho_{unk}$. It's psi\n"
   ]
  },
  {
   "cell_type": "code",
   "execution_count": 9,
   "metadata": {},
   "outputs": [
    {
     "data": {
      "text/plain": [
       "<qiskit.circuit.instructionset.InstructionSet at 0x21a4636fb80>"
      ]
     },
     "execution_count": 9,
     "metadata": {},
     "output_type": "execute_result"
    }
   ],
   "source": [
    "num_qubits = 2\n",
    "num_observers = 1000\n",
    "psi = 2*np.random.rand(2**num_qubits)-1\n",
    "psi = psi / np.linalg.norm(psi)\n",
    "rho = qiskit.quantum_info.DensityMatrix(psi).data\n",
    "qc = qiskit.QuantumCircuit(num_qubits, num_qubits)\n",
    "qc.initialize(psi)\n"
   ]
  },
  {
   "cell_type": "markdown",
   "metadata": {},
   "source": [
    "Step 2. Create Us = $U_1, U_2, ..., U_{num\\_observer}$ and bs = $|0\\rangle, |1\\rangle, ..., |2^n-1\\rangle$.\n",
    "\n",
    "bs[0] = [1, 0, ... 0], bs[$2^n-1$] = [0, 0, ..., 1]\n"
   ]
  },
  {
   "cell_type": "code",
   "execution_count": 10,
   "metadata": {},
   "outputs": [],
   "source": [
    "Us, bs = [], []\n",
    "for i in range(0, num_observers):\n",
    "    random_psi = 2*np.random.rand(2**num_qubits)-1\n",
    "    random_psi = random_psi / np.linalg.norm(random_psi)\n",
    "    encoder = qtm.encoding.Encoding(random_psi, 'amplitude_encoding')\n",
    "    qcs = (qc.copy()).compose(encoder.qcircuit)\n",
    "    U = (qiskit.quantum_info.Operator(encoder.qcircuit).data)\n",
    "    Us.append(U)\n",
    "    bs = create_basic_vector(num_qubits)\n"
   ]
  },
  {
   "cell_type": "markdown",
   "metadata": {},
   "source": [
    "Step 3. Calculate $\\sigma_i=\\sigma_i^{(0)}, \\sigma_i^{(1)}, ..., \\sigma_i^{(2^n-1)}$\n",
    "with $\\sigma_i^{(j)}=U_i^{\\dagger}|j\\rangle\\langle j|U_i$\n"
   ]
  },
  {
   "cell_type": "code",
   "execution_count": 11,
   "metadata": {},
   "outputs": [],
   "source": [
    "sigmass = []\n",
    "for i in range(0, num_observers):\n",
    "    sigmas = []\n",
    "    for b in bs:\n",
    "        sigma = calculate_sigma(Us[i], b)\n",
    "        sigmas.append(sigma)\n",
    "    sigmass.append(sigmas)"
   ]
  },
  {
   "cell_type": "markdown",
   "metadata": {},
   "source": [
    "Step 4: Calculate $\\mu(\\rho_{unk})=\\frac{1}{num\\_ observer}\\sum_{i=1}^{num\\_observer}\\sum_{b=0}^{2^n-1} \\text{Tr}(\\sigma_i^{(b)}\\rho_{unk})\\sigma_i^{(b)}$\n"
   ]
  },
  {
   "cell_type": "code",
   "execution_count": 6,
   "metadata": {},
   "outputs": [],
   "source": [
    "def calculate_mu(density_matrix):\n",
    "    M = np.zeros((2**num_qubits, 2**num_qubits), dtype=np.complex128)\n",
    "    for i in range(0, num_observers):\n",
    "        for j in range(0, 2**num_qubits):\n",
    "            k = sigmass[i][j]\n",
    "            M += np.trace(k @ density_matrix) * k\n",
    "    M /= num_observers\n",
    "    return M\n",
    "    \n",
    "# M = calculate_mu(rho)"
   ]
  },
  {
   "cell_type": "markdown",
   "metadata": {},
   "source": [
    "Step 5: Calculate $\\tilde{\\rho}=\\frac{1}{num\\_ observer}\\sum_{i=1}^{num\\_observer}(\\sum_{b=0}^{2^n-1} (\\text{Tr}(\\sigma_i^{(b)}\\rho_{unk}).\\mu^{-1}(\\sigma_i^{(b)})))$\n"
   ]
  },
  {
   "cell_type": "code",
   "execution_count": null,
   "metadata": {},
   "outputs": [],
   "source": [
    "rho_hat = np.zeros((2**num_qubits, 2**num_qubits), dtype=np.complex128)\n",
    "for i in range(0, num_observers):\n",
    "    if i % 10 == 0:\n",
    "        print(i)\n",
    "    for j in range(0, 2**num_qubits):\n",
    "        k = sigmass[i][j]\n",
    "        rho_hat += np.trace(k @ rho)*np.linalg.inv(calculate_mu(k))\n",
    "rho_hat /= num_observers\n",
    "new_rho_hat = (np.conjugate(np.transpose(\n",
    "    rho_hat)) @ rho_hat) / (np.trace(np.conjugate(np.transpose(rho_hat)) @ rho_hat))\n"
   ]
  },
  {
   "cell_type": "code",
   "execution_count": 14,
   "metadata": {},
   "outputs": [
    {
     "name": "stdout",
     "output_type": "stream",
     "text": [
      "p [[ 0.31683866+0.j -0.19313575-0.j  0.31969361+0.j  0.27739232+0.j]\n",
      " [-0.19313575+0.j  0.11773001+0.j -0.19487605+0.j -0.1690904 +0.j]\n",
      " [ 0.31969361+0.j -0.19487605-0.j  0.32257429+0.j  0.27989183+0.j]\n",
      " [ 0.27739232+0.j -0.1690904 -0.j  0.27989183+0.j  0.24285705+0.j]]\n",
      "p~ [[ 0.22838579+0.j -0.03282778+0.j -0.04082051+0.j  0.02299565+0.j]\n",
      " [-0.03282778+0.j  0.28693318+0.j  0.02136508+0.j -0.14348501+0.j]\n",
      " [-0.04082051+0.j  0.02136508+0.j  0.21182416+0.j -0.01726046+0.j]\n",
      " [ 0.02299565+0.j -0.14348501+0.j -0.01726046+0.j  0.27285687+0.j]]\n",
      "Fidelity:  (0.5072599660309378+2.8901026729113757e-25j)\n",
      "Trace:  0.7436705068384928\n"
     ]
    }
   ],
   "source": [
    "print(\"p\", rho)\n",
    "print(\"p~\", new_rho_hat)\n",
    "fidelity = qtm.base.trace_fidelity(rho, new_rho_hat)\n",
    "trace = qtm.base.trace_distance(rho, new_rho_hat)\n",
    "print(\"Fidelity: \", fidelity)\n",
    "print(\"Trace: \", trace)\n"
   ]
  },
  {
   "cell_type": "markdown",
   "metadata": {},
   "source": [
    "<img width = '600px' src = '../../images/shadow_tomography1.jpg'>\n",
    "<img width = '600px' src = '../../images/shadow_tomography2.jpg'>\n"
   ]
  }
 ],
 "metadata": {
  "interpreter": {
   "hash": "770b641b4564229c593d803dcff32fdd6beb94e7a78ba8806c95b100ce213599"
  },
  "kernelspec": {
   "display_name": "Python 3.8.0 64-bit",
   "language": "python",
   "name": "python3"
  },
  "language_info": {
   "codemirror_mode": {
    "name": "ipython",
    "version": 3
   },
   "file_extension": ".py",
   "mimetype": "text/x-python",
   "name": "python",
   "nbconvert_exporter": "python",
   "pygments_lexer": "ipython3",
   "version": "3.8.0"
  },
  "orig_nbformat": 4
 },
 "nbformat": 4,
 "nbformat_minor": 2
}
