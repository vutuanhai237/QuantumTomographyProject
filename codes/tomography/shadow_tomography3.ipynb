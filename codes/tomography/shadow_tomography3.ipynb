{
 "cells": [
  {
   "cell_type": "markdown",
   "metadata": {},
   "source": [
    "Save result:\n",
    "\n",
    "N = 2, L = 2\n",
    "\n",
    "shadow:\n",
    "var [(0.011695091215691721+0j), (0.01069955865766177+0j), (0.010719855923408012+0j), (0.01073551381412654+0j)]\n",
    "std [0.0023852114717500977, 0.0006294371609045586, 0.0003655872270893461, 0.00010627752975859266]\n",
    "\n",
    "our:\n",
    "last = (0.04301764694678889+0j)\n",
    "min = (0.00012523163889843758+0j)\n",
    "\n",
    "N = 3, L = 2\n",
    "shadow:\n",
    "var [(0.009492896004145705+0j), (0.010233199204745223+0j), (0.010032810186375538+0j), (0.00978379343288148+0j)]\n",
    "std [0.007212137619351673, 0.001930587549413947, 0.0004824527171977454, 0.00010820710115270727]\n",
    "\n",
    "our:\n",
    "last = (0.0012900052420156544+0j)\n",
    "min = (-4.905115565813356e-05+0j)\n",
    "\n",
    "N = 4, L = 2\n",
    "shadow: \n",
    "var [(0.008687697988279635+0j), (0.009658731787962236+0j), (0.008910386952710084+0j), (0.00971607342606371+0j)]\n",
    "std [0.0063233555101296236, 0.002370011341539773, 0.0005752209842798887, 0.0019561615997392896]\n",
    "our:\n",
    "last: (0.007868430229370768+0j)\n",
    "min = (-1.1931060156419523e-05+0j)\n"
   ]
  },
  {
   "cell_type": "code",
   "execution_count": 10,
   "metadata": {},
   "outputs": [
    {
     "data": {
      "text/plain": [
       "Text(0, 0.5, 'Variance')"
      ]
     },
     "execution_count": 10,
     "metadata": {},
     "output_type": "execute_result"
    },
    {
     "data": {
      "image/png": "[encoded data removed]",
      "text/plain": [
       "<Figure size 432x288 with 1 Axes>"
      ]
     },
     "metadata": {
      "needs_background": "light"
     },
     "output_type": "display_data"
    }
   ],
   "source": [
    "import matplotlib.pyplot as plt\n",
    "import numpy as np\n",
    "num_qubits = [2, 3, 4]\n",
    "shadows = [0.01073551381412654, 0.00978379343288148, 0.00971607342606371]\n",
    "tomos = [0.00012523163889843758, 4.905115565813356e-05, 1.1931060156419523e-05]\n",
    "last_tomos = [0.04301764694678889, 0.0012900052420156544, 0.007868430229370768]\n",
    "plt.subplot(2, 1, 1)\n",
    "\n",
    "plt.plot(num_qubits, shadows, marker = 'o')\n",
    "plt.plot(num_qubits, tomos, marker = 'o')\n",
    "# plt.plot(num_qubits, last_tomos, marker = 'o')\n",
    "plt.yscale('log')\n",
    "plt.xlabel('$N$')\n",
    "plt.xticks(range(2, 5, 1), size=16)\n",
    "plt.ylabel('Variance')"
   ]
  }
 ],
 "metadata": {
  "interpreter": {
   "hash": "770b641b4564229c593d803dcff32fdd6beb94e7a78ba8806c95b100ce213599"
  },
  "kernelspec": {
   "display_name": "Python 3.8.0 64-bit",
   "language": "python",
   "name": "python3"
  },
  "language_info": {
   "codemirror_mode": {
    "name": "ipython",
    "version": 3
   },
   "file_extension": ".py",
   "mimetype": "text/x-python",
   "name": "python",
   "nbconvert_exporter": "python",
   "pygments_lexer": "ipython3",
   "version": "3.9.12"
  },
  "orig_nbformat": 4
 },
 "nbformat": 4,
 "nbformat_minor": 2
}
