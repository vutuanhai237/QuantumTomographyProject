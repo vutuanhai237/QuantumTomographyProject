{
 "cells": [
  {
   "cell_type": "markdown",
   "metadata": {},
   "source": [
    "Save result:\n",
    "\n",
    "N = 2, L = 2\n",
    "\n",
    "shadow:\n",
    "var [(0.011695091215691721+0j), (0.01069955865766177+0j), (0.010719855923408012+0j), (0.01073551381412654+0j)]\n",
    "std [0.0023852114717500977, 0.0006294371609045586, 0.0003655872270893461, 0.00010627752975859266]\n",
    "\n",
    "our:\n",
    "last = (0.04301764694678889+0j)\n",
    "min = (0.00012523163889843758+0j)\n",
    "\n",
    "N = 3, L = 2\n",
    "shadow:\n",
    "var [(0.009492896004145705+0j), (0.010233199204745223+0j), (0.010032810186375538+0j), (0.00978379343288148+0j)]\n",
    "std [0.007212137619351673, 0.001930587549413947, 0.0004824527171977454, 0.00010820710115270727]\n",
    "\n",
    "\n",
    "our:\n",
    "last = (0.0012900052420156544+0j)\n",
    "min = (-4.905115565813356e-05+0j)\n",
    "\n"
   ]
  }
 ],
 "metadata": {
  "interpreter": {
   "hash": "770b641b4564229c593d803dcff32fdd6beb94e7a78ba8806c95b100ce213599"
  },
  "kernelspec": {
   "display_name": "Python 3.8.0 64-bit",
   "language": "python",
   "name": "python3"
  },
  "language_info": {
   "codemirror_mode": {
    "name": "ipython",
    "version": 3
   },
   "file_extension": ".py",
   "mimetype": "text/x-python",
   "name": "python",
   "nbconvert_exporter": "python",
   "pygments_lexer": "ipython3",
   "version": "3.8.0"
  },
  "orig_nbformat": 4
 },
 "nbformat": 4,
 "nbformat_minor": 2
}
