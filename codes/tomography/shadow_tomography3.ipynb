{
 "cells": [
  {
   "cell_type": "markdown",
   "metadata": {},
   "source": [
    "Save result:\n",
    "\n",
    "N = 2, L = 2\n",
    "\n",
    "shadow:\n",
    "var [(0.011695091215691721+0j), (0.01069955865766177+0j), (0.010719855923408012+0j), (0.01073551381412654+0j)]\n",
    "std [0.0023852114717500977, 0.0006294371609045586, 0.0003655872270893461, 0.00010627752975859266]\n",
    "\n",
    "our:\n",
    "last = (0.04301764694678889+0j)\n",
    "min = (0.00012523163889843758+0j)\n",
    "\n",
    "N = 3, L = 2\n",
    "shadow:\n",
    "var [(0.009492896004145705+0j), (0.010233199204745223+0j), (0.010032810186375538+0j), (0.00978379343288148+0j)]\n",
    "std [0.007212137619351673, 0.001930587549413947, 0.0004824527171977454, 0.00010820710115270727]\n",
    "\n",
    "our:\n",
    "last = (0.0012900052420156544+0j)\n",
    "min = (-4.905115565813356e-05+0j)\n",
    "\n",
    "N = 4, L = 2\n",
    "shadow: \n",
    "var [(0.008687697988279635+0j), (0.009658731787962236+0j), (0.008910386952710084+0j), (0.00971607342606371+0j)]\n",
    "std [0.0063233555101296236, 0.002370011341539773, 0.0005752209842798887, 0.0019561615997392896]\n",
    "our:\n",
    "last: (0.007868430229370768+0j)\n",
    "min = (-1.1931060156419523e-05+0j)\n",
    "\n",
    "N = 5, L = 2\n",
    "shadow:\n",
    "\n",
    "var [(0.003604976823648306+0j), (0.0022350856306619497+0j), (0.0027542022932673053+0j), (0.0029661749304978266+0j)]\n",
    "std [0.003604976823648306, 0.0009372939741485596, 0.0006316841148328554, 0.00018859783465183388]\n",
    "\n",
    "our:\n",
    "min: (5.204774814314677e-06+0j)\n",
    "last: (0.003203690222981742+0j)\n",
    "\n"
   ]
  },
  {
   "cell_type": "code",
   "execution_count": 13,
   "metadata": {},
   "outputs": [
    {
     "name": "stderr",
     "output_type": "stream",
     "text": [
      "The PostScript backend does not support transparency; partially transparent artists will be rendered opaque.\n"
     ]
    },
    {
     "data": {
      "image/png": "[encoded data removed]",
      "text/plain": [
       "<Figure size 432x288 with 1 Axes>"
      ]
     },
     "metadata": {
      "needs_background": "light"
     },
     "output_type": "display_data"
    }
   ],
   "source": [
    "import matplotlib.pyplot as plt\n",
    "import numpy as np\n",
    "num_qubits = [2, 3, 4, 5]\n",
    "shadows = [0.01073551381412654, 0.00978379343288148, 0.00971607342606371, 0.0029661749304978266]\n",
    "tomos = [0.00012523163889843758, 4.905115565813356e-05, 1.1931060156419523e-05, 5.204774814314677e-06]\n",
    "last_tomos = [0.04301764694678889, 0.0012900052420156544, 0.007868430229370768, 0.003203690222981742]\n",
    "plt.subplot(2, 1, 1)\n",
    "\n",
    "plt.plot(num_qubits, shadows, marker = 'o', label = 'Shadow tomography')\n",
    "plt.plot(num_qubits, tomos, marker = 'o', label = 'W chain')\n",
    "# plt.plot(num_qubits, last_tomos, marker = 'o')\n",
    "plt.yscale('log')\n",
    "plt.xlabel('$N$')\n",
    "plt.xticks(range(2, 5, 1), size=16)\n",
    "plt.ylabel('Variance')\n",
    "plt.legend()\n",
    "plt.savefig('compare_shadow_wchain.eps', dpi = 1000, format = 'eps')"
   ]
  },
  {
   "cell_type": "code",
   "execution_count": 4,
   "metadata": {},
   "outputs": [
    {
     "name": "stdout",
     "output_type": "stream",
     "text": [
      "[0.26424641 0.23103536 0.11177099 0.17962657 0.18777508 0.07123707\n",
      " 0.20165063 0.27101361 0.21302122 0.11930997 0.09439792 0.1763813\n",
      " 0.28546319 0.0394065  0.19575109 0.09014811 0.12315693 0.03726953\n",
      " 0.10579994 0.26516434 0.21545716 0.11265348 0.20488736 0.10268576\n",
      " 0.27819402 0.0785904  0.09997989 0.17438181 0.16625928 0.23213874\n",
      " 0.01231226 0.18198155]\n"
     ]
    }
   ],
   "source": [
    "import numpy as np\n",
    "num_qubits = 5\n",
    "psi = 2*np.random.rand(2**num_qubits)\n",
    "psi = psi / np.linalg.norm(psi)\n",
    "print(psi)"
   ]
  },
  {
   "cell_type": "code",
   "execution_count": 75,
   "metadata": {},
   "outputs": [
    {
     "name": "stderr",
     "output_type": "stream",
     "text": [
      "The PostScript backend does not support transparency; partially transparent artists will be rendered opaque.\n"
     ]
    },
    {
     "data": {
      "image/png": "[encoded data removed]",
      "text/plain": [
       "<Figure size 432x288 with 1 Axes>"
      ]
     },
     "metadata": {
      "needs_background": "light"
     },
     "output_type": "display_data"
    }
   ],
   "source": [
    "import matplotlib.pyplot as plt\n",
    "noes = [10**2, 10**3, 10**4, 10**5]\n",
    "vars = [0.011695091215691721, 0.01069955865766177,0.010719855923408012, 0.01073551381412654]\n",
    "stds = [0.0023852114717500977, 0.0006294371609045586, 0.0003655872270893461, 0.00010627752975859266]\n",
    "noe_inverse = [1/x for x in noes]\n",
    "noe_inverse_square = [1/x**2 for x in noes]\n",
    "\n",
    "\n",
    "plt.subplot(2, 1, 1)\n",
    "plt.errorbar(noes, vars, yerr = stds,fmt='o',ecolor = 'red',color='yellow')\n",
    "plt.bar(noes, vars)\n",
    "plt.plot(noes, noe_inverse, marker = 'o', label = '1/NoE')\n",
    "plt.plot(noes, noe_inverse_square, marker = 'o', label = '$1/Noe^2')\n",
    "plt.xscale('log')\n",
    "plt.yscale('log', base = 10)\n",
    "plt.xlabel('NoE')\n",
    "# plt.ylabel('Var')\n",
    "plt.legend()\n",
    "plt.draw()\n",
    "plt.savefig('compare_shadow_noe.eps', dpi = 1000, format = 'eps')"
   ]
  },
  {
   "cell_type": "code",
   "execution_count": 77,
   "metadata": {},
   "outputs": [
    {
     "name": "stderr",
     "output_type": "stream",
     "text": [
      "No artists with labels found to put in legend.  Note that artists whose label start with an underscore are ignored when legend() is called with no argument.\n",
      "The PostScript backend does not support transparency; partially transparent artists will be rendered opaque.\n"
     ]
    },
    {
     "data": {
      "image/png": "[encoded data removed]",
      "text/plain": [
       "<Figure size 432x288 with 1 Axes>"
      ]
     },
     "metadata": {
      "needs_background": "light"
     },
     "output_type": "display_data"
    }
   ],
   "source": [
    "import matplotlib.pyplot as plt\n",
    "noes = [10**2, 10**3, 10**4, 10**5]\n",
    "vars = [0.011695091215691721, 0.01069955865766177,0.010719855923408012, 0.01073551381412654]\n",
    "stds = [0.0023852114717500977, 0.0006294371609045586, 0.0003655872270893461, 0.00010627752975859266]\n",
    "noe_inverse = [1/x for x in noes]\n",
    "noe_inverse_square = [1/x**2 for x in noes]\n",
    "\n",
    "\n",
    "plt.subplot(2, 1, 1)\n",
    "plt.errorbar(noes, vars, yerr = stds,fmt='o',ecolor = 'red',color='yellow')\n",
    "plt.bar(noes, vars)\n",
    "plt.xscale('log')\n",
    "# plt.yscale('log', base = 10)\n",
    "plt.xlabel('NoE')\n",
    "# plt.ylabel('Var')\n",
    "plt.legend()\n",
    "plt.draw()\n",
    "plt.savefig('compare_shadow_noe.eps', dpi = 1000, format = 'eps')"
   ]
  }
 ],
 "metadata": {
  "interpreter": {
   "hash": "770b641b4564229c593d803dcff32fdd6beb94e7a78ba8806c95b100ce213599"
  },
  "kernelspec": {
   "display_name": "Python 3.8.0 64-bit",
   "language": "python",
   "name": "python3"
  },
  "language_info": {
   "codemirror_mode": {
    "name": "ipython",
    "version": 3
   },
   "file_extension": ".py",
   "mimetype": "text/x-python",
   "name": "python",
   "nbconvert_exporter": "python",
   "pygments_lexer": "ipython3",
   "version": "3.8.0"
  },
  "orig_nbformat": 4
 },
 "nbformat": 4,
 "nbformat_minor": 2
}
