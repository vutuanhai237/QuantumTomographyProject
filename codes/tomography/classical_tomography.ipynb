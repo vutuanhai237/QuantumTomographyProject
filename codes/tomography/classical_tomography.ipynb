{
 "cells": [
  {
   "cell_type": "code",
   "execution_count": 1,
   "metadata": {},
   "outputs": [],
   "source": [
    "import numpy as np\n",
    "import qiskit\n",
    "import tqix\n",
    "import sys, math\n",
    "sys.path.insert(1, '../')\n",
    "import qtm.constant, qtm.base"
   ]
  },
  {
   "cell_type": "code",
   "execution_count": null,
   "metadata": {},
   "outputs": [],
   "source": [
    "\n",
    "# Import packages.\n",
    "import cvxpy as cp\n",
    "import numpy as np\n",
    "\n",
    "def fit(state):\n",
    "    n = 4\n",
    "    trial_state = cp.Variable((n, 1)) # reconstructed state\n",
    "    # Constraint for density matrix\n",
    "    # https://quantumcomputing.stackexchange.com/questions/2336/how-to-check-if-a-matrix-is-a-valid-density-matrix\n",
    "    constraints = [trial_state @ trial_state.T >> 0] # density matrix is semi-define\n",
    "    # constraints = [cp.trace(trial_state @ trial_state.T) == 1 ]\n",
    "    # Trace between state and reconstructed state\n",
    "    prob = cp.Problem(cp.Minimize(1 - calculate_TML(trial_state.value)),\n",
    "                  constraints)\n",
    "    prob.solve()\n",
    "    # Print result.\n",
    "    print(\"The optimal value is\", prob.value)\n",
    "    print(\"A solution X is\")\n",
    "    print(trial_state.value)"
   ]
  },
  {
   "cell_type": "code",
   "execution_count": 9,
   "metadata": {},
   "outputs": [],
   "source": [
    "def calculate_TML(trial_state):\n",
    "    ###################\n",
    "    ## Calculate Pr\n",
    "    ###################\n",
    "    if (trial_state) is None:\n",
    "        return -100\n",
    "    model = tqix.qmeas(trial_state, 'MUB')\n",
    "    pr = model.probability()\n",
    "    for i in range(0, len(pr)):\n",
    "        if pr[i] == 0:\n",
    "            pr[i] = 10**(-10)\n",
    "    ###################\n",
    "    ## Calculate fr\n",
    "    ###################\n",
    "    model = tqix.qmeas(state, 'MUB')\n",
    "    cdf_model = tqix.qsim(model, niter = qtm.constant.num_shots, backend='cdf')\n",
    "    fr = np.real(cdf_model.probability())\n",
    "    ###################\n",
    "    ## Calculate Tml\n",
    "    ###################\n",
    "    tml = 0\n",
    "    for i in range(0, len(pr)):\n",
    "        tml += np.real(fr[i]*np.log(pr[i]))\n",
    "    return tml"
   ]
  },
  {
   "cell_type": "code",
   "execution_count": 13,
   "metadata": {},
   "outputs": [
    {
     "name": "stdout",
     "output_type": "stream",
     "text": [
      "-5.638341259240184\n",
      "-15.668346137072346\n"
     ]
    }
   ],
   "source": [
    "num_qubits = 2\n",
    "\n",
    "# psi = 2*np.random.rand(2**num_qubits)-1\n",
    "# psi = psi / np.linalg.norm(psi)\n",
    "# qc = qiskit.QuantumCircuit(num_qubits, num_qubits)\n",
    "# qc.initialize(psi, range(0, num_qubits))\n",
    "# state = qiskit.quantum_info.Statevector(qc).data\n",
    "# state = np.real(state.reshape((2**num_qubits, 1)))\n",
    "state = tqix.random(4)\n",
    "max_tml = 0\n",
    "tmls = []\n",
    "for i in range(0, 10000):\n",
    "    # trial_state = np.random.uniform(low = 0, high = 2*np.pi, size = (2**num_qubits, 1))\n",
    "    # trial_state = trial_state / np.linalg.norm(trial_state)\n",
    "    trial_state = tqix.random(4)\n",
    "    tml = calculate_TML(trial_state)\n",
    "    tmls.append(tml)\n",
    "    if i == 0 or max_tml < tml:\n",
    "        max_tml = tml\n",
    "        reconstructed_state = trial_state\n",
    "\n",
    "        # if fidelity > 0.99:\n",
    "        #     print('Founded')\n",
    "        #     break\n",
    "        if tml >= 1:\n",
    "            break\n",
    "# state = np.squeeze(state, axis = 1)\n",
    "# reconstructed_state = np.squeeze(reconstructed_state, axis = 1)\n",
    "# trace, fidelity = qtm.base.get_metrics(state, reconstructed_state)\n",
    "# print(tml)\n",
    "# print(\"State: \", state)\n",
    "# print(\"Reconstructed state: \", reconstructed_state)\n",
    "# print(fidelity)\n",
    "print(max(tmls))\n",
    "print(min(tmls))\n"
   ]
  },
  {
   "cell_type": "markdown",
   "metadata": {},
   "source": [
    "first, we change ghz(1) by Haar random called from Qiskit. let fix N = 2.\n",
    "then we calculate the cdf_model probabilites so, now we have f_r.\n",
    "\n",
    "len(f_r) = (2^n + 1)*2^n\n",
    "f_r(1) = (2^1 + 1)*2\n",
    "Next, we calculate the trial probabilities, to calculate the trial probabilities, you can call the probability from model (not cdf_model)"
   ]
  },
  {
   "cell_type": "markdown",
   "metadata": {},
   "source": [
    "1. We have $f_r$ based on measure random unknown state\n",
    "2. For each $|\\psi_{trial}\\rangle$, we have different $P_r$.\n",
    "3. And $T_{ML}(\\psi_{trial})=\\Sigma (f_r.\\log(P_R)) \\in C$?\n",
    "\n",
    "We repeat 2-3 until $T_{ML}(\\psi_{trial})$ max and $\\psi_{trial}$ is $|\\mu\\rangle$"
   ]
  },
  {
   "cell_type": "markdown",
   "metadata": {},
   "source": [
    "<img width = 500px src = '../../images/classical_tomography.jpg'/>"
   ]
  }
 ],
 "metadata": {
  "interpreter": {
   "hash": "770b641b4564229c593d803dcff32fdd6beb94e7a78ba8806c95b100ce213599"
  },
  "kernelspec": {
   "display_name": "Python 3.8.0 64-bit",
   "language": "python",
   "name": "python3"
  },
  "language_info": {
   "codemirror_mode": {
    "name": "ipython",
    "version": 3
   },
   "file_extension": ".py",
   "mimetype": "text/x-python",
   "name": "python",
   "nbconvert_exporter": "python",
   "pygments_lexer": "ipython3",
   "version": "3.8.0"
  },
  "orig_nbformat": 4
 },
 "nbformat": 4,
 "nbformat_minor": 2
}
