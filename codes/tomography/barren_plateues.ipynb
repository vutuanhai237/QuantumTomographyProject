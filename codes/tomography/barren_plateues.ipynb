{
 "cells": [
  {
   "cell_type": "code",
   "execution_count": 2,
   "metadata": {},
   "outputs": [],
   "source": [
    "import qiskit\n",
    "import numpy as np\n",
    "import sys\n",
    "sys.path.insert(1, '../')\n",
    "import qtm.base, qtm.constant, qtm.fubini_study\n",
    "%load_ext autoreload\n",
    "%autoreload 2"
   ]
  },
  {
   "cell_type": "code",
   "execution_count": 10,
   "metadata": {},
   "outputs": [
    {
     "name": "stdout",
     "output_type": "stream",
     "text": [
      "W_chain: (1,3): 0\n",
      "0.0\n",
      "W_chain: (2,3): 0\n",
      "0.0\n"
     ]
    }
   ],
   "source": [
    "layers = range(1, 3)\n",
    "ts = []\n",
    "for num_layers in layers:\n",
    "    variances = []\n",
    "    grads = []\n",
    "    num_qubits = 3\n",
    "    thetas = np.ones(num_layers*num_qubits*4)\n",
    "    psi = 2*np.random.rand(2**num_qubits)-1\n",
    "    psi = psi / np.linalg.norm(psi)\n",
    "    qc = qiskit.QuantumCircuit(num_qubits, num_qubits)\n",
    "    qc.initialize(psi, range(0, num_qubits))\n",
    "    loss_values = []\n",
    "    thetass = []\n",
    "    for i in range(0, 1):\n",
    "        if i % 20 == 0:\n",
    "            print('W_chain: (' + str(num_layers) + ',' + str(num_qubits) + '): ' + str(i))\n",
    "        G = qtm.fubini_study.qng(qc.copy(), thetas, qtm.ansatz.create_Wchain_layerd_ansatz, num_layers = num_layers)\n",
    "        grad_loss = qtm.base.grad_loss(\n",
    "            qc, \n",
    "            qtm.ansatz.create_Wchain_layerd_ansatz,\n",
    "            thetas, num_layers = num_layers)\n",
    "\n",
    "        grad = np.linalg.inv(G) @ grad_loss\n",
    "        grads.append(grad)\n",
    "    t = []\n",
    "    for grad in grads:\n",
    "        t.append(grad[-1])\n",
    "    print(np.var(t))\n",
    "    ts.append(np.var(t))\n",
    "np.savetxt(\"./barren_wchain.csv\", ts, delimiter=\",\")"
   ]
  },
  {
   "cell_type": "code",
   "execution_count": null,
   "metadata": {},
   "outputs": [],
   "source": []
  }
 ],
 "metadata": {
  "interpreter": {
   "hash": "b6314cf850edbae231b80224200c9e1580e03453e86236ed42ea1b49b1f8d2e3"
  },
  "kernelspec": {
   "display_name": "Python 3.8.0 64-bit",
   "language": "python",
   "name": "python3"
  },
  "language_info": {
   "codemirror_mode": {
    "name": "ipython",
    "version": 3
   },
   "file_extension": ".py",
   "mimetype": "text/x-python",
   "name": "python",
   "nbconvert_exporter": "python",
   "pygments_lexer": "ipython3",
   "version": "3.8.0"
  },
  "orig_nbformat": 4
 },
 "nbformat": 4,
 "nbformat_minor": 2
}
