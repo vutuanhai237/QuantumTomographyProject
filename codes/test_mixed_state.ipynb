{
 "cells": [
  {
   "cell_type": "code",
   "execution_count": 2,
   "metadata": {},
   "outputs": [],
   "source": [
    "from mixed_state.qcircuit import *\n",
    "from mixed_state.utils import get_zero_state, getreal_denmat, getreal_vector\n",
    "import qiskit"
   ]
  },
  {
   "cell_type": "code",
   "execution_count": 3,
   "metadata": {},
   "outputs": [],
   "source": [
    "num_to_mix = 3\n",
    "system_size = 2"
   ]
  },
  {
   "cell_type": "code",
   "execution_count": 4,
   "metadata": {},
   "outputs": [
    {
     "name": "stdout",
     "output_type": "stream",
     "text": [
      "[[ 9.40509997e-16-2.22044605e-16j]\n",
      " [-4.93038066e-32-2.08835171e-31j]\n",
      " [-1.00000000e+00+1.83697020e-16j]\n",
      " [ 4.07889322e-32+2.22044605e-16j]]\n",
      "...\n",
      "[[-2.06449441e-31-1.33779584e-31j]\n",
      " [-2.35127499e-16-4.99600361e-16j]\n",
      " [ 3.78431522e-16-2.35127499e-16j]\n",
      " [ 1.00000000e+00-4.89858720e-16j]]\n",
      "...\n",
      "[[-4.17670341e-31+3.32073328e-31j]\n",
      " [ 4.99600361e-16-2.35127499e-16j]\n",
      " [ 2.22044605e-16+9.40509997e-16j]\n",
      " [-7.96020419e-16-1.00000000e+00j]]\n",
      "...\n"
     ]
    }
   ],
   "source": [
    "zero_state = get_zero_state(system_size)\n",
    "input_state = list()\n",
    "angle = np.random.randint(1, 10, size=[num_to_mix, system_size, 3])\n",
    "for i in range(num_to_mix):\n",
    "    matrix = Identity(system_size)\n",
    "    for j in range(system_size):\n",
    "        row_i_mat = np.matmul(\n",
    "            Z_Rotation(system_size, j, np.pi * angle[i][j][2], False),\n",
    "            np.matmul(\n",
    "                Y_Rotation(system_size, j, np.pi * angle[i][j][1], False),\n",
    "                X_Rotation(system_size, j, np.pi * angle[i][j][0], False)))\n",
    "        matrix = np.matmul(row_i_mat, matrix)\n",
    "    state = np.matmul(matrix, zero_state)\n",
    "    input_state.append(np.asmatrix(state))\n",
    "\n",
    "while True:\n",
    "    prob_real = np.random.dirichlet(np.ones(num_to_mix)).tolist()\n",
    "    real_state = getreal_denmat(system_size, num_to_mix, prob_real, input_state)\n",
    "    if (qiskit.quantum_info.purity(real_state) < 0.9999):\n",
    "        break"
   ]
  },
  {
   "cell_type": "code",
   "execution_count": 21,
   "metadata": {},
   "outputs": [
    {
     "data": {
      "text/plain": [
       "(1, 4)"
      ]
     },
     "execution_count": 21,
     "metadata": {},
     "output_type": "execute_result"
    }
   ],
   "source": [
    "real_state2.conjugate().transpose()"
   ]
  },
  {
   "cell_type": "code",
   "execution_count": 25,
   "metadata": {},
   "outputs": [],
   "source": [
    "real_state2 = getreal_vector(system_size, num_to_mix, prob_real, input_state)\n",
    "a = (real_state2 @ real_state2.conjugate().transpose())"
   ]
  },
  {
   "cell_type": "code",
   "execution_count": 24,
   "metadata": {},
   "outputs": [
    {
     "data": {
      "text/plain": [
       "matrix([[ 4.33961693e-31+0.00000000e+00j,\n",
       "         -5.42932586e-47+9.82117982e-47j,\n",
       "         -4.37050586e-16+1.03183087e-16j,\n",
       "         -1.69680342e-31-2.50589986e-31j],\n",
       "        [-5.42932586e-47-9.82117982e-47j,\n",
       "          1.63206617e-31+0.00000000e+00j,\n",
       "         -1.86637109e-33-1.13913527e-31j,\n",
       "          9.85330832e-18+2.09363703e-17j],\n",
       "        [-4.37050586e-16-1.03183087e-16j,\n",
       "         -1.86637109e-33+1.13913527e-31j,\n",
       "          4.64695311e-01+0.00000000e+00j,\n",
       "         -1.78077558e-16+1.09260600e-16j],\n",
       "        [-1.69680342e-31+2.50589986e-31j,\n",
       "          9.85330832e-18-2.09363703e-17j,\n",
       "         -1.78077558e-16-1.09260600e-16j,\n",
       "          5.35304689e-01+0.00000000e+00j]])"
      ]
     },
     "execution_count": 24,
     "metadata": {},
     "output_type": "execute_result"
    }
   ],
   "source": [
    "real_state"
   ]
  },
  {
   "cell_type": "code",
   "execution_count": 12,
   "metadata": {},
   "outputs": [
    {
     "data": {
      "text/plain": [
       "33104"
      ]
     },
     "execution_count": 12,
     "metadata": {},
     "output_type": "execute_result"
    }
   ],
   "source": [
    "4138 * 8"
   ]
  },
  {
   "cell_type": "code",
   "execution_count": 16,
   "metadata": {},
   "outputs": [
    {
     "name": "stderr",
     "output_type": "stream",
     "text": [
      "The PostScript backend does not support transparency; partially transparent artists will be rendered opaque.\n"
     ]
    },
    {
     "data": {
      "image/png": "[encoded data removed]",
      "text/plain": [
       "<Figure size 432x288 with 1 Axes>"
      ]
     },
     "metadata": {
      "needs_background": "light"
     },
     "output_type": "display_data"
    }
   ],
   "source": [
    "from matplotlib import pyplot as plt\n",
    "import numpy as np\n",
    "x = [2, 4, 8]\n",
    "y1 = [0.27040076, 1.007444332, 5.341749829]\n",
    "plt.plot(x, y1, marker='o', label = 'QkNN')\n",
    "plt.xlabel('Dimensional')\n",
    "# plt.xticks(np.arange(min(x) - 1, max(x) + 5, 1))\n",
    "# plt.yticks(np.arange(0, 1.4, 0.2))\n",
    "plt.ylabel('Relative error (%)')\n",
    "plt.legend()\n",
    "plt.savefig('error.eps', format='eps', dpi=600)"
   ]
  },
  {
   "cell_type": "code",
   "execution_count": 16,
   "metadata": {},
   "outputs": [
    {
     "name": "stdout",
     "output_type": "stream",
     "text": [
      "Predict labels:  [0, 2, 0, 2, 2, 2, 2, 0, 0]\n",
      "Test labels:  [1, 0, 0, 1, 1, 2, 2, 1, 2]\n",
      "accuracy:  0.3333333333333333\n",
      "precision:  0.5925925925925926\n",
      "recall:  0.3333333333333333\n",
      "matrix:  [[1 2 1]\n",
      " [0 0 0]\n",
      " [1 2 2]]\n"
     ]
    },
    {
     "name": "stderr",
     "output_type": "stream",
     "text": [
      "C:\\Users\\haime\\AppData\\Roaming\\Python\\Python38\\site-packages\\sklearn\\metrics\\_classification.py:1308: UndefinedMetricWarning: Recall is ill-defined and being set to 0.0 in labels with no true samples. Use `zero_division` parameter to control this behavior.\n",
      "  _warn_prf(average, modifier, msg_start, len(result))\n"
     ]
    }
   ],
   "source": [
    "import sklearn\n",
    "\n",
    "def bench_mark(ground_truth, predict):\n",
    "    \"\"\"Return predict labels QKNN algorithm\n",
    "    Args:\n",
    "        - ground_truth (numpy array 1D): truth labels\n",
    "        - predict (numpy array 1D): predict labels\n",
    "    Returns:\n",
    "        - Tuple: benchmark on classifer problem\n",
    "    \"\"\"\n",
    "    accuracy = sklearn.metrics.accuracy_score(ground_truth, predict)\n",
    "    precision = sklearn.metrics.precision_score(ground_truth, predict, average=\"weighted\")\n",
    "    recall = sklearn.metrics.recall_score(ground_truth, predict, average=\"weighted\")\n",
    "    f1 = sklearn.metrics.f1_score(ground_truth, predict, average=\"micro\")\n",
    "    matrix = sklearn.metrics.confusion_matrix(ground_truth, predict)\n",
    "    return accuracy, precision, recall, matrix\n",
    "\n",
    "predict_labels = [0, 2, 0, 2, 2, 2, 2, 0, 0]\n",
    "\n",
    "test_labels = [1, 0, 0, 1, 1, 2, 2, 1, 2]\n",
    "\n",
    "accuracy, precision, recall, matrix = bench_mark(predict_labels, test_labels)\n",
    "print('Predict labels: ', predict_labels)\n",
    "print('Test labels: ', test_labels)\n",
    "print('accuracy: ', accuracy)\n",
    "print('precision: ', precision)\n",
    "print('recall: ', recall)\n",
    "print('matrix: ', matrix)"
   ]
  },
  {
   "cell_type": "code",
   "execution_count": 1,
   "metadata": {},
   "outputs": [],
   "source": [
    "import qiskit\n",
    "import numpy as np\n",
    "import qtm.nqubit, qtm.custom_gate"
   ]
  },
  {
   "cell_type": "code",
   "execution_count": 2,
   "metadata": {},
   "outputs": [],
   "source": [
    "random_sv = qiskit.quantum_info.random_statevector(8)"
   ]
  },
  {
   "cell_type": "code",
   "execution_count": 26,
   "metadata": {},
   "outputs": [
    {
     "data": {
      "text/plain": [
       "1.0"
      ]
     },
     "execution_count": 26,
     "metadata": {},
     "output_type": "execute_result"
    }
   ],
   "source": [
    "qc = qiskit.QuantumCircuit(3)\n",
    "qc.initialize(random_sv.data, [0, 1, 2])\n",
    "qc = qtm.nqubit.create_Wchainchecker_haar(qc, thetas, num_layers)\n",
    "# qc.draw('mpl')\n",
    "state = (qiskit.quantum_info.Statevector.from_instruction(qc))\n",
    "qiskit.quantum_info.purity(state)"
   ]
  },
  {
   "cell_type": "code",
   "execution_count": 3,
   "metadata": {},
   "outputs": [
    {
     "name": "stdout",
     "output_type": "stream",
     "text": [
      "DensityMatrix([[0.5+0.j, 0. +0.j],\n",
      "               [0. +0.j, 0.5+0.j]],\n",
      "              dims=(2,))\n"
     ]
    }
   ],
   "source": [
    "from qiskit import *\n",
    "from qiskit.quantum_info.states.utils import partial_trace\n",
    "qc = QuantumCircuit(2, 2)\n",
    "qc.h(0)\n",
    "qc.cx(0, 1)\n",
    "\n",
    "sim =  Aer.get_backend('statevector_simulator')\n",
    "res = execute(qc, sim, shots=100).result()\n",
    "state_vec = res.get_statevector()\n",
    "\n",
    "# Remove qubit zero\n",
    "print(partial_trace(state_vec, [0]))"
   ]
  },
  {
   "cell_type": "code",
   "execution_count": 6,
   "metadata": {},
   "outputs": [
    {
     "name": "stderr",
     "output_type": "stream",
     "text": [
      "C:\\Users\\haime\\AppData\\Roaming\\Python\\Python38\\site-packages\\_distutils_hack\\__init__.py:30: UserWarning: Setuptools is replacing distutils.\n",
      "  warnings.warn(\"Setuptools is replacing distutils.\")\n"
     ]
    }
   ],
   "source": [
    "import pennylane as qml\n",
    "from pennylane import numpy as np\n",
    "\n",
    "# we generate a three-dimensional random vector by sampling\n",
    "# each entry from a standard normal distribution\n",
    "v = np.random.normal(0, 1, 3)\n",
    "\n",
    "# purity of the target state\n",
    "purity = 0.66\n",
    "\n",
    "# create a random Bloch vector with the specified purity\n",
    "bloch_v = np.sqrt(2 * purity - 1) * v / np.sqrt(np.sum(v ** 2))\n",
    "\n",
    "# array of Pauli matrices (will be useful later)\n",
    "Paulis = np.zeros((3, 2, 2), dtype=complex)\n",
    "Paulis[0] = [[0, 1], [1, 0]]\n",
    "Paulis[1] = [[0, -1j], [1j, 0]]\n",
    "Paulis[2] = [[1, 0], [0, -1]]\n",
    "\n"
   ]
  },
  {
   "cell_type": "code",
   "execution_count": 7,
   "metadata": {},
   "outputs": [],
   "source": [
    "# number of qubits in the circuit\n",
    "nr_qubits = 3\n",
    "# number of layers in the circuit\n",
    "nr_layers = 2\n",
    "\n",
    "# randomly initialize parameters from a normal distribution\n",
    "params = np.random.normal(0, np.pi, (nr_qubits, nr_layers, 3))\n",
    "\n",
    "# a layer of the circuit ansatz\n",
    "def layer(params, j):\n",
    "    for i in range(nr_qubits):\n",
    "        qml.RX(params[i, j, 0], wires=i)\n",
    "        qml.RY(params[i, j, 1], wires=i)\n",
    "        qml.RZ(params[i, j, 2], wires=i)\n",
    "\n",
    "    qml.CNOT(wires=[0, 1])\n",
    "    qml.CNOT(wires=[0, 2])\n",
    "    qml.CNOT(wires=[1, 2])"
   ]
  },
  {
   "cell_type": "code",
   "execution_count": 11,
   "metadata": {},
   "outputs": [],
   "source": [
    "dev = qml.device(\"default.qubit\", shots=1000, wires = 3)"
   ]
  },
  {
   "cell_type": "code",
   "execution_count": 12,
   "metadata": {},
   "outputs": [],
   "source": [
    "@qml.qnode(dev)\n",
    "def circuit(params, A=None):\n",
    "\n",
    "    # repeatedly apply each layer in the circuit\n",
    "    for j in range(nr_layers):\n",
    "        layer(params, j)\n",
    "\n",
    "    # returns the expectation of the input matrix A on the first qubit\n",
    "    return qml.expval(qml.Hermitian(A, wires=0))"
   ]
  },
  {
   "cell_type": "code",
   "execution_count": 13,
   "metadata": {},
   "outputs": [
    {
     "name": "stdout",
     "output_type": "stream",
     "text": [
      "Cost after 0 steps is 0.9254\n",
      "Cost after 10 steps is 0.4622\n",
      "Cost after 20 steps is 0.2854\n",
      "Cost after 30 steps is 0.1463\n",
      "Cost after 40 steps is 0.1577\n",
      "Cost after 50 steps is 0.0906\n",
      "Cost after 60 steps is 0.1026\n",
      "Cost after 70 steps is 0.1377\n",
      "Cost after 80 steps is 0.0546\n",
      "Cost after 90 steps is 0.0897\n",
      "Cost after 100 steps is 0.0642\n",
      "Cost after 110 steps is 0.0822\n",
      "Cost after 120 steps is 0.0577\n",
      "Cost after 130 steps is 0.0623\n",
      "Cost after 140 steps is 0.0686\n",
      "Cost after 150 steps is 0.0897\n",
      "Cost after 160 steps is 0.0314\n",
      "Cost after 170 steps is 0.0502\n",
      "Cost after 180 steps is 0.0794\n",
      "Cost after 190 steps is 0.0254\n",
      "Cost after 200 steps is 0.0594\n",
      "Target Bloch vector =  [-0.23943709 -0.36097758 -0.3638201 ]\n",
      "Output Bloch vector =  [-0.288 -0.356 -0.336]\n"
     ]
    }
   ],
   "source": [
    "# cost function\n",
    "def cost_fn(params):\n",
    "    cost = 0\n",
    "    for k in range(3):\n",
    "        cost += np.abs(circuit(params, A=Paulis[k]) - bloch_v[k])\n",
    "\n",
    "    return cost\n",
    "\n",
    "# set up the optimizer\n",
    "opt = qml.AdamOptimizer()\n",
    "\n",
    "# number of steps in the optimization routine\n",
    "steps = 200\n",
    "\n",
    "# the final stage of optimization isn't always the best, so we keep track of\n",
    "# the best parameters along the way\n",
    "best_cost = cost_fn(params)\n",
    "best_params = np.zeros((nr_qubits, nr_layers, 3))\n",
    "\n",
    "print(\"Cost after 0 steps is {:.4f}\".format(cost_fn(params)))\n",
    "\n",
    "# optimization begins\n",
    "for n in range(steps):\n",
    "    params = opt.step(cost_fn, params)\n",
    "    current_cost = cost_fn(params)\n",
    "\n",
    "    # keeps track of best parameters\n",
    "    if current_cost < best_cost:\n",
    "        best_params = params\n",
    "\n",
    "    # Keep track of progress every 10 steps\n",
    "    if n % 10 == 9 or n == steps - 1:\n",
    "        print(\"Cost after {} steps is {:.4f}\".format(n + 1, current_cost))\n",
    "\n",
    "# calculate the Bloch vector of the output state\n",
    "output_bloch_v = np.zeros(3)\n",
    "for l in range(3):\n",
    "    output_bloch_v[l] = circuit(best_params, A=Paulis[l])\n",
    "\n",
    "# print results\n",
    "print(\"Target Bloch vector = \", bloch_v)\n",
    "print(\"Output Bloch vector = \", output_bloch_v)"
   ]
  }
 ],
 "metadata": {
  "interpreter": {
   "hash": "b0bb45761e06d42ef60a7e329026c016a53b18e4ad51e16529481946724f1b50"
  },
  "kernelspec": {
   "display_name": "Python 3.7.6 64-bit",
   "name": "python3"
  },
  "language_info": {
   "codemirror_mode": {
    "name": "ipython",
    "version": 3
   },
   "file_extension": ".py",
   "mimetype": "text/x-python",
   "name": "python",
   "nbconvert_exporter": "python",
   "pygments_lexer": "ipython3",
   "version": "3.8.0"
  },
  "orig_nbformat": 4
 },
 "nbformat": 4,
 "nbformat_minor": 2
}
