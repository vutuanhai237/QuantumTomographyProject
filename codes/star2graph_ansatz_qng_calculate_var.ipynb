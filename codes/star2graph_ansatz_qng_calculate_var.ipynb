{
 "cells": [
  {
   "cell_type": "code",
   "execution_count": 1,
   "metadata": {},
   "outputs": [
    {
     "data": {
      "text/plain": [
       "<module 'qtm.constant' from 'c:\\\\Users\\\\haime\\\\OneDrive\\\\Máy tính\\\\QuantumTomography\\\\codes\\\\qtm\\\\constant.py'>"
      ]
     },
     "execution_count": 1,
     "metadata": {},
     "output_type": "execute_result"
    }
   ],
   "source": [
    "import qiskit\n",
    "import numpy as np\n",
    "import qtm.base, qtm.constant, qtm.nqubit, qtm.fubini_study\n",
    "import importlib\n",
    "importlib.reload(qtm.fubini_study)\n",
    "importlib.reload(qtm.nqubit)\n",
    "importlib.reload(qtm.base)\n",
    "importlib.reload(qtm.constant)"
   ]
  },
  {
   "cell_type": "markdown",
   "metadata": {},
   "source": [
    "### GHZ"
   ]
  },
  {
   "cell_type": "code",
   "execution_count": 11,
   "metadata": {},
   "outputs": [
    {
     "name": "stdout",
     "output_type": "stream",
     "text": [
      "2\n",
      "0.20356052140984585\n",
      "3\n",
      "0.14735630600000005\n",
      "4\n",
      "0.009018634000000003\n",
      "5\n",
      "0.005918208400000004\n",
      "6\n"
     ]
    },
    {
     "ename": "KeyboardInterrupt",
     "evalue": "",
     "output_type": "error",
     "traceback": [
      "\u001b[1;31m---------------------------------------------------------------------------\u001b[0m",
      "\u001b[1;31mKeyboardInterrupt\u001b[0m                         Traceback (most recent call last)",
      "\u001b[1;32mc:\\Users\\haime\\OneDrive\\Máy tính\\QuantumTomography\\codes\\star2graph_ansatz_qng_calculate_var.ipynb Cell 3'\u001b[0m in \u001b[0;36m<module>\u001b[1;34m\u001b[0m\n\u001b[0;32m     <a href='vscode-notebook-cell:/c%3A/Users/haime/OneDrive/M%C3%A1y%20t%C3%ADnh/QuantumTomography/codes/star2graph_ansatz_qng_calculate_var.ipynb#ch0000032?line=16'>17</a>\u001b[0m thetas \u001b[39m=\u001b[39m np\u001b[39m.\u001b[39mrandom\u001b[39m.\u001b[39muniform(low\u001b[39m=\u001b[39m \u001b[39m0\u001b[39m, high\u001b[39m=\u001b[39m \u001b[39m2\u001b[39m \u001b[39m*\u001b[39m np\u001b[39m.\u001b[39mpi, size\u001b[39m=\u001b[39mnum_layers\u001b[39m*\u001b[39m(\u001b[39m2\u001b[39m\u001b[39m*\u001b[39mnum_qubits \u001b[39m-\u001b[39m \u001b[39m2\u001b[39m))\n\u001b[0;32m     <a href='vscode-notebook-cell:/c%3A/Users/haime/OneDrive/M%C3%A1y%20t%C3%ADnh/QuantumTomography/codes/star2graph_ansatz_qng_calculate_var.ipynb#ch0000032?line=17'>18</a>\u001b[0m G \u001b[39m=\u001b[39m qtm\u001b[39m.\u001b[39mfubini_study\u001b[39m.\u001b[39mqng(qc\u001b[39m.\u001b[39mcopy(), thetas, qtm\u001b[39m.\u001b[39mnqubit\u001b[39m.\u001b[39mcreate_star2graph_state, num_layers)\n\u001b[1;32m---> <a href='vscode-notebook-cell:/c%3A/Users/haime/OneDrive/M%C3%A1y%20t%C3%ADnh/QuantumTomography/codes/star2graph_ansatz_qng_calculate_var.ipynb#ch0000032?line=18'>19</a>\u001b[0m grad_loss \u001b[39m=\u001b[39m qtm\u001b[39m.\u001b[39;49mbase\u001b[39m.\u001b[39;49mgrad_loss(\n\u001b[0;32m     <a href='vscode-notebook-cell:/c%3A/Users/haime/OneDrive/M%C3%A1y%20t%C3%ADnh/QuantumTomography/codes/star2graph_ansatz_qng_calculate_var.ipynb#ch0000032?line=19'>20</a>\u001b[0m     qc, \n\u001b[0;32m     <a href='vscode-notebook-cell:/c%3A/Users/haime/OneDrive/M%C3%A1y%20t%C3%ADnh/QuantumTomography/codes/star2graph_ansatz_qng_calculate_var.ipynb#ch0000032?line=20'>21</a>\u001b[0m     qtm\u001b[39m.\u001b[39;49mnqubit\u001b[39m.\u001b[39;49mcreate_GHZchecker_star2graph,\n\u001b[0;32m     <a href='vscode-notebook-cell:/c%3A/Users/haime/OneDrive/M%C3%A1y%20t%C3%ADnh/QuantumTomography/codes/star2graph_ansatz_qng_calculate_var.ipynb#ch0000032?line=21'>22</a>\u001b[0m     thetas, r \u001b[39m=\u001b[39;49m \u001b[39m1\u001b[39;49m\u001b[39m/\u001b[39;49m\u001b[39m2\u001b[39;49m, s \u001b[39m=\u001b[39;49m np\u001b[39m.\u001b[39;49mpi\u001b[39m/\u001b[39;49m\u001b[39m2\u001b[39;49m, num_layers \u001b[39m=\u001b[39;49m num_layers, theta \u001b[39m=\u001b[39;49m theta)\n\u001b[0;32m     <a href='vscode-notebook-cell:/c%3A/Users/haime/OneDrive/M%C3%A1y%20t%C3%ADnh/QuantumTomography/codes/star2graph_ansatz_qng_calculate_var.ipynb#ch0000032?line=22'>23</a>\u001b[0m grad \u001b[39m=\u001b[39m np\u001b[39m.\u001b[39mlinalg\u001b[39m.\u001b[39minv(G) \u001b[39m@\u001b[39m grad_loss\n\u001b[0;32m     <a href='vscode-notebook-cell:/c%3A/Users/haime/OneDrive/M%C3%A1y%20t%C3%ADnh/QuantumTomography/codes/star2graph_ansatz_qng_calculate_var.ipynb#ch0000032?line=23'>24</a>\u001b[0m grads\u001b[39m.\u001b[39mappend(grad[\u001b[39m-\u001b[39m\u001b[39m1\u001b[39m])\n",
      "File \u001b[1;32mc:\\Users\\haime\\OneDrive\\Máy tính\\QuantumTomography\\codes\\qtm\\base.py:223\u001b[0m, in \u001b[0;36mgrad_loss\u001b[1;34m(qc, create_circuit_func, thetas, r, s, **kwargs)\u001b[0m\n\u001b[0;32m    <a href='file:///c%3A/Users/haime/OneDrive/M%C3%A1y%20t%C3%ADnh/QuantumTomography/codes/qtm/base.py?line=218'>219</a>\u001b[0m     qc1 \u001b[39m=\u001b[39m create_circuit_func(qc\u001b[39m.\u001b[39mcopy(), thetas1, \u001b[39m*\u001b[39m\u001b[39m*\u001b[39mkwargs)\n\u001b[0;32m    <a href='file:///c%3A/Users/haime/OneDrive/M%C3%A1y%20t%C3%ADnh/QuantumTomography/codes/qtm/base.py?line=219'>220</a>\u001b[0m     qc2 \u001b[39m=\u001b[39m create_circuit_func(qc\u001b[39m.\u001b[39mcopy(), thetas2, \u001b[39m*\u001b[39m\u001b[39m*\u001b[39mkwargs)\n\u001b[0;32m    <a href='file:///c%3A/Users/haime/OneDrive/M%C3%A1y%20t%C3%ADnh/QuantumTomography/codes/qtm/base.py?line=221'>222</a>\u001b[0m     grad_loss[i] \u001b[39m=\u001b[39m \u001b[39m-\u001b[39mr \u001b[39m*\u001b[39m (\n\u001b[1;32m--> <a href='file:///c%3A/Users/haime/OneDrive/M%C3%A1y%20t%C3%ADnh/QuantumTomography/codes/qtm/base.py?line=222'>223</a>\u001b[0m         qtm\u001b[39m.\u001b[39;49mbase\u001b[39m.\u001b[39;49mmeasure(qc1, \u001b[39mlist\u001b[39;49m(\u001b[39mrange\u001b[39;49m(qc1\u001b[39m.\u001b[39;49mnum_qubits))) \u001b[39m-\u001b[39m\n\u001b[0;32m    <a href='file:///c%3A/Users/haime/OneDrive/M%C3%A1y%20t%C3%ADnh/QuantumTomography/codes/qtm/base.py?line=223'>224</a>\u001b[0m         qtm\u001b[39m.\u001b[39mbase\u001b[39m.\u001b[39mmeasure(qc2, \u001b[39mlist\u001b[39m(\u001b[39mrange\u001b[39m(qc2\u001b[39m.\u001b[39mnum_qubits))))\n\u001b[0;32m    <a href='file:///c%3A/Users/haime/OneDrive/M%C3%A1y%20t%C3%ADnh/QuantumTomography/codes/qtm/base.py?line=224'>225</a>\u001b[0m \u001b[39mreturn\u001b[39;00m grad_loss\n",
      "File \u001b[1;32mc:\\Users\\haime\\OneDrive\\Máy tính\\QuantumTomography\\codes\\qtm\\base.py:82\u001b[0m, in \u001b[0;36mmeasure\u001b[1;34m(qc, qubits, cbits)\u001b[0m\n\u001b[0;32m     <a href='file:///c%3A/Users/haime/OneDrive/M%C3%A1y%20t%C3%ADnh/QuantumTomography/codes/qtm/base.py?line=79'>80</a>\u001b[0m \u001b[39mif\u001b[39;00m qtm\u001b[39m.\u001b[39mconstant\u001b[39m.\u001b[39mnoise_prob \u001b[39m>\u001b[39m \u001b[39m0\u001b[39m:\n\u001b[0;32m     <a href='file:///c%3A/Users/haime/OneDrive/M%C3%A1y%20t%C3%ADnh/QuantumTomography/codes/qtm/base.py?line=80'>81</a>\u001b[0m     noise_model \u001b[39m=\u001b[39m generate_noise_model(n, qtm\u001b[39m.\u001b[39mconstant\u001b[39m.\u001b[39mnoise_prob)\n\u001b[1;32m---> <a href='file:///c%3A/Users/haime/OneDrive/M%C3%A1y%20t%C3%ADnh/QuantumTomography/codes/qtm/base.py?line=81'>82</a>\u001b[0m     results \u001b[39m=\u001b[39m qiskit\u001b[39m.\u001b[39;49mexecute(qc, backend\u001b[39m=\u001b[39;49mqtm\u001b[39m.\u001b[39;49mconstant\u001b[39m.\u001b[39;49mbackend,\n\u001b[0;32m     <a href='file:///c%3A/Users/haime/OneDrive/M%C3%A1y%20t%C3%ADnh/QuantumTomography/codes/qtm/base.py?line=82'>83</a>\u001b[0m                              noise_model\u001b[39m=\u001b[39;49mnoise_model,\n\u001b[0;32m     <a href='file:///c%3A/Users/haime/OneDrive/M%C3%A1y%20t%C3%ADnh/QuantumTomography/codes/qtm/base.py?line=83'>84</a>\u001b[0m                              shots\u001b[39m=\u001b[39;49mqtm\u001b[39m.\u001b[39;49mconstant\u001b[39m.\u001b[39;49mnum_shots)\u001b[39m.\u001b[39;49mresult()\n\u001b[0;32m     <a href='file:///c%3A/Users/haime/OneDrive/M%C3%A1y%20t%C3%ADnh/QuantumTomography/codes/qtm/base.py?line=84'>85</a>\u001b[0m     \u001b[39m# Raw counts\u001b[39;00m\n\u001b[0;32m     <a href='file:///c%3A/Users/haime/OneDrive/M%C3%A1y%20t%C3%ADnh/QuantumTomography/codes/qtm/base.py?line=85'>86</a>\u001b[0m     counts \u001b[39m=\u001b[39m results\u001b[39m.\u001b[39mget_counts()\n",
      "File \u001b[1;32m~\\AppData\\Local\\Programs\\Python\\Python38\\lib\\site-packages\\qiskit\\providers\\aer\\jobs\\utils.py:41\u001b[0m, in \u001b[0;36mrequires_submit.<locals>._wrapper\u001b[1;34m(self, *args, **kwargs)\u001b[0m\n\u001b[0;32m     <a href='file:///~/AppData/Local/Programs/Python/Python38/lib/site-packages/qiskit/providers/aer/jobs/utils.py?line=38'>39</a>\u001b[0m \u001b[39mif\u001b[39;00m \u001b[39mself\u001b[39m\u001b[39m.\u001b[39m_future \u001b[39mis\u001b[39;00m \u001b[39mNone\u001b[39;00m:\n\u001b[0;32m     <a href='file:///~/AppData/Local/Programs/Python/Python38/lib/site-packages/qiskit/providers/aer/jobs/utils.py?line=39'>40</a>\u001b[0m     \u001b[39mraise\u001b[39;00m JobError(\u001b[39m\"\u001b[39m\u001b[39mJob not submitted yet!. You have to .submit() first!\u001b[39m\u001b[39m\"\u001b[39m)\n\u001b[1;32m---> <a href='file:///~/AppData/Local/Programs/Python/Python38/lib/site-packages/qiskit/providers/aer/jobs/utils.py?line=40'>41</a>\u001b[0m \u001b[39mreturn\u001b[39;00m func(\u001b[39mself\u001b[39;49m, \u001b[39m*\u001b[39;49margs, \u001b[39m*\u001b[39;49m\u001b[39m*\u001b[39;49mkwargs)\n",
      "File \u001b[1;32m~\\AppData\\Local\\Programs\\Python\\Python38\\lib\\site-packages\\qiskit\\providers\\aer\\jobs\\aerjob.py:78\u001b[0m, in \u001b[0;36mAerJob.result\u001b[1;34m(self, timeout)\u001b[0m\n\u001b[0;32m     <a href='file:///~/AppData/Local/Programs/Python/Python38/lib/site-packages/qiskit/providers/aer/jobs/aerjob.py?line=59'>60</a>\u001b[0m \u001b[39m@requires_submit\u001b[39m\n\u001b[0;32m     <a href='file:///~/AppData/Local/Programs/Python/Python38/lib/site-packages/qiskit/providers/aer/jobs/aerjob.py?line=60'>61</a>\u001b[0m \u001b[39mdef\u001b[39;00m \u001b[39mresult\u001b[39m(\u001b[39mself\u001b[39m, timeout\u001b[39m=\u001b[39m\u001b[39mNone\u001b[39;00m):\n\u001b[0;32m     <a href='file:///~/AppData/Local/Programs/Python/Python38/lib/site-packages/qiskit/providers/aer/jobs/aerjob.py?line=61'>62</a>\u001b[0m     \u001b[39m# pylint: disable=arguments-differ\u001b[39;00m\n\u001b[0;32m     <a href='file:///~/AppData/Local/Programs/Python/Python38/lib/site-packages/qiskit/providers/aer/jobs/aerjob.py?line=62'>63</a>\u001b[0m     \u001b[39m\"\"\"Get job result. The behavior is the same as the underlying\u001b[39;00m\n\u001b[0;32m     <a href='file:///~/AppData/Local/Programs/Python/Python38/lib/site-packages/qiskit/providers/aer/jobs/aerjob.py?line=63'>64</a>\u001b[0m \u001b[39m    concurrent Future objects,\u001b[39;00m\n\u001b[0;32m     <a href='file:///~/AppData/Local/Programs/Python/Python38/lib/site-packages/qiskit/providers/aer/jobs/aerjob.py?line=64'>65</a>\u001b[0m \n\u001b[1;32m   (...)\u001b[0m\n\u001b[0;32m     <a href='file:///~/AppData/Local/Programs/Python/Python38/lib/site-packages/qiskit/providers/aer/jobs/aerjob.py?line=75'>76</a>\u001b[0m \u001b[39m        concurrent.futures.CancelledError: if job cancelled before completed.\u001b[39;00m\n\u001b[0;32m     <a href='file:///~/AppData/Local/Programs/Python/Python38/lib/site-packages/qiskit/providers/aer/jobs/aerjob.py?line=76'>77</a>\u001b[0m \u001b[39m    \"\"\"\u001b[39;00m\n\u001b[1;32m---> <a href='file:///~/AppData/Local/Programs/Python/Python38/lib/site-packages/qiskit/providers/aer/jobs/aerjob.py?line=77'>78</a>\u001b[0m     \u001b[39mreturn\u001b[39;00m \u001b[39mself\u001b[39;49m\u001b[39m.\u001b[39;49m_future\u001b[39m.\u001b[39;49mresult(timeout\u001b[39m=\u001b[39;49mtimeout)\n",
      "File \u001b[1;32m~\\AppData\\Local\\Programs\\Python\\Python38\\lib\\concurrent\\futures\\_base.py:434\u001b[0m, in \u001b[0;36mFuture.result\u001b[1;34m(self, timeout)\u001b[0m\n\u001b[0;32m    <a href='file:///~/AppData/Local/Programs/Python/Python38/lib/concurrent/futures/_base.py?line=430'>431</a>\u001b[0m \u001b[39melif\u001b[39;00m \u001b[39mself\u001b[39m\u001b[39m.\u001b[39m_state \u001b[39m==\u001b[39m FINISHED:\n\u001b[0;32m    <a href='file:///~/AppData/Local/Programs/Python/Python38/lib/concurrent/futures/_base.py?line=431'>432</a>\u001b[0m     \u001b[39mreturn\u001b[39;00m \u001b[39mself\u001b[39m\u001b[39m.\u001b[39m__get_result()\n\u001b[1;32m--> <a href='file:///~/AppData/Local/Programs/Python/Python38/lib/concurrent/futures/_base.py?line=433'>434</a>\u001b[0m \u001b[39mself\u001b[39;49m\u001b[39m.\u001b[39;49m_condition\u001b[39m.\u001b[39;49mwait(timeout)\n\u001b[0;32m    <a href='file:///~/AppData/Local/Programs/Python/Python38/lib/concurrent/futures/_base.py?line=435'>436</a>\u001b[0m \u001b[39mif\u001b[39;00m \u001b[39mself\u001b[39m\u001b[39m.\u001b[39m_state \u001b[39min\u001b[39;00m [CANCELLED, CANCELLED_AND_NOTIFIED]:\n\u001b[0;32m    <a href='file:///~/AppData/Local/Programs/Python/Python38/lib/concurrent/futures/_base.py?line=436'>437</a>\u001b[0m     \u001b[39mraise\u001b[39;00m CancelledError()\n",
      "File \u001b[1;32m~\\AppData\\Local\\Programs\\Python\\Python38\\lib\\threading.py:302\u001b[0m, in \u001b[0;36mCondition.wait\u001b[1;34m(self, timeout)\u001b[0m\n\u001b[0;32m    <a href='file:///~/AppData/Local/Programs/Python/Python38/lib/threading.py?line=299'>300</a>\u001b[0m \u001b[39mtry\u001b[39;00m:    \u001b[39m# restore state no matter what (e.g., KeyboardInterrupt)\u001b[39;00m\n\u001b[0;32m    <a href='file:///~/AppData/Local/Programs/Python/Python38/lib/threading.py?line=300'>301</a>\u001b[0m     \u001b[39mif\u001b[39;00m timeout \u001b[39mis\u001b[39;00m \u001b[39mNone\u001b[39;00m:\n\u001b[1;32m--> <a href='file:///~/AppData/Local/Programs/Python/Python38/lib/threading.py?line=301'>302</a>\u001b[0m         waiter\u001b[39m.\u001b[39;49macquire()\n\u001b[0;32m    <a href='file:///~/AppData/Local/Programs/Python/Python38/lib/threading.py?line=302'>303</a>\u001b[0m         gotit \u001b[39m=\u001b[39m \u001b[39mTrue\u001b[39;00m\n\u001b[0;32m    <a href='file:///~/AppData/Local/Programs/Python/Python38/lib/threading.py?line=303'>304</a>\u001b[0m     \u001b[39melse\u001b[39;00m:\n",
      "\u001b[1;31mKeyboardInterrupt\u001b[0m: "
     ]
    }
   ],
   "source": [
    "qubits = range(2, 11)\n",
    "variances = []\n",
    "for num_qubits in qubits:\n",
    "    print(num_qubits)\n",
    "    # Init parameters\n",
    "    num_layers = 2\n",
    "    # thetas = np.random.uniform(low = 0, high = 1, size = num_layers*(2*num_qubits - 2)) \n",
    "\n",
    "    theta = np.pi / 2\n",
    "    qc = qiskit.QuantumCircuit(num_qubits, num_qubits)\n",
    "\n",
    "\n",
    "    grads = []\n",
    "    for i in range(0, 10):\n",
    "        # if i % 10 == 0:\n",
    "        #     print(i)\n",
    "        thetas = np.random.uniform(low= 0, high= 2 * np.pi, size=num_layers*(2*num_qubits - 2))\n",
    "        G = qtm.fubini_study.qng(qc.copy(), thetas, qtm.nqubit.create_star2graph_state, num_layers)\n",
    "        grad_loss = qtm.base.grad_loss(\n",
    "            qc, \n",
    "            qtm.nqubit.create_GHZchecker_star2graph,\n",
    "            thetas, r = 1/2, s = np.pi/2, num_layers = num_layers, theta = theta)\n",
    "        grad = np.linalg.inv(G) @ grad_loss\n",
    "        grads.append(grad[-1])\n",
    "    print(np.var(grads))\n",
    "    variances.append(np.var(grads))"
   ]
  },
  {
   "cell_type": "code",
   "execution_count": 9,
   "metadata": {},
   "outputs": [
    {
     "name": "stdout",
     "output_type": "stream",
     "text": [
      "0\n",
      "10\n",
      "20\n",
      "30\n",
      "40\n"
     ]
    },
    {
     "ename": "KeyboardInterrupt",
     "evalue": "",
     "output_type": "error",
     "traceback": [
      "\u001b[1;31m---------------------------------------------------------------------------\u001b[0m",
      "\u001b[1;31mKeyboardInterrupt\u001b[0m                         Traceback (most recent call last)",
      "\u001b[1;32mc:\\Users\\haime\\OneDrive\\Máy tính\\QuantumTomography\\codes\\star2graph_ansatz_qng_calculate_var.ipynb Cell 3'\u001b[0m in \u001b[0;36m<module>\u001b[1;34m\u001b[0m\n\u001b[0;32m     <a href='vscode-notebook-cell:/c%3A/Users/haime/OneDrive/M%C3%A1y%20t%C3%ADnh/QuantumTomography/codes/star2graph_ansatz_qng_calculate_var.ipynb#ch0000003?line=13'>14</a>\u001b[0m thetas \u001b[39m=\u001b[39m np\u001b[39m.\u001b[39mrandom\u001b[39m.\u001b[39muniform(low\u001b[39m=\u001b[39m \u001b[39m0\u001b[39m, high\u001b[39m=\u001b[39m \u001b[39m2\u001b[39m \u001b[39m*\u001b[39m np\u001b[39m.\u001b[39mpi, size\u001b[39m=\u001b[39mnum_layers\u001b[39m*\u001b[39m(\u001b[39m2\u001b[39m\u001b[39m*\u001b[39mnum_qubits \u001b[39m-\u001b[39m \u001b[39m2\u001b[39m))\n\u001b[0;32m     <a href='vscode-notebook-cell:/c%3A/Users/haime/OneDrive/M%C3%A1y%20t%C3%ADnh/QuantumTomography/codes/star2graph_ansatz_qng_calculate_var.ipynb#ch0000003?line=14'>15</a>\u001b[0m G \u001b[39m=\u001b[39m qtm\u001b[39m.\u001b[39mfubini_study\u001b[39m.\u001b[39mqng(qc\u001b[39m.\u001b[39mcopy(), thetas, qtm\u001b[39m.\u001b[39mnqubit\u001b[39m.\u001b[39mcreate_star2graph_state, num_layers)\n\u001b[1;32m---> <a href='vscode-notebook-cell:/c%3A/Users/haime/OneDrive/M%C3%A1y%20t%C3%ADnh/QuantumTomography/codes/star2graph_ansatz_qng_calculate_var.ipynb#ch0000003?line=15'>16</a>\u001b[0m grad_loss \u001b[39m=\u001b[39m qtm\u001b[39m.\u001b[39;49mbase\u001b[39m.\u001b[39;49mgrad_loss(\n\u001b[0;32m     <a href='vscode-notebook-cell:/c%3A/Users/haime/OneDrive/M%C3%A1y%20t%C3%ADnh/QuantumTomography/codes/star2graph_ansatz_qng_calculate_var.ipynb#ch0000003?line=16'>17</a>\u001b[0m     qc, \n\u001b[0;32m     <a href='vscode-notebook-cell:/c%3A/Users/haime/OneDrive/M%C3%A1y%20t%C3%ADnh/QuantumTomography/codes/star2graph_ansatz_qng_calculate_var.ipynb#ch0000003?line=17'>18</a>\u001b[0m     qtm\u001b[39m.\u001b[39;49mnqubit\u001b[39m.\u001b[39;49mcreate_GHZchecker_star2graph,\n\u001b[0;32m     <a href='vscode-notebook-cell:/c%3A/Users/haime/OneDrive/M%C3%A1y%20t%C3%ADnh/QuantumTomography/codes/star2graph_ansatz_qng_calculate_var.ipynb#ch0000003?line=18'>19</a>\u001b[0m     thetas, r \u001b[39m=\u001b[39;49m \u001b[39m1\u001b[39;49m\u001b[39m/\u001b[39;49m\u001b[39m2\u001b[39;49m, s \u001b[39m=\u001b[39;49m np\u001b[39m.\u001b[39;49mpi\u001b[39m/\u001b[39;49m\u001b[39m2\u001b[39;49m, num_layers \u001b[39m=\u001b[39;49m num_layers, theta \u001b[39m=\u001b[39;49m theta)\n\u001b[0;32m     <a href='vscode-notebook-cell:/c%3A/Users/haime/OneDrive/M%C3%A1y%20t%C3%ADnh/QuantumTomography/codes/star2graph_ansatz_qng_calculate_var.ipynb#ch0000003?line=19'>20</a>\u001b[0m grad \u001b[39m=\u001b[39m np\u001b[39m.\u001b[39mlinalg\u001b[39m.\u001b[39minv(G) \u001b[39m@\u001b[39m grad_loss\n\u001b[0;32m     <a href='vscode-notebook-cell:/c%3A/Users/haime/OneDrive/M%C3%A1y%20t%C3%ADnh/QuantumTomography/codes/star2graph_ansatz_qng_calculate_var.ipynb#ch0000003?line=20'>21</a>\u001b[0m grads\u001b[39m.\u001b[39mappend(grad)\n",
      "File \u001b[1;32mc:\\Users\\haime\\OneDrive\\Máy tính\\QuantumTomography\\codes\\qtm\\base.py:223\u001b[0m, in \u001b[0;36mgrad_loss\u001b[1;34m(qc, create_circuit_func, thetas, r, s, **kwargs)\u001b[0m\n\u001b[0;32m    <a href='file:///c%3A/Users/haime/OneDrive/M%C3%A1y%20t%C3%ADnh/QuantumTomography/codes/qtm/base.py?line=218'>219</a>\u001b[0m     qc1 \u001b[39m=\u001b[39m create_circuit_func(qc\u001b[39m.\u001b[39mcopy(), thetas1, \u001b[39m*\u001b[39m\u001b[39m*\u001b[39mkwargs)\n\u001b[0;32m    <a href='file:///c%3A/Users/haime/OneDrive/M%C3%A1y%20t%C3%ADnh/QuantumTomography/codes/qtm/base.py?line=219'>220</a>\u001b[0m     qc2 \u001b[39m=\u001b[39m create_circuit_func(qc\u001b[39m.\u001b[39mcopy(), thetas2, \u001b[39m*\u001b[39m\u001b[39m*\u001b[39mkwargs)\n\u001b[0;32m    <a href='file:///c%3A/Users/haime/OneDrive/M%C3%A1y%20t%C3%ADnh/QuantumTomography/codes/qtm/base.py?line=221'>222</a>\u001b[0m     grad_loss[i] \u001b[39m=\u001b[39m \u001b[39m-\u001b[39mr \u001b[39m*\u001b[39m (\n\u001b[1;32m--> <a href='file:///c%3A/Users/haime/OneDrive/M%C3%A1y%20t%C3%ADnh/QuantumTomography/codes/qtm/base.py?line=222'>223</a>\u001b[0m         qtm\u001b[39m.\u001b[39;49mbase\u001b[39m.\u001b[39;49mmeasure(qc1, \u001b[39mlist\u001b[39;49m(\u001b[39mrange\u001b[39;49m(qc1\u001b[39m.\u001b[39;49mnum_qubits))) \u001b[39m-\u001b[39m\n\u001b[0;32m    <a href='file:///c%3A/Users/haime/OneDrive/M%C3%A1y%20t%C3%ADnh/QuantumTomography/codes/qtm/base.py?line=223'>224</a>\u001b[0m         qtm\u001b[39m.\u001b[39mbase\u001b[39m.\u001b[39mmeasure(qc2, \u001b[39mlist\u001b[39m(\u001b[39mrange\u001b[39m(qc2\u001b[39m.\u001b[39mnum_qubits))))\n\u001b[0;32m    <a href='file:///c%3A/Users/haime/OneDrive/M%C3%A1y%20t%C3%ADnh/QuantumTomography/codes/qtm/base.py?line=224'>225</a>\u001b[0m \u001b[39mreturn\u001b[39;00m grad_loss\n",
      "File \u001b[1;32mc:\\Users\\haime\\OneDrive\\Máy tính\\QuantumTomography\\codes\\qtm\\base.py:82\u001b[0m, in \u001b[0;36mmeasure\u001b[1;34m(qc, qubits, cbits)\u001b[0m\n\u001b[0;32m     <a href='file:///c%3A/Users/haime/OneDrive/M%C3%A1y%20t%C3%ADnh/QuantumTomography/codes/qtm/base.py?line=79'>80</a>\u001b[0m \u001b[39mif\u001b[39;00m qtm\u001b[39m.\u001b[39mconstant\u001b[39m.\u001b[39mnoise_prob \u001b[39m>\u001b[39m \u001b[39m0\u001b[39m:\n\u001b[0;32m     <a href='file:///c%3A/Users/haime/OneDrive/M%C3%A1y%20t%C3%ADnh/QuantumTomography/codes/qtm/base.py?line=80'>81</a>\u001b[0m     noise_model \u001b[39m=\u001b[39m generate_noise_model(n, qtm\u001b[39m.\u001b[39mconstant\u001b[39m.\u001b[39mnoise_prob)\n\u001b[1;32m---> <a href='file:///c%3A/Users/haime/OneDrive/M%C3%A1y%20t%C3%ADnh/QuantumTomography/codes/qtm/base.py?line=81'>82</a>\u001b[0m     results \u001b[39m=\u001b[39m qiskit\u001b[39m.\u001b[39;49mexecute(qc, backend\u001b[39m=\u001b[39;49mqtm\u001b[39m.\u001b[39;49mconstant\u001b[39m.\u001b[39;49mbackend,\n\u001b[0;32m     <a href='file:///c%3A/Users/haime/OneDrive/M%C3%A1y%20t%C3%ADnh/QuantumTomography/codes/qtm/base.py?line=82'>83</a>\u001b[0m                              noise_model\u001b[39m=\u001b[39;49mnoise_model,\n\u001b[0;32m     <a href='file:///c%3A/Users/haime/OneDrive/M%C3%A1y%20t%C3%ADnh/QuantumTomography/codes/qtm/base.py?line=83'>84</a>\u001b[0m                              shots\u001b[39m=\u001b[39;49mqtm\u001b[39m.\u001b[39;49mconstant\u001b[39m.\u001b[39;49mnum_shots)\u001b[39m.\u001b[39;49mresult()\n\u001b[0;32m     <a href='file:///c%3A/Users/haime/OneDrive/M%C3%A1y%20t%C3%ADnh/QuantumTomography/codes/qtm/base.py?line=84'>85</a>\u001b[0m     \u001b[39m# Raw counts\u001b[39;00m\n\u001b[0;32m     <a href='file:///c%3A/Users/haime/OneDrive/M%C3%A1y%20t%C3%ADnh/QuantumTomography/codes/qtm/base.py?line=85'>86</a>\u001b[0m     counts \u001b[39m=\u001b[39m results\u001b[39m.\u001b[39mget_counts()\n",
      "File \u001b[1;32m~\\AppData\\Local\\Programs\\Python\\Python38\\lib\\site-packages\\qiskit\\providers\\aer\\jobs\\utils.py:41\u001b[0m, in \u001b[0;36mrequires_submit.<locals>._wrapper\u001b[1;34m(self, *args, **kwargs)\u001b[0m\n\u001b[0;32m     <a href='file:///~/AppData/Local/Programs/Python/Python38/lib/site-packages/qiskit/providers/aer/jobs/utils.py?line=38'>39</a>\u001b[0m \u001b[39mif\u001b[39;00m \u001b[39mself\u001b[39m\u001b[39m.\u001b[39m_future \u001b[39mis\u001b[39;00m \u001b[39mNone\u001b[39;00m:\n\u001b[0;32m     <a href='file:///~/AppData/Local/Programs/Python/Python38/lib/site-packages/qiskit/providers/aer/jobs/utils.py?line=39'>40</a>\u001b[0m     \u001b[39mraise\u001b[39;00m JobError(\u001b[39m\"\u001b[39m\u001b[39mJob not submitted yet!. You have to .submit() first!\u001b[39m\u001b[39m\"\u001b[39m)\n\u001b[1;32m---> <a href='file:///~/AppData/Local/Programs/Python/Python38/lib/site-packages/qiskit/providers/aer/jobs/utils.py?line=40'>41</a>\u001b[0m \u001b[39mreturn\u001b[39;00m func(\u001b[39mself\u001b[39;49m, \u001b[39m*\u001b[39;49margs, \u001b[39m*\u001b[39;49m\u001b[39m*\u001b[39;49mkwargs)\n",
      "File \u001b[1;32m~\\AppData\\Local\\Programs\\Python\\Python38\\lib\\site-packages\\qiskit\\providers\\aer\\jobs\\aerjob.py:78\u001b[0m, in \u001b[0;36mAerJob.result\u001b[1;34m(self, timeout)\u001b[0m\n\u001b[0;32m     <a href='file:///~/AppData/Local/Programs/Python/Python38/lib/site-packages/qiskit/providers/aer/jobs/aerjob.py?line=59'>60</a>\u001b[0m \u001b[39m@requires_submit\u001b[39m\n\u001b[0;32m     <a href='file:///~/AppData/Local/Programs/Python/Python38/lib/site-packages/qiskit/providers/aer/jobs/aerjob.py?line=60'>61</a>\u001b[0m \u001b[39mdef\u001b[39;00m \u001b[39mresult\u001b[39m(\u001b[39mself\u001b[39m, timeout\u001b[39m=\u001b[39m\u001b[39mNone\u001b[39;00m):\n\u001b[0;32m     <a href='file:///~/AppData/Local/Programs/Python/Python38/lib/site-packages/qiskit/providers/aer/jobs/aerjob.py?line=61'>62</a>\u001b[0m     \u001b[39m# pylint: disable=arguments-differ\u001b[39;00m\n\u001b[0;32m     <a href='file:///~/AppData/Local/Programs/Python/Python38/lib/site-packages/qiskit/providers/aer/jobs/aerjob.py?line=62'>63</a>\u001b[0m     \u001b[39m\"\"\"Get job result. The behavior is the same as the underlying\u001b[39;00m\n\u001b[0;32m     <a href='file:///~/AppData/Local/Programs/Python/Python38/lib/site-packages/qiskit/providers/aer/jobs/aerjob.py?line=63'>64</a>\u001b[0m \u001b[39m    concurrent Future objects,\u001b[39;00m\n\u001b[0;32m     <a href='file:///~/AppData/Local/Programs/Python/Python38/lib/site-packages/qiskit/providers/aer/jobs/aerjob.py?line=64'>65</a>\u001b[0m \n\u001b[1;32m   (...)\u001b[0m\n\u001b[0;32m     <a href='file:///~/AppData/Local/Programs/Python/Python38/lib/site-packages/qiskit/providers/aer/jobs/aerjob.py?line=75'>76</a>\u001b[0m \u001b[39m        concurrent.futures.CancelledError: if job cancelled before completed.\u001b[39;00m\n\u001b[0;32m     <a href='file:///~/AppData/Local/Programs/Python/Python38/lib/site-packages/qiskit/providers/aer/jobs/aerjob.py?line=76'>77</a>\u001b[0m \u001b[39m    \"\"\"\u001b[39;00m\n\u001b[1;32m---> <a href='file:///~/AppData/Local/Programs/Python/Python38/lib/site-packages/qiskit/providers/aer/jobs/aerjob.py?line=77'>78</a>\u001b[0m     \u001b[39mreturn\u001b[39;00m \u001b[39mself\u001b[39;49m\u001b[39m.\u001b[39;49m_future\u001b[39m.\u001b[39;49mresult(timeout\u001b[39m=\u001b[39;49mtimeout)\n",
      "File \u001b[1;32m~\\AppData\\Local\\Programs\\Python\\Python38\\lib\\concurrent\\futures\\_base.py:434\u001b[0m, in \u001b[0;36mFuture.result\u001b[1;34m(self, timeout)\u001b[0m\n\u001b[0;32m    <a href='file:///~/AppData/Local/Programs/Python/Python38/lib/concurrent/futures/_base.py?line=430'>431</a>\u001b[0m \u001b[39melif\u001b[39;00m \u001b[39mself\u001b[39m\u001b[39m.\u001b[39m_state \u001b[39m==\u001b[39m FINISHED:\n\u001b[0;32m    <a href='file:///~/AppData/Local/Programs/Python/Python38/lib/concurrent/futures/_base.py?line=431'>432</a>\u001b[0m     \u001b[39mreturn\u001b[39;00m \u001b[39mself\u001b[39m\u001b[39m.\u001b[39m__get_result()\n\u001b[1;32m--> <a href='file:///~/AppData/Local/Programs/Python/Python38/lib/concurrent/futures/_base.py?line=433'>434</a>\u001b[0m \u001b[39mself\u001b[39;49m\u001b[39m.\u001b[39;49m_condition\u001b[39m.\u001b[39;49mwait(timeout)\n\u001b[0;32m    <a href='file:///~/AppData/Local/Programs/Python/Python38/lib/concurrent/futures/_base.py?line=435'>436</a>\u001b[0m \u001b[39mif\u001b[39;00m \u001b[39mself\u001b[39m\u001b[39m.\u001b[39m_state \u001b[39min\u001b[39;00m [CANCELLED, CANCELLED_AND_NOTIFIED]:\n\u001b[0;32m    <a href='file:///~/AppData/Local/Programs/Python/Python38/lib/concurrent/futures/_base.py?line=436'>437</a>\u001b[0m     \u001b[39mraise\u001b[39;00m CancelledError()\n",
      "File \u001b[1;32m~\\AppData\\Local\\Programs\\Python\\Python38\\lib\\threading.py:302\u001b[0m, in \u001b[0;36mCondition.wait\u001b[1;34m(self, timeout)\u001b[0m\n\u001b[0;32m    <a href='file:///~/AppData/Local/Programs/Python/Python38/lib/threading.py?line=299'>300</a>\u001b[0m \u001b[39mtry\u001b[39;00m:    \u001b[39m# restore state no matter what (e.g., KeyboardInterrupt)\u001b[39;00m\n\u001b[0;32m    <a href='file:///~/AppData/Local/Programs/Python/Python38/lib/threading.py?line=300'>301</a>\u001b[0m     \u001b[39mif\u001b[39;00m timeout \u001b[39mis\u001b[39;00m \u001b[39mNone\u001b[39;00m:\n\u001b[1;32m--> <a href='file:///~/AppData/Local/Programs/Python/Python38/lib/threading.py?line=301'>302</a>\u001b[0m         waiter\u001b[39m.\u001b[39;49macquire()\n\u001b[0;32m    <a href='file:///~/AppData/Local/Programs/Python/Python38/lib/threading.py?line=302'>303</a>\u001b[0m         gotit \u001b[39m=\u001b[39m \u001b[39mTrue\u001b[39;00m\n\u001b[0;32m    <a href='file:///~/AppData/Local/Programs/Python/Python38/lib/threading.py?line=303'>304</a>\u001b[0m     \u001b[39melse\u001b[39;00m:\n",
      "\u001b[1;31mKeyboardInterrupt\u001b[0m: "
     ]
    }
   ],
   "source": [
    "# Init parameters\n",
    "num_qubits = 3\n",
    "num_layers = 2\n",
    "# thetas = np.random.uniform(low = 0, high = 1, size = num_layers*(2*num_qubits - 2)) \n",
    "\n",
    "theta = np.pi / 2\n",
    "qc = qiskit.QuantumCircuit(num_qubits, num_qubits)\n",
    "\n",
    "\n",
    "grads = []\n",
    "for i in range(0, 200):\n",
    "    if i % 10 == 0:\n",
    "        print(i)\n",
    "    thetas = np.random.uniform(low= 0, high= 2 * np.pi, size=num_layers*(2*num_qubits - 2))\n",
    "    G = qtm.fubini_study.qng(qc.copy(), thetas, qtm.nqubit.create_star2graph_state, num_layers)\n",
    "    grad_loss = qtm.base.grad_loss(\n",
    "        qc, \n",
    "        qtm.nqubit.create_GHZchecker_star2graph,\n",
    "        thetas, r = 1/2, s = np.pi/2, num_layers = num_layers, theta = theta)\n",
    "    grad = np.linalg.inv(G) @ grad_loss\n",
    "    grads.append(grad)"
   ]
  },
  {
   "cell_type": "code",
   "execution_count": null,
   "metadata": {},
   "outputs": [],
   "source": [
    "variances = []\n",
    "t = []\n",
    "for grad in grads:\n",
    "    t.append((grad[-1]))\n",
    "print(np.var(t))"
   ]
  },
  {
   "cell_type": "code",
   "execution_count": 8,
   "metadata": {},
   "outputs": [
    {
     "name": "stdout",
     "output_type": "stream",
     "text": [
      "3.5856628488361344\n"
     ]
    }
   ],
   "source": [
    "variances = []\n",
    "t = []\n",
    "for grad in grads:\n",
    "    t.append((grad[-1]))\n",
    "print(np.var(t))"
   ]
  }
 ],
 "metadata": {
  "interpreter": {
   "hash": "770b641b4564229c593d803dcff32fdd6beb94e7a78ba8806c95b100ce213599"
  },
  "kernelspec": {
   "display_name": "Python 3.8.0 64-bit",
   "language": "python",
   "name": "python3"
  },
  "language_info": {
   "codemirror_mode": {
    "name": "ipython",
    "version": 3
   },
   "file_extension": ".py",
   "mimetype": "text/x-python",
   "name": "python",
   "nbconvert_exporter": "python",
   "pygments_lexer": "ipython3",
   "version": "3.8.0"
  },
  "orig_nbformat": 4
 },
 "nbformat": 4,
 "nbformat_minor": 2
}
