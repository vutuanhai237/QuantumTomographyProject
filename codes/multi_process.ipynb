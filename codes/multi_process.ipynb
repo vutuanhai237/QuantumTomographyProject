{
 "cells": [
  {
   "cell_type": "code",
   "execution_count": 1,
   "id": "8a8ffb43-1303-42bb-846e-db8ec7b26c06",
   "metadata": {},
   "outputs": [],
   "source": [
    "import sys\n",
    "sys.path.insert(0, '..')\n",
    "import qtm.qcompilation\n",
    "import matplotlib.pyplot as plt\n",
    "import qiskit\n",
    "import qtm.qsp\n",
    "import qtm.ansatz, qtm.state\n",
    "%load_ext autoreload\n",
    "%autoreload 2"
   ]
  },
  {
   "cell_type": "code",
   "execution_count": 45,
   "id": "db9ec50d",
   "metadata": {},
   "outputs": [
    {
     "data": {
      "image/png": "[encoded data removed]",
      "text/plain": [
       "<Figure size 956.385x367.889 with 1 Axes>"
      ]
     },
     "execution_count": 45,
     "metadata": {},
     "output_type": "execute_result"
    }
   ],
   "source": [
    "qtm.ansatz.g2(3, 2).draw('mpl')"
   ]
  },
  {
   "cell_type": "code",
   "execution_count": 4,
   "id": "1c4ed94d-59d0-45fd-951b-7f22641e9458",
   "metadata": {},
   "outputs": [],
   "source": [
    "def f(num_qubits, num_layers, anszat, vdagger_input):\n",
    "    optimizer = 'adam'\n",
    "\n",
    "    if anszat == 'g2':\n",
    "        u_input = qtm.ansatz.g2(num_qubits, num_layers) \n",
    "        ansatz_input = qtm.ansatz.g2\n",
    "    if anszat == 'g2gn':\n",
    "        u_input = qtm.ansatz.g2gn(num_qubits, num_layers) \n",
    "        ansatz_input = qtm.ansatz.g2gn\n",
    "    if anszat == 'g2gnw':\n",
    "        u_input = qtm.ansatz.g2gnw(num_qubits, num_layers) \n",
    "        ansatz_input = qtm.ansatz.g2gnw\n",
    "        \n",
    "    if vdagger_input == 'ghz':\n",
    "            vdagger = qtm.state.create_ghz_state(num_qubits).inverse()\n",
    "    if vdagger_input == 'w':\n",
    "            vdagger = qtm.state.create_w_state(num_qubits).inverse()\n",
    "    if vdagger_input == 'ame':\n",
    "            vdagger = qtm.state.create_ame_state(num_qubits).inverse()   \n",
    "    if vdagger_input == 'haar':\n",
    "            vdagger = qtm.state.create_haar_state(num_qubits).inverse() \n",
    "    compiler = qtm.qcompilation.QuantumCompilation(\n",
    "        u = u_input,\n",
    "        vdagger = vdagger,\n",
    "        optimizer = optimizer,\n",
    "        loss_func = 'loss_fubini_study'\n",
    "    )\n",
    "    compiler.fit(num_steps = 10, verbose = 1)\n",
    "    qspobj = qtm.qsp.QuantumStatePreparation(\n",
    "        compiler.u, \n",
    "        compiler.vdagger,\n",
    "        compiler.thetas,\n",
    "        ansatz = ansatz_input)\n",
    "    qspobj.save(state = vdagger_input, file_name='./')\n",
    "\n",
    "    return"
   ]
  },
  {
   "cell_type": "code",
   "execution_count": null,
   "id": "4099ad88",
   "metadata": {},
   "outputs": [],
   "source": []
  },
  {
   "cell_type": "code",
   "execution_count": 5,
   "id": "41721970",
   "metadata": {},
   "outputs": [
    {
     "name": "stderr",
     "output_type": "stream",
     "text": [
      "Step: 100%|██████████| 10/10 [00:04<00:00,  2.12it/s]\n"
     ]
    }
   ],
   "source": [
    "f(3, 1, 'g2gn', 'ame')"
   ]
  },
  {
   "cell_type": "code",
   "execution_count": 8,
   "id": "540e3434",
   "metadata": {},
   "outputs": [
    {
     "name": "stdout",
     "output_type": "stream",
     "text": [
      "0.9999084096089257\n"
     ]
    }
   ],
   "source": [
    "from qtm.qsp import QuantumStatePreparation\n",
    "\n",
    "qspobj2 = QuantumStatePreparation('./haar_g2gn_3_1.qspobj')\n",
    "print(qspobj2.fidelity)"
   ]
  },
  {
   "cell_type": "code",
   "execution_count": 6,
   "id": "5c94e416-6416-4870-b67a-c2580e94e118",
   "metadata": {},
   "outputs": [
    {
     "name": "stdout",
     "output_type": "stream",
     "text": [
      "ghz_g2_5_1.qspobj\n"
     ]
    },
    {
     "name": "stderr",
     "output_type": "stream",
     "text": [
      "Step: 100%|██████████| 10/10 [00:02<00:00,  3.89it/s]\n"
     ]
    },
    {
     "name": "stdout",
     "output_type": "stream",
     "text": [
      "W_g2_5_1.qspobj\n"
     ]
    },
    {
     "name": "stderr",
     "output_type": "stream",
     "text": [
      "Step: 100%|██████████| 10/10 [00:02<00:00,  3.44it/s]\n"
     ]
    },
    {
     "name": "stdout",
     "output_type": "stream",
     "text": [
      "haar_g2_5_1.qspobj\n"
     ]
    },
    {
     "name": "stderr",
     "output_type": "stream",
     "text": [
      "Step: 100%|██████████| 10/10 [00:27<00:00,  2.77s/it]\n"
     ]
    },
    {
     "name": "stdout",
     "output_type": "stream",
     "text": [
      "ghz_g2gn_5_1.qspobj\n"
     ]
    },
    {
     "name": "stderr",
     "output_type": "stream",
     "text": [
      "Step: 100%|██████████| 10/10 [00:04<00:00,  2.45it/s]\n"
     ]
    },
    {
     "name": "stdout",
     "output_type": "stream",
     "text": [
      "W_g2gn_5_1.qspobj\n"
     ]
    },
    {
     "name": "stderr",
     "output_type": "stream",
     "text": [
      "Step: 100%|██████████| 10/10 [00:04<00:00,  2.08it/s]\n"
     ]
    },
    {
     "name": "stdout",
     "output_type": "stream",
     "text": [
      "haar_g2gn_5_1.qspobj\n"
     ]
    },
    {
     "name": "stderr",
     "output_type": "stream",
     "text": [
      "Step: 100%|██████████| 10/10 [00:41<00:00,  4.15s/it]\n"
     ]
    },
    {
     "name": "stdout",
     "output_type": "stream",
     "text": [
      "ghz_g2gnw_5_1.qspobj\n"
     ]
    },
    {
     "name": "stderr",
     "output_type": "stream",
     "text": [
      "Step: 100%|██████████| 10/10 [00:08<00:00,  1.22it/s]\n"
     ]
    },
    {
     "name": "stdout",
     "output_type": "stream",
     "text": [
      "W_g2gnw_5_1.qspobj\n"
     ]
    },
    {
     "name": "stderr",
     "output_type": "stream",
     "text": [
      "Step: 100%|██████████| 10/10 [00:09<00:00,  1.06it/s]\n"
     ]
    },
    {
     "name": "stdout",
     "output_type": "stream",
     "text": [
      "haar_g2gnw_5_1.qspobj\n"
     ]
    },
    {
     "name": "stderr",
     "output_type": "stream",
     "text": [
      "Step: 100%|██████████| 10/10 [01:22<00:00,  8.25s/it]\n"
     ]
    },
    {
     "name": "stdout",
     "output_type": "stream",
     "text": [
      "ghz_g2_6_1.qspobj\n"
     ]
    },
    {
     "name": "stderr",
     "output_type": "stream",
     "text": [
      "Step: 100%|██████████| 10/10 [00:03<00:00,  3.03it/s]\n"
     ]
    },
    {
     "name": "stdout",
     "output_type": "stream",
     "text": [
      "W_g2_6_1.qspobj\n"
     ]
    },
    {
     "name": "stderr",
     "output_type": "stream",
     "text": [
      "Step: 100%|██████████| 10/10 [00:04<00:00,  2.46it/s]\n"
     ]
    },
    {
     "name": "stdout",
     "output_type": "stream",
     "text": [
      "haar_g2_6_1.qspobj\n"
     ]
    },
    {
     "name": "stderr",
     "output_type": "stream",
     "text": [
      "Step: 100%|██████████| 10/10 [01:22<00:00,  8.29s/it]\n"
     ]
    },
    {
     "name": "stdout",
     "output_type": "stream",
     "text": [
      "ghz_g2gn_6_1.qspobj\n"
     ]
    },
    {
     "name": "stderr",
     "output_type": "stream",
     "text": [
      "Step: 100%|██████████| 10/10 [00:05<00:00,  1.87it/s]\n"
     ]
    },
    {
     "name": "stdout",
     "output_type": "stream",
     "text": [
      "W_g2gn_6_1.qspobj\n"
     ]
    },
    {
     "name": "stderr",
     "output_type": "stream",
     "text": [
      "Step: 100%|██████████| 10/10 [00:06<00:00,  1.57it/s]\n"
     ]
    },
    {
     "name": "stdout",
     "output_type": "stream",
     "text": [
      "haar_g2gn_6_1.qspobj\n"
     ]
    },
    {
     "name": "stderr",
     "output_type": "stream",
     "text": [
      "Step: 100%|██████████| 10/10 [02:02<00:00, 12.28s/it]\n"
     ]
    },
    {
     "name": "stdout",
     "output_type": "stream",
     "text": [
      "ghz_g2gnw_6_1.qspobj\n"
     ]
    },
    {
     "name": "stderr",
     "output_type": "stream",
     "text": [
      "Step: 100%|██████████| 10/10 [00:11<00:00,  1.12s/it]\n"
     ]
    },
    {
     "name": "stdout",
     "output_type": "stream",
     "text": [
      "W_g2gnw_6_1.qspobj\n"
     ]
    },
    {
     "name": "stderr",
     "output_type": "stream",
     "text": [
      "Step: 100%|██████████| 10/10 [00:12<00:00,  1.28s/it]\n"
     ]
    },
    {
     "name": "stdout",
     "output_type": "stream",
     "text": [
      "haar_g2gnw_6_1.qspobj\n"
     ]
    },
    {
     "name": "stderr",
     "output_type": "stream",
     "text": [
      "Step: 100%|██████████| 10/10 [04:03<00:00, 24.38s/it]\n",
      "Step: 100%|██████████| 10/10 [00:03<00:00,  3.21it/s]\n",
      "Step: 100%|██████████| 10/10 [00:04<00:00,  2.06it/s]\n",
      "Step: 100%|██████████| 10/10 [00:10<00:00,  1.06s/it]\n",
      "Step: 100%|██████████| 10/10 [00:09<00:00,  1.03it/s]\n",
      "Step: 100%|██████████| 10/10 [00:13<00:00,  1.39s/it]\n",
      "Step: 100%|██████████| 10/10 [00:27<00:00,  2.74s/it]\n"
     ]
    },
    {
     "name": "stdout",
     "output_type": "stream",
     "text": [
      "Done!\n"
     ]
    }
   ],
   "source": [
    " #Execution Program\n",
    "\n",
    "list_num_qubits = [5,6]\n",
    "list_num_layers = [1]\n",
    "list_u = ['g2', 'g2gn', 'g2gnw']\n",
    "list_v = ['ghz', 'W', 'haar']\n",
    "\n",
    "import os\n",
    "\n",
    "folder_path = '../experiments/qsp/'\n",
    "\n",
    "for i in list_num_qubits:\n",
    "    for j in list_num_layers:\n",
    "        for k in list_u:\n",
    "            for l in list_v:\n",
    "                name = str(l) + '_' + str(k) + '_' + str(i) + '_' + str(j) + '.qspobj'\n",
    "                 # Get a list of all files and directories in the folder\n",
    "                all_items = os.listdir(folder_path)\n",
    "\n",
    "                # Filter out only the file names\n",
    "                file_names = [item for item in all_items if os.path.isfile(os.path.join(folder_path, item))]\n",
    "                if not (name in file_names): \n",
    "                    print(name)\n",
    "                    f(i,j,k,l)\n",
    "\n",
    "l = 'AME'\n",
    "for i in [3,4]:\n",
    "    for j in list_num_layers:\n",
    "        for k in list_u:\n",
    "            f(i,j,k,l)\n",
    "\n",
    "print(\"Done!\")"
   ]
  }
 ],
 "metadata": {
  "kernelspec": {
   "display_name": "Python 3 (ipykernel)",
   "language": "python",
   "name": "python3"
  },
  "language_info": {
   "codemirror_mode": {
    "name": "ipython",
    "version": 3
   },
   "file_extension": ".py",
   "mimetype": "text/x-python",
   "name": "python",
   "nbconvert_exporter": "python",
   "pygments_lexer": "ipython3",
   "version": "3.10.9"
  }
 },
 "nbformat": 4,
 "nbformat_minor": 5
}
