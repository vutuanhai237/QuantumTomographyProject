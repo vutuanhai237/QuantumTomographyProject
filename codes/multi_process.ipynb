{
 "cells": [
  {
   "cell_type": "code",
   "execution_count": 1,
   "id": "8a8ffb43-1303-42bb-846e-db8ec7b26c06",
   "metadata": {},
   "outputs": [],
   "source": [
    "import sys\n",
    "sys.path.insert(0, '..')\n",
    "import qsee.ansatz as ansatz\n",
    "%load_ext autoreload\n",
    "%autoreload 2"
   ]
  },
  {
   "cell_type": "code",
   "execution_count": 25,
   "id": "db9ec50d",
   "metadata": {},
   "outputs": [
    {
     "name": "stderr",
     "output_type": "stream",
     "text": [
      "/Library/Frameworks/Python.framework/Versions/3.10/lib/python3.10/site-packages/qiskit/visualization/circuit/matplotlib.py:266: FutureWarning: The default matplotlib drawer scheme will be changed to \"iqp\" in a following release. To silence this warning, specify the current default explicitly as style=\"clifford\", or the new default as style=\"iqp\".\n",
      "  self._style, def_font_ratio = load_style(self._style)\n"
     ]
    },
    {
     "data": {
      "image/png": "[encoded data removed]",
      "text/plain": [
       "<Figure size 956.385x367.889 with 1 Axes>"
      ]
     },
     "execution_count": 25,
     "metadata": {},
     "output_type": "execute_result"
    }
   ],
   "source": [
    "ansatz.g2(3, 2).draw('mpl')"
   ]
  },
  {
   "cell_type": "code",
   "execution_count": 4,
   "id": "1c4ed94d-59d0-45fd-951b-7f22641e9458",
   "metadata": {},
   "outputs": [],
   "source": [
    "def f(num_qubits, num_layers, anszat, vdagger_input):\n",
    "    optimizer = 'adam'\n",
    "\n",
    "    if anszat == 'g2':\n",
    "        u_input = qsee.ansatz.g2(num_qubits, num_layers) \n",
    "        ansatz_input = qsee.ansatz.g2\n",
    "    if anszat == 'g2gn':\n",
    "        u_input = qsee.ansatz.g2gn(num_qubits, num_layers) \n",
    "        ansatz_input = qsee.ansatz.g2gn\n",
    "    if anszat == 'g2gnw':\n",
    "        u_input = qsee.ansatz.g2gnw(num_qubits, num_layers) \n",
    "        ansatz_input = qsee.ansatz.g2gnw\n",
    "        \n",
    "    if vdagger_input == 'ghz':\n",
    "            vdagger = qsee.state.ghz(num_qubits).inverse()\n",
    "    if vdagger_input == 'w':\n",
    "            vdagger = qsee.state.w(num_qubits).inverse()\n",
    "    if vdagger_input == 'ame':\n",
    "            vdagger = qsee.state.ame(num_qubits).inverse()   \n",
    "    if vdagger_input == 'haar':\n",
    "            vdagger = qsee.state.haar(num_qubits).inverse() \n",
    "    compiler = qsee.qcompilation.QuantumCompilation(\n",
    "        u = u_input,\n",
    "        vdagger = vdagger,\n",
    "        optimizer = optimizer,\n",
    "        loss_func = 'loss_fubini_study'\n",
    "    )\n",
    "    compiler.fit(num_steps = 10, verbose = 1)\n",
    "    qspobj = qsee.qsp.QuantumStatePreparation(\n",
    "        compiler.u, \n",
    "        compiler.vdagger,\n",
    "        compiler.thetas,\n",
    "        ansatz = ansatz_input)\n",
    "    qspobj.save(state = vdagger_input, file_name='./')\n",
    "\n",
    "    return"
   ]
  },
  {
   "cell_type": "code",
   "execution_count": 5,
   "id": "94a27710",
   "metadata": {},
   "outputs": [
    {
     "name": "stdout",
     "output_type": "stream",
     "text": [
      "[ 0.30297088  0.64007397 -0.42033743  0.03875275 -0.51120341  0.04402547\n",
      "  0.11541105  0.20914527]\n",
      "     »\n",
      "q_0: »\n",
      "     »\n",
      "q_1: »\n",
      "     »\n",
      "q_2: »\n",
      "     »\n",
      "c: 3/»\n",
      "     »\n",
      "«     ┌────────────────────────────────────────────────────────────────────────────────────────┐\n",
      "«q_0: ┤0                                                                                       ├\n",
      "«     │                                                                                        │\n",
      "«q_1: ┤1 State Preparation(0.30297,0.64007,-0.42034,0.038753,-0.5112,0.044025,0.11541,0.20915) ├\n",
      "«     │                                                                                        │\n",
      "«q_2: ┤2                                                                                       ├\n",
      "«     └────────────────────────────────────────────────────────────────────────────────────────┘\n",
      "«c: 3/══════════════════════════════════════════════════════════════════════════════════════════\n",
      "«                                                                                               \n"
     ]
    }
   ],
   "source": [
    "import qsee.state\n",
    "import qiskit\n",
    "import numpy as np\n",
    "psi = qsee.state.haar(num_qubits = 3)\n",
    "print(np.real(qi.Statevector(psi)))\n",
    "print(psi)"
   ]
  },
  {
   "cell_type": "code",
   "execution_count": 27,
   "id": "4099ad88",
   "metadata": {},
   "outputs": [
    {
     "name": "stdout",
     "output_type": "stream",
     "text": [
      "['haar_g2_5_2.qspobj', 'haar_g2gn_5_8.qspobj', 'haar_g2gn_5_4.qspobj', 'haar_g2gnw_5_6.qspobj', 'haar_g2gnw_5_10.qspobj', 'haar_g2gnw_5_8.qspobj', 'haar_g2gnw_5_4.qspobj', 'haar_g2gn_5_6.qspobj', 'haar_g2gn_5_2.qspobj', 'haar_g2_5_4.qspobj', 'haar_g2_5_8.qspobj', 'haar_g2_5_6.qspobj', 'haar_g2_5_10.qspobj', 'haar_g2gnw_5_2.qspobj', 'haar_g2gnw_5_7.qspobj', 'haar_g2gn_5_9.qspobj', 'haar_g2gn_5_5.qspobj', 'haar_g2_5_3.qspobj', 'haar_g2gn_5_7.qspobj', 'haar_g2_5_1.qspobj', 'haar_g2gnw_5_9.qspobj', 'haar_g2gnw_5_5.qspobj', 'haar_g2_5_5.qspobj', 'haar_g2_5_9.qspobj', 'haar_g2gn_5_3.qspobj', 'haar_g2gn_5_10.qspobj', 'haar_g2gnw_5_1.qspobj', 'haar_g2gnw_5_3.qspobj', 'haar_g2_5_7.qspobj', 'haar_g2gn_5_1.qspobj']\n"
     ]
    },
    {
     "ename": "ValueError",
     "evalue": "not enough values to unpack (expected 3, got 2)",
     "output_type": "error",
     "traceback": [
      "\u001b[0;31m---------------------------------------------------------------------------\u001b[0m",
      "\u001b[0;31mValueError\u001b[0m                                Traceback (most recent call last)",
      "\u001b[1;32m/Users/vutuanhai/Documents/GitHub/ucvqa/codes/multi_process.ipynb Cell 5\u001b[0m line \u001b[0;36m4\n\u001b[1;32m      <a href='vscode-notebook-cell:/Users/vutuanhai/Documents/GitHub/ucvqa/codes/multi_process.ipynb#W4sZmlsZQ%3D%3D?line=1'>2</a>\u001b[0m state \u001b[39m=\u001b[39m \u001b[39m'\u001b[39m\u001b[39mhaar\u001b[39m\u001b[39m'\u001b[39m\n\u001b[1;32m      <a href='vscode-notebook-cell:/Users/vutuanhai/Documents/GitHub/ucvqa/codes/multi_process.ipynb#W4sZmlsZQ%3D%3D?line=2'>3</a>\u001b[0m num_qubits \u001b[39m=\u001b[39m \u001b[39m5\u001b[39m\n\u001b[0;32m----> <a href='vscode-notebook-cell:/Users/vutuanhai/Documents/GitHub/ucvqa/codes/multi_process.ipynb#W4sZmlsZQ%3D%3D?line=3'>4</a>\u001b[0m best_ansatz \u001b[39m=\u001b[39m qsp\u001b[39m.\u001b[39;49mQuantumStatePreparation\u001b[39m.\u001b[39;49mfind_satisfying_qspobj(\n\u001b[1;32m      <a href='vscode-notebook-cell:/Users/vutuanhai/Documents/GitHub/ucvqa/codes/multi_process.ipynb#W4sZmlsZQ%3D%3D?line=4'>5</a>\u001b[0m     state, num_qubits, \n\u001b[1;32m      <a href='vscode-notebook-cell:/Users/vutuanhai/Documents/GitHub/ucvqa/codes/multi_process.ipynb#W4sZmlsZQ%3D%3D?line=5'>6</a>\u001b[0m     error_rate \u001b[39m=\u001b[39;49m \u001b[39m0.07\u001b[39;49m, \n\u001b[1;32m      <a href='vscode-notebook-cell:/Users/vutuanhai/Documents/GitHub/ucvqa/codes/multi_process.ipynb#W4sZmlsZQ%3D%3D?line=6'>7</a>\u001b[0m     database_path \u001b[39m=\u001b[39;49m database_path)\n\u001b[1;32m      <a href='vscode-notebook-cell:/Users/vutuanhai/Documents/GitHub/ucvqa/codes/multi_process.ipynb#W4sZmlsZQ%3D%3D?line=7'>8</a>\u001b[0m best_ansatz\u001b[39m.\u001b[39mu\u001b[39m.\u001b[39mdraw(\u001b[39m'\u001b[39m\u001b[39mmpl\u001b[39m\u001b[39m'\u001b[39m)\n",
      "File \u001b[0;32m~/Documents/GitHub/ucvqa/codes/../qtm/qsp.py:98\u001b[0m, in \u001b[0;36mQuantumStatePreparation.find_satisfying_qspobj\u001b[0;34m(state, num_qubits, error_rate, database_path)\u001b[0m\n\u001b[1;32m     96\u001b[0m \u001b[39mfor\u001b[39;00m i \u001b[39min\u001b[39;00m \u001b[39mrange\u001b[39m(\u001b[39m0\u001b[39m, \u001b[39mlen\u001b[39m(files)):\n\u001b[1;32m     97\u001b[0m     path \u001b[39m=\u001b[39m database_path \u001b[39m+\u001b[39m files[i]\n\u001b[0;32m---> 98\u001b[0m     qspobj \u001b[39m=\u001b[39m QuantumStatePreparation(path)\n\u001b[1;32m     99\u001b[0m     \u001b[39mif\u001b[39;00m qspobj\u001b[39m.\u001b[39mfidelity \u001b[39m>\u001b[39m \u001b[39m1\u001b[39m \u001b[39m-\u001b[39m error_rate:\n\u001b[1;32m    100\u001b[0m         \u001b[39mif\u001b[39;00m best_qspobj \u001b[39mis\u001b[39;00m \u001b[39mNone\u001b[39;00m:\n",
      "File \u001b[0;32m~/Documents/GitHub/ucvqa/codes/../qtm/qsp.py:45\u001b[0m, in \u001b[0;36mQuantumStatePreparation.__init__\u001b[0;34m(self, u, vdagger, thetas, ansatz)\u001b[0m\n\u001b[1;32m     43\u001b[0m \u001b[39mif\u001b[39;00m \u001b[39misinstance\u001b[39m(u, \u001b[39mstr\u001b[39m):\n\u001b[1;32m     44\u001b[0m     file \u001b[39m=\u001b[39m \u001b[39mopen\u001b[39m(u, \u001b[39m'\u001b[39m\u001b[39mrb\u001b[39m\u001b[39m'\u001b[39m)\n\u001b[0;32m---> 45\u001b[0m     data \u001b[39m=\u001b[39m pickle\u001b[39m.\u001b[39;49mload(file)\n\u001b[1;32m     46\u001b[0m     \u001b[39mself\u001b[39m\u001b[39m.\u001b[39mu \u001b[39m=\u001b[39m data\u001b[39m.\u001b[39mu\n\u001b[1;32m     47\u001b[0m     \u001b[39mself\u001b[39m\u001b[39m.\u001b[39mvdagger \u001b[39m=\u001b[39m data\u001b[39m.\u001b[39mvdagger\n",
      "File \u001b[0;32m/Library/Frameworks/Python.framework/Versions/3.10/lib/python3.10/site-packages/qiskit/circuit/parametervector.py:45\u001b[0m, in \u001b[0;36mParameterVectorElement.__setstate__\u001b[0;34m(self, state)\u001b[0m\n\u001b[1;32m     43\u001b[0m \u001b[39mdef\u001b[39;00m \u001b[39m__setstate__\u001b[39m(\u001b[39mself\u001b[39m, state):\n\u001b[1;32m     44\u001b[0m     \u001b[39m*\u001b[39msuper_state, vector, index \u001b[39m=\u001b[39m state\n\u001b[0;32m---> 45\u001b[0m     \u001b[39msuper\u001b[39;49m()\u001b[39m.\u001b[39;49m__setstate__(super_state)\n\u001b[1;32m     46\u001b[0m     \u001b[39mself\u001b[39m\u001b[39m.\u001b[39m_vector \u001b[39m=\u001b[39m vector\n\u001b[1;32m     47\u001b[0m     \u001b[39mself\u001b[39m\u001b[39m.\u001b[39m_index \u001b[39m=\u001b[39m index\n",
      "File \u001b[0;32m/Library/Frameworks/Python.framework/Versions/3.10/lib/python3.10/site-packages/qiskit/circuit/parameter.py:166\u001b[0m, in \u001b[0;36mParameter.__setstate__\u001b[0;34m(self, state)\u001b[0m\n\u001b[1;32m    165\u001b[0m \u001b[39mdef\u001b[39;00m \u001b[39m__setstate__\u001b[39m(\u001b[39mself\u001b[39m, state):\n\u001b[0;32m--> 166\u001b[0m     \u001b[39mself\u001b[39m\u001b[39m.\u001b[39m_name, \u001b[39mself\u001b[39m\u001b[39m.\u001b[39m_uuid, \u001b[39mself\u001b[39m\u001b[39m.\u001b[39m_symbol_expr \u001b[39m=\u001b[39m state\n\u001b[1;32m    167\u001b[0m     \u001b[39mself\u001b[39m\u001b[39m.\u001b[39m_parameter_keys \u001b[39m=\u001b[39m \u001b[39mfrozenset\u001b[39m((\u001b[39mself\u001b[39m\u001b[39m.\u001b[39m_hash_key(),))\n\u001b[1;32m    168\u001b[0m     \u001b[39mself\u001b[39m\u001b[39m.\u001b[39m_hash \u001b[39m=\u001b[39m \u001b[39mhash\u001b[39m((\u001b[39mself\u001b[39m\u001b[39m.\u001b[39m_parameter_keys, \u001b[39mself\u001b[39m\u001b[39m.\u001b[39m_symbol_expr))\n",
      "\u001b[0;31mValueError\u001b[0m: not enough values to unpack (expected 3, got 2)"
     ]
    }
   ],
   "source": [
    "database_path = '../experiments/qsp/'\n",
    "state = 'haar'\n",
    "num_qubits = 5\n",
    "best_ansatz = qsp.QuantumStatePreparation.find_satisfying_qspobj(\n",
    "    state, num_qubits, \n",
    "    error_rate = 0.07, \n",
    "    database_path = database_path)\n",
    "best_ansatz.u.draw('mpl')"
   ]
  },
  {
   "cell_type": "code",
   "execution_count": 6,
   "id": "6a1d8238",
   "metadata": {},
   "outputs": [],
   "source": [
    "import json, os\n",
    "\n",
    "def convert_qspobj_to_json():\n",
    "    path = '../experiments/qsp/'\n",
    "    save_path = '../experiments/qspjson/'\n",
    "\n",
    "    files = [f for f in os.listdir(path) if os.path.isfile(os.path.join(path, f))]\n",
    "    for file in files:\n",
    "        compiler = qsee.qsp.QuantumStatePreparation(f\"{path}{file}\")\n",
    "        qspobj = {\n",
    "            'u': file.split('_')[1].lower(),\n",
    "            'vdagger': file.split('_')[0].lower(),\n",
    "            'num_qubits': compiler.num_qubits,\n",
    "            'num_layers': compiler.num_layers,\n",
    "            'thetas': list(compiler.thetas),\n",
    "        }\n",
    "\n",
    "        with open(f\"{save_path}{file.split('.')[0].lower()}.json\", \"w\") as file:\n",
    "            json.dump(qspobj, file)\n",
    "            \n",
    "convert_qspobj_to_json()"
   ]
  },
  {
   "cell_type": "code",
   "execution_count": 2,
   "id": "46b380c3",
   "metadata": {},
   "outputs": [
    {
     "ename": "ValueError",
     "evalue": "not enough values to unpack (expected 3, got 2)",
     "output_type": "error",
     "traceback": [
      "\u001b[0;31m---------------------------------------------------------------------------\u001b[0m",
      "\u001b[0;31mValueError\u001b[0m                                Traceback (most recent call last)",
      "\u001b[1;32m/Users/vutuanhai/Documents/GitHub/ucvqa/codes/multi_process.ipynb Cell 7\u001b[0m line \u001b[0;36m2\n\u001b[1;32m      <a href='vscode-notebook-cell:/Users/vutuanhai/Documents/GitHub/ucvqa/codes/multi_process.ipynb#X10sZmlsZQ%3D%3D?line=0'>1</a>\u001b[0m \u001b[39mimport\u001b[39;00m \u001b[39mqtm\u001b[39;00m\u001b[39m.\u001b[39;00m\u001b[39mqsp\u001b[39;00m \u001b[39mas\u001b[39;00m \u001b[39mqsp\u001b[39;00m\n\u001b[0;32m----> <a href='vscode-notebook-cell:/Users/vutuanhai/Documents/GitHub/ucvqa/codes/multi_process.ipynb#X10sZmlsZQ%3D%3D?line=1'>2</a>\u001b[0m compiler \u001b[39m=\u001b[39m qsp\u001b[39m.\u001b[39;49mQuantumStatePreparation(\u001b[39m'\u001b[39;49m\u001b[39m../experiments/qsp/ghz_g2_9_2.qspobj\u001b[39;49m\u001b[39m'\u001b[39;49m)\n\u001b[1;32m      <a href='vscode-notebook-cell:/Users/vutuanhai/Documents/GitHub/ucvqa/codes/multi_process.ipynb#X10sZmlsZQ%3D%3D?line=2'>3</a>\u001b[0m compiler\u001b[39m.\u001b[39mvdagger\u001b[39m.\u001b[39mdraw(\u001b[39m'\u001b[39m\u001b[39mmpl\u001b[39m\u001b[39m'\u001b[39m) \n",
      "File \u001b[0;32m~/Documents/GitHub/ucvqa/codes/../qtm/qsp.py:45\u001b[0m, in \u001b[0;36mQuantumStatePreparation.__init__\u001b[0;34m(self, u, vdagger, thetas, ansatz)\u001b[0m\n\u001b[1;32m     43\u001b[0m \u001b[39mif\u001b[39;00m \u001b[39misinstance\u001b[39m(u, \u001b[39mstr\u001b[39m):\n\u001b[1;32m     44\u001b[0m     file \u001b[39m=\u001b[39m \u001b[39mopen\u001b[39m(u, \u001b[39m'\u001b[39m\u001b[39mrb\u001b[39m\u001b[39m'\u001b[39m)\n\u001b[0;32m---> 45\u001b[0m     data \u001b[39m=\u001b[39m pickle\u001b[39m.\u001b[39;49mload(file)\n\u001b[1;32m     46\u001b[0m     \u001b[39mself\u001b[39m\u001b[39m.\u001b[39mu \u001b[39m=\u001b[39m data\u001b[39m.\u001b[39mu\n\u001b[1;32m     47\u001b[0m     \u001b[39mself\u001b[39m\u001b[39m.\u001b[39mvdagger \u001b[39m=\u001b[39m data\u001b[39m.\u001b[39mvdagger\n",
      "File \u001b[0;32m/Library/Frameworks/Python.framework/Versions/3.10/lib/python3.10/site-packages/qiskit/circuit/parametervector.py:45\u001b[0m, in \u001b[0;36mParameterVectorElement.__setstate__\u001b[0;34m(self, state)\u001b[0m\n\u001b[1;32m     43\u001b[0m \u001b[39mdef\u001b[39;00m \u001b[39m__setstate__\u001b[39m(\u001b[39mself\u001b[39m, state):\n\u001b[1;32m     44\u001b[0m     \u001b[39m*\u001b[39msuper_state, vector, index \u001b[39m=\u001b[39m state\n\u001b[0;32m---> 45\u001b[0m     \u001b[39msuper\u001b[39;49m()\u001b[39m.\u001b[39;49m__setstate__(super_state)\n\u001b[1;32m     46\u001b[0m     \u001b[39mself\u001b[39m\u001b[39m.\u001b[39m_vector \u001b[39m=\u001b[39m vector\n\u001b[1;32m     47\u001b[0m     \u001b[39mself\u001b[39m\u001b[39m.\u001b[39m_index \u001b[39m=\u001b[39m index\n",
      "File \u001b[0;32m/Library/Frameworks/Python.framework/Versions/3.10/lib/python3.10/site-packages/qiskit/circuit/parameter.py:166\u001b[0m, in \u001b[0;36mParameter.__setstate__\u001b[0;34m(self, state)\u001b[0m\n\u001b[1;32m    165\u001b[0m \u001b[39mdef\u001b[39;00m \u001b[39m__setstate__\u001b[39m(\u001b[39mself\u001b[39m, state):\n\u001b[0;32m--> 166\u001b[0m     \u001b[39mself\u001b[39m\u001b[39m.\u001b[39m_name, \u001b[39mself\u001b[39m\u001b[39m.\u001b[39m_uuid, \u001b[39mself\u001b[39m\u001b[39m.\u001b[39m_symbol_expr \u001b[39m=\u001b[39m state\n\u001b[1;32m    167\u001b[0m     \u001b[39mself\u001b[39m\u001b[39m.\u001b[39m_parameter_keys \u001b[39m=\u001b[39m \u001b[39mfrozenset\u001b[39m((\u001b[39mself\u001b[39m\u001b[39m.\u001b[39m_hash_key(),))\n\u001b[1;32m    168\u001b[0m     \u001b[39mself\u001b[39m\u001b[39m.\u001b[39m_hash \u001b[39m=\u001b[39m \u001b[39mhash\u001b[39m((\u001b[39mself\u001b[39m\u001b[39m.\u001b[39m_parameter_keys, \u001b[39mself\u001b[39m\u001b[39m.\u001b[39m_symbol_expr))\n",
      "\u001b[0;31mValueError\u001b[0m: not enough values to unpack (expected 3, got 2)"
     ]
    }
   ],
   "source": [
    "import qsee.qsp as qsp\n",
    "compiler = qsp.QuantumStatePreparation('../experiments/qsp/ghz_g2_9_2.qspobj')\n",
    "compiler.vdagger.draw('mpl') "
   ]
  },
  {
   "cell_type": "code",
   "execution_count": 49,
   "id": "a2e94f82",
   "metadata": {},
   "outputs": [
    {
     "name": "stdout",
     "output_type": "stream",
     "text": [
      "0.195315932882392\n"
     ]
    }
   ],
   "source": [
    "import qsee.ansatz\n",
    "import numpy as np\n",
    "import qsee.qsp\n",
    "import json\n",
    "file = '../experiments/qspjson/haar_g2gn_3_2.json'\n",
    "with open(file) as f:\n",
    "    qspjson = json.load(f)\n",
    "num_qubits = qspjson['num_qubits']\n",
    "num_layers = qspjson['num_layers']\n",
    "u = getattr(qsee.ansatz, qspjson['u'])(num_qubits, num_layers)\n",
    "vdagger = getattr(qsee.state, qspjson['vdagger'])(num_qubits).inverse()\n",
    "thetas = np.array(qspjson['thetas'])\n",
    "ansatz = getattr(qsee.ansatz, qspjson['u'])\n",
    "qspobj = qsee.qsp.QuantumStatePreparation(u, vdagger, thetas, ansatz)\n",
    "print(qspobj.fidelity)"
   ]
  }
 ],
 "metadata": {
  "kernelspec": {
   "display_name": "Python 3 (ipykernel)",
   "language": "python",
   "name": "python3"
  },
  "language_info": {
   "codemirror_mode": {
    "name": "ipython",
    "version": 3
   },
   "file_extension": ".py",
   "mimetype": "text/x-python",
   "name": "python",
   "nbconvert_exporter": "python",
   "pygments_lexer": "ipython3",
   "version": "3.0.0"
  }
 },
 "nbformat": 4,
 "nbformat_minor": 5
}
