{
 "cells": [
  {
   "cell_type": "code",
   "execution_count": 59,
   "metadata": {},
   "outputs": [
    {
     "name": "stdout",
     "output_type": "stream",
     "text": [
      "The autoreload extension is already loaded. To reload it, use:\n",
      "  %reload_ext autoreload\n"
     ]
    }
   ],
   "source": [
    "%load_ext autoreload\n",
    "%autoreload 2\n",
    "import tqix, qiskit, qsee.ansatz, qsee.utilities\n",
    "import numpy as np\n",
    "from sklearn.preprocessing import normalize"
   ]
  },
  {
   "cell_type": "markdown",
   "metadata": {},
   "source": [
    "1. Generate a mixed state by Haar random $U$: $\\rho = U|0..0\\rangle\\langle 0..0| U^{\\dagger}$"
   ]
  },
  {
   "cell_type": "code",
   "execution_count": 60,
   "metadata": {},
   "outputs": [
    {
     "name": "stdout",
     "output_type": "stream",
     "text": [
      "True\n",
      "(1.0000000000000004+0j)\n",
      "True\n"
     ]
    }
   ],
   "source": [
    "num_qubits = 2\n",
    "num_layers = 2\n",
    "haar_mixed_state = tqix.qstate.random(num_qubits**2)\n",
    "u_haar = tqix.utility.haar(2**num_qubits)\n",
    "init_state = np.zeros((2**num_qubits, 1))\n",
    "init_state[0] = 1\n",
    "rho = (u_haar @ init_state) @ np.conjugate(np.transpose(u_haar @ init_state))\n",
    "# normalized_rho = qsee.utilities.normalize_matrix(rho)\n",
    "print(qsee.utilities.is_pos_def(rho))\n",
    "print(qsee.utilities.is_normalized(rho))"
   ]
  },
  {
   "cell_type": "markdown",
   "metadata": {},
   "source": [
    "2. Create a $V(\\theta)$, such as from  all-to-all"
   ]
  },
  {
   "cell_type": "code",
   "execution_count": 61,
   "metadata": {},
   "outputs": [
    {
     "data": {
      "image/png": "[encoded data removed]",
      "text/plain": [
       "<Figure size 1049.65x204.68 with 1 Axes>"
      ]
     },
     "execution_count": 61,
     "metadata": {},
     "output_type": "execute_result"
    }
   ],
   "source": [
    "n_walltoall = qsee.ansatz.calculate_n_walltoall(num_qubits)\n",
    "thetas = np.ones(num_layers* 3 * num_qubits + num_layers*n_walltoall)\n",
    "qc = qiskit.QuantumCircuit(num_qubits, num_qubits)\n",
    "qc = qsee.ansatz.create_Walltoall_layered_ansatz(qc, thetas, num_layers)\n",
    "qc.draw('mpl')\n"
   ]
  },
  {
   "cell_type": "markdown",
   "metadata": {},
   "source": [
    "3. Compute the evolved state $\\rho_1 = V^{\\dagger}\\rho V$"
   ]
  },
  {
   "cell_type": "code",
   "execution_count": 62,
   "metadata": {},
   "outputs": [
    {
     "name": "stdout",
     "output_type": "stream",
     "text": [
      "True\n",
      "(0.07142449276512389-1.474514954580286e-17j)\n",
      "False\n"
     ]
    }
   ],
   "source": [
    "V = qiskit.quantum_info.DensityMatrix.from_instruction(qc).data\n",
    "rho_1 = np.conjugate(np.transpose(V)) @ rho @ V\n",
    "print(qsee.utilities.is_pos_def(rho_1))\n",
    "print(qsee.utilities.is_normalized(rho_1))"
   ]
  },
  {
   "cell_type": "markdown",
   "metadata": {},
   "source": [
    "4. Measure this final state by $|0..0\\rangle$ and get probably"
   ]
  },
  {
   "cell_type": "code",
   "execution_count": null,
   "metadata": {},
   "outputs": [],
   "source": []
  },
  {
   "cell_type": "markdown",
   "metadata": {},
   "source": [
    "5. Get reconstructed state by $V |0..0\\rangle\\langle 0..0| V^{\\dagger}$"
   ]
  },
  {
   "cell_type": "code",
   "execution_count": 48,
   "metadata": {},
   "outputs": [
    {
     "name": "stdout",
     "output_type": "stream",
     "text": [
      "[[-0.20302105+0.75110445j]\n",
      " [-0.27504862+0.26524935j]\n",
      " [-0.42858429+0.23742088j]\n",
      " [-0.02431904-0.08928051j]]\n"
     ]
    }
   ],
   "source": [
    "psi = qiskit.quantum_info.Statevector.from_instruction(qc).data\n",
    "psi = np.expand_dims(psi, 1)\n",
    "reconstructed_state = psi @ np.conjugate(np.transpose(psi)) \n",
    "print(psi)"
   ]
  },
  {
   "cell_type": "code",
   "execution_count": 49,
   "metadata": {},
   "outputs": [
    {
     "name": "stdout",
     "output_type": "stream",
     "text": [
      "True\n",
      "True\n"
     ]
    }
   ],
   "source": [
    "\n",
    "print(qsee.utilities.is_pos_def(reconstructed_state))\n",
    "print(qsee.utilities.is_normalized(reconstructed_state))"
   ]
  },
  {
   "cell_type": "code",
   "execution_count": null,
   "metadata": {},
   "outputs": [],
   "source": [
    "state = qiskit.quantum_info.Statevector.from_instruction(qc).data\n"
   ]
  },
  {
   "cell_type": "markdown",
   "metadata": {},
   "source": [
    "6. Calculate the fidelity and plot the result"
   ]
  }
 ],
 "metadata": {
  "kernelspec": {
   "display_name": "Python 3.8.0 64-bit",
   "language": "python",
   "name": "python3"
  },
  "language_info": {
   "codemirror_mode": {
    "name": "ipython",
    "version": 3
   },
   "file_extension": ".py",
   "mimetype": "text/x-python",
   "name": "python",
   "nbconvert_exporter": "python",
   "pygments_lexer": "ipython3",
   "version": "3.8.0"
  },
  "orig_nbformat": 4,
  "vscode": {
   "interpreter": {
    "hash": "b6314cf850edbae231b80224200c9e1580e03453e86236ed42ea1b49b1f8d2e3"
   }
  }
 },
 "nbformat": 4,
 "nbformat_minor": 2
}
