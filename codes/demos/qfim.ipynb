{
 "cells": [
  {
   "cell_type": "markdown",
   "metadata": {},
   "source": [
    "## Quantum Fisher Information matrix\n"
   ]
  },
  {
   "cell_type": "markdown",
   "metadata": {},
   "source": [
    "<img src=\"../../images/qfim.png\">\n",
    "\n",
    "I have coded QFIM function and test it on onequbit case\n",
    "\n",
    "$\\partial_\\theta|\\psi\\rangle$ can be calculated by on the below equation (from Le Bin Ho):\n",
    "\n",
    "<img src=\"../../images/grad_psi.png\" width=500px/>\n",
    "\n",
    "We are not sure about the correctly of QNG function, so we calculate by hand and compare it with QNG's result. See more at [here](\"../docs/experiment_validate_qng.pdf\")\n"
   ]
  },
  {
   "cell_type": "code",
   "execution_count": 12,
   "metadata": {},
   "outputs": [
    {
     "name": "stdout",
     "output_type": "stream",
     "text": [
      "The autoreload extension is already loaded. To reload it, use:\n",
      "  %reload_ext autoreload\n",
      "[[0. 0.]\n",
      " [0. 1.]]\n"
     ]
    }
   ],
   "source": [
    "import qiskit\n",
    "import numpy as np\n",
    "import sys\n",
    "sys.path.insert(1, '../../')\n",
    "import \n",
    "%load_ext autoreload\n",
    "%autoreload 2\n",
    "\n",
    "def create_test_circuit():\n",
    "    thetas = qiskit.circuit.ParameterVector('theta', 2)\n",
    "    qc = qiskit.QuantumCircuit(1, 1)\n",
    "    qc.h(0)\n",
    "    qc.rx(thetas[0], 0)\n",
    "    qc.rz(thetas[1], 0)\n",
    "    return qc\n",
    "\n",
    "thetas = [np.pi/2, np.pi/2]\n",
    "qc = create_test_circuit()\n",
    "grad_psi1 = .grad_psi(qc, thetas, 1/2, np.pi)\n",
    "grad_loss = .grad_loss(qc, thetas)\n",
    "qc_copy = create_test_circuit()\n",
    "psi = qiskit.quantum_info.Statevector.from_instruction(qc_copy.bind_parameters(thetas)).data\n",
    "F = qtm.gradient.qfim(psi, grad_psi1)\n",
    "\n",
    "print(F)\n"
   ]
  },
  {
   "cell_type": "code",
   "execution_count": 13,
   "metadata": {},
   "outputs": [
    {
     "name": "stdout",
     "output_type": "stream",
     "text": [
      "[[1.]]\n"
     ]
    }
   ],
   "source": [
    "def create_test_circuit2():\n",
    "    thetas = qiskit.circuit.ParameterVector('theta', 1)\n",
    "    qc = qiskit.QuantumCircuit(1, 1)\n",
    "    qc.h(0)\n",
    "    qc.rz(thetas[0], 0)\n",
    "    return qc\n",
    "\n",
    "\n",
    "thetas = np.zeros((1,))\n",
    "\n",
    "qc = create_test_circuit2()\n",
    "grad_psi1 = .grad_psi(qc, thetas, 1/2, np.pi)\n",
    "grad_loss = .grad_loss(qc, thetas)\n",
    "qc_copy = create_test_circuit2()\n",
    "psi = qiskit.quantum_info.Statevector.from_instruction(qc_copy.bind_parameters(thetas)).data\n",
    "F = qtm.gradient.qfim(psi, grad_psi1)\n",
    "\n",
    "print(F)\n"
   ]
  },
  {
   "cell_type": "markdown",
   "metadata": {},
   "source": [
    "## Fubini-Study metric tensor\n"
   ]
  },
  {
   "cell_type": "markdown",
   "metadata": {},
   "source": [
    "The QNG are not simple as our imagin, the det of QFIM is 0 at almost step (I think the cause is the Controll gates, it make many entanglements so the variables are not independent ~ 0), so when using Moore-Penrose pseudo inverse the results're not good. The new solution is based on [this paper](https://arxiv.org/pdf/1909.02108.pdf). It seems to more complex, there are many steps :\n",
    "\n",
    "&#9745; Create function that return the generator for every circuit. (25/11)\n",
    "\n",
    "&#9745; Calculating the Fubini-Study tensor. (27/11)\n",
    "\n",
    "&#9744; Divide circuit into some layer, and use recursion on it.\n",
    "\n",
    "Below is the test for my own QNG, the examples have taken from Pennylane.\n"
   ]
  },
  {
   "cell_type": "code",
   "execution_count": 14,
   "metadata": {},
   "outputs": [],
   "source": [
    "import qiskit\n",
    "import numpy as np\n",
    "import \n",
    "import qtm.constant\n",
    "import qtm.ansatz\n",
    "import qtm.gradient"
   ]
  },
  {
   "cell_type": "markdown",
   "metadata": {},
   "source": [
    "Here is the whole circuit\n",
    "\n",
    "<img src=\"https://pennylane.ai/_images/qng1.png\" width=500px/>\n",
    "\n",
    "The first block-diagonal $g^{(0)}$\n",
    "\n",
    "<img src=\"https://pennylane.ai/_images/qng3.png\" width=500px/>\n"
   ]
  },
  {
   "cell_type": "code",
   "execution_count": 15,
   "metadata": {},
   "outputs": [
    {
     "data": {
      "text/plain": [
       "array([[0.125 +5.23499118e-19j, 0.    +0.00000000e+00j],\n",
       "       [0.    +0.00000000e+00j, 0.1875-4.33680869e-18j]])"
      ]
     },
     "execution_count": 15,
     "metadata": {},
     "output_type": "execute_result"
    }
   ],
   "source": [
    "def create_psi():\n",
    "    qc = qiskit.QuantumCircuit(3, 3)\n",
    "    qc.ry(np.pi / 4, 0)\n",
    "    qc.ry(np.pi / 3, 1)\n",
    "    qc.ry(np.pi / 7, 2)\n",
    "    return qc\n",
    "\n",
    "\n",
    "observers = [\n",
    "    ['RZ', 2],\n",
    "    ['RZ', 1]\n",
    "]\n",
    "\n",
    "qc = create_psi()\n",
    "qc.rz(1, 0)\n",
    "qc.rz(2, 1)\n",
    "ob = qtm.gradient.create_observers(qc, k=2)\n",
    "qtm.gradient.calculate_g(qc, ob)\n"
   ]
  },
  {
   "cell_type": "code",
   "execution_count": 16,
   "metadata": {},
   "outputs": [
    {
     "name": "stdout",
     "output_type": "stream",
     "text": [
      "[[0.25+0.j 0.  +0.j 0.  +0.j]\n",
      " [0.  +0.j 0.25+0.j 0.  +0.j]\n",
      " [0.  +0.j 0.  +0.j 0.25+0.j]]\n"
     ]
    }
   ],
   "source": [
    "from scipy.linalg import block_diag\n",
    "qc = qiskit.QuantumCircuit(3, 3)\n",
    "ob = [\n",
    "    ['ry', 2],\n",
    "    ['ry', 1],\n",
    "    ['ry', 0]\n",
    "]\n",
    "\n",
    "a = qtm.gradient.calculate_g(qc, ob)\n",
    "print(a)\n",
    "b = np.ones((3, 3))\n",
    "\n",
    "G = block_diag(a, b)\n"
   ]
  },
  {
   "cell_type": "markdown",
   "metadata": {},
   "source": [
    "The second block-diagonal $g^{(1)}$\n",
    "\n",
    "<img src=\"https://pennylane.ai/_images/qng5.png\" width=500px/>\n"
   ]
  },
  {
   "cell_type": "code",
   "execution_count": 11,
   "metadata": {},
   "outputs": [
    {
     "name": "stdout",
     "output_type": "stream",
     "text": [
      "[['ry', 1], ['rx', 0]]\n"
     ]
    },
    {
     "name": "stderr",
     "output_type": "stream",
     "text": [
      "C:\\Users\\haime\\AppData\\Local\\Temp/ipykernel_14012/3085313550.py:31: DeprecationWarning: Back-references to from Bit instances to their containing Registers have been deprecated. Instead, inspect Registers to find their contained Bits.\n",
      "  wire = qc.num_qubits - 1 - gate[1][0].index\n"
     ]
    },
    {
     "data": {
      "text/plain": [
       "array([[0.24973433+0.j, 0.        +0.j],\n",
       "       [0.        +0.j, 0.20293623+0.j]])"
      ]
     },
     "execution_count": 11,
     "metadata": {},
     "output_type": "execute_result"
    }
   ],
   "source": [
    "def create_psi2(thetas):\n",
    "    qc = qiskit.QuantumCircuit(3, 3)\n",
    "    # |psi_0>: state preparation\n",
    "    qc.ry(np.pi / 4, 0)\n",
    "    qc.ry(np.pi / 3, 1)\n",
    "    qc.ry(np.pi / 7, 2)\n",
    "    # V0(theta0, theta1): Parametrized layer 0\n",
    "    qc.rz(thetas[0], 0)\n",
    "    qc.rz(thetas[1], 1)\n",
    "    # W1: non-parametrized gates\n",
    "    qc.cnot(0, 1)\n",
    "    qc.cnot(1, 2)\n",
    "    return qc\n",
    "\n",
    "\n",
    "thetas = np.array([0.432, -0.123, 0.543, 0.233])\n",
    "# calculate g_ij\n",
    "qc = create_psi2(thetas)\n",
    "observers = [\n",
    "    ['RY', 1],\n",
    "    ['RX', 0]\n",
    "]\n",
    "\n",
    "qc.ry(1.12, 1)\n",
    "qc.rx(2, 2)\n",
    "\n",
    "ob = qtm.gradient.create_observers(qc, k=2)\n",
    "print(ob)\n",
    "qtm.gradient.calculate_g(qc, ob)\n"
   ]
  },
  {
   "cell_type": "code",
   "execution_count": 5,
   "metadata": {},
   "outputs": [
    {
     "name": "stdout",
     "output_type": "stream",
     "text": [
      "[['rx', 2], ['rx', 1], ['rx', 0]]\n",
      "[['cry', 2], ['cry', 1], ['cry', 0]]\n",
      "[['rz', 2], ['rz', 1], ['rz', 0]]\n",
      "[['cry', 1], ['cry', 0], ['cry', 2]]\n",
      "[['rz', 2], ['rz', 1], ['rz', 0]]\n",
      "[['rx', 2], ['rx', 1], ['rx', 0]]\n",
      "[['cry', 2], ['cry', 1], ['cry', 0]]\n",
      "[['rz', 2], ['rz', 1], ['rz', 0]]\n",
      "[['cry', 1], ['cry', 0], ['cry', 2]]\n",
      "[['rz', 2], ['rz', 1], ['rz', 0]]\n"
     ]
    }
   ],
   "source": [
    "num_qubits = 3\n",
    "num_layers = 2\n",
    "thetas_origin = np.random.uniform(\n",
    "    low=0, high=2*np.pi, size=num_qubits*num_layers*5)\n",
    "# For determine GHZ state\n",
    "theta = np.random.uniform(0, 2*np.pi)\n",
    "thetas = thetas_origin.copy()\n",
    "qc = qiskit.QuantumCircuit(num_qubits, num_qubits)\n",
    "\n",
    "loss_values_ghz = []\n",
    "thetass_ghz = []\n",
    "G1 = qtm.gradient.calculate_linear_state(qc.copy(), thetas, num_layers)\n"
   ]
  },
  {
   "cell_type": "code",
   "execution_count": 5,
   "metadata": {},
   "outputs": [
    {
     "name": "stdout",
     "output_type": "stream",
     "text": [
      "2\n",
      "1\n",
      "0\n",
      "2\n",
      "1\n",
      "0\n",
      "2\n",
      "1\n",
      "0\n",
      "2\n",
      "1\n",
      "0\n"
     ]
    },
    {
     "data": {
      "image/png": "[encoded data removed]",
      "text/plain": [
       "<Figure size 1350.8x264.88 with 1 Axes>"
      ]
     },
     "execution_count": 5,
     "metadata": {},
     "output_type": "execute_result"
    },
    {
     "data": {
      "image/png": "[encoded data removed]",
      "text/plain": [
       "<Figure size 1350.8x264.88 with 1 Axes>"
      ]
     },
     "metadata": {},
     "output_type": "display_data"
    }
   ],
   "source": [
    "num_qubits = 3\n",
    "num_layers = 2\n",
    "thetas = np.random.uniform(low=0, high=2*np.pi, size=num_qubits*num_layers*5)\n",
    "qc = qiskit.QuantumCircuit(num_qubits, num_qubits)\n",
    "G1 = qtm.gradient.calculate_binho_state(qc.copy(), thetas, num_layers)\n",
    "\n",
    "qc = qtm.ansatz.create_GHZchecker_binho(qc, thetas, num_layers, theta)\n",
    "qc.draw('mpl')\n"
   ]
  }
 ],
 "metadata": {
  "interpreter": {
   "hash": "b0bb45761e06d42ef60a7e329026c016a53b18e4ad51e16529481946724f1b50"
  },
  "kernelspec": {
   "display_name": "Python 3.7.6 64-bit",
   "language": "python",
   "name": "python3"
  },
  "language_info": {
   "codemirror_mode": {
    "name": "ipython",
    "version": 3
   },
   "file_extension": ".py",
   "mimetype": "text/x-python",
   "name": "python",
   "nbconvert_exporter": "python",
   "pygments_lexer": "ipython3",
   "version": "3.10.9"
  },
  "orig_nbformat": 4
 },
 "nbformat": 4,
 "nbformat_minor": 2
}
