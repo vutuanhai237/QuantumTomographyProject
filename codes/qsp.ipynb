{
 "cells": [
  {
   "cell_type": "markdown",
   "metadata": {},
   "source": [
    "# Procedure for quantum state preparation (QSP) experiment.\n",
    "\n",
    "QSP is presented clearly in [this publication](https://arxiv.org/abs/2306.17422). The basic idea is that we have two unitary $U(\\theta)$ and $V^{\\dagger}$, we optimize the parameter $\\theta$ until $\\theta^{*}$ such that $U(\\theta^{*})V^{\\dagger}=I$.\n",
    "\n",
    "So we will do experiments with various $U$, $V^{\\dagger}$ and optimize strategy. \n",
    "\n",
    "Some notation for hyperparameter:\n",
    "\n",
    "(important)\n",
    "- Ansatz: $U$ (defined in `qtm.ansatz`)\n",
    "- Optimize circuit: $u$ (ansatz when repeat $L$ times)\n",
    "- State: $V^{\\dagger}$ (defined in `qtm.state`)\n",
    "- Number of qubit: $n$ (`num_qubits`)\n",
    "- Number of layer (for ansatz): $L$ (`num_layers`)\n",
    "- $\\theta$: theta (if $\\theta$ is scalar), thetas (if $\\theta$ is 1-d numpy array) and thetass (if $\\theta$ is 2-d numpy array).\n",
    "\n",
    "(not important)\n",
    "- Number of iteration: $n_{iter}$ (`num_iter / iter`)\n",
    "- Optimizer: `sgd`, `adam` or `qng` family, the best optimizer is `adam`.\n",
    "\n",
    "Here is your task, run the below codes with:\n",
    "\n",
    "- $U$ is `qtm.ansatz.g2`, `qtm.ansatz.g2gn` or `qtm.ansatz.g2gnw`.\n",
    "- $V^{\\dagger}$ is `qtm.state.create_GHZ_state(num_qubits).inverse()`, `qtm.state.create_W_state(num_qubits).inverse()`, `qtm.state.create_AME_state(num_qubits).inverse()` or `qtm.state.create_haar_state_inverse(num_qubits)`\n",
    "- $n$ from 3 - 10 (3 - 5 for AME state).\n",
    "- $L$ from 1 - 10 (Note: if we run L = 3 and achieve fidelity ~ 0, then no need to run with larger $L$).\n",
    "- $n_{iter}$: default is 100, if loss value is not ~ 0, you can plot loss_values curve by compiler.plot() method, if it can decrease in the next iteration, then increasing $n_{iter}$ upto 300.\n",
    "\n",
    "The detailed guideline is below. If you can use the server A6000, let's view `multi_process_script.py`."
   ]
  },
  {
   "cell_type": "code",
   "execution_count": 58,
   "metadata": {},
   "outputs": [
    {
     "name": "stdout",
     "output_type": "stream",
     "text": [
      "The autoreload extension is already loaded. To reload it, use:\n",
      "  %reload_ext autoreload\n"
     ]
    }
   ],
   "source": [
    "import sys\n",
    "sys.path.insert(0, '..')\n",
    "from qsee.compilation.qsp import QuantumStatePreparation\n",
    "from qsee.core import ansatz, state\n",
    "from qsee.backend import constant, utilities\n",
    "import matplotlib.pyplot as plt\n",
    "import numpy as np, qiskit\n",
    "%load_ext autoreload\n",
    "%autoreload 2"
   ]
  },
  {
   "cell_type": "markdown",
   "metadata": {},
   "source": [
    "### Quantum State Preparation (QSP) problem"
   ]
  },
  {
   "cell_type": "markdown",
   "metadata": {},
   "source": [
    "First, using Quantum Compilation (QC) to find optimized $\\theta$"
   ]
  },
  {
   "cell_type": "code",
   "execution_count": 125,
   "metadata": {},
   "outputs": [],
   "source": [
    "def custom_ansatz(num_qubits: int) -> qiskit.QuantumCircuit:\n",
    "    qc = qiskit.QuantumCircuit(num_qubits)\n",
    "    thetas = qiskit.circuit.ParameterVector(\n",
    "        'theta', 2 * num_qubits)\n",
    "    j = 0\n",
    "    for i in range(num_qubits):\n",
    "        qc.rx(thetas[j], i)\n",
    "        qc.rz(thetas[j + 1], i)\n",
    "        j += 2\n",
    "    return qc\n",
    "qsp = QuantumStatePreparation(\n",
    "    u=custom_ansatz(num_qubits = 3),\n",
    "    target_state=state.w(num_qubits = 3).inverse(),\n",
    ").fit(\n",
    "    num_steps = 200, \n",
    "    optimizer='sgd', \n",
    "    metrics_func = [\n",
    "        'loss_basic', \n",
    "        'compilation_trace_fidelities'\n",
    "    ]\n",
    ")"
   ]
  },
  {
   "cell_type": "code",
   "execution_count": 116,
   "metadata": {},
   "outputs": [
    {
     "name": "stderr",
     "output_type": "stream",
     "text": [
      "/Library/Frameworks/Python.framework/Versions/3.10/lib/python3.10/site-packages/qiskit/visualization/circuit/matplotlib.py:266: FutureWarning: The default matplotlib drawer scheme will be changed to \"iqp\" in a following release. To silence this warning, specify the current default explicitly as style=\"clifford\", or the new default as style=\"iqp\".\n",
      "  self._style, def_font_ratio = load_style(self._style)\n"
     ]
    },
    {
     "data": {
      "image/png": "[encoded data removed]",
      "text/plain": [
       "<Figure size 454.517x200.667 with 1 Axes>"
      ]
     },
     "execution_count": 116,
     "metadata": {},
     "output_type": "execute_result"
    }
   ],
   "source": [
    "custom_ansatz(num_qubits = 2).compose(state.w(num_qubits = 2).inverse()).draw('mpl', filename = 'circuit.svg')"
   ]
  },
  {
   "cell_type": "code",
   "execution_count": 85,
   "metadata": {},
   "outputs": [],
   "source": [
    "theta = np.pi / 2\n",
    "u = np.array(\n",
    "    [\n",
    "        [1, 0, 0, 0],\n",
    "        [0, np.cos(theta), 0, np.sin(theta)],\n",
    "        [0, 0, 1, 0],\n",
    "        [0, np.sin(theta), 0, -np.cos(theta)],\n",
    "    ]\n",
    ")\n",
    "compiler = QuantumStatePreparation.prepare(u)"
   ]
  },
  {
   "cell_type": "code",
   "execution_count": 77,
   "metadata": {},
   "outputs": [
    {
     "name": "stderr",
     "output_type": "stream",
     "text": [
      "/Library/Frameworks/Python.framework/Versions/3.10/lib/python3.10/site-packages/qiskit/visualization/circuit/matplotlib.py:266: FutureWarning: The default matplotlib drawer scheme will be changed to \"iqp\" in a following release. To silence this warning, specify the current default explicitly as style=\"clifford\", or the new default as style=\"iqp\".\n",
      "  self._style, def_font_ratio = load_style(self._style)\n"
     ]
    },
    {
     "data": {
      "image/png": "[encoded data removed]",
      "text/plain": [
       "<Figure size 872.572x200.667 with 1 Axes>"
      ]
     },
     "execution_count": 77,
     "metadata": {},
     "output_type": "execute_result"
    }
   ],
   "source": [
    "compiler.u.assign_parameters(compiler.thetas).draw(\"mpl\")"
   ]
  },
  {
   "cell_type": "code",
   "execution_count": 43,
   "metadata": {},
   "outputs": [],
   "source": [
    "num_qubits = 2\n",
    "num_layers = 1\n",
    "qsp = QuantumStatePreparation(\n",
    "    u=ansatz.g2gn(num_qubits, num_layers),\n",
    "    target_state=u,\n",
    ").fit()"
   ]
  },
  {
   "cell_type": "code",
   "execution_count": 46,
   "metadata": {},
   "outputs": [
    {
     "name": "stdout",
     "output_type": "stream",
     "text": [
      "[0.1479254  0.35385336 0.46256374 0.04863633 0.87661814 0.85051769\n",
      " 0.17240042 0.03764264]\n"
     ]
    }
   ],
   "source": [
    "a = np.array(np.random.uniform(size=2**3))\n",
    "a = np.array(a)\n",
    "print(a)"
   ]
  },
  {
   "cell_type": "code",
   "execution_count": 48,
   "metadata": {},
   "outputs": [
    {
     "name": "stdout",
     "output_type": "stream",
     "text": [
      "Default compiler is not sastify your error rate, please use other ansatz in QuantumCompilationObj\n"
     ]
    }
   ],
   "source": [
    "from qsee.compilation.qsp import QuantumStatePreparation\n",
    "\n",
    "target_state = np.array(np.random.uniform(size=2**3))\n",
    "compiler = QuantumStatePreparation.prepare(target_state, error_rate=0.1)"
   ]
  },
  {
   "cell_type": "markdown",
   "metadata": {},
   "source": [
    "**Important**, you must save the result in the folder experiments/qsp/, where the 'state' argument is the name of state which is need to prepare. The name of file will be automatically create followed this format:\n",
    "\n",
    "```\n",
    "[state]_[ansatz]_[num_qubits]_[num_layers].qspobj\n",
    "```\n",
    "\n",
    "Last step, load QSP from saved file and check its properties."
   ]
  },
  {
   "cell_type": "code",
   "execution_count": 36,
   "metadata": {},
   "outputs": [
    {
     "data": {
      "text/plain": [
       "0.9998482451406707"
      ]
     },
     "execution_count": 36,
     "metadata": {},
     "output_type": "execute_result"
    }
   ],
   "source": [
    "qspobj = QuantumStatePreparation.load(\"../experiments/test\")\n",
    "qspobj.fidelity"
   ]
  },
  {
   "cell_type": "code",
   "execution_count": 8,
   "metadata": {},
   "outputs": [
    {
     "name": "stdout",
     "output_type": "stream",
     "text": [
      "     ┌──────────────┐                ┌──────────────┐      ┌──────────────┐   \n",
      "q_0: ┤ Ry(theta[0]) ├───────■────────┤ Ry(theta[3]) ├────■─┤ Ry(theta[6]) ├─■─\n",
      "     ├──────────────┤       │        ├──────────────┤    │ ├──────────────┤ │ \n",
      "q_1: ┤ Ry(theta[1]) ├───────■────────┤ Ry(theta[4]) ├─■──┼─┤ Ry(theta[7]) ├─■─\n",
      "     ├──────────────┤┌──────────────┐└──────────────┘ │  │ ├──────────────┤ │ \n",
      "q_2: ┤ Ry(theta[2]) ├┤ Ry(theta[5]) ├─────────────────■──■─┤ Ry(theta[8]) ├─■─\n",
      "     └──────────────┘└──────────────┘                      └──────────────┘   \n",
      "can prepare the state ghz 3 qubits >= 0.99 fidelity (0.9998482451406707)\n"
     ]
    }
   ],
   "source": [
    "obj = QuantumStatePreparation.prepare(\"ghz\", num_qubits=3)"
   ]
  },
  {
   "cell_type": "code",
   "execution_count": 35,
   "metadata": {},
   "outputs": [],
   "source": [
    "obj.save(\"../experiments/test\")"
   ]
  }
 ],
 "metadata": {
  "kernelspec": {
   "display_name": "Python 3",
   "language": "python",
   "name": "python3"
  },
  "language_info": {
   "codemirror_mode": {
    "name": "ipython",
    "version": 3
   },
   "file_extension": ".py",
   "mimetype": "text/x-python",
   "name": "python",
   "nbconvert_exporter": "python",
   "pygments_lexer": "ipython3",
   "version": "3.10.9"
  },
  "orig_nbformat": 4
 },
 "nbformat": 4,
 "nbformat_minor": 2
}
