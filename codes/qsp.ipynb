{
 "cells": [
  {
   "cell_type": "markdown",
   "metadata": {},
   "source": [
    "# Procedure for quantum state preparation (QSP) experiment.\n",
    "\n",
    "QSP is presented clearly in [this publication](https://arxiv.org/abs/2306.17422). The basic idea is that we have two unitary $U(\\theta)$ and $V^{\\dagger}$, we optimize the parameter $\\theta$ until $\\theta^{*}$ such that $U(\\theta^{*})V^{\\dagger}=I$.\n",
    "\n",
    "So we will do experiments with various $U$, $V^{\\dagger}$ and optimize strategy. \n",
    "\n",
    "Some notation for hyperparameter:\n",
    "\n",
    "(important)\n",
    "- Ansatz: $U$ (defined in `qtm.ansatz`)\n",
    "- Optimize circuit: $u$ (ansatz when repeat $L$ times)\n",
    "- State: $V^{\\dagger}$ (defined in `qtm.state`)\n",
    "- Number of qubit: $n$ (`num_qubits`)\n",
    "- Number of layer (for ansatz): $L$ (`num_layers`)\n",
    "- $\\theta$: theta (if $\\theta$ is scalar), thetas (if $\\theta$ is 1-d numpy array) and thetass (if $\\theta$ is 2-d numpy array).\n",
    "\n",
    "(not important)\n",
    "- Number of iteration: $n_{iter}$ (`num_iter / iter`)\n",
    "- Optimizer: `sgd`, `adam` or `qng` family, the best optimizer is `adam`.\n",
    "\n",
    "Here is your task, run the below codes with:\n",
    "\n",
    "- $U$ is `qtm.ansatz.g2`, `qtm.ansatz.g2gn` or `qtm.ansatz.g2gnw`.\n",
    "- $V^{\\dagger}$ is `qtm.state.create_GHZ_state(num_qubits).inverse()`, `qtm.state.create_W_state(num_qubits).inverse()`, `qtm.state.create_AME_state(num_qubits).inverse()` or `qtm.state.create_haar_state_inverse(num_qubits)`\n",
    "- $n$ from 3 - 10 (3 - 5 for AME state).\n",
    "- $L$ from 1 - 10 (Note: if we run L = 3 and achieve fidelity ~ 0, then no need to run with larger $L$).\n",
    "- $n_{iter}$: default is 100, if loss value is not ~ 0, you can plot loss_values curve by compiler.plot() method, if it can decrease in the next iteration, then increasing $n_{iter}$ upto 300.\n",
    "\n",
    "The detailed guideline is below. If you can use the server A6000, let's view `multi_process_script.py`."
   ]
  },
  {
   "cell_type": "code",
   "execution_count": 2,
   "metadata": {},
   "outputs": [],
   "source": [
    "import sys\n",
    "sys.path.insert(0, '..')\n",
    "from qsee.compilation.qsp import QuantumStatePreparation\n",
    "from qsee.core import ansatz, state\n",
    "import matplotlib.pyplot as plt\n",
    "import numpy as np\n",
    "%load_ext autoreload\n",
    "%autoreload 2"
   ]
  },
  {
   "cell_type": "markdown",
   "metadata": {},
   "source": [
    "### Quantum State Preparation (QSP) problem"
   ]
  },
  {
   "cell_type": "markdown",
   "metadata": {},
   "source": [
    "First, using Quantum Compilation (QC) to find optimized $\\theta$"
   ]
  },
  {
   "cell_type": "code",
   "execution_count": 47,
   "metadata": {},
   "outputs": [
    {
     "name": "stderr",
     "output_type": "stream",
     "text": [
      "Step: 100%|██████████| 100/100 [00:03<00:00, 28.53it/s]\n"
     ]
    }
   ],
   "source": [
    "num_qubits = 3\n",
    "num_layers = 1\n",
    "qsp = QuantumStatePreparation(\n",
    "    u = ansatz.g2gn(num_qubits, num_layers),\n",
    "    target_state = state.w(num_qubits).inverse(),\n",
    ")\n",
    "qsp.fit(num_steps = constant.DEFAULT_NUM_STEPS, verbose = 1, optimizer = 'adam')"
   ]
  },
  {
   "cell_type": "code",
   "execution_count": 52,
   "metadata": {},
   "outputs": [
    {
     "ename": "AttributeError",
     "evalue": "'QuantumCompilation' object has no attribute 'compilation_fidelities'",
     "output_type": "error",
     "traceback": [
      "\u001b[0;31m---------------------------------------------------------------------------\u001b[0m",
      "\u001b[0;31mAttributeError\u001b[0m                            Traceback (most recent call last)",
      "\u001b[1;32m/Users/vutuanhai/Documents/GitHub/ucvqa/codes/qsp.ipynb Cell 6\u001b[0m line \u001b[0;36m3\n\u001b[1;32m      <a href='vscode-notebook-cell:/Users/vutuanhai/Documents/GitHub/ucvqa/codes/qsp.ipynb#W5sZmlsZQ%3D%3D?line=0'>1</a>\u001b[0m target_state \u001b[39m=\u001b[39m np\u001b[39m.\u001b[39marray(np\u001b[39m.\u001b[39mrandom\u001b[39m.\u001b[39muniform(size\u001b[39m=\u001b[39m\u001b[39m2\u001b[39m\u001b[39m*\u001b[39m\u001b[39m*\u001b[39m\u001b[39m3\u001b[39m))\n\u001b[1;32m      <a href='vscode-notebook-cell:/Users/vutuanhai/Documents/GitHub/ucvqa/codes/qsp.ipynb#W5sZmlsZQ%3D%3D?line=1'>2</a>\u001b[0m \u001b[39mfrom\u001b[39;00m \u001b[39mqsee\u001b[39;00m\u001b[39m.\u001b[39;00m\u001b[39mcompilation\u001b[39;00m\u001b[39m.\u001b[39;00m\u001b[39mqsp\u001b[39;00m \u001b[39mimport\u001b[39;00m QuantumStatePreparation\n\u001b[0;32m----> <a href='vscode-notebook-cell:/Users/vutuanhai/Documents/GitHub/ucvqa/codes/qsp.ipynb#W5sZmlsZQ%3D%3D?line=2'>3</a>\u001b[0m compiler \u001b[39m=\u001b[39m QuantumStatePreparation\u001b[39m.\u001b[39;49mprepare(target_state)\n\u001b[1;32m      <a href='vscode-notebook-cell:/Users/vutuanhai/Documents/GitHub/ucvqa/codes/qsp.ipynb#W5sZmlsZQ%3D%3D?line=3'>4</a>\u001b[0m compiler\u001b[39m.\u001b[39mfit(\u001b[39m30\u001b[39m)\n",
      "File \u001b[0;32m~/Documents/GitHub/ucvqa/codes/../qsee/compilation/qsp.py:110\u001b[0m, in \u001b[0;36mQuantumStatePreparation.prepare\u001b[0;34m(state, error_rate, **kwargs)\u001b[0m\n\u001b[1;32m    108\u001b[0m     \u001b[39mreturn\u001b[39;00m QuantumStatePreparation\u001b[39m.\u001b[39mprepare_existed(state, error_rate, kwargs[\u001b[39m'\u001b[39m\u001b[39mnum_qubits\u001b[39m\u001b[39m'\u001b[39m])\n\u001b[1;32m    109\u001b[0m \u001b[39melif\u001b[39;00m \u001b[39misinstance\u001b[39m(state, np\u001b[39m.\u001b[39mndarray):\n\u001b[0;32m--> 110\u001b[0m     \u001b[39mreturn\u001b[39;00m QuantumStatePreparation\u001b[39m.\u001b[39;49mprepare_random(state, error_rate, \u001b[39m*\u001b[39;49m\u001b[39m*\u001b[39;49mkwargs)\n\u001b[1;32m    111\u001b[0m \u001b[39melse\u001b[39;00m:\n\u001b[1;32m    112\u001b[0m     \u001b[39mraise\u001b[39;00m \u001b[39mTypeError\u001b[39;00m(\u001b[39m\"\u001b[39m\u001b[39mPlease input target state name or an array\u001b[39m\u001b[39m\"\u001b[39m)\n",
      "File \u001b[0;32m~/Documents/GitHub/ucvqa/codes/../qsee/compilation/qsp.py:117\u001b[0m, in \u001b[0;36mQuantumStatePreparation.prepare_random\u001b[0;34m(state, error_rate, **kwargs)\u001b[0m\n\u001b[1;32m    115\u001b[0m compiler \u001b[39m=\u001b[39m QuantumCompilation\u001b[39m.\u001b[39mprepare(state)\n\u001b[1;32m    116\u001b[0m compiler\u001b[39m.\u001b[39mfit()\n\u001b[0;32m--> 117\u001b[0m \u001b[39mif\u001b[39;00m \u001b[39m1\u001b[39m \u001b[39m-\u001b[39m compiler\u001b[39m.\u001b[39;49mcompilation_fidelities[\u001b[39m-\u001b[39m\u001b[39m1\u001b[39m] \u001b[39m>\u001b[39m error_rate:\n\u001b[1;32m    118\u001b[0m     \u001b[39mprint\u001b[39m(\u001b[39m'\u001b[39m\u001b[39mDefault compiler is not sastify your error rate, please use other ansatz in QuantumCompilationObj\u001b[39m\u001b[39m'\u001b[39m)\n\u001b[1;32m    119\u001b[0m \u001b[39mreturn\u001b[39;00m compiler\n",
      "\u001b[0;31mAttributeError\u001b[0m: 'QuantumCompilation' object has no attribute 'compilation_fidelities'"
     ]
    }
   ],
   "source": [
    "target_state = np.array(np.random.uniform(size=2**3))\n",
    "from qsee.compilation.qsp import QuantumStatePreparation\n",
    "compiler = QuantumStatePreparation.prepare(target_state)\n",
    "compiler.fit()"
   ]
  },
  {
   "cell_type": "code",
   "execution_count": 42,
   "metadata": {},
   "outputs": [],
   "source": [
    "compiler2 = QuantumCompilation.prepare(target_state)\n",
    "compiler2.fit(30)"
   ]
  },
  {
   "cell_type": "code",
   "execution_count": 43,
   "metadata": {},
   "outputs": [
    {
     "data": {
      "text/plain": [
       "[<matplotlib.lines.Line2D at 0x2815762f0>]"
      ]
     },
     "execution_count": 43,
     "metadata": {},
     "output_type": "execute_result"
    },
    {
     "data": {
      "image/png": "[encoded data removed]",
      "text/plain": [
       "<Figure size 640x480 with 1 Axes>"
      ]
     },
     "metadata": {},
     "output_type": "display_data"
    }
   ],
   "source": [
    "plt.plot(compiler.metrics['loss_fubini_study'])\n",
    "plt.plot(compiler2.metrics['loss_fubini_study'])"
   ]
  },
  {
   "cell_type": "markdown",
   "metadata": {},
   "source": [
    "**Important**, you must save the result in the folder experiments/qsp/, where the 'state' argument is the name of state which is need to prepare. The name of file will be automatically create followed this format:\n",
    "\n",
    "```\n",
    "[state]_[ansatz]_[num_qubits]_[num_layers].qspobj\n",
    "```\n",
    "\n",
    "Last step, load QSP from saved file and check its properties."
   ]
  },
  {
   "cell_type": "code",
   "execution_count": 36,
   "metadata": {},
   "outputs": [
    {
     "data": {
      "text/plain": [
       "0.9998482451406707"
      ]
     },
     "execution_count": 36,
     "metadata": {},
     "output_type": "execute_result"
    }
   ],
   "source": [
    "qspobj = QuantumStatePreparation.load('../experiments/test')\n",
    "qspobj.fidelity"
   ]
  },
  {
   "cell_type": "code",
   "execution_count": 8,
   "metadata": {},
   "outputs": [
    {
     "name": "stdout",
     "output_type": "stream",
     "text": [
      "     ┌──────────────┐                ┌──────────────┐      ┌──────────────┐   \n",
      "q_0: ┤ Ry(theta[0]) ├───────■────────┤ Ry(theta[3]) ├────■─┤ Ry(theta[6]) ├─■─\n",
      "     ├──────────────┤       │        ├──────────────┤    │ ├──────────────┤ │ \n",
      "q_1: ┤ Ry(theta[1]) ├───────■────────┤ Ry(theta[4]) ├─■──┼─┤ Ry(theta[7]) ├─■─\n",
      "     ├──────────────┤┌──────────────┐└──────────────┘ │  │ ├──────────────┤ │ \n",
      "q_2: ┤ Ry(theta[2]) ├┤ Ry(theta[5]) ├─────────────────■──■─┤ Ry(theta[8]) ├─■─\n",
      "     └──────────────┘└──────────────┘                      └──────────────┘   \n",
      "can prepare the state ghz 3 qubits >= 0.99 fidelity (0.9998482451406707)\n"
     ]
    }
   ],
   "source": [
    "obj = QuantumStatePreparation.prepare('ghz', num_qubits = 3)"
   ]
  },
  {
   "cell_type": "code",
   "execution_count": 10,
   "metadata": {},
   "outputs": [],
   "source": []
  },
  {
   "cell_type": "code",
   "execution_count": 35,
   "metadata": {},
   "outputs": [],
   "source": [
    "obj.save('../experiments/test')"
   ]
  }
 ],
 "metadata": {
  "kernelspec": {
   "display_name": "Python 3",
   "language": "python",
   "name": "python3"
  },
  "language_info": {
   "codemirror_mode": {
    "name": "ipython",
    "version": 3
   },
   "file_extension": ".py",
   "mimetype": "text/x-python",
   "name": "python",
   "nbconvert_exporter": "python",
   "pygments_lexer": "ipython3",
   "version": "3.10.9"
  },
  "orig_nbformat": 4
 },
 "nbformat": 4,
 "nbformat_minor": 2
}
