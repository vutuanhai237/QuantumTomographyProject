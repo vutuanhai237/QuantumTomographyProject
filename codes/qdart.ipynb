{
 "cells": [
  {
   "attachments": {},
   "cell_type": "markdown",
   "metadata": {},
   "source": [
    "<img src = '../docs/qdart.png' height = '400px'>"
   ]
  },
  {
   "attachments": {},
   "cell_type": "markdown",
   "metadata": {},
   "source": [
    "- qdas search thì sẽ trả về 1 mạch u nhưng mình sẽ đặt vấn đề là có cần concat mạch u vào mạch cũ hay ko?\n",
    "- action của policy gradient có thể là 0 hoặc 1, có concat hoặc ko concat\n",
    "- state s_t của policy gradient là circuit_old, s_t+1 là circuit mới\n",
    "- nhưng hàm policy pi thì sẽ là 1 neural network pi(s_t) để encode state\n",
    "- Mỗi state, dqas dùng hàm phân bố p(k=j,a) để chọn layer tạo mạch\n",
    "- nhưng em xem thì dùng shapeley value có vẻ hiệu quả và phù hợp với context này (vì tham số a của qdas hiện giờ nó ko phụ thuộc vào cấu trúc cổng trong mạch và phụ thuộc loss)\n",
    "- nên mình có thể tối ưu 2 vòng, 1 vòng tạo mạch u, 1 vòng ráp mạch u vào"
   ]
  },
  {
   "cell_type": "code",
   "execution_count": 40,
   "metadata": {},
   "outputs": [
    {
     "name": "stdout",
     "output_type": "stream",
     "text": [
      "The autoreload extension is already loaded. To reload it, use:\n",
      "  %reload_ext autoreload\n"
     ]
    },
    {
     "data": {
      "text/html": [
       "<pre style=\"word-wrap: normal;white-space: pre;background: #fff0;line-height: 1.1;font-family: &quot;Courier New&quot;,Courier,monospace\">     ┌───┐     ┌──────────┐     \n",
       "q_0: ┤ H ├──■──┤ Rx(π/40) ├─────\n",
       "     └───┘┌─┴─┐├──────────┤┌───┐\n",
       "q_1: ─────┤ X ├┤ Ry(π/40) ├┤ H ├\n",
       "          └───┘└──────────┘└───┘</pre>"
      ],
      "text/plain": [
       "     ┌───┐     ┌──────────┐     \n",
       "q_0: ┤ H ├──■──┤ Rx(π/40) ├─────\n",
       "     └───┘┌─┴─┐├──────────┤┌───┐\n",
       "q_1: ─────┤ X ├┤ Ry(π/40) ├┤ H ├\n",
       "          └───┘└──────────┘└───┘"
      ]
     },
     "execution_count": 40,
     "metadata": {},
     "output_type": "execute_result"
    }
   ],
   "source": [
    "import torch\n",
    "import torch.nn as nn\n",
    "import torch.nn.functional as F\n",
    "import random\n",
    "import numpy as np\n",
    "import qtm.dag\n",
    "import qiskit\n",
    "%load_ext autoreload\n",
    "%autoreload 2\n",
    "torch.manual_seed(1000)\n",
    "torch.cuda.manual_seed(1000)\n",
    "np.random.seed(1000)\n",
    "random.seed(1000)\n",
    "\n",
    "qc = qiskit.QuantumCircuit(2)\n",
    "qc.h(0)\n",
    "qc.cx(0, 1)\n",
    "qc.ry(np.pi/40, 1)\n",
    "qc.rx(np.pi/40, 0)\n",
    "\n",
    "qc1 = qiskit.QuantumCircuit(2)\n",
    "qc.h(1)\n",
    "qc.compose(qc1).draw()"
   ]
  },
  {
   "cell_type": "code",
   "execution_count": null,
   "metadata": {},
   "outputs": [],
   "source": [
    "import qtm.qcompilation\n",
    "import numpy as np\n",
    "import types\n",
    "import qiskit\n",
    "%load_ext autoreload\n",
    "%autoreload 2\n",
    "\n",
    "def reward_function(loss):\n",
    "    return\n",
    "def frozen_circuit(circuit):\n",
    "    return\n",
    "\n",
    "def unfrozen_circuit(frozen_circuit):\n",
    "    return\n",
    "\n",
    "def merge_circuit(qc1, qc2):\n",
    "    return qc1.compose(qc2)\n",
    "\n",
    "def Qdas(frozen_circuit, pool_theta, pool_operation):\n",
    "    return\n",
    "def qdart(initial_circuit, R, T, N):\n",
    "    # neural_network \n",
    "    s = [None] * T\n",
    "    a = [None] * T\n",
    "    r = [None] * T\n",
    "    pi = [None] * T\n",
    "    policy_gradients = [None] * T\n",
    "    s[0] = initial_circuit\n",
    "    for i in range(0, N):\n",
    "        for t in range(0, T):\n",
    "            old_circuit = s[t]\n",
    "            new_circuit = Qdas(frozen_circuit(old_circuit), pool_theta, pool_operation)\n",
    "            a[t] = qtm.dag.circuit_to_scalar(s[t])\n",
    "            if a[t] == 0:\n",
    "                s[t+1] = unfrozen_circuit(old_circuit)\n",
    "            else:\n",
    "                s[t+1] = merge_circuit(unfrozen_circuit(old_circuit), new_circuit)\n",
    "            r[t] = reward_function(loss)\n",
    "            pi[t] = [s[t], a[t], r[t], s[t+1]]\n",
    "        # Compute policy gradients\n",
    "        # policy_gradients[i] = calculate_policy_gradient(pi[t])\n",
    "    "
   ]
  },
  {
   "cell_type": "code",
   "execution_count": 5,
   "metadata": {},
   "outputs": [
    {
     "name": "stdout",
     "output_type": "stream",
     "text": [
      "[('Identity', 0), ('Hadamard', 0), ('PauliX', 0), ('PauliY', 0), ('PauliZ', 0), ('RX', 0), ('RY', 0), ('RZ', 0), ('Identity', 1), ('Hadamard', 1), ('PauliX', 1), ('PauliY', 1), ('PauliZ', 1), ('RX', 1), ('RY', 1), ('RZ', 1), ('Identity', 2), ('Hadamard', 2), ('PauliX', 2), ('PauliY', 2), ('PauliZ', 2), ('RX', 2), ('RY', 2), ('RZ', 2), ('CNOT', 0, 1), ('CY', 0, 1), ('CZ', 0, 1), ('CRX', 0, 1), ('CRY', 0, 1), ('CRZ', 0, 1), ('CNOT', 0, 2), ('CY', 0, 2), ('CZ', 0, 2), ('CRX', 0, 2), ('CRY', 0, 2), ('CRZ', 0, 2), ('CNOT', 1, 0), ('CY', 1, 0), ('CZ', 1, 0), ('CRX', 1, 0), ('CRY', 1, 0), ('CRZ', 1, 0), ('CNOT', 1, 2), ('CY', 1, 2), ('CZ', 1, 2), ('CRX', 1, 2), ('CRY', 1, 2), ('CRZ', 1, 2), ('CNOT', 2, 0), ('CY', 2, 0), ('CZ', 2, 0), ('CRX', 2, 0), ('CRY', 2, 0), ('CRZ', 2, 0), ('CNOT', 2, 1), ('CY', 2, 1), ('CZ', 2, 1), ('CRX', 2, 1), ('CRY', 2, 1), ('CRZ', 2, 1)]\n"
     ]
    }
   ],
   "source": [
    "import qtm.constant\n",
    "gate_pool = qtm.constant.create_gate_pool(3)\n",
    "print(gate_pool)"
   ]
  }
 ],
 "metadata": {
  "kernelspec": {
   "display_name": "Python 3",
   "language": "python",
   "name": "python3"
  },
  "language_info": {
   "codemirror_mode": {
    "name": "ipython",
    "version": 3
   },
   "file_extension": ".py",
   "mimetype": "text/x-python",
   "name": "python",
   "nbconvert_exporter": "python",
   "pygments_lexer": "ipython3",
   "version": "3.10.9"
  },
  "orig_nbformat": 4
 },
 "nbformat": 4,
 "nbformat_minor": 2
}
