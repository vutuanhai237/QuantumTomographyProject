{
 "cells": [
  {
   "attachments": {},
   "cell_type": "markdown",
   "metadata": {},
   "source": [
    "<img src = '../docs/qdart.png' height = '400px'>"
   ]
  },
  {
   "attachments": {},
   "cell_type": "markdown",
   "metadata": {},
   "source": [
    "- qdas search thì sẽ trả về 1 mạch u nhưng mình sẽ đặt vấn đề là có cần concat mạch u vào mạch cũ hay ko?\n",
    "- action của policy gradient có thể là 0 hoặc 1, có concat hoặc ko concat\n",
    "- state s_t của policy gradient là circuit_old, s_t+1 là circuit mới\n",
    "- nhưng hàm policy pi thì sẽ là 1 neural network pi(s_t) để encode state\n",
    "- Mỗi state, dqas dùng hàm phân bố p(k=j,a) để chọn layer tạo mạch\n",
    "- nhưng em xem thì dùng shapeley value có vẻ hiệu quả và phù hợp với context này (vì tham số a của qdas hiện giờ nó ko phụ thuộc vào cấu trúc cổng trong mạch và phụ thuộc loss)\n",
    "- nên mình có thể tối ưu 2 vòng, 1 vòng tạo mạch u, 1 vòng ráp mạch u vào"
   ]
  },
  {
   "cell_type": "code",
   "execution_count": 11,
   "metadata": {},
   "outputs": [
    {
     "name": "stdout",
     "output_type": "stream",
     "text": [
      "The autoreload extension is already loaded. To reload it, use:\n",
      "  %reload_ext autoreload\n",
      "[[ 7  0]\n",
      " [25  0]]\n",
      "[[0 1]\n",
      " [0 0]]\n",
      "0.5089705682629115\n"
     ]
    }
   ],
   "source": [
    "import torch\n",
    "import torch.nn as nn\n",
    "import torch.nn.functional as F\n",
    "import random\n",
    "import numpy as np\n",
    "import qtm.dag\n",
    "import qiskit\n",
    "%load_ext autoreload\n",
    "%autoreload 2\n",
    "torch.manual_seed(1000)\n",
    "torch.cuda.manual_seed(1000)\n",
    "np.random.seed(1000)\n",
    "random.seed(1000)\n",
    "\n",
    "qc = qiskit.QuantumCircuit(2)\n",
    "qc.h(0)\n",
    "qc.cx(0, 1)\n",
    "qc.measure_all()\n",
    "dag = qtm.dag.circuit_to_dag(qc)\n",
    "node_features = qtm.dag.dag_to_node_features(dag)\n",
    "adjacency_matrix = qtm.dag.dag_to_adjacency_matrix(dag)\n",
    "\n",
    "print(node_features)\n",
    "print(adjacency_matrix)\n",
    "print(qtm.dag.circuit_to_scalar(qc))"
   ]
  },
  {
   "cell_type": "code",
   "execution_count": null,
   "metadata": {},
   "outputs": [],
   "source": [
    "import qtm.qcompilation\n",
    "import numpy as np\n",
    "import types\n",
    "import qiskit\n",
    "%load_ext autoreload\n",
    "%autoreload 2\n",
    "\n",
    "def reward_function(loss):\n",
    "    return\n",
    "def frozen_circuit(circuit):\n",
    "    return\n",
    "\n",
    "def unfrozen_circuit(frozen_circuit):\n",
    "    return\n",
    "\n",
    "def merge_circuit(qc1, qc2):\n",
    "    return qc1.compose(qc2)\n",
    "\n",
    "def Qdas(frozen_circuit, pool_theta, pool_operation):\n",
    "    return\n",
    "def qdart(initial_circuit, R, T, N):\n",
    "    # neural_network \n",
    "    s = [None] * T\n",
    "    a = [None] * T\n",
    "    r = [None] * T\n",
    "    pi = [None] * T\n",
    "    policy_gradients = [None] * T\n",
    "    s[0] = initial_circuit\n",
    "    for i in range(0, N):\n",
    "        for t in range(0, T):\n",
    "            old_circuit = s[t]\n",
    "            new_circuit = Qdas(frozen_circuit(old_circuit), pool_theta, pool_operation)\n",
    "            a[t] = qtm.dag.circuit_to_scalar(s[t])\n",
    "            if a[t] == 0:\n",
    "                s[t+1] = unfrozen_circuit(old_circuit)\n",
    "            else:\n",
    "                s[t+1] = merge_circuit(unfrozen_circuit(old_circuit), new_circuit)\n",
    "            r[t] = reward_function(loss)\n",
    "            pi[t] = [s[t], a[t], r[t], s[t+1]]\n",
    "        # Compute policy gradients\n",
    "        # policy_gradients[i] = calculate_policy_gradient(pi[t])\n",
    "    "
   ]
  },
  {
   "cell_type": "code",
   "execution_count": 2,
   "metadata": {},
   "outputs": [
    {
     "name": "stdout",
     "output_type": "stream",
     "text": [
      "[('Hadamard', 0), ('RX', 0), ('RY', 0), ('RZ', 0), ('Hadamard', 1), ('RX', 1), ('RY', 1), ('RZ', 1), ('Hadamard', 2), ('RX', 2), ('RY', 2), ('RZ', 2), ('CNOT', 0, 1), ('CY', 0, 1), ('CZ', 0, 1), ('CRX', 0, 1), ('CRY', 0, 1), ('CRZ', 0, 1), ('CNOT', 0, 2), ('CY', 0, 2), ('CZ', 0, 2), ('CRX', 0, 2), ('CRY', 0, 2), ('CRZ', 0, 2), ('CNOT', 1, 0), ('CY', 1, 0), ('CZ', 1, 0), ('CRX', 1, 0), ('CRY', 1, 0), ('CRZ', 1, 0), ('CNOT', 1, 2), ('CY', 1, 2), ('CZ', 1, 2), ('CRX', 1, 2), ('CRY', 1, 2), ('CRZ', 1, 2), ('CNOT', 2, 0), ('CY', 2, 0), ('CZ', 2, 0), ('CRX', 2, 0), ('CRY', 2, 0), ('CRZ', 2, 0), ('CNOT', 2, 1), ('CY', 2, 1), ('CZ', 2, 1), ('CRX', 2, 1), ('CRY', 2, 1), ('CRZ', 2, 1)]\n"
     ]
    }
   ],
   "source": [
    "import qtm.constant\n",
    "gate_pool = qtm.constant.create_gate_pool(3)\n",
    "print(gate_pool)"
   ]
  },
  {
   "cell_type": "code",
   "execution_count": 4,
   "metadata": {},
   "outputs": [
    {
     "name": "stdout",
     "output_type": "stream",
     "text": [
      "----------new epoch 0-----------\n",
      "batched average loss:  1.0  batched loss std:  0.0 \n",
      "new baseline:  1.0\n",
      "('Hadamard', 0)\n",
      "('Hadamard', 0)\n",
      "('Hadamard', 0)\n",
      "('Hadamard', 0)\n",
      "('Hadamard', 0)\n",
      "----------new epoch 1-----------\n",
      "batched average loss:  1.0  batched loss std:  0.0 \n",
      "new baseline:  1.0\n",
      "('Hadamard', 0)\n",
      "('Hadamard', 0)\n",
      "('Hadamard', 0)\n",
      "('Hadamard', 0)\n",
      "('Hadamard', 0)\n",
      "----------new epoch 2-----------\n",
      "batched average loss:  1.0  batched loss std:  0.0 \n",
      "new baseline:  1.0\n",
      "('Hadamard', 0)\n",
      "('Hadamard', 0)\n",
      "('Hadamard', 0)\n",
      "('Hadamard', 0)\n",
      "('Hadamard', 0)\n",
      "----------new epoch 3-----------\n",
      "batched average loss:  1.0  batched loss std:  0.0 \n",
      "new baseline:  1.0\n",
      "('Hadamard', 0)\n",
      "('Hadamard', 0)\n",
      "('Hadamard', 0)\n",
      "('Hadamard', 0)\n",
      "('Hadamard', 0)\n",
      "----------new epoch 4-----------\n",
      "batched average loss:  1.0  batched loss std:  0.0 \n",
      "new baseline:  1.0\n",
      "('Hadamard', 0)\n",
      "('Hadamard', 0)\n",
      "('Hadamard', 0)\n",
      "('Hadamard', 0)\n",
      "('Hadamard', 0)\n",
      "<QNode: wires=3, device='default.qubit.tf', interface='tf', diff_method='backprop'>\n"
     ]
    },
    {
     "data": {
      "image/png": "[encoded data removed]",
      "text/plain": [
       "<Figure size 640x480 with 1 Axes>"
      ]
     },
     "metadata": {},
     "output_type": "display_data"
    }
   ],
   "source": [
    "\n",
    "from qdas.DQASsearch import DQAS_search\n",
    "from qdas.utils import set_op_pool\n",
    "from qdas.vag import GHZ_vag \n",
    "from pennylane import numpy as np\n",
    "import tensorflow as tf \n",
    "import matplotlib.pyplot as plt\n",
    "\n",
    "ghz_pool = qtm.constant.create_gate_pool(3)\n",
    "set_op_pool(ghz_pool)\n",
    "len_pool = len(ghz_pool)\n",
    "num_operation = 5\n",
    "\n",
    "stp, nnp, history, circuit = DQAS_search(\n",
    "    GHZ_vag,\n",
    "    nq=3,\n",
    "    p=num_operation,\n",
    "    batch=1,\n",
    "    epochs=5,\n",
    "    verbose=False,\n",
    "    nnp_initial_value=np.zeros([num_operation, len_pool]),\n",
    "    structure_opt=tf.keras.optimizers.Adam(learning_rate=0.15),\n",
    ")\n",
    "plt.plot(history)\n",
    "print(circuit)"
   ]
  }
 ],
 "metadata": {
  "kernelspec": {
   "display_name": "Python 3",
   "language": "python",
   "name": "python3"
  },
  "language_info": {
   "codemirror_mode": {
    "name": "ipython",
    "version": 3
   },
   "file_extension": ".py",
   "mimetype": "text/x-python",
   "name": "python",
   "nbconvert_exporter": "python",
   "pygments_lexer": "ipython3",
   "version": "3.10.9"
  },
  "orig_nbformat": 4
 },
 "nbformat": 4,
 "nbformat_minor": 2
}
