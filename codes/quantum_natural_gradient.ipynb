{
 "cells": [
  {
   "cell_type": "markdown",
   "metadata": {},
   "source": [
    "## Quantum Fisher Information matrix"
   ]
  },
  {
   "cell_type": "markdown",
   "metadata": {},
   "source": [
    "<img src=\"../images/qfim.png\">\n",
    "\n",
    "I have coded QFIM function and test it on 1qubit case\n",
    "\n",
    "$\\partial_\\theta|\\psi\\rangle$ can be calculated by on the below equation (from Le Bin Ho):\n",
    "\n",
    "<img src=\"../images/grad_psi.png\" width=500px/>\n",
    "\n",
    "We are not sure about the correctly of QNG function, so we calculate by hand and compare it with QNG's result. See more at [here](\"../docs/experiment_validate_qng.pdf\")"
   ]
  },
  {
   "cell_type": "code",
   "execution_count": null,
   "metadata": {},
   "outputs": [],
   "source": [
    "def create_test_circuit(qc, thetas):\n",
    "    qc.h(0)\n",
    "    qc.rx(thetas[0], 0)\n",
    "    qc.rz(thetas[1], 0)\n",
    "    return qc\n",
    "\n",
    "qc = qiskit.QuantumCircuit(1, 1)\n",
    "thetas = np.array([np.pi/2, np.pi/2])\n",
    "grad_psi1 = qtm.base_qtm.grad_psi(qc, create_test_circuit, thetas, r = 1/2, s = np.pi)\n",
    "grad_loss = qtm.base_qtm.grad_loss(qc, create_test_circuit, thetas, r = 1/2, s = np.pi/2)\n",
    "qc_copy = create_test_circuit(qc.copy(), thetas)\n",
    "psi = qiskit.quantum_info.Statevector.from_instruction(qc_copy).data\n",
    "F = qtm.quantum_fisher.create_QFIM(psi, grad_psi1)\n",
    "\n",
    "print(F)"
   ]
  },
  {
   "cell_type": "code",
   "execution_count": null,
   "metadata": {},
   "outputs": [],
   "source": [
    "def create_test_circuit2(qc, thetas):\n",
    "    qc.h(0)\n",
    "    qc.rz(thetas[0], 0)\n",
    "    return qc\n",
    "thetas = np.zeros((1,))\n",
    "qc = qiskit.QuantumCircuit(1, 1)\n",
    "grad_psi1 = qtm.base_qtm.grad_psi(qc.copy(), create_test_circuit2, thetas, r = 1/2, s = np.pi)\n",
    "qc_copy = create_test_circuit2(qc.copy(), thetas)\n",
    "psi = qiskit.quantum_info.Statevector.from_instruction(qc_copy).data\n",
    "F = qtm.quantum_fisher.create_QFIM(psi, grad_psi1)\n",
    "\n",
    "print(F)"
   ]
  },
  {
   "cell_type": "markdown",
   "metadata": {},
   "source": [
    "## Fubini-Study metric tensor"
   ]
  },
  {
   "cell_type": "markdown",
   "metadata": {},
   "source": [
    "\n",
    "The QNG are not simple as our imagin, the det of QFIM is 0 at almost step (I think the cause is the Controll gates, it make many entanglements so the variables are not independent ~ 0), so when using Moore-Penrose pseudo inverse the results're not good. The new solution is based on [this paper](https://arxiv.org/pdf/1909.02108.pdf). It seems to more complex, there are many steps :\n",
    "\n",
    "&#9745; Create function that return the generator for every circuit. (25/11)\n",
    "\n",
    "&#9745; Calculating the Fubini-Study tensor. (27/11)\n",
    "\n",
    "&#9744; Divide circuit into some layer, and use recursion on it.\n",
    "\n",
    "Below is the test for my own QNG, the examples have taken from Pennylane."
   ]
  },
  {
   "cell_type": "code",
   "execution_count": 1,
   "metadata": {},
   "outputs": [],
   "source": [
    "import qiskit\n",
    "import numpy as np\n",
    "import qtm.base_qtm, qtm.constant, qtm.qtm_1qubit, qtm.qtm_nqubit, qtm.fubibi_study"
   ]
  },
  {
   "cell_type": "markdown",
   "metadata": {},
   "source": [
    "Here is the whole circuit\n",
    "\n",
    "<img src=\"https://pennylane.ai/qml/_images/qng1.png\" width=500px/>\n",
    "\n",
    "The first block-diagonal $g^{(0)}$\n",
    "\n",
    "<img src=\"https://pennylane.ai/qml/_images/qng3.png\" width=500px/>"
   ]
  },
  {
   "cell_type": "code",
   "execution_count": 5,
   "metadata": {},
   "outputs": [
    {
     "data": {
      "text/plain": [
       "array([[0.125 +0.j, 0.    +0.j],\n",
       "       [0.    +0.j, 0.1875+0.j]])"
      ]
     },
     "execution_count": 5,
     "metadata": {},
     "output_type": "execute_result"
    }
   ],
   "source": [
    "def create_psi():\n",
    "    qc = qiskit.QuantumCircuit(3, 3)\n",
    "    qc.ry(np.pi / 4, 0)\n",
    "    qc.ry(np.pi / 3, 1)\n",
    "    qc.ry(np.pi / 7, 2)\n",
    "    return qc\n",
    "    \n",
    "observers = [\n",
    "    ['RZ', 2],\n",
    "    ['RZ', 1]\n",
    "]\n",
    "qc = create_psi()\n",
    "qtm.fubibi_study.calculate_g(qc, observers)"
   ]
  },
  {
   "cell_type": "markdown",
   "metadata": {},
   "source": [
    "The second block-diagonal $g^{(1)}$\n",
    "\n",
    "<img src=\"https://pennylane.ai/qml/_images/qng8.png\" width=500px/>"
   ]
  },
  {
   "cell_type": "code",
   "execution_count": 4,
   "metadata": {},
   "outputs": [
    {
     "data": {
      "text/plain": [
       "array([[0.24973433+0.j, 0.        +0.j],\n",
       "       [0.        +0.j, 0.20293623+0.j]])"
      ]
     },
     "execution_count": 4,
     "metadata": {},
     "output_type": "execute_result"
    }
   ],
   "source": [
    "def create_psi2(thetas):\n",
    "    qc = qiskit.QuantumCircuit(3, 3)\n",
    "    # |psi_0>: state preparation\n",
    "    qc.ry(np.pi / 4, 0)\n",
    "    qc.ry(np.pi / 3, 1)\n",
    "    qc.ry(np.pi / 7, 2)\n",
    "    # V0(theta0, theta1): Parametrized layer 0\n",
    "    qc.rz(thetas[0], 0)\n",
    "    qc.rz(thetas[1], 1)\n",
    "    # W1: non-parametrized gates\n",
    "    qc.cnot(0, 1)\n",
    "    qc.cnot(1, 2)\n",
    "    return qc\n",
    "    \n",
    "thetas = np.array([0.432, -0.123, 0.543, 0.233])\n",
    "# calculate g_ij\n",
    "qc = create_psi2(thetas)\n",
    "observers = [\n",
    "    ['RY', 1],\n",
    "    ['RX', 0]\n",
    "]\n",
    "\n",
    "qtm.fubibi_study.calculate_g(qc, observers)"
   ]
  }
 ],
 "metadata": {
  "interpreter": {
   "hash": "b0bb45761e06d42ef60a7e329026c016a53b18e4ad51e16529481946724f1b50"
  },
  "kernelspec": {
   "display_name": "Python 3.7.6 64-bit",
   "language": "python",
   "name": "python3"
  },
  "language_info": {
   "codemirror_mode": {
    "name": "ipython",
    "version": 3
   },
   "file_extension": ".py",
   "mimetype": "text/x-python",
   "name": "python",
   "nbconvert_exporter": "python",
   "pygments_lexer": "ipython3",
   "version": "3.8.0"
  },
  "orig_nbformat": 4
 },
 "nbformat": 4,
 "nbformat_minor": 2
}
