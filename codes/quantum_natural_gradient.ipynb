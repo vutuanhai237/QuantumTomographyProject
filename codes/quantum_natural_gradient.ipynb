{
 "cells": [
  {
   "cell_type": "markdown",
   "metadata": {},
   "source": [
    "### Quantum Fisher Information matrix\n",
    "\n",
    "<img src=\"../images/qfim.png\">\n",
    "\n",
    "I have coded QFIM function and test it on 1qubit case"
   ]
  },
  {
   "cell_type": "markdown",
   "metadata": {},
   "source": [
    "$\\partial_\\theta|\\psi\\rangle$ can be calculated by on the below equation (from Le Bin Ho):\n",
    "\n",
    "<img src=\"../images/grad_psi.png\" width=500px/>"
   ]
  },
  {
   "cell_type": "markdown",
   "metadata": {},
   "source": [
    "The QNG are not simple as our imagin, the det of QFIM is 0 at almost step, so when using Moore-Penrose pseudo inverse the results're not good. The new solution is based on [this paper](https://arxiv.org/pdf/1909.02108.pdf). It seems to more complex, there are many that need to code:\n",
    "\n",
    "- Create function that return the generator for every circuit\n",
    "\n",
    "- Calculating the Fubini-Study tensor\n",
    "\n",
    "- Divide circuit into some layer, and use recursion on it.\n",
    "\n",
    "$R_X(\\theta)=e^{i\\frac{\\theta}{2}X}$"
   ]
  },
  {
   "cell_type": "code",
   "execution_count": 1,
   "metadata": {},
   "outputs": [],
   "source": [
    "import qiskit\n",
    "import numpy as np\n",
    "import qtm.base_qtm, qtm.constant, qtm.qtm_1qubit, qtm.qtm_nqubit\n",
    "import matplotlib.pyplot as plt\n",
    "from types import FunctionType"
   ]
  },
  {
   "cell_type": "code",
   "execution_count": 2,
   "metadata": {},
   "outputs": [],
   "source": [
    "def create_psi2(thetas):\n",
    "    qc = qiskit.QuantumCircuit(3, 3)\n",
    "    # |psi_0>: state preparation\n",
    "    qc.ry(np.pi / 4, 0)\n",
    "    qc.ry(np.pi / 3, 1)\n",
    "    qc.ry(np.pi / 7, 2)\n",
    "    # V0(theta0, theta1): Parametrized layer 0\n",
    "    qc.rz(thetas[0], 0)\n",
    "    qc.rz(thetas[1], 1)\n",
    "    # W1: non-parametrized gates\n",
    "    qc.cnot(0, 1)\n",
    "    qc.cnot(1, 2)\n",
    "    return qc\n",
    "\n",
    "def create_psi():\n",
    "    qc = qiskit.QuantumCircuit(3, 3)\n",
    "    qc.ry(np.pi / 4, 0)\n",
    "    qc.ry(np.pi / 3, 1)\n",
    "    qc.ry(np.pi / 7, 2)\n",
    "    return qc\n"
   ]
  },
  {
   "cell_type": "code",
   "execution_count": 11,
   "metadata": {},
   "outputs": [
    {
     "data": {
      "text/plain": [
       "array([[0.125 +0.j, 0.    +0.j],\n",
       "       [0.    +0.j, 0.1875+0.j]])"
      ]
     },
     "execution_count": 11,
     "metadata": {},
     "output_type": "execute_result"
    }
   ],
   "source": [
    "qc = create_psi()\n",
    "from typing import Dict\n",
    "def calculate_fubini_study(qc, observers: Dict[str, int]):\n",
    "    # Get |psi>\n",
    "    psi = qiskit.quantum_info.Statevector.from_instruction(qc).data\n",
    "    psi = np.expand_dims(psi , 1)\n",
    "    # Get <psi|\n",
    "    psi_hat = np.transpose(np.conjugate(psi))\n",
    "    num_observers = len(observers)\n",
    "    num_qubits = qc.num_qubits\n",
    "    g = np.zeros([num_observers, num_observers], dtype=np.complex128) \n",
    "    # Each K[j] must have 2^n x 2^n dimensional with n is the number of qubits   \n",
    "    Ks = []\n",
    "\n",
    "    for observer_name, observer_wire in observers:\n",
    "        observer = qtm.constant.generator[observer_name]\n",
    "        if observer_wire == 0:\n",
    "            K = observer\n",
    "        else:\n",
    "            K = qtm.constant.generator['I']\n",
    "        for i in range(1, num_qubits):\n",
    "            if i == observer_wire:\n",
    "                K = np.kron(K, observer)\n",
    "            else:\n",
    "                K = np.kron(K, qtm.constant.generator['I'])\n",
    "        \n",
    "        Ks.append(K)\n",
    "\n",
    "    for i in range(0, num_observers):\n",
    "        for j in range(0, num_observers):\n",
    "            g[i, j] = psi_hat @ (Ks[i] @ Ks[j]) @ psi - (psi_hat @ Ks[i] @ psi)*(psi_hat @ Ks[j] @ psi)\n",
    "            if g[i, j] < 10**(-10):\n",
    "                g[i, j] = 0\n",
    "    return g\n",
    "\n",
    "observers = [\n",
    "    ['RZ', 2],\n",
    "    ['RZ', 1]\n",
    "]\n",
    "\n",
    "calculate_fubini_study(qc, observers)"
   ]
  },
  {
   "cell_type": "code",
   "execution_count": 50,
   "metadata": {},
   "outputs": [
    {
     "name": "stdout",
     "output_type": "stream",
     "text": [
      "z0 0.7041999999999999\n",
      "[[ 0.12602559 -0.00077987]\n",
      " [-0.00077987  0.18512791]]\n"
     ]
    }
   ],
   "source": [
    "def m(qc, x = [], y = [], z = []):\n",
    "    qc = qtm.base_qtm.x_measurement(qc, qubits = x)\n",
    "    qc = qtm.base_qtm.y_measurement(qc, qubits = y)\n",
    "    qc = qtm.base_qtm.z_measurement(qc, qubits = z)\n",
    "    return qc\n",
    "# calculate g_ij\n",
    "qc = create_psi()\n",
    "xs, ys, zs = [], [], [0, 1]\n",
    "qc = m(qc, z = zs)\n",
    "\n",
    "counts = qiskit.execute(\n",
    "    qc, \n",
    "    backend = qtm.constant.backend, \n",
    "    shots = qtm.constant.num_shots\n",
    ").result().get_counts()\n",
    "\n",
    "\n",
    "for i in counts:\n",
    "    counts[i] /= qtm.constant.num_shots\n",
    "\n",
    "p_single = np.zeros([len(xs) + len(ys) + len(zs), 2])\n",
    "\n",
    "for i in range(0, len(zs)):\n",
    "    p_single[zs[i], 0] = sum([v for k, v in counts.items() if k[qc.num_qubits-1-zs[i]] == '0'])\n",
    "    p_single[zs[i], 1] = sum([v for k, v in counts.items() if k[qc.num_qubits-1-zs[i]] == '1'])\n",
    "\n",
    "p_double = np.zeros([])\n",
    "\n",
    "p_q0q1_00 = sum([v for k, v in counts.items() if k[-2:] == '00'])\n",
    "p_q0q1_01 = sum([v for k, v in counts.items() if k[-2:] == '10'])\n",
    "p_q0q1_10 = sum([v for k, v in counts.items() if k[-2:] == '01'])\n",
    "p_q0q1_11 = sum([v for k, v in counts.items() if k[-2:] == '11'])\n",
    "\n",
    "\n",
    "z0 = p_single[0, 0] - p_single[0, 1]\n",
    "\n",
    "print('z0', z0)\n",
    "z0_2 = 1\n",
    "z1 = p_single[1, 0] - p_single[1, 1]\n",
    "z1_2 = 1\n",
    "\n",
    "z0_z1 = (p_single[0, 0] - p_single[0, 1])*(p_single[1, 0] - p_single[1, 1])\n",
    "z0z1 = p_q0q1_00 - p_q0q1_01 - p_q0q1_10 + p_q0q1_11\n",
    "\n",
    "g0 = np.zeros([2, 2])\n",
    "g0[0, 0] = z0_2 - z0**2\n",
    "g0[0, 1] = z0z1 - z0_z1\n",
    "g0[1, 0] = z0z1 - z0_z1\n",
    "g0[1, 1] = z1_2 - z1**2\n",
    "\n",
    "qc.draw('mpl')\n",
    "\n",
    "print(g0 / 4)\n"
   ]
  },
  {
   "cell_type": "markdown",
   "metadata": {},
   "source": [
    "$|\\psi_0\\rangle=R_Y(\\pi/4)\\otimes R_Y(\\pi/3)\\otimes R_Y(\\pi/7)$\n",
    "\n",
    "So $|\\psi\\rangle$ in $p(ij)$ formula means $R_Y(\\pi/4)\\otimes R_Y(\\pi/3)$?"
   ]
  },
  {
   "cell_type": "code",
   "execution_count": 5,
   "metadata": {},
   "outputs": [
    {
     "name": "stdout",
     "output_type": "stream",
     "text": [
      "[[0.125  0.    ]\n",
      " [0.     0.1875]]\n"
     ]
    }
   ],
   "source": [
    "import pennylane as qml\n",
    "from pennylane import numpy as np\n",
    "\n",
    "dev = qml.device(\"default.qubit\", wires=3)\n",
    "g0 = np.zeros([2, 2])\n",
    "params = np.array([0.432, -0.123, 0.543, 0.233])\n",
    "\n",
    "def layer0_subcircuit(params):\n",
    "    \"\"\"This function contains all gates that\n",
    "    precede parametrized layer 0\"\"\"\n",
    "    qml.RY(np.pi / 4, wires=0)\n",
    "    qml.RY(np.pi / 3, wires=1)\n",
    "    qml.RY(np.pi / 7, wires=2)\n",
    "@qml.qnode(dev)\n",
    "def layer0_diag(params):\n",
    "    layer0_subcircuit(params)\n",
    "    return qml.var(qml.PauliZ(0)), qml.var(qml.PauliZ(1))\n",
    "\n",
    "\n",
    "# calculate the diagonal terms\n",
    "varK0, varK1 = layer0_diag(params)\n",
    "g0[0, 0] = varK0 / 4\n",
    "g0[1, 1] = varK1 / 4\n",
    "\n",
    "print(g0)"
   ]
  },
  {
   "cell_type": "code",
   "execution_count": 2,
   "metadata": {},
   "outputs": [],
   "source": [
    "g1 = np.zeros([2, 2])\n",
    "\n",
    "\n",
    "def layer1_subcircuit(params):\n",
    "    \"\"\"This function contains all gates that\n",
    "    precede parametrized layer 1\"\"\"\n",
    "    # |psi_0>: state preparation\n",
    "    qml.RY(np.pi / 4, wires=0)\n",
    "    qml.RY(np.pi / 3, wires=1)\n",
    "    qml.RY(np.pi / 7, wires=2)\n",
    "\n",
    "    # V0(theta0, theta1): Parametrized layer 0\n",
    "    qml.RZ(params[0], wires=0)\n",
    "    qml.RZ(params[1], wires=1)\n",
    "\n",
    "    # W1: non-parametrized gates\n",
    "    qml.CNOT(wires=[0, 1])\n",
    "    qml.CNOT(wires=[1, 2])"
   ]
  },
  {
   "cell_type": "code",
   "execution_count": 3,
   "metadata": {},
   "outputs": [],
   "source": [
    "@qml.qnode(dev)\n",
    "def layer1_diag(params):\n",
    "    layer1_subcircuit(params)\n",
    "    return qml.var(qml.PauliY(1)), qml.var(qml.PauliX(2))"
   ]
  },
  {
   "cell_type": "code",
   "execution_count": 5,
   "metadata": {},
   "outputs": [],
   "source": [
    "varK0, varK1 = layer1_diag(params)\n",
    "g1[0, 0] = varK0 / 4\n",
    "g1[1, 1] = varK1 / 4\n",
    "@qml.qnode(dev)\n",
    "def layer1_off_diag_single(params):\n",
    "    layer1_subcircuit(params)\n",
    "    return qml.expval(qml.PauliY(1)), qml.expval(qml.PauliX(2))\n",
    "\n",
    "\n",
    "@qml.qnode(dev)\n",
    "def layer1_off_diag_double(params):\n",
    "    layer1_subcircuit(params)\n",
    "    X = np.array([[0, 1], [1, 0]])\n",
    "    Y = np.array([[0, -1j], [1j, 0]])\n",
    "    YX = np.kron(Y, X)\n",
    "    return qml.expval(qml.Hermitian(YX, wires=[1, 2]))\n",
    "\n",
    "\n",
    "# calculate the off-diagonal terms\n",
    "exK0, exK1 = layer1_off_diag_single(params)\n",
    "exK0K1 = layer1_off_diag_double(params)\n",
    "\n",
    "g1[0, 1] = (exK0K1 - exK0 * exK1) / 4\n",
    "g1[1, 0] = g1[0, 1]"
   ]
  },
  {
   "cell_type": "code",
   "execution_count": 6,
   "metadata": {},
   "outputs": [
    {
     "data": {
      "text/plain": [
       "tensor([[ 0.24973433, -0.01524701],\n",
       "        [-0.01524701,  0.20293623]], requires_grad=True)"
      ]
     },
     "execution_count": 6,
     "metadata": {},
     "output_type": "execute_result"
    }
   ],
   "source": [
    "g1"
   ]
  },
  {
   "cell_type": "code",
   "execution_count": 21,
   "metadata": {},
   "outputs": [
    {
     "name": "stdout",
     "output_type": "stream",
     "text": [
      "{'000': 0.3256, '010': 0.3929, '110': 0.1278, '100': 0.1537}\n",
      "[[ 0.24957151 -0.01877705]\n",
      " [-0.01877705  0.20225775]]\n"
     ]
    }
   ],
   "source": [
    "\n",
    "\n",
    "\n",
    "thetas = np.array([0.432, -0.123, 0.543, 0.233])\n",
    "# calculate g_ij\n",
    "qc = create_psi2(thetas)\n",
    "qc = y_measurement(qc, 1, 1)\n",
    "qc = x_measurement(qc, 2, 2)\n",
    "\n",
    "\n",
    "counts = qiskit.execute(qc, backend = qtm.constant.backend, shots = qtm.constant.num_shots).result().get_counts()\n",
    "\n",
    "for i in counts:\n",
    "    counts[i] /= qtm.constant.num_shots\n",
    "\n",
    "print(counts)\n",
    "\n",
    "p_q0_0 = sum([v for k, v in counts.items() if k[-2] == '0'])\n",
    "p_q0_1 = sum([v for k, v in counts.items() if k[-2] == '1'])\n",
    "p_q1_0 = sum([v for k, v in counts.items() if k[-3] == '0'])\n",
    "p_q1_1 = sum([v for k, v in counts.items() if k[-3] == '1'])\n",
    "\n",
    "p_q0q1_00 = sum([v for k, v in counts.items() if k[-3:-1] == '00'])\n",
    "p_q0q1_01 = sum([v for k, v in counts.items() if k[-3:-1] == '10'])\n",
    "p_q0q1_10 = sum([v for k, v in counts.items() if k[-3:-1] == '01'])\n",
    "p_q0q1_11 = sum([v for k, v in counts.items() if k[-3:-1] == '11'])\n",
    "\n",
    "\n",
    "y1 = p_q0_0 - p_q0_1\n",
    "y1_2 = 1\n",
    "x2 = p_q1_0 - p_q1_1\n",
    "x2_2 = 1\n",
    "\n",
    "y1_x2 = (p_q0_0 - p_q0_1)*(p_q1_0 - p_q1_1)\n",
    "y1x2 = p_q0q1_00 - p_q0q1_01 - p_q0q1_10 + p_q0q1_11\n",
    "\n",
    "g1 = np.zeros([2, 2])\n",
    "g1[0, 0] = y1_2 - y1**2\n",
    "g1[0, 1] = y1x2 - y1_x2\n",
    "g1[1, 0] = y1x2 - y1_x2\n",
    "g1[1, 1] = x2_2 - x2**2\n",
    "print(g1/4)"
   ]
  }
 ],
 "metadata": {
  "interpreter": {
   "hash": "b0bb45761e06d42ef60a7e329026c016a53b18e4ad51e16529481946724f1b50"
  },
  "kernelspec": {
   "display_name": "Python 3.7.6 64-bit",
   "language": "python",
   "name": "python3"
  },
  "language_info": {
   "codemirror_mode": {
    "name": "ipython",
    "version": 3
   },
   "file_extension": ".py",
   "mimetype": "text/x-python",
   "name": "python",
   "nbconvert_exporter": "python",
   "pygments_lexer": "ipython3",
   "version": "3.8.0"
  },
  "orig_nbformat": 4
 },
 "nbformat": 4,
 "nbformat_minor": 2
}
