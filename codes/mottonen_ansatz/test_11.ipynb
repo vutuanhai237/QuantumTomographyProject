{
 "cells": [
  {
   "cell_type": "code",
   "execution_count": 7,
   "metadata": {},
   "outputs": [
    {
     "name": "stdout",
     "output_type": "stream",
     "text": [
      "[-0.64036717  0.28100217 -0.50392316 -0.50698039]\n",
      "Statevector([-0.64036717+3.65245171e-16j,  0.28100217-1.27867848e-16j,\n",
      "             -0.50392316+3.88578059e-16j, -0.50698039+2.77555756e-16j],\n",
      "            dims=(2, 2))\n"
     ]
    }
   ],
   "source": [
    "\n",
    "from numpy.random import rand, seed \n",
    "from numpy.linalg import norm\n",
    "from qiskit import ClassicalRegister, QuantumCircuit\n",
    "from qiskit.compiler import transpile\n",
    "import qiskit\n",
    "import sys\n",
    "\n",
    "k = 2\n",
    "input_vector = 2 * rand(2**k) - 1\n",
    "input_vector = input_vector / norm(input_vector)\n",
    "qiskit_circuit = QuantumCircuit(k, 1, name=\"initializer_circ\")\n",
    "qiskit_circuit.initialize(input_vector, [x for x in range(k)])\n",
    "b = transpile(qiskit_circuit, basis_gates=['u1', 'u2', 'u3', 'cx'], optimization_level=3)\n",
    "b.draw('mpl')\n",
    "\n",
    "print(input_vector)\n",
    "print(qiskit.quantum_info.Statevector.from_instruction(b))"
   ]
  },
  {
   "cell_type": "code",
   "execution_count": 8,
   "metadata": {},
   "outputs": [
    {
     "data": {
      "image/png": "[encoded data removed]",
      "text/plain": [
       "<Figure size 387.452x204.68 with 1 Axes>"
      ]
     },
     "execution_count": 8,
     "metadata": {},
     "output_type": "execute_result"
    }
   ],
   "source": [
    "b.draw('mpl')"
   ]
  }
 ],
 "metadata": {
  "interpreter": {
   "hash": "770b641b4564229c593d803dcff32fdd6beb94e7a78ba8806c95b100ce213599"
  },
  "kernelspec": {
   "display_name": "Python 3.8.0 64-bit",
   "language": "python",
   "name": "python3"
  },
  "language_info": {
   "codemirror_mode": {
    "name": "ipython",
    "version": 3
   },
   "file_extension": ".py",
   "mimetype": "text/x-python",
   "name": "python",
   "nbconvert_exporter": "python",
   "pygments_lexer": "ipython3",
   "version": "3.8.0"
  },
  "orig_nbformat": 4
 },
 "nbformat": 4,
 "nbformat_minor": 2
}
