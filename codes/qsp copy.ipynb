{
 "cells": [
  {
   "cell_type": "markdown",
   "metadata": {},
   "source": [
    "# Procedure for quantum state preparation (QSP) experiment.\n",
    "\n",
    "QSP is presented clearly in [this publication](https://arxiv.org/abs/2306.17422). The basic idea is that we have two unitary $U(\\theta)$ and $V^{\\dagger}$, we optimize the parameter $\\theta$ until $\\theta^{*}$ such that $U(\\theta^{*})V^{\\dagger}=I$.\n",
    "\n",
    "So we will do experiment with various $U$, $V^{\\dagger}$ and optimize strategy. \n",
    "\n",
    "Some notation for hyperparameter:\n",
    "\n",
    "(important)\n",
    "- Ansatz: $U$ (defined in `qtm.ansatz`)\n",
    "- Optimize circuit: $u$ (ansatz when repeat $L$ times)\n",
    "- State: $V^{\\dagger}$ (defined in `qtm.state`)\n",
    "- Number of qubit: $n$ (`num_qubits`)\n",
    "- Number of layer (for ansatz): $L$ (`num_layers`)\n",
    "- $\\theta$: theta (if $\\theta$ is scalar), thetas (if $\\theta$ is 1-d numpy array) and thetass (if $\\theta$ is 2-d numpy array).\n",
    "\n",
    "(not important)\n",
    "- Number of iteration: $n_{iter}$ (`num_iter / iter`)\n",
    "- Optimizer: `sgd`, `adam` or `qng` family.\n",
    "\n",
    "Here is your task, run the below codes with:\n",
    "\n",
    "- $U$ is `qtm.ansatz.g2`, `qtm.ansatz.g2gn`, `qtm.ansatz.g2gnw`.\n",
    "- $V^{\\dagger}$ is `qtm.state.create_GHZ_state`, `qtm.state.create_W_state`, `qtm.state.create_AME_state`\n",
    "- $n$ from 3 - 10.\n",
    "- $L$ from 1 - 10.\n",
    "- \n",
    "\n"
   ]
  },
  {
   "cell_type": "code",
   "execution_count": 1,
   "metadata": {},
   "outputs": [],
   "source": [
    "import sys\n",
    "sys.path.insert(0, '..')\n",
    "import qtm.qcompilation\n",
    "import matplotlib.pyplot as plt\n",
    "import qiskit\n",
    "import qtm.qsp\n",
    "import qtm.ansatz, qtm.state\n",
    "%load_ext autoreload\n",
    "%autoreload 2"
   ]
  },
  {
   "cell_type": "markdown",
   "metadata": {},
   "source": [
    "### Quantum State Preparation (QSP) problem"
   ]
  },
  {
   "cell_type": "markdown",
   "metadata": {},
   "source": [
    "First, using Quantum Compilation (QC) to find optimized $\\theta$"
   ]
  },
  {
   "cell_type": "code",
   "execution_count": 3,
   "metadata": {},
   "outputs": [
    {
     "name": "stderr",
     "output_type": "stream",
     "text": [
      "Step: 100%|██████████| 100/100 [00:44<00:00,  2.25it/s]\n"
     ]
    }
   ],
   "source": [
    "num_qubits = 3\n",
    "num_layers = 2\n",
    "optimizer = 'adam'\n",
    "compiler = qtm.qcompilation.QuantumCompilation(\n",
    "    u = qtm.ansatz.g2gn(num_qubits, num_layers),\n",
    "    vdagger = qtm.state.create_haar_state_inverse(num_qubits),\n",
    "    optimizer = optimizer,\n",
    "    loss_func = 'loss_fubini_study'\n",
    ")\n",
    "compiler.fit(num_steps = 100, verbose = 1)"
   ]
  },
  {
   "cell_type": "markdown",
   "metadata": {},
   "source": [
    "If last fidelity of compiler near 0, we will do the next steps. Otherwise, trying other optimizers and loss_func, then take the best result in that collection."
   ]
  },
  {
   "cell_type": "code",
   "execution_count": 9,
   "metadata": {},
   "outputs": [
    {
     "data": {
      "text/html": [
       "<pre style=\"word-wrap: normal;white-space: pre;background: #fff0;line-height: 1.1;font-family: &quot;Courier New&quot;,Courier,monospace\">           ┌──────────────────┐     ┌─────────────────┐     »\n",
       "q0_0: ─────┤ U(-1.0409,0,0,0) ├─────┤ U(1.0409,0,0,0) ├─────»\n",
       "      ┌───┐└────────┬─────────┘     └────────┬────────┘     »\n",
       "q0_1: ┤ X ├─────────┼────────────■───────────┼───────────■──»\n",
       "      ├───┤         │          ┌─┴─┐         │         ┌─┴─┐»\n",
       "q0_2: ┤ X ├─────────■──────────┤ X ├─────────■─────────┤ X ├»\n",
       "      └───┘                    └───┘                   └───┘»\n",
       "«      ┌──────────────────┐     ┌─────────────────┐     ┌──────────────────┐»\n",
       "«q0_0: ┤ U(-1.0409,0,0,0) ├─────┤ U(1.5155,0,0,0) ├─────┤ U(-1.5155,0,0,0) ├»\n",
       "«      └────────┬─────────┘┌───┐└────────┬────────┘     └────────┬─────────┘»\n",
       "«q0_1: ─────────■──────────┤ X ├─────────┼───────────■───────────┼──────────»\n",
       "«             ┌───┐        ├───┤         │         ┌─┴─┐         │          »\n",
       "«q0_2: ───────┤ X ├────────┤ X ├─────────■─────────┤ X ├─────────■──────────»\n",
       "«             └───┘        └───┘                   └───┘                    »\n",
       "«           ┌─────────────────┐     ┌──────────────────┐     »\n",
       "«q0_0: ─────┤ U(1.5155,0,0,0) ├─────┤ U(-3.7974,0,0,0) ├─────»\n",
       "«           └────────┬────────┘┌───┐└────────┬─────────┘     »\n",
       "«q0_1: ──■───────────■─────────┤ X ├─────────┼────────────■──»\n",
       "«      ┌─┴─┐       ┌───┐       └───┘         │          ┌─┴─┐»\n",
       "«q0_2: ┤ X ├───────┤ X ├─────────────────────■──────────┤ X ├»\n",
       "«      └───┘       └───┘                                └───┘»\n",
       "«      ┌─────────────────┐     ┌──────────────────┐     ┌──────────────────┐»\n",
       "«q0_0: ┤ U(3.7974,0,0,0) ├─────┤ U(-3.7974,0,0,0) ├─────┤ U(-2.5997,0,0,0) ├»\n",
       "«      └────────┬────────┘     └────────┬─────────┘┌───┐└────────┬─────────┘»\n",
       "«q0_1: ─────────┼───────────■───────────■──────────┤ X ├─────────┼──────────»\n",
       "«               │         ┌─┴─┐                    └───┘         │          »\n",
       "«q0_2: ─────────■─────────┤ X ├──────────────────────────────────■──────────»\n",
       "«                         └───┘                                             »\n",
       "«           ┌─────────────────┐     ┌──────────────────┐                    »\n",
       "«q0_0: ─────┤ U(2.5997,0,0,0) ├─────┤ U(-2.5997,0,0,0) ├────────────────────»\n",
       "«           └────────┬────────┘     └────────┬─────────┘┌──────────────────┐»\n",
       "«q0_1: ──■───────────┼───────────■───────────■──────────┤ U(-1.2809,0,0,0) ├»\n",
       "«      ┌─┴─┐         │         ┌─┴─┐       ┌───┐        └────────┬─────────┘»\n",
       "«q0_2: ┤ X ├─────────■─────────┤ X ├───────┤ X ├─────────────────■──────────»\n",
       "«      └───┘                   └───┘       └───┘                            »\n",
       "«                                              \n",
       "«q0_0: ────────────────────────────────────────\n",
       "«           ┌──────────────────┐               \n",
       "«q0_1: ─────┤ U(-0.4145,0,0,0) ├───────────────\n",
       "«      ┌───┐└────────┬─────────┘┌─────────────┐\n",
       "«q0_2: ┤ X ├─────────■──────────┤ Ry(-1.5507) ├\n",
       "«      └───┘                    └─────────────┘</pre>"
      ],
      "text/plain": [
       "           ┌──────────────────┐     ┌─────────────────┐     »\n",
       "q0_0: ─────┤ U(-1.0409,0,0,0) ├─────┤ U(1.0409,0,0,0) ├─────»\n",
       "      ┌───┐└────────┬─────────┘     └────────┬────────┘     »\n",
       "q0_1: ┤ X ├─────────┼────────────■───────────┼───────────■──»\n",
       "      ├───┤         │          ┌─┴─┐         │         ┌─┴─┐»\n",
       "q0_2: ┤ X ├─────────■──────────┤ X ├─────────■─────────┤ X ├»\n",
       "      └───┘                    └───┘                   └───┘»\n",
       "«      ┌──────────────────┐     ┌─────────────────┐     ┌──────────────────┐»\n",
       "«q0_0: ┤ U(-1.0409,0,0,0) ├─────┤ U(1.5155,0,0,0) ├─────┤ U(-1.5155,0,0,0) ├»\n",
       "«      └────────┬─────────┘┌───┐└────────┬────────┘     └────────┬─────────┘»\n",
       "«q0_1: ─────────■──────────┤ X ├─────────┼───────────■───────────┼──────────»\n",
       "«             ┌───┐        ├───┤         │         ┌─┴─┐         │          »\n",
       "«q0_2: ───────┤ X ├────────┤ X ├─────────■─────────┤ X ├─────────■──────────»\n",
       "«             └───┘        └───┘                   └───┘                    »\n",
       "«           ┌─────────────────┐     ┌──────────────────┐     »\n",
       "«q0_0: ─────┤ U(1.5155,0,0,0) ├─────┤ U(-3.7974,0,0,0) ├─────»\n",
       "«           └────────┬────────┘┌───┐└────────┬─────────┘     »\n",
       "«q0_1: ──■───────────■─────────┤ X ├─────────┼────────────■──»\n",
       "«      ┌─┴─┐       ┌───┐       └───┘         │          ┌─┴─┐»\n",
       "«q0_2: ┤ X ├───────┤ X ├─────────────────────■──────────┤ X ├»\n",
       "«      └───┘       └───┘                                └───┘»\n",
       "«      ┌─────────────────┐     ┌──────────────────┐     ┌──────────────────┐»\n",
       "«q0_0: ┤ U(3.7974,0,0,0) ├─────┤ U(-3.7974,0,0,0) ├─────┤ U(-2.5997,0,0,0) ├»\n",
       "«      └────────┬────────┘     └────────┬─────────┘┌───┐└────────┬─────────┘»\n",
       "«q0_1: ─────────┼───────────■───────────■──────────┤ X ├─────────┼──────────»\n",
       "«               │         ┌─┴─┐                    └───┘         │          »\n",
       "«q0_2: ─────────■─────────┤ X ├──────────────────────────────────■──────────»\n",
       "«                         └───┘                                             »\n",
       "«           ┌─────────────────┐     ┌──────────────────┐                    »\n",
       "«q0_0: ─────┤ U(2.5997,0,0,0) ├─────┤ U(-2.5997,0,0,0) ├────────────────────»\n",
       "«           └────────┬────────┘     └────────┬─────────┘┌──────────────────┐»\n",
       "«q0_1: ──■───────────┼───────────■───────────■──────────┤ U(-1.2809,0,0,0) ├»\n",
       "«      ┌─┴─┐         │         ┌─┴─┐       ┌───┐        └────────┬─────────┘»\n",
       "«q0_2: ┤ X ├─────────■─────────┤ X ├───────┤ X ├─────────────────■──────────»\n",
       "«      └───┘                   └───┘       └───┘                            »\n",
       "«                                              \n",
       "«q0_0: ────────────────────────────────────────\n",
       "«           ┌──────────────────┐               \n",
       "«q0_1: ─────┤ U(-0.4145,0,0,0) ├───────────────\n",
       "«      ┌───┐└────────┬─────────┘┌─────────────┐\n",
       "«q0_2: ┤ X ├─────────■──────────┤ Ry(-1.5507) ├\n",
       "«      └───┘                    └─────────────┘"
      ]
     },
     "execution_count": 9,
     "metadata": {},
     "output_type": "execute_result"
    }
   ],
   "source": [
    "compiler.vdagger.draw()"
   ]
  },
  {
   "cell_type": "markdown",
   "metadata": {},
   "source": [
    "Then, create QSP object from compiler, note that Quantum Compilation (QC) is the superset of QSP. There are multiple way to initialize a QSP object: from compiler, from file or using constructor."
   ]
  },
  {
   "cell_type": "code",
   "execution_count": 6,
   "metadata": {},
   "outputs": [],
   "source": [
    "qspobj = qtm.qsp.QuantumStatePreparation.load_from_compiler(compiler, qtm.ansatz.g2gn)"
   ]
  },
  {
   "cell_type": "markdown",
   "metadata": {},
   "source": [
    "Important, you must save the result in the folder experiments/qsp/, where the 'state' argument is the name of state which is need to prepare. The name of file will be automatically create followed this format:\n",
    "\n",
    "```\n",
    "[state]_[ansatz]_[num_qubits]_[num_layers].qspobj\n",
    "```"
   ]
  },
  {
   "cell_type": "code",
   "execution_count": 7,
   "metadata": {},
   "outputs": [],
   "source": [
    "qspobj.save(state = 'ame', file_name='../experiments/qsp/')"
   ]
  },
  {
   "cell_type": "markdown",
   "metadata": {},
   "source": [
    "Last step, load QSP from saved file and check its properties."
   ]
  },
  {
   "cell_type": "code",
   "execution_count": 8,
   "metadata": {},
   "outputs": [],
   "source": [
    "qspobj2 = qtm.qsp.QuantumStatePreparation.load_from_file('../experiments/qsp/ame_g2gn_3_2.qspobj')"
   ]
  },
  {
   "cell_type": "code",
   "execution_count": 9,
   "metadata": {},
   "outputs": [
    {
     "data": {
      "text/plain": [
       "0.00029996816748710953"
      ]
     },
     "execution_count": 9,
     "metadata": {},
     "output_type": "execute_result"
    }
   ],
   "source": [
    "qspobj2.fidelity"
   ]
  },
  {
   "cell_type": "code",
   "execution_count": 10,
   "metadata": {},
   "outputs": [
    {
     "data": {
      "image/png": "[encoded data removed]",
      "text/plain": [
       "<Figure size 1290.83x284.278 with 1 Axes>"
      ]
     },
     "execution_count": 10,
     "metadata": {},
     "output_type": "execute_result"
    }
   ],
   "source": [
    "qspobj2.qc.draw('mpl')"
   ]
  }
 ],
 "metadata": {
  "kernelspec": {
   "display_name": "Python 3",
   "language": "python",
   "name": "python3"
  },
  "language_info": {
   "codemirror_mode": {
    "name": "ipython",
    "version": 3
   },
   "file_extension": ".py",
   "mimetype": "text/x-python",
   "name": "python",
   "nbconvert_exporter": "python",
   "pygments_lexer": "ipython3",
   "version": "3.10.9"
  },
  "orig_nbformat": 4
 },
 "nbformat": 4,
 "nbformat_minor": 2
}
