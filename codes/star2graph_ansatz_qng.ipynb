{
 "cells": [
  {
   "cell_type": "code",
   "execution_count": 5,
   "metadata": {},
   "outputs": [
    {
     "data": {
      "text/plain": [
       "<module 'qtm.nqubit' from 'c:\\\\Users\\\\haime\\\\OneDrive\\\\Máy tính\\\\QuantumTomography\\\\codes\\\\qtm\\\\nqubit.py'>"
      ]
     },
     "execution_count": 5,
     "metadata": {},
     "output_type": "execute_result"
    }
   ],
   "source": [
    "import qiskit\n",
    "import numpy as np\n",
    "import qtm.constant, qtm.nqubit, qtm.fubini_study\n",
    "import importlib\n",
    "importlib.reload(qtm.fubini_study)\n",
    "importlib.reload(qtm.nqubit)"
   ]
  },
  {
   "cell_type": "code",
   "execution_count": 10,
   "metadata": {},
   "outputs": [
    {
     "name": "stdout",
     "output_type": "stream",
     "text": [
      "0\n",
      "1\n",
      "2\n",
      "3\n",
      "4\n",
      "5\n",
      "6\n"
     ]
    }
   ],
   "source": [
    "# Init parameters\n",
    "num_qubits = 6\n",
    "num_layers = 2\n",
    "thetas = np.ones(num_layers*(2*num_qubits - 2))\n",
    "theta = np.pi / 2\n",
    "qc = qiskit.QuantumCircuit(num_qubits, num_qubits)\n",
    "\n",
    "loss_values = []\n",
    "thetass = []\n",
    "for i in range(0, 100):\n",
    "    print(i)\n",
    "    G = qtm.fubini_study.qng(qc.copy(), thetas, qtm.nqubit.create_star2graph_state, num_layers)\n",
    "    grad_loss = qtm.base.grad_loss(\n",
    "        qc, \n",
    "        qtm.nqubit.create_GHZchecker_star2graph,\n",
    "        thetas, r = 1/2, s = np.pi/2, num_layers = num_layers, theta = theta)\n",
    "    thetas = np.real(thetas - qtm.constant.learning_rate*(np.linalg.inv(G) @ grad_loss)) \n",
    "    qc_copy = qtm.nqubit.create_GHZchecker_star2graph(qc.copy(), thetas, num_layers, theta)  \n",
    "    loss = qtm.base.loss_basis(qtm.base.measure(qc_copy, list(range(qc_copy.num_qubits))))\n",
    "    loss_values.append(loss)\n",
    "    thetass.append(thetas)\n",
    "# traces_ghz, fidelities_ghz = [], []\n",
    "# for thetas in thetass_ghz:\n",
    "#     # Get |psi> = U_gen|000...>\n",
    "#     qc = qiskit.QuantumCircuit(num_qubits, num_qubits)\n",
    "#     qc = qtm.nqubit.create_koczor_state(qc, thetas, num_layers = num_layers)\n",
    "#     psi = qiskit.quantum_info.Statevector.from_instruction(qc)\n",
    "#     rho_psi = qiskit.quantum_info.DensityMatrix(psi)\n",
    "#     # Get |psi~> = U_target|000...>\n",
    "#     qc1 = qiskit.QuantumCircuit(num_qubits, num_qubits)\n",
    "#     qc1 = qtm.nqubit.create_ghz_state(qc1, theta = theta)\n",
    "#     psi_hat = qiskit.quantum_info.Statevector.from_instruction(qc1)\n",
    "#     rho_psi_hat = qiskit.quantum_info.DensityMatrix(psi_hat)\n",
    "#     # Calculate the metrics\n",
    "#     trace, fidelity = qtm.base.get_metrics(psi, psi_hat)\n",
    "#     traces_ghz.append(trace)\n",
    "#     fidelities_ghz.append(fidelity)\n",
    "    # Plot loss value in 100 steps\n",
    "# print('Writting ...')\n",
    "\n",
    "# np.savetxt(\"../../experiments/koczor_ansatz_15layer_qngadam/\" + str(num_layers) + \"/loss_values_ghz.csv\", loss_values_ghz, delimiter=\",\")\n",
    "# np.savetxt(\"../../experiments/koczor_ansatz_15layer_qngadam/\" + str(num_layers) + \"/thetass_ghz.csv\", thetass_ghz, delimiter=\",\")\n",
    "# np.savetxt(\"../../experiments/koczor_ansatz_15layer_qngadam/\" + str(num_layers) + \"/traces_ghz.csv\", traces_ghz, delimiter=\",\")\n",
    "# np.savetxt(\"../../experiments/koczor_ansatz_15layer_qngadam/\" + str(num_layers) + \"/fidelities_ghz.csv\", fidelities_ghz, delimiter=\",\")\n",
    "\n",
    "\n"
   ]
  },
  {
   "cell_type": "code",
   "execution_count": 3,
   "metadata": {},
   "outputs": [],
   "source": [
    "np.savetxt(\"../experiments/star_ansatz_ghz/\" + str(num_qubits) + \"/loss_values_qng.csv\", loss_values, delimiter=\",\")\n",
    "np.savetxt(\"../experiments/star_ansatz_ghz/\" + str(num_qubits) + \"/thetass_qng.csv\", thetass, delimiter=\",\")"
   ]
  },
  {
   "cell_type": "code",
   "execution_count": null,
   "metadata": {},
   "outputs": [
    {
     "data": {
      "text/plain": [
       "[<matplotlib.lines.Line2D at 0x211c63f4be0>]"
      ]
     },
     "execution_count": 9,
     "metadata": {},
     "output_type": "execute_result"
    },
    {
     "data": {
      "image/png": "[encoded data removed]",
      "text/plain": [
       "<Figure size 432x288 with 1 Axes>"
      ]
     },
     "metadata": {
      "needs_background": "light"
     },
     "output_type": "display_data"
    }
   ],
   "source": [
    "from matplotlib import pyplot as plt\n",
    "plt.plot(loss_values)"
   ]
  },
  {
   "cell_type": "code",
   "execution_count": 5,
   "metadata": {},
   "outputs": [],
   "source": [
    "traces = []\n",
    "fidelities = []\n",
    "i = 0\n",
    "for thetas in thetass:\n",
    "\n",
    "    # Get |psi> = U_gen|000...>\n",
    "    qc = qiskit.QuantumCircuit(num_qubits, num_qubits)\n",
    "    qc = qtm.nqubit.create_star2graph_state(qc, thetas, num_layers)\n",
    "    psi = qiskit.quantum_info.Statevector.from_instruction(qc)\n",
    "    rho_psi = qiskit.quantum_info.DensityMatrix(psi)\n",
    "    # Get |psi~> = U_target|000...>\n",
    "    qc1 = qiskit.QuantumCircuit(num_qubits, num_qubits)\n",
    "    qc1 = qtm.nqubit.create_ghz_state(qc1, theta = theta)\n",
    "    psi_hat = qiskit.quantum_info.Statevector.from_instruction(qc1)\n",
    "    rho_psi_hat = qiskit.quantum_info.DensityMatrix(psi_hat)\n",
    "    # Calculate the metrics\n",
    "    trace, fidelity = qtm.base.get_metrics(psi, psi_hat)\n",
    "    traces.append(trace)\n",
    "    fidelities.append(fidelity)\n",
    "np.savetxt(\"../experiments/star_ansatz_ghz/\" + str(num_qubits) + \"/traces_adam.csv\", traces, delimiter=\",\")\n",
    "np.savetxt(\"../experiments/star_ansatz_ghz/\" + str(num_qubits) + \"/fidelities_adam.csv\", fidelities, delimiter=\",\")"
   ]
  },
  {
   "cell_type": "markdown",
   "metadata": {},
   "source": [
    "### W state preparation"
   ]
  },
  {
   "cell_type": "code",
   "execution_count": 27,
   "metadata": {},
   "outputs": [
    {
     "name": "stderr",
     "output_type": "stream",
     "text": [
      "Step: 100%|██████████| 100/100 [32:09<00:00, 19.29s/it]\n"
     ]
    }
   ],
   "source": [
    "# Init parameters\n",
    "num_qubits = 10\n",
    "num_layers = 2\n",
    "thetas = np.ones(num_layers*(2*num_qubits - 2))\n",
    "\n",
    "qc = qiskit.QuantumCircuit(num_qubits, num_qubits)\n",
    "thetass, loss_values = qtm.base.fit(\n",
    "    qc, num_steps = 100, thetas = thetas, \n",
    "    create_circuit_func = qtm.nqubit.create_Wchecker_star2graph, \n",
    "    grad_func = qtm.base.grad_loss,\n",
    "    loss_func = qtm.base.loss_fubini_study,\n",
    "    optimizer = qtm.base.adam,\n",
    "    verbose = 1,\n",
    "    num_layers = num_layers,\n",
    "    is_return_all_thetas = True\n",
    ")\n",
    "\n",
    "np.savetxt(\"../experiments/star_ansatz_w/\" + str(num_qubits) + \"/loss_values_adam.csv\", loss_values, delimiter=\",\")\n",
    "np.savetxt(\"../experiments/star_ansatz_w/\" + str(num_qubits) + \"/thetass_adam.csv\", thetass, delimiter=\",\")"
   ]
  },
  {
   "cell_type": "code",
   "execution_count": 28,
   "metadata": {},
   "outputs": [
    {
     "data": {
      "text/plain": [
       "[<matplotlib.lines.Line2D at 0x1b2238d66a0>]"
      ]
     },
     "execution_count": 28,
     "metadata": {},
     "output_type": "execute_result"
    },
    {
     "data": {
      "image/png": "[encoded data removed]",
      "text/plain": [
       "<Figure size 432x288 with 1 Axes>"
      ]
     },
     "metadata": {
      "needs_background": "light"
     },
     "output_type": "display_data"
    }
   ],
   "source": [
    "from matplotlib import pyplot as plt\n",
    "plt.plot(loss_values)"
   ]
  },
  {
   "cell_type": "code",
   "execution_count": 29,
   "metadata": {},
   "outputs": [],
   "source": [
    "traces = []\n",
    "fidelities = []\n",
    "i = 0\n",
    "for thetas in thetass:\n",
    "\n",
    "    # Get |psi> = U_gen|000...>\n",
    "    qc = qiskit.QuantumCircuit(num_qubits, num_qubits)\n",
    "    qc = qtm.nqubit.create_star2graph_state(qc, thetas, num_layers)\n",
    "    psi = qiskit.quantum_info.Statevector.from_instruction(qc)\n",
    "    rho_psi = qiskit.quantum_info.DensityMatrix(psi)\n",
    "    # Get |psi~> = U_target|000...>\n",
    "    qc1 = qiskit.QuantumCircuit(num_qubits, num_qubits)\n",
    "    qc1 = qtm.nqubit.create_w_state(qc1)\n",
    "    psi_hat = qiskit.quantum_info.Statevector.from_instruction(qc1)\n",
    "    rho_psi_hat = qiskit.quantum_info.DensityMatrix(psi_hat)\n",
    "    # Calculate the metrics\n",
    "    trace, fidelity = qtm.base.get_metrics(psi, psi_hat)\n",
    "    traces.append(trace)\n",
    "    fidelities.append(fidelity)\n",
    "np.savetxt(\"../experiments/star_ansatz_w/\" + str(num_qubits) + \"/traces_adam.csv\", traces, delimiter=\",\")\n",
    "np.savetxt(\"../experiments/star_ansatz_w/\" + str(num_qubits) + \"/fidelities_adam.csv\", fidelities, delimiter=\",\")"
   ]
  }
 ],
 "metadata": {
  "interpreter": {
   "hash": "770b641b4564229c593d803dcff32fdd6beb94e7a78ba8806c95b100ce213599"
  },
  "kernelspec": {
   "display_name": "Python 3.8.0 64-bit",
   "language": "python",
   "name": "python3"
  },
  "language_info": {
   "codemirror_mode": {
    "name": "ipython",
    "version": 3
   },
   "file_extension": ".py",
   "mimetype": "text/x-python",
   "name": "python",
   "nbconvert_exporter": "python",
   "pygments_lexer": "ipython3",
   "version": "3.8.0"
  },
  "orig_nbformat": 4
 },
 "nbformat": 4,
 "nbformat_minor": 2
}
