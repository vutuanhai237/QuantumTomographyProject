{
 "cells": [
  {
   "cell_type": "code",
   "execution_count": 8,
   "metadata": {},
   "outputs": [
    {
     "name": "stdout",
     "output_type": "stream",
     "text": [
      "The autoreload extension is already loaded. To reload it, use:\n",
      "  %reload_ext autoreload\n"
     ]
    }
   ],
   "source": [
    "import qtm.qcompilation\n",
    "import numpy as np\n",
    "%load_ext autoreload\n",
    "%autoreload 2"
   ]
  },
  {
   "cell_type": "code",
   "execution_count": 6,
   "metadata": {},
   "outputs": [
    {
     "name": "stderr",
     "output_type": "stream",
     "text": [
      "Step: 100%|██████████| 10/10 [03:50<00:00, 23.03s/it]\n"
     ]
    }
   ],
   "source": [
    "num_qubits = 3\n",
    "num_layers = 2\n",
    "thetas = np.ones(num_qubits*num_layers*5)\n",
    "\n",
    "compiler = qtm.qcompilation.QuantumCompilation(\n",
    "    u = qtm.ansatz.create_linear_ansatz,\n",
    "    vdagger = qtm.state.create_ghz_state(num_qubits).inverse(),\n",
    "    optimizer = 'qng_fubini_study',\n",
    "    loss_func = 'loss_fubini_study',\n",
    "    thetas = thetas,\n",
    "    num_layers = num_layers\n",
    ")\n",
    "compiler.fit(num_steps = 10, verbose = 1)"
   ]
  },
  {
   "cell_type": "code",
   "execution_count": 7,
   "metadata": {},
   "outputs": [
    {
     "data": {
      "text/plain": [
       "[<matplotlib.lines.Line2D at 0x23e7a852fd0>]"
      ]
     },
     "execution_count": 7,
     "metadata": {},
     "output_type": "execute_result"
    },
    {
     "data": {
      "image/png": "[encoded data removed]",
      "text/plain": [
       "<Figure size 432x288 with 1 Axes>"
      ]
     },
     "metadata": {
      "needs_background": "light"
     },
     "output_type": "display_data"
    }
   ],
   "source": [
    "import matplotlib.pyplot as plt\n",
    "plt.plot(compiler.loss_values)"
   ]
  },
  {
   "cell_type": "code",
   "execution_count": 12,
   "metadata": {},
   "outputs": [
    {
     "name": "stderr",
     "output_type": "stream",
     "text": [
      "\n",
      "Step:   0%|          | 0/10 [01:45<?, ?it/s]\n",
      "\n",
      "\u001b[A\n",
      "\u001b[A\n",
      "\u001b[A\n",
      "\u001b[A\n",
      "\u001b[A\n",
      "\u001b[A\n",
      "\u001b[A\n",
      "\u001b[A\n",
      "\u001b[A\n",
      "Step: 100%|██████████| 10/10 [01:49<00:00, 10.93s/it]\n"
     ]
    }
   ],
   "source": [
    "num_qubits = 3\n",
    "num_layers = 2\n",
    "n_walltoall = qtm.ansatz.calculate_n_walltoall(num_qubits)\n",
    "thetas = np.ones(num_layers* 3 * num_qubits + num_layers*n_walltoall)\n",
    "\n",
    "compiler = qtm.qcompilation.QuantumCompilation(\n",
    "    u = qtm.state.create_haar_state(num_qubits),\n",
    "    vdagger = qtm.ansatz.create_Walltoall_layerd_ansatz,\n",
    "    optimizer = 'qng_fubini_study',\n",
    "    loss_func = 'loss_fubini_study',\n",
    "    thetas = thetas,\n",
    "    num_layers = num_layers\n",
    ")\n",
    "compiler.fit(num_steps = 10, verbose = 1)"
   ]
  }
 ],
 "metadata": {
  "interpreter": {
   "hash": "b6314cf850edbae231b80224200c9e1580e03453e86236ed42ea1b49b1f8d2e3"
  },
  "kernelspec": {
   "display_name": "Python 3.8.0 64-bit",
   "language": "python",
   "name": "python3"
  },
  "language_info": {
   "codemirror_mode": {
    "name": "ipython",
    "version": 3
   },
   "file_extension": ".py",
   "mimetype": "text/x-python",
   "name": "python",
   "nbconvert_exporter": "python",
   "pygments_lexer": "ipython3",
   "version": "3.8.0"
  },
  "orig_nbformat": 4
 },
 "nbformat": 4,
 "nbformat_minor": 2
}
