{
 "cells": [
  {
   "cell_type": "code",
   "execution_count": 10,
   "metadata": {},
   "outputs": [
    {
     "name": "stdout",
     "output_type": "stream",
     "text": [
      "The autoreload extension is already loaded. To reload it, use:\n",
      "  %reload_ext autoreload\n"
     ]
    }
   ],
   "source": [
    "import qtm.qcompilation\n",
    "import numpy as np\n",
    "import types\n",
    "%load_ext autoreload\n",
    "%autoreload 2"
   ]
  },
  {
   "cell_type": "code",
   "execution_count": 11,
   "metadata": {},
   "outputs": [
    {
     "data": {
      "text/plain": [
       "0.1"
      ]
     },
     "execution_count": 11,
     "metadata": {},
     "output_type": "execute_result"
    }
   ],
   "source": [
    "qtm.constant.learning_rate"
   ]
  },
  {
   "cell_type": "code",
   "execution_count": 21,
   "metadata": {},
   "outputs": [
    {
     "name": "stderr",
     "output_type": "stream",
     "text": [
      "Step:   0%|          | 0/10 [00:00<?, ?it/s]/Library/Frameworks/Python.framework/Versions/3.10/lib/python3.10/site-packages/numpy/linalg/linalg.py:2139: RuntimeWarning: divide by zero encountered in det\n",
      "  r = _umath_linalg.det(a, signature=signature)\n",
      "/Library/Frameworks/Python.framework/Versions/3.10/lib/python3.10/site-packages/numpy/linalg/linalg.py:2139: RuntimeWarning: invalid value encountered in det\n",
      "  r = _umath_linalg.det(a, signature=signature)\n",
      "Step: 100%|██████████| 10/10 [01:07<00:00,  6.71s/it]\n"
     ]
    }
   ],
   "source": [
    "num_qubits = 3\n",
    "num_layers = 1\n",
    "thetas = np.ones(num_qubits*num_layers*5)\n",
    "\n",
    "compiler = qtm.qcompilation.QuantumCompilation(\n",
    "    u = qtm.ansatz.create_linear_ansatz,\n",
    "    vdagger = qtm.state.create_ghz_state(num_qubits).inverse(),\n",
    "    optimizer = 'adam',\n",
    "    loss_func = 'loss_basic',\n",
    "    thetas = thetas,\n",
    "    num_layers = num_layers\n",
    ")\n",
    "compiler.fit(num_steps = 10, verbose = 1)"
   ]
  },
  {
   "cell_type": "code",
   "execution_count": 17,
   "metadata": {},
   "outputs": [
    {
     "data": {
      "text/plain": [
       "array([0.68601194, 0.62765442, 1.9323779 , 1.87620056, 1.28241687,\n",
       "       1.72569132, 1.05436389, 1.40033893, 1.83171127, 1.79631687,\n",
       "       0.83498644, 0.97277576, 0.3633133 , 0.39529137, 0.55196283,\n",
       "       0.49591972, 0.60779068, 0.44574213, 0.35578804, 0.36614676])"
      ]
     },
     "execution_count": 17,
     "metadata": {},
     "output_type": "execute_result"
    }
   ],
   "source": [
    "compiler.thetas"
   ]
  },
  {
   "cell_type": "code",
   "execution_count": 22,
   "metadata": {},
   "outputs": [
    {
     "data": {
      "text/plain": [
       "[<matplotlib.lines.Line2D at 0x1298b46a0>]"
      ]
     },
     "execution_count": 22,
     "metadata": {},
     "output_type": "execute_result"
    },
    {
     "data": {
      "image/png": "[encoded data removed]",
      "text/plain": [
       "<Figure size 640x480 with 1 Axes>"
      ]
     },
     "metadata": {},
     "output_type": "display_data"
    }
   ],
   "source": [
    "import matplotlib.pyplot as plt\n",
    "plt.plot(compiler.loss_values)"
   ]
  },
  {
   "cell_type": "code",
   "execution_count": 12,
   "metadata": {},
   "outputs": [
    {
     "name": "stderr",
     "output_type": "stream",
     "text": [
      "\n",
      "Step:   0%|          | 0/10 [01:45<?, ?it/s]\n",
      "\n",
      "\u001b[A\n",
      "\u001b[A\n",
      "\u001b[A\n",
      "\u001b[A\n",
      "\u001b[A\n",
      "\u001b[A\n",
      "\u001b[A\n",
      "\u001b[A\n",
      "\u001b[A\n",
      "Step: 100%|██████████| 10/10 [01:49<00:00, 10.93s/it]\n"
     ]
    }
   ],
   "source": [
    "num_qubits = 3\n",
    "num_layers = 2\n",
    "n_walltoall = qtm.ansatz.calculate_n_walltoall(num_qubits)\n",
    "thetas = np.ones(num_layers* 3 * num_qubits + num_layers*n_walltoall)\n",
    "\n",
    "compiler = qtm.qcompilation.QuantumCompilation(\n",
    "    u = qtm.state.create_haar_state(num_qubits),\n",
    "    vdagger = qtm.ansatz.create_Walltoall_layerd_ansatz,\n",
    "    optimizer = 'qng_fubini_study',\n",
    "    loss_func = 'loss_fubini_study',\n",
    "    thetas = thetas,\n",
    "    num_layers = num_layers\n",
    ")\n",
    "compiler.fit(num_steps = 10, verbose = 1)"
   ]
  },
  {
   "cell_type": "code",
   "execution_count": 15,
   "metadata": {},
   "outputs": [
    {
     "name": "stdout",
     "output_type": "stream",
     "text": [
      "[ 0.35+0.j -0.  +0.j -0.  +0.j  0.35+0.j -0.  -0.j  0.  +0.j  0.  +0.j\n",
      " -0.  +0.j  0.  -0.j  0.  -0.j  0.  -0.j -0.  +0.j  0.35+0.j  0.  -0.j\n",
      " -0.  -0.j -0.35+0.j  0.  +0.j -0.  +0.j  0.  -0.j  0.  +0.j -0.  -0.j\n",
      " -0.35+0.j  0.35+0.j  0.  +0.j -0.  +0.j  0.35+0.j  0.35+0.j -0.  +0.j\n",
      "  0.  -0.j -0.  -0.j  0.  +0.j  0.  +0.j]\n"
     ]
    }
   ],
   "source": [
    "import numpy as np\n",
    "import qiskit\n",
    "qc = qiskit.QuantumCircuit(5)\n",
    "vector = 1/(2*np.sqrt(2))*np.asarray([\n",
    "    1, 0, 0, 1, 0, 0, 0, 0,\n",
    "    0, 0, 0, 0, 1, 0, 0, -1,\n",
    "    0, 0, 0, 0, 0, -1, 1, 0,\n",
    "    0, 1, 1, 0, 0, 0, 0, 0,    \n",
    "])\n",
    "qc.initialize(vector)\n",
    "transipled_qc = qiskit.compiler.transpile(qc, basis_gates=['u1', 'u2', 'u3', 'cx'], optimization_level=3)\n",
    "transipled_qc.draw(output='mpl')\n",
    "\n",
    "psi = qiskit.quantum_info.Statevector(qc)\n",
    "print(np.around(psi, 2))"
   ]
  },
  {
   "cell_type": "code",
   "execution_count": 12,
   "metadata": {},
   "outputs": [
    {
     "data": {
      "image/png": "[encoded data removed]",
      "text/plain": [
       "<Figure size 447.797x325.08 with 1 Axes>"
      ]
     },
     "execution_count": 12,
     "metadata": {},
     "output_type": "execute_result"
    }
   ],
   "source": [
    "import qtm.ansatz\n",
    "qc1 = qiskit.QuantumCircuit(5)\n",
    "for i in range(0, 5):\n",
    "    qc1.h(i)\n",
    "for i in range(0, 5):\n",
    "    if i == 4:\n",
    "        qc1.cz(i, 0)\n",
    "    else: \n",
    "        qc1.cz(i, i + 1)\n",
    "qc1.draw('mpl')\n"
   ]
  },
  {
   "cell_type": "code",
   "execution_count": 14,
   "metadata": {},
   "outputs": [
    {
     "name": "stdout",
     "output_type": "stream",
     "text": [
      "Statevector([ 0.1767767+0.j,  0.1767767+0.j,  0.1767767+0.j,\n",
      "             -0.1767767+0.j,  0.1767767+0.j,  0.1767767+0.j,\n",
      "             -0.1767767+0.j,  0.1767767+0.j,  0.1767767+0.j,\n",
      "              0.1767767+0.j,  0.1767767+0.j, -0.1767767+0.j,\n",
      "             -0.1767767+0.j, -0.1767767+0.j,  0.1767767+0.j,\n",
      "             -0.1767767+0.j,  0.1767767+0.j, -0.1767767+0.j,\n",
      "              0.1767767+0.j,  0.1767767+0.j,  0.1767767+0.j,\n",
      "             -0.1767767+0.j, -0.1767767+0.j, -0.1767767+0.j,\n",
      "             -0.1767767+0.j,  0.1767767+0.j, -0.1767767+0.j,\n",
      "             -0.1767767+0.j,  0.1767767+0.j, -0.1767767+0.j,\n",
      "             -0.1767767+0.j, -0.1767767+0.j],\n",
      "            dims=(2, 2, 2, 2, 2))\n"
     ]
    }
   ],
   "source": [
    "print(qiskit.quantum_info.Statevector(qc1))"
   ]
  }
 ],
 "metadata": {
  "kernelspec": {
   "display_name": "thesis",
   "language": "python",
   "name": "python3"
  },
  "language_info": {
   "codemirror_mode": {
    "name": "ipython",
    "version": 3
   },
   "file_extension": ".py",
   "mimetype": "text/x-python",
   "name": "python",
   "nbconvert_exporter": "python",
   "pygments_lexer": "ipython3",
   "version": "3.10.9"
  },
  "orig_nbformat": 4,
  "vscode": {
   "interpreter": {
    "hash": "59fae1f8b1f0016495614fe7e7026393e22232e20a9b015251ff6b024c7a58df"
   }
  }
 },
 "nbformat": 4,
 "nbformat_minor": 2
}
