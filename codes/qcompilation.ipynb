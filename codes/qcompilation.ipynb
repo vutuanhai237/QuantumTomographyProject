{
 "cells": [
  {
   "cell_type": "code",
   "execution_count": 1,
   "metadata": {},
   "outputs": [
    {
     "name": "stderr",
     "output_type": "stream",
     "text": [
      "/home/fptu/miniconda3/envs/thesis/lib/python3.8/site-packages/qiskit/providers/aer/pulse/qutip_extra_lite/fastsparse.py:57: DeprecationWarning: Please use `upcast` from the `scipy.sparse` namespace, the `scipy.sparse.sputils` namespace is deprecated.\n",
      "  from scipy.sparse.sputils import (upcast, isdense, isscalarlike, get_index_dtype)\n",
      "/home/fptu/miniconda3/envs/thesis/lib/python3.8/site-packages/qiskit/providers/aer/pulse/qutip_extra_lite/fastsparse.py:57: DeprecationWarning: Please use `isdense` from the `scipy.sparse` namespace, the `scipy.sparse.sputils` namespace is deprecated.\n",
      "  from scipy.sparse.sputils import (upcast, isdense, isscalarlike, get_index_dtype)\n",
      "/home/fptu/miniconda3/envs/thesis/lib/python3.8/site-packages/qiskit/providers/aer/pulse/qutip_extra_lite/fastsparse.py:57: DeprecationWarning: Please use `isscalarlike` from the `scipy.sparse` namespace, the `scipy.sparse.sputils` namespace is deprecated.\n",
      "  from scipy.sparse.sputils import (upcast, isdense, isscalarlike, get_index_dtype)\n",
      "/home/fptu/miniconda3/envs/thesis/lib/python3.8/site-packages/qiskit/providers/aer/pulse/qutip_extra_lite/fastsparse.py:57: DeprecationWarning: Please use `get_index_dtype` from the `scipy.sparse` namespace, the `scipy.sparse.sputils` namespace is deprecated.\n",
      "  from scipy.sparse.sputils import (upcast, isdense, isscalarlike, get_index_dtype)\n",
      "/home/fptu/miniconda3/envs/thesis/lib/python3.8/site-packages/qiskit/providers/aer/pulse/qutip_extra_lite/fastsparse.py:58: DeprecationWarning: Please use `SparseEfficiencyWarning` from the `scipy.sparse` namespace, the `scipy.sparse.base` namespace is deprecated.\n",
      "  from scipy.sparse.base import SparseEfficiencyWarning\n",
      "/home/fptu/.local/lib/python3.8/site-packages/tqdm/auto.py:22: TqdmWarning: IProgress not found. Please update jupyter and ipywidgets. See https://ipywidgets.readthedocs.io/en/stable/user_install.html\n",
      "  from .autonotebook import tqdm as notebook_tqdm\n"
     ]
    }
   ],
   "source": [
    "import qtm.qcompilation\n",
    "import numpy as np\n",
    "import types\n",
    "%load_ext autoreload\n",
    "%autoreload 2"
   ]
  },
  {
   "cell_type": "code",
   "execution_count": 2,
   "metadata": {},
   "outputs": [
    {
     "data": {
      "text/plain": [
       "False"
      ]
     },
     "execution_count": 2,
     "metadata": {},
     "output_type": "execute_result"
    }
   ],
   "source": [
    "isinstance(3, np.ndarray)"
   ]
  },
  {
   "cell_type": "code",
   "execution_count": 5,
   "metadata": {},
   "outputs": [
    {
     "name": "stderr",
     "output_type": "stream",
     "text": [
      "\n",
      "\rStep:   0%|          | 0/10 [00:00<?, ?it/s]\u001b[A"
     ]
    },
    {
     "ename": "TypeError",
     "evalue": "create_AME_state() got an unexpected keyword argument 'num_layers'",
     "output_type": "error",
     "traceback": [
      "\u001b[0;31m---------------------------------------------------------------------------\u001b[0m",
      "\u001b[0;31mTypeError\u001b[0m                                 Traceback (most recent call last)",
      "Cell \u001b[0;32mIn [5], line 13\u001b[0m\n\u001b[1;32m      3\u001b[0m thetas \u001b[39m=\u001b[39m np\u001b[39m.\u001b[39mones(num_qubits\u001b[39m*\u001b[39mnum_layers\u001b[39m*\u001b[39m\u001b[39m5\u001b[39m)\n\u001b[1;32m      5\u001b[0m compiler \u001b[39m=\u001b[39m qtm\u001b[39m.\u001b[39mqcompilation\u001b[39m.\u001b[39mQuantumCompilation(\n\u001b[1;32m      6\u001b[0m     u \u001b[39m=\u001b[39m qtm\u001b[39m.\u001b[39mansatz\u001b[39m.\u001b[39mcreate_AME_state,\n\u001b[1;32m      7\u001b[0m     vdagger \u001b[39m=\u001b[39m qtm\u001b[39m.\u001b[39mstate\u001b[39m.\u001b[39mcreate_ghz_state(num_qubits)\u001b[39m.\u001b[39minverse(),\n\u001b[0;32m   (...)\u001b[0m\n\u001b[1;32m     11\u001b[0m     num_layers \u001b[39m=\u001b[39m num_layers\n\u001b[1;32m     12\u001b[0m )\n\u001b[0;32m---> 13\u001b[0m compiler\u001b[39m.\u001b[39;49mfit(num_steps \u001b[39m=\u001b[39;49m \u001b[39m10\u001b[39;49m, verbose \u001b[39m=\u001b[39;49m \u001b[39m1\u001b[39;49m)\n",
      "File \u001b[0;32m~/UC-VQA/codes/qtm/qcompilation.py:155\u001b[0m, in \u001b[0;36mQuantumCompilation.fit\u001b[0;34m(self, num_steps, verbose)\u001b[0m\n\u001b[1;32m    147\u001b[0m \u001b[39mdef\u001b[39;00m \u001b[39mfit\u001b[39m(\u001b[39mself\u001b[39m, num_steps: \u001b[39mint\u001b[39m \u001b[39m=\u001b[39m \u001b[39m100\u001b[39m, verbose: \u001b[39mint\u001b[39m \u001b[39m=\u001b[39m \u001b[39m0\u001b[39m):\n\u001b[1;32m    148\u001b[0m     \u001b[39m\"\"\"Optimize the thetas parameters\u001b[39;00m\n\u001b[1;32m    149\u001b[0m \n\u001b[1;32m    150\u001b[0m \u001b[39m    Args:\u001b[39;00m\n\u001b[0;32m   (...)\u001b[0m\n\u001b[1;32m    153\u001b[0m \u001b[39m    \u001b[39;00m\n\u001b[1;32m    154\u001b[0m \u001b[39m    \"\"\"\u001b[39;00m\n\u001b[0;32m--> 155\u001b[0m     \u001b[39mself\u001b[39m\u001b[39m.\u001b[39mthetass, \u001b[39mself\u001b[39m\u001b[39m.\u001b[39mloss_values \u001b[39m=\u001b[39m qtm\u001b[39m.\u001b[39;49mbase\u001b[39m.\u001b[39;49mfit(\n\u001b[1;32m    156\u001b[0m         \u001b[39mself\u001b[39;49m\u001b[39m.\u001b[39;49mu, \u001b[39mself\u001b[39;49m\u001b[39m.\u001b[39;49mvdagger, \u001b[39mself\u001b[39;49m\u001b[39m.\u001b[39;49mthetas, num_steps, \u001b[39mself\u001b[39;49m\u001b[39m.\u001b[39;49mloss_func, \u001b[39mself\u001b[39;49m\u001b[39m.\u001b[39;49moptimizer, verbose, is_return_all_thetas\u001b[39m=\u001b[39;49m\u001b[39mTrue\u001b[39;49;00m, \u001b[39m*\u001b[39;49m\u001b[39m*\u001b[39;49m\u001b[39mself\u001b[39;49m\u001b[39m.\u001b[39;49mkwargs)\n\u001b[1;32m    157\u001b[0m     \u001b[39mself\u001b[39m\u001b[39m.\u001b[39mis_trained \u001b[39m=\u001b[39m \u001b[39mTrue\u001b[39;00m\n\u001b[1;32m    158\u001b[0m     \u001b[39mif\u001b[39;00m callable(\u001b[39mself\u001b[39m\u001b[39m.\u001b[39mu):\n",
      "File \u001b[0;32m~/UC-VQA/codes/qtm/base.py:415\u001b[0m, in \u001b[0;36mfit\u001b[0;34m(u, v, thetas, num_steps, loss_func, optimizer, verbose, is_return_all_thetas, **kwargs)\u001b[0m\n\u001b[1;32m    406\u001b[0m \u001b[39mdef\u001b[39;00m \u001b[39mfit\u001b[39m(u: typing\u001b[39m.\u001b[39mUnion[qiskit\u001b[39m.\u001b[39mQuantumCircuit, types\u001b[39m.\u001b[39mFunctionType], v: typing\u001b[39m.\u001b[39mUnion[qiskit\u001b[39m.\u001b[39mQuantumCircuit, types\u001b[39m.\u001b[39mFunctionType],\n\u001b[1;32m    407\u001b[0m         thetas: np\u001b[39m.\u001b[39mndarray,\n\u001b[1;32m    408\u001b[0m         num_steps: \u001b[39mint\u001b[39m,\n\u001b[0;32m   (...)\u001b[0m\n\u001b[1;32m    412\u001b[0m         is_return_all_thetas: \u001b[39mbool\u001b[39m \u001b[39m=\u001b[39m \u001b[39mFalse\u001b[39;00m,\n\u001b[1;32m    413\u001b[0m         \u001b[39m*\u001b[39m\u001b[39m*\u001b[39mkwargs):\n\u001b[1;32m    414\u001b[0m     \u001b[39mif\u001b[39;00m callable(u):\n\u001b[0;32m--> 415\u001b[0m         \u001b[39mreturn\u001b[39;00m fit_state_preparation(create_u_func\u001b[39m=\u001b[39;49mu,\n\u001b[1;32m    416\u001b[0m                               vdagger\u001b[39m=\u001b[39;49mv,\n\u001b[1;32m    417\u001b[0m                               thetas\u001b[39m=\u001b[39;49mthetas,\n\u001b[1;32m    418\u001b[0m                               num_steps\u001b[39m=\u001b[39;49mnum_steps,\n\u001b[1;32m    419\u001b[0m                               loss_func\u001b[39m=\u001b[39;49mloss_func,\n\u001b[1;32m    420\u001b[0m                               optimizer\u001b[39m=\u001b[39;49moptimizer,\n\u001b[1;32m    421\u001b[0m                               verbose\u001b[39m=\u001b[39;49mverbose,\n\u001b[1;32m    422\u001b[0m                               is_return_all_thetas\u001b[39m=\u001b[39;49mis_return_all_thetas,\n\u001b[1;32m    423\u001b[0m                               \u001b[39m*\u001b[39;49m\u001b[39m*\u001b[39;49mkwargs)\n\u001b[1;32m    424\u001b[0m     \u001b[39melse\u001b[39;00m:\n\u001b[1;32m    425\u001b[0m         \u001b[39mreturn\u001b[39;00m fit_state_tomography(u\u001b[39m=\u001b[39mu,\n\u001b[1;32m    426\u001b[0m                              create_vdagger_func\u001b[39m=\u001b[39mv,\n\u001b[1;32m    427\u001b[0m                              thetas\u001b[39m=\u001b[39mthetas,\n\u001b[0;32m   (...)\u001b[0m\n\u001b[1;32m    432\u001b[0m                              is_return_all_thetas\u001b[39m=\u001b[39mis_return_all_thetas,\n\u001b[1;32m    433\u001b[0m                              \u001b[39m*\u001b[39m\u001b[39m*\u001b[39mkwargs)\n",
      "File \u001b[0;32m~/UC-VQA/codes/qtm/base.py:347\u001b[0m, in \u001b[0;36mfit_state_preparation\u001b[0;34m(create_u_func, vdagger, thetas, num_steps, loss_func, optimizer, verbose, is_return_all_thetas, **kwargs)\u001b[0m\n\u001b[1;32m    345\u001b[0m     \u001b[39mreturn\u001b[39;00m create_u_func(qiskit\u001b[39m.\u001b[39mQuantumCircuit(vdagger\u001b[39m.\u001b[39mnum_qubits, vdagger\u001b[39m.\u001b[39mnum_qubits), thetas, \u001b[39m*\u001b[39m\u001b[39m*\u001b[39mkwargs)\u001b[39m.\u001b[39mcombine(vdagger)\n\u001b[1;32m    346\u001b[0m \u001b[39mfor\u001b[39;00m i \u001b[39min\u001b[39;00m \u001b[39mrange\u001b[39m(\u001b[39m0\u001b[39m, num_steps):\n\u001b[0;32m--> 347\u001b[0m     grad_loss \u001b[39m=\u001b[39m qtm\u001b[39m.\u001b[39;49mbase\u001b[39m.\u001b[39;49mgrad_loss(vdagger, create_circuit_func, thetas, \u001b[39m*\u001b[39;49m\u001b[39m*\u001b[39;49mkwargs)\n\u001b[1;32m    348\u001b[0m     optimizer_name \u001b[39m=\u001b[39m optimizer\u001b[39m.\u001b[39m\u001b[39m__name__\u001b[39m\n\u001b[1;32m    350\u001b[0m     \u001b[39mif\u001b[39;00m optimizer_name \u001b[39m==\u001b[39m \u001b[39m'\u001b[39m\u001b[39msgd\u001b[39m\u001b[39m'\u001b[39m:\n",
      "File \u001b[0;32m~/UC-VQA/codes/qtm/base.py:166\u001b[0m, in \u001b[0;36mgrad_loss\u001b[0;34m(qc, create_circuit_func, thetas, **kwargs)\u001b[0m\n\u001b[1;32m    148\u001b[0m \u001b[39mdef\u001b[39;00m \u001b[39mgrad_loss\u001b[39m(qc: qiskit\u001b[39m.\u001b[39mQuantumCircuit, create_circuit_func: types\u001b[39m.\u001b[39mFunctionType,\n\u001b[1;32m    149\u001b[0m               thetas: np\u001b[39m.\u001b[39mndarray, \u001b[39m*\u001b[39m\u001b[39m*\u001b[39mkwargs):\n\u001b[1;32m    150\u001b[0m     \u001b[39m\"\"\"Return the gradient of the loss function\u001b[39;00m\n\u001b[1;32m    151\u001b[0m \n\u001b[1;32m    152\u001b[0m \u001b[39m    L = 1 - |<psi~|psi>|^2 = 1 - P_0\u001b[39;00m\n\u001b[0;32m   (...)\u001b[0m\n\u001b[1;32m    164\u001b[0m \u001b[39m        - np.ndarray: the gradient vector\u001b[39;00m\n\u001b[1;32m    165\u001b[0m \u001b[39m    \"\"\"\u001b[39;00m\n\u001b[0;32m--> 166\u001b[0m     index_list \u001b[39m=\u001b[39m get_cry_index(create_circuit_func, thetas,\n\u001b[1;32m    167\u001b[0m                                num_qubits\u001b[39m=\u001b[39;49mqc\u001b[39m.\u001b[39;49mnum_qubits, \u001b[39m*\u001b[39;49m\u001b[39m*\u001b[39;49mkwargs)\n\u001b[1;32m    168\u001b[0m     grad_loss \u001b[39m=\u001b[39m np\u001b[39m.\u001b[39mzeros(\u001b[39mlen\u001b[39m(thetas))\n\u001b[1;32m    170\u001b[0m     \u001b[39mfor\u001b[39;00m i \u001b[39min\u001b[39;00m \u001b[39mrange\u001b[39m(\u001b[39m0\u001b[39m, \u001b[39mlen\u001b[39m(thetas)):\n",
      "File \u001b[0;32m~/UC-VQA/codes/qtm/base.py:134\u001b[0m, in \u001b[0;36mget_cry_index\u001b[0;34m(create_circuit_func, thetas, num_qubits, **kwargs)\u001b[0m\n\u001b[1;32m    125\u001b[0m \u001b[39m\"\"\"Return a list where i_th = 1 mean thetas[i] is parameter of CRY gate\u001b[39;00m\n\u001b[1;32m    126\u001b[0m \n\u001b[1;32m    127\u001b[0m \u001b[39mArgs:\u001b[39;00m\n\u001b[0;32m   (...)\u001b[0m\n\u001b[1;32m    131\u001b[0m \u001b[39m    - np.ndarray: The index list has length equal with number of parameters\u001b[39;00m\n\u001b[1;32m    132\u001b[0m \u001b[39m\"\"\"\u001b[39;00m\n\u001b[1;32m    133\u001b[0m qc \u001b[39m=\u001b[39m qiskit\u001b[39m.\u001b[39mQuantumCircuit(num_qubits)\n\u001b[0;32m--> 134\u001b[0m qc \u001b[39m=\u001b[39m create_circuit_func(qc, thetas, \u001b[39m*\u001b[39;49m\u001b[39m*\u001b[39;49mkwargs)\n\u001b[1;32m    135\u001b[0m layers \u001b[39m=\u001b[39m qtm\u001b[39m.\u001b[39mfubini_study\u001b[39m.\u001b[39msplit_into_layers(qc)\n\u001b[1;32m    136\u001b[0m index_list \u001b[39m=\u001b[39m []\n",
      "File \u001b[0;32m~/UC-VQA/codes/qtm/base.py:345\u001b[0m, in \u001b[0;36mfit_state_preparation.<locals>.create_circuit_func\u001b[0;34m(vdagger, thetas, **kwargs)\u001b[0m\n\u001b[1;32m    344\u001b[0m \u001b[39mdef\u001b[39;00m \u001b[39mcreate_circuit_func\u001b[39m(vdagger: qiskit\u001b[39m.\u001b[39mQuantumCircuit, thetas: np\u001b[39m.\u001b[39mndarray, \u001b[39m*\u001b[39m\u001b[39m*\u001b[39mkwargs):\n\u001b[0;32m--> 345\u001b[0m     \u001b[39mreturn\u001b[39;00m create_u_func(qiskit\u001b[39m.\u001b[39;49mQuantumCircuit(vdagger\u001b[39m.\u001b[39;49mnum_qubits, vdagger\u001b[39m.\u001b[39;49mnum_qubits), thetas, \u001b[39m*\u001b[39;49m\u001b[39m*\u001b[39;49mkwargs)\u001b[39m.\u001b[39mcombine(vdagger)\n",
      "\u001b[0;31mTypeError\u001b[0m: create_AME_state() got an unexpected keyword argument 'num_layers'"
     ]
    }
   ],
   "source": [
    "num_qubits = 3\n",
    "num_layers = 2\n",
    "thetas = np.ones(num_qubits*num_layers*5)\n",
    "\n",
    "compiler = qtm.qcompilation.QuantumCompilation(\n",
    "    u = qtm.ansatz.create_linear_ansatz,\n",
    "    vdagger = qtm.state.create_ghz_state(num_qubits).inverse(),\n",
    "    optimizer = 'qng_fubini_study',\n",
    "    loss_func = 'loss_fubini_study',\n",
    "    thetas = thetas,\n",
    "    num_layers = num_layers\n",
    ")\n",
    "compiler.fit(num_steps = 10, verbose = 1)"
   ]
  },
  {
   "cell_type": "code",
   "execution_count": 7,
   "metadata": {},
   "outputs": [
    {
     "data": {
      "text/plain": [
       "[<matplotlib.lines.Line2D at 0x23e7a852fd0>]"
      ]
     },
     "execution_count": 7,
     "metadata": {},
     "output_type": "execute_result"
    },
    {
     "data": {
      "image/png": "[encoded data removed]",
      "text/plain": [
       "<Figure size 432x288 with 1 Axes>"
      ]
     },
     "metadata": {
      "needs_background": "light"
     },
     "output_type": "display_data"
    }
   ],
   "source": [
    "import matplotlib.pyplot as plt\n",
    "plt.plot(compiler.loss_values)"
   ]
  },
  {
   "cell_type": "code",
   "execution_count": 12,
   "metadata": {},
   "outputs": [
    {
     "name": "stderr",
     "output_type": "stream",
     "text": [
      "\n",
      "Step:   0%|          | 0/10 [01:45<?, ?it/s]\n",
      "\n",
      "\u001b[A\n",
      "\u001b[A\n",
      "\u001b[A\n",
      "\u001b[A\n",
      "\u001b[A\n",
      "\u001b[A\n",
      "\u001b[A\n",
      "\u001b[A\n",
      "\u001b[A\n",
      "Step: 100%|██████████| 10/10 [01:49<00:00, 10.93s/it]\n"
     ]
    }
   ],
   "source": [
    "num_qubits = 3\n",
    "num_layers = 2\n",
    "n_walltoall = qtm.ansatz.calculate_n_walltoall(num_qubits)\n",
    "thetas = np.ones(num_layers* 3 * num_qubits + num_layers*n_walltoall)\n",
    "\n",
    "compiler = qtm.qcompilation.QuantumCompilation(\n",
    "    u = qtm.state.create_haar_state(num_qubits),\n",
    "    vdagger = qtm.ansatz.create_Walltoall_layerd_ansatz,\n",
    "    optimizer = 'qng_fubini_study',\n",
    "    loss_func = 'loss_fubini_study',\n",
    "    thetas = thetas,\n",
    "    num_layers = num_layers\n",
    ")\n",
    "compiler.fit(num_steps = 10, verbose = 1)"
   ]
  },
  {
   "cell_type": "code",
   "execution_count": 15,
   "metadata": {},
   "outputs": [
    {
     "name": "stdout",
     "output_type": "stream",
     "text": [
      "[ 0.35+0.j -0.  +0.j -0.  +0.j  0.35+0.j -0.  -0.j  0.  +0.j  0.  +0.j\n",
      " -0.  +0.j  0.  -0.j  0.  -0.j  0.  -0.j -0.  +0.j  0.35+0.j  0.  -0.j\n",
      " -0.  -0.j -0.35+0.j  0.  +0.j -0.  +0.j  0.  -0.j  0.  +0.j -0.  -0.j\n",
      " -0.35+0.j  0.35+0.j  0.  +0.j -0.  +0.j  0.35+0.j  0.35+0.j -0.  +0.j\n",
      "  0.  -0.j -0.  -0.j  0.  +0.j  0.  +0.j]\n"
     ]
    }
   ],
   "source": [
    "import numpy as np\n",
    "import qiskit\n",
    "qc = qiskit.QuantumCircuit(5)\n",
    "vector = 1/(2*np.sqrt(2))*np.asarray([\n",
    "    1, 0, 0, 1, 0, 0, 0, 0,\n",
    "    0, 0, 0, 0, 1, 0, 0, -1,\n",
    "    0, 0, 0, 0, 0, -1, 1, 0,\n",
    "    0, 1, 1, 0, 0, 0, 0, 0,    \n",
    "])\n",
    "qc.initialize(vector)\n",
    "transipled_qc = qiskit.compiler.transpile(qc, basis_gates=['u1', 'u2', 'u3', 'cx'], optimization_level=3)\n",
    "transipled_qc.draw(output='mpl')\n",
    "\n",
    "psi = qiskit.quantum_info.Statevector(qc)\n",
    "print(np.around(psi, 2))"
   ]
  },
  {
   "cell_type": "code",
   "execution_count": 12,
   "metadata": {},
   "outputs": [
    {
     "data": {
      "image/png": "[encoded data removed]",
      "text/plain": [
       "<Figure size 447.797x325.08 with 1 Axes>"
      ]
     },
     "execution_count": 12,
     "metadata": {},
     "output_type": "execute_result"
    }
   ],
   "source": [
    "import qtm.ansatz\n",
    "qc1 = qiskit.QuantumCircuit(5)\n",
    "for i in range(0, 5):\n",
    "    qc1.h(i)\n",
    "for i in range(0, 5):\n",
    "    if i == 4:\n",
    "        qc1.cz(i, 0)\n",
    "    else: \n",
    "        qc1.cz(i, i + 1)\n",
    "qc1.draw('mpl')\n"
   ]
  },
  {
   "cell_type": "code",
   "execution_count": 14,
   "metadata": {},
   "outputs": [
    {
     "name": "stdout",
     "output_type": "stream",
     "text": [
      "Statevector([ 0.1767767+0.j,  0.1767767+0.j,  0.1767767+0.j,\n",
      "             -0.1767767+0.j,  0.1767767+0.j,  0.1767767+0.j,\n",
      "             -0.1767767+0.j,  0.1767767+0.j,  0.1767767+0.j,\n",
      "              0.1767767+0.j,  0.1767767+0.j, -0.1767767+0.j,\n",
      "             -0.1767767+0.j, -0.1767767+0.j,  0.1767767+0.j,\n",
      "             -0.1767767+0.j,  0.1767767+0.j, -0.1767767+0.j,\n",
      "              0.1767767+0.j,  0.1767767+0.j,  0.1767767+0.j,\n",
      "             -0.1767767+0.j, -0.1767767+0.j, -0.1767767+0.j,\n",
      "             -0.1767767+0.j,  0.1767767+0.j, -0.1767767+0.j,\n",
      "             -0.1767767+0.j,  0.1767767+0.j, -0.1767767+0.j,\n",
      "             -0.1767767+0.j, -0.1767767+0.j],\n",
      "            dims=(2, 2, 2, 2, 2))\n"
     ]
    }
   ],
   "source": [
    "print(qiskit.quantum_info.Statevector(qc1))"
   ]
  }
 ],
 "metadata": {
  "kernelspec": {
   "display_name": "thesis",
   "language": "python",
   "name": "python3"
  },
  "language_info": {
   "codemirror_mode": {
    "name": "ipython",
    "version": 3
   },
   "file_extension": ".py",
   "mimetype": "text/x-python",
   "name": "python",
   "nbconvert_exporter": "python",
   "pygments_lexer": "ipython3",
   "version": "3.8.13 (default, Oct 21 2022, 23:50:54) \n[GCC 11.2.0]"
  },
  "orig_nbformat": 4,
  "vscode": {
   "interpreter": {
    "hash": "59fae1f8b1f0016495614fe7e7026393e22232e20a9b015251ff6b024c7a58df"
   }
  }
 },
 "nbformat": 4,
 "nbformat_minor": 2
}
