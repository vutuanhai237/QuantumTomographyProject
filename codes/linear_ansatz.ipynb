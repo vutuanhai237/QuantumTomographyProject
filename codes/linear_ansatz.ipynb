{
 "cells": [
  {
   "cell_type": "code",
   "execution_count": 4,
   "metadata": {},
   "outputs": [],
   "source": [
    "import qiskit\n",
    "import numpy as np\n",
    "import matplotlib.pyplot as plt\n",
    "import qtm.base, qtm.constant, qtm.nqubit, qtm.fubini_study, qtm.progress_bar"
   ]
  },
  {
   "cell_type": "code",
   "execution_count": 11,
   "metadata": {},
   "outputs": [],
   "source": [
    "num_qubits = 3\n",
    "num_layers = 1\n",
    "thetas = np.ones((num_qubits*num_layers*5))\n",
    "theta = np.pi / 2"
   ]
  },
  {
   "cell_type": "code",
   "execution_count": 12,
   "metadata": {},
   "outputs": [
    {
     "name": "stderr",
     "output_type": "stream",
     "text": [
      "Step: 100%|██████████| 100/100 [01:33<00:00,  1.07it/s]\n"
     ]
    }
   ],
   "source": [
    "qc = qiskit.QuantumCircuit(num_qubits, num_qubits)\n",
    "loss_values = []\n",
    "thetass = []\n",
    "bar = qtm.progress_bar.ProgressBar(max_value=100, disable=False)\n",
    "for i in range(0, 100):\n",
    "    bar.update(1)\n",
    "    G = qtm.fubini_study.calculate_koczor_state(qc.copy(), thetas, num_layers)\n",
    "    grad_loss = qtm.base.grad_loss(\n",
    "        qc, \n",
    "        qtm.nqubit.create_GHZchecker_koczor, \n",
    "        thetas, r = 1/2, s = np.pi/2, num_layers = num_layers, theta = theta)\n",
    "    thetas = np.real(thetas - qtm.constant.learning_rate*(np.linalg.inv(G) @ grad_loss))   \n",
    "    qc_copy = qtm.nqubit.create_GHZchecker_koczor(qc.copy(), thetas, num_layers, theta)\n",
    "    loss = qtm.base.loss_fubini_study(qtm.base.measure(qc_copy, list(range(qc_copy.num_qubits))))\n",
    "    loss_values.append(loss)\n",
    "    thetass.append(thetas)\n",
    "bar.close()\n",
    "\n"
   ]
  },
  {
   "cell_type": "code",
   "execution_count": 13,
   "metadata": {},
   "outputs": [
    {
     "data": {
      "text/plain": [
       "[<matplotlib.lines.Line2D at 0x16d83733a90>]"
      ]
     },
     "execution_count": 13,
     "metadata": {},
     "output_type": "execute_result"
    },
    {
     "data": {
      "image/png": "[encoded data removed]",
      "text/plain": [
       "<Figure size 432x288 with 1 Axes>"
      ]
     },
     "metadata": {
      "needs_background": "light"
     },
     "output_type": "display_data"
    }
   ],
   "source": [
    "plt.plot(loss_values)"
   ]
  }
 ],
 "metadata": {
  "interpreter": {
   "hash": "2c0cfa78ce93e4c23ba662bc61df11df26c1556d6a912f316b5ff6e5d6d165c5"
  },
  "kernelspec": {
   "display_name": "Python 3.9.10 64-bit (windows store)",
   "language": "python",
   "name": "python3"
  },
  "language_info": {
   "codemirror_mode": {
    "name": "ipython",
    "version": 3
   },
   "file_extension": ".py",
   "mimetype": "text/x-python",
   "name": "python",
   "nbconvert_exporter": "python",
   "pygments_lexer": "ipython3",
   "version": "3.9.10"
  },
  "orig_nbformat": 4
 },
 "nbformat": 4,
 "nbformat_minor": 2
}
