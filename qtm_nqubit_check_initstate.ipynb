{
 "cells": [
  {
   "cell_type": "code",
   "execution_count": 1,
   "metadata": {},
   "outputs": [],
   "source": [
    "import qiskit\n",
    "import numpy as np\n",
    "import matplotlib.pyplot as plt\n",
    "import qtm.base_qtm, qtm.constant, qtm.qtm_nqubit, qtm.qtm_1qubit"
   ]
  },
  {
   "cell_type": "markdown",
   "metadata": {},
   "source": [
    "<img src='others\\binho_checkstate.png' width = 500px/>"
   ]
  },
  {
   "cell_type": "code",
   "execution_count": null,
   "metadata": {},
   "outputs": [],
   "source": [
    "# Init parameters\n",
    "num_qubits = 3\n",
    "# For arbitrary initial state\n",
    "phis = np.random.uniform(low = 0, high = 2*np.pi, size = num_qubits*10)\n",
    "# For determine GHZ state\n",
    "theta = np.random.uniform(0, 2*np.pi)\n",
    "# For reconstructed state\n",
    "thetas = np.zeros((2*num_qubits*3))\n",
    "\n",
    "qc = qiskit.QuantumCircuit(num_qubits, num_qubits)\n",
    "for i in range(0, 1):\n",
    "    # |psi_gen> = U_gen|000...> \n",
    "    qc = qtm.qtm_nqubit.create_arbitrary_nqubit(qc, phis, num_layers = 2)\n",
    "    # U_target^t|psi_gen> with U_target is\n",
    "    qc = qtm.qtm_nqubit.create_ghz_state(qc, -theta)\n",
    "    p0 = qtm.base_qtm.measure(qc, range(0, ))\n"
   ]
  }
 ],
 "metadata": {
  "interpreter": {
   "hash": "b0bb45761e06d42ef60a7e329026c016a53b18e4ad51e16529481946724f1b50"
  },
  "kernelspec": {
   "display_name": "Python 3.7.6 64-bit",
   "name": "python3"
  },
  "language_info": {
   "codemirror_mode": {
    "name": "ipython",
    "version": 3
   },
   "file_extension": ".py",
   "mimetype": "text/x-python",
   "name": "python",
   "nbconvert_exporter": "python",
   "pygments_lexer": "ipython3",
   "version": "3.7.6"
  },
  "orig_nbformat": 4
 },
 "nbformat": 4,
 "nbformat_minor": 2
}
