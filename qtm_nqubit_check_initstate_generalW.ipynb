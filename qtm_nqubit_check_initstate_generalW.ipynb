{
 "cells": [
  {
   "cell_type": "code",
   "execution_count": 1,
   "metadata": {},
   "outputs": [],
   "source": [
    "import qiskit\n",
    "import numpy as np\n",
    "import matplotlib.pyplot as plt\n",
    "import qtm.base_qtm, qtm.constant, qtm.qtm_nqubit, qtm.qtm_1qubit, qtm.custom_gate"
   ]
  },
  {
   "cell_type": "markdown",
   "metadata": {},
   "source": [
    "<img src='others\\general_w.png' width = 500px/>"
   ]
  },
  {
   "cell_type": "markdown",
   "metadata": {},
   "source": [
    "<img src='others\\general_w2.png' width = 500px/>"
   ]
  },
  {
   "cell_type": "code",
   "execution_count": 20,
   "metadata": {},
   "outputs": [
    {
     "data": {
      "image/png": "[encoded data removed]",
      "text/plain": [
       "<Figure size 808.997x325.08 with 1 Axes>"
      ]
     },
     "execution_count": 20,
     "metadata": {},
     "output_type": "execute_result"
    }
   ],
   "source": [
    "def w(qc: qiskit.QuantumCircuit, num_qubits: int, shift: int = 0):\n",
    "    if num_qubits < 2:\n",
    "        raise ValueError('W state must has at least 2-qubit')\n",
    "    if num_qubits == 2:\n",
    "        # |W> state ~ |+> state\n",
    "        qc.h(0)\n",
    "        return\n",
    "    if num_qubits == 3:\n",
    "        # Return the base function\n",
    "        qc.w3(shift)\n",
    "        return\n",
    "    else:\n",
    "        # Theta value of F gate base on the circuit that it acts on\n",
    "        theta = np.arccos(1/np.sqrt(qc.num_qubits - shift))\n",
    "        qc.cf(theta, shift, shift + 1)\n",
    "        # Recursion until the number of qubit's equal 3\n",
    "        w(qc, num_qubits - 1, qc.num_qubits - (num_qubits - 1))\n",
    "        for i in range(1, num_qubits):\n",
    "            qc.cnot(i + shift, shift)\n",
    "    return qc\n",
    "\n",
    "qc = qiskit.QuantumCircuit(5)\n",
    "qc.x(0)\n",
    "qc.barrier()\n",
    "qc = w(qc, qc.num_qubits)\n",
    "qc.draw('mpl')\n"
   ]
  },
  {
   "cell_type": "code",
   "execution_count": 22,
   "metadata": {},
   "outputs": [
    {
     "data": {
      "text/plain": [
       "Statevector([0.       +0.j, 0.4472136+0.j, 0.4472136+0.j, 0.       +0.j,\n",
       "             0.4472136+0.j, 0.       +0.j, 0.       +0.j, 0.       +0.j,\n",
       "             0.4472136+0.j, 0.       +0.j, 0.       +0.j, 0.       +0.j,\n",
       "             0.       +0.j, 0.       +0.j, 0.       +0.j, 0.       +0.j,\n",
       "             0.4472136+0.j, 0.       +0.j, 0.       +0.j, 0.       +0.j,\n",
       "             0.       +0.j, 0.       +0.j, 0.       +0.j, 0.       +0.j,\n",
       "             0.       +0.j, 0.       +0.j, 0.       +0.j, 0.       +0.j,\n",
       "             0.       +0.j, 0.       +0.j, 0.       +0.j, 0.       +0.j],\n",
       "            dims=(2, 2, 2, 2, 2))"
      ]
     },
     "execution_count": 22,
     "metadata": {},
     "output_type": "execute_result"
    }
   ],
   "source": [
    "qiskit.quantum_info.Statevector.from_instruction(qc)"
   ]
  }
 ],
 "metadata": {
  "interpreter": {
   "hash": "b0bb45761e06d42ef60a7e329026c016a53b18e4ad51e16529481946724f1b50"
  },
  "kernelspec": {
   "display_name": "Python 3.7.6 64-bit",
   "name": "python3"
  },
  "language_info": {
   "codemirror_mode": {
    "name": "ipython",
    "version": 3
   },
   "file_extension": ".py",
   "mimetype": "text/x-python",
   "name": "python",
   "nbconvert_exporter": "python",
   "pygments_lexer": "ipython3",
   "version": "3.7.6"
  },
  "orig_nbformat": 4
 },
 "nbformat": 4,
 "nbformat_minor": 2
}
