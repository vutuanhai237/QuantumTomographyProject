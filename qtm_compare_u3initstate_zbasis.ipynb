{
 "cells": [
  {
   "cell_type": "markdown",
   "metadata": {},
   "source": [
    "# Compare optimizer"
   ]
  },
  {
   "cell_type": "code",
   "execution_count": 1,
   "metadata": {},
   "outputs": [],
   "source": [
    "import qiskit\n",
    "import numpy as np\n",
    "import matplotlib.pyplot as plt\n",
    "import qtm.base_qtm, qtm.constant, qtm.qtm_1qubit"
   ]
  },
  {
   "cell_type": "code",
   "execution_count": 2,
   "metadata": {},
   "outputs": [],
   "source": [
    "# Theta, phi, lambdaz is the params of u3 gate\n",
    "theta = np.random.uniform(0, np.pi)\n",
    "phi = np.random.uniform(0, 2*np.pi)\n",
    "lambdaz = 0"
   ]
  },
  {
   "cell_type": "code",
   "execution_count": 3,
   "metadata": {},
   "outputs": [
    {
     "name": "stderr",
     "output_type": "stream",
     "text": [
      "C:\\Users\\haime\\AppData\\Local\\Temp/ipykernel_12860/2635574895.py:5: DeprecationWarning: The QuantumCircuit.u3 method is deprecated as of 0.16.0. It will be removed no earlier than 3 months after the release date. You should use QuantumCircuit.u instead, which acts identically. Alternatively, you can decompose u3 in terms of QuantumCircuit.p and QuantumCircuit.sx: u3(ϴ,φ,λ) = p(φ+π) sx p(ϴ+π) sx p(λ) (2 pulses on hardware).\n",
      "  qc.u3(theta, phi, lambdaz, 0)\n",
      "Step: 100%|██████████| 100/100 [00:18<00:00,  5.50it/s]"
     ]
    },
    {
     "name": "stdout",
     "output_type": "stream",
     "text": [
      "[ 1.68005371e-01  3.06740723e+00 -1.00097656e-03]\n"
     ]
    },
    {
     "name": "stderr",
     "output_type": "stream",
     "text": [
      "\n"
     ]
    }
   ],
   "source": [
    "# Init quantum tomography 1 qubit\n",
    "thetas = np.zeros((3,))\n",
    "loss_values = []\n",
    "qc = qiskit.QuantumCircuit(1, 1)\n",
    "qc.u3(theta, phi, lambdaz, 0)\n",
    "# Reduce loss value in 100 steps\n",
    "thetas, loss_values_sgd = qtm.base_qtm.fit(\n",
    "    qc, num_steps = 100, thetas = thetas, \n",
    "    create_circuit_func = qtm.qtm_1qubit.u_1qubit, \n",
    "    grad_func = qtm.base_qtm.grad_loss,\n",
    "    loss_func = qtm.base_qtm.loss_basis,\n",
    "    optimizer = qtm.base_qtm.sgd,\n",
    "    verbose = 1,\n",
    "    wire = 0\n",
    ")\n",
    "\n",
    "print(thetas)"
   ]
  },
  {
   "cell_type": "code",
   "execution_count": 4,
   "metadata": {},
   "outputs": [
    {
     "name": "stderr",
     "output_type": "stream",
     "text": [
      "Step: 100%|██████████| 100/100 [00:17<00:00,  5.73it/s]"
     ]
    },
    {
     "name": "stdout",
     "output_type": "stream",
     "text": [
      "[0.77808575 3.05736094 1.02803153]\n"
     ]
    },
    {
     "name": "stderr",
     "output_type": "stream",
     "text": [
      "\n"
     ]
    }
   ],
   "source": [
    "# Init quantum tomography 1 qubit\n",
    "thetas = np.zeros((3,))\n",
    "loss_values = []\n",
    "qc = qiskit.QuantumCircuit(1, 1)\n",
    "qc.u3(theta, phi, lambdaz, 0)\n",
    "# Reduce loss value in 100 steps\n",
    "thetas, loss_values_adam = qtm.base_qtm.fit(\n",
    "    qc, num_steps = 100, thetas = thetas, \n",
    "    create_circuit_func = qtm.qtm_1qubit.u_1qubit, \n",
    "    grad_func = qtm.base_qtm.grad_loss,\n",
    "    loss_func = qtm.base_qtm.loss_basis,\n",
    "    optimizer = qtm.base_qtm.adam,\n",
    "    verbose = 1,\n",
    "    wire = 0\n",
    ")\n",
    "\n",
    "print(thetas)\n"
   ]
  },
  {
   "cell_type": "code",
   "execution_count": 5,
   "metadata": {},
   "outputs": [
    {
     "name": "stderr",
     "output_type": "stream",
     "text": [
      "Step: 100%|██████████| 100/100 [00:16<00:00,  5.94it/s]"
     ]
    },
    {
     "name": "stdout",
     "output_type": "stream",
     "text": [
      "[0.76517935 3.05897823 0.04442311]\n"
     ]
    },
    {
     "name": "stderr",
     "output_type": "stream",
     "text": [
      "\n"
     ]
    }
   ],
   "source": [
    "# Init quantum tomography 1 qubit\n",
    "thetas = np.zeros((3,))\n",
    "loss_values = []\n",
    "qc = qiskit.QuantumCircuit(1, 1)\n",
    "qc.u3(theta, phi, lambdaz, 0)\n",
    "# Reduce loss value in 100 steps\n",
    "thetas, loss_values_qng = qtm.base_qtm.fit(\n",
    "    qc, num_steps = 100, thetas = thetas, \n",
    "    create_circuit_func = qtm.qtm_1qubit.u_1qubit, \n",
    "    grad_func = qtm.base_qtm.grad_loss,\n",
    "    loss_func = qtm.base_qtm.loss_basis,\n",
    "    optimizer = qtm.base_qtm.qng,\n",
    "    verbose = 1,\n",
    "    wire = 0\n",
    ")\n",
    "\n",
    "print(thetas)\n"
   ]
  },
  {
   "cell_type": "code",
   "execution_count": 6,
   "metadata": {},
   "outputs": [
    {
     "name": "stderr",
     "output_type": "stream",
     "text": [
      "Step: 100%|██████████| 100/100 [00:15<00:00,  6.52it/s]"
     ]
    },
    {
     "name": "stdout",
     "output_type": "stream",
     "text": [
      "[ 0.74760523  3.05105237 -0.20901898]\n"
     ]
    },
    {
     "name": "stderr",
     "output_type": "stream",
     "text": [
      "\n"
     ]
    }
   ],
   "source": [
    "# Init quantum tomography 1 qubit\n",
    "thetas = np.zeros((3,))\n",
    "loss_values = []\n",
    "qc = qiskit.QuantumCircuit(1, 1)\n",
    "qc.u3(theta, phi, lambdaz, 0)\n",
    "# Reduce loss value in 100 steps\n",
    "thetas, loss_values_qng_adam = qtm.base_qtm.fit(\n",
    "    qc, num_steps = 100, thetas = thetas, \n",
    "    create_circuit_func = qtm.qtm_1qubit.u_1qubit, \n",
    "    grad_func = qtm.base_qtm.grad_loss,\n",
    "    loss_func = qtm.base_qtm.loss_basis,\n",
    "    optimizer = qtm.base_qtm.qng_adam,\n",
    "    verbose = 1,\n",
    "    wire = 0\n",
    ")\n",
    "\n",
    "print(thetas)\n"
   ]
  },
  {
   "cell_type": "code",
   "execution_count": 7,
   "metadata": {},
   "outputs": [
    {
     "data": {
      "image/png": "[encoded data removed]",
      "text/plain": [
       "<Figure size 432x288 with 1 Axes>"
      ]
     },
     "metadata": {
      "needs_background": "light"
     },
     "output_type": "display_data"
    }
   ],
   "source": [
    "# Plot loss value in 100 steps\n",
    "plt.show()\n",
    "plt.plot(loss_values_sgd, label='SGD', linestyle = '-')\n",
    "plt.plot(loss_values_adam, label='Adam', linestyle = '-.')\n",
    "plt.plot(loss_values_qng, label='QNG', linestyle = '--')\n",
    "plt.plot(loss_values_qng_adam, label='QNG-Adam', linestyle = ':')\n",
    "plt.title('u3initstate_zbasis_1qubit')\n",
    "plt.legend()\n",
    "plt.xlabel(\"Iteration\")\n",
    "plt.ylabel(\"Loss value\")\n",
    "plt.savefig('u3initstate_zbasis_1qubit.png', format='png', dpi=600)\n",
    "plt.show() "
   ]
  },
  {
   "cell_type": "code",
   "execution_count": 8,
   "metadata": {},
   "outputs": [],
   "source": [
    "np.savetxt(\"./compare/u3initstate_zbasis_1qubit/loss_values_sgd.csv\", loss_values_sgd, delimiter=\",\")\n",
    "np.savetxt(\"./compare/u3initstate_zbasis_1qubit/loss_values_adam.csv\", loss_values_adam, delimiter=\",\")\n",
    "np.savetxt(\"./compare/u3initstate_zbasis_1qubit/loss_values_qng.csv\", loss_values_qng, delimiter=\",\")\n",
    "np.savetxt(\"./compare/u3initstate_zbasis_1qubit/loss_values_qng_adam.csv\", loss_values_qng_adam, delimiter=\",\")"
   ]
  }
 ],
 "metadata": {
  "interpreter": {
   "hash": "b0bb45761e06d42ef60a7e329026c016a53b18e4ad51e16529481946724f1b50"
  },
  "kernelspec": {
   "display_name": "Python 3.7.6 64-bit",
   "name": "python3"
  },
  "language_info": {
   "codemirror_mode": {
    "name": "ipython",
    "version": 3
   },
   "file_extension": ".py",
   "mimetype": "text/x-python",
   "name": "python",
   "nbconvert_exporter": "python",
   "pygments_lexer": "ipython3",
   "version": "3.8.0"
  },
  "orig_nbformat": 4
 },
 "nbformat": 4,
 "nbformat_minor": 2
}
