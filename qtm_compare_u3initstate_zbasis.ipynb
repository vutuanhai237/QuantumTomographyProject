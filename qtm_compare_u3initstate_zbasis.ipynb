{
 "cells": [
  {
   "cell_type": "markdown",
   "metadata": {},
   "source": [
    "# Compare optimizer"
   ]
  },
  {
   "cell_type": "code",
   "execution_count": 38,
   "metadata": {},
   "outputs": [
    {
     "data": {
      "text/plain": [
       "<module 'qtm.qtm_1qubit' from 'c:\\\\Users\\\\haime\\\\OneDrive\\\\Máy tính\\\\QuantumTomographyProject\\\\qtm\\\\qtm_1qubit.py'>"
      ]
     },
     "execution_count": 38,
     "metadata": {},
     "output_type": "execute_result"
    }
   ],
   "source": [
    "import qiskit\n",
    "import numpy as np\n",
    "import matplotlib.pyplot as plt\n",
    "import qtm.base_qtm, qtm.constant, qtm.qtm_1qubit\n",
    "import importlib\n",
    "importlib.reload(qtm.base_qtm)\n",
    "importlib.reload(qtm.constant)\n",
    "importlib.reload(qtm.qtm_1qubit)"
   ]
  },
  {
   "cell_type": "code",
   "execution_count": 39,
   "metadata": {},
   "outputs": [],
   "source": [
    "# Theta, phi, lambdaz is the params of u3 gate\n",
    "theta = np.random.uniform(0, np.pi)\n",
    "phi = np.random.uniform(0, 2*np.pi)\n",
    "lambdaz = 0"
   ]
  },
  {
   "cell_type": "code",
   "execution_count": 40,
   "metadata": {},
   "outputs": [
    {
     "name": "stderr",
     "output_type": "stream",
     "text": [
      "Step: 100%|██████████| 100/100 [00:17<00:00,  5.72it/s]"
     ]
    },
    {
     "name": "stdout",
     "output_type": "stream",
     "text": [
      "[-0.49304199 -1.99274902 -0.00321045]\n"
     ]
    },
    {
     "name": "stderr",
     "output_type": "stream",
     "text": [
      "\n"
     ]
    }
   ],
   "source": [
    "# Init quantum tomography 1 qubit\n",
    "thetas = np.zeros((3,))\n",
    "loss_values = []\n",
    "qc = qiskit.QuantumCircuit(1, 1)\n",
    "qc.u3(theta, phi, lambdaz, 0)\n",
    "# Reduce loss value in 100 steps\n",
    "thetas, loss_values_sgd = qtm.base_qtm.fit(\n",
    "    qc, num_steps = 100, thetas = thetas, \n",
    "    create_circuit_func = qtm.qtm_1qubit.u_1qubit, \n",
    "    grad_func = qtm.base_qtm.grad_loss,\n",
    "    loss_func = qtm.base_qtm.loss_basis,\n",
    "    optimizer = qtm.base_qtm.sgd,\n",
    "    verbose = 1,\n",
    "    wire = 0\n",
    ")\n",
    "\n",
    "print(thetas)"
   ]
  },
  {
   "cell_type": "code",
   "execution_count": 41,
   "metadata": {},
   "outputs": [
    {
     "name": "stderr",
     "output_type": "stream",
     "text": [
      "Step: 100%|██████████| 100/100 [00:16<00:00,  6.19it/s]"
     ]
    },
    {
     "name": "stdout",
     "output_type": "stream",
     "text": [
      "[-0.52021041 -1.98807252  0.14970214]\n"
     ]
    },
    {
     "name": "stderr",
     "output_type": "stream",
     "text": [
      "\n"
     ]
    }
   ],
   "source": [
    "# Init quantum tomography 1 qubit\n",
    "thetas = np.zeros((3,))\n",
    "loss_values = []\n",
    "qc = qiskit.QuantumCircuit(1, 1)\n",
    "qc.u3(theta, phi, lambdaz, 0)\n",
    "# Reduce loss value in 100 steps\n",
    "thetas, loss_values_adam = qtm.base_qtm.fit(\n",
    "    qc, num_steps = 100, thetas = thetas, \n",
    "    create_circuit_func = qtm.qtm_1qubit.u_1qubit, \n",
    "    grad_func = qtm.base_qtm.grad_loss,\n",
    "    loss_func = qtm.base_qtm.loss_basis,\n",
    "    optimizer = qtm.base_qtm.adam,\n",
    "    verbose = 1,\n",
    "    wire = 0\n",
    ")\n",
    "\n",
    "print(thetas)\n"
   ]
  },
  {
   "cell_type": "code",
   "execution_count": 42,
   "metadata": {},
   "outputs": [
    {
     "name": "stderr",
     "output_type": "stream",
     "text": [
      "Step:   2%|▏         | 2/100 [00:00<00:16,  5.79it/s]"
     ]
    },
    {
     "name": "stdout",
     "output_type": "stream",
     "text": [
      "I\n",
      "I\n"
     ]
    },
    {
     "name": "stderr",
     "output_type": "stream",
     "text": [
      "Step:   4%|▍         | 4/100 [00:00<00:15,  6.15it/s]"
     ]
    },
    {
     "name": "stdout",
     "output_type": "stream",
     "text": [
      "I\n",
      "I\n"
     ]
    },
    {
     "name": "stderr",
     "output_type": "stream",
     "text": [
      "Step:   6%|▌         | 6/100 [00:00<00:14,  6.29it/s]"
     ]
    },
    {
     "name": "stdout",
     "output_type": "stream",
     "text": [
      "I\n",
      "I\n"
     ]
    },
    {
     "name": "stderr",
     "output_type": "stream",
     "text": [
      "Step:   8%|▊         | 8/100 [00:01<00:14,  6.27it/s]"
     ]
    },
    {
     "name": "stdout",
     "output_type": "stream",
     "text": [
      "I\n",
      "I\n"
     ]
    },
    {
     "name": "stderr",
     "output_type": "stream",
     "text": [
      "Step:  10%|█         | 10/100 [00:01<00:14,  6.31it/s]"
     ]
    },
    {
     "name": "stdout",
     "output_type": "stream",
     "text": [
      "I\n",
      "I\n"
     ]
    },
    {
     "name": "stderr",
     "output_type": "stream",
     "text": [
      "Step:  12%|█▏        | 12/100 [00:01<00:14,  6.28it/s]"
     ]
    },
    {
     "name": "stdout",
     "output_type": "stream",
     "text": [
      "I\n",
      "I\n"
     ]
    },
    {
     "name": "stderr",
     "output_type": "stream",
     "text": [
      "Step:  14%|█▍        | 14/100 [00:02<00:13,  6.34it/s]"
     ]
    },
    {
     "name": "stdout",
     "output_type": "stream",
     "text": [
      "I\n",
      "I\n"
     ]
    },
    {
     "name": "stderr",
     "output_type": "stream",
     "text": [
      "Step:  16%|█▌        | 16/100 [00:02<00:13,  6.32it/s]"
     ]
    },
    {
     "name": "stdout",
     "output_type": "stream",
     "text": [
      "I\n",
      "I\n"
     ]
    },
    {
     "name": "stderr",
     "output_type": "stream",
     "text": [
      "Step:  18%|█▊        | 18/100 [00:02<00:12,  6.52it/s]"
     ]
    },
    {
     "name": "stdout",
     "output_type": "stream",
     "text": [
      "I\n",
      "I\n"
     ]
    },
    {
     "name": "stderr",
     "output_type": "stream",
     "text": [
      "Step:  20%|██        | 20/100 [00:03<00:12,  6.28it/s]"
     ]
    },
    {
     "name": "stdout",
     "output_type": "stream",
     "text": [
      "I\n",
      "I\n"
     ]
    },
    {
     "name": "stderr",
     "output_type": "stream",
     "text": [
      "Step:  22%|██▏       | 22/100 [00:03<00:12,  6.33it/s]"
     ]
    },
    {
     "name": "stdout",
     "output_type": "stream",
     "text": [
      "I\n",
      "I\n"
     ]
    },
    {
     "name": "stderr",
     "output_type": "stream",
     "text": [
      "Step:  24%|██▍       | 24/100 [00:03<00:12,  6.29it/s]"
     ]
    },
    {
     "name": "stdout",
     "output_type": "stream",
     "text": [
      "I\n",
      "I\n"
     ]
    },
    {
     "name": "stderr",
     "output_type": "stream",
     "text": [
      "Step:  26%|██▌       | 26/100 [00:04<00:11,  6.30it/s]"
     ]
    },
    {
     "name": "stdout",
     "output_type": "stream",
     "text": [
      "I\n",
      "I\n"
     ]
    },
    {
     "name": "stderr",
     "output_type": "stream",
     "text": [
      "Step:  28%|██▊       | 28/100 [00:04<00:11,  6.03it/s]"
     ]
    },
    {
     "name": "stdout",
     "output_type": "stream",
     "text": [
      "I\n",
      "I\n"
     ]
    },
    {
     "name": "stderr",
     "output_type": "stream",
     "text": [
      "Step:  30%|███       | 30/100 [00:04<00:11,  5.97it/s]"
     ]
    },
    {
     "name": "stdout",
     "output_type": "stream",
     "text": [
      "I\n",
      "I\n"
     ]
    },
    {
     "name": "stderr",
     "output_type": "stream",
     "text": [
      "Step:  31%|███       | 31/100 [00:04<00:11,  6.02it/s]"
     ]
    },
    {
     "name": "stdout",
     "output_type": "stream",
     "text": [
      "I\n",
      "I\n"
     ]
    },
    {
     "name": "stderr",
     "output_type": "stream",
     "text": [
      "Step:  34%|███▍      | 34/100 [00:05<00:11,  5.80it/s]"
     ]
    },
    {
     "name": "stdout",
     "output_type": "stream",
     "text": [
      "I\n",
      "I\n"
     ]
    },
    {
     "name": "stderr",
     "output_type": "stream",
     "text": [
      "Step:  35%|███▌      | 35/100 [00:05<00:11,  5.86it/s]"
     ]
    },
    {
     "name": "stdout",
     "output_type": "stream",
     "text": [
      "I\n",
      "I\n"
     ]
    },
    {
     "name": "stderr",
     "output_type": "stream",
     "text": [
      "Step:  37%|███▋      | 37/100 [00:06<00:12,  5.00it/s]"
     ]
    },
    {
     "name": "stdout",
     "output_type": "stream",
     "text": [
      "I\n"
     ]
    },
    {
     "name": "stderr",
     "output_type": "stream",
     "text": [
      "Step:  38%|███▊      | 38/100 [00:06<00:14,  4.40it/s]"
     ]
    },
    {
     "name": "stdout",
     "output_type": "stream",
     "text": [
      "I\n"
     ]
    },
    {
     "name": "stderr",
     "output_type": "stream",
     "text": [
      "Step:  39%|███▉      | 39/100 [00:06<00:13,  4.37it/s]"
     ]
    },
    {
     "name": "stdout",
     "output_type": "stream",
     "text": [
      "I\n",
      "I\n"
     ]
    },
    {
     "name": "stderr",
     "output_type": "stream",
     "text": [
      "Step:  41%|████      | 41/100 [00:06<00:11,  5.11it/s]"
     ]
    },
    {
     "name": "stdout",
     "output_type": "stream",
     "text": [
      "I\n",
      "I\n"
     ]
    },
    {
     "name": "stderr",
     "output_type": "stream",
     "text": [
      "Step:  44%|████▍     | 44/100 [00:07<00:10,  5.39it/s]"
     ]
    },
    {
     "name": "stdout",
     "output_type": "stream",
     "text": [
      "I\n",
      "I\n"
     ]
    },
    {
     "name": "stderr",
     "output_type": "stream",
     "text": [
      "Step:  45%|████▌     | 45/100 [00:07<00:11,  4.59it/s]"
     ]
    },
    {
     "name": "stdout",
     "output_type": "stream",
     "text": [
      "I\n"
     ]
    },
    {
     "name": "stderr",
     "output_type": "stream",
     "text": [
      "Step:  46%|████▌     | 46/100 [00:08<00:12,  4.40it/s]"
     ]
    },
    {
     "name": "stdout",
     "output_type": "stream",
     "text": [
      "I\n"
     ]
    },
    {
     "name": "stderr",
     "output_type": "stream",
     "text": [
      "Step:  47%|████▋     | 47/100 [00:08<00:11,  4.48it/s]"
     ]
    },
    {
     "name": "stdout",
     "output_type": "stream",
     "text": [
      "I\n",
      "I\n"
     ]
    },
    {
     "name": "stderr",
     "output_type": "stream",
     "text": [
      "Step:  50%|█████     | 50/100 [00:08<00:09,  5.29it/s]"
     ]
    },
    {
     "name": "stdout",
     "output_type": "stream",
     "text": [
      "I\n",
      "I\n"
     ]
    },
    {
     "name": "stderr",
     "output_type": "stream",
     "text": [
      "Step:  51%|█████     | 51/100 [00:08<00:09,  5.34it/s]"
     ]
    },
    {
     "name": "stdout",
     "output_type": "stream",
     "text": [
      "I\n",
      "I\n"
     ]
    },
    {
     "name": "stderr",
     "output_type": "stream",
     "text": [
      "Step:  54%|█████▍    | 54/100 [00:09<00:08,  5.71it/s]"
     ]
    },
    {
     "name": "stdout",
     "output_type": "stream",
     "text": [
      "I\n",
      "I\n"
     ]
    },
    {
     "name": "stderr",
     "output_type": "stream",
     "text": [
      "Step:  55%|█████▌    | 55/100 [00:09<00:08,  5.57it/s]"
     ]
    },
    {
     "name": "stdout",
     "output_type": "stream",
     "text": [
      "I\n",
      "I\n"
     ]
    },
    {
     "name": "stderr",
     "output_type": "stream",
     "text": [
      "Step:  58%|█████▊    | 58/100 [00:10<00:07,  5.45it/s]"
     ]
    },
    {
     "name": "stdout",
     "output_type": "stream",
     "text": [
      "I\n",
      "I\n"
     ]
    },
    {
     "name": "stderr",
     "output_type": "stream",
     "text": [
      "Step:  59%|█████▉    | 59/100 [00:10<00:07,  5.46it/s]"
     ]
    },
    {
     "name": "stdout",
     "output_type": "stream",
     "text": [
      "I\n",
      "I\n"
     ]
    },
    {
     "name": "stderr",
     "output_type": "stream",
     "text": [
      "Step:  62%|██████▏   | 62/100 [00:10<00:06,  5.51it/s]"
     ]
    },
    {
     "name": "stdout",
     "output_type": "stream",
     "text": [
      "I\n",
      "I\n"
     ]
    },
    {
     "name": "stderr",
     "output_type": "stream",
     "text": [
      "Step:  63%|██████▎   | 63/100 [00:11<00:06,  5.37it/s]"
     ]
    },
    {
     "name": "stdout",
     "output_type": "stream",
     "text": [
      "I\n"
     ]
    },
    {
     "name": "stderr",
     "output_type": "stream",
     "text": [
      "Step:  64%|██████▍   | 64/100 [00:11<00:07,  4.79it/s]"
     ]
    },
    {
     "name": "stdout",
     "output_type": "stream",
     "text": [
      "I\n"
     ]
    },
    {
     "name": "stderr",
     "output_type": "stream",
     "text": [
      "Step:  66%|██████▌   | 66/100 [00:11<00:06,  5.16it/s]"
     ]
    },
    {
     "name": "stdout",
     "output_type": "stream",
     "text": [
      "I\n",
      "I\n"
     ]
    },
    {
     "name": "stderr",
     "output_type": "stream",
     "text": [
      "Step:  67%|██████▋   | 67/100 [00:11<00:06,  5.29it/s]"
     ]
    },
    {
     "name": "stdout",
     "output_type": "stream",
     "text": [
      "I\n",
      "I\n"
     ]
    },
    {
     "name": "stderr",
     "output_type": "stream",
     "text": [
      "Step:  70%|███████   | 70/100 [00:12<00:05,  5.53it/s]"
     ]
    },
    {
     "name": "stdout",
     "output_type": "stream",
     "text": [
      "I\n",
      "I\n"
     ]
    },
    {
     "name": "stderr",
     "output_type": "stream",
     "text": [
      "Step:  72%|███████▏  | 72/100 [00:12<00:05,  5.54it/s]"
     ]
    },
    {
     "name": "stdout",
     "output_type": "stream",
     "text": [
      "I\n",
      "I\n"
     ]
    },
    {
     "name": "stderr",
     "output_type": "stream",
     "text": [
      "Step:  73%|███████▎  | 73/100 [00:13<00:04,  5.52it/s]"
     ]
    },
    {
     "name": "stdout",
     "output_type": "stream",
     "text": [
      "I\n",
      "I\n"
     ]
    },
    {
     "name": "stderr",
     "output_type": "stream",
     "text": [
      "Step:  76%|███████▌  | 76/100 [00:13<00:04,  5.66it/s]"
     ]
    },
    {
     "name": "stdout",
     "output_type": "stream",
     "text": [
      "I\n",
      "I\n"
     ]
    },
    {
     "name": "stderr",
     "output_type": "stream",
     "text": [
      "Step:  77%|███████▋  | 77/100 [00:13<00:04,  5.61it/s]"
     ]
    },
    {
     "name": "stdout",
     "output_type": "stream",
     "text": [
      "I\n",
      "I\n"
     ]
    },
    {
     "name": "stderr",
     "output_type": "stream",
     "text": [
      "Step:  80%|████████  | 80/100 [00:14<00:03,  5.57it/s]"
     ]
    },
    {
     "name": "stdout",
     "output_type": "stream",
     "text": [
      "I\n",
      "I\n"
     ]
    },
    {
     "name": "stderr",
     "output_type": "stream",
     "text": [
      "Step:  82%|████████▏ | 82/100 [00:14<00:03,  5.71it/s]"
     ]
    },
    {
     "name": "stdout",
     "output_type": "stream",
     "text": [
      "I\n",
      "I\n"
     ]
    },
    {
     "name": "stderr",
     "output_type": "stream",
     "text": [
      "Step:  83%|████████▎ | 83/100 [00:14<00:03,  5.64it/s]"
     ]
    },
    {
     "name": "stdout",
     "output_type": "stream",
     "text": [
      "I\n",
      "I\n"
     ]
    },
    {
     "name": "stderr",
     "output_type": "stream",
     "text": [
      "Step:  86%|████████▌ | 86/100 [00:15<00:02,  5.80it/s]"
     ]
    },
    {
     "name": "stdout",
     "output_type": "stream",
     "text": [
      "I\n",
      "I\n"
     ]
    },
    {
     "name": "stderr",
     "output_type": "stream",
     "text": [
      "Step:  87%|████████▋ | 87/100 [00:15<00:02,  5.57it/s]"
     ]
    },
    {
     "name": "stdout",
     "output_type": "stream",
     "text": [
      "I\n",
      "I\n"
     ]
    },
    {
     "name": "stderr",
     "output_type": "stream",
     "text": [
      "Step:  90%|█████████ | 90/100 [00:16<00:01,  5.81it/s]"
     ]
    },
    {
     "name": "stdout",
     "output_type": "stream",
     "text": [
      "I\n",
      "I\n"
     ]
    },
    {
     "name": "stderr",
     "output_type": "stream",
     "text": [
      "Step:  91%|█████████ | 91/100 [00:16<00:01,  5.66it/s]"
     ]
    },
    {
     "name": "stdout",
     "output_type": "stream",
     "text": [
      "I\n",
      "I\n"
     ]
    },
    {
     "name": "stderr",
     "output_type": "stream",
     "text": [
      "Step:  94%|█████████▍| 94/100 [00:16<00:01,  5.76it/s]"
     ]
    },
    {
     "name": "stdout",
     "output_type": "stream",
     "text": [
      "I\n",
      "I\n"
     ]
    },
    {
     "name": "stderr",
     "output_type": "stream",
     "text": [
      "Step:  95%|█████████▌| 95/100 [00:16<00:00,  5.79it/s]"
     ]
    },
    {
     "name": "stdout",
     "output_type": "stream",
     "text": [
      "I\n",
      "I\n"
     ]
    },
    {
     "name": "stderr",
     "output_type": "stream",
     "text": [
      "Step:  98%|█████████▊| 98/100 [00:17<00:00,  5.61it/s]"
     ]
    },
    {
     "name": "stdout",
     "output_type": "stream",
     "text": [
      "I\n",
      "I\n"
     ]
    },
    {
     "name": "stderr",
     "output_type": "stream",
     "text": [
      "Step: 100%|██████████| 100/100 [00:17<00:00,  5.33it/s]"
     ]
    },
    {
     "name": "stdout",
     "output_type": "stream",
     "text": [
      "I\n",
      "I\n"
     ]
    },
    {
     "name": "stderr",
     "output_type": "stream",
     "text": [
      "Step: 100%|██████████| 100/100 [00:17<00:00,  5.58it/s]\n"
     ]
    }
   ],
   "source": [
    "# Init quantum tomography 1 qubit\n",
    "thetas = np.zeros((3,))\n",
    "loss_values = []\n",
    "qc = qiskit.QuantumCircuit(1, 1)\n",
    "qc.u3(theta, phi, lambdaz, 0)\n",
    "# Reduce loss value in 100 steps\n",
    "thetas, loss_values_qng = qtm.base_qtm.fit(\n",
    "    qc, num_steps = 100, thetas = thetas, \n",
    "    create_circuit_func = qtm.qtm_1qubit.u_1qubit, \n",
    "    grad_func = qtm.base_qtm.grad_loss,\n",
    "    loss_func = qtm.base_qtm.loss_basis,\n",
    "    optimizer = qtm.base_qtm.qng,\n",
    "    verbose = 1,\n",
    "    wire = 0\n",
    ")\n",
    "\n"
   ]
  },
  {
   "cell_type": "code",
   "execution_count": 43,
   "metadata": {},
   "outputs": [
    {
     "name": "stderr",
     "output_type": "stream",
     "text": [
      "Step: 100%|██████████| 100/100 [00:16<00:00,  5.90it/s]"
     ]
    },
    {
     "name": "stdout",
     "output_type": "stream",
     "text": [
      "[-0.49019015 -1.98568234  1.29107428]\n"
     ]
    },
    {
     "name": "stderr",
     "output_type": "stream",
     "text": [
      "\n"
     ]
    }
   ],
   "source": [
    "# Init quantum tomography 1 qubit\n",
    "thetas = np.zeros((3,))\n",
    "loss_values = []\n",
    "qc = qiskit.QuantumCircuit(1, 1)\n",
    "qc.u3(theta, phi, lambdaz, 0)\n",
    "# Reduce loss value in 100 steps\n",
    "thetas, loss_values_qng_adam = qtm.base_qtm.fit(\n",
    "    qc, num_steps = 100, thetas = thetas, \n",
    "    create_circuit_func = qtm.qtm_1qubit.u_1qubit, \n",
    "    grad_func = qtm.base_qtm.grad_loss,\n",
    "    loss_func = qtm.base_qtm.loss_basis,\n",
    "    optimizer = qtm.base_qtm.qng_adam,\n",
    "    verbose = 1,\n",
    "    wire = 0\n",
    ")\n",
    "\n",
    "print(thetas)\n"
   ]
  },
  {
   "cell_type": "code",
   "execution_count": 44,
   "metadata": {},
   "outputs": [
    {
     "data": {
      "image/png": "[encoded data removed]",
      "text/plain": [
       "<Figure size 432x288 with 1 Axes>"
      ]
     },
     "metadata": {
      "needs_background": "light"
     },
     "output_type": "display_data"
    }
   ],
   "source": [
    "# Plot loss value in 100 steps\n",
    "plt.plot(loss_values_sgd, label='SGD', linestyle = '-')\n",
    "plt.plot(loss_values_adam, label='Adam', linestyle = '-.')\n",
    "plt.plot(loss_values_qng, label='QNG', linestyle = '--')\n",
    "plt.plot(loss_values_qng_adam, label='QNG-Adam', linestyle = ':')\n",
    "plt.title('u3initstate_zbasis_1qubit')\n",
    "plt.legend()\n",
    "plt.xlabel(\"Iteration\")\n",
    "plt.ylabel(\"Loss value\")\n",
    "plt.savefig('u3initstate_zbasis_1qubit.png', format='png', dpi=600)\n",
    "plt.show() "
   ]
  },
  {
   "cell_type": "code",
   "execution_count": 8,
   "metadata": {},
   "outputs": [],
   "source": [
    "np.savetxt(\"./compare/u3initstate_zbasis_1qubit/loss_values_sgd.csv\", loss_values_sgd, delimiter=\",\")\n",
    "np.savetxt(\"./compare/u3initstate_zbasis_1qubit/loss_values_adam.csv\", loss_values_adam, delimiter=\",\")\n",
    "np.savetxt(\"./compare/u3initstate_zbasis_1qubit/loss_values_qng.csv\", loss_values_qng, delimiter=\",\")\n",
    "np.savetxt(\"./compare/u3initstate_zbasis_1qubit/loss_values_qng_adam.csv\", loss_values_qng_adam, delimiter=\",\")"
   ]
  }
 ],
 "metadata": {
  "interpreter": {
   "hash": "b0bb45761e06d42ef60a7e329026c016a53b18e4ad51e16529481946724f1b50"
  },
  "kernelspec": {
   "display_name": "Python 3.7.6 64-bit",
   "name": "python3"
  },
  "language_info": {
   "codemirror_mode": {
    "name": "ipython",
    "version": 3
   },
   "file_extension": ".py",
   "mimetype": "text/x-python",
   "name": "python",
   "nbconvert_exporter": "python",
   "pygments_lexer": "ipython3",
   "version": "3.8.0"
  },
  "orig_nbformat": 4
 },
 "nbformat": 4,
 "nbformat_minor": 2
}
