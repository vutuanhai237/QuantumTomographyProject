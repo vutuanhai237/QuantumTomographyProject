{
 "cells": [
  {
   "cell_type": "code",
   "execution_count": 5,
   "metadata": {},
   "outputs": [],
   "source": [
    "import numpy as np\n",
    "import qiskit\n",
    "import tqix\n",
    "import sys, math\n",
    "sys.path.insert(1, '../../')\n",
    "import qsee.constant, "
   ]
  },
  {
   "cell_type": "code",
   "execution_count": 196,
   "metadata": {},
   "outputs": [
    {
     "name": "stdout",
     "output_type": "stream",
     "text": [
      "[[ 0.35516921 -0.54565191 -0.2626922  -0.51739654  0.48929791]]\n"
     ]
    }
   ],
   "source": [
    "n = 5\n",
    "\n",
    "def calculate_TML(trial_state):\n",
    "    ###################\n",
    "    ## Calculate Pr\n",
    "    ###################\n",
    "    \n",
    "    if (trial_state) is None:\n",
    "        return -100\n",
    "    trial_state = np.expand_dims(trial_state, 1)\n",
    "    model = tqix.qmeas(trial_state, 'MUB')\n",
    "    pr = model.probability()\n",
    "    for i in range(0, len(pr)):\n",
    "        if pr[i] == 0:\n",
    "            pr[i] = 10**(-10)\n",
    "    ###################\n",
    "    ## Calculate fr\n",
    "    ###################\n",
    "    model = tqix.qmeas(state, 'MUB')\n",
    "    cdf_model = tqix.qsim(model, niter = int(qsee.constant.num_shots / len(pr)), backend='cdf')\n",
    "    fr = np.real(cdf_model.probability())\n",
    "    ###################\n",
    "    ## Calculate Tml\n",
    "    ###################\n",
    "    tml = 0\n",
    "    for i in range(0, len(pr)):\n",
    "        tml += np.real(fr[i]*np.log(pr[i]))\n",
    "    return -tml\n",
    "\n",
    "\n",
    "# state = tqix.random(4)\n",
    "state = 2*np.random.rand(n)-1\n",
    "state = state / np.linalg.norm(state)\n",
    "state = np.expand_dims(state, axis = 0)\n",
    "print(state)"
   ]
  },
  {
   "cell_type": "code",
   "execution_count": 197,
   "metadata": {},
   "outputs": [],
   "source": [
    "from math import cos, atan\n",
    "import numpy as np\n",
    "from scipy.optimize import minimize\n",
    "from scipy import optimize\n",
    "from scipy.optimize import NonlinearConstraint, Bounds\n",
    "def constraint(x):\n",
    "    \"\"\"Normalize condition\n",
    "\n",
    "    Args:\n",
    "        x (np.narray): state vector psi\n",
    "\n",
    "    Returns:\n",
    "        float: norm of psi\n",
    "    \"\"\"\n",
    "    norm = 0\n",
    "    for i in x:\n",
    "        norm += i**2\n",
    "    return norm\n",
    "def create_bound(n):\n",
    "    bounds = []\n",
    "    for i in range(0, n):\n",
    "        bounds.append((-1, 1))\n",
    "    return bounds\n",
    "\n",
    "progress = []\n",
    "progress_val = []\n",
    "\n",
    "def cb(x, convergence):\n",
    "    progress.append(x)\n",
    "    progress_val.append(calculate_TML(x))\n",
    "\n",
    "nlc = NonlinearConstraint(constraint, -1.0, 1.0)\n",
    "results = optimize.differential_evolution(calculate_TML, create_bound(n), constraints=(nlc), callback=cb)\n",
    "\n",
    "progress = np.array(progress)\n",
    "progress_val = np.array(progress_val)\n"
   ]
  },
  {
   "cell_type": "code",
   "execution_count": 198,
   "metadata": {},
   "outputs": [
    {
     "name": "stdout",
     "output_type": "stream",
     "text": [
      "8.36432644083154e-09\n",
      "(0.9999999991466662-2.057933612071415e-17j)\n",
      "[ 0.35516921 -0.54565191 -0.2626922  -0.51739654  0.48929791]\n",
      "[-0.35516921  0.54565191  0.2626922   0.51739654 -0.48929791]\n"
     ]
    }
   ],
   "source": [
    "state1 = np.squeeze(state, axis = 0)\n",
    "trace, fidelity = .get_metrics(state1, results.x)\n",
    "print(trace)\n",
    "print(fidelity)\n",
    "print(state1)\n",
    "print(results.x)"
   ]
  },
  {
   "cell_type": "code",
   "execution_count": 184,
   "metadata": {},
   "outputs": [
    {
     "data": {
      "text/plain": [
       "[<matplotlib.lines.Line2D at 0x2371497d7f0>]"
      ]
     },
     "execution_count": 184,
     "metadata": {},
     "output_type": "execute_result"
    },
    {
     "data": {
      "image/png": "[encoded data removed]",
      "text/plain": [
       "<Figure size 432x288 with 1 Axes>"
      ]
     },
     "metadata": {
      "needs_background": "light"
     },
     "output_type": "display_data"
    }
   ],
   "source": [
    "plt.ylabel(\"$-T_{ML}$\")\n",
    "plt.xlabel(\"$n_{iter}$\")\n",
    "plt.plot(progress_val)"
   ]
  },
  {
   "cell_type": "markdown",
   "metadata": {},
   "source": [
    "### Randomness method"
   ]
  },
  {
   "cell_type": "code",
   "execution_count": 11,
   "metadata": {},
   "outputs": [
    {
     "name": "stdout",
     "output_type": "stream",
     "text": [
      "10\n"
     ]
    }
   ],
   "source": [
    "num_qubits = 2\n",
    "from matplotlib import pyplot as plt\n",
    "# psi = 2*np.random.rand(2**num_qubits)-1\n",
    "# psi = psi / np.linalg.norm(psi)\n",
    "# qc = qiskit.QuantumCircuit(num_qubits, num_qubits)\n",
    "# qc.initialize(psi, range(0, num_qubits))\n",
    "# state = qiskit.quantum_info.Statevector(qc).data\n",
    "# state = np.real(state.reshape((2**num_qubits, 1)))\n",
    "state = tqix.random(4)\n",
    "max_tml = 0\n",
    "tmls = []\n",
    "iterations = 0\n",
    "fidelities = []\n",
    "for i in range(0, 10000000):\n",
    "    # trial_state = np.random.uniform(low = 0, high = 2*np.pi, size = (2**num_qubits, 1))\n",
    "    # trial_state = trial_state / np.linalg.norm(trial_state)\n",
    "    trial_state = tqix.random(4)\n",
    "    tml = calculate_TML(state, trial_state)\n",
    "    tmls.append(tml)\n",
    "    if i == 0 or max_tml < tml:\n",
    "        max_tml = tml\n",
    "        reconstructed_state = trial_state\n",
    "        iterations += 1\n",
    "        if iterations % 10 == 0:\n",
    "            print(iterations)\n",
    "\n",
    "        # if fidelity > 0.99:\n",
    "        #     print('Founded')\n",
    "        #     break\n",
    "        if tml >= 1 or iterations == 400:\n",
    "            break\n",
    "        state1 = np.squeeze(state, axis = 1)\n",
    "        reconstructed_state1 = np.squeeze(reconstructed_state, axis = 1)\n",
    "        trace, fidelity = .get_metrics(state1, reconstructed_state1)\n",
    "        fidelities.append(fidelity)\n",
    "print(tml)\n",
    "print(\"State: \", state)\n",
    "print(\"Reconstructed state: \", reconstructed_state)\n",
    "plt.plot(fidelity)\n",
    "\n"
   ]
  },
  {
   "cell_type": "markdown",
   "metadata": {},
   "source": [
    "first, we change ghz(1) by Haar random called from Qiskit. let fix N = 2.\n",
    "then we calculate the cdf_model probabilites so, now we have f_r.\n",
    "\n",
    "len(f_r) = (2^n + 1)*2^n\n",
    "f_r(1) = (2^1 + 1)*2\n",
    "Next, we calculate the trial probabilities, to calculate the trial probabilities, you can call the probability from model (not cdf_model)"
   ]
  },
  {
   "cell_type": "markdown",
   "metadata": {},
   "source": [
    "1. We have $f_r$ based on measure random unknown state\n",
    "2. For each $|\\psi_{trial}\\rangle$, we have different $P_r$.\n",
    "3. And $T_{ML}(\\psi_{trial})=\\Sigma (f_r.\\log(P_R)) \\in C$?\n",
    "\n",
    "We repeat 2-3 until $T_{ML}(\\psi_{trial})$ max and $\\psi_{trial}$ is $|\\mu\\rangle$"
   ]
  },
  {
   "cell_type": "markdown",
   "metadata": {},
   "source": [
    "<img width = 500px src = '../../images/classical_tomography.jpg'/>"
   ]
  }
 ],
 "metadata": {
  "interpreter": {
   "hash": "770b641b4564229c593d803dcff32fdd6beb94e7a78ba8806c95b100ce213599"
  },
  "kernelspec": {
   "display_name": "Python 3.8.0 64-bit",
   "language": "python",
   "name": "python3"
  },
  "language_info": {
   "codemirror_mode": {
    "name": "ipython",
    "version": 3
   },
   "file_extension": ".py",
   "mimetype": "text/x-python",
   "name": "python",
   "nbconvert_exporter": "python",
   "pygments_lexer": "ipython3",
   "version": "3.8.0"
  },
  "orig_nbformat": 4
 },
 "nbformat": 4,
 "nbformat_minor": 2
}
