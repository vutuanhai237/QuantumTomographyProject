{
 "cells": [
  {
   "cell_type": "code",
   "execution_count": 40,
   "metadata": {},
   "outputs": [
    {
     "data": {
      "text/plain": [
       "<module 'qtm.gradient' from '..\\\\qtm\\\\fubini_study.py'>"
      ]
     },
     "execution_count": 40,
     "metadata": {},
     "output_type": "execute_result"
    }
   ],
   "source": [
    "import qiskit\n",
    "import numpy as np\n",
    "import sys\n",
    "sys.path.insert(1, '../../')\n",
    "import , qtm.constant, qtm.ansatz, qtm.gradient, qtm.state"
   ]
  },
  {
   "cell_type": "markdown",
   "metadata": {},
   "source": [
    "20/12/2021\n",
    "\n",
    "In this notebook I will conduct the experiments about tomography.\n",
    "\n",
    "With $U_{gen} = $ Haar random\n",
    "\n",
    "And $U_{target} = W + ZXZ, W = W_{chain}, W_{all to all}, W_{alternating}$"
   ]
  },
  {
   "cell_type": "markdown",
   "metadata": {},
   "source": [
    "### 1. Wchain"
   ]
  },
  {
   "cell_type": "code",
   "execution_count": 2,
   "metadata": {},
   "outputs": [
    {
     "data": {
      "image/png": "[encoded data removed]",
      "text/plain": [
       "<Figure size 808.852x144.48 with 1 Axes>"
      ]
     },
     "execution_count": 2,
     "metadata": {},
     "output_type": "execute_result"
    }
   ],
   "source": [
    "num_qubits = 2\n",
    "num_layers = 2\n",
    "thetas = np.ones(num_layers*num_qubits*4)\n",
    "psi = 2*np.random.rand(2**num_qubits)-1\n",
    "psi = psi / np.linalg.norm(psi)\n",
    "encoder = qtm.state.Encoding(psi, 'amplitude_encoding')\n",
    "\n",
    "qc = qiskit.QuantumCircuit(num_qubits)\n",
    "qc = qtm.ansatz.create_Wchain_layerd_state(qc, thetas, num_layers=num_layers)\n",
    "qc.draw('mpl')"
   ]
  },
  {
   "cell_type": "code",
   "execution_count": 45,
   "metadata": {},
   "outputs": [
    {
     "name": "stdout",
     "output_type": "stream",
     "text": [
      "[[0.00729247+0.00000000e+00j 0.        +0.00000000e+00j\n",
      "  0.        +0.00000000e+00j 0.        +0.00000000e+00j\n",
      "  0.        +0.00000000e+00j 0.        +0.00000000e+00j\n",
      "  0.        +0.00000000e+00j 0.        +0.00000000e+00j\n",
      "  0.        +0.00000000e+00j 0.        +0.00000000e+00j\n",
      "  0.        +0.00000000e+00j 0.        +0.00000000e+00j\n",
      "  0.        +0.00000000e+00j 0.        +0.00000000e+00j\n",
      "  0.        +0.00000000e+00j 0.        +0.00000000e+00j]\n",
      " [0.        +0.00000000e+00j 0.04632488+0.00000000e+00j\n",
      "  0.        +0.00000000e+00j 0.        +0.00000000e+00j\n",
      "  0.        +0.00000000e+00j 0.        +0.00000000e+00j\n",
      "  0.        +0.00000000e+00j 0.        +0.00000000e+00j\n",
      "  0.        +0.00000000e+00j 0.        +0.00000000e+00j\n",
      "  0.        +0.00000000e+00j 0.        +0.00000000e+00j\n",
      "  0.        +0.00000000e+00j 0.        +0.00000000e+00j\n",
      "  0.        +0.00000000e+00j 0.        +0.00000000e+00j]\n",
      " [0.        +0.00000000e+00j 0.        +0.00000000e+00j\n",
      "  0.01713236+2.20080284e-36j 0.        +0.00000000e+00j\n",
      "  0.        +0.00000000e+00j 0.        +0.00000000e+00j\n",
      "  0.        +0.00000000e+00j 0.        +0.00000000e+00j\n",
      "  0.        +0.00000000e+00j 0.        +0.00000000e+00j\n",
      "  0.        +0.00000000e+00j 0.        +0.00000000e+00j\n",
      "  0.        +0.00000000e+00j 0.        +0.00000000e+00j\n",
      "  0.        +0.00000000e+00j 0.        +0.00000000e+00j]\n",
      " [0.        +0.00000000e+00j 0.        +0.00000000e+00j\n",
      "  0.        +0.00000000e+00j 0.01577703+0.00000000e+00j\n",
      "  0.        +0.00000000e+00j 0.        +0.00000000e+00j\n",
      "  0.        +0.00000000e+00j 0.        +0.00000000e+00j\n",
      "  0.        +0.00000000e+00j 0.        +0.00000000e+00j\n",
      "  0.        +0.00000000e+00j 0.        +0.00000000e+00j\n",
      "  0.        +0.00000000e+00j 0.        +0.00000000e+00j\n",
      "  0.        +0.00000000e+00j 0.        +0.00000000e+00j]\n",
      " [0.        +0.00000000e+00j 0.        +0.00000000e+00j\n",
      "  0.        +0.00000000e+00j 0.        +0.00000000e+00j\n",
      "  0.23349748+0.00000000e+00j 0.        +0.00000000e+00j\n",
      "  0.07183683+0.00000000e+00j 0.        +0.00000000e+00j\n",
      "  0.        +0.00000000e+00j 0.        +0.00000000e+00j\n",
      "  0.        +0.00000000e+00j 0.        +0.00000000e+00j\n",
      "  0.        +0.00000000e+00j 0.        +0.00000000e+00j\n",
      "  0.        +0.00000000e+00j 0.        +0.00000000e+00j]\n",
      " [0.        +0.00000000e+00j 0.        +0.00000000e+00j\n",
      "  0.        +0.00000000e+00j 0.        +0.00000000e+00j\n",
      "  0.        +0.00000000e+00j 0.23940305+0.00000000e+00j\n",
      "  0.        +0.00000000e+00j 0.00101194+0.00000000e+00j\n",
      "  0.        +0.00000000e+00j 0.        +0.00000000e+00j\n",
      "  0.        +0.00000000e+00j 0.        +0.00000000e+00j\n",
      "  0.        +0.00000000e+00j 0.        +0.00000000e+00j\n",
      "  0.        +0.00000000e+00j 0.        +0.00000000e+00j]\n",
      " [0.        +0.00000000e+00j 0.        +0.00000000e+00j\n",
      "  0.        +0.00000000e+00j 0.        +0.00000000e+00j\n",
      "  0.07183683+0.00000000e+00j 0.        +0.00000000e+00j\n",
      "  0.22910266+0.00000000e+00j 0.        +0.00000000e+00j\n",
      "  0.        +0.00000000e+00j 0.        +0.00000000e+00j\n",
      "  0.        +0.00000000e+00j 0.        +0.00000000e+00j\n",
      "  0.        +0.00000000e+00j 0.        +0.00000000e+00j\n",
      "  0.        +0.00000000e+00j 0.        +0.00000000e+00j]\n",
      " [0.        +0.00000000e+00j 0.        +0.00000000e+00j\n",
      "  0.        +0.00000000e+00j 0.        +0.00000000e+00j\n",
      "  0.        +0.00000000e+00j 0.00101194+0.00000000e+00j\n",
      "  0.        +0.00000000e+00j 0.23262688+0.00000000e+00j\n",
      "  0.        +0.00000000e+00j 0.        +0.00000000e+00j\n",
      "  0.        +0.00000000e+00j 0.        +0.00000000e+00j\n",
      "  0.        +0.00000000e+00j 0.        +0.00000000e+00j\n",
      "  0.        +0.00000000e+00j 0.        +0.00000000e+00j]\n",
      " [0.        +0.00000000e+00j 0.        +0.00000000e+00j\n",
      "  0.        +0.00000000e+00j 0.        +0.00000000e+00j\n",
      "  0.        +0.00000000e+00j 0.        +0.00000000e+00j\n",
      "  0.        +0.00000000e+00j 0.        +0.00000000e+00j\n",
      "  0.24812671+0.00000000e+00j 0.        +0.00000000e+00j\n",
      "  0.        +0.00000000e+00j 0.        +0.00000000e+00j\n",
      "  0.        +0.00000000e+00j 0.        +0.00000000e+00j\n",
      "  0.        +0.00000000e+00j 0.        +0.00000000e+00j]\n",
      " [0.        +0.00000000e+00j 0.        +0.00000000e+00j\n",
      "  0.        +0.00000000e+00j 0.        +0.00000000e+00j\n",
      "  0.        +0.00000000e+00j 0.        +0.00000000e+00j\n",
      "  0.        +0.00000000e+00j 0.        +0.00000000e+00j\n",
      "  0.        +0.00000000e+00j 0.24655804+0.00000000e+00j\n",
      "  0.02274652+0.00000000e+00j 0.        +0.00000000e+00j\n",
      "  0.        +0.00000000e+00j 0.        +0.00000000e+00j\n",
      "  0.        +0.00000000e+00j 0.        +0.00000000e+00j]\n",
      " [0.        +0.00000000e+00j 0.        +0.00000000e+00j\n",
      "  0.        +0.00000000e+00j 0.        +0.00000000e+00j\n",
      "  0.        +0.00000000e+00j 0.        +0.00000000e+00j\n",
      "  0.        +0.00000000e+00j 0.        +0.00000000e+00j\n",
      "  0.        +0.00000000e+00j 0.02274652+0.00000000e+00j\n",
      "  0.24996267+0.00000000e+00j 0.01402431-3.51184042e-18j\n",
      "  0.        +0.00000000e+00j 0.        +0.00000000e+00j\n",
      "  0.        +0.00000000e+00j 0.        +0.00000000e+00j]\n",
      " [0.        +0.00000000e+00j 0.        +0.00000000e+00j\n",
      "  0.        +0.00000000e+00j 0.        +0.00000000e+00j\n",
      "  0.        +0.00000000e+00j 0.        +0.00000000e+00j\n",
      "  0.        +0.00000000e+00j 0.        +0.00000000e+00j\n",
      "  0.        +0.00000000e+00j 0.        +0.00000000e+00j\n",
      "  0.01402431-3.51184042e-18j 0.23453668+1.72572498e-18j\n",
      "  0.        +0.00000000e+00j 0.        +0.00000000e+00j\n",
      "  0.        +0.00000000e+00j 0.        +0.00000000e+00j]\n",
      " [0.        +0.00000000e+00j 0.        +0.00000000e+00j\n",
      "  0.        +0.00000000e+00j 0.        +0.00000000e+00j\n",
      "  0.        +0.00000000e+00j 0.        +0.00000000e+00j\n",
      "  0.        +0.00000000e+00j 0.        +0.00000000e+00j\n",
      "  0.        +0.00000000e+00j 0.        +0.00000000e+00j\n",
      "  0.        +0.00000000e+00j 0.        +0.00000000e+00j\n",
      "  0.24990202+0.00000000e+00j 0.        +0.00000000e+00j\n",
      "  0.        +0.00000000e+00j 0.        +0.00000000e+00j]\n",
      " [0.        +0.00000000e+00j 0.        +0.00000000e+00j\n",
      "  0.        +0.00000000e+00j 0.        +0.00000000e+00j\n",
      "  0.        +0.00000000e+00j 0.        +0.00000000e+00j\n",
      "  0.        +0.00000000e+00j 0.        +0.00000000e+00j\n",
      "  0.        +0.00000000e+00j 0.        +0.00000000e+00j\n",
      "  0.        +0.00000000e+00j 0.        +0.00000000e+00j\n",
      "  0.        +0.00000000e+00j 0.23297803+0.00000000e+00j\n",
      "  0.00959765+0.00000000e+00j 0.02627779+0.00000000e+00j]\n",
      " [0.        +0.00000000e+00j 0.        +0.00000000e+00j\n",
      "  0.        +0.00000000e+00j 0.        +0.00000000e+00j\n",
      "  0.        +0.00000000e+00j 0.        +0.00000000e+00j\n",
      "  0.        +0.00000000e+00j 0.        +0.00000000e+00j\n",
      "  0.        +0.00000000e+00j 0.        +0.00000000e+00j\n",
      "  0.        +0.00000000e+00j 0.        +0.00000000e+00j\n",
      "  0.        +0.00000000e+00j 0.00959765+0.00000000e+00j\n",
      "  0.24218601+0.00000000e+00j 0.00119509+0.00000000e+00j]\n",
      " [0.        +0.00000000e+00j 0.        +0.00000000e+00j\n",
      "  0.        +0.00000000e+00j 0.        +0.00000000e+00j\n",
      "  0.        +0.00000000e+00j 0.        +0.00000000e+00j\n",
      "  0.        +0.00000000e+00j 0.        +0.00000000e+00j\n",
      "  0.        +0.00000000e+00j 0.        +0.00000000e+00j\n",
      "  0.        +0.00000000e+00j 0.        +0.00000000e+00j\n",
      "  0.        +0.00000000e+00j 0.02627779+0.00000000e+00j\n",
      "  0.00119509+0.00000000e+00j 0.19843164+0.00000000e+00j]]\n"
     ]
    }
   ],
   "source": [
    "num_qubits = 4\n",
    "num_layers = 1\n",
    "thetas = np.ones(num_layers*num_qubits*4)\n",
    "psi = 2*np.random.rand(2**num_qubits)-1\n",
    "psi = psi / np.linalg.norm(psi)\n",
    "qc = qiskit.QuantumCircuit(num_qubits, num_qubits)\n",
    "qc.initialize(psi, qubits = range(0, num_qubits))\n",
    "loss_values = []\n",
    "thetass = []\n",
    "for i in range(0, 100):\n",
    "\n",
    "    G = qtm.gradient.qng(qc.copy(), thetas, qtm.ansatz.create_Wchain_layerd_state, num_layers)\n",
    "    if i == 5:\n",
    "        print(G)\n",
    "    grad_loss = .grad_loss(\n",
    "        qc, \n",
    "        qtm.ansatz.create_Wchain_layerd_state,\n",
    "        thetas, num_layers = num_layers)\n",
    "    thetas = np.real(thetas - qtm.constant.learning_rate*(np.linalg.inv(G) @ grad_loss))\n",
    "    qc_copy = qtm.ansatz.create_Wchain_layerd_state(qc.copy(), thetas, num_layers)  \n",
    "    loss = qtm.loss.loss_basis(.measure(qc_copy, list(range(qc_copy.num_qubits))))\n",
    "    thetass.append(thetas.copy())\n",
    "    loss_values.append(loss)\n"
   ]
  },
  {
   "cell_type": "code",
   "execution_count": 44,
   "metadata": {},
   "outputs": [
    {
     "data": {
      "text/plain": [
       "[<matplotlib.lines.Line2D at 0x15e7d7300a0>]"
      ]
     },
     "execution_count": 44,
     "metadata": {},
     "output_type": "execute_result"
    },
    {
     "data": {
      "image/png": "[encoded data removed]",
      "text/plain": [
       "<Figure size 432x288 with 1 Axes>"
      ]
     },
     "metadata": {
      "needs_background": "light"
     },
     "output_type": "display_data"
    }
   ],
   "source": [
    "from matplotlib import pyplot as plt\n",
    "plt.plot(loss_values)"
   ]
  },
  {
   "cell_type": "code",
   "execution_count": 20,
   "metadata": {},
   "outputs": [
    {
     "name": "stdout",
     "output_type": "stream",
     "text": [
      "Writting ... 4\n"
     ]
    }
   ],
   "source": [
    "traces = []\n",
    "fidelities = []\n",
    "\n",
    "for thetas in thetass:\n",
    "    # Get |psi> = U_gen|000...>\n",
    "    qc1 = encoder.qcircuit\n",
    "    psi = qiskit.quantum_info.Statevector.from_instruction(qc1)\n",
    "    # Get |psi~> = U_target|000...>\n",
    "    qc = qiskit.QuantumCircuit(num_qubits, num_qubits)\n",
    "    qc = qtm.ansatz.create_Wchain_layerd_state(qc, thetas, num_layers = num_layers).inverse()\n",
    "    psi_hat = qiskit.quantum_info.Statevector.from_instruction(qc)\n",
    "    # Calculate the metrics\n",
    "    trace, fidelity = .get_metrics(psi, psi_hat)\n",
    "    traces.append(trace)\n",
    "    fidelities.append(fidelity)\n",
    "print('Writting ... ' + str(num_qubits))\n",
    "\n",
    "np.savetxt(\"../../experiments/tomography_wchain_\" + str(num_layers) + '/' + str(num_qubits) + \"/loss_values_qng.csv\", loss_values, delimiter=\",\")\n",
    "np.savetxt(\"../../experiments/tomography_wchain_\" + str(num_layers) + '/' + str(num_qubits) + \"/thetass_qng.csv\", thetass, delimiter=\",\")\n",
    "np.savetxt(\"../../experiments/tomography_wchain_\" + str(num_layers) + '/' + str(num_qubits) + \"/traces_qng.csv\", traces, delimiter=\",\")\n",
    "np.savetxt(\"../../experiments/tomography_wchain_\" + str(num_layers) + '/' + str(num_qubits) + \"/fidelities_qng.csv\", fidelities, delimiter=\",\")"
   ]
  },
  {
   "cell_type": "code",
   "execution_count": null,
   "metadata": {},
   "outputs": [
    {
     "data": {
      "text/plain": [
       "[<matplotlib.lines.Line2D at 0x1d929065c40>]"
      ]
     },
     "execution_count": 9,
     "metadata": {},
     "output_type": "execute_result"
    },
    {
     "data": {
      "image/png": "[encoded data removed]",
      "text/plain": [
       "<Figure size 432x288 with 1 Axes>"
      ]
     },
     "metadata": {
      "needs_background": "light"
     },
     "output_type": "display_data"
    }
   ],
   "source": [
    "from matplotlib import pyplot as plt\n",
    "plt.plot(loss_values)"
   ]
  },
  {
   "cell_type": "code",
   "execution_count": 10,
   "metadata": {},
   "outputs": [
    {
     "data": {
      "image/png": "[encoded data removed]",
      "text/plain": [
       "<Figure size 432x288 with 1 Axes>"
      ]
     },
     "metadata": {
      "needs_background": "light"
     },
     "output_type": "display_data"
    }
   ],
   "source": [
    "from matplotlib import pyplot as plt\n",
    "import pandas as pd\n",
    "# plt.plot(fidelities, label='Fidelity', linestyle = '-')\n",
    "# plt.plot(traces, label='Trace', linestyle = '-.')\n",
    "path = \"../../experiments/tomography_wchain_4/4/loss_values_qng.csv\"\n",
    "loss_values1 = pd.read_csv(path, sep=\",\", header=None)\n",
    "plt.plot(loss_values, label='Loss', linestyle = '--')\n",
    "plt.plot(loss_values1, label='Loss2')\n",
    "plt.title('W chain')\n",
    "plt.legend()\n",
    "plt.xlabel(\"Iteration\")\n",
    "plt.ylabel(\"Loss value\")\n",
    "plt.show() "
   ]
  },
  {
   "cell_type": "markdown",
   "metadata": {},
   "source": [
    "### 2. W alternating"
   ]
  },
  {
   "cell_type": "code",
   "execution_count": 3,
   "metadata": {},
   "outputs": [
    {
     "data": {
      "image/png": "[encoded data removed]",
      "text/plain": [
       "<Figure size 688.452x204.68 with 1 Axes>"
      ]
     },
     "execution_count": 3,
     "metadata": {},
     "output_type": "execute_result"
    }
   ],
   "source": [
    "num_qubits = 2\n",
    "num_layers = 2\n",
    "thetas = np.ones(int(num_qubits*num_layers/2) + 3 * num_layers * num_qubits)\n",
    "for i in range(0, len(thetas)):\n",
    "    thetas[i] += i\n",
    "psi = 2 * np.random.uniform(0, 2*np.pi, (2**num_qubits))\n",
    "psi = psi / np.linalg.norm(psi)\n",
    "qc = qiskit.QuantumCircuit(num_qubits, num_qubits)\n",
    "qc = qtm.ansatz.create_Walternating_layerd_state(qc, thetas, num_layers) \n",
    "qc.draw('mpl')"
   ]
  },
  {
   "cell_type": "code",
   "execution_count": 34,
   "metadata": {},
   "outputs": [
    {
     "name": "stdout",
     "output_type": "stream",
     "text": [
      "W_alternating:  0\n",
      "(21, 21)\n",
      "(21,)\n",
      "(21, 21)\n",
      "(21,)\n",
      "(21, 21)\n",
      "(21,)\n",
      "(21, 21)\n",
      "(21,)\n",
      "(21, 21)\n",
      "(21,)\n",
      "(21, 21)\n",
      "(21,)\n",
      "(21, 21)\n",
      "(21,)\n",
      "(21, 21)\n",
      "(21,)\n",
      "(21, 21)\n",
      "(21,)\n",
      "(21, 21)\n",
      "(21,)\n",
      "(21, 21)\n",
      "(21,)\n",
      "(21, 21)\n",
      "(21,)\n",
      "(21, 21)\n",
      "(21,)\n",
      "(21, 21)\n",
      "(21,)\n",
      "(21, 21)\n",
      "(21,)\n",
      "(21, 21)\n",
      "(21,)\n",
      "(21, 21)\n",
      "(21,)\n",
      "(21, 21)\n",
      "(21,)\n",
      "(21, 21)\n",
      "(21,)\n",
      "(21, 21)\n",
      "(21,)\n",
      "W_alternating:  20\n",
      "(21, 21)\n",
      "(21,)\n",
      "(21, 21)\n",
      "(21,)\n",
      "(21, 21)\n",
      "(21,)\n",
      "(21, 21)\n",
      "(21,)\n",
      "(21, 21)\n",
      "(21,)\n",
      "(21, 21)\n",
      "(21,)\n",
      "(21, 21)\n",
      "(21,)\n",
      "(21, 21)\n",
      "(21,)\n",
      "(21, 21)\n",
      "(21,)\n",
      "(21, 21)\n",
      "(21,)\n",
      "(21, 21)\n",
      "(21,)\n",
      "(21, 21)\n",
      "(21,)\n",
      "(21, 21)\n",
      "(21,)\n",
      "(21, 21)\n",
      "(21,)\n",
      "(21, 21)\n",
      "(21,)\n",
      "(21, 21)\n",
      "(21,)\n",
      "(21, 21)\n",
      "(21,)\n",
      "(21, 21)\n",
      "(21,)\n",
      "(21, 21)\n",
      "(21,)\n",
      "(21, 21)\n",
      "(21,)\n",
      "W_alternating:  40\n",
      "(21, 21)\n",
      "(21,)\n",
      "(21, 21)\n",
      "(21,)\n",
      "(21, 21)\n",
      "(21,)\n",
      "(21, 21)\n",
      "(21,)\n",
      "(21, 21)\n",
      "(21,)\n",
      "(21, 21)\n",
      "(21,)\n",
      "(21, 21)\n",
      "(21,)\n",
      "(21, 21)\n",
      "(21,)\n",
      "(21, 21)\n",
      "(21,)\n",
      "(21, 21)\n",
      "(21,)\n"
     ]
    }
   ],
   "source": [
    "num_qubits = 3\n",
    "num_layers = 2\n",
    "thetas = np.ones(int(num_qubits*num_layers/2) + 3 * num_layers * num_qubits)\n",
    "psi = 2 * np.random.uniform(0, 2*np.pi, (2**num_qubits))\n",
    "psi = psi / np.linalg.norm(psi)\n",
    "qc = qiskit.QuantumCircuit(num_qubits, num_qubits)\n",
    "qc.initialize(psi, range(num_qubits))\n",
    "\n",
    "loss_values = []\n",
    "thetass = []\n",
    "for i in range(0, 50):\n",
    "    if i % 20 == 0:\n",
    "        print('W_alternating: ', i)\n",
    "    \n",
    "    G = qtm.gradient.qng(qc.copy(), thetas, qtm.ansatz.create_Walternating_layerd_state, num_layers)\n",
    "    grad_loss = .grad_loss(\n",
    "        qc, \n",
    "        qtm.ansatz.create_Walternating_layerd_state,\n",
    "        thetas, num_layers = num_layers)\n",
    "    print(G.shape)\n",
    "    print(grad_loss.shape)\n",
    "    thetas = np.real(thetas - qtm.constant.learning_rate*(np.linalg.pinv(G) @ grad_loss)) \n",
    "    thetass.append(thetas.copy())\n",
    "    qc_copy = qtm.ansatz.create_Walternating_layerd_state(qc.copy(), thetas, num_layers)  \n",
    "    loss = qtm.loss.loss_basis(.measure(qc_copy, list(range(qc_copy.num_qubits))))\n",
    "    loss_values.append(loss)"
   ]
  },
  {
   "cell_type": "code",
   "execution_count": 27,
   "metadata": {},
   "outputs": [
    {
     "name": "stdout",
     "output_type": "stream",
     "text": [
      "Writting ... 3\n"
     ]
    }
   ],
   "source": [
    "traces = []\n",
    "fidelities = []\n",
    "\n",
    "for thetas in thetass:\n",
    "    # Get |psi> = U_gen|000...>\n",
    "    qc1 = encoder.qcircuit\n",
    "    psi = qiskit.quantum_info.Statevector.from_instruction(qc1)\n",
    "    # Get |psi~> = U_target|000...>\n",
    "    qc = qiskit.QuantumCircuit(num_qubits, num_qubits)\n",
    "    qc = qtm.ansatz.create_Walternating_layerd_state(qc, thetas, num_layers = num_layers).inverse()\n",
    "    psi_hat = qiskit.quantum_info.Statevector.from_instruction(qc)\n",
    "    # Calculate the metrics\n",
    "    trace, fidelity = .get_metrics(psi, psi_hat)\n",
    "    traces.append(trace)\n",
    "    fidelities.append(fidelity)\n",
    "print('Writting ... ' + str(num_qubits))\n",
    "\n",
    "np.savetxt(\"../../experiments/tomography_walternating_\" + str(num_layers) + '/' + str(num_qubits) + \"/loss_values_qng.csv\", loss_values, delimiter=\",\")\n",
    "np.savetxt(\"../../experiments/tomography_walternating_\" + str(num_layers) + '/' + str(num_qubits) + \"/thetass_qng.csv\", thetass, delimiter=\",\")\n",
    "np.savetxt(\"../../experiments/tomography_walternating_\" + str(num_layers) + '/' + str(num_qubits) + \"/traces_qng.csv\", traces, delimiter=\",\")\n",
    "np.savetxt(\"../../experiments/tomography_walternating_\" + str(num_layers) + '/' + str(num_qubits) + \"/fidelities_qng.csv\", fidelities, delimiter=\",\")"
   ]
  },
  {
   "cell_type": "code",
   "execution_count": 12,
   "metadata": {},
   "outputs": [
    {
     "data": {
      "image/png": "[encoded data removed]",
      "text/plain": [
       "<Figure size 432x288 with 1 Axes>"
      ]
     },
     "metadata": {
      "needs_background": "light"
     },
     "output_type": "display_data"
    }
   ],
   "source": [
    "from matplotlib import pyplot as plt\n",
    "# plt.plot(fidelities, label='Fidelity', linestyle = '-')\n",
    "# plt.plot(traces, label='Trace', linestyle = '-.')\n",
    "plt.plot(loss_values, label='Loss', linestyle = '--')\n",
    "plt.title('W alternating')\n",
    "plt.legend()\n",
    "plt.xlabel(\"Iteration\")\n",
    "plt.ylabel(\"Loss value\")\n",
    "plt.show() \n"
   ]
  },
  {
   "cell_type": "markdown",
   "metadata": {},
   "source": [
    "### 3. W all to all"
   ]
  },
  {
   "cell_type": "code",
   "execution_count": 4,
   "metadata": {},
   "outputs": [
    {
     "name": "stdout",
     "output_type": "stream",
     "text": [
      "1\n"
     ]
    },
    {
     "data": {
      "image/png": "[encoded data removed]",
      "text/plain": [
       "<Figure size 1049.65x144.48 with 1 Axes>"
      ]
     },
     "execution_count": 4,
     "metadata": {},
     "output_type": "execute_result"
    }
   ],
   "source": [
    "num_qubits = 2\n",
    "num_layers = 2\n",
    "n_walltoall = qtm.ansatz.calculate_n_walltoall(num_qubits)\n",
    "print(n_walltoall)\n",
    "thetas = np.ones(num_layers * 3 * num_qubits + num_layers * n_walltoall)\n",
    "for i in range(0, len(thetas)):\n",
    "    thetas[i] += i\n",
    "psi = 2 * np.random.rand(2**num_qubits) - 1\n",
    "psi = psi / np.linalg.norm(psi)\n",
    "encoder = qtm.state.Encoding(psi, 'amplitude_encoding')\n",
    "qc = qiskit.QuantumCircuit(num_qubits)\n",
    "qc = qtm.ansatz.create_Walltoall_layerd_state(qc,\n",
    "                                              thetas,\n",
    "                                              num_layers=num_layers)\n",
    "qc.draw('mpl')"
   ]
  },
  {
   "cell_type": "code",
   "execution_count": 3,
   "metadata": {},
   "outputs": [
    {
     "data": {
      "text/plain": [
       "<module 'qtm.gradient' from '..\\\\qtm\\\\fubini_study.py'>"
      ]
     },
     "execution_count": 3,
     "metadata": {},
     "output_type": "execute_result"
    }
   ],
   "source": [
    "import qiskit\n",
    "import numpy as np\n",
    "import sys\n",
    "sys.path.insert(1, '../../')\n",
    "import , qtm.constant, qtm.ansatz, qtm.gradient, qtm.state"
   ]
  },
  {
   "cell_type": "code",
   "execution_count": 9,
   "metadata": {},
   "outputs": [
    {
     "ename": "TypeError",
     "evalue": "initialize() missing 1 required positional argument: 'qubits'",
     "output_type": "error",
     "traceback": [
      "\u001b[1;31m---------------------------------------------------------------------------\u001b[0m",
      "\u001b[1;31mTypeError\u001b[0m                                 Traceback (most recent call last)",
      "\u001b[1;32m~\\AppData\\Local\\Temp/ipykernel_2420/3359621714.py\u001b[0m in \u001b[0;36m<module>\u001b[1;34m\u001b[0m\n\u001b[0;32m      8\u001b[0m \u001b[0mpsi\u001b[0m \u001b[1;33m=\u001b[0m \u001b[0mpsi\u001b[0m \u001b[1;33m/\u001b[0m \u001b[0mnp\u001b[0m\u001b[1;33m.\u001b[0m\u001b[0mlinalg\u001b[0m\u001b[1;33m.\u001b[0m\u001b[0mnorm\u001b[0m\u001b[1;33m(\u001b[0m\u001b[0mpsi\u001b[0m\u001b[1;33m)\u001b[0m\u001b[1;33m\u001b[0m\u001b[1;33m\u001b[0m\u001b[0m\n\u001b[0;32m      9\u001b[0m \u001b[0mqc\u001b[0m \u001b[1;33m=\u001b[0m \u001b[0mqiskit\u001b[0m\u001b[1;33m.\u001b[0m\u001b[0mQuantumCircuit\u001b[0m\u001b[1;33m(\u001b[0m\u001b[0mnum_qubits\u001b[0m\u001b[1;33m,\u001b[0m \u001b[0mnum_qubits\u001b[0m\u001b[1;33m)\u001b[0m\u001b[1;33m\u001b[0m\u001b[1;33m\u001b[0m\u001b[0m\n\u001b[1;32m---> 10\u001b[1;33m \u001b[0mqc\u001b[0m\u001b[1;33m.\u001b[0m\u001b[0minitialize\u001b[0m\u001b[1;33m(\u001b[0m\u001b[0mpsi\u001b[0m\u001b[1;33m)\u001b[0m\u001b[1;33m\u001b[0m\u001b[1;33m\u001b[0m\u001b[0m\n\u001b[0m\u001b[0;32m     11\u001b[0m \u001b[0mloss_values\u001b[0m \u001b[1;33m=\u001b[0m \u001b[1;33m[\u001b[0m\u001b[1;33m]\u001b[0m\u001b[1;33m\u001b[0m\u001b[1;33m\u001b[0m\u001b[0m\n\u001b[0;32m     12\u001b[0m \u001b[0mthetass\u001b[0m \u001b[1;33m=\u001b[0m \u001b[1;33m[\u001b[0m\u001b[1;33m]\u001b[0m\u001b[1;33m\u001b[0m\u001b[1;33m\u001b[0m\u001b[0m\n",
      "\u001b[1;31mTypeError\u001b[0m: initialize() missing 1 required positional argument: 'qubits'"
     ]
    }
   ],
   "source": [
    "num_qubits = 4\n",
    "num_layers = 3\n",
    "n_walltoall = qtm.ansatz.calculate_n_walltoall(num_qubits)\n",
    "thetas = np.ones(num_layers* 3 * num_qubits + num_layers*n_walltoall)\n",
    "for i in range(0, len(thetas)):\n",
    "    thetas[i] += i\n",
    "psi = 2*np.random.rand(2**num_qubits)-1\n",
    "psi = psi / np.linalg.norm(psi)\n",
    "qc = qiskit.QuantumCircuit(num_qubits, num_qubits)\n",
    "qc.initialize(psi)\n",
    "loss_values = []\n",
    "thetass = []\n",
    "\n",
    "for i in range(0, 100):\n",
    "    if i % 20 == 0:\n",
    "        print('W_chain: ', i)\n",
    "    G = qtm.gradient.qng(qc.copy(), thetas, qtm.ansatz.create_Walltoall_layerd_state, num_layers)\n",
    "    grad_loss = .grad_loss(\n",
    "        qc, \n",
    "        qtm.ansatz.create_Walltoall_layerd_state,\n",
    "        thetas, num_layers = num_layers)\n",
    "    thetas -= qtm.constant.learning_rate*(grad_loss) \n",
    "    thetass.append(thetas.copy())\n",
    "    qc_copy = qtm.ansatz.create_Walltoall_layerd_state(qc.copy(), thetas, num_layers)  \n",
    "    loss = qtm.loss.loss_basis(.measure(qc_copy, list(range(qc_copy.num_qubits))))\n",
    "    loss_values.append(loss)\n"
   ]
  },
  {
   "cell_type": "code",
   "execution_count": 14,
   "metadata": {},
   "outputs": [
    {
     "data": {
      "text/plain": [
       "[<matplotlib.lines.Line2D at 0x192fec35ca0>]"
      ]
     },
     "execution_count": 14,
     "metadata": {},
     "output_type": "execute_result"
    },
    {
     "data": {
      "image/png": "[encoded data removed]",
      "text/plain": [
       "<Figure size 432x288 with 1 Axes>"
      ]
     },
     "metadata": {
      "needs_background": "light"
     },
     "output_type": "display_data"
    }
   ],
   "source": [
    "from matplotlib import pyplot as plt\n",
    "plt.plot(loss_values)"
   ]
  },
  {
   "cell_type": "code",
   "execution_count": 111,
   "metadata": {},
   "outputs": [
    {
     "name": "stdout",
     "output_type": "stream",
     "text": [
      "Writting ... 3\n"
     ]
    }
   ],
   "source": [
    "traces = []\n",
    "fidelities = []\n",
    "\n",
    "for thetas in thetass:\n",
    "    # Get |psi> = U_gen|000...>\n",
    "    qc1 = encoder.qcircuit\n",
    "    psi = qiskit.quantum_info.Statevector.from_instruction(qc1)\n",
    "    # Get |psi~> = U_target|000...>\n",
    "    qc = qiskit.QuantumCircuit(num_qubits, num_qubits)\n",
    "    qc = qtm.ansatz.create_Walltoall_layerd_state(qc, thetas, num_layers = num_layers).inverse()\n",
    "    psi_hat = qiskit.quantum_info.Statevector.from_instruction(qc)\n",
    "    # Calculate the metrics\n",
    "    trace, fidelity = .get_metrics(psi, psi_hat)\n",
    "    traces.append(trace)\n",
    "    fidelities.append(fidelity)\n",
    "print('Writting ... ' + str(num_qubits))\n",
    "\n",
    "\n",
    "np.savetxt(\"../../experiments/tomography_walltoall_\" + str(num_layers) + '/' + str(num_qubits) + \"/loss_values_qng.csv\", loss_values, delimiter=\",\")\n",
    "np.savetxt(\"../../experiments/tomography_walltoall_\" + str(num_layers) + '/' + str(num_qubits) + \"/thetass_qng.csv\", thetass, delimiter=\",\")\n",
    "np.savetxt(\"../../experiments/tomography_walltoall_\" + str(num_layers) + '/' + str(num_qubits) + \"/traces_qng.csv\", traces, delimiter=\",\")\n",
    "np.savetxt(\"../../experiments/tomography_walltoall_\" + str(num_layers) + '/' + str(num_qubits) + \"/fidelities_qng.csv\", fidelities, delimiter=\",\")"
   ]
  },
  {
   "cell_type": "code",
   "execution_count": 15,
   "metadata": {},
   "outputs": [
    {
     "data": {
      "image/png": "[encoded data removed]",
      "text/plain": [
       "<Figure size 432x288 with 1 Axes>"
      ]
     },
     "metadata": {
      "needs_background": "light"
     },
     "output_type": "display_data"
    }
   ],
   "source": [
    "from matplotlib import pyplot as plt\n",
    "# plt.plot(fidelities, label='Fidelity', linestyle = '-')\n",
    "# plt.plot(traces, label='Trace', linestyle = '-.')\n",
    "plt.plot(loss_values, label='Loss', linestyle = '--')\n",
    "plt.title('W alltoall')\n",
    "plt.legend()\n",
    "plt.xlabel(\"Iteration\")\n",
    "plt.ylabel(\"Loss value\")\n",
    "plt.show() \n"
   ]
  },
  {
   "cell_type": "code",
   "execution_count": 49,
   "metadata": {},
   "outputs": [
    {
     "name": "stdout",
     "output_type": "stream",
     "text": [
      "6\n"
     ]
    },
    {
     "data": {
      "image/png": "[encoded data removed]",
      "text/plain": [
       "<Figure size 869.197x264.88 with 1 Axes>"
      ]
     },
     "execution_count": 49,
     "metadata": {},
     "output_type": "execute_result"
    }
   ],
   "source": [
    "num_qubits = 4\n",
    "num_layers = 1\n",
    "n_walltoall = qtm.ansatz.calculate_n_walltoall(num_qubits)\n",
    "print(n_walltoall)\n",
    "thetas = np.ones(num_layers* 3 * num_qubits + num_layers*n_walltoall)\n",
    "for i in range(0, len(thetas)):\n",
    "    thetas[i] += i\n",
    "psi = 2*np.random.rand(2**num_qubits)-1\n",
    "psi = psi / np.linalg.norm(psi)\n",
    "encoder = qtm.state.Encoding(psi, 'amplitude_encoding')\n",
    "qc = qiskit.QuantumCircuit(num_qubits)\n",
    "qc = qtm.ansatz.create_Walltoall_layerd_state(qc, thetas, num_layers=num_layers)\n",
    "qc.draw('mpl')\n",
    "\n"
   ]
  }
 ],
 "metadata": {
  "interpreter": {
   "hash": "770b641b4564229c593d803dcff32fdd6beb94e7a78ba8806c95b100ce213599"
  },
  "kernelspec": {
   "display_name": "Python 3.8.0 64-bit",
   "language": "python",
   "name": "python3"
  },
  "language_info": {
   "codemirror_mode": {
    "name": "ipython",
    "version": 3
   },
   "file_extension": ".py",
   "mimetype": "text/x-python",
   "name": "python",
   "nbconvert_exporter": "python",
   "pygments_lexer": "ipython3",
   "version": "3.8.0"
  },
  "orig_nbformat": 4
 },
 "nbformat": 4,
 "nbformat_minor": 2
}
