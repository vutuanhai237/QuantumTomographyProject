{
 "cells": [
  {
   "cell_type": "markdown",
   "metadata": {},
   "source": [
    "We are not sure about the correctly of QNG function, so we calculate by hand and compare it with QNG's result. See more at ./others/Check QNG by hand (Bin Ho).pdf"
   ]
  },
  {
   "cell_type": "code",
   "execution_count": 1,
   "metadata": {},
   "outputs": [],
   "source": [
    "import qiskit\n",
    "import numpy as np\n",
    "import qtm.base_qtm, qtm.constant, qtm.qtm_1qubit, qtm.quantum_fisher"
   ]
  },
  {
   "cell_type": "code",
   "execution_count": 8,
   "metadata": {},
   "outputs": [
    {
     "name": "stdout",
     "output_type": "stream",
     "text": [
      "Figure(253.926x144.48)\n",
      "[[-2.22044605e-16 -6.16297582e-33]\n",
      " [-6.16297582e-33  1.00000000e+00]]\n"
     ]
    },
    {
     "data": {
      "image/png": "[encoded data removed]",
      "text/plain": [
       "<Figure size 253.926x144.48 with 1 Axes>"
      ]
     },
     "metadata": {},
     "output_type": "display_data"
    }
   ],
   "source": [
    "\n",
    "def create_test_circuit(qc, thetas):\n",
    "    qc.h(0)\n",
    "    qc.rx(thetas[0], 0)\n",
    "    qc.rz(thetas[1], 0)\n",
    "    return qc\n",
    "\n",
    "qc = qiskit.QuantumCircuit(1, 1)\n",
    "thetas = np.array([np.pi/2, np.pi/2])\n",
    "\n",
    "grad_psi1 = qtm.base_qtm.grad_psi(qc, create_test_circuit, thetas, r = 1/2, s = np.pi)\n",
    "grad_loss = qtm.base_qtm.grad_loss(qc, create_test_circuit, thetas, r = 1/2, s = np.pi/2)\n",
    "\n",
    "qc_copy = create_test_circuit(qc.copy(), thetas)\n",
    "\n",
    "print(qc_copy.draw('mpl'))\n",
    "psi = qiskit.quantum_info.Statevector.from_instruction(qc_copy).data\n",
    "# Create gradient of loss function\n",
    "# Quantum natural gradient\n",
    "F = qtm.quantum_fisher.create_QFIM(psi, grad_psi1)\n",
    "\n",
    "print(F)"
   ]
  },
  {
   "cell_type": "markdown",
   "metadata": {},
   "source": [
    "The results seems to ok"
   ]
  },
  {
   "cell_type": "code",
   "execution_count": null,
   "metadata": {},
   "outputs": [],
   "source": [
    "# Init quantum tomography 1 qubit\n",
    "def a(qc, thetas):\n",
    "    qc.h(0)\n",
    "    qc.rz(thetas[0], 0)\n",
    "    return qc\n",
    "thetas = np.zeros((1,))\n",
    "qc = qiskit.QuantumCircuit(1, 1)\n",
    "grad_psi1 = qtm.base_qtm.grad_psi(qc.copy(), a, thetas, r = 1/2, s = np.pi)\n",
    "print(grad_psi1)\n",
    "qc_copy = a(qc.copy(), thetas)\n",
    "psi = qiskit.quantum_info.Statevector.from_instruction(qc_copy).data\n",
    "F = qtm.quantum_fisher.create_QFIM(psi, grad_psi1)\n",
    "print(F)\n",
    "\n",
    "# F must be [[1]]"
   ]
  }
 ],
 "metadata": {
  "interpreter": {
   "hash": "770b641b4564229c593d803dcff32fdd6beb94e7a78ba8806c95b100ce213599"
  },
  "kernelspec": {
   "display_name": "Python 3.8.0 64-bit",
   "language": "python",
   "name": "python3"
  },
  "language_info": {
   "codemirror_mode": {
    "name": "ipython",
    "version": 3
   },
   "file_extension": ".py",
   "mimetype": "text/x-python",
   "name": "python",
   "nbconvert_exporter": "python",
   "pygments_lexer": "ipython3",
   "version": "3.8.0"
  },
  "orig_nbformat": 4
 },
 "nbformat": 4,
 "nbformat_minor": 2
}
