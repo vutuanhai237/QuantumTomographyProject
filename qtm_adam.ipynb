{
 "cells": [
  {
   "cell_type": "code",
   "execution_count": null,
   "metadata": {},
   "outputs": [],
   "source": [
    "def f(thetas):\n",
    "    return thetas[0] ** 2 + 10*np.sin(thetas[1] - 4)\n",
    "\n",
    "\n",
    "# derivative of objective function\n",
    "def df(thetas):\n",
    "    return np.asarray([2*thetas[0], 10*np.cos(thetas[1] - 4)])\n",
    "\n",
    "\n",
    "thetas = np.array([5, 10])\n",
    "loss = []\n",
    "for k in range(0, 10):\n",
    "    for i in range(0, thetas.shape[0]):\n",
    "        if i == 0:\n",
    "            m = list(np.zeros(thetas.shape[0]))\n",
    "            v = list(np.zeros(thetas.shape[0]))\n",
    "        thetas = qtm.base_qtm.adam(thetas, m, v, k, df(thetas))\n",
    "        \n",
    "        loss.append(f(thetas))\n",
    "        print(f(thetas))\n",
    "\n",
    "plt.plot(loss)\n",
    "plt.xlabel(\"Step\")\n",
    "plt.ylabel(\"Loss value\")\n",
    "plt.show()\n"
   ]
  }
 ],
 "metadata": {
  "language_info": {
   "name": "python"
  },
  "orig_nbformat": 4
 },
 "nbformat": 4,
 "nbformat_minor": 2
}
