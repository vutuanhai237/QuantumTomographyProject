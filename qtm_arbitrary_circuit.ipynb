{
 "cells": [
  {
   "cell_type": "code",
   "execution_count": 5,
   "metadata": {},
   "outputs": [],
   "source": [
    "import qiskit\n",
    "import numpy as np\n",
    "import qtm \n",
    "import qtm_multiqubit\n",
    "import constant "
   ]
  },
  {
   "cell_type": "code",
   "execution_count": 3,
   "metadata": {},
   "outputs": [
    {
     "name": "stdout",
     "output_type": "stream",
     "text": [
      "(14,)\n"
     ]
    }
   ],
   "source": [
    "n_qubits = 3\n",
    "thetas = np.random.uniform(low = 0, high = 2*np.pi, size = 2**(n_qubits + 1) - 2)\n",
    "print(thetas.shape)"
   ]
  },
  {
   "cell_type": "code",
   "execution_count": 4,
   "metadata": {},
   "outputs": [
    {
     "data": {
      "text/plain": [
       "'000'"
      ]
     },
     "execution_count": 4,
     "metadata": {},
     "output_type": "execute_result"
    }
   ],
   "source": [
    "\n",
    "\n",
    "get_counter(3)\n"
   ]
  },
  {
   "cell_type": "code",
   "execution_count": 5,
   "metadata": {},
   "outputs": [
    {
     "data": {
      "image/png": "[encoded data removed]",
      "text/plain": [
       "<Figure size 327.397x264.88 with 1 Axes>"
      ]
     },
     "execution_count": 5,
     "metadata": {},
     "output_type": "execute_result"
    }
   ],
   "source": [
    "def u_arbitrary(thetas):\n",
    "    qc = QuantumCircuit(n_qubits, n_qubits)\n",
    "    qc.rx(thetas[0], 0)\n",
    "    qc.ry(thetas[1], 0)\n",
    "    qc.rx(thetas[2], 1)\n",
    "    qc.ry(thetas[3], 1)\n",
    "    qc.rx(thetas[4], 2)\n",
    "    qc.ry(thetas[5], 2)\n",
    "    qc.rxx(thetas[6], 1, 2)\n",
    "    qc.rxy(thetas[7], 1, 2)\n",
    "    qc.rxx(thetas[8], 0, 1)\n",
    "    # qc.rxy(thetas[9], 0, 1)\n",
    "    # qc.rxx(thetas[10], 1, 2)\n",
    "    # qc.rxy(thetas[11], 1, 2)\n",
    "    return qc\n",
    "def grad_l_multiqubit(qc, thetas, r, s):\n",
    "    gradient_l = np.zeros((thetas).shape)\n",
    "    for i in range(0, len(thetas)):\n",
    "        thetas1, thetas2 = thetas.copy(), thetas.copy()\n",
    "        thetas2[i] -= s\n",
    "        thetas2[i] -= s\n",
    "        qc1 = u_arbitrary(qc.copy(), thetas1)\n",
    "        qc2 = u_arbitrary(qc.copy(), thetas2)\n",
    "        gradient_l[i] = -r*(\n",
    "            measure(qc1, range(qc1.num_qubits), range(qc1.num_qubits), counter) - \n",
    "            measure(qc2, range(qc2.num_qubits), range(qc2.num_qubits), counter))\n",
    "create_arbitrary_state(thetas).draw(output='mpl')"
   ]
  }
 ],
 "metadata": {
  "interpreter": {
   "hash": "b0bb45761e06d42ef60a7e329026c016a53b18e4ad51e16529481946724f1b50"
  },
  "kernelspec": {
   "display_name": "Python 3.7.6 64-bit",
   "name": "python3"
  },
  "language_info": {
   "codemirror_mode": {
    "name": "ipython",
    "version": 3
   },
   "file_extension": ".py",
   "mimetype": "text/x-python",
   "name": "python",
   "nbconvert_exporter": "python",
   "pygments_lexer": "ipython3",
   "version": "3.7.6"
  },
  "orig_nbformat": 4
 },
 "nbformat": 4,
 "nbformat_minor": 2
}
