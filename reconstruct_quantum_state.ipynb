{
 "cells": [
  {
   "cell_type": "code",
   "execution_count": 1,
   "source": [
    "from qiskit import *\r\n",
    "from qiskit.visualization import plot_histogram\r\n",
    "import numpy as np\r\n",
    "from matplotlib import pyplot as plt"
   ],
   "outputs": [],
   "metadata": {}
  },
  {
   "cell_type": "code",
   "execution_count": 2,
   "source": [
    "# Theta, phi, lambdaz is the params of u3 gate\r\n",
    "theta = np.random.uniform(0, np.pi)\r\n",
    "phi = np.random.uniform(0, 2*np.pi)\r\n",
    "lambdaz = 0\r\n",
    "# Thetas is the param of rz, rx, rz gates\r\n",
    "thetas = np.zeros([3,])\r\n",
    "sim = Aer.get_backend('qasm_simulator')\r\n",
    "number_of_shot = 10000\r\n",
    "learning_rate = 0.01\r\n",
    "\r\n",
    "print(theta)\r\n",
    "print(phi)\r\n"
   ],
   "outputs": [
    {
     "output_type": "stream",
     "name": "stdout",
     "text": [
      "2.224640421586099\n",
      "5.1422001586629404\n"
     ]
    }
   ],
   "metadata": {}
  },
  {
   "cell_type": "code",
   "execution_count": 3,
   "source": [
    "def construct_circuit(thetas):\r\n",
    "    \"\"\"Return one-qubit quantum circuit as instructions\r\n",
    "\r\n",
    "    Args:\r\n",
    "        thetas (np array): Params for U_theta gate\r\n",
    "\r\n",
    "    Returns:\r\n",
    "        QuantumCircuit\r\n",
    "    \"\"\"\r\n",
    "    qc = QuantumCircuit(1, 1)\r\n",
    "    qc.initialize([1, 0], 0)\r\n",
    "    qc.u3(theta, phi, lambdaz, 0)\r\n",
    "    qc.rz(thetas[0], 0)\r\n",
    "    qc.rx(thetas[1], 0)\r\n",
    "    qc.rz(thetas[2], 0)\r\n",
    "    qc.measure(0, 0)\r\n",
    "    return qc\r\n",
    "def get_l_value(qc):\r\n",
    "    \"\"\"Get P0 values by measurement\r\n",
    "\r\n",
    "    Args:\r\n",
    "        qc (QuantumCircuit)\r\n",
    "\r\n",
    "    Returns:\r\n",
    "        float: P0\r\n",
    "    \"\"\"\r\n",
    "    qobj = assemble(qc, shots = number_of_shot)  \r\n",
    "    counts = sim.run(qobj).result().get_counts()\r\n",
    "    return counts['0'] / number_of_shot\r\n",
    "def grad(thetas1, thetas2):\r\n",
    "    qc1 = construct_circuit(thetas1)\r\n",
    "    qc2 = construct_circuit(thetas2)\r\n",
    "    return get_l_value(qc1) - get_l_value(qc2)\r\n",
    "\r\n",
    "def grad_l(thetas):\r\n",
<<<<<<< HEAD
    "    \"\"\"\r\n",
    "    Params:\r\n",
=======
    "    \"\"\"Calculate gradient of quantum circuit by parameter shift rule\r\n",
    "    Here r = 1 and s = pi/4\r\n",
>>>>>>> b5297f0d90faf13c1bf57191ab1be9fb7c83fad7
    "        np array: grad of thetas\r\n",
    "    \"\"\"\r\n",
    "    gradient_l = np.zeros(len(thetas))\r\n",
    "    for i in range(0, len(thetas)):\r\n",
    "        thetas1, thetas2 = thetas.copy(), thetas.copy()\r\n",
    "        thetas1[i] -= np.pi/2\r\n",
    "        thetas2[i] += np.pi/2\r\n",
    "        gradient_l[i] = 1/2*grad(thetas1, thetas2)\r\n",
    "    return gradient_l\r\n",
    "\r\n",
    "# Calculate loss function in 100 steps\r\n",
    "# I confused in this point, is below code right?\r\n",
    "ls = []\r\n",
    "for i in range(0, 100):\r\n",
    "    thetas = thetas - learning_rate*grad_l(thetas)\r\n",
    "    l = 1 - get_l_value(construct_circuit(thetas))\r\n",
    "    ls.append(l)\r\n",
    "\r\n",
    "plt.plot(ls)\r\n",
    "plt.xlabel(\"Step\")\r\n",
    "plt.ylabel(\"Loss value\")\r\n",
    "plt.show()\r\n",
    "    \r\n"
   ],
   "outputs": [
    {
     "output_type": "stream",
     "name": "stderr",
     "text": [
      "C:\\Users\\haime\\AppData\\Local\\Programs\\Python\\Python37\\lib\\site-packages\\ipykernel_launcher.py:12: DeprecationWarning: The QuantumCircuit.u3 method is deprecated as of 0.16.0. It will be removed no earlier than 3 months after the release date. You should use QuantumCircuit.u instead, which acts identically. Alternatively, you can decompose u3 in terms of QuantumCircuit.p and QuantumCircuit.sx: u3(ϴ,φ,λ) = p(φ+π) sx p(ϴ+π) sx p(λ) (2 pulses on hardware).\n",
      "  if sys.path[0] == '':\n"
     ]
    },
    {
     "output_type": "display_data",
     "data": {
      "image/png": "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",
      "text/plain": [
       "<Figure size 432x288 with 1 Axes>"
      ]
     },
     "metadata": {
      "needs_background": "light"
     }
    }
   ],
   "metadata": {}
  }
 ],
 "metadata": {
  "orig_nbformat": 4,
  "language_info": {
   "name": "python",
   "version": "3.7.6",
   "mimetype": "text/x-python",
   "codemirror_mode": {
    "name": "ipython",
    "version": 3
   },
   "pygments_lexer": "ipython3",
   "nbconvert_exporter": "python",
   "file_extension": ".py"
  },
  "kernelspec": {
   "name": "python3",
   "display_name": "Python 3.7.6 64-bit"
  },
  "interpreter": {
   "hash": "b0bb45761e06d42ef60a7e329026c016a53b18e4ad51e16529481946724f1b50"
  }
 },
 "nbformat": 4,
 "nbformat_minor": 2
}
