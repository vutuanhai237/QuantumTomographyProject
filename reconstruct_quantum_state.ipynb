{
 "cells": [
  {
   "cell_type": "code",
   "execution_count": 7,
   "source": [
    "from qiskit import *\r\n",
    "from qiskit.visualization import plot_histogram\r\n",
    "import numpy as np\r\n",
    "from matplotlib import pyplot as plt\r\n",
    "import qiskit.quantum_info as qi\r\n",
    "from qiskit.visualization import plot_bloch_multivector\r\n",
    "from scipy.linalg import sqrtm"
   ],
   "outputs": [],
   "metadata": {}
  },
  {
   "cell_type": "code",
   "execution_count": 11,
   "source": [
    "def u_thetas(thetas, qc):\r\n",
    "    \"\"\"Create U_thetas sub circuit\r\n",
    "\r\n",
    "    Args:\r\n",
    "        thetas (numpy array): Param for Rz, Rx, Rz\r\n",
    "        qc (QuantumCircuit): current circuit\r\n",
    "\r\n",
    "    Returns:\r\n",
    "        QuantumCircuit: added circuit\r\n",
    "    \"\"\"\r\n",
    "    qc.rz(thetas[0], 0)\r\n",
    "    qc.rx(thetas[1], 0)\r\n",
    "    qc.rz(thetas[2], 0)\r\n",
    "    return qc\r\n",
    "    \r\n",
    "def get_psi_hat(thetas):\r\n",
    "    a = np.exp(-1j/2*(thetas[0]+thetas[2]))*np.cos(thetas[1]/2)\r\n",
    "    b = np.exp(-1j/2*(thetas[0]-thetas[2]))*1j*np.sin(thetas[1]/2)\r\n",
    "    return np.array([a, b])\r\n",
    "    \r\n",
    "\r\n",
    "def u_3(thetas):\r\n",
    "    qc = QuantumCircuit(1, 1)\r\n",
    "    qc.u3(theta, phi, lambdaz, 0)\r\n",
    "    \r\n",
    "    return qc\r\n",
    "def construct_circuit(thetas):\r\n",
    "    \"\"\"Return one-qubit quantum circuit as instructions\r\n",
    "\r\n",
    "    Args:\r\n",
    "        thetas (np array): Params for U_theta gate\r\n",
    "\r\n",
    "    Returns:\r\n",
    "        QuantumCircuit\r\n",
    "    \"\"\"\r\n",
    "    qc = u_3(thetas)\r\n",
    "    qc = u_thetas(thetas, qc)\r\n",
    "    qc.measure(0, 0)\r\n",
    "    return qc\r\n",
    "def measure(qc):\r\n",
    "    \"\"\"Get P0 values by measurement\r\n",
    "    Args:\r\n",
    "        qc (QuantumCircuit)\r\n",
    "    Returns:\r\n",
    "        float: P0\r\n",
    "    \"\"\"\r\n",
    "    qobj = assemble(qc, shots = number_of_shot)  \r\n",
    "    counts = sim.run(qobj).result().get_counts()\r\n",
    "    return counts['0'] / number_of_shot\r\n",
    "def grad(thetas1, thetas2):\r\n",
    "    qc1 = construct_circuit(thetas1)\r\n",
    "    qc2 = construct_circuit(thetas2)\r\n",
    "    return -1/2*(measure(qc1) - measure(qc2))\r\n",
    "\r\n",
    "def grad_l(thetas):\r\n",
    "    \"\"\"Calculate gradient of quantum circuit by parameter shift rule\r\n",
    "    Here r = 1 and s = pi/4\r\n",
    "        np array: grad of thetas\r\n",
    "    \"\"\"\r\n",
    "    gradient_l = np.zeros(len(thetas))\r\n",
    "    for i in range(0, len(thetas)):\r\n",
    "        thetas1, thetas2 = thetas.copy(), thetas.copy()\r\n",
    "        thetas1[i] += np.pi/2\r\n",
    "        thetas2[i] -= np.pi/2\r\n",
    "        gradient_l[i] = grad(thetas1, thetas2)\r\n",
    "    return gradient_l"
   ],
   "outputs": [],
   "metadata": {}
  },
  {
   "cell_type": "code",
   "execution_count": 12,
   "source": [
    "# Theta, phi, lambdaz is the params of u3 gate\r\n",
    "theta = np.random.uniform(0, np.pi)\r\n",
    "phi = np.random.uniform(0, 2*np.pi)\r\n",
    "lambdaz = 0\r\n",
    "# Thetas is the param of rz, rx, rz gates\r\n",
    "thetas = np.zeros([3,])\r\n",
    "sim = Aer.get_backend('qasm_simulator')\r\n",
    "number_of_shot = 10000\r\n",
    "learning_rate = 0.1\r\n",
    "# Calculate loss function in 100 steps\r\n",
    "# I confused in this point, is below code right?\r\n",
    "ls = []\r\n",
    "for i in range(0, 150):\r\n",
    "    thetas = thetas - learning_rate*grad_l(thetas)\r\n",
    "    qc = construct_circuit(thetas)\r\n",
    "    l = 1 - measure(qc)\r\n",
    "    ls.append(l)\r\n",
    "    if i % 10 == 0:\r\n",
    "        print('Step ' + str(i) + ': ' + str(l) )\r\n",
    "\r\n",
    "print(qc.draw())\r\n",
    "psi = qi.Statevector.from_instruction(u_3(thetas))\r\n",
    "psi_hat = qi.Statevector(get_psi_hat(thetas))\r\n",
    "rho_psi = qi.DensityMatrix(psi)\r\n",
    "rho_psi_hat = qi.DensityMatrix(psi_hat)\r\n",
    "\r\n",
    "print(psi)\r\n",
    "print(rho_psi)\r\n",
    "print(psi_hat)\r\n",
    "print(rho_psi_hat)\r\n",
    "\r\n",
    "plt.show()\r\n",
    "plt.plot(ls)\r\n",
    "plt.xlabel(\"Step\")\r\n",
    "plt.ylabel(\"Loss value\")\r\n",
    "plt.show()\r\n",
    "    "
   ],
   "outputs": [
    {
     "output_type": "stream",
     "name": "stdout",
     "text": [
      "Step 0: 0.5819\n",
      "Step 10: 0.3488\n",
      "Step 20: 0.16859999999999997\n",
      "Step 30: 0.07220000000000004\n",
      "Step 40: 0.025499999999999967\n",
      "Step 50: 0.011399999999999966\n",
      "Step 60: 0.0040000000000000036\n",
      "Step 70: 0.0013999999999999568\n",
      "Step 80: 0.00039999999999995595\n",
      "Step 90: 0.00029999999999996696\n",
      "Step 100: 0.0\n",
      "Step 110: 0.0\n",
      "Step 120: 0.0\n",
      "Step 130: 0.0\n",
      "Step 140: 0.0\n",
      "     ┌────────────────────┐┌─────────────┐┌─────────────┐┌──────────────┐┌─┐\n",
      "q_0: ┤ U3(1.7821,4.996,0) ├┤ RZ(-0.2839) ├┤ RX(-1.7807) ├┤ RZ(0.002725) ├┤M├\n",
      "     └────────────────────┘└─────────────┘└─────────────┘└──────────────┘└╥┘\n",
      "c: 1/═════════════════════════════════════════════════════════════════════╩═\n",
      "                                                                          0 \n",
      "Statevector([0.62859733+0.j        , 0.21765238-0.74665443j],\n",
      "            dims=(2,))\n",
      "DensityMatrix([[0.39513461+0.j        , 0.13681571+0.46934498j],\n",
      "               [0.13681571-0.46934498j, 0.60486539+0.j        ]],\n",
      "              dims=(2,))\n",
      "Statevector([0.62292897+0.0881576j , 0.11101518-0.76932656j],\n",
      "            dims=(2,))\n",
      "DensityMatrix([[0.39581227+0.j        , 0.00133259+0.48902264j],\n",
      "               [0.00133259-0.48902264j, 0.60418773+0.j        ]],\n",
      "              dims=(2,))\n"
     ]
    },
    {
     "output_type": "display_data",
     "data": {
      "image/png": "[encoded data removed]",
      "text/plain": [
       "<Figure size 432x288 with 1 Axes>"
      ]
     },
     "metadata": {
      "needs_background": "light"
     }
    }
   ],
   "metadata": {}
  },
  {
   "cell_type": "code",
   "execution_count": 13,
   "source": [
    "def trace_distance(rho_psi, rho_psi_hat):\r\n",
    "    \"\"\"Since density matrices are Hermitian,\r\n",
    "    so trace distance is 1/2 (Sigma(|lambdas|)) with lambdas are the eigenvalues of \r\n",
    "    (rho_psi - rho_psi_hat) matrix\r\n",
    "\r\n",
    "    Args:\r\n",
    "        rho_psi (DensityMatrix): psi,\r\n",
    "        rho_psi_hat (DensityMatrix): psi hat\r\n",
    "    \"\"\"\r\n",
    "    pq = (rho_psi - rho_psi_hat).data\r\n",
    "    w, v = (np.linalg.eig(pq))\r\n",
    "    return (1/2*sum(abs(w)))\r\n",
    "\r\n",
    "\r\n",
    "def trace_fidelity(rho_psi, rho_psi_hat):\r\n",
    "    rho_psi = rho_psi.data\r\n",
    "    rho_psi_hat = rho_psi_hat.data\r\n",
    "    temp = ((sqrtm(rho_psi)).dot(rho_psi_hat)).dot(sqrtm(rho_psi))\r\n",
    "    temp = sqrtm(temp)\r\n",
    "    return np.trace(temp)\r\n",
    "\r\n",
    "\r\n",
    "print(trace_distance(rho_psi, rho_psi_hat))\r\n",
    "# I get real part because the imaginary part ~ 0\r\n",
    "print(np.real(trace_fidelity(rho_psi, rho_psi_hat)))\r\n"
   ],
   "outputs": [
    {
     "output_type": "stream",
     "name": "stdout",
     "text": [
      "0.1369063330465517\n",
      "0.9905840026804567\n"
     ]
    }
   ],
   "metadata": {}
  }
 ],
 "metadata": {
  "orig_nbformat": 4,
  "language_info": {
   "name": "python",
   "version": "3.7.6",
   "mimetype": "text/x-python",
   "codemirror_mode": {
    "name": "ipython",
    "version": 3
   },
   "pygments_lexer": "ipython3",
   "nbconvert_exporter": "python",
   "file_extension": ".py"
  },
  "kernelspec": {
   "name": "python3",
   "display_name": "Python 3.7.6 64-bit"
  },
  "interpreter": {
   "hash": "b0bb45761e06d42ef60a7e329026c016a53b18e4ad51e16529481946724f1b50"
  }
 },
 "nbformat": 4,
 "nbformat_minor": 2
}