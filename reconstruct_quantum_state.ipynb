{
 "cells": [
  {
   "cell_type": "code",
   "execution_count": 47,
   "source": [
    "from qiskit import *\r\n",
    "from qiskit.visualization import plot_histogram\r\n",
    "import numpy as np\r\n",
    "from matplotlib import pyplot as plt\r\n",
    "import qiskit.quantum_info as qi\r\n",
    "from qiskit.visualization import plot_bloch_multivector\r\n",
    "from scipy.linalg import sqrtm"
   ],
   "outputs": [],
   "metadata": {}
  },
  {
   "cell_type": "code",
   "execution_count": 48,
   "source": [
    "def u_thetas(thetas, qc):\r\n",
    "    \"\"\"Create U_thetas sub circuit\r\n",
    "\r\n",
    "    Args:\r\n",
    "        thetas (numpy array): Param for Rz, Rx, Rz\r\n",
    "        qc (QuantumCircuit): current circuit\r\n",
    "\r\n",
    "    Returns:\r\n",
    "        QuantumCircuit: added circuit\r\n",
    "    \"\"\"\r\n",
    "    qc.rz(thetas[0], 0)\r\n",
    "    qc.rx(thetas[1], 0)\r\n",
    "    qc.rz(thetas[2], 0)\r\n",
    "    return qc\r\n",
    "    \r\n",
    "def get_psi_hat(thetas):\r\n",
    "    a = np.exp(1j/2*(thetas[0]+thetas[2]))*np.cos(thetas[1]/2)\r\n",
    "    b = np.exp(1j/2*(thetas[0]-thetas[2]))*1j*np.sin(thetas[1]/2)\r\n",
    "    return np.array([a, b])\r\n",
    "    \r\n",
    "\r\n",
    "def u_3(thetas):\r\n",
    "    qc = QuantumCircuit(1, 1)\r\n",
    "    qc.u3(theta, phi, lambdaz, 0)\r\n",
    "    psi = qi.Statevector.from_instruction(qc)\r\n",
    "    qc = u_thetas(thetas, qc)\r\n",
    "    return qc\r\n",
    "def construct_circuit(thetas):\r\n",
    "    \"\"\"Return one-qubit quantum circuit as instructions\r\n",
    "\r\n",
    "    Args:\r\n",
    "        thetas (np array): Params for U_theta gate\r\n",
    "\r\n",
    "    Returns:\r\n",
    "        QuantumCircuit\r\n",
    "    \"\"\"\r\n",
    "    qc = u_3(thetas)\r\n",
    "    qc.measure(0, 0)\r\n",
    "    return qc\r\n",
    "def measure(qc):\r\n",
    "    \"\"\"Get P0 values by measurement\r\n",
    "    Args:\r\n",
    "        qc (QuantumCircuit)\r\n",
    "    Returns:\r\n",
    "        float: P0\r\n",
    "    \"\"\"\r\n",
    "    qobj = assemble(qc, shots = number_of_shot)  \r\n",
    "    counts = sim.run(qobj).result().get_counts()\r\n",
    "    return counts['0'] / number_of_shot\r\n",
    "def grad(thetas1, thetas2):\r\n",
    "    qc1 = construct_circuit(thetas1)\r\n",
    "    qc2 = construct_circuit(thetas2)\r\n",
    "    return -1/2*(measure(qc1) - measure(qc2))\r\n",
    "\r\n",
    "def grad_l(thetas):\r\n",
    "    \"\"\"Calculate gradient of quantum circuit by parameter shift rule\r\n",
    "    Here r = 1 and s = pi/4\r\n",
    "        np array: grad of thetas\r\n",
    "    \"\"\"\r\n",
    "    gradient_l = np.zeros(len(thetas))\r\n",
    "    for i in range(0, len(thetas)):\r\n",
    "        thetas1, thetas2 = thetas.copy(), thetas.copy()\r\n",
    "        thetas1[i] += np.pi/2\r\n",
    "        thetas2[i] -= np.pi/2\r\n",
    "        gradient_l[i] = grad(thetas1, thetas2)\r\n",
    "    return gradient_l"
   ],
   "outputs": [],
   "metadata": {}
  },
  {
   "cell_type": "code",
   "execution_count": 49,
   "source": [
    "# Theta, phi, lambdaz is the params of u3 gate\r\n",
    "theta = np.random.uniform(0, np.pi)\r\n",
    "phi = np.random.uniform(0, 2*np.pi)\r\n",
    "lambdaz = 0\r\n",
    "# Thetas is the param of rz, rx, rz gates\r\n",
    "thetas = np.zeros([3,])\r\n",
    "sim = Aer.get_backend('qasm_simulator')\r\n",
    "number_of_shot = 10000\r\n",
    "learning_rate = 0.1\r\n",
    "# Calculate loss function in 100 steps\r\n",
    "# I confused in this point, is below code right?\r\n",
    "ls = []\r\n",
    "for i in range(0, 150):\r\n",
    "    thetas = thetas - learning_rate*grad_l(thetas)\r\n",
    "    qc = construct_circuit(thetas)\r\n",
    "    l = 1 - measure(qc)\r\n",
    "    ls.append(l)\r\n",
    "    if i % 10 == 0:\r\n",
    "        print('Step ' + str(i) + ': ' + str(l) )\r\n",
    "\r\n",
    "psi = qi.Statevector.from_instruction(u_3(thetas))\r\n",
    "psi_hat = qi.Statevector(get_psi_hat(thetas))\r\n",
    "rho_psi = qi.DensityMatrix(psi)\r\n",
    "rho_psi_hat = qi.DensityMatrix(psi_hat)\r\n",
    "\r\n",
    "print(psi)\r\n",
    "print(rho_psi)\r\n",
    "print(psi_hat)\r\n",
    "print(rho_psi_hat)\r\n",
    "\r\n",
    "plt.show()\r\n",
    "plt.plot(ls)\r\n",
    "plt.xlabel(\"Step\")\r\n",
    "plt.ylabel(\"Loss value\")\r\n",
    "plt.show()\r\n",
    "    "
   ],
   "outputs": [
    {
     "output_type": "stream",
     "name": "stdout",
     "text": [
      "Step 0: 0.348\n",
      "Step 10: 0.2653\n",
      "Step 20: 0.18389999999999995\n",
      "Step 30: 0.10609999999999997\n",
      "Step 40: 0.05230000000000001\n",
      "Step 50: 0.02210000000000001\n",
      "Step 60: 0.009000000000000008\n",
      "Step 70: 0.0040000000000000036\n",
      "Step 80: 0.0013999999999999568\n",
      "Step 90: 0.0008000000000000229\n",
      "Step 100: 0.00029999999999996696\n",
      "Step 110: 9.999999999998899e-05\n",
      "Step 120: 0.0\n",
      "Step 130: 0.0\n",
      "Step 140: 0.0\n",
      "Statevector([9.05448788e-01+0.42445486j, 5.09627834e-04-0.00055408j],\n",
      "            dims=(2,))\n",
      "DensityMatrix([[9.99999433e-01+0.j      , 2.26260459e-04+0.000718j],\n",
      "               [2.26260459e-04-0.000718j, 5.66723870e-07+0.j      ]],\n",
      "              dims=(2,))\n",
      "Statevector([ 0.72604553-0.34020406j, -0.25240952-0.54167196j],\n",
      "            dims=(2,))\n",
      "DensityMatrix([[0.64288092+0.j        , 0.00101819+0.47914925j],\n",
      "               [0.00101819-0.47914925j, 0.35711908+0.j        ]],\n",
      "              dims=(2,))\n"
     ]
    },
    {
     "output_type": "display_data",
     "data": {
      "image/png": "[encoded data removed]",
      "text/plain": [
       "<Figure size 432x288 with 1 Axes>"
      ]
     },
     "metadata": {
      "needs_background": "light"
     }
    }
   ],
   "metadata": {}
  },
  {
   "cell_type": "code",
   "execution_count": 50,
   "source": [
    "def trace_distance(rho_psi, rho_psi_hat):\r\n",
    "    \"\"\"Since density matrices are Hermitian,\r\n",
    "    so trace distance is 1/2 (Sigma(|lambdas|)) with lambdas are the eigenvalues of \r\n",
    "    (rho_psi - rho_psi_hat) matrix\r\n",
    "\r\n",
    "    Args:\r\n",
    "        rho_psi (DensityMatrix): psi,\r\n",
    "        rho_psi_hat (DensityMatrix): psi hat\r\n",
    "    \"\"\"\r\n",
    "    pq = (rho_psi - rho_psi_hat).data\r\n",
    "    w, v = (np.linalg.eig(pq))\r\n",
    "    return (1/2*sum(abs(w)))\r\n",
    "\r\n",
    "\r\n",
    "def trace_fidelity(rho_psi, rho_psi_hat):\r\n",
    "    rho_psi = rho_psi.data\r\n",
    "    rho_psi_hat = rho_psi_hat.data\r\n",
    "    temp = ((sqrtm(rho_psi)).dot(rho_psi_hat)).dot(sqrtm(rho_psi))\r\n",
    "    temp = sqrtm(temp)\r\n",
    "    return np.trace(temp)\r\n",
    "\r\n",
    "\r\n",
    "print(trace_distance(rho_psi, rho_psi_hat))\r\n",
    "# I get real part because the imaginary part ~ 0\r\n",
    "print(np.real(trace_fidelity(rho_psi, rho_psi_hat)))\r\n"
   ],
   "outputs": [
    {
     "output_type": "stream",
     "name": "stdout",
     "text": [
      "0.5970181889928372\n",
      "0.80222769961214\n"
     ]
    }
   ],
   "metadata": {}
  }
 ],
 "metadata": {
  "orig_nbformat": 4,
  "language_info": {
   "name": "python",
   "version": "3.7.6",
   "mimetype": "text/x-python",
   "codemirror_mode": {
    "name": "ipython",
    "version": 3
   },
   "pygments_lexer": "ipython3",
   "nbconvert_exporter": "python",
   "file_extension": ".py"
  },
  "kernelspec": {
   "name": "python3",
   "display_name": "Python 3.7.6 64-bit"
  },
  "interpreter": {
   "hash": "b0bb45761e06d42ef60a7e329026c016a53b18e4ad51e16529481946724f1b50"
  }
 },
 "nbformat": 4,
 "nbformat_minor": 2
}