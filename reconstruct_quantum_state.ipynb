{
 "cells": [
  {
   "cell_type": "code",
   "execution_count": 16,
   "source": [
    "from qiskit import *\r\n",
    "from qiskit.visualization import plot_histogram\r\n",
    "import numpy as np\r\n",
    "from matplotlib import pyplot as plt\r\n",
    "import qiskit.quantum_info as qi\r\n",
    "from qiskit.visualization import plot_bloch_multivector"
   ],
   "outputs": [],
   "metadata": {}
  },
  {
   "cell_type": "code",
   "execution_count": 12,
   "source": [
    "\r\n",
    "def u_thetas(thetas, qc):\r\n",
    "    \"\"\"Create U_thetas sub circuit\r\n",
    "\r\n",
    "    Args:\r\n",
    "        thetas (numpy array): Param for Rz, Rx, Rz\r\n",
    "        qc (QuantumCircuit): current circuit\r\n",
    "\r\n",
    "    Returns:\r\n",
    "        QuantumCircuit: added circuit\r\n",
    "    \"\"\"\r\n",
    "    qc.rz(thetas[0], 0)\r\n",
    "    qc.rx(thetas[1], 0)\r\n",
    "    qc.rz(thetas[2], 0)\r\n",
    "    return qc\r\n",
    "# def get_psi_hat(thetas):\r\n",
    "#     a = np.exp(1j/2*(thetas[0]+thetas[2]))*np.cos(thetas[1]/2)\r\n",
    "#     b = np.exp(1j/2*(thetas[0]-thetas[2]))*1j*np.sin(thetas[1]/2)\r\n",
    "#     return np.array([a, b])\r\n",
    "    \r\n",
    "def u_thetas_hat(thetas):\r\n",
    "    qc = QuantumCircuit(1,1)\r\n",
    "    qc.rz(thetas[2], 0).inverse()\r\n",
    "    qc.rx(thetas[1], 0).inverse()\r\n",
    "    qc.rz(thetas[0], 0).inverse() \r\n",
    "    return qc\r\n",
    "\r\n",
    "def u_3(thetas):\r\n",
    "    qc = QuantumCircuit(1, 1)\r\n",
    "    qc.u3(theta, phi, lambdaz, 0)\r\n",
    "    psi = qi.Statevector.from_instruction(qc)\r\n",
    "    qc = u_thetas(thetas, qc)\r\n",
    "    return qc\r\n",
    "def construct_circuit(thetas):\r\n",
    "    \"\"\"Return one-qubit quantum circuit as instructions\r\n",
    "\r\n",
    "    Args:\r\n",
    "        thetas (np array): Params for U_theta gate\r\n",
    "\r\n",
    "    Returns:\r\n",
    "        QuantumCircuit\r\n",
    "    \"\"\"\r\n",
    "    qc = u_3(thetas)\r\n",
    "    qc.measure(0, 0)\r\n",
    "    return qc\r\n",
    "def measure(qc):\r\n",
    "    \"\"\"Get P0 values by measurement\r\n",
    "    Args:\r\n",
    "        qc (QuantumCircuit)\r\n",
    "    Returns:\r\n",
    "        float: P0\r\n",
    "    \"\"\"\r\n",
    "    qobj = assemble(qc, shots = number_of_shot)  \r\n",
    "    counts = sim.run(qobj).result().get_counts()\r\n",
    "    return counts['0'] / number_of_shot\r\n",
    "def grad(thetas1, thetas2):\r\n",
    "    qc1 = construct_circuit(thetas1)\r\n",
    "    qc2 = construct_circuit(thetas2)\r\n",
    "    return -1/2*(measure(qc1) - measure(qc2))\r\n",
    "\r\n",
    "def grad_l(thetas):\r\n",
    "    \"\"\"Calculate gradient of quantum circuit by parameter shift rule\r\n",
    "    Here r = 1 and s = pi/4\r\n",
    "        np array: grad of thetas\r\n",
    "    \"\"\"\r\n",
    "    gradient_l = np.zeros(len(thetas))\r\n",
    "    for i in range(0, len(thetas)):\r\n",
    "        thetas1, thetas2 = thetas.copy(), thetas.copy()\r\n",
    "        thetas1[i] += np.pi/2\r\n",
    "        thetas2[i] -= np.pi/2\r\n",
    "        gradient_l[i] = grad(thetas1, thetas2)\r\n",
    "    return gradient_l"
   ],
   "outputs": [],
   "metadata": {}
  },
  {
   "cell_type": "code",
   "execution_count": 17,
   "source": [
    "# Theta, phi, lambdaz is the params of u3 gate\r\n",
    "theta = np.random.uniform(0, np.pi)\r\n",
    "phi = np.random.uniform(0, 2*np.pi)\r\n",
    "lambdaz = 0\r\n",
    "# Thetas is the param of rz, rx, rz gates\r\n",
    "thetas = np.zeros([3,])\r\n",
    "sim = Aer.get_backend('qasm_simulator')\r\n",
    "number_of_shot = 10000\r\n",
    "learning_rate = 0.1\r\n",
    "# Calculate loss function in 100 steps\r\n",
    "# I confused in this point, is below code right?\r\n",
    "ls = []\r\n",
    "for i in range(0, 100):\r\n",
    "    thetas = thetas - learning_rate*grad_l(thetas)\r\n",
    "    qc = construct_circuit(thetas)\r\n",
    "    qc_hat = u_thetas_hat(thetas)\r\n",
    "    l = 1 - measure(qc)\r\n",
    "    ls.append(l)\r\n",
    "\r\n",
    "psi = qi.Statevector.from_instruction(u_3(thetas))\r\n",
    "psi_hat = qi.Statevector.from_instruction(qc_hat)\r\n",
    "rho_psi = qi.DensityMatrix.from_instruction(u_3(thetas))\r\n",
    "rho_psi_hat = qi.DensityMatrix.from_instruction(qc_hat)\r\n",
    "print(psi)\r\n",
    "print(rho_psi)\r\n",
    "print(psi_hat)\r\n",
    "print(rho_psi_hat)\r\n",
    "# plot_bloch_multivector(psi, title=\"Psi\")\r\n",
    "# plot_bloch_multivector(psi_hat, title=\"Psi_hat\")\r\n",
    "\r\n",
    "plt.show()\r\n",
    "plt.plot(ls)\r\n",
    "plt.xlabel(\"Step\")\r\n",
    "plt.ylabel(\"Loss value\")\r\n",
    "plt.show()\r\n",
    "    "
   ],
   "outputs": [
    {
     "output_type": "stream",
     "name": "stdout",
     "text": [
      "Statevector([ 0.8565822 +0.51230722j, -0.06086191-0.01020175j],\n",
      "            dims=(2,))\n",
      "DensityMatrix([[ 0.99619175+0.00000000e+00j, -0.05735966-2.24413562e-02j],\n",
      "               [-0.05735966+2.24413562e-02j,  0.00380825-1.38777878e-17j]],\n",
      "              dims=(2,))\n",
      "Statevector([ 0.77701661+0.43376177j, -0.22201628-0.39850305j],\n",
      "            dims=(2,))\n",
      "DensityMatrix([[ 0.79190409+0.j        , -0.34536572+0.21334132j],\n",
      "               [-0.34536572-0.21334132j,  0.20809591+0.j        ]],\n",
      "              dims=(2,))\n"
     ]
    },
    {
     "output_type": "display_data",
     "data": {
      "image/png": "[encoded data removed]",
      "text/plain": [
       "<Figure size 432x288 with 1 Axes>"
      ]
     },
     "metadata": {
      "needs_background": "light"
     }
    }
   ],
   "metadata": {}
  },
  {
   "cell_type": "code",
   "execution_count": 50,
   "source": [
    "from numpy import linalg as LA\r\n",
    "pq = rho_psi - rho_psi_hat\r\n",
    "a = np.zeros((2,2), dtype=complex)\r\n",
    "a[0][0] = (pq.to_dict())['0|0']\r\n",
    "a[0][1] = (pq.to_dict())['0|1']\r\n",
    "a[1][0] = (pq.to_dict())['1|0']\r\n",
    "a[1][1] = (pq.to_dict())['1|1']\r\n",
    "print(rho_psi)\r\n",
    "print(rho_psi_hat)\r\n",
    "w, v = (LA.eig(a))\r\n",
    "print(w)\r\n",
    "print(1/2*sum(abs(w)))"
   ],
   "outputs": [
    {
     "output_type": "stream",
     "name": "stdout",
     "text": [
      "DensityMatrix([[ 0.99619175+0.00000000e+00j, -0.05735966-2.24413562e-02j],\n",
      "               [-0.05735966+2.24413562e-02j,  0.00380825-1.38777878e-17j]],\n",
      "              dims=(2,))\n",
      "DensityMatrix([[ 0.79190409+0.j        , -0.34536572+0.21334132j],\n",
      "               [-0.34536572-0.21334132j,  0.20809591+0.j        ]],\n",
      "              dims=(2,))\n",
      "[ 0.42458734-3.15322643e-17j -0.42458734+3.77668868e-18j]\n",
      "0.4245873411079507\n"
     ]
    }
   ],
   "metadata": {}
  }
 ],
 "metadata": {
  "orig_nbformat": 4,
  "language_info": {
   "name": "python",
   "version": "3.7.6",
   "mimetype": "text/x-python",
   "codemirror_mode": {
    "name": "ipython",
    "version": 3
   },
   "pygments_lexer": "ipython3",
   "nbconvert_exporter": "python",
   "file_extension": ".py"
  },
  "kernelspec": {
   "name": "python3",
   "display_name": "Python 3.7.6 64-bit"
  },
  "interpreter": {
   "hash": "b0bb45761e06d42ef60a7e329026c016a53b18e4ad51e16529481946724f1b50"
  }
 },
 "nbformat": 4,
 "nbformat_minor": 2
}