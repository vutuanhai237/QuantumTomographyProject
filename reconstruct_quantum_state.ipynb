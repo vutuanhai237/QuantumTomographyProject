{
 "cells": [
  {
   "cell_type": "code",
   "execution_count": 5,
   "source": [
    "from qiskit import *\r\n",
    "from qiskit.visualization import plot_histogram\r\n",
    "import numpy as np\r\n",
    "from matplotlib import pyplot as plt"
   ],
   "outputs": [],
   "metadata": {}
  },
  {
   "cell_type": "code",
   "execution_count": 34,
   "source": [
    "# Theta, phi, lambdaz is the params of u3 gate\r\n",
    "theta = np.random.normal(0, 0.5)\r\n",
    "phi = np.random.normal(0, 0.5)\r\n",
    "lambdaz = 0\r\n",
    "# Thetas is the param of rz, rx, rz gates\r\n",
    "thetas = np.ones([3,])\r\n",
    "sim = Aer.get_backend('qasm_simulator')\r\n",
    "number_of_shot = 10000\r\n",
    "learning_rate = 0.01\r\n"
   ],
   "outputs": [],
   "metadata": {}
  },
  {
   "cell_type": "code",
   "execution_count": 38,
   "source": [
    "def construct_circuit(thetas):\r\n",
    "    \"\"\"Return one-qubit quantum circuit as instructions\r\n",
    "\r\n",
    "    Args:\r\n",
    "        thetas (np array): Params for U_theta gate\r\n",
    "\r\n",
    "    Returns:\r\n",
    "        QuantumCircuit\r\n",
    "    \"\"\"\r\n",
    "    qc = QuantumCircuit(1, 1)\r\n",
    "    qc.initialize([1, 0], 0)\r\n",
    "    qc.u3(theta, phi, lambdaz, 0)\r\n",
    "    qc.rz(thetas[0], 0)\r\n",
    "    qc.rx(thetas[1], 0)\r\n",
    "    qc.rz(thetas[2], 0)\r\n",
    "    qc.measure(0, 0)\r\n",
    "    return qc\r\n",
    "def get_l_value(qc):\r\n",
    "    \"\"\"Get P0 values by measurement\r\n",
    "\r\n",
    "    Args:\r\n",
    "        qc (QuantumCircuit)\r\n",
    "\r\n",
    "    Returns:\r\n",
    "        float: P0\r\n",
    "    \"\"\"\r\n",
    "    qobj = assemble(qc, shots = number_of_shot)  \r\n",
    "    counts = sim.run(qobj).result().get_counts()\r\n",
    "    return counts['0'] / number_of_shot\r\n",
    "def grad(thetas1, thetas2):\r\n",
    "    qc1 = construct_circuit(thetas1)\r\n",
    "    qc2 = construct_circuit(thetas2)\r\n",
    "    return get_l_value(qc1) - get_l_value(qc2)\r\n",
    "\r\n",
    "def grad_l(thetas):\r\n",
    "    \"\"\"Calculate gradient of quantum circuit by parameter shift rult\r\n",
    "    Here r = 1 and s = pi/4\r\n",
    "        np array: grad of thetas\r\n",
    "    \"\"\"\r\n",
    "    gradient_l = np.zeros(len(thetas))\r\n",
    "    for i in range(0, len(thetas)):\r\n",
    "        thetas1, thetas2 = thetas.copy(), thetas.copy()\r\n",
    "        thetas1[i] += np.pi/4\r\n",
    "        thetas2[i] -= np.pi/4\r\n",
    "        gradient_l[i] = grad(thetas1, thetas2)\r\n",
    "    return gradient_l\r\n",
    "\r\n",
    "# Calculate loss function in 100 steps\r\n",
    "# I confused in this point, is below code right?\r\n",
    "ls = []\r\n",
    "for i in range(0, 100):\r\n",
    "    thetas = thetas + learning_rate*grad_l(thetas)\r\n",
    "    l = 1 - get_l_value(construct_circuit(thetas))\r\n",
    "    ls.append(l)\r\n",
    "\r\n",
    "plt.plot(ls)\r\n",
    "plt.xlabel(\"Step\")\r\n",
    "plt.ylabel(\"Loss value\")\r\n",
    "plt.show()\r\n",
    "    \r\n"
   ],
   "outputs": [
    {
     "output_type": "display_data",
     "data": {
      "image/png": "[encoded data removed]",
      "text/plain": [
       "<Figure size 432x288 with 1 Axes>"
      ]
     },
     "metadata": {
      "needs_background": "light"
     }
    }
   ],
   "metadata": {}
  }
 ],
 "metadata": {
  "orig_nbformat": 4,
  "language_info": {
   "name": "python",
   "version": "3.7.6",
   "mimetype": "text/x-python",
   "codemirror_mode": {
    "name": "ipython",
    "version": 3
   },
   "pygments_lexer": "ipython3",
   "nbconvert_exporter": "python",
   "file_extension": ".py"
  },
  "kernelspec": {
   "name": "python3",
   "display_name": "Python 3.7.6 64-bit"
  },
  "interpreter": {
   "hash": "b0bb45761e06d42ef60a7e329026c016a53b18e4ad51e16529481946724f1b50"
  }
 },
 "nbformat": 4,
 "nbformat_minor": 2
}